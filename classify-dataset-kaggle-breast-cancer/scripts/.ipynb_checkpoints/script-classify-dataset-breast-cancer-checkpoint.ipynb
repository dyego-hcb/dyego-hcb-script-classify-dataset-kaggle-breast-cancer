{
 "cells": [
  {
   "cell_type": "markdown",
   "metadata": {
    "id": "fQJ5CYV9Te0X",
    "jp-MarkdownHeadingCollapsed": true
   },
   "source": [
    "# **DESAFIO 01 - APRENDIZAGEM SUPERVISIONADA: CLASSIFICAÇÃO DO DATASET CÂNCER DE MAMA DO REPOSITORIO KAGGLE**"
   ]
  },
  {
   "cell_type": "markdown",
   "metadata": {
    "id": "kXFCCsVHTtTP"
   },
   "source": [
    "Este projeto tem como objetivo desenvolver um modelo de Machine Learning para prever a probabilidade de um tumor mamário ser benigno ou maligno. A análise será conduzida com base em características extraídas de imagens digitalizadas de biópsias por aspiração com agulha fina (FNA) de massas mamárias. Utilizando o conjunto de dados do Breast Cancer Wisconsin (Diagnostic), empregaremos diversas técnicas de classificação para examinar variáveis clínicas e laboratoriais — incluindo raio, textura, perímetro, área, suavidade, compactação, concavidade e pontos concavos das células nucleares — com o intuito de construir um modelo preditivo robusto.\n",
    "\n",
    "Para determinar a técnica mais eficaz, realizaremos uma comparação sistemática dos seguintes métodos, utilizando suas configurações padrão, para identificar aquele que oferece a melhor performance:\n",
    "\n",
    "    Naive Bayes\n",
    "    Máquinas de Vetores de Suporte (SVM)\n",
    "    Regressão Logística\n",
    "    Aprendizagem Baseada em Instâncias (KNN)\n",
    "    Árvore de Decisão\n",
    "    Random Forest\n",
    "    XGBoost\n",
    "    LightGBM\n",
    "    CatBoost\n",
    "\n",
    "Cada método será avaliado com base na sua precisão, recall, F1-score, e outras métricas relevantes, permitindo-nos selecionar o algoritmo mais adequado para nosso modelo preditivo."
   ]
  },
  {
   "cell_type": "markdown",
   "metadata": {
    "id": "5ZQ2nYhQUc3G"
   },
   "source": [
    "Os dados foram extraídos do site do Kaggle:\n",
    "\n",
    "https://www.kaggle.com/datasets/uciml/breast-cancer-wisconsin-data"
   ]
  },
  {
   "cell_type": "markdown",
   "metadata": {},
   "source": [
    "# **EXPLORAÇÃO, ANÁLISE E TRATAMENTO DOS DADOS: PROJETO PREVISÃO DE CÂNCER DE MAMA**"
   ]
  },
  {
   "cell_type": "markdown",
   "metadata": {
    "jp-MarkdownHeadingCollapsed": true
   },
   "source": [
    "## **Exploração dos Dados**"
   ]
  },
  {
   "cell_type": "code",
   "execution_count": 1,
   "metadata": {},
   "outputs": [],
   "source": [
    "import numpy as np\n",
    "import pandas as pd"
   ]
  },
  {
   "cell_type": "code",
   "execution_count": 2,
   "metadata": {},
   "outputs": [],
   "source": [
    "dados = pd.read_csv('../database/data_cancer2.csv',\n",
    "                    sep=',', encoding='utf-8')"
   ]
  },
  {
   "cell_type": "code",
   "execution_count": 3,
   "metadata": {},
   "outputs": [
    {
     "data": {
      "text/html": [
       "<div>\n",
       "<style scoped>\n",
       "    .dataframe tbody tr th:only-of-type {\n",
       "        vertical-align: middle;\n",
       "    }\n",
       "\n",
       "    .dataframe tbody tr th {\n",
       "        vertical-align: top;\n",
       "    }\n",
       "\n",
       "    .dataframe thead th {\n",
       "        text-align: right;\n",
       "    }\n",
       "</style>\n",
       "<table border=\"1\" class=\"dataframe\">\n",
       "  <thead>\n",
       "    <tr style=\"text-align: right;\">\n",
       "      <th></th>\n",
       "      <th>id</th>\n",
       "      <th>diagnosis</th>\n",
       "      <th>radius_mean</th>\n",
       "      <th>texture_mean</th>\n",
       "      <th>perimeter_mean</th>\n",
       "      <th>area_mean</th>\n",
       "      <th>smoothness_mean</th>\n",
       "      <th>compactness_mean</th>\n",
       "      <th>concavity_mean</th>\n",
       "      <th>concave points_mean</th>\n",
       "      <th>...</th>\n",
       "      <th>texture_worst</th>\n",
       "      <th>perimeter_worst</th>\n",
       "      <th>area_worst</th>\n",
       "      <th>smoothness_worst</th>\n",
       "      <th>compactness_worst</th>\n",
       "      <th>concavity_worst</th>\n",
       "      <th>concave points_worst</th>\n",
       "      <th>symmetry_worst</th>\n",
       "      <th>fractal_dimension_worst</th>\n",
       "      <th>Unnamed: 32</th>\n",
       "    </tr>\n",
       "  </thead>\n",
       "  <tbody>\n",
       "    <tr>\n",
       "      <th>0</th>\n",
       "      <td>842302</td>\n",
       "      <td>M</td>\n",
       "      <td>17.99</td>\n",
       "      <td>10.38</td>\n",
       "      <td>122.80</td>\n",
       "      <td>1001.0</td>\n",
       "      <td>0.11840</td>\n",
       "      <td>0.27760</td>\n",
       "      <td>0.3001</td>\n",
       "      <td>0.14710</td>\n",
       "      <td>...</td>\n",
       "      <td>17.33</td>\n",
       "      <td>184.60</td>\n",
       "      <td>2019.0</td>\n",
       "      <td>0.1622</td>\n",
       "      <td>0.6656</td>\n",
       "      <td>0.7119</td>\n",
       "      <td>0.2654</td>\n",
       "      <td>0.4601</td>\n",
       "      <td>0.11890</td>\n",
       "      <td>NaN</td>\n",
       "    </tr>\n",
       "    <tr>\n",
       "      <th>1</th>\n",
       "      <td>842517</td>\n",
       "      <td>M</td>\n",
       "      <td>20.57</td>\n",
       "      <td>17.77</td>\n",
       "      <td>132.90</td>\n",
       "      <td>1326.0</td>\n",
       "      <td>0.08474</td>\n",
       "      <td>0.07864</td>\n",
       "      <td>0.0869</td>\n",
       "      <td>0.07017</td>\n",
       "      <td>...</td>\n",
       "      <td>23.41</td>\n",
       "      <td>158.80</td>\n",
       "      <td>1956.0</td>\n",
       "      <td>0.1238</td>\n",
       "      <td>0.1866</td>\n",
       "      <td>0.2416</td>\n",
       "      <td>0.1860</td>\n",
       "      <td>0.2750</td>\n",
       "      <td>0.08902</td>\n",
       "      <td>NaN</td>\n",
       "    </tr>\n",
       "    <tr>\n",
       "      <th>2</th>\n",
       "      <td>84300903</td>\n",
       "      <td>M</td>\n",
       "      <td>19.69</td>\n",
       "      <td>21.25</td>\n",
       "      <td>130.00</td>\n",
       "      <td>1203.0</td>\n",
       "      <td>0.10960</td>\n",
       "      <td>0.15990</td>\n",
       "      <td>0.1974</td>\n",
       "      <td>0.12790</td>\n",
       "      <td>...</td>\n",
       "      <td>25.53</td>\n",
       "      <td>152.50</td>\n",
       "      <td>1709.0</td>\n",
       "      <td>0.1444</td>\n",
       "      <td>0.4245</td>\n",
       "      <td>0.4504</td>\n",
       "      <td>0.2430</td>\n",
       "      <td>0.3613</td>\n",
       "      <td>0.08758</td>\n",
       "      <td>NaN</td>\n",
       "    </tr>\n",
       "    <tr>\n",
       "      <th>3</th>\n",
       "      <td>84348301</td>\n",
       "      <td>M</td>\n",
       "      <td>11.42</td>\n",
       "      <td>20.38</td>\n",
       "      <td>77.58</td>\n",
       "      <td>386.1</td>\n",
       "      <td>0.14250</td>\n",
       "      <td>0.28390</td>\n",
       "      <td>0.2414</td>\n",
       "      <td>0.10520</td>\n",
       "      <td>...</td>\n",
       "      <td>26.50</td>\n",
       "      <td>98.87</td>\n",
       "      <td>567.7</td>\n",
       "      <td>0.2098</td>\n",
       "      <td>0.8663</td>\n",
       "      <td>0.6869</td>\n",
       "      <td>0.2575</td>\n",
       "      <td>0.6638</td>\n",
       "      <td>0.17300</td>\n",
       "      <td>NaN</td>\n",
       "    </tr>\n",
       "    <tr>\n",
       "      <th>4</th>\n",
       "      <td>84358402</td>\n",
       "      <td>M</td>\n",
       "      <td>20.29</td>\n",
       "      <td>14.34</td>\n",
       "      <td>135.10</td>\n",
       "      <td>1297.0</td>\n",
       "      <td>0.10030</td>\n",
       "      <td>0.13280</td>\n",
       "      <td>0.1980</td>\n",
       "      <td>0.10430</td>\n",
       "      <td>...</td>\n",
       "      <td>16.67</td>\n",
       "      <td>152.20</td>\n",
       "      <td>1575.0</td>\n",
       "      <td>0.1374</td>\n",
       "      <td>0.2050</td>\n",
       "      <td>0.4000</td>\n",
       "      <td>0.1625</td>\n",
       "      <td>0.2364</td>\n",
       "      <td>0.07678</td>\n",
       "      <td>NaN</td>\n",
       "    </tr>\n",
       "  </tbody>\n",
       "</table>\n",
       "<p>5 rows × 33 columns</p>\n",
       "</div>"
      ],
      "text/plain": [
       "         id diagnosis  radius_mean  texture_mean  perimeter_mean  area_mean  \\\n",
       "0    842302         M        17.99         10.38          122.80     1001.0   \n",
       "1    842517         M        20.57         17.77          132.90     1326.0   \n",
       "2  84300903         M        19.69         21.25          130.00     1203.0   \n",
       "3  84348301         M        11.42         20.38           77.58      386.1   \n",
       "4  84358402         M        20.29         14.34          135.10     1297.0   \n",
       "\n",
       "   smoothness_mean  compactness_mean  concavity_mean  concave points_mean  \\\n",
       "0          0.11840           0.27760          0.3001              0.14710   \n",
       "1          0.08474           0.07864          0.0869              0.07017   \n",
       "2          0.10960           0.15990          0.1974              0.12790   \n",
       "3          0.14250           0.28390          0.2414              0.10520   \n",
       "4          0.10030           0.13280          0.1980              0.10430   \n",
       "\n",
       "   ...  texture_worst  perimeter_worst  area_worst  smoothness_worst  \\\n",
       "0  ...          17.33           184.60      2019.0            0.1622   \n",
       "1  ...          23.41           158.80      1956.0            0.1238   \n",
       "2  ...          25.53           152.50      1709.0            0.1444   \n",
       "3  ...          26.50            98.87       567.7            0.2098   \n",
       "4  ...          16.67           152.20      1575.0            0.1374   \n",
       "\n",
       "   compactness_worst  concavity_worst  concave points_worst  symmetry_worst  \\\n",
       "0             0.6656           0.7119                0.2654          0.4601   \n",
       "1             0.1866           0.2416                0.1860          0.2750   \n",
       "2             0.4245           0.4504                0.2430          0.3613   \n",
       "3             0.8663           0.6869                0.2575          0.6638   \n",
       "4             0.2050           0.4000                0.1625          0.2364   \n",
       "\n",
       "   fractal_dimension_worst  Unnamed: 32  \n",
       "0                  0.11890          NaN  \n",
       "1                  0.08902          NaN  \n",
       "2                  0.08758          NaN  \n",
       "3                  0.17300          NaN  \n",
       "4                  0.07678          NaN  \n",
       "\n",
       "[5 rows x 33 columns]"
      ]
     },
     "execution_count": 3,
     "metadata": {},
     "output_type": "execute_result"
    }
   ],
   "source": [
    "dados.head()"
   ]
  },
  {
   "cell_type": "code",
   "execution_count": 4,
   "metadata": {},
   "outputs": [
    {
     "data": {
      "text/html": [
       "<div>\n",
       "<style scoped>\n",
       "    .dataframe tbody tr th:only-of-type {\n",
       "        vertical-align: middle;\n",
       "    }\n",
       "\n",
       "    .dataframe tbody tr th {\n",
       "        vertical-align: top;\n",
       "    }\n",
       "\n",
       "    .dataframe thead th {\n",
       "        text-align: right;\n",
       "    }\n",
       "</style>\n",
       "<table border=\"1\" class=\"dataframe\">\n",
       "  <thead>\n",
       "    <tr style=\"text-align: right;\">\n",
       "      <th></th>\n",
       "      <th>id</th>\n",
       "      <th>diagnosis</th>\n",
       "      <th>radius_mean</th>\n",
       "      <th>texture_mean</th>\n",
       "      <th>perimeter_mean</th>\n",
       "      <th>area_mean</th>\n",
       "      <th>smoothness_mean</th>\n",
       "      <th>compactness_mean</th>\n",
       "      <th>concavity_mean</th>\n",
       "      <th>concave points_mean</th>\n",
       "      <th>...</th>\n",
       "      <th>texture_worst</th>\n",
       "      <th>perimeter_worst</th>\n",
       "      <th>area_worst</th>\n",
       "      <th>smoothness_worst</th>\n",
       "      <th>compactness_worst</th>\n",
       "      <th>concavity_worst</th>\n",
       "      <th>concave points_worst</th>\n",
       "      <th>symmetry_worst</th>\n",
       "      <th>fractal_dimension_worst</th>\n",
       "      <th>Unnamed: 32</th>\n",
       "    </tr>\n",
       "  </thead>\n",
       "  <tbody>\n",
       "    <tr>\n",
       "      <th>564</th>\n",
       "      <td>926424</td>\n",
       "      <td>M</td>\n",
       "      <td>21.56</td>\n",
       "      <td>22.39</td>\n",
       "      <td>142.00</td>\n",
       "      <td>1479.0</td>\n",
       "      <td>0.11100</td>\n",
       "      <td>0.11590</td>\n",
       "      <td>0.24390</td>\n",
       "      <td>0.13890</td>\n",
       "      <td>...</td>\n",
       "      <td>26.40</td>\n",
       "      <td>166.10</td>\n",
       "      <td>2027.0</td>\n",
       "      <td>0.14100</td>\n",
       "      <td>0.21130</td>\n",
       "      <td>0.4107</td>\n",
       "      <td>0.2216</td>\n",
       "      <td>0.2060</td>\n",
       "      <td>0.07115</td>\n",
       "      <td>NaN</td>\n",
       "    </tr>\n",
       "    <tr>\n",
       "      <th>565</th>\n",
       "      <td>926682</td>\n",
       "      <td>M</td>\n",
       "      <td>20.13</td>\n",
       "      <td>28.25</td>\n",
       "      <td>131.20</td>\n",
       "      <td>1261.0</td>\n",
       "      <td>0.09780</td>\n",
       "      <td>0.10340</td>\n",
       "      <td>0.14400</td>\n",
       "      <td>0.09791</td>\n",
       "      <td>...</td>\n",
       "      <td>38.25</td>\n",
       "      <td>155.00</td>\n",
       "      <td>1731.0</td>\n",
       "      <td>0.11660</td>\n",
       "      <td>0.19220</td>\n",
       "      <td>0.3215</td>\n",
       "      <td>0.1628</td>\n",
       "      <td>0.2572</td>\n",
       "      <td>0.06637</td>\n",
       "      <td>NaN</td>\n",
       "    </tr>\n",
       "    <tr>\n",
       "      <th>566</th>\n",
       "      <td>926954</td>\n",
       "      <td>M</td>\n",
       "      <td>16.60</td>\n",
       "      <td>28.08</td>\n",
       "      <td>108.30</td>\n",
       "      <td>858.1</td>\n",
       "      <td>0.08455</td>\n",
       "      <td>0.10230</td>\n",
       "      <td>0.09251</td>\n",
       "      <td>0.05302</td>\n",
       "      <td>...</td>\n",
       "      <td>34.12</td>\n",
       "      <td>126.70</td>\n",
       "      <td>1124.0</td>\n",
       "      <td>0.11390</td>\n",
       "      <td>0.30940</td>\n",
       "      <td>0.3403</td>\n",
       "      <td>0.1418</td>\n",
       "      <td>0.2218</td>\n",
       "      <td>0.07820</td>\n",
       "      <td>NaN</td>\n",
       "    </tr>\n",
       "    <tr>\n",
       "      <th>567</th>\n",
       "      <td>927241</td>\n",
       "      <td>M</td>\n",
       "      <td>20.60</td>\n",
       "      <td>29.33</td>\n",
       "      <td>140.10</td>\n",
       "      <td>1265.0</td>\n",
       "      <td>0.11780</td>\n",
       "      <td>0.27700</td>\n",
       "      <td>0.35140</td>\n",
       "      <td>0.15200</td>\n",
       "      <td>...</td>\n",
       "      <td>39.42</td>\n",
       "      <td>184.60</td>\n",
       "      <td>1821.0</td>\n",
       "      <td>0.16500</td>\n",
       "      <td>0.86810</td>\n",
       "      <td>0.9387</td>\n",
       "      <td>0.2650</td>\n",
       "      <td>0.4087</td>\n",
       "      <td>0.12400</td>\n",
       "      <td>NaN</td>\n",
       "    </tr>\n",
       "    <tr>\n",
       "      <th>568</th>\n",
       "      <td>92751</td>\n",
       "      <td>B</td>\n",
       "      <td>7.76</td>\n",
       "      <td>24.54</td>\n",
       "      <td>47.92</td>\n",
       "      <td>181.0</td>\n",
       "      <td>0.05263</td>\n",
       "      <td>0.04362</td>\n",
       "      <td>0.00000</td>\n",
       "      <td>0.00000</td>\n",
       "      <td>...</td>\n",
       "      <td>30.37</td>\n",
       "      <td>59.16</td>\n",
       "      <td>268.6</td>\n",
       "      <td>0.08996</td>\n",
       "      <td>0.06444</td>\n",
       "      <td>0.0000</td>\n",
       "      <td>0.0000</td>\n",
       "      <td>0.2871</td>\n",
       "      <td>0.07039</td>\n",
       "      <td>NaN</td>\n",
       "    </tr>\n",
       "  </tbody>\n",
       "</table>\n",
       "<p>5 rows × 33 columns</p>\n",
       "</div>"
      ],
      "text/plain": [
       "         id diagnosis  radius_mean  texture_mean  perimeter_mean  area_mean  \\\n",
       "564  926424         M        21.56         22.39          142.00     1479.0   \n",
       "565  926682         M        20.13         28.25          131.20     1261.0   \n",
       "566  926954         M        16.60         28.08          108.30      858.1   \n",
       "567  927241         M        20.60         29.33          140.10     1265.0   \n",
       "568   92751         B         7.76         24.54           47.92      181.0   \n",
       "\n",
       "     smoothness_mean  compactness_mean  concavity_mean  concave points_mean  \\\n",
       "564          0.11100           0.11590         0.24390              0.13890   \n",
       "565          0.09780           0.10340         0.14400              0.09791   \n",
       "566          0.08455           0.10230         0.09251              0.05302   \n",
       "567          0.11780           0.27700         0.35140              0.15200   \n",
       "568          0.05263           0.04362         0.00000              0.00000   \n",
       "\n",
       "     ...  texture_worst  perimeter_worst  area_worst  smoothness_worst  \\\n",
       "564  ...          26.40           166.10      2027.0           0.14100   \n",
       "565  ...          38.25           155.00      1731.0           0.11660   \n",
       "566  ...          34.12           126.70      1124.0           0.11390   \n",
       "567  ...          39.42           184.60      1821.0           0.16500   \n",
       "568  ...          30.37            59.16       268.6           0.08996   \n",
       "\n",
       "     compactness_worst  concavity_worst  concave points_worst  symmetry_worst  \\\n",
       "564            0.21130           0.4107                0.2216          0.2060   \n",
       "565            0.19220           0.3215                0.1628          0.2572   \n",
       "566            0.30940           0.3403                0.1418          0.2218   \n",
       "567            0.86810           0.9387                0.2650          0.4087   \n",
       "568            0.06444           0.0000                0.0000          0.2871   \n",
       "\n",
       "     fractal_dimension_worst  Unnamed: 32  \n",
       "564                  0.07115          NaN  \n",
       "565                  0.06637          NaN  \n",
       "566                  0.07820          NaN  \n",
       "567                  0.12400          NaN  \n",
       "568                  0.07039          NaN  \n",
       "\n",
       "[5 rows x 33 columns]"
      ]
     },
     "execution_count": 4,
     "metadata": {},
     "output_type": "execute_result"
    }
   ],
   "source": [
    "dados.tail()"
   ]
  },
  {
   "cell_type": "code",
   "execution_count": 5,
   "metadata": {},
   "outputs": [
    {
     "data": {
      "text/plain": [
       "(569, 33)"
      ]
     },
     "execution_count": 5,
     "metadata": {},
     "output_type": "execute_result"
    }
   ],
   "source": [
    "dados.shape"
   ]
  },
  {
   "cell_type": "markdown",
   "metadata": {
    "jp-MarkdownHeadingCollapsed": true
   },
   "source": [
    "## **Análise das Variáveis (Atributos)**"
   ]
  },
  {
   "cell_type": "markdown",
   "metadata": {
    "jp-MarkdownHeadingCollapsed": true
   },
   "source": [
    "## **Análise dos tipos de atributos.**"
   ]
  },
  {
   "cell_type": "code",
   "execution_count": 6,
   "metadata": {},
   "outputs": [
    {
     "data": {
      "text/plain": [
       "id                           int64\n",
       "diagnosis                   object\n",
       "radius_mean                float64\n",
       "texture_mean               float64\n",
       "perimeter_mean             float64\n",
       "area_mean                  float64\n",
       "smoothness_mean            float64\n",
       "compactness_mean           float64\n",
       "concavity_mean             float64\n",
       "concave points_mean        float64\n",
       "symmetry_mean              float64\n",
       "fractal_dimension_mean     float64\n",
       "radius_se                  float64\n",
       "texture_se                 float64\n",
       "perimeter_se               float64\n",
       "area_se                    float64\n",
       "smoothness_se              float64\n",
       "compactness_se             float64\n",
       "concavity_se               float64\n",
       "concave points_se          float64\n",
       "symmetry_se                float64\n",
       "fractal_dimension_se       float64\n",
       "radius_worst               float64\n",
       "texture_worst              float64\n",
       "perimeter_worst            float64\n",
       "area_worst                 float64\n",
       "smoothness_worst           float64\n",
       "compactness_worst          float64\n",
       "concavity_worst            float64\n",
       "concave points_worst       float64\n",
       "symmetry_worst             float64\n",
       "fractal_dimension_worst    float64\n",
       "Unnamed: 32                float64\n",
       "dtype: object"
      ]
     },
     "execution_count": 6,
     "metadata": {},
     "output_type": "execute_result"
    }
   ],
   "source": [
    "dados.dtypes"
   ]
  },
  {
   "cell_type": "markdown",
   "metadata": {},
   "source": [
    "Após a análise inicial do DataFrame, identificamos duas colunas dispensáveis: a coluna ‘id’, que é redundante para nossa análise, e a coluna ‘Unnamed: 32’, que parece ser um artefato sem relevância gerado durante a importação dos dados. Ambas serão removidas para otimizar nosso conjunto de dados."
   ]
  },
  {
   "cell_type": "code",
   "execution_count": 7,
   "metadata": {},
   "outputs": [],
   "source": [
    "dados_relevante = pd.DataFrame.copy(dados)"
   ]
  },
  {
   "cell_type": "code",
   "execution_count": 8,
   "metadata": {},
   "outputs": [],
   "source": [
    "dados_relevante.drop(dados.columns[0], axis=1, inplace=True)"
   ]
  },
  {
   "cell_type": "code",
   "execution_count": 9,
   "metadata": {},
   "outputs": [],
   "source": [
    "dados_relevante.drop(dados.columns[-1], axis=1, inplace=True)"
   ]
  },
  {
   "cell_type": "markdown",
   "metadata": {
    "jp-MarkdownHeadingCollapsed": true
   },
   "source": [
    "## **Valores Missing (NAN)**"
   ]
  },
  {
   "cell_type": "code",
   "execution_count": 10,
   "metadata": {},
   "outputs": [
    {
     "data": {
      "text/plain": [
       "diagnosis                  0\n",
       "radius_mean                0\n",
       "texture_mean               0\n",
       "perimeter_mean             0\n",
       "area_mean                  0\n",
       "smoothness_mean            0\n",
       "compactness_mean           0\n",
       "concavity_mean             0\n",
       "concave points_mean        0\n",
       "symmetry_mean              0\n",
       "fractal_dimension_mean     0\n",
       "radius_se                  0\n",
       "texture_se                 0\n",
       "perimeter_se               0\n",
       "area_se                    0\n",
       "smoothness_se              0\n",
       "compactness_se             0\n",
       "concavity_se               0\n",
       "concave points_se          0\n",
       "symmetry_se                0\n",
       "fractal_dimension_se       0\n",
       "radius_worst               0\n",
       "texture_worst              0\n",
       "perimeter_worst            0\n",
       "area_worst                 0\n",
       "smoothness_worst           0\n",
       "compactness_worst          0\n",
       "concavity_worst            0\n",
       "concave points_worst       0\n",
       "symmetry_worst             0\n",
       "fractal_dimension_worst    0\n",
       "dtype: int64"
      ]
     },
     "execution_count": 10,
     "metadata": {},
     "output_type": "execute_result"
    }
   ],
   "source": [
    "dados_relevante.isnull().sum()"
   ]
  },
  {
   "cell_type": "markdown",
   "metadata": {
    "jp-MarkdownHeadingCollapsed": true
   },
   "source": [
    "## **Análises Estatísticas Descritivas**"
   ]
  },
  {
   "cell_type": "code",
   "execution_count": 13,
   "metadata": {},
   "outputs": [
    {
     "data": {
      "text/html": [
       "<div>\n",
       "<style scoped>\n",
       "    .dataframe tbody tr th:only-of-type {\n",
       "        vertical-align: middle;\n",
       "    }\n",
       "\n",
       "    .dataframe tbody tr th {\n",
       "        vertical-align: top;\n",
       "    }\n",
       "\n",
       "    .dataframe thead th {\n",
       "        text-align: right;\n",
       "    }\n",
       "</style>\n",
       "<table border=\"1\" class=\"dataframe\">\n",
       "  <thead>\n",
       "    <tr style=\"text-align: right;\">\n",
       "      <th></th>\n",
       "      <th>radius_mean</th>\n",
       "      <th>texture_mean</th>\n",
       "      <th>perimeter_mean</th>\n",
       "      <th>area_mean</th>\n",
       "      <th>smoothness_mean</th>\n",
       "      <th>compactness_mean</th>\n",
       "      <th>concavity_mean</th>\n",
       "      <th>concave points_mean</th>\n",
       "      <th>symmetry_mean</th>\n",
       "      <th>fractal_dimension_mean</th>\n",
       "      <th>...</th>\n",
       "      <th>radius_worst</th>\n",
       "      <th>texture_worst</th>\n",
       "      <th>perimeter_worst</th>\n",
       "      <th>area_worst</th>\n",
       "      <th>smoothness_worst</th>\n",
       "      <th>compactness_worst</th>\n",
       "      <th>concavity_worst</th>\n",
       "      <th>concave points_worst</th>\n",
       "      <th>symmetry_worst</th>\n",
       "      <th>fractal_dimension_worst</th>\n",
       "    </tr>\n",
       "  </thead>\n",
       "  <tbody>\n",
       "    <tr>\n",
       "      <th>count</th>\n",
       "      <td>569.000000</td>\n",
       "      <td>569.000000</td>\n",
       "      <td>569.000000</td>\n",
       "      <td>569.000000</td>\n",
       "      <td>569.000000</td>\n",
       "      <td>569.000000</td>\n",
       "      <td>569.000000</td>\n",
       "      <td>569.000000</td>\n",
       "      <td>569.000000</td>\n",
       "      <td>569.000000</td>\n",
       "      <td>...</td>\n",
       "      <td>569.000000</td>\n",
       "      <td>569.000000</td>\n",
       "      <td>569.000000</td>\n",
       "      <td>569.000000</td>\n",
       "      <td>569.000000</td>\n",
       "      <td>569.000000</td>\n",
       "      <td>569.000000</td>\n",
       "      <td>569.000000</td>\n",
       "      <td>569.000000</td>\n",
       "      <td>569.000000</td>\n",
       "    </tr>\n",
       "    <tr>\n",
       "      <th>mean</th>\n",
       "      <td>14.127292</td>\n",
       "      <td>19.289649</td>\n",
       "      <td>91.969033</td>\n",
       "      <td>654.889104</td>\n",
       "      <td>0.096360</td>\n",
       "      <td>0.104341</td>\n",
       "      <td>0.088799</td>\n",
       "      <td>0.048919</td>\n",
       "      <td>0.181162</td>\n",
       "      <td>0.062798</td>\n",
       "      <td>...</td>\n",
       "      <td>16.269190</td>\n",
       "      <td>25.677223</td>\n",
       "      <td>107.261213</td>\n",
       "      <td>880.583128</td>\n",
       "      <td>0.132369</td>\n",
       "      <td>0.254265</td>\n",
       "      <td>0.272188</td>\n",
       "      <td>0.114606</td>\n",
       "      <td>0.290076</td>\n",
       "      <td>0.083946</td>\n",
       "    </tr>\n",
       "    <tr>\n",
       "      <th>std</th>\n",
       "      <td>3.524049</td>\n",
       "      <td>4.301036</td>\n",
       "      <td>24.298981</td>\n",
       "      <td>351.914129</td>\n",
       "      <td>0.014064</td>\n",
       "      <td>0.052813</td>\n",
       "      <td>0.079720</td>\n",
       "      <td>0.038803</td>\n",
       "      <td>0.027414</td>\n",
       "      <td>0.007060</td>\n",
       "      <td>...</td>\n",
       "      <td>4.833242</td>\n",
       "      <td>6.146258</td>\n",
       "      <td>33.602542</td>\n",
       "      <td>569.356993</td>\n",
       "      <td>0.022832</td>\n",
       "      <td>0.157336</td>\n",
       "      <td>0.208624</td>\n",
       "      <td>0.065732</td>\n",
       "      <td>0.061867</td>\n",
       "      <td>0.018061</td>\n",
       "    </tr>\n",
       "    <tr>\n",
       "      <th>min</th>\n",
       "      <td>6.981000</td>\n",
       "      <td>9.710000</td>\n",
       "      <td>43.790000</td>\n",
       "      <td>143.500000</td>\n",
       "      <td>0.052630</td>\n",
       "      <td>0.019380</td>\n",
       "      <td>0.000000</td>\n",
       "      <td>0.000000</td>\n",
       "      <td>0.106000</td>\n",
       "      <td>0.049960</td>\n",
       "      <td>...</td>\n",
       "      <td>7.930000</td>\n",
       "      <td>12.020000</td>\n",
       "      <td>50.410000</td>\n",
       "      <td>185.200000</td>\n",
       "      <td>0.071170</td>\n",
       "      <td>0.027290</td>\n",
       "      <td>0.000000</td>\n",
       "      <td>0.000000</td>\n",
       "      <td>0.156500</td>\n",
       "      <td>0.055040</td>\n",
       "    </tr>\n",
       "    <tr>\n",
       "      <th>25%</th>\n",
       "      <td>11.700000</td>\n",
       "      <td>16.170000</td>\n",
       "      <td>75.170000</td>\n",
       "      <td>420.300000</td>\n",
       "      <td>0.086370</td>\n",
       "      <td>0.064920</td>\n",
       "      <td>0.029560</td>\n",
       "      <td>0.020310</td>\n",
       "      <td>0.161900</td>\n",
       "      <td>0.057700</td>\n",
       "      <td>...</td>\n",
       "      <td>13.010000</td>\n",
       "      <td>21.080000</td>\n",
       "      <td>84.110000</td>\n",
       "      <td>515.300000</td>\n",
       "      <td>0.116600</td>\n",
       "      <td>0.147200</td>\n",
       "      <td>0.114500</td>\n",
       "      <td>0.064930</td>\n",
       "      <td>0.250400</td>\n",
       "      <td>0.071460</td>\n",
       "    </tr>\n",
       "    <tr>\n",
       "      <th>50%</th>\n",
       "      <td>13.370000</td>\n",
       "      <td>18.840000</td>\n",
       "      <td>86.240000</td>\n",
       "      <td>551.100000</td>\n",
       "      <td>0.095870</td>\n",
       "      <td>0.092630</td>\n",
       "      <td>0.061540</td>\n",
       "      <td>0.033500</td>\n",
       "      <td>0.179200</td>\n",
       "      <td>0.061540</td>\n",
       "      <td>...</td>\n",
       "      <td>14.970000</td>\n",
       "      <td>25.410000</td>\n",
       "      <td>97.660000</td>\n",
       "      <td>686.500000</td>\n",
       "      <td>0.131300</td>\n",
       "      <td>0.211900</td>\n",
       "      <td>0.226700</td>\n",
       "      <td>0.099930</td>\n",
       "      <td>0.282200</td>\n",
       "      <td>0.080040</td>\n",
       "    </tr>\n",
       "    <tr>\n",
       "      <th>75%</th>\n",
       "      <td>15.780000</td>\n",
       "      <td>21.800000</td>\n",
       "      <td>104.100000</td>\n",
       "      <td>782.700000</td>\n",
       "      <td>0.105300</td>\n",
       "      <td>0.130400</td>\n",
       "      <td>0.130700</td>\n",
       "      <td>0.074000</td>\n",
       "      <td>0.195700</td>\n",
       "      <td>0.066120</td>\n",
       "      <td>...</td>\n",
       "      <td>18.790000</td>\n",
       "      <td>29.720000</td>\n",
       "      <td>125.400000</td>\n",
       "      <td>1084.000000</td>\n",
       "      <td>0.146000</td>\n",
       "      <td>0.339100</td>\n",
       "      <td>0.382900</td>\n",
       "      <td>0.161400</td>\n",
       "      <td>0.317900</td>\n",
       "      <td>0.092080</td>\n",
       "    </tr>\n",
       "    <tr>\n",
       "      <th>max</th>\n",
       "      <td>28.110000</td>\n",
       "      <td>39.280000</td>\n",
       "      <td>188.500000</td>\n",
       "      <td>2501.000000</td>\n",
       "      <td>0.163400</td>\n",
       "      <td>0.345400</td>\n",
       "      <td>0.426800</td>\n",
       "      <td>0.201200</td>\n",
       "      <td>0.304000</td>\n",
       "      <td>0.097440</td>\n",
       "      <td>...</td>\n",
       "      <td>36.040000</td>\n",
       "      <td>49.540000</td>\n",
       "      <td>251.200000</td>\n",
       "      <td>4254.000000</td>\n",
       "      <td>0.222600</td>\n",
       "      <td>1.058000</td>\n",
       "      <td>1.252000</td>\n",
       "      <td>0.291000</td>\n",
       "      <td>0.663800</td>\n",
       "      <td>0.207500</td>\n",
       "    </tr>\n",
       "  </tbody>\n",
       "</table>\n",
       "<p>8 rows × 30 columns</p>\n",
       "</div>"
      ],
      "text/plain": [
       "       radius_mean  texture_mean  perimeter_mean    area_mean  \\\n",
       "count   569.000000    569.000000      569.000000   569.000000   \n",
       "mean     14.127292     19.289649       91.969033   654.889104   \n",
       "std       3.524049      4.301036       24.298981   351.914129   \n",
       "min       6.981000      9.710000       43.790000   143.500000   \n",
       "25%      11.700000     16.170000       75.170000   420.300000   \n",
       "50%      13.370000     18.840000       86.240000   551.100000   \n",
       "75%      15.780000     21.800000      104.100000   782.700000   \n",
       "max      28.110000     39.280000      188.500000  2501.000000   \n",
       "\n",
       "       smoothness_mean  compactness_mean  concavity_mean  concave points_mean  \\\n",
       "count       569.000000        569.000000      569.000000           569.000000   \n",
       "mean          0.096360          0.104341        0.088799             0.048919   \n",
       "std           0.014064          0.052813        0.079720             0.038803   \n",
       "min           0.052630          0.019380        0.000000             0.000000   \n",
       "25%           0.086370          0.064920        0.029560             0.020310   \n",
       "50%           0.095870          0.092630        0.061540             0.033500   \n",
       "75%           0.105300          0.130400        0.130700             0.074000   \n",
       "max           0.163400          0.345400        0.426800             0.201200   \n",
       "\n",
       "       symmetry_mean  fractal_dimension_mean  ...  radius_worst  \\\n",
       "count     569.000000              569.000000  ...    569.000000   \n",
       "mean        0.181162                0.062798  ...     16.269190   \n",
       "std         0.027414                0.007060  ...      4.833242   \n",
       "min         0.106000                0.049960  ...      7.930000   \n",
       "25%         0.161900                0.057700  ...     13.010000   \n",
       "50%         0.179200                0.061540  ...     14.970000   \n",
       "75%         0.195700                0.066120  ...     18.790000   \n",
       "max         0.304000                0.097440  ...     36.040000   \n",
       "\n",
       "       texture_worst  perimeter_worst   area_worst  smoothness_worst  \\\n",
       "count     569.000000       569.000000   569.000000        569.000000   \n",
       "mean       25.677223       107.261213   880.583128          0.132369   \n",
       "std         6.146258        33.602542   569.356993          0.022832   \n",
       "min        12.020000        50.410000   185.200000          0.071170   \n",
       "25%        21.080000        84.110000   515.300000          0.116600   \n",
       "50%        25.410000        97.660000   686.500000          0.131300   \n",
       "75%        29.720000       125.400000  1084.000000          0.146000   \n",
       "max        49.540000       251.200000  4254.000000          0.222600   \n",
       "\n",
       "       compactness_worst  concavity_worst  concave points_worst  \\\n",
       "count         569.000000       569.000000            569.000000   \n",
       "mean            0.254265         0.272188              0.114606   \n",
       "std             0.157336         0.208624              0.065732   \n",
       "min             0.027290         0.000000              0.000000   \n",
       "25%             0.147200         0.114500              0.064930   \n",
       "50%             0.211900         0.226700              0.099930   \n",
       "75%             0.339100         0.382900              0.161400   \n",
       "max             1.058000         1.252000              0.291000   \n",
       "\n",
       "       symmetry_worst  fractal_dimension_worst  \n",
       "count      569.000000               569.000000  \n",
       "mean         0.290076                 0.083946  \n",
       "std          0.061867                 0.018061  \n",
       "min          0.156500                 0.055040  \n",
       "25%          0.250400                 0.071460  \n",
       "50%          0.282200                 0.080040  \n",
       "75%          0.317900                 0.092080  \n",
       "max          0.663800                 0.207500  \n",
       "\n",
       "[8 rows x 30 columns]"
      ]
     },
     "execution_count": 13,
     "metadata": {},
     "output_type": "execute_result"
    }
   ],
   "source": [
    "dados_relevante.describe()"
   ]
  },
  {
   "cell_type": "code",
   "execution_count": 14,
   "metadata": {},
   "outputs": [
    {
     "data": {
      "text/html": [
       "<div>\n",
       "<style scoped>\n",
       "    .dataframe tbody tr th:only-of-type {\n",
       "        vertical-align: middle;\n",
       "    }\n",
       "\n",
       "    .dataframe tbody tr th {\n",
       "        vertical-align: top;\n",
       "    }\n",
       "\n",
       "    .dataframe thead th {\n",
       "        text-align: right;\n",
       "    }\n",
       "</style>\n",
       "<table border=\"1\" class=\"dataframe\">\n",
       "  <thead>\n",
       "    <tr style=\"text-align: right;\">\n",
       "      <th></th>\n",
       "      <th>diagnosis</th>\n",
       "      <th>radius_mean</th>\n",
       "      <th>texture_mean</th>\n",
       "      <th>perimeter_mean</th>\n",
       "      <th>area_mean</th>\n",
       "      <th>smoothness_mean</th>\n",
       "      <th>compactness_mean</th>\n",
       "      <th>concavity_mean</th>\n",
       "      <th>concave points_mean</th>\n",
       "      <th>symmetry_mean</th>\n",
       "      <th>...</th>\n",
       "      <th>radius_worst</th>\n",
       "      <th>texture_worst</th>\n",
       "      <th>perimeter_worst</th>\n",
       "      <th>area_worst</th>\n",
       "      <th>smoothness_worst</th>\n",
       "      <th>compactness_worst</th>\n",
       "      <th>concavity_worst</th>\n",
       "      <th>concave points_worst</th>\n",
       "      <th>symmetry_worst</th>\n",
       "      <th>fractal_dimension_worst</th>\n",
       "    </tr>\n",
       "  </thead>\n",
       "  <tbody>\n",
       "    <tr>\n",
       "      <th>0</th>\n",
       "      <td>B</td>\n",
       "      <td>12.34</td>\n",
       "      <td>14.93</td>\n",
       "      <td>82.61</td>\n",
       "      <td>512.2</td>\n",
       "      <td>0.1007</td>\n",
       "      <td>0.1147</td>\n",
       "      <td>0.0</td>\n",
       "      <td>0.0</td>\n",
       "      <td>0.1601</td>\n",
       "      <td>...</td>\n",
       "      <td>12.36</td>\n",
       "      <td>17.70</td>\n",
       "      <td>101.7</td>\n",
       "      <td>284.4</td>\n",
       "      <td>0.1216</td>\n",
       "      <td>0.1486</td>\n",
       "      <td>0.0</td>\n",
       "      <td>0.0</td>\n",
       "      <td>0.2226</td>\n",
       "      <td>0.07427</td>\n",
       "    </tr>\n",
       "    <tr>\n",
       "      <th>1</th>\n",
       "      <td>NaN</td>\n",
       "      <td>NaN</td>\n",
       "      <td>15.70</td>\n",
       "      <td>87.76</td>\n",
       "      <td>NaN</td>\n",
       "      <td>NaN</td>\n",
       "      <td>0.1206</td>\n",
       "      <td>NaN</td>\n",
       "      <td>NaN</td>\n",
       "      <td>0.1714</td>\n",
       "      <td>...</td>\n",
       "      <td>NaN</td>\n",
       "      <td>27.26</td>\n",
       "      <td>105.9</td>\n",
       "      <td>402.8</td>\n",
       "      <td>0.1223</td>\n",
       "      <td>0.3416</td>\n",
       "      <td>NaN</td>\n",
       "      <td>NaN</td>\n",
       "      <td>0.2369</td>\n",
       "      <td>NaN</td>\n",
       "    </tr>\n",
       "    <tr>\n",
       "      <th>2</th>\n",
       "      <td>NaN</td>\n",
       "      <td>NaN</td>\n",
       "      <td>16.84</td>\n",
       "      <td>134.70</td>\n",
       "      <td>NaN</td>\n",
       "      <td>NaN</td>\n",
       "      <td>NaN</td>\n",
       "      <td>NaN</td>\n",
       "      <td>NaN</td>\n",
       "      <td>0.1717</td>\n",
       "      <td>...</td>\n",
       "      <td>NaN</td>\n",
       "      <td>NaN</td>\n",
       "      <td>117.7</td>\n",
       "      <td>439.6</td>\n",
       "      <td>0.1234</td>\n",
       "      <td>NaN</td>\n",
       "      <td>NaN</td>\n",
       "      <td>NaN</td>\n",
       "      <td>0.2383</td>\n",
       "      <td>NaN</td>\n",
       "    </tr>\n",
       "    <tr>\n",
       "      <th>3</th>\n",
       "      <td>NaN</td>\n",
       "      <td>NaN</td>\n",
       "      <td>16.85</td>\n",
       "      <td>NaN</td>\n",
       "      <td>NaN</td>\n",
       "      <td>NaN</td>\n",
       "      <td>NaN</td>\n",
       "      <td>NaN</td>\n",
       "      <td>NaN</td>\n",
       "      <td>0.1769</td>\n",
       "      <td>...</td>\n",
       "      <td>NaN</td>\n",
       "      <td>NaN</td>\n",
       "      <td>NaN</td>\n",
       "      <td>458.0</td>\n",
       "      <td>0.1256</td>\n",
       "      <td>NaN</td>\n",
       "      <td>NaN</td>\n",
       "      <td>NaN</td>\n",
       "      <td>0.2972</td>\n",
       "      <td>NaN</td>\n",
       "    </tr>\n",
       "    <tr>\n",
       "      <th>4</th>\n",
       "      <td>NaN</td>\n",
       "      <td>NaN</td>\n",
       "      <td>17.46</td>\n",
       "      <td>NaN</td>\n",
       "      <td>NaN</td>\n",
       "      <td>NaN</td>\n",
       "      <td>NaN</td>\n",
       "      <td>NaN</td>\n",
       "      <td>NaN</td>\n",
       "      <td>0.1893</td>\n",
       "      <td>...</td>\n",
       "      <td>NaN</td>\n",
       "      <td>NaN</td>\n",
       "      <td>NaN</td>\n",
       "      <td>472.4</td>\n",
       "      <td>0.1275</td>\n",
       "      <td>NaN</td>\n",
       "      <td>NaN</td>\n",
       "      <td>NaN</td>\n",
       "      <td>0.3109</td>\n",
       "      <td>NaN</td>\n",
       "    </tr>\n",
       "    <tr>\n",
       "      <th>5</th>\n",
       "      <td>NaN</td>\n",
       "      <td>NaN</td>\n",
       "      <td>18.22</td>\n",
       "      <td>NaN</td>\n",
       "      <td>NaN</td>\n",
       "      <td>NaN</td>\n",
       "      <td>NaN</td>\n",
       "      <td>NaN</td>\n",
       "      <td>NaN</td>\n",
       "      <td>NaN</td>\n",
       "      <td>...</td>\n",
       "      <td>NaN</td>\n",
       "      <td>NaN</td>\n",
       "      <td>NaN</td>\n",
       "      <td>489.5</td>\n",
       "      <td>0.1312</td>\n",
       "      <td>NaN</td>\n",
       "      <td>NaN</td>\n",
       "      <td>NaN</td>\n",
       "      <td>0.3196</td>\n",
       "      <td>NaN</td>\n",
       "    </tr>\n",
       "    <tr>\n",
       "      <th>6</th>\n",
       "      <td>NaN</td>\n",
       "      <td>NaN</td>\n",
       "      <td>18.90</td>\n",
       "      <td>NaN</td>\n",
       "      <td>NaN</td>\n",
       "      <td>NaN</td>\n",
       "      <td>NaN</td>\n",
       "      <td>NaN</td>\n",
       "      <td>NaN</td>\n",
       "      <td>NaN</td>\n",
       "      <td>...</td>\n",
       "      <td>NaN</td>\n",
       "      <td>NaN</td>\n",
       "      <td>NaN</td>\n",
       "      <td>546.7</td>\n",
       "      <td>0.1347</td>\n",
       "      <td>NaN</td>\n",
       "      <td>NaN</td>\n",
       "      <td>NaN</td>\n",
       "      <td>NaN</td>\n",
       "      <td>NaN</td>\n",
       "    </tr>\n",
       "    <tr>\n",
       "      <th>7</th>\n",
       "      <td>NaN</td>\n",
       "      <td>NaN</td>\n",
       "      <td>19.83</td>\n",
       "      <td>NaN</td>\n",
       "      <td>NaN</td>\n",
       "      <td>NaN</td>\n",
       "      <td>NaN</td>\n",
       "      <td>NaN</td>\n",
       "      <td>NaN</td>\n",
       "      <td>NaN</td>\n",
       "      <td>...</td>\n",
       "      <td>NaN</td>\n",
       "      <td>NaN</td>\n",
       "      <td>NaN</td>\n",
       "      <td>547.4</td>\n",
       "      <td>0.1401</td>\n",
       "      <td>NaN</td>\n",
       "      <td>NaN</td>\n",
       "      <td>NaN</td>\n",
       "      <td>NaN</td>\n",
       "      <td>NaN</td>\n",
       "    </tr>\n",
       "    <tr>\n",
       "      <th>8</th>\n",
       "      <td>NaN</td>\n",
       "      <td>NaN</td>\n",
       "      <td>20.52</td>\n",
       "      <td>NaN</td>\n",
       "      <td>NaN</td>\n",
       "      <td>NaN</td>\n",
       "      <td>NaN</td>\n",
       "      <td>NaN</td>\n",
       "      <td>NaN</td>\n",
       "      <td>NaN</td>\n",
       "      <td>...</td>\n",
       "      <td>NaN</td>\n",
       "      <td>NaN</td>\n",
       "      <td>NaN</td>\n",
       "      <td>624.1</td>\n",
       "      <td>0.1415</td>\n",
       "      <td>NaN</td>\n",
       "      <td>NaN</td>\n",
       "      <td>NaN</td>\n",
       "      <td>NaN</td>\n",
       "      <td>NaN</td>\n",
       "    </tr>\n",
       "    <tr>\n",
       "      <th>9</th>\n",
       "      <td>NaN</td>\n",
       "      <td>NaN</td>\n",
       "      <td>NaN</td>\n",
       "      <td>NaN</td>\n",
       "      <td>NaN</td>\n",
       "      <td>NaN</td>\n",
       "      <td>NaN</td>\n",
       "      <td>NaN</td>\n",
       "      <td>NaN</td>\n",
       "      <td>NaN</td>\n",
       "      <td>...</td>\n",
       "      <td>NaN</td>\n",
       "      <td>NaN</td>\n",
       "      <td>NaN</td>\n",
       "      <td>698.8</td>\n",
       "      <td>NaN</td>\n",
       "      <td>NaN</td>\n",
       "      <td>NaN</td>\n",
       "      <td>NaN</td>\n",
       "      <td>NaN</td>\n",
       "      <td>NaN</td>\n",
       "    </tr>\n",
       "    <tr>\n",
       "      <th>10</th>\n",
       "      <td>NaN</td>\n",
       "      <td>NaN</td>\n",
       "      <td>NaN</td>\n",
       "      <td>NaN</td>\n",
       "      <td>NaN</td>\n",
       "      <td>NaN</td>\n",
       "      <td>NaN</td>\n",
       "      <td>NaN</td>\n",
       "      <td>NaN</td>\n",
       "      <td>NaN</td>\n",
       "      <td>...</td>\n",
       "      <td>NaN</td>\n",
       "      <td>NaN</td>\n",
       "      <td>NaN</td>\n",
       "      <td>706.0</td>\n",
       "      <td>NaN</td>\n",
       "      <td>NaN</td>\n",
       "      <td>NaN</td>\n",
       "      <td>NaN</td>\n",
       "      <td>NaN</td>\n",
       "      <td>NaN</td>\n",
       "    </tr>\n",
       "    <tr>\n",
       "      <th>11</th>\n",
       "      <td>NaN</td>\n",
       "      <td>NaN</td>\n",
       "      <td>NaN</td>\n",
       "      <td>NaN</td>\n",
       "      <td>NaN</td>\n",
       "      <td>NaN</td>\n",
       "      <td>NaN</td>\n",
       "      <td>NaN</td>\n",
       "      <td>NaN</td>\n",
       "      <td>NaN</td>\n",
       "      <td>...</td>\n",
       "      <td>NaN</td>\n",
       "      <td>NaN</td>\n",
       "      <td>NaN</td>\n",
       "      <td>708.8</td>\n",
       "      <td>NaN</td>\n",
       "      <td>NaN</td>\n",
       "      <td>NaN</td>\n",
       "      <td>NaN</td>\n",
       "      <td>NaN</td>\n",
       "      <td>NaN</td>\n",
       "    </tr>\n",
       "    <tr>\n",
       "      <th>12</th>\n",
       "      <td>NaN</td>\n",
       "      <td>NaN</td>\n",
       "      <td>NaN</td>\n",
       "      <td>NaN</td>\n",
       "      <td>NaN</td>\n",
       "      <td>NaN</td>\n",
       "      <td>NaN</td>\n",
       "      <td>NaN</td>\n",
       "      <td>NaN</td>\n",
       "      <td>NaN</td>\n",
       "      <td>...</td>\n",
       "      <td>NaN</td>\n",
       "      <td>NaN</td>\n",
       "      <td>NaN</td>\n",
       "      <td>725.9</td>\n",
       "      <td>NaN</td>\n",
       "      <td>NaN</td>\n",
       "      <td>NaN</td>\n",
       "      <td>NaN</td>\n",
       "      <td>NaN</td>\n",
       "      <td>NaN</td>\n",
       "    </tr>\n",
       "    <tr>\n",
       "      <th>13</th>\n",
       "      <td>NaN</td>\n",
       "      <td>NaN</td>\n",
       "      <td>NaN</td>\n",
       "      <td>NaN</td>\n",
       "      <td>NaN</td>\n",
       "      <td>NaN</td>\n",
       "      <td>NaN</td>\n",
       "      <td>NaN</td>\n",
       "      <td>NaN</td>\n",
       "      <td>NaN</td>\n",
       "      <td>...</td>\n",
       "      <td>NaN</td>\n",
       "      <td>NaN</td>\n",
       "      <td>NaN</td>\n",
       "      <td>733.5</td>\n",
       "      <td>NaN</td>\n",
       "      <td>NaN</td>\n",
       "      <td>NaN</td>\n",
       "      <td>NaN</td>\n",
       "      <td>NaN</td>\n",
       "      <td>NaN</td>\n",
       "    </tr>\n",
       "    <tr>\n",
       "      <th>14</th>\n",
       "      <td>NaN</td>\n",
       "      <td>NaN</td>\n",
       "      <td>NaN</td>\n",
       "      <td>NaN</td>\n",
       "      <td>NaN</td>\n",
       "      <td>NaN</td>\n",
       "      <td>NaN</td>\n",
       "      <td>NaN</td>\n",
       "      <td>NaN</td>\n",
       "      <td>NaN</td>\n",
       "      <td>...</td>\n",
       "      <td>NaN</td>\n",
       "      <td>NaN</td>\n",
       "      <td>NaN</td>\n",
       "      <td>749.9</td>\n",
       "      <td>NaN</td>\n",
       "      <td>NaN</td>\n",
       "      <td>NaN</td>\n",
       "      <td>NaN</td>\n",
       "      <td>NaN</td>\n",
       "      <td>NaN</td>\n",
       "    </tr>\n",
       "    <tr>\n",
       "      <th>15</th>\n",
       "      <td>NaN</td>\n",
       "      <td>NaN</td>\n",
       "      <td>NaN</td>\n",
       "      <td>NaN</td>\n",
       "      <td>NaN</td>\n",
       "      <td>NaN</td>\n",
       "      <td>NaN</td>\n",
       "      <td>NaN</td>\n",
       "      <td>NaN</td>\n",
       "      <td>NaN</td>\n",
       "      <td>...</td>\n",
       "      <td>NaN</td>\n",
       "      <td>NaN</td>\n",
       "      <td>NaN</td>\n",
       "      <td>808.9</td>\n",
       "      <td>NaN</td>\n",
       "      <td>NaN</td>\n",
       "      <td>NaN</td>\n",
       "      <td>NaN</td>\n",
       "      <td>NaN</td>\n",
       "      <td>NaN</td>\n",
       "    </tr>\n",
       "    <tr>\n",
       "      <th>16</th>\n",
       "      <td>NaN</td>\n",
       "      <td>NaN</td>\n",
       "      <td>NaN</td>\n",
       "      <td>NaN</td>\n",
       "      <td>NaN</td>\n",
       "      <td>NaN</td>\n",
       "      <td>NaN</td>\n",
       "      <td>NaN</td>\n",
       "      <td>NaN</td>\n",
       "      <td>NaN</td>\n",
       "      <td>...</td>\n",
       "      <td>NaN</td>\n",
       "      <td>NaN</td>\n",
       "      <td>NaN</td>\n",
       "      <td>826.4</td>\n",
       "      <td>NaN</td>\n",
       "      <td>NaN</td>\n",
       "      <td>NaN</td>\n",
       "      <td>NaN</td>\n",
       "      <td>NaN</td>\n",
       "      <td>NaN</td>\n",
       "    </tr>\n",
       "    <tr>\n",
       "      <th>17</th>\n",
       "      <td>NaN</td>\n",
       "      <td>NaN</td>\n",
       "      <td>NaN</td>\n",
       "      <td>NaN</td>\n",
       "      <td>NaN</td>\n",
       "      <td>NaN</td>\n",
       "      <td>NaN</td>\n",
       "      <td>NaN</td>\n",
       "      <td>NaN</td>\n",
       "      <td>NaN</td>\n",
       "      <td>...</td>\n",
       "      <td>NaN</td>\n",
       "      <td>NaN</td>\n",
       "      <td>NaN</td>\n",
       "      <td>830.5</td>\n",
       "      <td>NaN</td>\n",
       "      <td>NaN</td>\n",
       "      <td>NaN</td>\n",
       "      <td>NaN</td>\n",
       "      <td>NaN</td>\n",
       "      <td>NaN</td>\n",
       "    </tr>\n",
       "    <tr>\n",
       "      <th>18</th>\n",
       "      <td>NaN</td>\n",
       "      <td>NaN</td>\n",
       "      <td>NaN</td>\n",
       "      <td>NaN</td>\n",
       "      <td>NaN</td>\n",
       "      <td>NaN</td>\n",
       "      <td>NaN</td>\n",
       "      <td>NaN</td>\n",
       "      <td>NaN</td>\n",
       "      <td>NaN</td>\n",
       "      <td>...</td>\n",
       "      <td>NaN</td>\n",
       "      <td>NaN</td>\n",
       "      <td>NaN</td>\n",
       "      <td>1210.0</td>\n",
       "      <td>NaN</td>\n",
       "      <td>NaN</td>\n",
       "      <td>NaN</td>\n",
       "      <td>NaN</td>\n",
       "      <td>NaN</td>\n",
       "      <td>NaN</td>\n",
       "    </tr>\n",
       "    <tr>\n",
       "      <th>19</th>\n",
       "      <td>NaN</td>\n",
       "      <td>NaN</td>\n",
       "      <td>NaN</td>\n",
       "      <td>NaN</td>\n",
       "      <td>NaN</td>\n",
       "      <td>NaN</td>\n",
       "      <td>NaN</td>\n",
       "      <td>NaN</td>\n",
       "      <td>NaN</td>\n",
       "      <td>NaN</td>\n",
       "      <td>...</td>\n",
       "      <td>NaN</td>\n",
       "      <td>NaN</td>\n",
       "      <td>NaN</td>\n",
       "      <td>1261.0</td>\n",
       "      <td>NaN</td>\n",
       "      <td>NaN</td>\n",
       "      <td>NaN</td>\n",
       "      <td>NaN</td>\n",
       "      <td>NaN</td>\n",
       "      <td>NaN</td>\n",
       "    </tr>\n",
       "    <tr>\n",
       "      <th>20</th>\n",
       "      <td>NaN</td>\n",
       "      <td>NaN</td>\n",
       "      <td>NaN</td>\n",
       "      <td>NaN</td>\n",
       "      <td>NaN</td>\n",
       "      <td>NaN</td>\n",
       "      <td>NaN</td>\n",
       "      <td>NaN</td>\n",
       "      <td>NaN</td>\n",
       "      <td>NaN</td>\n",
       "      <td>...</td>\n",
       "      <td>NaN</td>\n",
       "      <td>NaN</td>\n",
       "      <td>NaN</td>\n",
       "      <td>1269.0</td>\n",
       "      <td>NaN</td>\n",
       "      <td>NaN</td>\n",
       "      <td>NaN</td>\n",
       "      <td>NaN</td>\n",
       "      <td>NaN</td>\n",
       "      <td>NaN</td>\n",
       "    </tr>\n",
       "    <tr>\n",
       "      <th>21</th>\n",
       "      <td>NaN</td>\n",
       "      <td>NaN</td>\n",
       "      <td>NaN</td>\n",
       "      <td>NaN</td>\n",
       "      <td>NaN</td>\n",
       "      <td>NaN</td>\n",
       "      <td>NaN</td>\n",
       "      <td>NaN</td>\n",
       "      <td>NaN</td>\n",
       "      <td>NaN</td>\n",
       "      <td>...</td>\n",
       "      <td>NaN</td>\n",
       "      <td>NaN</td>\n",
       "      <td>NaN</td>\n",
       "      <td>1437.0</td>\n",
       "      <td>NaN</td>\n",
       "      <td>NaN</td>\n",
       "      <td>NaN</td>\n",
       "      <td>NaN</td>\n",
       "      <td>NaN</td>\n",
       "      <td>NaN</td>\n",
       "    </tr>\n",
       "    <tr>\n",
       "      <th>22</th>\n",
       "      <td>NaN</td>\n",
       "      <td>NaN</td>\n",
       "      <td>NaN</td>\n",
       "      <td>NaN</td>\n",
       "      <td>NaN</td>\n",
       "      <td>NaN</td>\n",
       "      <td>NaN</td>\n",
       "      <td>NaN</td>\n",
       "      <td>NaN</td>\n",
       "      <td>NaN</td>\n",
       "      <td>...</td>\n",
       "      <td>NaN</td>\n",
       "      <td>NaN</td>\n",
       "      <td>NaN</td>\n",
       "      <td>1603.0</td>\n",
       "      <td>NaN</td>\n",
       "      <td>NaN</td>\n",
       "      <td>NaN</td>\n",
       "      <td>NaN</td>\n",
       "      <td>NaN</td>\n",
       "      <td>NaN</td>\n",
       "    </tr>\n",
       "    <tr>\n",
       "      <th>23</th>\n",
       "      <td>NaN</td>\n",
       "      <td>NaN</td>\n",
       "      <td>NaN</td>\n",
       "      <td>NaN</td>\n",
       "      <td>NaN</td>\n",
       "      <td>NaN</td>\n",
       "      <td>NaN</td>\n",
       "      <td>NaN</td>\n",
       "      <td>NaN</td>\n",
       "      <td>NaN</td>\n",
       "      <td>...</td>\n",
       "      <td>NaN</td>\n",
       "      <td>NaN</td>\n",
       "      <td>NaN</td>\n",
       "      <td>1623.0</td>\n",
       "      <td>NaN</td>\n",
       "      <td>NaN</td>\n",
       "      <td>NaN</td>\n",
       "      <td>NaN</td>\n",
       "      <td>NaN</td>\n",
       "      <td>NaN</td>\n",
       "    </tr>\n",
       "    <tr>\n",
       "      <th>24</th>\n",
       "      <td>NaN</td>\n",
       "      <td>NaN</td>\n",
       "      <td>NaN</td>\n",
       "      <td>NaN</td>\n",
       "      <td>NaN</td>\n",
       "      <td>NaN</td>\n",
       "      <td>NaN</td>\n",
       "      <td>NaN</td>\n",
       "      <td>NaN</td>\n",
       "      <td>NaN</td>\n",
       "      <td>...</td>\n",
       "      <td>NaN</td>\n",
       "      <td>NaN</td>\n",
       "      <td>NaN</td>\n",
       "      <td>1750.0</td>\n",
       "      <td>NaN</td>\n",
       "      <td>NaN</td>\n",
       "      <td>NaN</td>\n",
       "      <td>NaN</td>\n",
       "      <td>NaN</td>\n",
       "      <td>NaN</td>\n",
       "    </tr>\n",
       "  </tbody>\n",
       "</table>\n",
       "<p>25 rows × 31 columns</p>\n",
       "</div>"
      ],
      "text/plain": [
       "   diagnosis  radius_mean  texture_mean  perimeter_mean  area_mean  \\\n",
       "0          B        12.34         14.93           82.61      512.2   \n",
       "1        NaN          NaN         15.70           87.76        NaN   \n",
       "2        NaN          NaN         16.84          134.70        NaN   \n",
       "3        NaN          NaN         16.85             NaN        NaN   \n",
       "4        NaN          NaN         17.46             NaN        NaN   \n",
       "5        NaN          NaN         18.22             NaN        NaN   \n",
       "6        NaN          NaN         18.90             NaN        NaN   \n",
       "7        NaN          NaN         19.83             NaN        NaN   \n",
       "8        NaN          NaN         20.52             NaN        NaN   \n",
       "9        NaN          NaN           NaN             NaN        NaN   \n",
       "10       NaN          NaN           NaN             NaN        NaN   \n",
       "11       NaN          NaN           NaN             NaN        NaN   \n",
       "12       NaN          NaN           NaN             NaN        NaN   \n",
       "13       NaN          NaN           NaN             NaN        NaN   \n",
       "14       NaN          NaN           NaN             NaN        NaN   \n",
       "15       NaN          NaN           NaN             NaN        NaN   \n",
       "16       NaN          NaN           NaN             NaN        NaN   \n",
       "17       NaN          NaN           NaN             NaN        NaN   \n",
       "18       NaN          NaN           NaN             NaN        NaN   \n",
       "19       NaN          NaN           NaN             NaN        NaN   \n",
       "20       NaN          NaN           NaN             NaN        NaN   \n",
       "21       NaN          NaN           NaN             NaN        NaN   \n",
       "22       NaN          NaN           NaN             NaN        NaN   \n",
       "23       NaN          NaN           NaN             NaN        NaN   \n",
       "24       NaN          NaN           NaN             NaN        NaN   \n",
       "\n",
       "    smoothness_mean  compactness_mean  concavity_mean  concave points_mean  \\\n",
       "0            0.1007            0.1147             0.0                  0.0   \n",
       "1               NaN            0.1206             NaN                  NaN   \n",
       "2               NaN               NaN             NaN                  NaN   \n",
       "3               NaN               NaN             NaN                  NaN   \n",
       "4               NaN               NaN             NaN                  NaN   \n",
       "5               NaN               NaN             NaN                  NaN   \n",
       "6               NaN               NaN             NaN                  NaN   \n",
       "7               NaN               NaN             NaN                  NaN   \n",
       "8               NaN               NaN             NaN                  NaN   \n",
       "9               NaN               NaN             NaN                  NaN   \n",
       "10              NaN               NaN             NaN                  NaN   \n",
       "11              NaN               NaN             NaN                  NaN   \n",
       "12              NaN               NaN             NaN                  NaN   \n",
       "13              NaN               NaN             NaN                  NaN   \n",
       "14              NaN               NaN             NaN                  NaN   \n",
       "15              NaN               NaN             NaN                  NaN   \n",
       "16              NaN               NaN             NaN                  NaN   \n",
       "17              NaN               NaN             NaN                  NaN   \n",
       "18              NaN               NaN             NaN                  NaN   \n",
       "19              NaN               NaN             NaN                  NaN   \n",
       "20              NaN               NaN             NaN                  NaN   \n",
       "21              NaN               NaN             NaN                  NaN   \n",
       "22              NaN               NaN             NaN                  NaN   \n",
       "23              NaN               NaN             NaN                  NaN   \n",
       "24              NaN               NaN             NaN                  NaN   \n",
       "\n",
       "    symmetry_mean  ...  radius_worst  texture_worst  perimeter_worst  \\\n",
       "0          0.1601  ...         12.36          17.70            101.7   \n",
       "1          0.1714  ...           NaN          27.26            105.9   \n",
       "2          0.1717  ...           NaN            NaN            117.7   \n",
       "3          0.1769  ...           NaN            NaN              NaN   \n",
       "4          0.1893  ...           NaN            NaN              NaN   \n",
       "5             NaN  ...           NaN            NaN              NaN   \n",
       "6             NaN  ...           NaN            NaN              NaN   \n",
       "7             NaN  ...           NaN            NaN              NaN   \n",
       "8             NaN  ...           NaN            NaN              NaN   \n",
       "9             NaN  ...           NaN            NaN              NaN   \n",
       "10            NaN  ...           NaN            NaN              NaN   \n",
       "11            NaN  ...           NaN            NaN              NaN   \n",
       "12            NaN  ...           NaN            NaN              NaN   \n",
       "13            NaN  ...           NaN            NaN              NaN   \n",
       "14            NaN  ...           NaN            NaN              NaN   \n",
       "15            NaN  ...           NaN            NaN              NaN   \n",
       "16            NaN  ...           NaN            NaN              NaN   \n",
       "17            NaN  ...           NaN            NaN              NaN   \n",
       "18            NaN  ...           NaN            NaN              NaN   \n",
       "19            NaN  ...           NaN            NaN              NaN   \n",
       "20            NaN  ...           NaN            NaN              NaN   \n",
       "21            NaN  ...           NaN            NaN              NaN   \n",
       "22            NaN  ...           NaN            NaN              NaN   \n",
       "23            NaN  ...           NaN            NaN              NaN   \n",
       "24            NaN  ...           NaN            NaN              NaN   \n",
       "\n",
       "    area_worst  smoothness_worst  compactness_worst  concavity_worst  \\\n",
       "0        284.4            0.1216             0.1486              0.0   \n",
       "1        402.8            0.1223             0.3416              NaN   \n",
       "2        439.6            0.1234                NaN              NaN   \n",
       "3        458.0            0.1256                NaN              NaN   \n",
       "4        472.4            0.1275                NaN              NaN   \n",
       "5        489.5            0.1312                NaN              NaN   \n",
       "6        546.7            0.1347                NaN              NaN   \n",
       "7        547.4            0.1401                NaN              NaN   \n",
       "8        624.1            0.1415                NaN              NaN   \n",
       "9        698.8               NaN                NaN              NaN   \n",
       "10       706.0               NaN                NaN              NaN   \n",
       "11       708.8               NaN                NaN              NaN   \n",
       "12       725.9               NaN                NaN              NaN   \n",
       "13       733.5               NaN                NaN              NaN   \n",
       "14       749.9               NaN                NaN              NaN   \n",
       "15       808.9               NaN                NaN              NaN   \n",
       "16       826.4               NaN                NaN              NaN   \n",
       "17       830.5               NaN                NaN              NaN   \n",
       "18      1210.0               NaN                NaN              NaN   \n",
       "19      1261.0               NaN                NaN              NaN   \n",
       "20      1269.0               NaN                NaN              NaN   \n",
       "21      1437.0               NaN                NaN              NaN   \n",
       "22      1603.0               NaN                NaN              NaN   \n",
       "23      1623.0               NaN                NaN              NaN   \n",
       "24      1750.0               NaN                NaN              NaN   \n",
       "\n",
       "    concave points_worst  symmetry_worst  fractal_dimension_worst  \n",
       "0                    0.0          0.2226                  0.07427  \n",
       "1                    NaN          0.2369                      NaN  \n",
       "2                    NaN          0.2383                      NaN  \n",
       "3                    NaN          0.2972                      NaN  \n",
       "4                    NaN          0.3109                      NaN  \n",
       "5                    NaN          0.3196                      NaN  \n",
       "6                    NaN             NaN                      NaN  \n",
       "7                    NaN             NaN                      NaN  \n",
       "8                    NaN             NaN                      NaN  \n",
       "9                    NaN             NaN                      NaN  \n",
       "10                   NaN             NaN                      NaN  \n",
       "11                   NaN             NaN                      NaN  \n",
       "12                   NaN             NaN                      NaN  \n",
       "13                   NaN             NaN                      NaN  \n",
       "14                   NaN             NaN                      NaN  \n",
       "15                   NaN             NaN                      NaN  \n",
       "16                   NaN             NaN                      NaN  \n",
       "17                   NaN             NaN                      NaN  \n",
       "18                   NaN             NaN                      NaN  \n",
       "19                   NaN             NaN                      NaN  \n",
       "20                   NaN             NaN                      NaN  \n",
       "21                   NaN             NaN                      NaN  \n",
       "22                   NaN             NaN                      NaN  \n",
       "23                   NaN             NaN                      NaN  \n",
       "24                   NaN             NaN                      NaN  \n",
       "\n",
       "[25 rows x 31 columns]"
      ]
     },
     "execution_count": 14,
     "metadata": {},
     "output_type": "execute_result"
    }
   ],
   "source": [
    "dados_relevante.mode()"
   ]
  },
  {
   "cell_type": "markdown",
   "metadata": {
    "jp-MarkdownHeadingCollapsed": true
   },
   "source": [
    "## **Salvando (Exportando) o Dataframe Tratado**"
   ]
  },
  {
   "cell_type": "code",
   "execution_count": 15,
   "metadata": {},
   "outputs": [],
   "source": [
    "dados_relevante.to_csv('../database/data_cancer2_tratado.csv', sep=',', encoding='utf-8', index = False)"
   ]
  },
  {
   "cell_type": "markdown",
   "metadata": {
    "id": "gczjMn0YIb6s"
   },
   "source": [
    "# **PRÉ-PROCESSAMENTO**"
   ]
  },
  {
   "cell_type": "code",
   "execution_count": 21,
   "metadata": {
    "executionInfo": {
     "elapsed": 3,
     "status": "ok",
     "timestamp": 1689263486766,
     "user": {
      "displayName": "Luciano Galdino",
      "userId": "10237697037323960148"
     },
     "user_tz": 180
    },
    "id": "nWvIcticlCs2"
   },
   "outputs": [],
   "source": [
    "import numpy as np\n",
    "import pandas as pd"
   ]
  },
  {
   "cell_type": "code",
   "execution_count": 22,
   "metadata": {
    "executionInfo": {
     "elapsed": 78,
     "status": "ok",
     "timestamp": 1689263487785,
     "user": {
      "displayName": "Luciano Galdino",
      "userId": "10237697037323960148"
     },
     "user_tz": 180
    },
    "id": "LRIrwcC8kUhT"
   },
   "outputs": [],
   "source": [
    "df_original = pd.read_csv('../database/data_cancer2_tratado.csv',\n",
    "                    sep=',', encoding='utf-8')"
   ]
  },
  {
   "cell_type": "code",
   "execution_count": 23,
   "metadata": {
    "colab": {
     "base_uri": "https://localhost:8080/",
     "height": 0
    },
    "executionInfo": {
     "elapsed": 77,
     "status": "ok",
     "timestamp": 1689263487786,
     "user": {
      "displayName": "Luciano Galdino",
      "userId": "10237697037323960148"
     },
     "user_tz": 180
    },
    "id": "QtugliripIyp",
    "outputId": "bc5ce496-7bce-45a9-c16d-4b917236b3ec"
   },
   "outputs": [
    {
     "data": {
      "text/html": [
       "<div>\n",
       "<style scoped>\n",
       "    .dataframe tbody tr th:only-of-type {\n",
       "        vertical-align: middle;\n",
       "    }\n",
       "\n",
       "    .dataframe tbody tr th {\n",
       "        vertical-align: top;\n",
       "    }\n",
       "\n",
       "    .dataframe thead th {\n",
       "        text-align: right;\n",
       "    }\n",
       "</style>\n",
       "<table border=\"1\" class=\"dataframe\">\n",
       "  <thead>\n",
       "    <tr style=\"text-align: right;\">\n",
       "      <th></th>\n",
       "      <th>diagnosis</th>\n",
       "      <th>radius_mean</th>\n",
       "      <th>texture_mean</th>\n",
       "      <th>perimeter_mean</th>\n",
       "      <th>area_mean</th>\n",
       "      <th>smoothness_mean</th>\n",
       "      <th>compactness_mean</th>\n",
       "      <th>concavity_mean</th>\n",
       "      <th>concave points_mean</th>\n",
       "      <th>symmetry_mean</th>\n",
       "      <th>...</th>\n",
       "      <th>radius_worst</th>\n",
       "      <th>texture_worst</th>\n",
       "      <th>perimeter_worst</th>\n",
       "      <th>area_worst</th>\n",
       "      <th>smoothness_worst</th>\n",
       "      <th>compactness_worst</th>\n",
       "      <th>concavity_worst</th>\n",
       "      <th>concave points_worst</th>\n",
       "      <th>symmetry_worst</th>\n",
       "      <th>fractal_dimension_worst</th>\n",
       "    </tr>\n",
       "  </thead>\n",
       "  <tbody>\n",
       "    <tr>\n",
       "      <th>0</th>\n",
       "      <td>M</td>\n",
       "      <td>17.99</td>\n",
       "      <td>10.38</td>\n",
       "      <td>122.80</td>\n",
       "      <td>1001.0</td>\n",
       "      <td>0.11840</td>\n",
       "      <td>0.27760</td>\n",
       "      <td>0.3001</td>\n",
       "      <td>0.14710</td>\n",
       "      <td>0.2419</td>\n",
       "      <td>...</td>\n",
       "      <td>25.38</td>\n",
       "      <td>17.33</td>\n",
       "      <td>184.60</td>\n",
       "      <td>2019.0</td>\n",
       "      <td>0.1622</td>\n",
       "      <td>0.6656</td>\n",
       "      <td>0.7119</td>\n",
       "      <td>0.2654</td>\n",
       "      <td>0.4601</td>\n",
       "      <td>0.11890</td>\n",
       "    </tr>\n",
       "    <tr>\n",
       "      <th>1</th>\n",
       "      <td>M</td>\n",
       "      <td>20.57</td>\n",
       "      <td>17.77</td>\n",
       "      <td>132.90</td>\n",
       "      <td>1326.0</td>\n",
       "      <td>0.08474</td>\n",
       "      <td>0.07864</td>\n",
       "      <td>0.0869</td>\n",
       "      <td>0.07017</td>\n",
       "      <td>0.1812</td>\n",
       "      <td>...</td>\n",
       "      <td>24.99</td>\n",
       "      <td>23.41</td>\n",
       "      <td>158.80</td>\n",
       "      <td>1956.0</td>\n",
       "      <td>0.1238</td>\n",
       "      <td>0.1866</td>\n",
       "      <td>0.2416</td>\n",
       "      <td>0.1860</td>\n",
       "      <td>0.2750</td>\n",
       "      <td>0.08902</td>\n",
       "    </tr>\n",
       "    <tr>\n",
       "      <th>2</th>\n",
       "      <td>M</td>\n",
       "      <td>19.69</td>\n",
       "      <td>21.25</td>\n",
       "      <td>130.00</td>\n",
       "      <td>1203.0</td>\n",
       "      <td>0.10960</td>\n",
       "      <td>0.15990</td>\n",
       "      <td>0.1974</td>\n",
       "      <td>0.12790</td>\n",
       "      <td>0.2069</td>\n",
       "      <td>...</td>\n",
       "      <td>23.57</td>\n",
       "      <td>25.53</td>\n",
       "      <td>152.50</td>\n",
       "      <td>1709.0</td>\n",
       "      <td>0.1444</td>\n",
       "      <td>0.4245</td>\n",
       "      <td>0.4504</td>\n",
       "      <td>0.2430</td>\n",
       "      <td>0.3613</td>\n",
       "      <td>0.08758</td>\n",
       "    </tr>\n",
       "    <tr>\n",
       "      <th>3</th>\n",
       "      <td>M</td>\n",
       "      <td>11.42</td>\n",
       "      <td>20.38</td>\n",
       "      <td>77.58</td>\n",
       "      <td>386.1</td>\n",
       "      <td>0.14250</td>\n",
       "      <td>0.28390</td>\n",
       "      <td>0.2414</td>\n",
       "      <td>0.10520</td>\n",
       "      <td>0.2597</td>\n",
       "      <td>...</td>\n",
       "      <td>14.91</td>\n",
       "      <td>26.50</td>\n",
       "      <td>98.87</td>\n",
       "      <td>567.7</td>\n",
       "      <td>0.2098</td>\n",
       "      <td>0.8663</td>\n",
       "      <td>0.6869</td>\n",
       "      <td>0.2575</td>\n",
       "      <td>0.6638</td>\n",
       "      <td>0.17300</td>\n",
       "    </tr>\n",
       "    <tr>\n",
       "      <th>4</th>\n",
       "      <td>M</td>\n",
       "      <td>20.29</td>\n",
       "      <td>14.34</td>\n",
       "      <td>135.10</td>\n",
       "      <td>1297.0</td>\n",
       "      <td>0.10030</td>\n",
       "      <td>0.13280</td>\n",
       "      <td>0.1980</td>\n",
       "      <td>0.10430</td>\n",
       "      <td>0.1809</td>\n",
       "      <td>...</td>\n",
       "      <td>22.54</td>\n",
       "      <td>16.67</td>\n",
       "      <td>152.20</td>\n",
       "      <td>1575.0</td>\n",
       "      <td>0.1374</td>\n",
       "      <td>0.2050</td>\n",
       "      <td>0.4000</td>\n",
       "      <td>0.1625</td>\n",
       "      <td>0.2364</td>\n",
       "      <td>0.07678</td>\n",
       "    </tr>\n",
       "  </tbody>\n",
       "</table>\n",
       "<p>5 rows × 31 columns</p>\n",
       "</div>"
      ],
      "text/plain": [
       "  diagnosis  radius_mean  texture_mean  perimeter_mean  area_mean  \\\n",
       "0         M        17.99         10.38          122.80     1001.0   \n",
       "1         M        20.57         17.77          132.90     1326.0   \n",
       "2         M        19.69         21.25          130.00     1203.0   \n",
       "3         M        11.42         20.38           77.58      386.1   \n",
       "4         M        20.29         14.34          135.10     1297.0   \n",
       "\n",
       "   smoothness_mean  compactness_mean  concavity_mean  concave points_mean  \\\n",
       "0          0.11840           0.27760          0.3001              0.14710   \n",
       "1          0.08474           0.07864          0.0869              0.07017   \n",
       "2          0.10960           0.15990          0.1974              0.12790   \n",
       "3          0.14250           0.28390          0.2414              0.10520   \n",
       "4          0.10030           0.13280          0.1980              0.10430   \n",
       "\n",
       "   symmetry_mean  ...  radius_worst  texture_worst  perimeter_worst  \\\n",
       "0         0.2419  ...         25.38          17.33           184.60   \n",
       "1         0.1812  ...         24.99          23.41           158.80   \n",
       "2         0.2069  ...         23.57          25.53           152.50   \n",
       "3         0.2597  ...         14.91          26.50            98.87   \n",
       "4         0.1809  ...         22.54          16.67           152.20   \n",
       "\n",
       "   area_worst  smoothness_worst  compactness_worst  concavity_worst  \\\n",
       "0      2019.0            0.1622             0.6656           0.7119   \n",
       "1      1956.0            0.1238             0.1866           0.2416   \n",
       "2      1709.0            0.1444             0.4245           0.4504   \n",
       "3       567.7            0.2098             0.8663           0.6869   \n",
       "4      1575.0            0.1374             0.2050           0.4000   \n",
       "\n",
       "   concave points_worst  symmetry_worst  fractal_dimension_worst  \n",
       "0                0.2654          0.4601                  0.11890  \n",
       "1                0.1860          0.2750                  0.08902  \n",
       "2                0.2430          0.3613                  0.08758  \n",
       "3                0.2575          0.6638                  0.17300  \n",
       "4                0.1625          0.2364                  0.07678  \n",
       "\n",
       "[5 rows x 31 columns]"
      ]
     },
     "execution_count": 23,
     "metadata": {},
     "output_type": "execute_result"
    }
   ],
   "source": [
    "df_original.head()"
   ]
  },
  {
   "cell_type": "code",
   "execution_count": 24,
   "metadata": {
    "colab": {
     "base_uri": "https://localhost:8080/"
    },
    "executionInfo": {
     "elapsed": 74,
     "status": "ok",
     "timestamp": 1689263487787,
     "user": {
      "displayName": "Luciano Galdino",
      "userId": "10237697037323960148"
     },
     "user_tz": 180
    },
    "id": "NSH5-od1gRAU",
    "outputId": "bb1e364d-266c-45dd-f173-02c0f3ea8e2b"
   },
   "outputs": [
    {
     "data": {
      "text/plain": [
       "(569, 31)"
      ]
     },
     "execution_count": 24,
     "metadata": {},
     "output_type": "execute_result"
    }
   ],
   "source": [
    "df_original.shape"
   ]
  },
  {
   "cell_type": "code",
   "execution_count": 25,
   "metadata": {
    "colab": {
     "base_uri": "https://localhost:8080/"
    },
    "executionInfo": {
     "elapsed": 72,
     "status": "ok",
     "timestamp": 1689263487788,
     "user": {
      "displayName": "Luciano Galdino",
      "userId": "10237697037323960148"
     },
     "user_tz": 180
    },
    "id": "4B4dlBwKvN_A",
    "outputId": "ccd91da7-ae14-4e0c-aaae-f706e0988508"
   },
   "outputs": [
    {
     "data": {
      "text/plain": [
       "diagnosis                   object\n",
       "radius_mean                float64\n",
       "texture_mean               float64\n",
       "perimeter_mean             float64\n",
       "area_mean                  float64\n",
       "smoothness_mean            float64\n",
       "compactness_mean           float64\n",
       "concavity_mean             float64\n",
       "concave points_mean        float64\n",
       "symmetry_mean              float64\n",
       "fractal_dimension_mean     float64\n",
       "radius_se                  float64\n",
       "texture_se                 float64\n",
       "perimeter_se               float64\n",
       "area_se                    float64\n",
       "smoothness_se              float64\n",
       "compactness_se             float64\n",
       "concavity_se               float64\n",
       "concave points_se          float64\n",
       "symmetry_se                float64\n",
       "fractal_dimension_se       float64\n",
       "radius_worst               float64\n",
       "texture_worst              float64\n",
       "perimeter_worst            float64\n",
       "area_worst                 float64\n",
       "smoothness_worst           float64\n",
       "compactness_worst          float64\n",
       "concavity_worst            float64\n",
       "concave points_worst       float64\n",
       "symmetry_worst             float64\n",
       "fractal_dimension_worst    float64\n",
       "dtype: object"
      ]
     },
     "execution_count": 25,
     "metadata": {},
     "output_type": "execute_result"
    }
   ],
   "source": [
    "df_original.dtypes"
   ]
  },
  {
   "cell_type": "markdown",
   "metadata": {
    "id": "a-DfpMtio-sq",
    "jp-MarkdownHeadingCollapsed": true
   },
   "source": [
    "## **Transformando as variáveis categóricas nominais em variáveis categóricas ordinais**"
   ]
  },
  {
   "cell_type": "code",
   "execution_count": 26,
   "metadata": {
    "executionInfo": {
     "elapsed": 71,
     "status": "ok",
     "timestamp": 1689263487789,
     "user": {
      "displayName": "Luciano Galdino",
      "userId": "10237697037323960148"
     },
     "user_tz": 180
    },
    "id": "JntPfMmptEhg"
   },
   "outputs": [],
   "source": [
    "df_ordinal = pd.DataFrame.copy(df_original)"
   ]
  },
  {
   "cell_type": "code",
   "execution_count": 27,
   "metadata": {
    "executionInfo": {
     "elapsed": 71,
     "status": "ok",
     "timestamp": 1689263487790,
     "user": {
      "displayName": "Luciano Galdino",
      "userId": "10237697037323960148"
     },
     "user_tz": 180
    },
    "id": "KUxPnNEhrsjL"
   },
   "outputs": [],
   "source": [
    "df_ordinal['diagnosis'].replace({'M':1, 'B': 0}, inplace=True)"
   ]
  },
  {
   "cell_type": "code",
   "execution_count": 28,
   "metadata": {
    "colab": {
     "base_uri": "https://localhost:8080/",
     "height": 0
    },
    "executionInfo": {
     "elapsed": 71,
     "status": "ok",
     "timestamp": 1689263487791,
     "user": {
      "displayName": "Luciano Galdino",
      "userId": "10237697037323960148"
     },
     "user_tz": 180
    },
    "id": "1aTDlfUZpfJi",
    "outputId": "2a0ec0ae-3a61-404d-d938-fa98c7ac0200"
   },
   "outputs": [
    {
     "data": {
      "text/html": [
       "<div>\n",
       "<style scoped>\n",
       "    .dataframe tbody tr th:only-of-type {\n",
       "        vertical-align: middle;\n",
       "    }\n",
       "\n",
       "    .dataframe tbody tr th {\n",
       "        vertical-align: top;\n",
       "    }\n",
       "\n",
       "    .dataframe thead th {\n",
       "        text-align: right;\n",
       "    }\n",
       "</style>\n",
       "<table border=\"1\" class=\"dataframe\">\n",
       "  <thead>\n",
       "    <tr style=\"text-align: right;\">\n",
       "      <th></th>\n",
       "      <th>diagnosis</th>\n",
       "      <th>radius_mean</th>\n",
       "      <th>texture_mean</th>\n",
       "      <th>perimeter_mean</th>\n",
       "      <th>area_mean</th>\n",
       "      <th>smoothness_mean</th>\n",
       "      <th>compactness_mean</th>\n",
       "      <th>concavity_mean</th>\n",
       "      <th>concave points_mean</th>\n",
       "      <th>symmetry_mean</th>\n",
       "      <th>...</th>\n",
       "      <th>radius_worst</th>\n",
       "      <th>texture_worst</th>\n",
       "      <th>perimeter_worst</th>\n",
       "      <th>area_worst</th>\n",
       "      <th>smoothness_worst</th>\n",
       "      <th>compactness_worst</th>\n",
       "      <th>concavity_worst</th>\n",
       "      <th>concave points_worst</th>\n",
       "      <th>symmetry_worst</th>\n",
       "      <th>fractal_dimension_worst</th>\n",
       "    </tr>\n",
       "  </thead>\n",
       "  <tbody>\n",
       "    <tr>\n",
       "      <th>0</th>\n",
       "      <td>1</td>\n",
       "      <td>17.99</td>\n",
       "      <td>10.38</td>\n",
       "      <td>122.80</td>\n",
       "      <td>1001.0</td>\n",
       "      <td>0.11840</td>\n",
       "      <td>0.27760</td>\n",
       "      <td>0.3001</td>\n",
       "      <td>0.14710</td>\n",
       "      <td>0.2419</td>\n",
       "      <td>...</td>\n",
       "      <td>25.38</td>\n",
       "      <td>17.33</td>\n",
       "      <td>184.60</td>\n",
       "      <td>2019.0</td>\n",
       "      <td>0.1622</td>\n",
       "      <td>0.6656</td>\n",
       "      <td>0.7119</td>\n",
       "      <td>0.2654</td>\n",
       "      <td>0.4601</td>\n",
       "      <td>0.11890</td>\n",
       "    </tr>\n",
       "    <tr>\n",
       "      <th>1</th>\n",
       "      <td>1</td>\n",
       "      <td>20.57</td>\n",
       "      <td>17.77</td>\n",
       "      <td>132.90</td>\n",
       "      <td>1326.0</td>\n",
       "      <td>0.08474</td>\n",
       "      <td>0.07864</td>\n",
       "      <td>0.0869</td>\n",
       "      <td>0.07017</td>\n",
       "      <td>0.1812</td>\n",
       "      <td>...</td>\n",
       "      <td>24.99</td>\n",
       "      <td>23.41</td>\n",
       "      <td>158.80</td>\n",
       "      <td>1956.0</td>\n",
       "      <td>0.1238</td>\n",
       "      <td>0.1866</td>\n",
       "      <td>0.2416</td>\n",
       "      <td>0.1860</td>\n",
       "      <td>0.2750</td>\n",
       "      <td>0.08902</td>\n",
       "    </tr>\n",
       "    <tr>\n",
       "      <th>2</th>\n",
       "      <td>1</td>\n",
       "      <td>19.69</td>\n",
       "      <td>21.25</td>\n",
       "      <td>130.00</td>\n",
       "      <td>1203.0</td>\n",
       "      <td>0.10960</td>\n",
       "      <td>0.15990</td>\n",
       "      <td>0.1974</td>\n",
       "      <td>0.12790</td>\n",
       "      <td>0.2069</td>\n",
       "      <td>...</td>\n",
       "      <td>23.57</td>\n",
       "      <td>25.53</td>\n",
       "      <td>152.50</td>\n",
       "      <td>1709.0</td>\n",
       "      <td>0.1444</td>\n",
       "      <td>0.4245</td>\n",
       "      <td>0.4504</td>\n",
       "      <td>0.2430</td>\n",
       "      <td>0.3613</td>\n",
       "      <td>0.08758</td>\n",
       "    </tr>\n",
       "    <tr>\n",
       "      <th>3</th>\n",
       "      <td>1</td>\n",
       "      <td>11.42</td>\n",
       "      <td>20.38</td>\n",
       "      <td>77.58</td>\n",
       "      <td>386.1</td>\n",
       "      <td>0.14250</td>\n",
       "      <td>0.28390</td>\n",
       "      <td>0.2414</td>\n",
       "      <td>0.10520</td>\n",
       "      <td>0.2597</td>\n",
       "      <td>...</td>\n",
       "      <td>14.91</td>\n",
       "      <td>26.50</td>\n",
       "      <td>98.87</td>\n",
       "      <td>567.7</td>\n",
       "      <td>0.2098</td>\n",
       "      <td>0.8663</td>\n",
       "      <td>0.6869</td>\n",
       "      <td>0.2575</td>\n",
       "      <td>0.6638</td>\n",
       "      <td>0.17300</td>\n",
       "    </tr>\n",
       "    <tr>\n",
       "      <th>4</th>\n",
       "      <td>1</td>\n",
       "      <td>20.29</td>\n",
       "      <td>14.34</td>\n",
       "      <td>135.10</td>\n",
       "      <td>1297.0</td>\n",
       "      <td>0.10030</td>\n",
       "      <td>0.13280</td>\n",
       "      <td>0.1980</td>\n",
       "      <td>0.10430</td>\n",
       "      <td>0.1809</td>\n",
       "      <td>...</td>\n",
       "      <td>22.54</td>\n",
       "      <td>16.67</td>\n",
       "      <td>152.20</td>\n",
       "      <td>1575.0</td>\n",
       "      <td>0.1374</td>\n",
       "      <td>0.2050</td>\n",
       "      <td>0.4000</td>\n",
       "      <td>0.1625</td>\n",
       "      <td>0.2364</td>\n",
       "      <td>0.07678</td>\n",
       "    </tr>\n",
       "  </tbody>\n",
       "</table>\n",
       "<p>5 rows × 31 columns</p>\n",
       "</div>"
      ],
      "text/plain": [
       "   diagnosis  radius_mean  texture_mean  perimeter_mean  area_mean  \\\n",
       "0          1        17.99         10.38          122.80     1001.0   \n",
       "1          1        20.57         17.77          132.90     1326.0   \n",
       "2          1        19.69         21.25          130.00     1203.0   \n",
       "3          1        11.42         20.38           77.58      386.1   \n",
       "4          1        20.29         14.34          135.10     1297.0   \n",
       "\n",
       "   smoothness_mean  compactness_mean  concavity_mean  concave points_mean  \\\n",
       "0          0.11840           0.27760          0.3001              0.14710   \n",
       "1          0.08474           0.07864          0.0869              0.07017   \n",
       "2          0.10960           0.15990          0.1974              0.12790   \n",
       "3          0.14250           0.28390          0.2414              0.10520   \n",
       "4          0.10030           0.13280          0.1980              0.10430   \n",
       "\n",
       "   symmetry_mean  ...  radius_worst  texture_worst  perimeter_worst  \\\n",
       "0         0.2419  ...         25.38          17.33           184.60   \n",
       "1         0.1812  ...         24.99          23.41           158.80   \n",
       "2         0.2069  ...         23.57          25.53           152.50   \n",
       "3         0.2597  ...         14.91          26.50            98.87   \n",
       "4         0.1809  ...         22.54          16.67           152.20   \n",
       "\n",
       "   area_worst  smoothness_worst  compactness_worst  concavity_worst  \\\n",
       "0      2019.0            0.1622             0.6656           0.7119   \n",
       "1      1956.0            0.1238             0.1866           0.2416   \n",
       "2      1709.0            0.1444             0.4245           0.4504   \n",
       "3       567.7            0.2098             0.8663           0.6869   \n",
       "4      1575.0            0.1374             0.2050           0.4000   \n",
       "\n",
       "   concave points_worst  symmetry_worst  fractal_dimension_worst  \n",
       "0                0.2654          0.4601                  0.11890  \n",
       "1                0.1860          0.2750                  0.08902  \n",
       "2                0.2430          0.3613                  0.08758  \n",
       "3                0.2575          0.6638                  0.17300  \n",
       "4                0.1625          0.2364                  0.07678  \n",
       "\n",
       "[5 rows x 31 columns]"
      ]
     },
     "execution_count": 28,
     "metadata": {},
     "output_type": "execute_result"
    }
   ],
   "source": [
    "df_ordinal.head()"
   ]
  },
  {
   "cell_type": "code",
   "execution_count": 29,
   "metadata": {
    "colab": {
     "base_uri": "https://localhost:8080/"
    },
    "executionInfo": {
     "elapsed": 69,
     "status": "ok",
     "timestamp": 1689263487792,
     "user": {
      "displayName": "Luciano Galdino",
      "userId": "10237697037323960148"
     },
     "user_tz": 180
    },
    "id": "6kC-deH0giws",
    "outputId": "f633efe8-5844-4a7b-9609-15b1af6cca9b"
   },
   "outputs": [
    {
     "data": {
      "text/plain": [
       "diagnosis                    int64\n",
       "radius_mean                float64\n",
       "texture_mean               float64\n",
       "perimeter_mean             float64\n",
       "area_mean                  float64\n",
       "smoothness_mean            float64\n",
       "compactness_mean           float64\n",
       "concavity_mean             float64\n",
       "concave points_mean        float64\n",
       "symmetry_mean              float64\n",
       "fractal_dimension_mean     float64\n",
       "radius_se                  float64\n",
       "texture_se                 float64\n",
       "perimeter_se               float64\n",
       "area_se                    float64\n",
       "smoothness_se              float64\n",
       "compactness_se             float64\n",
       "concavity_se               float64\n",
       "concave points_se          float64\n",
       "symmetry_se                float64\n",
       "fractal_dimension_se       float64\n",
       "radius_worst               float64\n",
       "texture_worst              float64\n",
       "perimeter_worst            float64\n",
       "area_worst                 float64\n",
       "smoothness_worst           float64\n",
       "compactness_worst          float64\n",
       "concavity_worst            float64\n",
       "concave points_worst       float64\n",
       "symmetry_worst             float64\n",
       "fractal_dimension_worst    float64\n",
       "dtype: object"
      ]
     },
     "execution_count": 29,
     "metadata": {},
     "output_type": "execute_result"
    }
   ],
   "source": [
    "df_ordinal.dtypes"
   ]
  },
  {
   "cell_type": "code",
   "execution_count": 30,
   "metadata": {
    "colab": {
     "base_uri": "https://localhost:8080/"
    },
    "executionInfo": {
     "elapsed": 67,
     "status": "ok",
     "timestamp": 1689263487793,
     "user": {
      "displayName": "Luciano Galdino",
      "userId": "10237697037323960148"
     },
     "user_tz": 180
    },
    "id": "e3oELnDctqsq",
    "outputId": "ec89dc09-5cbe-4de4-b7f6-3dea18dff475"
   },
   "outputs": [
    {
     "data": {
      "text/plain": [
       "(569, 31)"
      ]
     },
     "execution_count": 30,
     "metadata": {},
     "output_type": "execute_result"
    }
   ],
   "source": [
    "df_ordinal.shape"
   ]
  },
  {
   "cell_type": "markdown",
   "metadata": {
    "id": "khuvnjo8ta5k",
    "jp-MarkdownHeadingCollapsed": true
   },
   "source": [
    "## **LEGENDA**"
   ]
  },
  {
   "cell_type": "markdown",
   "metadata": {
    "id": "9Kz8O68wpsY3"
   },
   "source": [
    "Atributos:\n",
    "\n",
    "- **id**: Um número inteiro que serve como identificador único para cada amostra.\n",
    "- **diagnosis**: Uma string que representa o diagnóstico, onde 1 (‘M’) indica maligno e 0 (‘B’) indica benigno.\n",
    "- **radius_mean**: Um número real que representa a média dos raios dos núcleos celulares.\n",
    "- **texture_mean**: Um número real que representa a média do desvio padrão dos valores de escala de cinza.\n",
    "- **perimeter_mean**: Um número real que representa a média dos perímetros dos núcleos celulares.\n",
    "- **area_mean**: Um número real que representa a média das áreas dos núcleos celulares.\n",
    "- **smoothness_mean**: Um número real que representa a média da variação local nos comprimentos dos raios dos núcleos celulares.\n",
    "- **compactness_mean**: Um número real que representa a média da compacidade dos núcleos celulares, calculada como $$\\text{perímetro}^2/\\text{área} - 1.0$$.\n",
    "- **concavity_mean**: Um número real que representa a média da gravidade das porções côncavas do contorno dos núcleos celulares.\n",
    "- **concave points_mean**: Um número real que representa a média do número de porções côncavas do contorno dos núcleos celulares.\n",
    "- **symmetry_mean**: Um número real que representa a média da simetria dos núcleos celulares.\n",
    "- **fractal_dimension_mean**: Um número real que representa a média da “aproximação da linha costeira - 1” dos núcleos celulares.\n",
    "- **radius_se**: Um número real que representa o erro padrão dos raios dos núcleos celulares.\n",
    "- **texture_se**: Um número real que representa o erro padrão do desvio padrão dos valores de escala de cinza.\n",
    "- **perimeter_se**: Um número real que representa o erro padrão dos perímetros dos núcleos celulares.\n",
    "- **area_se**: Um número real que representa o erro padrão das áreas dos núcleos celulares.\n",
    "- **smoothness_se**: Um número real que representa o erro padrão da variação local nos comprimentos dos raios dos núcleos celulares.\n",
    "- **compactness_se**: Um número real que representa o erro padrão da compacidade dos núcleos celulares.\n",
    "- **concavity_se**: Um número real que representa o erro padrão da gravidade das porções côncavas do contorno dos núcleos celulares.\n",
    "- **concave points_se**: Um número real que representa o erro padrão do número de porções côncavas do contorno dos núcleos celulares.\n",
    "- **symmetry_se**: Um número real que representa o erro padrão da simetria dos núcleos celulares.\n",
    "- **fractal_dimension_se**: Um número real que representa o erro padrão da “aproximação da linha costeira - 1” dos núcleos celulares.\n",
    "- **radius_worst**: Um número real que representa o maior valor médio dos raios dos núcleos celulares.\n",
    "- **texture_worst**: Um número real que representa o maior valor médio do desvio padrão dos valores de escala de cinza.\n",
    "- **perimeter_worst**: Um número real que representa o maior valor médio dos perímetros dos núcleos celulares.\n",
    "- **area_worst**: Um número real que representa o maior valor médio das áreas dos núcleos celulares.\n",
    "- **smoothness_worst**: Um número real que representa o maior valor médio da variação local nos comprimentos dos raios dos núcleos celulares.\n",
    "- **compactness_worst**: Um número real que representa o maior valor médio da compacidade dos núcleos celulares.\n",
    "- **concavity_worst**: Um número real que representa o maior valor médio da gravidade das porções côncavas do contorno dos núcleos celulares.\n",
    "- **concave points_worst**: Um número real que representa o maior valor médio do número de porções côncavas do contorno dos núcleos celulares.\n",
    "- **symmetry_worst**: Um número real que representa o maior valor médio da simetria dos núcleos celulares.\n",
    "- **fractal_dimension_worst**: Um número real que representa o maior valor médio da “aproximação da linha costeira - 1” dos núcleos celulares."
   ]
  },
  {
   "cell_type": "markdown",
   "metadata": {
    "id": "_NBxZCLzC8Bl",
    "jp-MarkdownHeadingCollapsed": true
   },
   "source": [
    "## **ATRIBUTOS PREVISORES E ALVO**"
   ]
  },
  {
   "cell_type": "code",
   "execution_count": 31,
   "metadata": {
    "colab": {
     "base_uri": "https://localhost:8080/",
     "height": 0
    },
    "executionInfo": {
     "elapsed": 66,
     "status": "ok",
     "timestamp": 1689263487794,
     "user": {
      "displayName": "Luciano Galdino",
      "userId": "10237697037323960148"
     },
     "user_tz": 180
    },
    "id": "eLzWunR78ozP",
    "outputId": "d7dd5d94-abe4-439a-a7ba-c5bebd28b143"
   },
   "outputs": [
    {
     "data": {
      "text/html": [
       "<div>\n",
       "<style scoped>\n",
       "    .dataframe tbody tr th:only-of-type {\n",
       "        vertical-align: middle;\n",
       "    }\n",
       "\n",
       "    .dataframe tbody tr th {\n",
       "        vertical-align: top;\n",
       "    }\n",
       "\n",
       "    .dataframe thead th {\n",
       "        text-align: right;\n",
       "    }\n",
       "</style>\n",
       "<table border=\"1\" class=\"dataframe\">\n",
       "  <thead>\n",
       "    <tr style=\"text-align: right;\">\n",
       "      <th></th>\n",
       "      <th>diagnosis</th>\n",
       "      <th>radius_mean</th>\n",
       "      <th>texture_mean</th>\n",
       "      <th>perimeter_mean</th>\n",
       "      <th>area_mean</th>\n",
       "      <th>smoothness_mean</th>\n",
       "      <th>compactness_mean</th>\n",
       "      <th>concavity_mean</th>\n",
       "      <th>concave points_mean</th>\n",
       "      <th>symmetry_mean</th>\n",
       "      <th>...</th>\n",
       "      <th>radius_worst</th>\n",
       "      <th>texture_worst</th>\n",
       "      <th>perimeter_worst</th>\n",
       "      <th>area_worst</th>\n",
       "      <th>smoothness_worst</th>\n",
       "      <th>compactness_worst</th>\n",
       "      <th>concavity_worst</th>\n",
       "      <th>concave points_worst</th>\n",
       "      <th>symmetry_worst</th>\n",
       "      <th>fractal_dimension_worst</th>\n",
       "    </tr>\n",
       "  </thead>\n",
       "  <tbody>\n",
       "    <tr>\n",
       "      <th>0</th>\n",
       "      <td>1</td>\n",
       "      <td>17.99</td>\n",
       "      <td>10.38</td>\n",
       "      <td>122.80</td>\n",
       "      <td>1001.0</td>\n",
       "      <td>0.11840</td>\n",
       "      <td>0.27760</td>\n",
       "      <td>0.3001</td>\n",
       "      <td>0.14710</td>\n",
       "      <td>0.2419</td>\n",
       "      <td>...</td>\n",
       "      <td>25.38</td>\n",
       "      <td>17.33</td>\n",
       "      <td>184.60</td>\n",
       "      <td>2019.0</td>\n",
       "      <td>0.1622</td>\n",
       "      <td>0.6656</td>\n",
       "      <td>0.7119</td>\n",
       "      <td>0.2654</td>\n",
       "      <td>0.4601</td>\n",
       "      <td>0.11890</td>\n",
       "    </tr>\n",
       "    <tr>\n",
       "      <th>1</th>\n",
       "      <td>1</td>\n",
       "      <td>20.57</td>\n",
       "      <td>17.77</td>\n",
       "      <td>132.90</td>\n",
       "      <td>1326.0</td>\n",
       "      <td>0.08474</td>\n",
       "      <td>0.07864</td>\n",
       "      <td>0.0869</td>\n",
       "      <td>0.07017</td>\n",
       "      <td>0.1812</td>\n",
       "      <td>...</td>\n",
       "      <td>24.99</td>\n",
       "      <td>23.41</td>\n",
       "      <td>158.80</td>\n",
       "      <td>1956.0</td>\n",
       "      <td>0.1238</td>\n",
       "      <td>0.1866</td>\n",
       "      <td>0.2416</td>\n",
       "      <td>0.1860</td>\n",
       "      <td>0.2750</td>\n",
       "      <td>0.08902</td>\n",
       "    </tr>\n",
       "    <tr>\n",
       "      <th>2</th>\n",
       "      <td>1</td>\n",
       "      <td>19.69</td>\n",
       "      <td>21.25</td>\n",
       "      <td>130.00</td>\n",
       "      <td>1203.0</td>\n",
       "      <td>0.10960</td>\n",
       "      <td>0.15990</td>\n",
       "      <td>0.1974</td>\n",
       "      <td>0.12790</td>\n",
       "      <td>0.2069</td>\n",
       "      <td>...</td>\n",
       "      <td>23.57</td>\n",
       "      <td>25.53</td>\n",
       "      <td>152.50</td>\n",
       "      <td>1709.0</td>\n",
       "      <td>0.1444</td>\n",
       "      <td>0.4245</td>\n",
       "      <td>0.4504</td>\n",
       "      <td>0.2430</td>\n",
       "      <td>0.3613</td>\n",
       "      <td>0.08758</td>\n",
       "    </tr>\n",
       "    <tr>\n",
       "      <th>3</th>\n",
       "      <td>1</td>\n",
       "      <td>11.42</td>\n",
       "      <td>20.38</td>\n",
       "      <td>77.58</td>\n",
       "      <td>386.1</td>\n",
       "      <td>0.14250</td>\n",
       "      <td>0.28390</td>\n",
       "      <td>0.2414</td>\n",
       "      <td>0.10520</td>\n",
       "      <td>0.2597</td>\n",
       "      <td>...</td>\n",
       "      <td>14.91</td>\n",
       "      <td>26.50</td>\n",
       "      <td>98.87</td>\n",
       "      <td>567.7</td>\n",
       "      <td>0.2098</td>\n",
       "      <td>0.8663</td>\n",
       "      <td>0.6869</td>\n",
       "      <td>0.2575</td>\n",
       "      <td>0.6638</td>\n",
       "      <td>0.17300</td>\n",
       "    </tr>\n",
       "    <tr>\n",
       "      <th>4</th>\n",
       "      <td>1</td>\n",
       "      <td>20.29</td>\n",
       "      <td>14.34</td>\n",
       "      <td>135.10</td>\n",
       "      <td>1297.0</td>\n",
       "      <td>0.10030</td>\n",
       "      <td>0.13280</td>\n",
       "      <td>0.1980</td>\n",
       "      <td>0.10430</td>\n",
       "      <td>0.1809</td>\n",
       "      <td>...</td>\n",
       "      <td>22.54</td>\n",
       "      <td>16.67</td>\n",
       "      <td>152.20</td>\n",
       "      <td>1575.0</td>\n",
       "      <td>0.1374</td>\n",
       "      <td>0.2050</td>\n",
       "      <td>0.4000</td>\n",
       "      <td>0.1625</td>\n",
       "      <td>0.2364</td>\n",
       "      <td>0.07678</td>\n",
       "    </tr>\n",
       "  </tbody>\n",
       "</table>\n",
       "<p>5 rows × 31 columns</p>\n",
       "</div>"
      ],
      "text/plain": [
       "   diagnosis  radius_mean  texture_mean  perimeter_mean  area_mean  \\\n",
       "0          1        17.99         10.38          122.80     1001.0   \n",
       "1          1        20.57         17.77          132.90     1326.0   \n",
       "2          1        19.69         21.25          130.00     1203.0   \n",
       "3          1        11.42         20.38           77.58      386.1   \n",
       "4          1        20.29         14.34          135.10     1297.0   \n",
       "\n",
       "   smoothness_mean  compactness_mean  concavity_mean  concave points_mean  \\\n",
       "0          0.11840           0.27760          0.3001              0.14710   \n",
       "1          0.08474           0.07864          0.0869              0.07017   \n",
       "2          0.10960           0.15990          0.1974              0.12790   \n",
       "3          0.14250           0.28390          0.2414              0.10520   \n",
       "4          0.10030           0.13280          0.1980              0.10430   \n",
       "\n",
       "   symmetry_mean  ...  radius_worst  texture_worst  perimeter_worst  \\\n",
       "0         0.2419  ...         25.38          17.33           184.60   \n",
       "1         0.1812  ...         24.99          23.41           158.80   \n",
       "2         0.2069  ...         23.57          25.53           152.50   \n",
       "3         0.2597  ...         14.91          26.50            98.87   \n",
       "4         0.1809  ...         22.54          16.67           152.20   \n",
       "\n",
       "   area_worst  smoothness_worst  compactness_worst  concavity_worst  \\\n",
       "0      2019.0            0.1622             0.6656           0.7119   \n",
       "1      1956.0            0.1238             0.1866           0.2416   \n",
       "2      1709.0            0.1444             0.4245           0.4504   \n",
       "3       567.7            0.2098             0.8663           0.6869   \n",
       "4      1575.0            0.1374             0.2050           0.4000   \n",
       "\n",
       "   concave points_worst  symmetry_worst  fractal_dimension_worst  \n",
       "0                0.2654          0.4601                  0.11890  \n",
       "1                0.1860          0.2750                  0.08902  \n",
       "2                0.2430          0.3613                  0.08758  \n",
       "3                0.2575          0.6638                  0.17300  \n",
       "4                0.1625          0.2364                  0.07678  \n",
       "\n",
       "[5 rows x 31 columns]"
      ]
     },
     "execution_count": 31,
     "metadata": {},
     "output_type": "execute_result"
    }
   ],
   "source": [
    "df_ordinal.head()"
   ]
  },
  {
   "cell_type": "code",
   "execution_count": 32,
   "metadata": {
    "executionInfo": {
     "elapsed": 65,
     "status": "ok",
     "timestamp": 1689263487795,
     "user": {
      "displayName": "Luciano Galdino",
      "userId": "10237697037323960148"
     },
     "user_tz": 180
    },
    "id": "alp9Gsx8z6f3"
   },
   "outputs": [],
   "source": [
    "previsores = df_ordinal.iloc[:, 1:32].values\n"
   ]
  },
  {
   "cell_type": "code",
   "execution_count": 33,
   "metadata": {
    "colab": {
     "base_uri": "https://localhost:8080/"
    },
    "executionInfo": {
     "elapsed": 66,
     "status": "ok",
     "timestamp": 1689263487797,
     "user": {
      "displayName": "Luciano Galdino",
      "userId": "10237697037323960148"
     },
     "user_tz": 180
    },
    "id": "ZJjs6cWq-9Bn",
    "outputId": "cb79db7d-fbe8-4b29-efe8-f50820576a62"
   },
   "outputs": [
    {
     "data": {
      "text/plain": [
       "array([[1.799e+01, 1.038e+01, 1.228e+02, ..., 2.654e-01, 4.601e-01,\n",
       "        1.189e-01],\n",
       "       [2.057e+01, 1.777e+01, 1.329e+02, ..., 1.860e-01, 2.750e-01,\n",
       "        8.902e-02],\n",
       "       [1.969e+01, 2.125e+01, 1.300e+02, ..., 2.430e-01, 3.613e-01,\n",
       "        8.758e-02],\n",
       "       ...,\n",
       "       [1.660e+01, 2.808e+01, 1.083e+02, ..., 1.418e-01, 2.218e-01,\n",
       "        7.820e-02],\n",
       "       [2.060e+01, 2.933e+01, 1.401e+02, ..., 2.650e-01, 4.087e-01,\n",
       "        1.240e-01],\n",
       "       [7.760e+00, 2.454e+01, 4.792e+01, ..., 0.000e+00, 2.871e-01,\n",
       "        7.039e-02]])"
      ]
     },
     "execution_count": 33,
     "metadata": {},
     "output_type": "execute_result"
    }
   ],
   "source": [
    "previsores"
   ]
  },
  {
   "cell_type": "code",
   "execution_count": 34,
   "metadata": {
    "colab": {
     "base_uri": "https://localhost:8080/"
    },
    "executionInfo": {
     "elapsed": 64,
     "status": "ok",
     "timestamp": 1689263487797,
     "user": {
      "displayName": "Luciano Galdino",
      "userId": "10237697037323960148"
     },
     "user_tz": 180
    },
    "id": "KrtsyKXXAxTL",
    "outputId": "409d0a66-7d23-4462-f88c-f351ae71557b"
   },
   "outputs": [
    {
     "data": {
      "text/plain": [
       "(569, 30)"
      ]
     },
     "execution_count": 34,
     "metadata": {},
     "output_type": "execute_result"
    }
   ],
   "source": [
    "previsores.shape"
   ]
  },
  {
   "cell_type": "code",
   "execution_count": 35,
   "metadata": {
    "executionInfo": {
     "elapsed": 64,
     "status": "ok",
     "timestamp": 1689263487799,
     "user": {
      "displayName": "Luciano Galdino",
      "userId": "10237697037323960148"
     },
     "user_tz": 180
    },
    "id": "wdXWRjHMBAFo"
   },
   "outputs": [],
   "source": [
    "alvo = df_ordinal.iloc[:, 0].values"
   ]
  },
  {
   "cell_type": "code",
   "execution_count": 36,
   "metadata": {
    "colab": {
     "base_uri": "https://localhost:8080/"
    },
    "executionInfo": {
     "elapsed": 64,
     "status": "ok",
     "timestamp": 1689263487800,
     "user": {
      "displayName": "Luciano Galdino",
      "userId": "10237697037323960148"
     },
     "user_tz": 180
    },
    "id": "wK163BWgBJg2",
    "outputId": "273ed284-7c25-4967-c3f4-f8db261dc236"
   },
   "outputs": [
    {
     "data": {
      "text/plain": [
       "array([1, 1, 1, 1, 1, 1, 1, 1, 1, 1, 1, 1, 1, 1, 1, 1, 1, 1, 1, 0, 0, 0,\n",
       "       1, 1, 1, 1, 1, 1, 1, 1, 1, 1, 1, 1, 1, 1, 1, 0, 1, 1, 1, 1, 1, 1,\n",
       "       1, 1, 0, 1, 0, 0, 0, 0, 0, 1, 1, 0, 1, 1, 0, 0, 0, 0, 1, 0, 1, 1,\n",
       "       0, 0, 0, 0, 1, 0, 1, 1, 0, 1, 0, 1, 1, 0, 0, 0, 1, 1, 0, 1, 1, 1,\n",
       "       0, 0, 0, 1, 0, 0, 1, 1, 0, 0, 0, 1, 1, 0, 0, 0, 0, 1, 0, 0, 1, 0,\n",
       "       0, 0, 0, 0, 0, 0, 0, 1, 1, 1, 0, 1, 1, 0, 0, 0, 1, 1, 0, 1, 0, 1,\n",
       "       1, 0, 1, 1, 0, 0, 1, 0, 0, 1, 0, 0, 0, 0, 1, 0, 0, 0, 0, 0, 0, 0,\n",
       "       0, 0, 1, 0, 0, 0, 0, 1, 1, 0, 1, 0, 0, 1, 1, 0, 0, 1, 1, 0, 0, 0,\n",
       "       0, 1, 0, 0, 1, 1, 1, 0, 1, 0, 1, 0, 0, 0, 1, 0, 0, 1, 1, 0, 1, 1,\n",
       "       1, 1, 0, 1, 1, 1, 0, 1, 0, 1, 0, 0, 1, 0, 1, 1, 1, 1, 0, 0, 1, 1,\n",
       "       0, 0, 0, 1, 0, 0, 0, 0, 0, 1, 1, 0, 0, 1, 0, 0, 1, 1, 0, 1, 0, 0,\n",
       "       0, 0, 1, 0, 0, 0, 0, 0, 1, 0, 1, 1, 1, 1, 1, 1, 1, 1, 1, 1, 1, 1,\n",
       "       1, 1, 0, 0, 0, 0, 0, 0, 1, 0, 1, 0, 0, 1, 0, 0, 1, 0, 1, 1, 0, 0,\n",
       "       0, 0, 0, 0, 0, 0, 0, 0, 0, 0, 0, 1, 0, 0, 1, 0, 1, 0, 0, 0, 0, 0,\n",
       "       0, 0, 0, 0, 0, 0, 0, 0, 0, 1, 0, 0, 0, 1, 0, 1, 0, 0, 0, 0, 1, 1,\n",
       "       1, 0, 0, 0, 0, 1, 0, 1, 0, 1, 0, 0, 0, 1, 0, 0, 0, 0, 0, 0, 0, 1,\n",
       "       1, 1, 0, 0, 0, 0, 0, 0, 0, 0, 0, 0, 0, 1, 1, 0, 1, 1, 1, 0, 1, 1,\n",
       "       0, 0, 0, 0, 0, 1, 0, 0, 0, 0, 0, 1, 0, 0, 0, 1, 0, 0, 1, 1, 0, 0,\n",
       "       0, 0, 0, 0, 1, 0, 0, 0, 0, 0, 0, 0, 1, 0, 0, 0, 0, 0, 1, 0, 0, 1,\n",
       "       0, 0, 0, 0, 0, 0, 0, 0, 0, 0, 0, 0, 1, 0, 1, 1, 0, 1, 0, 0, 0, 0,\n",
       "       0, 1, 0, 0, 1, 0, 1, 0, 0, 1, 0, 1, 0, 0, 0, 0, 0, 0, 0, 0, 1, 1,\n",
       "       0, 0, 0, 0, 0, 0, 1, 0, 0, 0, 0, 0, 0, 0, 0, 0, 0, 1, 0, 0, 0, 0,\n",
       "       0, 0, 0, 1, 0, 1, 0, 0, 1, 0, 0, 0, 0, 0, 1, 1, 0, 1, 0, 1, 0, 0,\n",
       "       0, 0, 0, 1, 0, 0, 1, 0, 1, 0, 1, 1, 0, 0, 0, 1, 0, 0, 0, 0, 0, 0,\n",
       "       0, 0, 0, 0, 0, 1, 0, 1, 1, 0, 0, 0, 0, 0, 0, 0, 0, 0, 0, 0, 0, 0,\n",
       "       0, 0, 0, 0, 0, 0, 0, 0, 0, 0, 0, 0, 1, 1, 1, 1, 1, 1, 0])"
      ]
     },
     "execution_count": 36,
     "metadata": {},
     "output_type": "execute_result"
    }
   ],
   "source": [
    "alvo"
   ]
  },
  {
   "cell_type": "code",
   "execution_count": 37,
   "metadata": {
    "colab": {
     "base_uri": "https://localhost:8080/"
    },
    "executionInfo": {
     "elapsed": 61,
     "status": "ok",
     "timestamp": 1689263487800,
     "user": {
      "displayName": "Luciano Galdino",
      "userId": "10237697037323960148"
     },
     "user_tz": 180
    },
    "id": "RoSOdYF3BaOf",
    "outputId": "da128653-d73b-44f7-94c7-1b9431450a7e"
   },
   "outputs": [
    {
     "data": {
      "text/plain": [
       "(569,)"
      ]
     },
     "execution_count": 37,
     "metadata": {},
     "output_type": "execute_result"
    }
   ],
   "source": [
    "alvo.shape"
   ]
  },
  {
   "cell_type": "markdown",
   "metadata": {
    "id": "Xw6d4rM0C9ZD",
    "jp-MarkdownHeadingCollapsed": true
   },
   "source": [
    "## **Análise das escalas dos atributos (Escalonamento)**"
   ]
  },
  {
   "cell_type": "code",
   "execution_count": 38,
   "metadata": {
    "colab": {
     "base_uri": "https://localhost:8080/",
     "height": 0
    },
    "executionInfo": {
     "elapsed": 60,
     "status": "ok",
     "timestamp": 1689263487801,
     "user": {
      "displayName": "Luciano Galdino",
      "userId": "10237697037323960148"
     },
     "user_tz": 180
    },
    "id": "JzYfrEIxDHIL",
    "outputId": "7a93609b-df0c-4ce2-851f-e3f866dedaad"
   },
   "outputs": [
    {
     "data": {
      "text/html": [
       "<div>\n",
       "<style scoped>\n",
       "    .dataframe tbody tr th:only-of-type {\n",
       "        vertical-align: middle;\n",
       "    }\n",
       "\n",
       "    .dataframe tbody tr th {\n",
       "        vertical-align: top;\n",
       "    }\n",
       "\n",
       "    .dataframe thead th {\n",
       "        text-align: right;\n",
       "    }\n",
       "</style>\n",
       "<table border=\"1\" class=\"dataframe\">\n",
       "  <thead>\n",
       "    <tr style=\"text-align: right;\">\n",
       "      <th></th>\n",
       "      <th>diagnosis</th>\n",
       "      <th>radius_mean</th>\n",
       "      <th>texture_mean</th>\n",
       "      <th>perimeter_mean</th>\n",
       "      <th>area_mean</th>\n",
       "      <th>smoothness_mean</th>\n",
       "      <th>compactness_mean</th>\n",
       "      <th>concavity_mean</th>\n",
       "      <th>concave points_mean</th>\n",
       "      <th>symmetry_mean</th>\n",
       "      <th>...</th>\n",
       "      <th>radius_worst</th>\n",
       "      <th>texture_worst</th>\n",
       "      <th>perimeter_worst</th>\n",
       "      <th>area_worst</th>\n",
       "      <th>smoothness_worst</th>\n",
       "      <th>compactness_worst</th>\n",
       "      <th>concavity_worst</th>\n",
       "      <th>concave points_worst</th>\n",
       "      <th>symmetry_worst</th>\n",
       "      <th>fractal_dimension_worst</th>\n",
       "    </tr>\n",
       "  </thead>\n",
       "  <tbody>\n",
       "    <tr>\n",
       "      <th>count</th>\n",
       "      <td>569.000000</td>\n",
       "      <td>569.000000</td>\n",
       "      <td>569.000000</td>\n",
       "      <td>569.000000</td>\n",
       "      <td>569.000000</td>\n",
       "      <td>569.000000</td>\n",
       "      <td>569.000000</td>\n",
       "      <td>569.000000</td>\n",
       "      <td>569.000000</td>\n",
       "      <td>569.000000</td>\n",
       "      <td>...</td>\n",
       "      <td>569.000000</td>\n",
       "      <td>569.000000</td>\n",
       "      <td>569.000000</td>\n",
       "      <td>569.000000</td>\n",
       "      <td>569.000000</td>\n",
       "      <td>569.000000</td>\n",
       "      <td>569.000000</td>\n",
       "      <td>569.000000</td>\n",
       "      <td>569.000000</td>\n",
       "      <td>569.000000</td>\n",
       "    </tr>\n",
       "    <tr>\n",
       "      <th>mean</th>\n",
       "      <td>0.372583</td>\n",
       "      <td>14.127292</td>\n",
       "      <td>19.289649</td>\n",
       "      <td>91.969033</td>\n",
       "      <td>654.889104</td>\n",
       "      <td>0.096360</td>\n",
       "      <td>0.104341</td>\n",
       "      <td>0.088799</td>\n",
       "      <td>0.048919</td>\n",
       "      <td>0.181162</td>\n",
       "      <td>...</td>\n",
       "      <td>16.269190</td>\n",
       "      <td>25.677223</td>\n",
       "      <td>107.261213</td>\n",
       "      <td>880.583128</td>\n",
       "      <td>0.132369</td>\n",
       "      <td>0.254265</td>\n",
       "      <td>0.272188</td>\n",
       "      <td>0.114606</td>\n",
       "      <td>0.290076</td>\n",
       "      <td>0.083946</td>\n",
       "    </tr>\n",
       "    <tr>\n",
       "      <th>std</th>\n",
       "      <td>0.483918</td>\n",
       "      <td>3.524049</td>\n",
       "      <td>4.301036</td>\n",
       "      <td>24.298981</td>\n",
       "      <td>351.914129</td>\n",
       "      <td>0.014064</td>\n",
       "      <td>0.052813</td>\n",
       "      <td>0.079720</td>\n",
       "      <td>0.038803</td>\n",
       "      <td>0.027414</td>\n",
       "      <td>...</td>\n",
       "      <td>4.833242</td>\n",
       "      <td>6.146258</td>\n",
       "      <td>33.602542</td>\n",
       "      <td>569.356993</td>\n",
       "      <td>0.022832</td>\n",
       "      <td>0.157336</td>\n",
       "      <td>0.208624</td>\n",
       "      <td>0.065732</td>\n",
       "      <td>0.061867</td>\n",
       "      <td>0.018061</td>\n",
       "    </tr>\n",
       "    <tr>\n",
       "      <th>min</th>\n",
       "      <td>0.000000</td>\n",
       "      <td>6.981000</td>\n",
       "      <td>9.710000</td>\n",
       "      <td>43.790000</td>\n",
       "      <td>143.500000</td>\n",
       "      <td>0.052630</td>\n",
       "      <td>0.019380</td>\n",
       "      <td>0.000000</td>\n",
       "      <td>0.000000</td>\n",
       "      <td>0.106000</td>\n",
       "      <td>...</td>\n",
       "      <td>7.930000</td>\n",
       "      <td>12.020000</td>\n",
       "      <td>50.410000</td>\n",
       "      <td>185.200000</td>\n",
       "      <td>0.071170</td>\n",
       "      <td>0.027290</td>\n",
       "      <td>0.000000</td>\n",
       "      <td>0.000000</td>\n",
       "      <td>0.156500</td>\n",
       "      <td>0.055040</td>\n",
       "    </tr>\n",
       "    <tr>\n",
       "      <th>25%</th>\n",
       "      <td>0.000000</td>\n",
       "      <td>11.700000</td>\n",
       "      <td>16.170000</td>\n",
       "      <td>75.170000</td>\n",
       "      <td>420.300000</td>\n",
       "      <td>0.086370</td>\n",
       "      <td>0.064920</td>\n",
       "      <td>0.029560</td>\n",
       "      <td>0.020310</td>\n",
       "      <td>0.161900</td>\n",
       "      <td>...</td>\n",
       "      <td>13.010000</td>\n",
       "      <td>21.080000</td>\n",
       "      <td>84.110000</td>\n",
       "      <td>515.300000</td>\n",
       "      <td>0.116600</td>\n",
       "      <td>0.147200</td>\n",
       "      <td>0.114500</td>\n",
       "      <td>0.064930</td>\n",
       "      <td>0.250400</td>\n",
       "      <td>0.071460</td>\n",
       "    </tr>\n",
       "    <tr>\n",
       "      <th>50%</th>\n",
       "      <td>0.000000</td>\n",
       "      <td>13.370000</td>\n",
       "      <td>18.840000</td>\n",
       "      <td>86.240000</td>\n",
       "      <td>551.100000</td>\n",
       "      <td>0.095870</td>\n",
       "      <td>0.092630</td>\n",
       "      <td>0.061540</td>\n",
       "      <td>0.033500</td>\n",
       "      <td>0.179200</td>\n",
       "      <td>...</td>\n",
       "      <td>14.970000</td>\n",
       "      <td>25.410000</td>\n",
       "      <td>97.660000</td>\n",
       "      <td>686.500000</td>\n",
       "      <td>0.131300</td>\n",
       "      <td>0.211900</td>\n",
       "      <td>0.226700</td>\n",
       "      <td>0.099930</td>\n",
       "      <td>0.282200</td>\n",
       "      <td>0.080040</td>\n",
       "    </tr>\n",
       "    <tr>\n",
       "      <th>75%</th>\n",
       "      <td>1.000000</td>\n",
       "      <td>15.780000</td>\n",
       "      <td>21.800000</td>\n",
       "      <td>104.100000</td>\n",
       "      <td>782.700000</td>\n",
       "      <td>0.105300</td>\n",
       "      <td>0.130400</td>\n",
       "      <td>0.130700</td>\n",
       "      <td>0.074000</td>\n",
       "      <td>0.195700</td>\n",
       "      <td>...</td>\n",
       "      <td>18.790000</td>\n",
       "      <td>29.720000</td>\n",
       "      <td>125.400000</td>\n",
       "      <td>1084.000000</td>\n",
       "      <td>0.146000</td>\n",
       "      <td>0.339100</td>\n",
       "      <td>0.382900</td>\n",
       "      <td>0.161400</td>\n",
       "      <td>0.317900</td>\n",
       "      <td>0.092080</td>\n",
       "    </tr>\n",
       "    <tr>\n",
       "      <th>max</th>\n",
       "      <td>1.000000</td>\n",
       "      <td>28.110000</td>\n",
       "      <td>39.280000</td>\n",
       "      <td>188.500000</td>\n",
       "      <td>2501.000000</td>\n",
       "      <td>0.163400</td>\n",
       "      <td>0.345400</td>\n",
       "      <td>0.426800</td>\n",
       "      <td>0.201200</td>\n",
       "      <td>0.304000</td>\n",
       "      <td>...</td>\n",
       "      <td>36.040000</td>\n",
       "      <td>49.540000</td>\n",
       "      <td>251.200000</td>\n",
       "      <td>4254.000000</td>\n",
       "      <td>0.222600</td>\n",
       "      <td>1.058000</td>\n",
       "      <td>1.252000</td>\n",
       "      <td>0.291000</td>\n",
       "      <td>0.663800</td>\n",
       "      <td>0.207500</td>\n",
       "    </tr>\n",
       "  </tbody>\n",
       "</table>\n",
       "<p>8 rows × 31 columns</p>\n",
       "</div>"
      ],
      "text/plain": [
       "        diagnosis  radius_mean  texture_mean  perimeter_mean    area_mean  \\\n",
       "count  569.000000   569.000000    569.000000      569.000000   569.000000   \n",
       "mean     0.372583    14.127292     19.289649       91.969033   654.889104   \n",
       "std      0.483918     3.524049      4.301036       24.298981   351.914129   \n",
       "min      0.000000     6.981000      9.710000       43.790000   143.500000   \n",
       "25%      0.000000    11.700000     16.170000       75.170000   420.300000   \n",
       "50%      0.000000    13.370000     18.840000       86.240000   551.100000   \n",
       "75%      1.000000    15.780000     21.800000      104.100000   782.700000   \n",
       "max      1.000000    28.110000     39.280000      188.500000  2501.000000   \n",
       "\n",
       "       smoothness_mean  compactness_mean  concavity_mean  concave points_mean  \\\n",
       "count       569.000000        569.000000      569.000000           569.000000   \n",
       "mean          0.096360          0.104341        0.088799             0.048919   \n",
       "std           0.014064          0.052813        0.079720             0.038803   \n",
       "min           0.052630          0.019380        0.000000             0.000000   \n",
       "25%           0.086370          0.064920        0.029560             0.020310   \n",
       "50%           0.095870          0.092630        0.061540             0.033500   \n",
       "75%           0.105300          0.130400        0.130700             0.074000   \n",
       "max           0.163400          0.345400        0.426800             0.201200   \n",
       "\n",
       "       symmetry_mean  ...  radius_worst  texture_worst  perimeter_worst  \\\n",
       "count     569.000000  ...    569.000000     569.000000       569.000000   \n",
       "mean        0.181162  ...     16.269190      25.677223       107.261213   \n",
       "std         0.027414  ...      4.833242       6.146258        33.602542   \n",
       "min         0.106000  ...      7.930000      12.020000        50.410000   \n",
       "25%         0.161900  ...     13.010000      21.080000        84.110000   \n",
       "50%         0.179200  ...     14.970000      25.410000        97.660000   \n",
       "75%         0.195700  ...     18.790000      29.720000       125.400000   \n",
       "max         0.304000  ...     36.040000      49.540000       251.200000   \n",
       "\n",
       "        area_worst  smoothness_worst  compactness_worst  concavity_worst  \\\n",
       "count   569.000000        569.000000         569.000000       569.000000   \n",
       "mean    880.583128          0.132369           0.254265         0.272188   \n",
       "std     569.356993          0.022832           0.157336         0.208624   \n",
       "min     185.200000          0.071170           0.027290         0.000000   \n",
       "25%     515.300000          0.116600           0.147200         0.114500   \n",
       "50%     686.500000          0.131300           0.211900         0.226700   \n",
       "75%    1084.000000          0.146000           0.339100         0.382900   \n",
       "max    4254.000000          0.222600           1.058000         1.252000   \n",
       "\n",
       "       concave points_worst  symmetry_worst  fractal_dimension_worst  \n",
       "count            569.000000      569.000000               569.000000  \n",
       "mean               0.114606        0.290076                 0.083946  \n",
       "std                0.065732        0.061867                 0.018061  \n",
       "min                0.000000        0.156500                 0.055040  \n",
       "25%                0.064930        0.250400                 0.071460  \n",
       "50%                0.099930        0.282200                 0.080040  \n",
       "75%                0.161400        0.317900                 0.092080  \n",
       "max                0.291000        0.663800                 0.207500  \n",
       "\n",
       "[8 rows x 31 columns]"
      ]
     },
     "execution_count": 38,
     "metadata": {},
     "output_type": "execute_result"
    }
   ],
   "source": [
    "df_ordinal.describe()"
   ]
  },
  {
   "cell_type": "markdown",
   "metadata": {
    "id": "XcSAxyqTD4dw"
   },
   "source": [
    "Padronização (utiliza a média e o desvio padrão como referência).\n",
    "\n",
    "Normalização (utiliza os valores máximo e mínimo como referência)."
   ]
  },
  {
   "cell_type": "code",
   "execution_count": 39,
   "metadata": {
    "executionInfo": {
     "elapsed": 942,
     "status": "ok",
     "timestamp": 1689263488692,
     "user": {
      "displayName": "Luciano Galdino",
      "userId": "10237697037323960148"
     },
     "user_tz": 180
    },
    "id": "eMoVJG5kEJSG"
   },
   "outputs": [],
   "source": [
    "from sklearn.preprocessing import StandardScaler"
   ]
  },
  {
   "cell_type": "code",
   "execution_count": 40,
   "metadata": {
    "executionInfo": {
     "elapsed": 21,
     "status": "ok",
     "timestamp": 1689263488693,
     "user": {
      "displayName": "Luciano Galdino",
      "userId": "10237697037323960148"
     },
     "user_tz": 180
    },
    "id": "0DpkgD9REQ7m"
   },
   "outputs": [],
   "source": [
    "previsores_esc = StandardScaler().fit_transform(previsores)"
   ]
  },
  {
   "cell_type": "code",
   "execution_count": 41,
   "metadata": {
    "colab": {
     "base_uri": "https://localhost:8080/"
    },
    "executionInfo": {
     "elapsed": 22,
     "status": "ok",
     "timestamp": 1689263488695,
     "user": {
      "displayName": "Luciano Galdino",
      "userId": "10237697037323960148"
     },
     "user_tz": 180
    },
    "id": "qmoQSiWMEr0k",
    "outputId": "5310f0c1-1aa5-4ae6-fb5f-0a2b0575558f"
   },
   "outputs": [
    {
     "data": {
      "text/plain": [
       "array([[ 1.09706398, -2.07333501,  1.26993369, ...,  2.29607613,\n",
       "         2.75062224,  1.93701461],\n",
       "       [ 1.82982061, -0.35363241,  1.68595471, ...,  1.0870843 ,\n",
       "        -0.24388967,  0.28118999],\n",
       "       [ 1.57988811,  0.45618695,  1.56650313, ...,  1.95500035,\n",
       "         1.152255  ,  0.20139121],\n",
       "       ...,\n",
       "       [ 0.70228425,  2.0455738 ,  0.67267578, ...,  0.41406869,\n",
       "        -1.10454895, -0.31840916],\n",
       "       [ 1.83834103,  2.33645719,  1.98252415, ...,  2.28998549,\n",
       "         1.91908301,  2.21963528],\n",
       "       [-1.80840125,  1.22179204, -1.81438851, ..., -1.74506282,\n",
       "        -0.04813821, -0.75120669]])"
      ]
     },
     "execution_count": 41,
     "metadata": {},
     "output_type": "execute_result"
    }
   ],
   "source": [
    "previsores_esc"
   ]
  },
  {
   "cell_type": "code",
   "execution_count": 42,
   "metadata": {
    "colab": {
     "base_uri": "https://localhost:8080/",
     "height": 0
    },
    "executionInfo": {
     "elapsed": 22,
     "status": "ok",
     "timestamp": 1689263488696,
     "user": {
      "displayName": "Luciano Galdino",
      "userId": "10237697037323960148"
     },
     "user_tz": 180
    },
    "id": "aFabOc6kFLMu",
    "outputId": "3b7c40d2-cd59-4936-be6e-befee9e1ce7a"
   },
   "outputs": [
    {
     "data": {
      "text/html": [
       "<div>\n",
       "<style scoped>\n",
       "    .dataframe tbody tr th:only-of-type {\n",
       "        vertical-align: middle;\n",
       "    }\n",
       "\n",
       "    .dataframe tbody tr th {\n",
       "        vertical-align: top;\n",
       "    }\n",
       "\n",
       "    .dataframe thead th {\n",
       "        text-align: right;\n",
       "    }\n",
       "</style>\n",
       "<table border=\"1\" class=\"dataframe\">\n",
       "  <thead>\n",
       "    <tr style=\"text-align: right;\">\n",
       "      <th></th>\n",
       "      <th>0</th>\n",
       "      <th>1</th>\n",
       "      <th>2</th>\n",
       "      <th>3</th>\n",
       "      <th>4</th>\n",
       "      <th>5</th>\n",
       "      <th>6</th>\n",
       "      <th>7</th>\n",
       "      <th>8</th>\n",
       "      <th>9</th>\n",
       "      <th>...</th>\n",
       "      <th>20</th>\n",
       "      <th>21</th>\n",
       "      <th>22</th>\n",
       "      <th>23</th>\n",
       "      <th>24</th>\n",
       "      <th>25</th>\n",
       "      <th>26</th>\n",
       "      <th>27</th>\n",
       "      <th>28</th>\n",
       "      <th>29</th>\n",
       "    </tr>\n",
       "  </thead>\n",
       "  <tbody>\n",
       "    <tr>\n",
       "      <th>0</th>\n",
       "      <td>1.097064</td>\n",
       "      <td>-2.073335</td>\n",
       "      <td>1.269934</td>\n",
       "      <td>0.984375</td>\n",
       "      <td>1.568466</td>\n",
       "      <td>3.283515</td>\n",
       "      <td>2.652874</td>\n",
       "      <td>2.532475</td>\n",
       "      <td>2.217515</td>\n",
       "      <td>2.255747</td>\n",
       "      <td>...</td>\n",
       "      <td>1.886690</td>\n",
       "      <td>-1.359293</td>\n",
       "      <td>2.303601</td>\n",
       "      <td>2.001237</td>\n",
       "      <td>1.307686</td>\n",
       "      <td>2.616665</td>\n",
       "      <td>2.109526</td>\n",
       "      <td>2.296076</td>\n",
       "      <td>2.750622</td>\n",
       "      <td>1.937015</td>\n",
       "    </tr>\n",
       "    <tr>\n",
       "      <th>1</th>\n",
       "      <td>1.829821</td>\n",
       "      <td>-0.353632</td>\n",
       "      <td>1.685955</td>\n",
       "      <td>1.908708</td>\n",
       "      <td>-0.826962</td>\n",
       "      <td>-0.487072</td>\n",
       "      <td>-0.023846</td>\n",
       "      <td>0.548144</td>\n",
       "      <td>0.001392</td>\n",
       "      <td>-0.868652</td>\n",
       "      <td>...</td>\n",
       "      <td>1.805927</td>\n",
       "      <td>-0.369203</td>\n",
       "      <td>1.535126</td>\n",
       "      <td>1.890489</td>\n",
       "      <td>-0.375612</td>\n",
       "      <td>-0.430444</td>\n",
       "      <td>-0.146749</td>\n",
       "      <td>1.087084</td>\n",
       "      <td>-0.243890</td>\n",
       "      <td>0.281190</td>\n",
       "    </tr>\n",
       "    <tr>\n",
       "      <th>2</th>\n",
       "      <td>1.579888</td>\n",
       "      <td>0.456187</td>\n",
       "      <td>1.566503</td>\n",
       "      <td>1.558884</td>\n",
       "      <td>0.942210</td>\n",
       "      <td>1.052926</td>\n",
       "      <td>1.363478</td>\n",
       "      <td>2.037231</td>\n",
       "      <td>0.939685</td>\n",
       "      <td>-0.398008</td>\n",
       "      <td>...</td>\n",
       "      <td>1.511870</td>\n",
       "      <td>-0.023974</td>\n",
       "      <td>1.347475</td>\n",
       "      <td>1.456285</td>\n",
       "      <td>0.527407</td>\n",
       "      <td>1.082932</td>\n",
       "      <td>0.854974</td>\n",
       "      <td>1.955000</td>\n",
       "      <td>1.152255</td>\n",
       "      <td>0.201391</td>\n",
       "    </tr>\n",
       "    <tr>\n",
       "      <th>3</th>\n",
       "      <td>-0.768909</td>\n",
       "      <td>0.253732</td>\n",
       "      <td>-0.592687</td>\n",
       "      <td>-0.764464</td>\n",
       "      <td>3.283553</td>\n",
       "      <td>3.402909</td>\n",
       "      <td>1.915897</td>\n",
       "      <td>1.451707</td>\n",
       "      <td>2.867383</td>\n",
       "      <td>4.910919</td>\n",
       "      <td>...</td>\n",
       "      <td>-0.281464</td>\n",
       "      <td>0.133984</td>\n",
       "      <td>-0.249939</td>\n",
       "      <td>-0.550021</td>\n",
       "      <td>3.394275</td>\n",
       "      <td>3.893397</td>\n",
       "      <td>1.989588</td>\n",
       "      <td>2.175786</td>\n",
       "      <td>6.046041</td>\n",
       "      <td>4.935010</td>\n",
       "    </tr>\n",
       "    <tr>\n",
       "      <th>4</th>\n",
       "      <td>1.750297</td>\n",
       "      <td>-1.151816</td>\n",
       "      <td>1.776573</td>\n",
       "      <td>1.826229</td>\n",
       "      <td>0.280372</td>\n",
       "      <td>0.539340</td>\n",
       "      <td>1.371011</td>\n",
       "      <td>1.428493</td>\n",
       "      <td>-0.009560</td>\n",
       "      <td>-0.562450</td>\n",
       "      <td>...</td>\n",
       "      <td>1.298575</td>\n",
       "      <td>-1.466770</td>\n",
       "      <td>1.338539</td>\n",
       "      <td>1.220724</td>\n",
       "      <td>0.220556</td>\n",
       "      <td>-0.313395</td>\n",
       "      <td>0.613179</td>\n",
       "      <td>0.729259</td>\n",
       "      <td>-0.868353</td>\n",
       "      <td>-0.397100</td>\n",
       "    </tr>\n",
       "    <tr>\n",
       "      <th>...</th>\n",
       "      <td>...</td>\n",
       "      <td>...</td>\n",
       "      <td>...</td>\n",
       "      <td>...</td>\n",
       "      <td>...</td>\n",
       "      <td>...</td>\n",
       "      <td>...</td>\n",
       "      <td>...</td>\n",
       "      <td>...</td>\n",
       "      <td>...</td>\n",
       "      <td>...</td>\n",
       "      <td>...</td>\n",
       "      <td>...</td>\n",
       "      <td>...</td>\n",
       "      <td>...</td>\n",
       "      <td>...</td>\n",
       "      <td>...</td>\n",
       "      <td>...</td>\n",
       "      <td>...</td>\n",
       "      <td>...</td>\n",
       "      <td>...</td>\n",
       "    </tr>\n",
       "    <tr>\n",
       "      <th>564</th>\n",
       "      <td>2.110995</td>\n",
       "      <td>0.721473</td>\n",
       "      <td>2.060786</td>\n",
       "      <td>2.343856</td>\n",
       "      <td>1.041842</td>\n",
       "      <td>0.219060</td>\n",
       "      <td>1.947285</td>\n",
       "      <td>2.320965</td>\n",
       "      <td>-0.312589</td>\n",
       "      <td>-0.931027</td>\n",
       "      <td>...</td>\n",
       "      <td>1.901185</td>\n",
       "      <td>0.117700</td>\n",
       "      <td>1.752563</td>\n",
       "      <td>2.015301</td>\n",
       "      <td>0.378365</td>\n",
       "      <td>-0.273318</td>\n",
       "      <td>0.664512</td>\n",
       "      <td>1.629151</td>\n",
       "      <td>-1.360158</td>\n",
       "      <td>-0.709091</td>\n",
       "    </tr>\n",
       "    <tr>\n",
       "      <th>565</th>\n",
       "      <td>1.704854</td>\n",
       "      <td>2.085134</td>\n",
       "      <td>1.615931</td>\n",
       "      <td>1.723842</td>\n",
       "      <td>0.102458</td>\n",
       "      <td>-0.017833</td>\n",
       "      <td>0.693043</td>\n",
       "      <td>1.263669</td>\n",
       "      <td>-0.217664</td>\n",
       "      <td>-1.058611</td>\n",
       "      <td>...</td>\n",
       "      <td>1.536720</td>\n",
       "      <td>2.047399</td>\n",
       "      <td>1.421940</td>\n",
       "      <td>1.494959</td>\n",
       "      <td>-0.691230</td>\n",
       "      <td>-0.394820</td>\n",
       "      <td>0.236573</td>\n",
       "      <td>0.733827</td>\n",
       "      <td>-0.531855</td>\n",
       "      <td>-0.973978</td>\n",
       "    </tr>\n",
       "    <tr>\n",
       "      <th>566</th>\n",
       "      <td>0.702284</td>\n",
       "      <td>2.045574</td>\n",
       "      <td>0.672676</td>\n",
       "      <td>0.577953</td>\n",
       "      <td>-0.840484</td>\n",
       "      <td>-0.038680</td>\n",
       "      <td>0.046588</td>\n",
       "      <td>0.105777</td>\n",
       "      <td>-0.809117</td>\n",
       "      <td>-0.895587</td>\n",
       "      <td>...</td>\n",
       "      <td>0.561361</td>\n",
       "      <td>1.374854</td>\n",
       "      <td>0.579001</td>\n",
       "      <td>0.427906</td>\n",
       "      <td>-0.809587</td>\n",
       "      <td>0.350735</td>\n",
       "      <td>0.326767</td>\n",
       "      <td>0.414069</td>\n",
       "      <td>-1.104549</td>\n",
       "      <td>-0.318409</td>\n",
       "    </tr>\n",
       "    <tr>\n",
       "      <th>567</th>\n",
       "      <td>1.838341</td>\n",
       "      <td>2.336457</td>\n",
       "      <td>1.982524</td>\n",
       "      <td>1.735218</td>\n",
       "      <td>1.525767</td>\n",
       "      <td>3.272144</td>\n",
       "      <td>3.296944</td>\n",
       "      <td>2.658866</td>\n",
       "      <td>2.137194</td>\n",
       "      <td>1.043695</td>\n",
       "      <td>...</td>\n",
       "      <td>1.961239</td>\n",
       "      <td>2.237926</td>\n",
       "      <td>2.303601</td>\n",
       "      <td>1.653171</td>\n",
       "      <td>1.430427</td>\n",
       "      <td>3.904848</td>\n",
       "      <td>3.197605</td>\n",
       "      <td>2.289985</td>\n",
       "      <td>1.919083</td>\n",
       "      <td>2.219635</td>\n",
       "    </tr>\n",
       "    <tr>\n",
       "      <th>568</th>\n",
       "      <td>-1.808401</td>\n",
       "      <td>1.221792</td>\n",
       "      <td>-1.814389</td>\n",
       "      <td>-1.347789</td>\n",
       "      <td>-3.112085</td>\n",
       "      <td>-1.150752</td>\n",
       "      <td>-1.114873</td>\n",
       "      <td>-1.261820</td>\n",
       "      <td>-0.820070</td>\n",
       "      <td>-0.561032</td>\n",
       "      <td>...</td>\n",
       "      <td>-1.410893</td>\n",
       "      <td>0.764190</td>\n",
       "      <td>-1.432735</td>\n",
       "      <td>-1.075813</td>\n",
       "      <td>-1.859019</td>\n",
       "      <td>-1.207552</td>\n",
       "      <td>-1.305831</td>\n",
       "      <td>-1.745063</td>\n",
       "      <td>-0.048138</td>\n",
       "      <td>-0.751207</td>\n",
       "    </tr>\n",
       "  </tbody>\n",
       "</table>\n",
       "<p>569 rows × 30 columns</p>\n",
       "</div>"
      ],
      "text/plain": [
       "           0         1         2         3         4         5         6   \\\n",
       "0    1.097064 -2.073335  1.269934  0.984375  1.568466  3.283515  2.652874   \n",
       "1    1.829821 -0.353632  1.685955  1.908708 -0.826962 -0.487072 -0.023846   \n",
       "2    1.579888  0.456187  1.566503  1.558884  0.942210  1.052926  1.363478   \n",
       "3   -0.768909  0.253732 -0.592687 -0.764464  3.283553  3.402909  1.915897   \n",
       "4    1.750297 -1.151816  1.776573  1.826229  0.280372  0.539340  1.371011   \n",
       "..        ...       ...       ...       ...       ...       ...       ...   \n",
       "564  2.110995  0.721473  2.060786  2.343856  1.041842  0.219060  1.947285   \n",
       "565  1.704854  2.085134  1.615931  1.723842  0.102458 -0.017833  0.693043   \n",
       "566  0.702284  2.045574  0.672676  0.577953 -0.840484 -0.038680  0.046588   \n",
       "567  1.838341  2.336457  1.982524  1.735218  1.525767  3.272144  3.296944   \n",
       "568 -1.808401  1.221792 -1.814389 -1.347789 -3.112085 -1.150752 -1.114873   \n",
       "\n",
       "           7         8         9   ...        20        21        22  \\\n",
       "0    2.532475  2.217515  2.255747  ...  1.886690 -1.359293  2.303601   \n",
       "1    0.548144  0.001392 -0.868652  ...  1.805927 -0.369203  1.535126   \n",
       "2    2.037231  0.939685 -0.398008  ...  1.511870 -0.023974  1.347475   \n",
       "3    1.451707  2.867383  4.910919  ... -0.281464  0.133984 -0.249939   \n",
       "4    1.428493 -0.009560 -0.562450  ...  1.298575 -1.466770  1.338539   \n",
       "..        ...       ...       ...  ...       ...       ...       ...   \n",
       "564  2.320965 -0.312589 -0.931027  ...  1.901185  0.117700  1.752563   \n",
       "565  1.263669 -0.217664 -1.058611  ...  1.536720  2.047399  1.421940   \n",
       "566  0.105777 -0.809117 -0.895587  ...  0.561361  1.374854  0.579001   \n",
       "567  2.658866  2.137194  1.043695  ...  1.961239  2.237926  2.303601   \n",
       "568 -1.261820 -0.820070 -0.561032  ... -1.410893  0.764190 -1.432735   \n",
       "\n",
       "           23        24        25        26        27        28        29  \n",
       "0    2.001237  1.307686  2.616665  2.109526  2.296076  2.750622  1.937015  \n",
       "1    1.890489 -0.375612 -0.430444 -0.146749  1.087084 -0.243890  0.281190  \n",
       "2    1.456285  0.527407  1.082932  0.854974  1.955000  1.152255  0.201391  \n",
       "3   -0.550021  3.394275  3.893397  1.989588  2.175786  6.046041  4.935010  \n",
       "4    1.220724  0.220556 -0.313395  0.613179  0.729259 -0.868353 -0.397100  \n",
       "..        ...       ...       ...       ...       ...       ...       ...  \n",
       "564  2.015301  0.378365 -0.273318  0.664512  1.629151 -1.360158 -0.709091  \n",
       "565  1.494959 -0.691230 -0.394820  0.236573  0.733827 -0.531855 -0.973978  \n",
       "566  0.427906 -0.809587  0.350735  0.326767  0.414069 -1.104549 -0.318409  \n",
       "567  1.653171  1.430427  3.904848  3.197605  2.289985  1.919083  2.219635  \n",
       "568 -1.075813 -1.859019 -1.207552 -1.305831 -1.745063 -0.048138 -0.751207  \n",
       "\n",
       "[569 rows x 30 columns]"
      ]
     },
     "execution_count": 42,
     "metadata": {},
     "output_type": "execute_result"
    }
   ],
   "source": [
    "previsores_esc_df = pd.DataFrame(previsores_esc)\n",
    "previsores_esc_df"
   ]
  },
  {
   "cell_type": "code",
   "execution_count": 43,
   "metadata": {
    "colab": {
     "base_uri": "https://localhost:8080/",
     "height": 0
    },
    "executionInfo": {
     "elapsed": 20,
     "status": "ok",
     "timestamp": 1689263488696,
     "user": {
      "displayName": "Luciano Galdino",
      "userId": "10237697037323960148"
     },
     "user_tz": 180
    },
    "id": "cXVXsyAtFWSo",
    "outputId": "3ed3c1f4-b31d-482f-ac32-80558f9325a7"
   },
   "outputs": [
    {
     "data": {
      "text/html": [
       "<div>\n",
       "<style scoped>\n",
       "    .dataframe tbody tr th:only-of-type {\n",
       "        vertical-align: middle;\n",
       "    }\n",
       "\n",
       "    .dataframe tbody tr th {\n",
       "        vertical-align: top;\n",
       "    }\n",
       "\n",
       "    .dataframe thead th {\n",
       "        text-align: right;\n",
       "    }\n",
       "</style>\n",
       "<table border=\"1\" class=\"dataframe\">\n",
       "  <thead>\n",
       "    <tr style=\"text-align: right;\">\n",
       "      <th></th>\n",
       "      <th>0</th>\n",
       "      <th>1</th>\n",
       "      <th>2</th>\n",
       "      <th>3</th>\n",
       "      <th>4</th>\n",
       "      <th>5</th>\n",
       "      <th>6</th>\n",
       "      <th>7</th>\n",
       "      <th>8</th>\n",
       "      <th>9</th>\n",
       "      <th>...</th>\n",
       "      <th>20</th>\n",
       "      <th>21</th>\n",
       "      <th>22</th>\n",
       "      <th>23</th>\n",
       "      <th>24</th>\n",
       "      <th>25</th>\n",
       "      <th>26</th>\n",
       "      <th>27</th>\n",
       "      <th>28</th>\n",
       "      <th>29</th>\n",
       "    </tr>\n",
       "  </thead>\n",
       "  <tbody>\n",
       "    <tr>\n",
       "      <th>count</th>\n",
       "      <td>5.690000e+02</td>\n",
       "      <td>5.690000e+02</td>\n",
       "      <td>5.690000e+02</td>\n",
       "      <td>5.690000e+02</td>\n",
       "      <td>5.690000e+02</td>\n",
       "      <td>5.690000e+02</td>\n",
       "      <td>5.690000e+02</td>\n",
       "      <td>5.690000e+02</td>\n",
       "      <td>5.690000e+02</td>\n",
       "      <td>5.690000e+02</td>\n",
       "      <td>...</td>\n",
       "      <td>5.690000e+02</td>\n",
       "      <td>5.690000e+02</td>\n",
       "      <td>5.690000e+02</td>\n",
       "      <td>569.000000</td>\n",
       "      <td>5.690000e+02</td>\n",
       "      <td>5.690000e+02</td>\n",
       "      <td>5.690000e+02</td>\n",
       "      <td>5.690000e+02</td>\n",
       "      <td>5.690000e+02</td>\n",
       "      <td>5.690000e+02</td>\n",
       "    </tr>\n",
       "    <tr>\n",
       "      <th>mean</th>\n",
       "      <td>-1.373633e-16</td>\n",
       "      <td>6.868164e-17</td>\n",
       "      <td>-1.248757e-16</td>\n",
       "      <td>-2.185325e-16</td>\n",
       "      <td>-8.366672e-16</td>\n",
       "      <td>1.873136e-16</td>\n",
       "      <td>4.995028e-17</td>\n",
       "      <td>-4.995028e-17</td>\n",
       "      <td>1.748260e-16</td>\n",
       "      <td>4.745277e-16</td>\n",
       "      <td>...</td>\n",
       "      <td>-8.241796e-16</td>\n",
       "      <td>1.248757e-17</td>\n",
       "      <td>-3.746271e-16</td>\n",
       "      <td>0.000000</td>\n",
       "      <td>-2.372638e-16</td>\n",
       "      <td>-3.371644e-16</td>\n",
       "      <td>7.492542e-17</td>\n",
       "      <td>2.247763e-16</td>\n",
       "      <td>2.622390e-16</td>\n",
       "      <td>-5.744282e-16</td>\n",
       "    </tr>\n",
       "    <tr>\n",
       "      <th>std</th>\n",
       "      <td>1.000880e+00</td>\n",
       "      <td>1.000880e+00</td>\n",
       "      <td>1.000880e+00</td>\n",
       "      <td>1.000880e+00</td>\n",
       "      <td>1.000880e+00</td>\n",
       "      <td>1.000880e+00</td>\n",
       "      <td>1.000880e+00</td>\n",
       "      <td>1.000880e+00</td>\n",
       "      <td>1.000880e+00</td>\n",
       "      <td>1.000880e+00</td>\n",
       "      <td>...</td>\n",
       "      <td>1.000880e+00</td>\n",
       "      <td>1.000880e+00</td>\n",
       "      <td>1.000880e+00</td>\n",
       "      <td>1.000880</td>\n",
       "      <td>1.000880e+00</td>\n",
       "      <td>1.000880e+00</td>\n",
       "      <td>1.000880e+00</td>\n",
       "      <td>1.000880e+00</td>\n",
       "      <td>1.000880e+00</td>\n",
       "      <td>1.000880e+00</td>\n",
       "    </tr>\n",
       "    <tr>\n",
       "      <th>min</th>\n",
       "      <td>-2.029648e+00</td>\n",
       "      <td>-2.229249e+00</td>\n",
       "      <td>-1.984504e+00</td>\n",
       "      <td>-1.454443e+00</td>\n",
       "      <td>-3.112085e+00</td>\n",
       "      <td>-1.610136e+00</td>\n",
       "      <td>-1.114873e+00</td>\n",
       "      <td>-1.261820e+00</td>\n",
       "      <td>-2.744117e+00</td>\n",
       "      <td>-1.819865e+00</td>\n",
       "      <td>...</td>\n",
       "      <td>-1.726901e+00</td>\n",
       "      <td>-2.223994e+00</td>\n",
       "      <td>-1.693361e+00</td>\n",
       "      <td>-1.222423</td>\n",
       "      <td>-2.682695e+00</td>\n",
       "      <td>-1.443878e+00</td>\n",
       "      <td>-1.305831e+00</td>\n",
       "      <td>-1.745063e+00</td>\n",
       "      <td>-2.160960e+00</td>\n",
       "      <td>-1.601839e+00</td>\n",
       "    </tr>\n",
       "    <tr>\n",
       "      <th>25%</th>\n",
       "      <td>-6.893853e-01</td>\n",
       "      <td>-7.259631e-01</td>\n",
       "      <td>-6.919555e-01</td>\n",
       "      <td>-6.671955e-01</td>\n",
       "      <td>-7.109628e-01</td>\n",
       "      <td>-7.470860e-01</td>\n",
       "      <td>-7.437479e-01</td>\n",
       "      <td>-7.379438e-01</td>\n",
       "      <td>-7.032397e-01</td>\n",
       "      <td>-7.226392e-01</td>\n",
       "      <td>...</td>\n",
       "      <td>-6.749213e-01</td>\n",
       "      <td>-7.486293e-01</td>\n",
       "      <td>-6.895783e-01</td>\n",
       "      <td>-0.642136</td>\n",
       "      <td>-6.912304e-01</td>\n",
       "      <td>-6.810833e-01</td>\n",
       "      <td>-7.565142e-01</td>\n",
       "      <td>-7.563999e-01</td>\n",
       "      <td>-6.418637e-01</td>\n",
       "      <td>-6.919118e-01</td>\n",
       "    </tr>\n",
       "    <tr>\n",
       "      <th>50%</th>\n",
       "      <td>-2.150816e-01</td>\n",
       "      <td>-1.046362e-01</td>\n",
       "      <td>-2.359800e-01</td>\n",
       "      <td>-2.951869e-01</td>\n",
       "      <td>-3.489108e-02</td>\n",
       "      <td>-2.219405e-01</td>\n",
       "      <td>-3.422399e-01</td>\n",
       "      <td>-3.977212e-01</td>\n",
       "      <td>-7.162650e-02</td>\n",
       "      <td>-1.782793e-01</td>\n",
       "      <td>...</td>\n",
       "      <td>-2.690395e-01</td>\n",
       "      <td>-4.351564e-02</td>\n",
       "      <td>-2.859802e-01</td>\n",
       "      <td>-0.341181</td>\n",
       "      <td>-4.684277e-02</td>\n",
       "      <td>-2.695009e-01</td>\n",
       "      <td>-2.182321e-01</td>\n",
       "      <td>-2.234689e-01</td>\n",
       "      <td>-1.274095e-01</td>\n",
       "      <td>-2.164441e-01</td>\n",
       "    </tr>\n",
       "    <tr>\n",
       "      <th>75%</th>\n",
       "      <td>4.693926e-01</td>\n",
       "      <td>5.841756e-01</td>\n",
       "      <td>4.996769e-01</td>\n",
       "      <td>3.635073e-01</td>\n",
       "      <td>6.361990e-01</td>\n",
       "      <td>4.938569e-01</td>\n",
       "      <td>5.260619e-01</td>\n",
       "      <td>6.469351e-01</td>\n",
       "      <td>5.307792e-01</td>\n",
       "      <td>4.709834e-01</td>\n",
       "      <td>...</td>\n",
       "      <td>5.220158e-01</td>\n",
       "      <td>6.583411e-01</td>\n",
       "      <td>5.402790e-01</td>\n",
       "      <td>0.357589</td>\n",
       "      <td>5.975448e-01</td>\n",
       "      <td>5.396688e-01</td>\n",
       "      <td>5.311411e-01</td>\n",
       "      <td>7.125100e-01</td>\n",
       "      <td>4.501382e-01</td>\n",
       "      <td>4.507624e-01</td>\n",
       "    </tr>\n",
       "    <tr>\n",
       "      <th>max</th>\n",
       "      <td>3.971288e+00</td>\n",
       "      <td>4.651889e+00</td>\n",
       "      <td>3.976130e+00</td>\n",
       "      <td>5.250529e+00</td>\n",
       "      <td>4.770911e+00</td>\n",
       "      <td>4.568425e+00</td>\n",
       "      <td>4.243589e+00</td>\n",
       "      <td>3.927930e+00</td>\n",
       "      <td>4.484751e+00</td>\n",
       "      <td>4.910919e+00</td>\n",
       "      <td>...</td>\n",
       "      <td>4.094189e+00</td>\n",
       "      <td>3.885905e+00</td>\n",
       "      <td>4.287337e+00</td>\n",
       "      <td>5.930172</td>\n",
       "      <td>3.955374e+00</td>\n",
       "      <td>5.112877e+00</td>\n",
       "      <td>4.700669e+00</td>\n",
       "      <td>2.685877e+00</td>\n",
       "      <td>6.046041e+00</td>\n",
       "      <td>6.846856e+00</td>\n",
       "    </tr>\n",
       "  </tbody>\n",
       "</table>\n",
       "<p>8 rows × 30 columns</p>\n",
       "</div>"
      ],
      "text/plain": [
       "                 0             1             2             3             4   \\\n",
       "count  5.690000e+02  5.690000e+02  5.690000e+02  5.690000e+02  5.690000e+02   \n",
       "mean  -1.373633e-16  6.868164e-17 -1.248757e-16 -2.185325e-16 -8.366672e-16   \n",
       "std    1.000880e+00  1.000880e+00  1.000880e+00  1.000880e+00  1.000880e+00   \n",
       "min   -2.029648e+00 -2.229249e+00 -1.984504e+00 -1.454443e+00 -3.112085e+00   \n",
       "25%   -6.893853e-01 -7.259631e-01 -6.919555e-01 -6.671955e-01 -7.109628e-01   \n",
       "50%   -2.150816e-01 -1.046362e-01 -2.359800e-01 -2.951869e-01 -3.489108e-02   \n",
       "75%    4.693926e-01  5.841756e-01  4.996769e-01  3.635073e-01  6.361990e-01   \n",
       "max    3.971288e+00  4.651889e+00  3.976130e+00  5.250529e+00  4.770911e+00   \n",
       "\n",
       "                 5             6             7             8             9   \\\n",
       "count  5.690000e+02  5.690000e+02  5.690000e+02  5.690000e+02  5.690000e+02   \n",
       "mean   1.873136e-16  4.995028e-17 -4.995028e-17  1.748260e-16  4.745277e-16   \n",
       "std    1.000880e+00  1.000880e+00  1.000880e+00  1.000880e+00  1.000880e+00   \n",
       "min   -1.610136e+00 -1.114873e+00 -1.261820e+00 -2.744117e+00 -1.819865e+00   \n",
       "25%   -7.470860e-01 -7.437479e-01 -7.379438e-01 -7.032397e-01 -7.226392e-01   \n",
       "50%   -2.219405e-01 -3.422399e-01 -3.977212e-01 -7.162650e-02 -1.782793e-01   \n",
       "75%    4.938569e-01  5.260619e-01  6.469351e-01  5.307792e-01  4.709834e-01   \n",
       "max    4.568425e+00  4.243589e+00  3.927930e+00  4.484751e+00  4.910919e+00   \n",
       "\n",
       "       ...            20            21            22          23  \\\n",
       "count  ...  5.690000e+02  5.690000e+02  5.690000e+02  569.000000   \n",
       "mean   ... -8.241796e-16  1.248757e-17 -3.746271e-16    0.000000   \n",
       "std    ...  1.000880e+00  1.000880e+00  1.000880e+00    1.000880   \n",
       "min    ... -1.726901e+00 -2.223994e+00 -1.693361e+00   -1.222423   \n",
       "25%    ... -6.749213e-01 -7.486293e-01 -6.895783e-01   -0.642136   \n",
       "50%    ... -2.690395e-01 -4.351564e-02 -2.859802e-01   -0.341181   \n",
       "75%    ...  5.220158e-01  6.583411e-01  5.402790e-01    0.357589   \n",
       "max    ...  4.094189e+00  3.885905e+00  4.287337e+00    5.930172   \n",
       "\n",
       "                 24            25            26            27            28  \\\n",
       "count  5.690000e+02  5.690000e+02  5.690000e+02  5.690000e+02  5.690000e+02   \n",
       "mean  -2.372638e-16 -3.371644e-16  7.492542e-17  2.247763e-16  2.622390e-16   \n",
       "std    1.000880e+00  1.000880e+00  1.000880e+00  1.000880e+00  1.000880e+00   \n",
       "min   -2.682695e+00 -1.443878e+00 -1.305831e+00 -1.745063e+00 -2.160960e+00   \n",
       "25%   -6.912304e-01 -6.810833e-01 -7.565142e-01 -7.563999e-01 -6.418637e-01   \n",
       "50%   -4.684277e-02 -2.695009e-01 -2.182321e-01 -2.234689e-01 -1.274095e-01   \n",
       "75%    5.975448e-01  5.396688e-01  5.311411e-01  7.125100e-01  4.501382e-01   \n",
       "max    3.955374e+00  5.112877e+00  4.700669e+00  2.685877e+00  6.046041e+00   \n",
       "\n",
       "                 29  \n",
       "count  5.690000e+02  \n",
       "mean  -5.744282e-16  \n",
       "std    1.000880e+00  \n",
       "min   -1.601839e+00  \n",
       "25%   -6.919118e-01  \n",
       "50%   -2.164441e-01  \n",
       "75%    4.507624e-01  \n",
       "max    6.846856e+00  \n",
       "\n",
       "[8 rows x 30 columns]"
      ]
     },
     "execution_count": 43,
     "metadata": {},
     "output_type": "execute_result"
    }
   ],
   "source": [
    "previsores_esc_df.describe()"
   ]
  },
  {
   "cell_type": "markdown",
   "metadata": {
    "id": "HU3ZNfuI0BaL"
   },
   "source": [
    "## **Codificação de variáveis categóricas**"
   ]
  },
  {
   "cell_type": "markdown",
   "metadata": {
    "id": "lPObOxwx0Qy5",
    "jp-MarkdownHeadingCollapsed": true
   },
   "source": [
    "### **LabelEncoder: transformação de variáveis categóricas em numéricas**\n"
   ]
  },
  {
   "cell_type": "code",
   "execution_count": 44,
   "metadata": {},
   "outputs": [],
   "source": [
    "from sklearn.preprocessing import LabelEncoder"
   ]
  },
  {
   "cell_type": "code",
   "execution_count": 45,
   "metadata": {
    "colab": {
     "base_uri": "https://localhost:8080/",
     "height": 0
    },
    "executionInfo": {
     "elapsed": 19,
     "status": "ok",
     "timestamp": 1689263488697,
     "user": {
      "displayName": "Luciano Galdino",
      "userId": "10237697037323960148"
     },
     "user_tz": 180
    },
    "id": "oJc1Q36h1Ls_",
    "outputId": "8511d5f9-8f5f-4c71-9eee-de3d5982d49f"
   },
   "outputs": [
    {
     "data": {
      "text/html": [
       "<div>\n",
       "<style scoped>\n",
       "    .dataframe tbody tr th:only-of-type {\n",
       "        vertical-align: middle;\n",
       "    }\n",
       "\n",
       "    .dataframe tbody tr th {\n",
       "        vertical-align: top;\n",
       "    }\n",
       "\n",
       "    .dataframe thead th {\n",
       "        text-align: right;\n",
       "    }\n",
       "</style>\n",
       "<table border=\"1\" class=\"dataframe\">\n",
       "  <thead>\n",
       "    <tr style=\"text-align: right;\">\n",
       "      <th></th>\n",
       "      <th>diagnosis</th>\n",
       "      <th>radius_mean</th>\n",
       "      <th>texture_mean</th>\n",
       "      <th>perimeter_mean</th>\n",
       "      <th>area_mean</th>\n",
       "      <th>smoothness_mean</th>\n",
       "      <th>compactness_mean</th>\n",
       "      <th>concavity_mean</th>\n",
       "      <th>concave points_mean</th>\n",
       "      <th>symmetry_mean</th>\n",
       "      <th>...</th>\n",
       "      <th>radius_worst</th>\n",
       "      <th>texture_worst</th>\n",
       "      <th>perimeter_worst</th>\n",
       "      <th>area_worst</th>\n",
       "      <th>smoothness_worst</th>\n",
       "      <th>compactness_worst</th>\n",
       "      <th>concavity_worst</th>\n",
       "      <th>concave points_worst</th>\n",
       "      <th>symmetry_worst</th>\n",
       "      <th>fractal_dimension_worst</th>\n",
       "    </tr>\n",
       "  </thead>\n",
       "  <tbody>\n",
       "    <tr>\n",
       "      <th>0</th>\n",
       "      <td>M</td>\n",
       "      <td>17.99</td>\n",
       "      <td>10.38</td>\n",
       "      <td>122.80</td>\n",
       "      <td>1001.0</td>\n",
       "      <td>0.11840</td>\n",
       "      <td>0.27760</td>\n",
       "      <td>0.3001</td>\n",
       "      <td>0.14710</td>\n",
       "      <td>0.2419</td>\n",
       "      <td>...</td>\n",
       "      <td>25.38</td>\n",
       "      <td>17.33</td>\n",
       "      <td>184.60</td>\n",
       "      <td>2019.0</td>\n",
       "      <td>0.1622</td>\n",
       "      <td>0.6656</td>\n",
       "      <td>0.7119</td>\n",
       "      <td>0.2654</td>\n",
       "      <td>0.4601</td>\n",
       "      <td>0.11890</td>\n",
       "    </tr>\n",
       "    <tr>\n",
       "      <th>1</th>\n",
       "      <td>M</td>\n",
       "      <td>20.57</td>\n",
       "      <td>17.77</td>\n",
       "      <td>132.90</td>\n",
       "      <td>1326.0</td>\n",
       "      <td>0.08474</td>\n",
       "      <td>0.07864</td>\n",
       "      <td>0.0869</td>\n",
       "      <td>0.07017</td>\n",
       "      <td>0.1812</td>\n",
       "      <td>...</td>\n",
       "      <td>24.99</td>\n",
       "      <td>23.41</td>\n",
       "      <td>158.80</td>\n",
       "      <td>1956.0</td>\n",
       "      <td>0.1238</td>\n",
       "      <td>0.1866</td>\n",
       "      <td>0.2416</td>\n",
       "      <td>0.1860</td>\n",
       "      <td>0.2750</td>\n",
       "      <td>0.08902</td>\n",
       "    </tr>\n",
       "    <tr>\n",
       "      <th>2</th>\n",
       "      <td>M</td>\n",
       "      <td>19.69</td>\n",
       "      <td>21.25</td>\n",
       "      <td>130.00</td>\n",
       "      <td>1203.0</td>\n",
       "      <td>0.10960</td>\n",
       "      <td>0.15990</td>\n",
       "      <td>0.1974</td>\n",
       "      <td>0.12790</td>\n",
       "      <td>0.2069</td>\n",
       "      <td>...</td>\n",
       "      <td>23.57</td>\n",
       "      <td>25.53</td>\n",
       "      <td>152.50</td>\n",
       "      <td>1709.0</td>\n",
       "      <td>0.1444</td>\n",
       "      <td>0.4245</td>\n",
       "      <td>0.4504</td>\n",
       "      <td>0.2430</td>\n",
       "      <td>0.3613</td>\n",
       "      <td>0.08758</td>\n",
       "    </tr>\n",
       "    <tr>\n",
       "      <th>3</th>\n",
       "      <td>M</td>\n",
       "      <td>11.42</td>\n",
       "      <td>20.38</td>\n",
       "      <td>77.58</td>\n",
       "      <td>386.1</td>\n",
       "      <td>0.14250</td>\n",
       "      <td>0.28390</td>\n",
       "      <td>0.2414</td>\n",
       "      <td>0.10520</td>\n",
       "      <td>0.2597</td>\n",
       "      <td>...</td>\n",
       "      <td>14.91</td>\n",
       "      <td>26.50</td>\n",
       "      <td>98.87</td>\n",
       "      <td>567.7</td>\n",
       "      <td>0.2098</td>\n",
       "      <td>0.8663</td>\n",
       "      <td>0.6869</td>\n",
       "      <td>0.2575</td>\n",
       "      <td>0.6638</td>\n",
       "      <td>0.17300</td>\n",
       "    </tr>\n",
       "    <tr>\n",
       "      <th>4</th>\n",
       "      <td>M</td>\n",
       "      <td>20.29</td>\n",
       "      <td>14.34</td>\n",
       "      <td>135.10</td>\n",
       "      <td>1297.0</td>\n",
       "      <td>0.10030</td>\n",
       "      <td>0.13280</td>\n",
       "      <td>0.1980</td>\n",
       "      <td>0.10430</td>\n",
       "      <td>0.1809</td>\n",
       "      <td>...</td>\n",
       "      <td>22.54</td>\n",
       "      <td>16.67</td>\n",
       "      <td>152.20</td>\n",
       "      <td>1575.0</td>\n",
       "      <td>0.1374</td>\n",
       "      <td>0.2050</td>\n",
       "      <td>0.4000</td>\n",
       "      <td>0.1625</td>\n",
       "      <td>0.2364</td>\n",
       "      <td>0.07678</td>\n",
       "    </tr>\n",
       "  </tbody>\n",
       "</table>\n",
       "<p>5 rows × 31 columns</p>\n",
       "</div>"
      ],
      "text/plain": [
       "  diagnosis  radius_mean  texture_mean  perimeter_mean  area_mean  \\\n",
       "0         M        17.99         10.38          122.80     1001.0   \n",
       "1         M        20.57         17.77          132.90     1326.0   \n",
       "2         M        19.69         21.25          130.00     1203.0   \n",
       "3         M        11.42         20.38           77.58      386.1   \n",
       "4         M        20.29         14.34          135.10     1297.0   \n",
       "\n",
       "   smoothness_mean  compactness_mean  concavity_mean  concave points_mean  \\\n",
       "0          0.11840           0.27760          0.3001              0.14710   \n",
       "1          0.08474           0.07864          0.0869              0.07017   \n",
       "2          0.10960           0.15990          0.1974              0.12790   \n",
       "3          0.14250           0.28390          0.2414              0.10520   \n",
       "4          0.10030           0.13280          0.1980              0.10430   \n",
       "\n",
       "   symmetry_mean  ...  radius_worst  texture_worst  perimeter_worst  \\\n",
       "0         0.2419  ...         25.38          17.33           184.60   \n",
       "1         0.1812  ...         24.99          23.41           158.80   \n",
       "2         0.2069  ...         23.57          25.53           152.50   \n",
       "3         0.2597  ...         14.91          26.50            98.87   \n",
       "4         0.1809  ...         22.54          16.67           152.20   \n",
       "\n",
       "   area_worst  smoothness_worst  compactness_worst  concavity_worst  \\\n",
       "0      2019.0            0.1622             0.6656           0.7119   \n",
       "1      1956.0            0.1238             0.1866           0.2416   \n",
       "2      1709.0            0.1444             0.4245           0.4504   \n",
       "3       567.7            0.2098             0.8663           0.6869   \n",
       "4      1575.0            0.1374             0.2050           0.4000   \n",
       "\n",
       "   concave points_worst  symmetry_worst  fractal_dimension_worst  \n",
       "0                0.2654          0.4601                  0.11890  \n",
       "1                0.1860          0.2750                  0.08902  \n",
       "2                0.2430          0.3613                  0.08758  \n",
       "3                0.2575          0.6638                  0.17300  \n",
       "4                0.1625          0.2364                  0.07678  \n",
       "\n",
       "[5 rows x 31 columns]"
      ]
     },
     "execution_count": 45,
     "metadata": {},
     "output_type": "execute_result"
    }
   ],
   "source": [
    "df_original.head()"
   ]
  },
  {
   "cell_type": "code",
   "execution_count": 46,
   "metadata": {
    "colab": {
     "base_uri": "https://localhost:8080/"
    },
    "executionInfo": {
     "elapsed": 19,
     "status": "ok",
     "timestamp": 1689263488698,
     "user": {
      "displayName": "Luciano Galdino",
      "userId": "10237697037323960148"
     },
     "user_tz": 180
    },
    "id": "0VFq4NJ_181-",
    "outputId": "4a111be4-0ebd-452e-a04e-3856b10102b5"
   },
   "outputs": [
    {
     "data": {
      "text/plain": [
       "array([[1.799e+01, 1.038e+01, 1.228e+02, ..., 2.654e-01, 4.601e-01,\n",
       "        1.189e-01],\n",
       "       [2.057e+01, 1.777e+01, 1.329e+02, ..., 1.860e-01, 2.750e-01,\n",
       "        8.902e-02],\n",
       "       [1.969e+01, 2.125e+01, 1.300e+02, ..., 2.430e-01, 3.613e-01,\n",
       "        8.758e-02],\n",
       "       ...,\n",
       "       [1.660e+01, 2.808e+01, 1.083e+02, ..., 1.418e-01, 2.218e-01,\n",
       "        7.820e-02],\n",
       "       [2.060e+01, 2.933e+01, 1.401e+02, ..., 2.650e-01, 4.087e-01,\n",
       "        1.240e-01],\n",
       "       [7.760e+00, 2.454e+01, 4.792e+01, ..., 0.000e+00, 2.871e-01,\n",
       "        7.039e-02]])"
      ]
     },
     "execution_count": 46,
     "metadata": {},
     "output_type": "execute_result"
    }
   ],
   "source": [
    "previsores_labelencoder = df_original.iloc[:, 1:32].values\n",
    "previsores_labelencoder"
   ]
  },
  {
   "cell_type": "code",
   "execution_count": 47,
   "metadata": {},
   "outputs": [
    {
     "data": {
      "text/plain": [
       "(569, 30)"
      ]
     },
     "execution_count": 47,
     "metadata": {},
     "output_type": "execute_result"
    }
   ],
   "source": [
    "previsores_labelencoder.shape"
   ]
  },
  {
   "cell_type": "code",
   "execution_count": 48,
   "metadata": {},
   "outputs": [
    {
     "data": {
      "text/plain": [
       "array(['M', 'M', 'M', 'M', 'M', 'M', 'M', 'M', 'M', 'M', 'M', 'M', 'M',\n",
       "       'M', 'M', 'M', 'M', 'M', 'M', 'B', 'B', 'B', 'M', 'M', 'M', 'M',\n",
       "       'M', 'M', 'M', 'M', 'M', 'M', 'M', 'M', 'M', 'M', 'M', 'B', 'M',\n",
       "       'M', 'M', 'M', 'M', 'M', 'M', 'M', 'B', 'M', 'B', 'B', 'B', 'B',\n",
       "       'B', 'M', 'M', 'B', 'M', 'M', 'B', 'B', 'B', 'B', 'M', 'B', 'M',\n",
       "       'M', 'B', 'B', 'B', 'B', 'M', 'B', 'M', 'M', 'B', 'M', 'B', 'M',\n",
       "       'M', 'B', 'B', 'B', 'M', 'M', 'B', 'M', 'M', 'M', 'B', 'B', 'B',\n",
       "       'M', 'B', 'B', 'M', 'M', 'B', 'B', 'B', 'M', 'M', 'B', 'B', 'B',\n",
       "       'B', 'M', 'B', 'B', 'M', 'B', 'B', 'B', 'B', 'B', 'B', 'B', 'B',\n",
       "       'M', 'M', 'M', 'B', 'M', 'M', 'B', 'B', 'B', 'M', 'M', 'B', 'M',\n",
       "       'B', 'M', 'M', 'B', 'M', 'M', 'B', 'B', 'M', 'B', 'B', 'M', 'B',\n",
       "       'B', 'B', 'B', 'M', 'B', 'B', 'B', 'B', 'B', 'B', 'B', 'B', 'B',\n",
       "       'M', 'B', 'B', 'B', 'B', 'M', 'M', 'B', 'M', 'B', 'B', 'M', 'M',\n",
       "       'B', 'B', 'M', 'M', 'B', 'B', 'B', 'B', 'M', 'B', 'B', 'M', 'M',\n",
       "       'M', 'B', 'M', 'B', 'M', 'B', 'B', 'B', 'M', 'B', 'B', 'M', 'M',\n",
       "       'B', 'M', 'M', 'M', 'M', 'B', 'M', 'M', 'M', 'B', 'M', 'B', 'M',\n",
       "       'B', 'B', 'M', 'B', 'M', 'M', 'M', 'M', 'B', 'B', 'M', 'M', 'B',\n",
       "       'B', 'B', 'M', 'B', 'B', 'B', 'B', 'B', 'M', 'M', 'B', 'B', 'M',\n",
       "       'B', 'B', 'M', 'M', 'B', 'M', 'B', 'B', 'B', 'B', 'M', 'B', 'B',\n",
       "       'B', 'B', 'B', 'M', 'B', 'M', 'M', 'M', 'M', 'M', 'M', 'M', 'M',\n",
       "       'M', 'M', 'M', 'M', 'M', 'M', 'B', 'B', 'B', 'B', 'B', 'B', 'M',\n",
       "       'B', 'M', 'B', 'B', 'M', 'B', 'B', 'M', 'B', 'M', 'M', 'B', 'B',\n",
       "       'B', 'B', 'B', 'B', 'B', 'B', 'B', 'B', 'B', 'B', 'B', 'M', 'B',\n",
       "       'B', 'M', 'B', 'M', 'B', 'B', 'B', 'B', 'B', 'B', 'B', 'B', 'B',\n",
       "       'B', 'B', 'B', 'B', 'B', 'M', 'B', 'B', 'B', 'M', 'B', 'M', 'B',\n",
       "       'B', 'B', 'B', 'M', 'M', 'M', 'B', 'B', 'B', 'B', 'M', 'B', 'M',\n",
       "       'B', 'M', 'B', 'B', 'B', 'M', 'B', 'B', 'B', 'B', 'B', 'B', 'B',\n",
       "       'M', 'M', 'M', 'B', 'B', 'B', 'B', 'B', 'B', 'B', 'B', 'B', 'B',\n",
       "       'B', 'M', 'M', 'B', 'M', 'M', 'M', 'B', 'M', 'M', 'B', 'B', 'B',\n",
       "       'B', 'B', 'M', 'B', 'B', 'B', 'B', 'B', 'M', 'B', 'B', 'B', 'M',\n",
       "       'B', 'B', 'M', 'M', 'B', 'B', 'B', 'B', 'B', 'B', 'M', 'B', 'B',\n",
       "       'B', 'B', 'B', 'B', 'B', 'M', 'B', 'B', 'B', 'B', 'B', 'M', 'B',\n",
       "       'B', 'M', 'B', 'B', 'B', 'B', 'B', 'B', 'B', 'B', 'B', 'B', 'B',\n",
       "       'B', 'M', 'B', 'M', 'M', 'B', 'M', 'B', 'B', 'B', 'B', 'B', 'M',\n",
       "       'B', 'B', 'M', 'B', 'M', 'B', 'B', 'M', 'B', 'M', 'B', 'B', 'B',\n",
       "       'B', 'B', 'B', 'B', 'B', 'M', 'M', 'B', 'B', 'B', 'B', 'B', 'B',\n",
       "       'M', 'B', 'B', 'B', 'B', 'B', 'B', 'B', 'B', 'B', 'B', 'M', 'B',\n",
       "       'B', 'B', 'B', 'B', 'B', 'B', 'M', 'B', 'M', 'B', 'B', 'M', 'B',\n",
       "       'B', 'B', 'B', 'B', 'M', 'M', 'B', 'M', 'B', 'M', 'B', 'B', 'B',\n",
       "       'B', 'B', 'M', 'B', 'B', 'M', 'B', 'M', 'B', 'M', 'M', 'B', 'B',\n",
       "       'B', 'M', 'B', 'B', 'B', 'B', 'B', 'B', 'B', 'B', 'B', 'B', 'B',\n",
       "       'M', 'B', 'M', 'M', 'B', 'B', 'B', 'B', 'B', 'B', 'B', 'B', 'B',\n",
       "       'B', 'B', 'B', 'B', 'B', 'B', 'B', 'B', 'B', 'B', 'B', 'B', 'B',\n",
       "       'B', 'B', 'B', 'M', 'M', 'M', 'M', 'M', 'M', 'B'], dtype=object)"
      ]
     },
     "execution_count": 48,
     "metadata": {},
     "output_type": "execute_result"
    }
   ],
   "source": [
    "alvo_labelencoder = df_original.iloc[:, 0].values\n",
    "alvo_labelencoder"
   ]
  },
  {
   "cell_type": "code",
   "execution_count": 49,
   "metadata": {
    "executionInfo": {
     "elapsed": 19,
     "status": "ok",
     "timestamp": 1689263488699,
     "user": {
      "displayName": "Luciano Galdino",
      "userId": "10237697037323960148"
     },
     "user_tz": 180
    },
    "id": "36oIQ8I10nin"
   },
   "outputs": [
    {
     "data": {
      "text/plain": [
       "array([1, 1, 1, 1, 1, 1, 1, 1, 1, 1, 1, 1, 1, 1, 1, 1, 1, 1, 1, 0, 0, 0,\n",
       "       1, 1, 1, 1, 1, 1, 1, 1, 1, 1, 1, 1, 1, 1, 1, 0, 1, 1, 1, 1, 1, 1,\n",
       "       1, 1, 0, 1, 0, 0, 0, 0, 0, 1, 1, 0, 1, 1, 0, 0, 0, 0, 1, 0, 1, 1,\n",
       "       0, 0, 0, 0, 1, 0, 1, 1, 0, 1, 0, 1, 1, 0, 0, 0, 1, 1, 0, 1, 1, 1,\n",
       "       0, 0, 0, 1, 0, 0, 1, 1, 0, 0, 0, 1, 1, 0, 0, 0, 0, 1, 0, 0, 1, 0,\n",
       "       0, 0, 0, 0, 0, 0, 0, 1, 1, 1, 0, 1, 1, 0, 0, 0, 1, 1, 0, 1, 0, 1,\n",
       "       1, 0, 1, 1, 0, 0, 1, 0, 0, 1, 0, 0, 0, 0, 1, 0, 0, 0, 0, 0, 0, 0,\n",
       "       0, 0, 1, 0, 0, 0, 0, 1, 1, 0, 1, 0, 0, 1, 1, 0, 0, 1, 1, 0, 0, 0,\n",
       "       0, 1, 0, 0, 1, 1, 1, 0, 1, 0, 1, 0, 0, 0, 1, 0, 0, 1, 1, 0, 1, 1,\n",
       "       1, 1, 0, 1, 1, 1, 0, 1, 0, 1, 0, 0, 1, 0, 1, 1, 1, 1, 0, 0, 1, 1,\n",
       "       0, 0, 0, 1, 0, 0, 0, 0, 0, 1, 1, 0, 0, 1, 0, 0, 1, 1, 0, 1, 0, 0,\n",
       "       0, 0, 1, 0, 0, 0, 0, 0, 1, 0, 1, 1, 1, 1, 1, 1, 1, 1, 1, 1, 1, 1,\n",
       "       1, 1, 0, 0, 0, 0, 0, 0, 1, 0, 1, 0, 0, 1, 0, 0, 1, 0, 1, 1, 0, 0,\n",
       "       0, 0, 0, 0, 0, 0, 0, 0, 0, 0, 0, 1, 0, 0, 1, 0, 1, 0, 0, 0, 0, 0,\n",
       "       0, 0, 0, 0, 0, 0, 0, 0, 0, 1, 0, 0, 0, 1, 0, 1, 0, 0, 0, 0, 1, 1,\n",
       "       1, 0, 0, 0, 0, 1, 0, 1, 0, 1, 0, 0, 0, 1, 0, 0, 0, 0, 0, 0, 0, 1,\n",
       "       1, 1, 0, 0, 0, 0, 0, 0, 0, 0, 0, 0, 0, 1, 1, 0, 1, 1, 1, 0, 1, 1,\n",
       "       0, 0, 0, 0, 0, 1, 0, 0, 0, 0, 0, 1, 0, 0, 0, 1, 0, 0, 1, 1, 0, 0,\n",
       "       0, 0, 0, 0, 1, 0, 0, 0, 0, 0, 0, 0, 1, 0, 0, 0, 0, 0, 1, 0, 0, 1,\n",
       "       0, 0, 0, 0, 0, 0, 0, 0, 0, 0, 0, 0, 1, 0, 1, 1, 0, 1, 0, 0, 0, 0,\n",
       "       0, 1, 0, 0, 1, 0, 1, 0, 0, 1, 0, 1, 0, 0, 0, 0, 0, 0, 0, 0, 1, 1,\n",
       "       0, 0, 0, 0, 0, 0, 1, 0, 0, 0, 0, 0, 0, 0, 0, 0, 0, 1, 0, 0, 0, 0,\n",
       "       0, 0, 0, 1, 0, 1, 0, 0, 1, 0, 0, 0, 0, 0, 1, 1, 0, 1, 0, 1, 0, 0,\n",
       "       0, 0, 0, 1, 0, 0, 1, 0, 1, 0, 1, 1, 0, 0, 0, 1, 0, 0, 0, 0, 0, 0,\n",
       "       0, 0, 0, 0, 0, 1, 0, 1, 1, 0, 0, 0, 0, 0, 0, 0, 0, 0, 0, 0, 0, 0,\n",
       "       0, 0, 0, 0, 0, 0, 0, 0, 0, 0, 0, 0, 1, 1, 1, 1, 1, 1, 0])"
      ]
     },
     "execution_count": 49,
     "metadata": {},
     "output_type": "execute_result"
    }
   ],
   "source": [
    "alvo_labelencoder_ordinal = LabelEncoder().fit_transform(alvo_labelencoder)\n",
    "alvo_labelencoder_ordinal"
   ]
  },
  {
   "cell_type": "code",
   "execution_count": 50,
   "metadata": {},
   "outputs": [
    {
     "data": {
      "text/plain": [
       "(569,)"
      ]
     },
     "execution_count": 50,
     "metadata": {},
     "output_type": "execute_result"
    }
   ],
   "source": [
    "alvo_labelencoder_ordinal.shape"
   ]
  },
  {
   "cell_type": "markdown",
   "metadata": {
    "id": "YWlyb9T-Fk1I",
    "jp-MarkdownHeadingCollapsed": true
   },
   "source": [
    "## **Escalonamento**"
   ]
  },
  {
   "cell_type": "code",
   "execution_count": 51,
   "metadata": {
    "executionInfo": {
     "elapsed": 41,
     "status": "ok",
     "timestamp": 1689263489177,
     "user": {
      "displayName": "Luciano Galdino",
      "userId": "10237697037323960148"
     },
     "user_tz": 180
    },
    "id": "x4jzommSFk1L"
   },
   "outputs": [],
   "source": [
    "from sklearn.preprocessing import StandardScaler"
   ]
  },
  {
   "cell_type": "code",
   "execution_count": 52,
   "metadata": {
    "executionInfo": {
     "elapsed": 42,
     "status": "ok",
     "timestamp": 1689263489178,
     "user": {
      "displayName": "Luciano Galdino",
      "userId": "10237697037323960148"
     },
     "user_tz": 180
    },
    "id": "nvLu4mtDFk1L"
   },
   "outputs": [],
   "source": [
    "previsores_labelencoder_esc = StandardScaler().fit_transform(previsores_labelencoder)"
   ]
  },
  {
   "cell_type": "code",
   "execution_count": 53,
   "metadata": {
    "colab": {
     "base_uri": "https://localhost:8080/"
    },
    "executionInfo": {
     "elapsed": 465,
     "status": "ok",
     "timestamp": 1689263489601,
     "user": {
      "displayName": "Luciano Galdino",
      "userId": "10237697037323960148"
     },
     "user_tz": 180
    },
    "id": "eFTA8spkFk1M",
    "outputId": "a8605f8d-1da6-4555-a906-a1e048890094"
   },
   "outputs": [
    {
     "data": {
      "text/plain": [
       "array([[ 1.09706398, -2.07333501,  1.26993369, ...,  2.29607613,\n",
       "         2.75062224,  1.93701461],\n",
       "       [ 1.82982061, -0.35363241,  1.68595471, ...,  1.0870843 ,\n",
       "        -0.24388967,  0.28118999],\n",
       "       [ 1.57988811,  0.45618695,  1.56650313, ...,  1.95500035,\n",
       "         1.152255  ,  0.20139121],\n",
       "       ...,\n",
       "       [ 0.70228425,  2.0455738 ,  0.67267578, ...,  0.41406869,\n",
       "        -1.10454895, -0.31840916],\n",
       "       [ 1.83834103,  2.33645719,  1.98252415, ...,  2.28998549,\n",
       "         1.91908301,  2.21963528],\n",
       "       [-1.80840125,  1.22179204, -1.81438851, ..., -1.74506282,\n",
       "        -0.04813821, -0.75120669]])"
      ]
     },
     "execution_count": 53,
     "metadata": {},
     "output_type": "execute_result"
    }
   ],
   "source": [
    "previsores_labelencoder_esc"
   ]
  },
  {
   "cell_type": "code",
   "execution_count": 54,
   "metadata": {
    "colab": {
     "base_uri": "https://localhost:8080/",
     "height": 0
    },
    "executionInfo": {
     "elapsed": 10,
     "status": "ok",
     "timestamp": 1689263489601,
     "user": {
      "displayName": "Luciano Galdino",
      "userId": "10237697037323960148"
     },
     "user_tz": 180
    },
    "id": "w6JQStnqFk1M",
    "outputId": "649331d8-8f89-4c76-d4c5-f7d2bc6103d0"
   },
   "outputs": [
    {
     "data": {
      "text/html": [
       "<div>\n",
       "<style scoped>\n",
       "    .dataframe tbody tr th:only-of-type {\n",
       "        vertical-align: middle;\n",
       "    }\n",
       "\n",
       "    .dataframe tbody tr th {\n",
       "        vertical-align: top;\n",
       "    }\n",
       "\n",
       "    .dataframe thead th {\n",
       "        text-align: right;\n",
       "    }\n",
       "</style>\n",
       "<table border=\"1\" class=\"dataframe\">\n",
       "  <thead>\n",
       "    <tr style=\"text-align: right;\">\n",
       "      <th></th>\n",
       "      <th>0</th>\n",
       "      <th>1</th>\n",
       "      <th>2</th>\n",
       "      <th>3</th>\n",
       "      <th>4</th>\n",
       "      <th>5</th>\n",
       "      <th>6</th>\n",
       "      <th>7</th>\n",
       "      <th>8</th>\n",
       "      <th>9</th>\n",
       "      <th>...</th>\n",
       "      <th>20</th>\n",
       "      <th>21</th>\n",
       "      <th>22</th>\n",
       "      <th>23</th>\n",
       "      <th>24</th>\n",
       "      <th>25</th>\n",
       "      <th>26</th>\n",
       "      <th>27</th>\n",
       "      <th>28</th>\n",
       "      <th>29</th>\n",
       "    </tr>\n",
       "  </thead>\n",
       "  <tbody>\n",
       "    <tr>\n",
       "      <th>0</th>\n",
       "      <td>1.097064</td>\n",
       "      <td>-2.073335</td>\n",
       "      <td>1.269934</td>\n",
       "      <td>0.984375</td>\n",
       "      <td>1.568466</td>\n",
       "      <td>3.283515</td>\n",
       "      <td>2.652874</td>\n",
       "      <td>2.532475</td>\n",
       "      <td>2.217515</td>\n",
       "      <td>2.255747</td>\n",
       "      <td>...</td>\n",
       "      <td>1.886690</td>\n",
       "      <td>-1.359293</td>\n",
       "      <td>2.303601</td>\n",
       "      <td>2.001237</td>\n",
       "      <td>1.307686</td>\n",
       "      <td>2.616665</td>\n",
       "      <td>2.109526</td>\n",
       "      <td>2.296076</td>\n",
       "      <td>2.750622</td>\n",
       "      <td>1.937015</td>\n",
       "    </tr>\n",
       "    <tr>\n",
       "      <th>1</th>\n",
       "      <td>1.829821</td>\n",
       "      <td>-0.353632</td>\n",
       "      <td>1.685955</td>\n",
       "      <td>1.908708</td>\n",
       "      <td>-0.826962</td>\n",
       "      <td>-0.487072</td>\n",
       "      <td>-0.023846</td>\n",
       "      <td>0.548144</td>\n",
       "      <td>0.001392</td>\n",
       "      <td>-0.868652</td>\n",
       "      <td>...</td>\n",
       "      <td>1.805927</td>\n",
       "      <td>-0.369203</td>\n",
       "      <td>1.535126</td>\n",
       "      <td>1.890489</td>\n",
       "      <td>-0.375612</td>\n",
       "      <td>-0.430444</td>\n",
       "      <td>-0.146749</td>\n",
       "      <td>1.087084</td>\n",
       "      <td>-0.243890</td>\n",
       "      <td>0.281190</td>\n",
       "    </tr>\n",
       "    <tr>\n",
       "      <th>2</th>\n",
       "      <td>1.579888</td>\n",
       "      <td>0.456187</td>\n",
       "      <td>1.566503</td>\n",
       "      <td>1.558884</td>\n",
       "      <td>0.942210</td>\n",
       "      <td>1.052926</td>\n",
       "      <td>1.363478</td>\n",
       "      <td>2.037231</td>\n",
       "      <td>0.939685</td>\n",
       "      <td>-0.398008</td>\n",
       "      <td>...</td>\n",
       "      <td>1.511870</td>\n",
       "      <td>-0.023974</td>\n",
       "      <td>1.347475</td>\n",
       "      <td>1.456285</td>\n",
       "      <td>0.527407</td>\n",
       "      <td>1.082932</td>\n",
       "      <td>0.854974</td>\n",
       "      <td>1.955000</td>\n",
       "      <td>1.152255</td>\n",
       "      <td>0.201391</td>\n",
       "    </tr>\n",
       "    <tr>\n",
       "      <th>3</th>\n",
       "      <td>-0.768909</td>\n",
       "      <td>0.253732</td>\n",
       "      <td>-0.592687</td>\n",
       "      <td>-0.764464</td>\n",
       "      <td>3.283553</td>\n",
       "      <td>3.402909</td>\n",
       "      <td>1.915897</td>\n",
       "      <td>1.451707</td>\n",
       "      <td>2.867383</td>\n",
       "      <td>4.910919</td>\n",
       "      <td>...</td>\n",
       "      <td>-0.281464</td>\n",
       "      <td>0.133984</td>\n",
       "      <td>-0.249939</td>\n",
       "      <td>-0.550021</td>\n",
       "      <td>3.394275</td>\n",
       "      <td>3.893397</td>\n",
       "      <td>1.989588</td>\n",
       "      <td>2.175786</td>\n",
       "      <td>6.046041</td>\n",
       "      <td>4.935010</td>\n",
       "    </tr>\n",
       "    <tr>\n",
       "      <th>4</th>\n",
       "      <td>1.750297</td>\n",
       "      <td>-1.151816</td>\n",
       "      <td>1.776573</td>\n",
       "      <td>1.826229</td>\n",
       "      <td>0.280372</td>\n",
       "      <td>0.539340</td>\n",
       "      <td>1.371011</td>\n",
       "      <td>1.428493</td>\n",
       "      <td>-0.009560</td>\n",
       "      <td>-0.562450</td>\n",
       "      <td>...</td>\n",
       "      <td>1.298575</td>\n",
       "      <td>-1.466770</td>\n",
       "      <td>1.338539</td>\n",
       "      <td>1.220724</td>\n",
       "      <td>0.220556</td>\n",
       "      <td>-0.313395</td>\n",
       "      <td>0.613179</td>\n",
       "      <td>0.729259</td>\n",
       "      <td>-0.868353</td>\n",
       "      <td>-0.397100</td>\n",
       "    </tr>\n",
       "    <tr>\n",
       "      <th>...</th>\n",
       "      <td>...</td>\n",
       "      <td>...</td>\n",
       "      <td>...</td>\n",
       "      <td>...</td>\n",
       "      <td>...</td>\n",
       "      <td>...</td>\n",
       "      <td>...</td>\n",
       "      <td>...</td>\n",
       "      <td>...</td>\n",
       "      <td>...</td>\n",
       "      <td>...</td>\n",
       "      <td>...</td>\n",
       "      <td>...</td>\n",
       "      <td>...</td>\n",
       "      <td>...</td>\n",
       "      <td>...</td>\n",
       "      <td>...</td>\n",
       "      <td>...</td>\n",
       "      <td>...</td>\n",
       "      <td>...</td>\n",
       "      <td>...</td>\n",
       "    </tr>\n",
       "    <tr>\n",
       "      <th>564</th>\n",
       "      <td>2.110995</td>\n",
       "      <td>0.721473</td>\n",
       "      <td>2.060786</td>\n",
       "      <td>2.343856</td>\n",
       "      <td>1.041842</td>\n",
       "      <td>0.219060</td>\n",
       "      <td>1.947285</td>\n",
       "      <td>2.320965</td>\n",
       "      <td>-0.312589</td>\n",
       "      <td>-0.931027</td>\n",
       "      <td>...</td>\n",
       "      <td>1.901185</td>\n",
       "      <td>0.117700</td>\n",
       "      <td>1.752563</td>\n",
       "      <td>2.015301</td>\n",
       "      <td>0.378365</td>\n",
       "      <td>-0.273318</td>\n",
       "      <td>0.664512</td>\n",
       "      <td>1.629151</td>\n",
       "      <td>-1.360158</td>\n",
       "      <td>-0.709091</td>\n",
       "    </tr>\n",
       "    <tr>\n",
       "      <th>565</th>\n",
       "      <td>1.704854</td>\n",
       "      <td>2.085134</td>\n",
       "      <td>1.615931</td>\n",
       "      <td>1.723842</td>\n",
       "      <td>0.102458</td>\n",
       "      <td>-0.017833</td>\n",
       "      <td>0.693043</td>\n",
       "      <td>1.263669</td>\n",
       "      <td>-0.217664</td>\n",
       "      <td>-1.058611</td>\n",
       "      <td>...</td>\n",
       "      <td>1.536720</td>\n",
       "      <td>2.047399</td>\n",
       "      <td>1.421940</td>\n",
       "      <td>1.494959</td>\n",
       "      <td>-0.691230</td>\n",
       "      <td>-0.394820</td>\n",
       "      <td>0.236573</td>\n",
       "      <td>0.733827</td>\n",
       "      <td>-0.531855</td>\n",
       "      <td>-0.973978</td>\n",
       "    </tr>\n",
       "    <tr>\n",
       "      <th>566</th>\n",
       "      <td>0.702284</td>\n",
       "      <td>2.045574</td>\n",
       "      <td>0.672676</td>\n",
       "      <td>0.577953</td>\n",
       "      <td>-0.840484</td>\n",
       "      <td>-0.038680</td>\n",
       "      <td>0.046588</td>\n",
       "      <td>0.105777</td>\n",
       "      <td>-0.809117</td>\n",
       "      <td>-0.895587</td>\n",
       "      <td>...</td>\n",
       "      <td>0.561361</td>\n",
       "      <td>1.374854</td>\n",
       "      <td>0.579001</td>\n",
       "      <td>0.427906</td>\n",
       "      <td>-0.809587</td>\n",
       "      <td>0.350735</td>\n",
       "      <td>0.326767</td>\n",
       "      <td>0.414069</td>\n",
       "      <td>-1.104549</td>\n",
       "      <td>-0.318409</td>\n",
       "    </tr>\n",
       "    <tr>\n",
       "      <th>567</th>\n",
       "      <td>1.838341</td>\n",
       "      <td>2.336457</td>\n",
       "      <td>1.982524</td>\n",
       "      <td>1.735218</td>\n",
       "      <td>1.525767</td>\n",
       "      <td>3.272144</td>\n",
       "      <td>3.296944</td>\n",
       "      <td>2.658866</td>\n",
       "      <td>2.137194</td>\n",
       "      <td>1.043695</td>\n",
       "      <td>...</td>\n",
       "      <td>1.961239</td>\n",
       "      <td>2.237926</td>\n",
       "      <td>2.303601</td>\n",
       "      <td>1.653171</td>\n",
       "      <td>1.430427</td>\n",
       "      <td>3.904848</td>\n",
       "      <td>3.197605</td>\n",
       "      <td>2.289985</td>\n",
       "      <td>1.919083</td>\n",
       "      <td>2.219635</td>\n",
       "    </tr>\n",
       "    <tr>\n",
       "      <th>568</th>\n",
       "      <td>-1.808401</td>\n",
       "      <td>1.221792</td>\n",
       "      <td>-1.814389</td>\n",
       "      <td>-1.347789</td>\n",
       "      <td>-3.112085</td>\n",
       "      <td>-1.150752</td>\n",
       "      <td>-1.114873</td>\n",
       "      <td>-1.261820</td>\n",
       "      <td>-0.820070</td>\n",
       "      <td>-0.561032</td>\n",
       "      <td>...</td>\n",
       "      <td>-1.410893</td>\n",
       "      <td>0.764190</td>\n",
       "      <td>-1.432735</td>\n",
       "      <td>-1.075813</td>\n",
       "      <td>-1.859019</td>\n",
       "      <td>-1.207552</td>\n",
       "      <td>-1.305831</td>\n",
       "      <td>-1.745063</td>\n",
       "      <td>-0.048138</td>\n",
       "      <td>-0.751207</td>\n",
       "    </tr>\n",
       "  </tbody>\n",
       "</table>\n",
       "<p>569 rows × 30 columns</p>\n",
       "</div>"
      ],
      "text/plain": [
       "           0         1         2         3         4         5         6   \\\n",
       "0    1.097064 -2.073335  1.269934  0.984375  1.568466  3.283515  2.652874   \n",
       "1    1.829821 -0.353632  1.685955  1.908708 -0.826962 -0.487072 -0.023846   \n",
       "2    1.579888  0.456187  1.566503  1.558884  0.942210  1.052926  1.363478   \n",
       "3   -0.768909  0.253732 -0.592687 -0.764464  3.283553  3.402909  1.915897   \n",
       "4    1.750297 -1.151816  1.776573  1.826229  0.280372  0.539340  1.371011   \n",
       "..        ...       ...       ...       ...       ...       ...       ...   \n",
       "564  2.110995  0.721473  2.060786  2.343856  1.041842  0.219060  1.947285   \n",
       "565  1.704854  2.085134  1.615931  1.723842  0.102458 -0.017833  0.693043   \n",
       "566  0.702284  2.045574  0.672676  0.577953 -0.840484 -0.038680  0.046588   \n",
       "567  1.838341  2.336457  1.982524  1.735218  1.525767  3.272144  3.296944   \n",
       "568 -1.808401  1.221792 -1.814389 -1.347789 -3.112085 -1.150752 -1.114873   \n",
       "\n",
       "           7         8         9   ...        20        21        22  \\\n",
       "0    2.532475  2.217515  2.255747  ...  1.886690 -1.359293  2.303601   \n",
       "1    0.548144  0.001392 -0.868652  ...  1.805927 -0.369203  1.535126   \n",
       "2    2.037231  0.939685 -0.398008  ...  1.511870 -0.023974  1.347475   \n",
       "3    1.451707  2.867383  4.910919  ... -0.281464  0.133984 -0.249939   \n",
       "4    1.428493 -0.009560 -0.562450  ...  1.298575 -1.466770  1.338539   \n",
       "..        ...       ...       ...  ...       ...       ...       ...   \n",
       "564  2.320965 -0.312589 -0.931027  ...  1.901185  0.117700  1.752563   \n",
       "565  1.263669 -0.217664 -1.058611  ...  1.536720  2.047399  1.421940   \n",
       "566  0.105777 -0.809117 -0.895587  ...  0.561361  1.374854  0.579001   \n",
       "567  2.658866  2.137194  1.043695  ...  1.961239  2.237926  2.303601   \n",
       "568 -1.261820 -0.820070 -0.561032  ... -1.410893  0.764190 -1.432735   \n",
       "\n",
       "           23        24        25        26        27        28        29  \n",
       "0    2.001237  1.307686  2.616665  2.109526  2.296076  2.750622  1.937015  \n",
       "1    1.890489 -0.375612 -0.430444 -0.146749  1.087084 -0.243890  0.281190  \n",
       "2    1.456285  0.527407  1.082932  0.854974  1.955000  1.152255  0.201391  \n",
       "3   -0.550021  3.394275  3.893397  1.989588  2.175786  6.046041  4.935010  \n",
       "4    1.220724  0.220556 -0.313395  0.613179  0.729259 -0.868353 -0.397100  \n",
       "..        ...       ...       ...       ...       ...       ...       ...  \n",
       "564  2.015301  0.378365 -0.273318  0.664512  1.629151 -1.360158 -0.709091  \n",
       "565  1.494959 -0.691230 -0.394820  0.236573  0.733827 -0.531855 -0.973978  \n",
       "566  0.427906 -0.809587  0.350735  0.326767  0.414069 -1.104549 -0.318409  \n",
       "567  1.653171  1.430427  3.904848  3.197605  2.289985  1.919083  2.219635  \n",
       "568 -1.075813 -1.859019 -1.207552 -1.305831 -1.745063 -0.048138 -0.751207  \n",
       "\n",
       "[569 rows x 30 columns]"
      ]
     },
     "execution_count": 54,
     "metadata": {},
     "output_type": "execute_result"
    }
   ],
   "source": [
    "previsores_labelencoder_esc_df = pd.DataFrame(previsores_labelencoder_esc)\n",
    "previsores_labelencoder_esc_df"
   ]
  },
  {
   "cell_type": "code",
   "execution_count": 55,
   "metadata": {
    "colab": {
     "base_uri": "https://localhost:8080/",
     "height": 0
    },
    "executionInfo": {
     "elapsed": 10,
     "status": "ok",
     "timestamp": 1689263489602,
     "user": {
      "displayName": "Luciano Galdino",
      "userId": "10237697037323960148"
     },
     "user_tz": 180
    },
    "id": "e-dcMRS-Fk1N",
    "outputId": "91056deb-e93c-4305-bd9d-d67f2b030981"
   },
   "outputs": [
    {
     "data": {
      "text/html": [
       "<div>\n",
       "<style scoped>\n",
       "    .dataframe tbody tr th:only-of-type {\n",
       "        vertical-align: middle;\n",
       "    }\n",
       "\n",
       "    .dataframe tbody tr th {\n",
       "        vertical-align: top;\n",
       "    }\n",
       "\n",
       "    .dataframe thead th {\n",
       "        text-align: right;\n",
       "    }\n",
       "</style>\n",
       "<table border=\"1\" class=\"dataframe\">\n",
       "  <thead>\n",
       "    <tr style=\"text-align: right;\">\n",
       "      <th></th>\n",
       "      <th>0</th>\n",
       "      <th>1</th>\n",
       "      <th>2</th>\n",
       "      <th>3</th>\n",
       "      <th>4</th>\n",
       "      <th>5</th>\n",
       "      <th>6</th>\n",
       "      <th>7</th>\n",
       "      <th>8</th>\n",
       "      <th>9</th>\n",
       "      <th>...</th>\n",
       "      <th>20</th>\n",
       "      <th>21</th>\n",
       "      <th>22</th>\n",
       "      <th>23</th>\n",
       "      <th>24</th>\n",
       "      <th>25</th>\n",
       "      <th>26</th>\n",
       "      <th>27</th>\n",
       "      <th>28</th>\n",
       "      <th>29</th>\n",
       "    </tr>\n",
       "  </thead>\n",
       "  <tbody>\n",
       "    <tr>\n",
       "      <th>count</th>\n",
       "      <td>5.690000e+02</td>\n",
       "      <td>5.690000e+02</td>\n",
       "      <td>5.690000e+02</td>\n",
       "      <td>5.690000e+02</td>\n",
       "      <td>5.690000e+02</td>\n",
       "      <td>5.690000e+02</td>\n",
       "      <td>5.690000e+02</td>\n",
       "      <td>5.690000e+02</td>\n",
       "      <td>5.690000e+02</td>\n",
       "      <td>5.690000e+02</td>\n",
       "      <td>...</td>\n",
       "      <td>5.690000e+02</td>\n",
       "      <td>5.690000e+02</td>\n",
       "      <td>5.690000e+02</td>\n",
       "      <td>569.000000</td>\n",
       "      <td>5.690000e+02</td>\n",
       "      <td>5.690000e+02</td>\n",
       "      <td>5.690000e+02</td>\n",
       "      <td>5.690000e+02</td>\n",
       "      <td>5.690000e+02</td>\n",
       "      <td>5.690000e+02</td>\n",
       "    </tr>\n",
       "    <tr>\n",
       "      <th>mean</th>\n",
       "      <td>-1.373633e-16</td>\n",
       "      <td>6.868164e-17</td>\n",
       "      <td>-1.248757e-16</td>\n",
       "      <td>-2.185325e-16</td>\n",
       "      <td>-8.366672e-16</td>\n",
       "      <td>1.873136e-16</td>\n",
       "      <td>4.995028e-17</td>\n",
       "      <td>-4.995028e-17</td>\n",
       "      <td>1.748260e-16</td>\n",
       "      <td>4.745277e-16</td>\n",
       "      <td>...</td>\n",
       "      <td>-8.241796e-16</td>\n",
       "      <td>1.248757e-17</td>\n",
       "      <td>-3.746271e-16</td>\n",
       "      <td>0.000000</td>\n",
       "      <td>-2.372638e-16</td>\n",
       "      <td>-3.371644e-16</td>\n",
       "      <td>7.492542e-17</td>\n",
       "      <td>2.247763e-16</td>\n",
       "      <td>2.622390e-16</td>\n",
       "      <td>-5.744282e-16</td>\n",
       "    </tr>\n",
       "    <tr>\n",
       "      <th>std</th>\n",
       "      <td>1.000880e+00</td>\n",
       "      <td>1.000880e+00</td>\n",
       "      <td>1.000880e+00</td>\n",
       "      <td>1.000880e+00</td>\n",
       "      <td>1.000880e+00</td>\n",
       "      <td>1.000880e+00</td>\n",
       "      <td>1.000880e+00</td>\n",
       "      <td>1.000880e+00</td>\n",
       "      <td>1.000880e+00</td>\n",
       "      <td>1.000880e+00</td>\n",
       "      <td>...</td>\n",
       "      <td>1.000880e+00</td>\n",
       "      <td>1.000880e+00</td>\n",
       "      <td>1.000880e+00</td>\n",
       "      <td>1.000880</td>\n",
       "      <td>1.000880e+00</td>\n",
       "      <td>1.000880e+00</td>\n",
       "      <td>1.000880e+00</td>\n",
       "      <td>1.000880e+00</td>\n",
       "      <td>1.000880e+00</td>\n",
       "      <td>1.000880e+00</td>\n",
       "    </tr>\n",
       "    <tr>\n",
       "      <th>min</th>\n",
       "      <td>-2.029648e+00</td>\n",
       "      <td>-2.229249e+00</td>\n",
       "      <td>-1.984504e+00</td>\n",
       "      <td>-1.454443e+00</td>\n",
       "      <td>-3.112085e+00</td>\n",
       "      <td>-1.610136e+00</td>\n",
       "      <td>-1.114873e+00</td>\n",
       "      <td>-1.261820e+00</td>\n",
       "      <td>-2.744117e+00</td>\n",
       "      <td>-1.819865e+00</td>\n",
       "      <td>...</td>\n",
       "      <td>-1.726901e+00</td>\n",
       "      <td>-2.223994e+00</td>\n",
       "      <td>-1.693361e+00</td>\n",
       "      <td>-1.222423</td>\n",
       "      <td>-2.682695e+00</td>\n",
       "      <td>-1.443878e+00</td>\n",
       "      <td>-1.305831e+00</td>\n",
       "      <td>-1.745063e+00</td>\n",
       "      <td>-2.160960e+00</td>\n",
       "      <td>-1.601839e+00</td>\n",
       "    </tr>\n",
       "    <tr>\n",
       "      <th>25%</th>\n",
       "      <td>-6.893853e-01</td>\n",
       "      <td>-7.259631e-01</td>\n",
       "      <td>-6.919555e-01</td>\n",
       "      <td>-6.671955e-01</td>\n",
       "      <td>-7.109628e-01</td>\n",
       "      <td>-7.470860e-01</td>\n",
       "      <td>-7.437479e-01</td>\n",
       "      <td>-7.379438e-01</td>\n",
       "      <td>-7.032397e-01</td>\n",
       "      <td>-7.226392e-01</td>\n",
       "      <td>...</td>\n",
       "      <td>-6.749213e-01</td>\n",
       "      <td>-7.486293e-01</td>\n",
       "      <td>-6.895783e-01</td>\n",
       "      <td>-0.642136</td>\n",
       "      <td>-6.912304e-01</td>\n",
       "      <td>-6.810833e-01</td>\n",
       "      <td>-7.565142e-01</td>\n",
       "      <td>-7.563999e-01</td>\n",
       "      <td>-6.418637e-01</td>\n",
       "      <td>-6.919118e-01</td>\n",
       "    </tr>\n",
       "    <tr>\n",
       "      <th>50%</th>\n",
       "      <td>-2.150816e-01</td>\n",
       "      <td>-1.046362e-01</td>\n",
       "      <td>-2.359800e-01</td>\n",
       "      <td>-2.951869e-01</td>\n",
       "      <td>-3.489108e-02</td>\n",
       "      <td>-2.219405e-01</td>\n",
       "      <td>-3.422399e-01</td>\n",
       "      <td>-3.977212e-01</td>\n",
       "      <td>-7.162650e-02</td>\n",
       "      <td>-1.782793e-01</td>\n",
       "      <td>...</td>\n",
       "      <td>-2.690395e-01</td>\n",
       "      <td>-4.351564e-02</td>\n",
       "      <td>-2.859802e-01</td>\n",
       "      <td>-0.341181</td>\n",
       "      <td>-4.684277e-02</td>\n",
       "      <td>-2.695009e-01</td>\n",
       "      <td>-2.182321e-01</td>\n",
       "      <td>-2.234689e-01</td>\n",
       "      <td>-1.274095e-01</td>\n",
       "      <td>-2.164441e-01</td>\n",
       "    </tr>\n",
       "    <tr>\n",
       "      <th>75%</th>\n",
       "      <td>4.693926e-01</td>\n",
       "      <td>5.841756e-01</td>\n",
       "      <td>4.996769e-01</td>\n",
       "      <td>3.635073e-01</td>\n",
       "      <td>6.361990e-01</td>\n",
       "      <td>4.938569e-01</td>\n",
       "      <td>5.260619e-01</td>\n",
       "      <td>6.469351e-01</td>\n",
       "      <td>5.307792e-01</td>\n",
       "      <td>4.709834e-01</td>\n",
       "      <td>...</td>\n",
       "      <td>5.220158e-01</td>\n",
       "      <td>6.583411e-01</td>\n",
       "      <td>5.402790e-01</td>\n",
       "      <td>0.357589</td>\n",
       "      <td>5.975448e-01</td>\n",
       "      <td>5.396688e-01</td>\n",
       "      <td>5.311411e-01</td>\n",
       "      <td>7.125100e-01</td>\n",
       "      <td>4.501382e-01</td>\n",
       "      <td>4.507624e-01</td>\n",
       "    </tr>\n",
       "    <tr>\n",
       "      <th>max</th>\n",
       "      <td>3.971288e+00</td>\n",
       "      <td>4.651889e+00</td>\n",
       "      <td>3.976130e+00</td>\n",
       "      <td>5.250529e+00</td>\n",
       "      <td>4.770911e+00</td>\n",
       "      <td>4.568425e+00</td>\n",
       "      <td>4.243589e+00</td>\n",
       "      <td>3.927930e+00</td>\n",
       "      <td>4.484751e+00</td>\n",
       "      <td>4.910919e+00</td>\n",
       "      <td>...</td>\n",
       "      <td>4.094189e+00</td>\n",
       "      <td>3.885905e+00</td>\n",
       "      <td>4.287337e+00</td>\n",
       "      <td>5.930172</td>\n",
       "      <td>3.955374e+00</td>\n",
       "      <td>5.112877e+00</td>\n",
       "      <td>4.700669e+00</td>\n",
       "      <td>2.685877e+00</td>\n",
       "      <td>6.046041e+00</td>\n",
       "      <td>6.846856e+00</td>\n",
       "    </tr>\n",
       "  </tbody>\n",
       "</table>\n",
       "<p>8 rows × 30 columns</p>\n",
       "</div>"
      ],
      "text/plain": [
       "                 0             1             2             3             4   \\\n",
       "count  5.690000e+02  5.690000e+02  5.690000e+02  5.690000e+02  5.690000e+02   \n",
       "mean  -1.373633e-16  6.868164e-17 -1.248757e-16 -2.185325e-16 -8.366672e-16   \n",
       "std    1.000880e+00  1.000880e+00  1.000880e+00  1.000880e+00  1.000880e+00   \n",
       "min   -2.029648e+00 -2.229249e+00 -1.984504e+00 -1.454443e+00 -3.112085e+00   \n",
       "25%   -6.893853e-01 -7.259631e-01 -6.919555e-01 -6.671955e-01 -7.109628e-01   \n",
       "50%   -2.150816e-01 -1.046362e-01 -2.359800e-01 -2.951869e-01 -3.489108e-02   \n",
       "75%    4.693926e-01  5.841756e-01  4.996769e-01  3.635073e-01  6.361990e-01   \n",
       "max    3.971288e+00  4.651889e+00  3.976130e+00  5.250529e+00  4.770911e+00   \n",
       "\n",
       "                 5             6             7             8             9   \\\n",
       "count  5.690000e+02  5.690000e+02  5.690000e+02  5.690000e+02  5.690000e+02   \n",
       "mean   1.873136e-16  4.995028e-17 -4.995028e-17  1.748260e-16  4.745277e-16   \n",
       "std    1.000880e+00  1.000880e+00  1.000880e+00  1.000880e+00  1.000880e+00   \n",
       "min   -1.610136e+00 -1.114873e+00 -1.261820e+00 -2.744117e+00 -1.819865e+00   \n",
       "25%   -7.470860e-01 -7.437479e-01 -7.379438e-01 -7.032397e-01 -7.226392e-01   \n",
       "50%   -2.219405e-01 -3.422399e-01 -3.977212e-01 -7.162650e-02 -1.782793e-01   \n",
       "75%    4.938569e-01  5.260619e-01  6.469351e-01  5.307792e-01  4.709834e-01   \n",
       "max    4.568425e+00  4.243589e+00  3.927930e+00  4.484751e+00  4.910919e+00   \n",
       "\n",
       "       ...            20            21            22          23  \\\n",
       "count  ...  5.690000e+02  5.690000e+02  5.690000e+02  569.000000   \n",
       "mean   ... -8.241796e-16  1.248757e-17 -3.746271e-16    0.000000   \n",
       "std    ...  1.000880e+00  1.000880e+00  1.000880e+00    1.000880   \n",
       "min    ... -1.726901e+00 -2.223994e+00 -1.693361e+00   -1.222423   \n",
       "25%    ... -6.749213e-01 -7.486293e-01 -6.895783e-01   -0.642136   \n",
       "50%    ... -2.690395e-01 -4.351564e-02 -2.859802e-01   -0.341181   \n",
       "75%    ...  5.220158e-01  6.583411e-01  5.402790e-01    0.357589   \n",
       "max    ...  4.094189e+00  3.885905e+00  4.287337e+00    5.930172   \n",
       "\n",
       "                 24            25            26            27            28  \\\n",
       "count  5.690000e+02  5.690000e+02  5.690000e+02  5.690000e+02  5.690000e+02   \n",
       "mean  -2.372638e-16 -3.371644e-16  7.492542e-17  2.247763e-16  2.622390e-16   \n",
       "std    1.000880e+00  1.000880e+00  1.000880e+00  1.000880e+00  1.000880e+00   \n",
       "min   -2.682695e+00 -1.443878e+00 -1.305831e+00 -1.745063e+00 -2.160960e+00   \n",
       "25%   -6.912304e-01 -6.810833e-01 -7.565142e-01 -7.563999e-01 -6.418637e-01   \n",
       "50%   -4.684277e-02 -2.695009e-01 -2.182321e-01 -2.234689e-01 -1.274095e-01   \n",
       "75%    5.975448e-01  5.396688e-01  5.311411e-01  7.125100e-01  4.501382e-01   \n",
       "max    3.955374e+00  5.112877e+00  4.700669e+00  2.685877e+00  6.046041e+00   \n",
       "\n",
       "                 29  \n",
       "count  5.690000e+02  \n",
       "mean  -5.744282e-16  \n",
       "std    1.000880e+00  \n",
       "min   -1.601839e+00  \n",
       "25%   -6.919118e-01  \n",
       "50%   -2.164441e-01  \n",
       "75%    4.507624e-01  \n",
       "max    6.846856e+00  \n",
       "\n",
       "[8 rows x 30 columns]"
      ]
     },
     "execution_count": 55,
     "metadata": {},
     "output_type": "execute_result"
    }
   ],
   "source": [
    "previsores_labelencoder_esc_df.describe()"
   ]
  },
  {
   "cell_type": "markdown",
   "metadata": {
    "id": "kW700Sj9Fk1O",
    "jp-MarkdownHeadingCollapsed": true
   },
   "source": [
    "## **RESUMO PRÉ-PROCESSAMENTO**"
   ]
  },
  {
   "cell_type": "markdown",
   "metadata": {
    "id": "k-L1kFumG1pO"
   },
   "source": [
    "- **Variáveis do Conjunto de Dados:**\n",
    "\n",
    "    - **Alvo (Target):** Variável dependente que indica a presença ou ausência de doença cardíaca, com 'M' para maligno e 'B' para benigno.\n",
    "    - **Alvos com LabelEncoder:** Utiliza LabelEncoder para converter variáveis categóricas em numéricas sem alterar a escala.\n",
    "    - **Alvos com OneHotEncoder:** Aplica LabelEncoder e OneHotEncoder para criar representações binárias das categorias sem introduzir hierarquia.\n",
    "    - **Previsores:** Variáveis preditoras transformadas de categóricas para numéricas manualmente, sem normalização ou escalonamento.\n",
    "    - **Previsores com LabelEncoder:** Converte variáveis categóricas em numéricas usando LabelEncoder sem alterar a escala.\n",
    "    - **Previsores Escalonados:** Variáveis preditoras categóricas são convertidas para numéricas e escalonadas para um intervalo uniforme.\n",
    "    - **Previsores com LabelEncoder (Scaled Predictors LabelEncoder):** Usa LabelEncoder para converter variáveis categóricas em numéricas e escalonar os dados.\n",
    "\n",
    "- **Características dos Núcleos Celulares:**\n",
    "    - **Raio:** Média das distâncias do centro aos pontos do perímetro.\n",
    "    - **Textura:** Desvio padrão dos valores da escala de cinza.\n",
    "    - **Perímetro, Área, Suavidade:** Medem a forma e a textura da célula.\n",
    "    - **Compacidade:** Calculada como ...\n"
   ]
  },
  {
   "cell_type": "markdown",
   "metadata": {
    "id": "w-W634n0I_Db"
   },
   "source": [
    "## **BASE DE TREINO E TESTE**"
   ]
  },
  {
   "cell_type": "code",
   "execution_count": 57,
   "metadata": {
    "executionInfo": {
     "elapsed": 22,
     "status": "ok",
     "timestamp": 1689263490853,
     "user": {
      "displayName": "Luciano Galdino",
      "userId": "10237697037323960148"
     },
     "user_tz": 180
    },
    "id": "UmjBvEubFG72"
   },
   "outputs": [],
   "source": [
    "from sklearn.model_selection import train_test_split"
   ]
  },
  {
   "cell_type": "markdown",
   "metadata": {
    "id": "cB1szLDSyfzA"
   },
   "source": [
    "Parâmetros train_test_split:   \n",
    "- arrays: nomes dos atributos previsores e alvo.   \n",
    "- test_size: tamanho em porcentagem dos dados de teste. default é none.   \n",
    "- train_size: tamanho em porcentagem dos dados de treinamento.default é none.  \n",
    "- random_state: nomeação de um estado aleatório.   \n",
    "- shuffle: embaralhamento dos dados aleatórios. Associado com o random_state ocorre o mesmo embaralhamento sempre. Default é True.  \n",
    "- stratify: Possibilidade de dividir os dados de forma estratificada. Default é None (nesse caso é mantido a proporção, isto é, se tem 30% de zeros e 70% de 1 no dataframe, na separação em treinamento e teste se manterá essa proporção)."
   ]
  },
  {
   "cell_type": "code",
   "execution_count": 913,
   "metadata": {
    "executionInfo": {
     "elapsed": 22,
     "status": "ok",
     "timestamp": 1689263490854,
     "user": {
      "displayName": "Luciano Galdino",
      "userId": "10237697037323960148"
     },
     "user_tz": 180
    },
    "id": "JFn1OrYtF0m9"
   },
   "outputs": [],
   "source": [
    "x_treino, x_teste, y_treino, y_teste = train_test_split(previsores, alvo, test_size = 0.3, random_state = 0)"
   ]
  },
  {
   "cell_type": "code",
   "execution_count": 914,
   "metadata": {
    "colab": {
     "base_uri": "https://localhost:8080/"
    },
    "executionInfo": {
     "elapsed": 22,
     "status": "ok",
     "timestamp": 1689263490854,
     "user": {
      "displayName": "Luciano Galdino",
      "userId": "10237697037323960148"
     },
     "user_tz": 180
    },
    "id": "Xza9uNMgJFD8",
    "outputId": "d834aa82-25cf-46df-b785-190204a4ccb4"
   },
   "outputs": [
    {
     "data": {
      "text/plain": [
       "(398, 30)"
      ]
     },
     "execution_count": 914,
     "metadata": {},
     "output_type": "execute_result"
    }
   ],
   "source": [
    "x_treino.shape"
   ]
  },
  {
   "cell_type": "code",
   "execution_count": 915,
   "metadata": {
    "colab": {
     "base_uri": "https://localhost:8080/"
    },
    "executionInfo": {
     "elapsed": 21,
     "status": "ok",
     "timestamp": 1689263490854,
     "user": {
      "displayName": "Luciano Galdino",
      "userId": "10237697037323960148"
     },
     "user_tz": 180
    },
    "id": "gM74hUlEJNOZ",
    "outputId": "af39def4-474b-45b9-af79-294ab9af123e"
   },
   "outputs": [
    {
     "data": {
      "text/plain": [
       "(171, 30)"
      ]
     },
     "execution_count": 915,
     "metadata": {},
     "output_type": "execute_result"
    }
   ],
   "source": [
    "x_teste.shape"
   ]
  },
  {
   "cell_type": "code",
   "execution_count": 916,
   "metadata": {
    "colab": {
     "base_uri": "https://localhost:8080/"
    },
    "executionInfo": {
     "elapsed": 21,
     "status": "ok",
     "timestamp": 1689263490855,
     "user": {
      "displayName": "Luciano Galdino",
      "userId": "10237697037323960148"
     },
     "user_tz": 180
    },
    "id": "lGzLxpISJeWG",
    "outputId": "7975d218-6130-4d38-df1b-3c1f5724fb33"
   },
   "outputs": [
    {
     "data": {
      "text/plain": [
       "(398,)"
      ]
     },
     "execution_count": 916,
     "metadata": {},
     "output_type": "execute_result"
    }
   ],
   "source": [
    "y_treino.shape"
   ]
  },
  {
   "cell_type": "code",
   "execution_count": 911,
   "metadata": {
    "colab": {
     "base_uri": "https://localhost:8080/"
    },
    "executionInfo": {
     "elapsed": 21,
     "status": "ok",
     "timestamp": 1689263490855,
     "user": {
      "displayName": "Luciano Galdino",
      "userId": "10237697037323960148"
     },
     "user_tz": 180
    },
    "id": "ZUojufPlJnhy",
    "outputId": "210f7d9b-9627-48d2-a21d-dbdb6b330222"
   },
   "outputs": [
    {
     "data": {
      "text/plain": [
       "(171,)"
      ]
     },
     "execution_count": 911,
     "metadata": {},
     "output_type": "execute_result"
    }
   ],
   "source": [
    "y_teste.shape"
   ]
  },
  {
   "cell_type": "markdown",
   "metadata": {},
   "source": [
    "- **Alvos:**\n",
    "- **1-:** alvo\n",
    "- **2-:** alvo_labelencoder_ordinal\n",
    "- \n",
    "- **Testes:**\n",
    "- **1-** previsores\n",
    "- **2-** previsores_esc\n",
    "- **3-** previsores_labelencoder\n",
    "- **4-** previsores_labelencoder_esc"
   ]
  },
  {
   "cell_type": "markdown",
   "metadata": {
    "id": "f6u542_aEj6B",
    "jp-MarkdownHeadingCollapsed": true
   },
   "source": [
    "# **NAIVE BAYES**"
   ]
  },
  {
   "cell_type": "markdown",
   "metadata": {
    "id": "2tnCKM7kcfQl"
   },
   "source": [
    "https://scikit-learn.org/stable/modules/naive_bayes.html"
   ]
  },
  {
   "cell_type": "markdown",
   "metadata": {
    "id": "-GK8qvcgzWGQ"
   },
   "source": [
    "Treinamento do algoritmo"
   ]
  },
  {
   "cell_type": "code",
   "execution_count": 242,
   "metadata": {
    "id": "YhAnMs4TJRoa"
   },
   "outputs": [],
   "source": [
    "from sklearn.naive_bayes import GaussianNB"
   ]
  },
  {
   "cell_type": "code",
   "execution_count": 243,
   "metadata": {
    "id": "ak0_M56CJheq"
   },
   "outputs": [
    {
     "data": {
      "text/html": [
       "<style>#sk-container-id-15 {color: black;background-color: white;}#sk-container-id-15 pre{padding: 0;}#sk-container-id-15 div.sk-toggleable {background-color: white;}#sk-container-id-15 label.sk-toggleable__label {cursor: pointer;display: block;width: 100%;margin-bottom: 0;padding: 0.3em;box-sizing: border-box;text-align: center;}#sk-container-id-15 label.sk-toggleable__label-arrow:before {content: \"▸\";float: left;margin-right: 0.25em;color: #696969;}#sk-container-id-15 label.sk-toggleable__label-arrow:hover:before {color: black;}#sk-container-id-15 div.sk-estimator:hover label.sk-toggleable__label-arrow:before {color: black;}#sk-container-id-15 div.sk-toggleable__content {max-height: 0;max-width: 0;overflow: hidden;text-align: left;background-color: #f0f8ff;}#sk-container-id-15 div.sk-toggleable__content pre {margin: 0.2em;color: black;border-radius: 0.25em;background-color: #f0f8ff;}#sk-container-id-15 input.sk-toggleable__control:checked~div.sk-toggleable__content {max-height: 200px;max-width: 100%;overflow: auto;}#sk-container-id-15 input.sk-toggleable__control:checked~label.sk-toggleable__label-arrow:before {content: \"▾\";}#sk-container-id-15 div.sk-estimator input.sk-toggleable__control:checked~label.sk-toggleable__label {background-color: #d4ebff;}#sk-container-id-15 div.sk-label input.sk-toggleable__control:checked~label.sk-toggleable__label {background-color: #d4ebff;}#sk-container-id-15 input.sk-hidden--visually {border: 0;clip: rect(1px 1px 1px 1px);clip: rect(1px, 1px, 1px, 1px);height: 1px;margin: -1px;overflow: hidden;padding: 0;position: absolute;width: 1px;}#sk-container-id-15 div.sk-estimator {font-family: monospace;background-color: #f0f8ff;border: 1px dotted black;border-radius: 0.25em;box-sizing: border-box;margin-bottom: 0.5em;}#sk-container-id-15 div.sk-estimator:hover {background-color: #d4ebff;}#sk-container-id-15 div.sk-parallel-item::after {content: \"\";width: 100%;border-bottom: 1px solid gray;flex-grow: 1;}#sk-container-id-15 div.sk-label:hover label.sk-toggleable__label {background-color: #d4ebff;}#sk-container-id-15 div.sk-serial::before {content: \"\";position: absolute;border-left: 1px solid gray;box-sizing: border-box;top: 0;bottom: 0;left: 50%;z-index: 0;}#sk-container-id-15 div.sk-serial {display: flex;flex-direction: column;align-items: center;background-color: white;padding-right: 0.2em;padding-left: 0.2em;position: relative;}#sk-container-id-15 div.sk-item {position: relative;z-index: 1;}#sk-container-id-15 div.sk-parallel {display: flex;align-items: stretch;justify-content: center;background-color: white;position: relative;}#sk-container-id-15 div.sk-item::before, #sk-container-id-15 div.sk-parallel-item::before {content: \"\";position: absolute;border-left: 1px solid gray;box-sizing: border-box;top: 0;bottom: 0;left: 50%;z-index: -1;}#sk-container-id-15 div.sk-parallel-item {display: flex;flex-direction: column;z-index: 1;position: relative;background-color: white;}#sk-container-id-15 div.sk-parallel-item:first-child::after {align-self: flex-end;width: 50%;}#sk-container-id-15 div.sk-parallel-item:last-child::after {align-self: flex-start;width: 50%;}#sk-container-id-15 div.sk-parallel-item:only-child::after {width: 0;}#sk-container-id-15 div.sk-dashed-wrapped {border: 1px dashed gray;margin: 0 0.4em 0.5em 0.4em;box-sizing: border-box;padding-bottom: 0.4em;background-color: white;}#sk-container-id-15 div.sk-label label {font-family: monospace;font-weight: bold;display: inline-block;line-height: 1.2em;}#sk-container-id-15 div.sk-label-container {text-align: center;}#sk-container-id-15 div.sk-container {/* jupyter's `normalize.less` sets `[hidden] { display: none; }` but bootstrap.min.css set `[hidden] { display: none !important; }` so we also need the `!important` here to be able to override the default hidden behavior on the sphinx rendered scikit-learn.org. See: https://github.com/scikit-learn/scikit-learn/issues/21755 */display: inline-block !important;position: relative;}#sk-container-id-15 div.sk-text-repr-fallback {display: none;}</style><div id=\"sk-container-id-15\" class=\"sk-top-container\"><div class=\"sk-text-repr-fallback\"><pre>GaussianNB()</pre><b>In a Jupyter environment, please rerun this cell to show the HTML representation or trust the notebook. <br />On GitHub, the HTML representation is unable to render, please try loading this page with nbviewer.org.</b></div><div class=\"sk-container\" hidden><div class=\"sk-item\"><div class=\"sk-estimator sk-toggleable\"><input class=\"sk-toggleable__control sk-hidden--visually\" id=\"sk-estimator-id-15\" type=\"checkbox\" checked><label for=\"sk-estimator-id-15\" class=\"sk-toggleable__label sk-toggleable__label-arrow\">GaussianNB</label><div class=\"sk-toggleable__content\"><pre>GaussianNB()</pre></div></div></div></div></div>"
      ],
      "text/plain": [
       "GaussianNB()"
      ]
     },
     "execution_count": 243,
     "metadata": {},
     "output_type": "execute_result"
    }
   ],
   "source": [
    "naive = GaussianNB()\n",
    "naive.fit(x_treino, y_treino)"
   ]
  },
  {
   "cell_type": "markdown",
   "metadata": {
    "id": "neBugc1HzbL_"
   },
   "source": [
    "Avaliação do algoritmo"
   ]
  },
  {
   "cell_type": "code",
   "execution_count": 244,
   "metadata": {
    "id": "ac4kuVBsJ85p"
   },
   "outputs": [
    {
     "data": {
      "text/plain": [
       "array([1, 0, 0, 0, 0, 0, 0, 0, 0, 0, 1, 0, 0, 1, 1, 1, 0, 1, 1, 1, 1, 1,\n",
       "       0, 0, 1, 0, 0, 1, 0, 1, 0, 1, 0, 1, 0, 1, 0, 1, 0, 1, 0, 0, 1, 0,\n",
       "       1, 1, 0, 0, 0, 1, 1, 1, 1, 0, 0, 0, 0, 0, 0, 1, 1, 1, 0, 0, 1, 0,\n",
       "       1, 1, 1, 0, 0, 1, 0, 0, 1, 0, 0, 0, 0, 0, 1, 1, 1, 0, 1, 0, 0, 0,\n",
       "       1, 1, 0, 0, 0, 1, 0, 0, 1, 1, 0, 0, 0, 0, 0, 0, 1, 0, 1, 0, 0, 1,\n",
       "       0, 1, 1, 0, 0, 0, 0, 0, 0, 0, 0, 0, 1, 0, 1, 0, 0, 0, 0, 0, 1, 0,\n",
       "       0, 0, 0, 0, 0, 0, 1, 0, 0, 0, 1, 0, 0, 1, 0, 1, 0, 0, 0, 1, 1, 0,\n",
       "       0, 1, 0, 0, 0, 1, 1, 0, 0, 1, 0, 1, 1, 1, 0, 0, 0])"
      ]
     },
     "execution_count": 244,
     "metadata": {},
     "output_type": "execute_result"
    }
   ],
   "source": [
    "previsoes_naive = naive.predict(x_teste)\n",
    "previsoes_naive"
   ]
  },
  {
   "cell_type": "code",
   "execution_count": 245,
   "metadata": {
    "id": "aBPvzhRUKLoZ"
   },
   "outputs": [
    {
     "data": {
      "text/plain": [
       "array([1, 0, 0, 0, 0, 0, 0, 0, 0, 0, 0, 0, 0, 0, 0, 1, 0, 1, 1, 1, 1, 1,\n",
       "       0, 0, 1, 0, 0, 1, 0, 1, 0, 1, 0, 1, 0, 1, 0, 1, 0, 1, 1, 0, 1, 0,\n",
       "       0, 1, 0, 0, 0, 1, 1, 1, 1, 0, 0, 0, 0, 0, 0, 1, 1, 1, 0, 0, 1, 0,\n",
       "       1, 1, 1, 0, 0, 1, 0, 1, 1, 0, 0, 0, 0, 0, 1, 1, 1, 0, 1, 0, 0, 0,\n",
       "       1, 1, 0, 1, 0, 1, 0, 0, 1, 0, 0, 0, 0, 0, 0, 0, 1, 0, 1, 0, 1, 1,\n",
       "       0, 1, 1, 0, 0, 0, 0, 0, 0, 0, 0, 0, 1, 0, 1, 0, 0, 0, 0, 0, 1, 0,\n",
       "       0, 0, 0, 0, 0, 1, 1, 0, 0, 0, 1, 0, 0, 1, 0, 1, 0, 0, 0, 0, 0, 0,\n",
       "       0, 1, 0, 1, 0, 1, 1, 0, 0, 1, 0, 1, 1, 1, 0, 0, 0])"
      ]
     },
     "execution_count": 245,
     "metadata": {},
     "output_type": "execute_result"
    }
   ],
   "source": [
    "y_teste"
   ]
  },
  {
   "cell_type": "code",
   "execution_count": 246,
   "metadata": {
    "id": "OEXPFIiVKUl_"
   },
   "outputs": [],
   "source": [
    "from sklearn.metrics import accuracy_score, confusion_matrix, classification_report"
   ]
  },
  {
   "cell_type": "code",
   "execution_count": 247,
   "metadata": {
    "id": "hojdvgEgKYjg"
   },
   "outputs": [
    {
     "data": {
      "text/plain": [
       "0.9239766081871345"
      ]
     },
     "execution_count": 247,
     "metadata": {},
     "output_type": "execute_result"
    }
   ],
   "source": [
    "accuracy_score(y_teste, previsoes_naive)"
   ]
  },
  {
   "cell_type": "code",
   "execution_count": 248,
   "metadata": {
    "id": "R8rjCRA7CwLV"
   },
   "outputs": [
    {
     "name": "stdout",
     "output_type": "stream",
     "text": [
      "Acurácia: 92.40%\n"
     ]
    }
   ],
   "source": [
    "print(\"Acurácia: %.2f%%\" % (accuracy_score(y_teste, previsoes_naive) * 100.0))"
   ]
  },
  {
   "cell_type": "code",
   "execution_count": 249,
   "metadata": {
    "id": "N_xxZiTXKeG3"
   },
   "outputs": [
    {
     "data": {
      "text/plain": [
       "array([[101,   7],\n",
       "       [  6,  57]])"
      ]
     },
     "execution_count": 249,
     "metadata": {},
     "output_type": "execute_result"
    }
   ],
   "source": [
    "confusion_matrix(y_teste, previsoes_naive)"
   ]
  },
  {
   "cell_type": "code",
   "execution_count": 71,
   "metadata": {
    "id": "CZMZ_zPNKzqW"
   },
   "outputs": [
    {
     "name": "stdout",
     "output_type": "stream",
     "text": [
      "              precision    recall  f1-score   support\n",
      "\n",
      "           0       0.94      0.94      0.94       108\n",
      "           1       0.89      0.90      0.90        63\n",
      "\n",
      "    accuracy                           0.92       171\n",
      "   macro avg       0.92      0.92      0.92       171\n",
      "weighted avg       0.92      0.92      0.92       171\n",
      "\n"
     ]
    }
   ],
   "source": [
    "print(classification_report(y_teste, previsoes_naive))"
   ]
  },
  {
   "cell_type": "markdown",
   "metadata": {
    "id": "Gnte-P_e0536"
   },
   "source": [
    "**Análise dados de treino**"
   ]
  },
  {
   "cell_type": "code",
   "execution_count": 72,
   "metadata": {
    "id": "_t9CZH8qz9w-"
   },
   "outputs": [
    {
     "data": {
      "text/plain": [
       "array([0, 0, 0, 1, 0, 0, 0, 0, 0, 1, 0, 0, 0, 0, 0, 0, 0, 1, 0, 0, 1, 1,\n",
       "       0, 0, 1, 1, 0, 0, 1, 0, 0, 1, 1, 1, 0, 0, 0, 1, 0, 0, 0, 0, 0, 1,\n",
       "       0, 1, 0, 1, 0, 1, 0, 0, 0, 0, 0, 0, 1, 0, 1, 0, 0, 0, 1, 0, 0, 0,\n",
       "       1, 0, 0, 1, 1, 0, 1, 0, 1, 0, 1, 1, 1, 1, 0, 0, 0, 1, 0, 1, 0, 1,\n",
       "       0, 1, 1, 0, 0, 0, 0, 0, 0, 0, 0, 0, 0, 0, 0, 0, 1, 0, 0, 0, 1, 0,\n",
       "       0, 0, 0, 0, 0, 1, 0, 1, 0, 0, 1, 0, 1, 1, 0, 1, 1, 0, 0, 1, 0, 0,\n",
       "       0, 1, 0, 0, 0, 0, 1, 1, 1, 0, 0, 0, 0, 1, 1, 0, 0, 0, 0, 0, 0, 0,\n",
       "       1, 0, 1, 0, 0, 1, 0, 0, 0, 0, 1, 1, 0, 0, 0, 1, 0, 1, 1, 0, 0, 0,\n",
       "       1, 0, 1, 0, 0, 1, 0, 0, 1, 1, 0, 0, 0, 1, 1, 0, 0, 1, 0, 0, 0, 1,\n",
       "       0, 1, 0, 1, 1, 1, 1, 0, 0, 0, 0, 0, 1, 0, 0, 0, 0, 0, 0, 0, 0, 1,\n",
       "       0, 0, 1, 1, 1, 1, 0, 0, 1, 0, 0, 1, 1, 1, 0, 0, 0, 0, 0, 1, 1, 1,\n",
       "       0, 1, 1, 0, 0, 0, 0, 0, 0, 1, 0, 0, 0, 0, 0, 0, 1, 1, 0, 1, 0, 1,\n",
       "       0, 0, 1, 0, 0, 0, 1, 1, 1, 0, 0, 1, 1, 0, 0, 0, 0, 1, 1, 0, 0, 0,\n",
       "       0, 0, 0, 0, 0, 0, 1, 1, 0, 0, 0, 1, 0, 0, 0, 0, 1, 0, 1, 1, 1, 0,\n",
       "       1, 0, 1, 0, 1, 1, 0, 0, 0, 0, 0, 0, 0, 0, 1, 1, 1, 1, 1, 0, 0, 0,\n",
       "       0, 0, 0, 0, 1, 0, 1, 0, 0, 0, 0, 0, 1, 1, 1, 0, 1, 0, 0, 0, 1, 1,\n",
       "       1, 0, 1, 1, 1, 0, 1, 0, 1, 0, 0, 1, 0, 1, 1, 0, 0, 0, 0, 1, 0, 0,\n",
       "       1, 0, 0, 0, 1, 0, 0, 0, 0, 1, 0, 0, 1, 0, 0, 0, 0, 0, 1, 1, 1, 0,\n",
       "       0, 0])"
      ]
     },
     "execution_count": 72,
     "metadata": {},
     "output_type": "execute_result"
    }
   ],
   "source": [
    "previsoes_treino = naive.predict(x_treino)\n",
    "previsoes_treino"
   ]
  },
  {
   "cell_type": "code",
   "execution_count": 73,
   "metadata": {
    "id": "ixfPbrJB0iEE"
   },
   "outputs": [
    {
     "data": {
      "text/plain": [
       "0.9422110552763819"
      ]
     },
     "execution_count": 73,
     "metadata": {},
     "output_type": "execute_result"
    }
   ],
   "source": [
    "accuracy_score(y_treino, previsoes_treino)"
   ]
  },
  {
   "cell_type": "code",
   "execution_count": 74,
   "metadata": {
    "id": "nyTX_2Te0suq"
   },
   "outputs": [
    {
     "data": {
      "text/plain": [
       "array([[242,   7],\n",
       "       [ 16, 133]])"
      ]
     },
     "execution_count": 74,
     "metadata": {},
     "output_type": "execute_result"
    }
   ],
   "source": [
    "confusion_matrix(y_treino, previsoes_treino)"
   ]
  },
  {
   "cell_type": "markdown",
   "metadata": {
    "id": "rNsT6wAn_e1l"
   },
   "source": [
    "### **Validação Cruzada**"
   ]
  },
  {
   "cell_type": "code",
   "execution_count": 75,
   "metadata": {
    "id": "lvBuy5bm_qok"
   },
   "outputs": [],
   "source": [
    "from sklearn.model_selection import KFold\n",
    "from sklearn.model_selection import cross_val_score"
   ]
  },
  {
   "cell_type": "code",
   "execution_count": 76,
   "metadata": {
    "id": "SS_dyx4x_260"
   },
   "outputs": [],
   "source": [
    "# Separando os dados em folds\n",
    "kfold = KFold(n_splits = 30, shuffle=True, random_state = 5)"
   ]
  },
  {
   "cell_type": "code",
   "execution_count": 77,
   "metadata": {
    "id": "K0aqT7kPAf1L"
   },
   "outputs": [
    {
     "data": {
      "text/plain": [
       "array([0.89473684, 0.89473684, 1.        , 0.94736842, 1.        ,\n",
       "       0.94736842, 0.94736842, 1.        , 0.94736842, 1.        ,\n",
       "       1.        , 0.94736842, 0.94736842, 0.94736842, 0.94736842,\n",
       "       1.        , 0.84210526, 0.89473684, 1.        , 0.94736842,\n",
       "       0.89473684, 0.78947368, 0.89473684, 1.        , 0.94736842,\n",
       "       1.        , 0.94736842, 0.94736842, 0.89473684, 0.77777778])"
      ]
     },
     "execution_count": 77,
     "metadata": {},
     "output_type": "execute_result"
    }
   ],
   "source": [
    "# Criando o modelo\n",
    "modelo = GaussianNB()\n",
    "resultado = cross_val_score(modelo, previsores, alvo, cv = kfold)\n",
    "resultado"
   ]
  },
  {
   "cell_type": "code",
   "execution_count": 78,
   "metadata": {
    "id": "VmmFUeXird9B"
   },
   "outputs": [
    {
     "name": "stdout",
     "output_type": "stream",
     "text": [
      "Acurácia Média: 93.82%\n"
     ]
    }
   ],
   "source": [
    "# Usamos a média e o desvio padrão\n",
    "print(\"Acurácia Média: %.2f%%\" % (resultado.mean() * 100.0))"
   ]
  },
  {
   "cell_type": "markdown",
   "metadata": {
    "id": "tZ03xoOQNkQP"
   },
   "source": [
    "Naive Bayes = 92.40% (treino e teste) - e 93.82% (validação cruzada) - previsores, alvo\n",
    "Naive Bayes = 91.23% (treino e teste) - e 93.47% (validação cruzada) - previsores_esc, alvo\n",
    "Naive Bayes = 92.40% (treino e teste) - e 93.82% (validação cruzada) - previsores_labelencoder, alvo\n",
    "Naive Bayes = 91.23% (treino e teste) - e 93.47% (validação cruzada) - previsores_labelencoder_esc, alvo\n",
    "\n",
    "Naive Bayes = 92.40% (treino e teste) - e 93.82% (validação cruzada) - previsores, alvo_labelencoder_ordinal\n",
    "Naive Bayes = 91.23% (treino e teste) - e 93.47% (validação cruzada) - previsores_esc, alvo_labelencoder_ordinal\n",
    "Naive Bayes = 92.40% (treino e teste) - e 93.82% (validação cruzada) - previsores_labelencoder, alvo_labelencoder_ordinal\n",
    "Naive Bayes = 91.23% (treino e teste) - e 93.47% (validação cruzada) - previsores_labelencoder_esc, alvo_labelencoder_ordinal\n",
    "\n",
    "**Melhores Naive Bayes: \n",
    "Naive Bayes = 92.40% (treino e teste) - e 93.82% (validação cruzada) - previsores, alvo\n",
    "Naive Bayes = 92.40% (treino e teste) - e 93.82% (validação cruzada) - previsores_labelencoder, alvo\n",
    "Naive Bayes = 92.40% (treino e teste) - e 93.82% (validação cruzada) - previsores, alvo_labelencoder_ordinal\n",
    "Naive Bayes = 92.40% (treino e teste) - e 93.82% (validação cruzada) - previsores_labelencoder, alvo_labelencoder_ordinal**"
   ]
  },
  {
   "cell_type": "markdown",
   "metadata": {
    "id": "n1ky9LQipNn0",
    "jp-MarkdownHeadingCollapsed": true
   },
   "source": [
    "# **MÁQUINAS DE VETORES DE SUPORTE (SVM)**"
   ]
  },
  {
   "cell_type": "markdown",
   "metadata": {
    "id": "5p55FhL3b52u"
   },
   "source": [
    "https://scikit-learn.org/stable/modules/generated/sklearn.svm.SVC.html"
   ]
  },
  {
   "cell_type": "code",
   "execution_count": 79,
   "metadata": {
    "id": "oVy0EpUfpquK"
   },
   "outputs": [],
   "source": [
    "from sklearn.svm import SVC"
   ]
  },
  {
   "cell_type": "code",
   "execution_count": 80,
   "metadata": {
    "id": "P7xKKTCabAab"
   },
   "outputs": [
    {
     "data": {
      "text/html": [
       "<style>#sk-container-id-2 {color: black;background-color: white;}#sk-container-id-2 pre{padding: 0;}#sk-container-id-2 div.sk-toggleable {background-color: white;}#sk-container-id-2 label.sk-toggleable__label {cursor: pointer;display: block;width: 100%;margin-bottom: 0;padding: 0.3em;box-sizing: border-box;text-align: center;}#sk-container-id-2 label.sk-toggleable__label-arrow:before {content: \"▸\";float: left;margin-right: 0.25em;color: #696969;}#sk-container-id-2 label.sk-toggleable__label-arrow:hover:before {color: black;}#sk-container-id-2 div.sk-estimator:hover label.sk-toggleable__label-arrow:before {color: black;}#sk-container-id-2 div.sk-toggleable__content {max-height: 0;max-width: 0;overflow: hidden;text-align: left;background-color: #f0f8ff;}#sk-container-id-2 div.sk-toggleable__content pre {margin: 0.2em;color: black;border-radius: 0.25em;background-color: #f0f8ff;}#sk-container-id-2 input.sk-toggleable__control:checked~div.sk-toggleable__content {max-height: 200px;max-width: 100%;overflow: auto;}#sk-container-id-2 input.sk-toggleable__control:checked~label.sk-toggleable__label-arrow:before {content: \"▾\";}#sk-container-id-2 div.sk-estimator input.sk-toggleable__control:checked~label.sk-toggleable__label {background-color: #d4ebff;}#sk-container-id-2 div.sk-label input.sk-toggleable__control:checked~label.sk-toggleable__label {background-color: #d4ebff;}#sk-container-id-2 input.sk-hidden--visually {border: 0;clip: rect(1px 1px 1px 1px);clip: rect(1px, 1px, 1px, 1px);height: 1px;margin: -1px;overflow: hidden;padding: 0;position: absolute;width: 1px;}#sk-container-id-2 div.sk-estimator {font-family: monospace;background-color: #f0f8ff;border: 1px dotted black;border-radius: 0.25em;box-sizing: border-box;margin-bottom: 0.5em;}#sk-container-id-2 div.sk-estimator:hover {background-color: #d4ebff;}#sk-container-id-2 div.sk-parallel-item::after {content: \"\";width: 100%;border-bottom: 1px solid gray;flex-grow: 1;}#sk-container-id-2 div.sk-label:hover label.sk-toggleable__label {background-color: #d4ebff;}#sk-container-id-2 div.sk-serial::before {content: \"\";position: absolute;border-left: 1px solid gray;box-sizing: border-box;top: 0;bottom: 0;left: 50%;z-index: 0;}#sk-container-id-2 div.sk-serial {display: flex;flex-direction: column;align-items: center;background-color: white;padding-right: 0.2em;padding-left: 0.2em;position: relative;}#sk-container-id-2 div.sk-item {position: relative;z-index: 1;}#sk-container-id-2 div.sk-parallel {display: flex;align-items: stretch;justify-content: center;background-color: white;position: relative;}#sk-container-id-2 div.sk-item::before, #sk-container-id-2 div.sk-parallel-item::before {content: \"\";position: absolute;border-left: 1px solid gray;box-sizing: border-box;top: 0;bottom: 0;left: 50%;z-index: -1;}#sk-container-id-2 div.sk-parallel-item {display: flex;flex-direction: column;z-index: 1;position: relative;background-color: white;}#sk-container-id-2 div.sk-parallel-item:first-child::after {align-self: flex-end;width: 50%;}#sk-container-id-2 div.sk-parallel-item:last-child::after {align-self: flex-start;width: 50%;}#sk-container-id-2 div.sk-parallel-item:only-child::after {width: 0;}#sk-container-id-2 div.sk-dashed-wrapped {border: 1px dashed gray;margin: 0 0.4em 0.5em 0.4em;box-sizing: border-box;padding-bottom: 0.4em;background-color: white;}#sk-container-id-2 div.sk-label label {font-family: monospace;font-weight: bold;display: inline-block;line-height: 1.2em;}#sk-container-id-2 div.sk-label-container {text-align: center;}#sk-container-id-2 div.sk-container {/* jupyter's `normalize.less` sets `[hidden] { display: none; }` but bootstrap.min.css set `[hidden] { display: none !important; }` so we also need the `!important` here to be able to override the default hidden behavior on the sphinx rendered scikit-learn.org. See: https://github.com/scikit-learn/scikit-learn/issues/21755 */display: inline-block !important;position: relative;}#sk-container-id-2 div.sk-text-repr-fallback {display: none;}</style><div id=\"sk-container-id-2\" class=\"sk-top-container\"><div class=\"sk-text-repr-fallback\"><pre>SVC(C=2, random_state=1)</pre><b>In a Jupyter environment, please rerun this cell to show the HTML representation or trust the notebook. <br />On GitHub, the HTML representation is unable to render, please try loading this page with nbviewer.org.</b></div><div class=\"sk-container\" hidden><div class=\"sk-item\"><div class=\"sk-estimator sk-toggleable\"><input class=\"sk-toggleable__control sk-hidden--visually\" id=\"sk-estimator-id-2\" type=\"checkbox\" checked><label for=\"sk-estimator-id-2\" class=\"sk-toggleable__label sk-toggleable__label-arrow\">SVC</label><div class=\"sk-toggleable__content\"><pre>SVC(C=2, random_state=1)</pre></div></div></div></div></div>"
      ],
      "text/plain": [
       "SVC(C=2, random_state=1)"
      ]
     },
     "execution_count": 80,
     "metadata": {},
     "output_type": "execute_result"
    }
   ],
   "source": [
    "svm = SVC(kernel='rbf', random_state=1, C = 2)\n",
    "svm.fit(x_treino, y_treino)"
   ]
  },
  {
   "cell_type": "code",
   "execution_count": 81,
   "metadata": {
    "id": "VjKeaHKrbicN"
   },
   "outputs": [
    {
     "data": {
      "text/plain": [
       "array([0, 0, 0, 0, 0, 0, 0, 0, 0, 0, 0, 0, 0, 1, 0, 1, 0, 1, 1, 1, 1, 1,\n",
       "       0, 0, 1, 0, 0, 0, 0, 1, 0, 1, 0, 1, 0, 1, 0, 1, 0, 1, 1, 0, 1, 0,\n",
       "       0, 1, 0, 0, 0, 1, 1, 0, 1, 0, 0, 0, 0, 0, 0, 1, 0, 1, 0, 0, 1, 0,\n",
       "       1, 1, 1, 0, 0, 1, 0, 0, 1, 0, 0, 0, 0, 0, 1, 1, 1, 0, 1, 0, 0, 0,\n",
       "       1, 1, 0, 1, 0, 0, 0, 0, 1, 0, 0, 0, 0, 0, 0, 0, 1, 0, 1, 0, 1, 1,\n",
       "       0, 1, 1, 0, 0, 0, 0, 0, 0, 0, 0, 0, 0, 0, 1, 0, 0, 0, 0, 0, 1, 0,\n",
       "       0, 0, 0, 0, 0, 1, 1, 0, 0, 0, 1, 0, 0, 1, 0, 1, 0, 0, 0, 0, 0, 0,\n",
       "       0, 1, 0, 0, 0, 1, 1, 0, 0, 1, 0, 1, 1, 1, 0, 0, 0])"
      ]
     },
     "execution_count": 81,
     "metadata": {},
     "output_type": "execute_result"
    }
   ],
   "source": [
    "previsoes_svm = svm.predict(x_teste)\n",
    "previsoes_svm"
   ]
  },
  {
   "cell_type": "code",
   "execution_count": 82,
   "metadata": {
    "id": "ulL7w207qcwQ"
   },
   "outputs": [
    {
     "data": {
      "text/plain": [
       "array([1, 0, 0, 0, 0, 0, 0, 0, 0, 0, 0, 0, 0, 0, 0, 1, 0, 1, 1, 1, 1, 1,\n",
       "       0, 0, 1, 0, 0, 1, 0, 1, 0, 1, 0, 1, 0, 1, 0, 1, 0, 1, 1, 0, 1, 0,\n",
       "       0, 1, 0, 0, 0, 1, 1, 1, 1, 0, 0, 0, 0, 0, 0, 1, 1, 1, 0, 0, 1, 0,\n",
       "       1, 1, 1, 0, 0, 1, 0, 1, 1, 0, 0, 0, 0, 0, 1, 1, 1, 0, 1, 0, 0, 0,\n",
       "       1, 1, 0, 1, 0, 1, 0, 0, 1, 0, 0, 0, 0, 0, 0, 0, 1, 0, 1, 0, 1, 1,\n",
       "       0, 1, 1, 0, 0, 0, 0, 0, 0, 0, 0, 0, 1, 0, 1, 0, 0, 0, 0, 0, 1, 0,\n",
       "       0, 0, 0, 0, 0, 1, 1, 0, 0, 0, 1, 0, 0, 1, 0, 1, 0, 0, 0, 0, 0, 0,\n",
       "       0, 1, 0, 1, 0, 1, 1, 0, 0, 1, 0, 1, 1, 1, 0, 0, 0])"
      ]
     },
     "execution_count": 82,
     "metadata": {},
     "output_type": "execute_result"
    }
   ],
   "source": [
    "y_teste"
   ]
  },
  {
   "cell_type": "code",
   "execution_count": 83,
   "metadata": {
    "id": "iWdYWQQBvnVQ"
   },
   "outputs": [],
   "source": [
    "from sklearn.metrics import accuracy_score, confusion_matrix, classification_report"
   ]
  },
  {
   "cell_type": "code",
   "execution_count": 84,
   "metadata": {
    "id": "kRZ4VwD-qjW4"
   },
   "outputs": [
    {
     "name": "stdout",
     "output_type": "stream",
     "text": [
      "Acurácia: 94.74%\n"
     ]
    }
   ],
   "source": [
    "print(\"Acurácia: %.2f%%\" % (accuracy_score(y_teste, previsoes_svm) * 100.0))"
   ]
  },
  {
   "cell_type": "code",
   "execution_count": 85,
   "metadata": {
    "id": "VYeZMXUtqjW5"
   },
   "outputs": [
    {
     "data": {
      "text/plain": [
       "array([[107,   1],\n",
       "       [  8,  55]])"
      ]
     },
     "execution_count": 85,
     "metadata": {},
     "output_type": "execute_result"
    }
   ],
   "source": [
    "confusion_matrix(y_teste, previsoes_svm)"
   ]
  },
  {
   "cell_type": "code",
   "execution_count": 86,
   "metadata": {
    "id": "YPKWlAGAqjW6"
   },
   "outputs": [
    {
     "name": "stdout",
     "output_type": "stream",
     "text": [
      "              precision    recall  f1-score   support\n",
      "\n",
      "           0       0.93      0.99      0.96       108\n",
      "           1       0.98      0.87      0.92        63\n",
      "\n",
      "    accuracy                           0.95       171\n",
      "   macro avg       0.96      0.93      0.94       171\n",
      "weighted avg       0.95      0.95      0.95       171\n",
      "\n"
     ]
    }
   ],
   "source": [
    "print(classification_report(y_teste, previsoes_svm))"
   ]
  },
  {
   "cell_type": "markdown",
   "metadata": {
    "id": "GeeUpamU1u6d"
   },
   "source": [
    "**Análise dados de treino**"
   ]
  },
  {
   "cell_type": "code",
   "execution_count": 87,
   "metadata": {
    "id": "VVGJEYpC1u6d"
   },
   "outputs": [
    {
     "data": {
      "text/plain": [
       "array([0, 0, 0, 1, 0, 0, 0, 0, 1, 1, 0, 0, 1, 0, 0, 0, 0, 1, 0, 0, 1, 0,\n",
       "       0, 0, 1, 1, 0, 0, 0, 0, 0, 1, 1, 1, 0, 0, 0, 1, 0, 0, 0, 0, 0, 1,\n",
       "       0, 1, 0, 1, 0, 0, 0, 1, 0, 0, 0, 0, 1, 0, 1, 0, 0, 0, 1, 0, 0, 0,\n",
       "       0, 0, 0, 1, 1, 0, 1, 0, 0, 0, 0, 0, 1, 1, 0, 0, 0, 1, 0, 1, 0, 1,\n",
       "       0, 0, 1, 0, 0, 0, 0, 0, 0, 0, 0, 0, 0, 0, 0, 0, 1, 0, 0, 0, 0, 0,\n",
       "       0, 0, 0, 0, 0, 1, 0, 1, 0, 0, 0, 0, 0, 1, 0, 0, 1, 0, 0, 0, 0, 0,\n",
       "       0, 1, 0, 0, 0, 0, 1, 1, 1, 0, 0, 0, 0, 1, 1, 0, 0, 0, 0, 0, 0, 0,\n",
       "       1, 0, 0, 0, 0, 1, 0, 0, 0, 0, 1, 1, 0, 0, 0, 1, 0, 1, 1, 0, 0, 0,\n",
       "       0, 0, 1, 0, 0, 1, 0, 0, 1, 1, 0, 0, 0, 1, 0, 0, 0, 0, 0, 0, 0, 1,\n",
       "       0, 1, 0, 1, 1, 1, 1, 0, 0, 0, 0, 0, 1, 0, 0, 0, 0, 0, 0, 0, 0, 1,\n",
       "       0, 0, 1, 1, 1, 1, 0, 0, 1, 0, 0, 0, 1, 0, 0, 0, 0, 0, 0, 1, 1, 1,\n",
       "       0, 1, 1, 0, 0, 0, 0, 0, 0, 1, 0, 0, 0, 1, 0, 0, 0, 1, 0, 1, 0, 1,\n",
       "       1, 0, 0, 0, 0, 0, 1, 1, 1, 0, 0, 1, 1, 0, 0, 0, 0, 0, 0, 0, 0, 0,\n",
       "       0, 0, 0, 0, 0, 0, 1, 1, 0, 0, 0, 1, 0, 0, 0, 0, 1, 0, 0, 1, 1, 0,\n",
       "       1, 0, 1, 0, 1, 1, 0, 0, 0, 0, 0, 0, 0, 0, 1, 1, 1, 1, 1, 0, 0, 0,\n",
       "       0, 0, 0, 0, 1, 0, 1, 0, 0, 0, 0, 0, 1, 1, 0, 0, 1, 0, 0, 0, 1, 0,\n",
       "       1, 0, 1, 1, 1, 0, 1, 0, 1, 0, 0, 1, 0, 0, 1, 0, 0, 0, 0, 1, 0, 0,\n",
       "       1, 0, 0, 0, 1, 0, 0, 0, 0, 1, 0, 0, 1, 0, 0, 0, 0, 0, 1, 1, 0, 0,\n",
       "       0, 0])"
      ]
     },
     "execution_count": 87,
     "metadata": {},
     "output_type": "execute_result"
    }
   ],
   "source": [
    "previsoes_treino = svm.predict(x_treino)\n",
    "previsoes_treino"
   ]
  },
  {
   "cell_type": "code",
   "execution_count": 88,
   "metadata": {
    "id": "Xo-iYrMn1u6d"
   },
   "outputs": [
    {
     "data": {
      "text/plain": [
       "0.9095477386934674"
      ]
     },
     "execution_count": 88,
     "metadata": {},
     "output_type": "execute_result"
    }
   ],
   "source": [
    "accuracy_score(y_treino, previsoes_treino)"
   ]
  },
  {
   "cell_type": "code",
   "execution_count": 89,
   "metadata": {
    "id": "Z42CYXuC1u6e"
   },
   "outputs": [
    {
     "data": {
      "text/plain": [
       "array([[247,   2],\n",
       "       [ 34, 115]])"
      ]
     },
     "execution_count": 89,
     "metadata": {},
     "output_type": "execute_result"
    }
   ],
   "source": [
    "confusion_matrix(y_treino, previsoes_treino)"
   ]
  },
  {
   "cell_type": "markdown",
   "metadata": {
    "id": "xXM2zqKVH1Vi"
   },
   "source": [
    "### **Validação Cruzada**"
   ]
  },
  {
   "cell_type": "code",
   "execution_count": 90,
   "metadata": {
    "id": "tukeEaG8H1Vj"
   },
   "outputs": [],
   "source": [
    "from sklearn.model_selection import KFold\n",
    "from sklearn.model_selection import cross_val_score"
   ]
  },
  {
   "cell_type": "code",
   "execution_count": 91,
   "metadata": {
    "id": "4tYyKK_RH1Vj"
   },
   "outputs": [],
   "source": [
    "# Separando os dados em folds\n",
    "kfold = KFold(n_splits = 30, shuffle=True, random_state = 5)"
   ]
  },
  {
   "cell_type": "code",
   "execution_count": 92,
   "metadata": {
    "id": "mhD3BcOWH1Vk"
   },
   "outputs": [
    {
     "name": "stdout",
     "output_type": "stream",
     "text": [
      "Acurácia Média: 97.88%\n"
     ]
    }
   ],
   "source": [
    "# Criando o modelo\n",
    "modelo = SVC(kernel='rbf', random_state=1, C = 2)\n",
    "resultado = cross_val_score(modelo, previsores_labelencoder_esc, alvo_labelencoder_ordinal, cv = kfold)\n",
    "\n",
    "# Usamos a média e o desvio padrão\n",
    "print(\"Acurácia Média: %.2f%%\" % (resultado.mean() * 100.0))"
   ]
  },
  {
   "cell_type": "markdown",
   "metadata": {
    "id": "fT_1y1Hoqycp"
   },
   "source": [
    "SVM = 94.74% (treino e teste) - e 91.72% (validação cruzada)- SVC(kernel='rbf', random_state=1, C = 2) - previsores, alvo\n",
    "SVM = 97.66% (treino e teste) - e 97.88% (validação cruzada)- SVC(kernel='rbf', random_state=1, C = 2) - previsores_esc, alvo\n",
    "SVM = 94.74% (treino e teste) - e 91.72% (validação cruzada)- SVC(kernel='rbf', random_state=1, C = 2) - previsores_labelencoder, alvo\n",
    "SVM = 97.66% (treino e teste) - e 97.88% (validação cruzada)- SVC(kernel='rbf', random_state=1, C = 2) - previsores_labelencoder_esc, alvo\n",
    "\n",
    "SVM = 94.74% (treino e teste) - e 91.72% (validação cruzada)- SVC(kernel='rbf', random_state=1, C = 2) - previsores, alvo_labelencoder_ordinal\n",
    "SVM = 97.66% (treino e teste) - e 97.88% (validação cruzada)- SVC(kernel='rbf', random_state=1, C = 2) - previsores_esc, alvo_labelencoder_ordinal\n",
    "SVM = 94.74% (treino e teste) - e 91.72% (validação cruzada)- SVC(kernel='rbf', random_state=1, C = 2) - previsores_labelencoder, alvo_labelencoder_ordinal\n",
    "SVM = 97.66% (treino e teste) - e 97.88% (validação cruzada)- SVC(kernel='rbf', random_state=1, C = 2) - previsores_labelencoder_esc, alvo_labelencoder_ordinal\n",
    "\n",
    "**Melhores SVM:\n",
    "SVM = 97.66% (treino e teste) - e 97.88% (validação cruzada)- SVC(kernel='rbf', random_state=1, C = 2) - previsores_esc, alvo\n",
    "SVM = 97.66% (treino e teste) - e 97.88% (validação cruzada)- SVC(kernel='rbf', random_state=1, C = 2) - previsores_labelencoder_esc, alvo\n",
    "SVM = 97.66% (treino e teste) - e 97.88% (validação cruzada)- SVC(kernel='rbf', random_state=1, C = 2) - previsores_esc, alvo_labelencoder_ordinal\n",
    "SVM = 97.66% (treino e teste) - e 97.88% (validação cruzada)- SVC(kernel='rbf', random_state=1, C = 2) - previsores_labelencoder_esc, alvo_labelencoder_ordinal**"
   ]
  },
  {
   "cell_type": "markdown",
   "metadata": {
    "id": "jebC8M2jqyc9",
    "jp-MarkdownHeadingCollapsed": true
   },
   "source": [
    "# **REGRESSÃO LOGÍSTICA**"
   ]
  },
  {
   "cell_type": "markdown",
   "metadata": {
    "id": "mprvbtyNbzP3"
   },
   "source": [
    "https://scikit-learn.org/stable/modules/generated/sklearn.linear_model.LogisticRegression.html"
   ]
  },
  {
   "cell_type": "code",
   "execution_count": 270,
   "metadata": {
    "id": "NVGe2Q7ur-Nv"
   },
   "outputs": [],
   "source": [
    "from sklearn.linear_model import LogisticRegression"
   ]
  },
  {
   "cell_type": "code",
   "execution_count": 271,
   "metadata": {
    "colab": {
     "base_uri": "https://localhost:8080/"
    },
    "executionInfo": {
     "elapsed": 628,
     "status": "ok",
     "timestamp": 1662236062154,
     "user": {
      "displayName": "Luciano Galdino",
      "userId": "10237697037323960148"
     },
     "user_tz": 180
    },
    "id": "f_RnL43VV9Yc",
    "outputId": "fa9c3dd0-287f-4215-e243-4edd631f26be"
   },
   "outputs": [
    {
     "data": {
      "text/html": [
       "<style>#sk-container-id-17 {color: black;background-color: white;}#sk-container-id-17 pre{padding: 0;}#sk-container-id-17 div.sk-toggleable {background-color: white;}#sk-container-id-17 label.sk-toggleable__label {cursor: pointer;display: block;width: 100%;margin-bottom: 0;padding: 0.3em;box-sizing: border-box;text-align: center;}#sk-container-id-17 label.sk-toggleable__label-arrow:before {content: \"▸\";float: left;margin-right: 0.25em;color: #696969;}#sk-container-id-17 label.sk-toggleable__label-arrow:hover:before {color: black;}#sk-container-id-17 div.sk-estimator:hover label.sk-toggleable__label-arrow:before {color: black;}#sk-container-id-17 div.sk-toggleable__content {max-height: 0;max-width: 0;overflow: hidden;text-align: left;background-color: #f0f8ff;}#sk-container-id-17 div.sk-toggleable__content pre {margin: 0.2em;color: black;border-radius: 0.25em;background-color: #f0f8ff;}#sk-container-id-17 input.sk-toggleable__control:checked~div.sk-toggleable__content {max-height: 200px;max-width: 100%;overflow: auto;}#sk-container-id-17 input.sk-toggleable__control:checked~label.sk-toggleable__label-arrow:before {content: \"▾\";}#sk-container-id-17 div.sk-estimator input.sk-toggleable__control:checked~label.sk-toggleable__label {background-color: #d4ebff;}#sk-container-id-17 div.sk-label input.sk-toggleable__control:checked~label.sk-toggleable__label {background-color: #d4ebff;}#sk-container-id-17 input.sk-hidden--visually {border: 0;clip: rect(1px 1px 1px 1px);clip: rect(1px, 1px, 1px, 1px);height: 1px;margin: -1px;overflow: hidden;padding: 0;position: absolute;width: 1px;}#sk-container-id-17 div.sk-estimator {font-family: monospace;background-color: #f0f8ff;border: 1px dotted black;border-radius: 0.25em;box-sizing: border-box;margin-bottom: 0.5em;}#sk-container-id-17 div.sk-estimator:hover {background-color: #d4ebff;}#sk-container-id-17 div.sk-parallel-item::after {content: \"\";width: 100%;border-bottom: 1px solid gray;flex-grow: 1;}#sk-container-id-17 div.sk-label:hover label.sk-toggleable__label {background-color: #d4ebff;}#sk-container-id-17 div.sk-serial::before {content: \"\";position: absolute;border-left: 1px solid gray;box-sizing: border-box;top: 0;bottom: 0;left: 50%;z-index: 0;}#sk-container-id-17 div.sk-serial {display: flex;flex-direction: column;align-items: center;background-color: white;padding-right: 0.2em;padding-left: 0.2em;position: relative;}#sk-container-id-17 div.sk-item {position: relative;z-index: 1;}#sk-container-id-17 div.sk-parallel {display: flex;align-items: stretch;justify-content: center;background-color: white;position: relative;}#sk-container-id-17 div.sk-item::before, #sk-container-id-17 div.sk-parallel-item::before {content: \"\";position: absolute;border-left: 1px solid gray;box-sizing: border-box;top: 0;bottom: 0;left: 50%;z-index: -1;}#sk-container-id-17 div.sk-parallel-item {display: flex;flex-direction: column;z-index: 1;position: relative;background-color: white;}#sk-container-id-17 div.sk-parallel-item:first-child::after {align-self: flex-end;width: 50%;}#sk-container-id-17 div.sk-parallel-item:last-child::after {align-self: flex-start;width: 50%;}#sk-container-id-17 div.sk-parallel-item:only-child::after {width: 0;}#sk-container-id-17 div.sk-dashed-wrapped {border: 1px dashed gray;margin: 0 0.4em 0.5em 0.4em;box-sizing: border-box;padding-bottom: 0.4em;background-color: white;}#sk-container-id-17 div.sk-label label {font-family: monospace;font-weight: bold;display: inline-block;line-height: 1.2em;}#sk-container-id-17 div.sk-label-container {text-align: center;}#sk-container-id-17 div.sk-container {/* jupyter's `normalize.less` sets `[hidden] { display: none; }` but bootstrap.min.css set `[hidden] { display: none !important; }` so we also need the `!important` here to be able to override the default hidden behavior on the sphinx rendered scikit-learn.org. See: https://github.com/scikit-learn/scikit-learn/issues/21755 */display: inline-block !important;position: relative;}#sk-container-id-17 div.sk-text-repr-fallback {display: none;}</style><div id=\"sk-container-id-17\" class=\"sk-top-container\"><div class=\"sk-text-repr-fallback\"><pre>LogisticRegression(C=1, max_iter=2000, random_state=1)</pre><b>In a Jupyter environment, please rerun this cell to show the HTML representation or trust the notebook. <br />On GitHub, the HTML representation is unable to render, please try loading this page with nbviewer.org.</b></div><div class=\"sk-container\" hidden><div class=\"sk-item\"><div class=\"sk-estimator sk-toggleable\"><input class=\"sk-toggleable__control sk-hidden--visually\" id=\"sk-estimator-id-17\" type=\"checkbox\" checked><label for=\"sk-estimator-id-17\" class=\"sk-toggleable__label sk-toggleable__label-arrow\">LogisticRegression</label><div class=\"sk-toggleable__content\"><pre>LogisticRegression(C=1, max_iter=2000, random_state=1)</pre></div></div></div></div></div>"
      ],
      "text/plain": [
       "LogisticRegression(C=1, max_iter=2000, random_state=1)"
      ]
     },
     "execution_count": 271,
     "metadata": {},
     "output_type": "execute_result"
    }
   ],
   "source": [
    "logistica = LogisticRegression(random_state=1, max_iter=2000, penalty=\"l2\",\n",
    "                               tol=0.0001, C=1,solver=\"lbfgs\")\n",
    "logistica.fit(x_treino, y_treino)"
   ]
  },
  {
   "cell_type": "code",
   "execution_count": 272,
   "metadata": {
    "colab": {
     "base_uri": "https://localhost:8080/"
    },
    "executionInfo": {
     "elapsed": 282,
     "status": "ok",
     "timestamp": 1662236065181,
     "user": {
      "displayName": "Luciano Galdino",
      "userId": "10237697037323960148"
     },
     "user_tz": 180
    },
    "id": "I7EqQihmWIQG",
    "outputId": "0c1c9d48-f56f-4f9a-e99e-3c3dcf2e6601"
   },
   "outputs": [
    {
     "data": {
      "text/plain": [
       "array([-0.04258607])"
      ]
     },
     "execution_count": 272,
     "metadata": {},
     "output_type": "execute_result"
    }
   ],
   "source": [
    "logistica.intercept_"
   ]
  },
  {
   "cell_type": "code",
   "execution_count": 273,
   "metadata": {
    "colab": {
     "base_uri": "https://localhost:8080/"
    },
    "executionInfo": {
     "elapsed": 309,
     "status": "ok",
     "timestamp": 1662236068979,
     "user": {
      "displayName": "Luciano Galdino",
      "userId": "10237697037323960148"
     },
     "user_tz": 180
    },
    "id": "6BS-aVjsWK_0",
    "outputId": "f042aa40-fffb-4bca-9062-68bb65885075"
   },
   "outputs": [
    {
     "data": {
      "text/plain": [
       "array([[ 0.25965337,  0.58891309,  0.27527119,  0.35070364,  0.13501664,\n",
       "        -0.41458176,  0.67094946,  0.74096029,  0.37987661, -0.03289321,\n",
       "         1.35087219, -0.14092099,  0.90852156,  0.98001244, -0.25957915,\n",
       "        -0.92374666,  0.13448413,  0.34937963, -0.16812679, -0.91359164,\n",
       "         0.8473647 ,  0.91043792,  0.73517119,  0.84764528,  0.56888501,\n",
       "        -0.17670599,  0.82594672,  1.08228373,  0.48409262,  0.60758107]])"
      ]
     },
     "execution_count": 273,
     "metadata": {},
     "output_type": "execute_result"
    }
   ],
   "source": [
    "logistica.coef_"
   ]
  },
  {
   "cell_type": "code",
   "execution_count": 274,
   "metadata": {
    "colab": {
     "base_uri": "https://localhost:8080/"
    },
    "executionInfo": {
     "elapsed": 307,
     "status": "ok",
     "timestamp": 1662236071968,
     "user": {
      "displayName": "Luciano Galdino",
      "userId": "10237697037323960148"
     },
     "user_tz": 180
    },
    "id": "zKlba1wBWX1O",
    "outputId": "49cf910a-1502-48ed-9eed-8a9c6351ff73"
   },
   "outputs": [
    {
     "data": {
      "text/plain": [
       "array([1, 0, 0, 0, 0, 0, 0, 0, 0, 0, 0, 0, 0, 0, 0, 1, 0, 1, 1, 1, 1, 1,\n",
       "       0, 0, 1, 0, 0, 1, 0, 1, 0, 1, 0, 1, 0, 1, 0, 1, 0, 1, 1, 0, 1, 0,\n",
       "       0, 1, 0, 0, 0, 1, 1, 1, 1, 0, 0, 0, 0, 0, 0, 1, 1, 1, 0, 0, 1, 0,\n",
       "       1, 1, 1, 0, 0, 1, 0, 1, 1, 0, 0, 0, 0, 0, 1, 1, 1, 0, 1, 0, 0, 0,\n",
       "       1, 1, 0, 1, 1, 1, 0, 0, 1, 0, 0, 0, 0, 0, 0, 0, 1, 0, 1, 0, 0, 0,\n",
       "       0, 1, 1, 0, 0, 0, 0, 0, 0, 0, 0, 0, 0, 0, 1, 0, 0, 0, 0, 0, 1, 0,\n",
       "       0, 0, 0, 0, 0, 1, 1, 0, 0, 0, 1, 0, 0, 1, 0, 1, 0, 0, 0, 0, 0, 0,\n",
       "       0, 1, 0, 1, 0, 1, 1, 0, 0, 1, 0, 1, 1, 1, 0, 0, 0])"
      ]
     },
     "execution_count": 274,
     "metadata": {},
     "output_type": "execute_result"
    }
   ],
   "source": [
    "previsoes_logistica = logistica.predict(x_teste)\n",
    "previsoes_logistica"
   ]
  },
  {
   "cell_type": "code",
   "execution_count": 275,
   "metadata": {
    "id": "PbF05awQvhzK"
   },
   "outputs": [],
   "source": [
    "from sklearn.metrics import accuracy_score, confusion_matrix, classification_report"
   ]
  },
  {
   "cell_type": "code",
   "execution_count": 276,
   "metadata": {
    "colab": {
     "base_uri": "https://localhost:8080/"
    },
    "executionInfo": {
     "elapsed": 232,
     "status": "ok",
     "timestamp": 1656717163654,
     "user": {
      "displayName": "Luciano Galdino",
      "userId": "10237697037323960148"
     },
     "user_tz": 180
    },
    "id": "72UCRQBdt2Iy",
    "outputId": "e955d976-1e4a-435d-ba53-44326b5f3bb9"
   },
   "outputs": [
    {
     "name": "stdout",
     "output_type": "stream",
     "text": [
      "Acurácia: 97.66%\n"
     ]
    }
   ],
   "source": [
    "print(\"Acurácia: %.2f%%\" % (accuracy_score(y_teste, previsoes_logistica) * 100.0))"
   ]
  },
  {
   "cell_type": "code",
   "execution_count": 277,
   "metadata": {
    "colab": {
     "base_uri": "https://localhost:8080/"
    },
    "executionInfo": {
     "elapsed": 241,
     "status": "ok",
     "timestamp": 1656717166777,
     "user": {
      "displayName": "Luciano Galdino",
      "userId": "10237697037323960148"
     },
     "user_tz": 180
    },
    "id": "g2FaBeYDt2Iz",
    "outputId": "26ab729b-750f-438a-abaa-af0989542dd3"
   },
   "outputs": [
    {
     "data": {
      "text/plain": [
       "array([[107,   1],\n",
       "       [  3,  60]])"
      ]
     },
     "execution_count": 277,
     "metadata": {},
     "output_type": "execute_result"
    }
   ],
   "source": [
    "confusion_matrix(y_teste, previsoes_logistica)"
   ]
  },
  {
   "cell_type": "code",
   "execution_count": 278,
   "metadata": {
    "colab": {
     "base_uri": "https://localhost:8080/"
    },
    "executionInfo": {
     "elapsed": 281,
     "status": "ok",
     "timestamp": 1656717169268,
     "user": {
      "displayName": "Luciano Galdino",
      "userId": "10237697037323960148"
     },
     "user_tz": 180
    },
    "id": "MAgJo5b5t2I0",
    "outputId": "9dc145c3-278a-4809-d694-cb3761225c9b"
   },
   "outputs": [
    {
     "name": "stdout",
     "output_type": "stream",
     "text": [
      "              precision    recall  f1-score   support\n",
      "\n",
      "           0       0.97      0.99      0.98       108\n",
      "           1       0.98      0.95      0.97        63\n",
      "\n",
      "    accuracy                           0.98       171\n",
      "   macro avg       0.98      0.97      0.97       171\n",
      "weighted avg       0.98      0.98      0.98       171\n",
      "\n"
     ]
    }
   ],
   "source": [
    "print(classification_report(y_teste, previsoes_logistica))"
   ]
  },
  {
   "cell_type": "markdown",
   "metadata": {
    "id": "6LpYZvhb17ms"
   },
   "source": [
    "**Análise dados de treino**"
   ]
  },
  {
   "cell_type": "code",
   "execution_count": 279,
   "metadata": {
    "colab": {
     "base_uri": "https://localhost:8080/"
    },
    "executionInfo": {
     "elapsed": 289,
     "status": "ok",
     "timestamp": 1656717184635,
     "user": {
      "displayName": "Luciano Galdino",
      "userId": "10237697037323960148"
     },
     "user_tz": 180
    },
    "id": "9Mup9Cn817mt",
    "outputId": "12e3cba9-9e60-46dd-a0f9-1db06b958b6b"
   },
   "outputs": [
    {
     "data": {
      "text/plain": [
       "array([0, 0, 0, 1, 0, 0, 0, 0, 1, 1, 0, 0, 1, 0, 0, 0, 0, 1, 0, 0, 1, 1,\n",
       "       0, 0, 1, 1, 0, 0, 1, 0, 0, 1, 1, 1, 0, 0, 0, 1, 0, 0, 0, 0, 0, 1,\n",
       "       0, 1, 0, 1, 0, 1, 0, 1, 0, 0, 0, 0, 1, 0, 1, 0, 0, 0, 1, 0, 0, 0,\n",
       "       1, 0, 0, 1, 1, 0, 1, 0, 1, 0, 1, 1, 1, 1, 0, 0, 0, 1, 0, 1, 0, 1,\n",
       "       0, 0, 1, 0, 0, 0, 0, 0, 0, 0, 0, 0, 0, 0, 0, 0, 1, 0, 0, 0, 1, 0,\n",
       "       0, 0, 0, 0, 0, 1, 0, 1, 0, 0, 1, 0, 1, 1, 0, 1, 1, 0, 0, 1, 0, 0,\n",
       "       0, 1, 0, 0, 0, 0, 0, 1, 1, 0, 0, 0, 0, 1, 1, 0, 0, 0, 0, 1, 0, 0,\n",
       "       1, 0, 0, 1, 0, 1, 0, 0, 0, 0, 1, 1, 0, 0, 0, 1, 0, 1, 1, 0, 0, 0,\n",
       "       0, 0, 1, 0, 0, 1, 0, 0, 1, 1, 0, 0, 0, 1, 1, 0, 0, 1, 0, 0, 0, 1,\n",
       "       0, 1, 0, 1, 1, 1, 1, 0, 0, 0, 0, 0, 1, 0, 0, 0, 0, 0, 1, 0, 0, 1,\n",
       "       0, 0, 1, 1, 1, 1, 0, 0, 1, 0, 0, 0, 1, 1, 0, 0, 0, 0, 0, 1, 1, 1,\n",
       "       0, 1, 1, 0, 0, 0, 0, 0, 0, 1, 0, 0, 0, 0, 0, 0, 1, 1, 0, 1, 0, 1,\n",
       "       1, 0, 0, 0, 0, 0, 1, 1, 1, 0, 0, 1, 1, 0, 0, 1, 0, 1, 1, 0, 1, 0,\n",
       "       0, 0, 0, 0, 0, 0, 1, 1, 0, 0, 0, 1, 0, 0, 0, 0, 1, 0, 1, 1, 1, 0,\n",
       "       1, 0, 1, 0, 1, 1, 0, 0, 0, 0, 0, 0, 0, 0, 1, 1, 1, 1, 1, 0, 0, 0,\n",
       "       0, 0, 0, 0, 1, 0, 1, 0, 0, 0, 0, 0, 1, 1, 1, 0, 1, 0, 0, 1, 1, 1,\n",
       "       1, 0, 1, 1, 1, 0, 1, 0, 1, 0, 0, 1, 1, 0, 1, 0, 0, 0, 0, 1, 0, 0,\n",
       "       1, 0, 0, 0, 1, 1, 0, 0, 0, 1, 0, 0, 1, 0, 0, 0, 0, 0, 1, 1, 1, 0,\n",
       "       0, 0])"
      ]
     },
     "execution_count": 279,
     "metadata": {},
     "output_type": "execute_result"
    }
   ],
   "source": [
    "previsoes_treino = logistica.predict(x_treino)\n",
    "previsoes_treino"
   ]
  },
  {
   "cell_type": "code",
   "execution_count": 280,
   "metadata": {
    "colab": {
     "base_uri": "https://localhost:8080/"
    },
    "executionInfo": {
     "elapsed": 6,
     "status": "ok",
     "timestamp": 1656717189834,
     "user": {
      "displayName": "Luciano Galdino",
      "userId": "10237697037323960148"
     },
     "user_tz": 180
    },
    "id": "T4imJ5_w17mt",
    "outputId": "747b9401-f58f-4d55-a62d-23b7c1a0e30d"
   },
   "outputs": [
    {
     "data": {
      "text/plain": [
       "0.9899497487437185"
      ]
     },
     "execution_count": 280,
     "metadata": {},
     "output_type": "execute_result"
    }
   ],
   "source": [
    "accuracy_score(y_treino, previsoes_treino)"
   ]
  },
  {
   "cell_type": "code",
   "execution_count": 281,
   "metadata": {
    "colab": {
     "base_uri": "https://localhost:8080/"
    },
    "executionInfo": {
     "elapsed": 249,
     "status": "ok",
     "timestamp": 1656717191756,
     "user": {
      "displayName": "Luciano Galdino",
      "userId": "10237697037323960148"
     },
     "user_tz": 180
    },
    "id": "2Ms9dnHk17mu",
    "outputId": "372457f9-74dd-4ab4-f8aa-3bce4f8a7e33"
   },
   "outputs": [
    {
     "data": {
      "text/plain": [
       "array([[249,   0],\n",
       "       [  4, 145]])"
      ]
     },
     "execution_count": 281,
     "metadata": {},
     "output_type": "execute_result"
    }
   ],
   "source": [
    "confusion_matrix(y_treino, previsoes_treino)"
   ]
  },
  {
   "cell_type": "markdown",
   "metadata": {
    "id": "rGdamAVpJfJ5"
   },
   "source": [
    "### **Validação Cruzada**"
   ]
  },
  {
   "cell_type": "code",
   "execution_count": 282,
   "metadata": {
    "id": "IcNfFmq9JfJ6"
   },
   "outputs": [],
   "source": [
    "from sklearn.model_selection import KFold\n",
    "from sklearn.model_selection import cross_val_score"
   ]
  },
  {
   "cell_type": "code",
   "execution_count": 283,
   "metadata": {
    "id": "srKfNrUoJfJ6"
   },
   "outputs": [],
   "source": [
    "# Separando os dados em folds\n",
    "kfold = KFold(n_splits = 30, shuffle=True, random_state = 5)"
   ]
  },
  {
   "cell_type": "code",
   "execution_count": 284,
   "metadata": {
    "colab": {
     "base_uri": "https://localhost:8080/"
    },
    "executionInfo": {
     "elapsed": 1730,
     "status": "ok",
     "timestamp": 1656717612565,
     "user": {
      "displayName": "Luciano Galdino",
      "userId": "10237697037323960148"
     },
     "user_tz": 180
    },
    "id": "eHZjsD-RJfJ7",
    "outputId": "0781aa6d-9de4-44ea-b396-cababc31be7a"
   },
   "outputs": [
    {
     "name": "stdout",
     "output_type": "stream",
     "text": [
      "Acurácia Média: 98.06%\n"
     ]
    }
   ],
   "source": [
    "# Criando o modelo\n",
    "modelo = LogisticRegression(random_state=1, max_iter=2000, penalty=\"l2\",\n",
    "                               tol=0.0001, C=1,solver=\"lbfgs\")\n",
    "resultado = cross_val_score(modelo, previsores_labelencoder_esc, alvo_labelencoder_ordinal, cv = kfold)\n",
    "\n",
    "# Usamos a média e o desvio padrão\n",
    "print(\"Acurácia Média: %.2f%%\" % (resultado.mean() * 100.0))"
   ]
  },
  {
   "cell_type": "markdown",
   "metadata": {
    "id": "KmKIO-uUv31v"
   },
   "source": [
    "Regressão logística = 95.91% (treino e teste) - e 98.06% (validação cruzada com previsores_esc) - LogisticRegression(random_state=1, max_iter=2000, penalty=\"l2\", tol=0.0001, C=1,solver=\"lbfgs\") - previsores, alvo\n",
    "Regressão logística = 97.66% (treino e teste) - e 98.06%% (validação cruzada com previsores_esc) - LogisticRegression(random_state=1, max_iter=2000, penalty=\"l2\", tol=0.0001, C=1,solver=\"lbfgs\") - previsores_esc, alvo\n",
    "SRegressão logística = 95.91% (treino e teste) - e 98.06% (validação cruzada com previsores_esc) - LogisticRegression(random_state=1, max_iter=2000, penalty=\"l2\", tol=0.0001, C=1,solver=\"lbfgs\") - previsores_labelencoder, alvo\n",
    "Regressão logística = 97.66% (treino e teste) - e 98.06% (validação cruzada com previsores_esc) - LogisticRegression(random_state=1, max_iter=2000, penalty=\"l2\", tol=0.0001, C=1,solver=\"lbfgs\") - previsores_labelencoder_esc, alvo\n",
    "\n",
    "Regressão logística = 95.91% (treino e teste) - e 98.06% (validação cruzada com previsores_labelencoder_esc) - LogisticRegression(random_state=1, max_iter=2000, penalty=\"l2\", tol=0.0001, C=1,solver=\"lbfgs\") - previsores, alvo_labelencoder_ordinal\n",
    "Regressão logística = 97.66% (treino e teste) - e 98.06% (validação cruzada com previsores_labelencoder_esc) - LogisticRegression(random_state=1, max_iter=2000, penalty=\"l2\", tol=0.0001, C=1,solver=\"lbfgs\") - previsores_esc, alvo_labelencoder_ordinal\n",
    "Regressão logística = 97.66% (treino e teste) - e 98.06% (validação cruzada cruzada com previsores_labelencoder_esc) - LogisticRegression(random_state=1, max_iter=2000, penalty=\"l2\", tol=0.0001, C=1,solver=\"lbfgs\") - previsores_labelencoder, alvo_labelencoder_ordinal\n",
    "Regressão logística = 97.66% (treino e teste) - e 98.06% (validação cruzada cruzada com previsores_labelencoder_esc) - LogisticRegression(random_state=1, max_iter=600, penalty=\"l2\", tol=0.0001, C=1,solver=\"lbfgs\") - previsores_labelencoder_esc, alvo_labelencoder_ordinal\n",
    "\n",
    "**Melhores Regressão Logística:\n",
    "Regressão logística = 97.66% (treino e teste) - e 98.06%% (validação cruzada com previsores_esc) - LogisticRegression(random_state=1, max_iter=2000, penalty=\"l2\", tol=0.0001, C=1,solver=\"lbfgs\") - previsores_esc, alvo\n",
    "Regressão logística = 97.66% (treino e teste) - e 98.06% (validação cruzada com previsores_esc) - LogisticRegression(random_state=1, max_iter=2000, penalty=\"l2\", tol=0.0001, C=1,solver=\"lbfgs\") - previsores_labelencoder_esc, alvo\n",
    "Regressão logística = 97.66% (treino e teste) - e 98.06% (validação cruzada com previsores_labelencoder_esc) - LogisticRegression(random_state=1, max_iter=2000, penalty=\"l2\", tol=0.0001, C=1,solver=\"lbfgs\") - previsores_esc, alvo_labelencoder_ordinal\n",
    "Regressão logística = 97.66% (treino e teste) - e 98.06% (validação cruzada cruzada com previsores_labelencoder_esc) - LogisticRegression(random_state=1, max_iter=600, penalty=\"l2\", tol=0.0001, C=1,solver=\"lbfgs\") - previsores_labelencoder_esc, alvo_labelencoder_ordinal**"
   ]
  },
  {
   "cell_type": "markdown",
   "metadata": {
    "id": "GETCbQj7v32B",
    "jp-MarkdownHeadingCollapsed": true
   },
   "source": [
    "# **APRENDIZAGEM BASEADA EM INSTÂNCIAS (KNN)**"
   ]
  },
  {
   "cell_type": "markdown",
   "metadata": {
    "id": "AXOVpUsGbnlK"
   },
   "source": [
    "https://scikit-learn.org/stable/modules/generated/sklearn.neighbors.KNeighborsClassifier.html"
   ]
  },
  {
   "cell_type": "code",
   "execution_count": 408,
   "metadata": {
    "id": "u3_VSVAFwo8H"
   },
   "outputs": [],
   "source": [
    "from sklearn.neighbors import KNeighborsClassifier"
   ]
  },
  {
   "cell_type": "code",
   "execution_count": 409,
   "metadata": {
    "id": "xkC1VdFmXvcz"
   },
   "outputs": [
    {
     "data": {
      "text/html": [
       "<style>#sk-container-id-24 {color: black;background-color: white;}#sk-container-id-24 pre{padding: 0;}#sk-container-id-24 div.sk-toggleable {background-color: white;}#sk-container-id-24 label.sk-toggleable__label {cursor: pointer;display: block;width: 100%;margin-bottom: 0;padding: 0.3em;box-sizing: border-box;text-align: center;}#sk-container-id-24 label.sk-toggleable__label-arrow:before {content: \"▸\";float: left;margin-right: 0.25em;color: #696969;}#sk-container-id-24 label.sk-toggleable__label-arrow:hover:before {color: black;}#sk-container-id-24 div.sk-estimator:hover label.sk-toggleable__label-arrow:before {color: black;}#sk-container-id-24 div.sk-toggleable__content {max-height: 0;max-width: 0;overflow: hidden;text-align: left;background-color: #f0f8ff;}#sk-container-id-24 div.sk-toggleable__content pre {margin: 0.2em;color: black;border-radius: 0.25em;background-color: #f0f8ff;}#sk-container-id-24 input.sk-toggleable__control:checked~div.sk-toggleable__content {max-height: 200px;max-width: 100%;overflow: auto;}#sk-container-id-24 input.sk-toggleable__control:checked~label.sk-toggleable__label-arrow:before {content: \"▾\";}#sk-container-id-24 div.sk-estimator input.sk-toggleable__control:checked~label.sk-toggleable__label {background-color: #d4ebff;}#sk-container-id-24 div.sk-label input.sk-toggleable__control:checked~label.sk-toggleable__label {background-color: #d4ebff;}#sk-container-id-24 input.sk-hidden--visually {border: 0;clip: rect(1px 1px 1px 1px);clip: rect(1px, 1px, 1px, 1px);height: 1px;margin: -1px;overflow: hidden;padding: 0;position: absolute;width: 1px;}#sk-container-id-24 div.sk-estimator {font-family: monospace;background-color: #f0f8ff;border: 1px dotted black;border-radius: 0.25em;box-sizing: border-box;margin-bottom: 0.5em;}#sk-container-id-24 div.sk-estimator:hover {background-color: #d4ebff;}#sk-container-id-24 div.sk-parallel-item::after {content: \"\";width: 100%;border-bottom: 1px solid gray;flex-grow: 1;}#sk-container-id-24 div.sk-label:hover label.sk-toggleable__label {background-color: #d4ebff;}#sk-container-id-24 div.sk-serial::before {content: \"\";position: absolute;border-left: 1px solid gray;box-sizing: border-box;top: 0;bottom: 0;left: 50%;z-index: 0;}#sk-container-id-24 div.sk-serial {display: flex;flex-direction: column;align-items: center;background-color: white;padding-right: 0.2em;padding-left: 0.2em;position: relative;}#sk-container-id-24 div.sk-item {position: relative;z-index: 1;}#sk-container-id-24 div.sk-parallel {display: flex;align-items: stretch;justify-content: center;background-color: white;position: relative;}#sk-container-id-24 div.sk-item::before, #sk-container-id-24 div.sk-parallel-item::before {content: \"\";position: absolute;border-left: 1px solid gray;box-sizing: border-box;top: 0;bottom: 0;left: 50%;z-index: -1;}#sk-container-id-24 div.sk-parallel-item {display: flex;flex-direction: column;z-index: 1;position: relative;background-color: white;}#sk-container-id-24 div.sk-parallel-item:first-child::after {align-self: flex-end;width: 50%;}#sk-container-id-24 div.sk-parallel-item:last-child::after {align-self: flex-start;width: 50%;}#sk-container-id-24 div.sk-parallel-item:only-child::after {width: 0;}#sk-container-id-24 div.sk-dashed-wrapped {border: 1px dashed gray;margin: 0 0.4em 0.5em 0.4em;box-sizing: border-box;padding-bottom: 0.4em;background-color: white;}#sk-container-id-24 div.sk-label label {font-family: monospace;font-weight: bold;display: inline-block;line-height: 1.2em;}#sk-container-id-24 div.sk-label-container {text-align: center;}#sk-container-id-24 div.sk-container {/* jupyter's `normalize.less` sets `[hidden] { display: none; }` but bootstrap.min.css set `[hidden] { display: none !important; }` so we also need the `!important` here to be able to override the default hidden behavior on the sphinx rendered scikit-learn.org. See: https://github.com/scikit-learn/scikit-learn/issues/21755 */display: inline-block !important;position: relative;}#sk-container-id-24 div.sk-text-repr-fallback {display: none;}</style><div id=\"sk-container-id-24\" class=\"sk-top-container\"><div class=\"sk-text-repr-fallback\"><pre>KNeighborsClassifier(n_neighbors=7, p=1)</pre><b>In a Jupyter environment, please rerun this cell to show the HTML representation or trust the notebook. <br />On GitHub, the HTML representation is unable to render, please try loading this page with nbviewer.org.</b></div><div class=\"sk-container\" hidden><div class=\"sk-item\"><div class=\"sk-estimator sk-toggleable\"><input class=\"sk-toggleable__control sk-hidden--visually\" id=\"sk-estimator-id-24\" type=\"checkbox\" checked><label for=\"sk-estimator-id-24\" class=\"sk-toggleable__label sk-toggleable__label-arrow\">KNeighborsClassifier</label><div class=\"sk-toggleable__content\"><pre>KNeighborsClassifier(n_neighbors=7, p=1)</pre></div></div></div></div></div>"
      ],
      "text/plain": [
       "KNeighborsClassifier(n_neighbors=7, p=1)"
      ]
     },
     "execution_count": 409,
     "metadata": {},
     "output_type": "execute_result"
    }
   ],
   "source": [
    "knn = KNeighborsClassifier(n_neighbors=7, metric='minkowski', p=1)\n",
    "knn.fit(x_treino, y_treino)"
   ]
  },
  {
   "cell_type": "markdown",
   "metadata": {
    "id": "CJB-tW-g2P4_"
   },
   "source": [
    "https://scikit-learn.org/stable/modules/generated/sklearn.metrics.DistanceMetric.html"
   ]
  },
  {
   "cell_type": "code",
   "execution_count": 410,
   "metadata": {
    "id": "sSCtq6WKYlFx"
   },
   "outputs": [
    {
     "data": {
      "text/plain": [
       "array([1, 0, 0, 0, 0, 0, 0, 0, 0, 0, 0, 0, 0, 1, 0, 1, 0, 1, 1, 1, 1, 1,\n",
       "       0, 0, 1, 0, 0, 0, 0, 1, 0, 1, 0, 1, 0, 1, 0, 1, 0, 1, 1, 0, 1, 0,\n",
       "       1, 1, 0, 0, 0, 1, 1, 0, 1, 0, 0, 0, 0, 0, 0, 1, 1, 1, 0, 0, 1, 0,\n",
       "       1, 1, 1, 0, 0, 1, 0, 0, 1, 0, 0, 0, 0, 0, 1, 1, 1, 0, 1, 0, 0, 0,\n",
       "       1, 1, 0, 1, 0, 1, 0, 0, 1, 0, 0, 0, 0, 0, 0, 0, 1, 0, 1, 0, 1, 1,\n",
       "       0, 1, 1, 0, 0, 0, 0, 0, 0, 0, 0, 0, 0, 0, 1, 0, 0, 0, 0, 0, 1, 0,\n",
       "       0, 0, 0, 0, 0, 1, 1, 0, 0, 0, 1, 0, 0, 1, 0, 1, 0, 0, 0, 0, 0, 0,\n",
       "       0, 1, 0, 1, 0, 1, 1, 0, 0, 1, 0, 1, 1, 1, 0, 0, 0])"
      ]
     },
     "execution_count": 410,
     "metadata": {},
     "output_type": "execute_result"
    }
   ],
   "source": [
    "previsoes_knn = knn.predict(x_teste)\n",
    "previsoes_knn"
   ]
  },
  {
   "cell_type": "code",
   "execution_count": 411,
   "metadata": {
    "id": "oG0I-trLxQ50"
   },
   "outputs": [
    {
     "data": {
      "text/plain": [
       "array([1, 0, 0, 0, 0, 0, 0, 0, 0, 0, 0, 0, 0, 0, 0, 1, 0, 1, 1, 1, 1, 1,\n",
       "       0, 0, 1, 0, 0, 1, 0, 1, 0, 1, 0, 1, 0, 1, 0, 1, 0, 1, 1, 0, 1, 0,\n",
       "       0, 1, 0, 0, 0, 1, 1, 1, 1, 0, 0, 0, 0, 0, 0, 1, 1, 1, 0, 0, 1, 0,\n",
       "       1, 1, 1, 0, 0, 1, 0, 1, 1, 0, 0, 0, 0, 0, 1, 1, 1, 0, 1, 0, 0, 0,\n",
       "       1, 1, 0, 1, 0, 1, 0, 0, 1, 0, 0, 0, 0, 0, 0, 0, 1, 0, 1, 0, 1, 1,\n",
       "       0, 1, 1, 0, 0, 0, 0, 0, 0, 0, 0, 0, 1, 0, 1, 0, 0, 0, 0, 0, 1, 0,\n",
       "       0, 0, 0, 0, 0, 1, 1, 0, 0, 0, 1, 0, 0, 1, 0, 1, 0, 0, 0, 0, 0, 0,\n",
       "       0, 1, 0, 1, 0, 1, 1, 0, 0, 1, 0, 1, 1, 1, 0, 0, 0])"
      ]
     },
     "execution_count": 411,
     "metadata": {},
     "output_type": "execute_result"
    }
   ],
   "source": [
    "y_teste"
   ]
  },
  {
   "cell_type": "code",
   "execution_count": 412,
   "metadata": {
    "id": "aQYth6LjxOSG"
   },
   "outputs": [],
   "source": [
    "from sklearn.metrics import accuracy_score, confusion_matrix, classification_report"
   ]
  },
  {
   "cell_type": "code",
   "execution_count": 413,
   "metadata": {
    "id": "OWDZlThoxOSI"
   },
   "outputs": [
    {
     "name": "stdout",
     "output_type": "stream",
     "text": [
      "Acurácia: 96.49%\n"
     ]
    }
   ],
   "source": [
    "print(\"Acurácia: %.2f%%\" % (accuracy_score(y_teste, previsoes_knn) * 100.0))"
   ]
  },
  {
   "cell_type": "code",
   "execution_count": 414,
   "metadata": {
    "id": "-IGoTCdmxOSJ"
   },
   "outputs": [
    {
     "data": {
      "text/plain": [
       "array([[106,   2],\n",
       "       [  4,  59]])"
      ]
     },
     "execution_count": 414,
     "metadata": {},
     "output_type": "execute_result"
    }
   ],
   "source": [
    "confusion_matrix(y_teste, previsoes_knn)"
   ]
  },
  {
   "cell_type": "code",
   "execution_count": 415,
   "metadata": {
    "id": "5V-bhRMvxOSJ"
   },
   "outputs": [
    {
     "name": "stdout",
     "output_type": "stream",
     "text": [
      "              precision    recall  f1-score   support\n",
      "\n",
      "           0       0.96      0.98      0.97       108\n",
      "           1       0.97      0.94      0.95        63\n",
      "\n",
      "    accuracy                           0.96       171\n",
      "   macro avg       0.97      0.96      0.96       171\n",
      "weighted avg       0.96      0.96      0.96       171\n",
      "\n"
     ]
    }
   ],
   "source": [
    "print(classification_report(y_teste, previsoes_knn))"
   ]
  },
  {
   "cell_type": "markdown",
   "metadata": {
    "id": "qEF7YW-Y2KT9"
   },
   "source": [
    "**Análise dados de treino**"
   ]
  },
  {
   "cell_type": "code",
   "execution_count": 416,
   "metadata": {
    "id": "gmZgnjMe2KT-"
   },
   "outputs": [
    {
     "data": {
      "text/plain": [
       "array([0, 0, 0, 1, 0, 0, 0, 0, 1, 1, 0, 0, 1, 0, 0, 0, 0, 1, 0, 0, 1, 1,\n",
       "       0, 0, 1, 1, 0, 0, 0, 0, 0, 1, 1, 1, 0, 0, 0, 1, 0, 0, 0, 0, 0, 1,\n",
       "       0, 1, 0, 1, 0, 1, 0, 1, 0, 0, 0, 0, 1, 0, 1, 0, 0, 0, 1, 0, 0, 0,\n",
       "       0, 0, 1, 1, 1, 0, 1, 0, 0, 0, 1, 1, 1, 1, 0, 0, 0, 1, 0, 1, 0, 1,\n",
       "       0, 0, 1, 0, 0, 0, 0, 0, 0, 0, 0, 0, 0, 0, 0, 0, 1, 0, 0, 0, 1, 0,\n",
       "       0, 1, 0, 0, 0, 1, 0, 1, 0, 0, 1, 0, 1, 1, 0, 1, 1, 0, 1, 0, 0, 0,\n",
       "       0, 1, 0, 0, 0, 0, 1, 1, 1, 0, 0, 0, 0, 1, 1, 0, 0, 0, 0, 1, 0, 1,\n",
       "       1, 0, 0, 1, 0, 1, 0, 0, 0, 0, 1, 1, 0, 1, 0, 1, 0, 1, 1, 0, 0, 0,\n",
       "       0, 0, 1, 0, 0, 1, 0, 0, 1, 1, 0, 0, 0, 1, 0, 0, 0, 1, 0, 0, 0, 1,\n",
       "       0, 1, 0, 1, 1, 1, 1, 0, 0, 0, 0, 1, 1, 0, 0, 0, 0, 0, 1, 0, 0, 1,\n",
       "       0, 0, 1, 1, 1, 1, 0, 0, 1, 0, 0, 0, 1, 1, 0, 0, 0, 0, 0, 1, 1, 1,\n",
       "       0, 1, 1, 0, 0, 0, 0, 0, 0, 1, 0, 0, 0, 1, 0, 0, 0, 1, 0, 1, 0, 1,\n",
       "       1, 0, 0, 0, 0, 0, 1, 1, 1, 0, 0, 1, 1, 0, 1, 1, 0, 1, 1, 0, 0, 0,\n",
       "       0, 0, 0, 0, 0, 0, 1, 1, 0, 0, 0, 1, 0, 0, 0, 0, 1, 0, 1, 1, 1, 0,\n",
       "       1, 0, 1, 0, 1, 1, 0, 0, 0, 0, 0, 0, 0, 0, 1, 1, 1, 1, 1, 0, 0, 0,\n",
       "       0, 0, 0, 0, 1, 0, 1, 0, 0, 0, 0, 0, 1, 1, 1, 0, 1, 0, 0, 0, 1, 0,\n",
       "       1, 0, 1, 1, 1, 0, 1, 0, 1, 0, 0, 1, 0, 0, 1, 0, 0, 0, 0, 1, 0, 0,\n",
       "       1, 0, 0, 0, 1, 0, 0, 0, 0, 1, 0, 0, 1, 0, 0, 0, 0, 0, 1, 1, 1, 0,\n",
       "       0, 0])"
      ]
     },
     "execution_count": 416,
     "metadata": {},
     "output_type": "execute_result"
    }
   ],
   "source": [
    "previsoes_treino = knn.predict(x_treino)\n",
    "previsoes_treino"
   ]
  },
  {
   "cell_type": "code",
   "execution_count": 417,
   "metadata": {
    "id": "q5pLRV6J2KT_"
   },
   "outputs": [
    {
     "data": {
      "text/plain": [
       "0.949748743718593"
      ]
     },
     "execution_count": 417,
     "metadata": {},
     "output_type": "execute_result"
    }
   ],
   "source": [
    "accuracy_score(y_treino, previsoes_treino)"
   ]
  },
  {
   "cell_type": "code",
   "execution_count": 418,
   "metadata": {
    "id": "w4ce2FGJ2KT_"
   },
   "outputs": [
    {
     "data": {
      "text/plain": [
       "array([[242,   7],\n",
       "       [ 13, 136]])"
      ]
     },
     "execution_count": 418,
     "metadata": {},
     "output_type": "execute_result"
    }
   ],
   "source": [
    "confusion_matrix(y_treino, previsoes_treino)"
   ]
  },
  {
   "cell_type": "markdown",
   "metadata": {
    "id": "pUNWBzC8KJ5v"
   },
   "source": [
    "### **Validação Cruzada**"
   ]
  },
  {
   "cell_type": "code",
   "execution_count": 419,
   "metadata": {
    "id": "b88vNYd8KJ5w"
   },
   "outputs": [],
   "source": [
    "from sklearn.model_selection import KFold\n",
    "from sklearn.model_selection import cross_val_score"
   ]
  },
  {
   "cell_type": "code",
   "execution_count": 420,
   "metadata": {
    "id": "nG58w5CNKJ5w"
   },
   "outputs": [],
   "source": [
    "# Separando os dados em folds\n",
    "kfold = KFold(n_splits = 30, shuffle=True, random_state = 5)"
   ]
  },
  {
   "cell_type": "code",
   "execution_count": 421,
   "metadata": {
    "id": "V9BM96VTKJ5w"
   },
   "outputs": [
    {
     "name": "stdout",
     "output_type": "stream",
     "text": [
      "Acurácia Média: 93.13%\n"
     ]
    }
   ],
   "source": [
    "# Criando o modelo\n",
    "modelo = KNeighborsClassifier(n_neighbors=7, metric='minkowski', p = 1)\n",
    "resultado = cross_val_score(modelo, previsores_labelencoder, alvo_labelencoder_ordinal, cv = kfold)\n",
    "\n",
    "# Usamos a média e o desvio padrão\n",
    "print(\"Acurácia Média: %.2f%%\" % (resultado.mean() * 100.0))"
   ]
  },
  {
   "cell_type": "markdown",
   "metadata": {
    "id": "ovmlWcN6xOSK"
   },
   "source": [
    "KNN = 96.49% (treino e teste) - e 93.13% (validação cruzada)- KNeighborsClassifier(n_neighbors=7, metric='minkowski', p = 1) - previsores, alvo\n",
    "KNN = 95.91% (treino e teste) - e 96.65% (validação cruzada)- KNeighborsClassifier(n_neighbors=7, metric='minkowski', p = 1) - previsores_esc, alvo\n",
    "KNN = 96.49% (treino e teste) - e 93.13% (validação cruzada)- KNeighborsClassifier(n_neighbors=7, metric='minkowski', p = 1) - previsores_labelencoder, alvo\n",
    "KNN = 95.91% (treino e teste) - e 96.65% (validação cruzada)- KNeighborsClassifier(n_neighbors=7, metric='minkowski', p = 1) -previsores_labelencoder_esc, alvo\n",
    "\n",
    "KNN = 96.49% (treino e teste) - e 93.13% (validação cruzada)- KNeighborsClassifier(n_neighbors=7, metric='minkowski', p = 1) - previsores, alvo_labelencoder_ordinal\n",
    "KNN = 95.91% (treino e teste) - e 96.65% (validação cruzada)- KNeighborsClassifier(n_neighbors=7, metric='minkowski', p = 1) - previsores_esc, alvo_labelencoder_ordinal\n",
    "KNN = 96.49% (treino e teste) - e 93.13% (validação cruzada)- KNeighborsClassifier(n_neighbors=7, metric='minkowski', p = 1) - previsores_labelencoder, alvo_labelencoder_ordinal\n",
    "KNN = 95.91% (treino e teste) - e 96.65% (validação cruzada)- KNeighborsClassifier(n_neighbors=7, metric='minkowski', p = 1) - previsores_labelencoder_esc, alvo_labelencoder_ordinal\n",
    "\n",
    "**Melhores KNN:\n",
    "KNN = 96.49% (treino e teste) - e 93.13% (validação cruzada)- KNeighborsClassifier(n_neighbors=7, metric='minkowski', p = 1) - previsores, alvo\n",
    "KNN = 96.49% (treino e teste) - e 93.13% (validação cruzada)- KNeighborsClassifier(n_neighbors=7, metric='minkowski', p = 1) - previsores_labelencoder, alvo\n",
    "KNN = 96.49% (treino e teste) - e 93.13% (validação cruzada)- KNeighborsClassifier(n_neighbors=7, metric='minkowski', p = 1) - previsores, alvo_labelencoder_ordinal\n",
    "KNN = 96.49% (treino e teste) - e 93.13% (validação cruzada)- KNeighborsClassifier(n_neighbors=7, metric='minkowski', p = 1) - previsores_labelencoder, alvo_labelencoder_ordinal**"
   ]
  },
  {
   "cell_type": "markdown",
   "metadata": {
    "id": "VdGvKcYjODGt",
    "jp-MarkdownHeadingCollapsed": true
   },
   "source": [
    "# **ÁRVORE DE DECISÃO**"
   ]
  },
  {
   "cell_type": "markdown",
   "metadata": {
    "id": "i65VtZ4pcQGP"
   },
   "source": [
    "https://scikit-learn.org/stable/modules/tree.html"
   ]
  },
  {
   "cell_type": "code",
   "execution_count": 567,
   "metadata": {
    "id": "-2oaMph5OFa2"
   },
   "outputs": [],
   "source": [
    "from sklearn.tree import DecisionTreeClassifier"
   ]
  },
  {
   "cell_type": "code",
   "execution_count": 568,
   "metadata": {
    "id": "Zxu4_zhCOMVj"
   },
   "outputs": [
    {
     "data": {
      "text/html": [
       "<style>#sk-container-id-39 {color: black;background-color: white;}#sk-container-id-39 pre{padding: 0;}#sk-container-id-39 div.sk-toggleable {background-color: white;}#sk-container-id-39 label.sk-toggleable__label {cursor: pointer;display: block;width: 100%;margin-bottom: 0;padding: 0.3em;box-sizing: border-box;text-align: center;}#sk-container-id-39 label.sk-toggleable__label-arrow:before {content: \"▸\";float: left;margin-right: 0.25em;color: #696969;}#sk-container-id-39 label.sk-toggleable__label-arrow:hover:before {color: black;}#sk-container-id-39 div.sk-estimator:hover label.sk-toggleable__label-arrow:before {color: black;}#sk-container-id-39 div.sk-toggleable__content {max-height: 0;max-width: 0;overflow: hidden;text-align: left;background-color: #f0f8ff;}#sk-container-id-39 div.sk-toggleable__content pre {margin: 0.2em;color: black;border-radius: 0.25em;background-color: #f0f8ff;}#sk-container-id-39 input.sk-toggleable__control:checked~div.sk-toggleable__content {max-height: 200px;max-width: 100%;overflow: auto;}#sk-container-id-39 input.sk-toggleable__control:checked~label.sk-toggleable__label-arrow:before {content: \"▾\";}#sk-container-id-39 div.sk-estimator input.sk-toggleable__control:checked~label.sk-toggleable__label {background-color: #d4ebff;}#sk-container-id-39 div.sk-label input.sk-toggleable__control:checked~label.sk-toggleable__label {background-color: #d4ebff;}#sk-container-id-39 input.sk-hidden--visually {border: 0;clip: rect(1px 1px 1px 1px);clip: rect(1px, 1px, 1px, 1px);height: 1px;margin: -1px;overflow: hidden;padding: 0;position: absolute;width: 1px;}#sk-container-id-39 div.sk-estimator {font-family: monospace;background-color: #f0f8ff;border: 1px dotted black;border-radius: 0.25em;box-sizing: border-box;margin-bottom: 0.5em;}#sk-container-id-39 div.sk-estimator:hover {background-color: #d4ebff;}#sk-container-id-39 div.sk-parallel-item::after {content: \"\";width: 100%;border-bottom: 1px solid gray;flex-grow: 1;}#sk-container-id-39 div.sk-label:hover label.sk-toggleable__label {background-color: #d4ebff;}#sk-container-id-39 div.sk-serial::before {content: \"\";position: absolute;border-left: 1px solid gray;box-sizing: border-box;top: 0;bottom: 0;left: 50%;z-index: 0;}#sk-container-id-39 div.sk-serial {display: flex;flex-direction: column;align-items: center;background-color: white;padding-right: 0.2em;padding-left: 0.2em;position: relative;}#sk-container-id-39 div.sk-item {position: relative;z-index: 1;}#sk-container-id-39 div.sk-parallel {display: flex;align-items: stretch;justify-content: center;background-color: white;position: relative;}#sk-container-id-39 div.sk-item::before, #sk-container-id-39 div.sk-parallel-item::before {content: \"\";position: absolute;border-left: 1px solid gray;box-sizing: border-box;top: 0;bottom: 0;left: 50%;z-index: -1;}#sk-container-id-39 div.sk-parallel-item {display: flex;flex-direction: column;z-index: 1;position: relative;background-color: white;}#sk-container-id-39 div.sk-parallel-item:first-child::after {align-self: flex-end;width: 50%;}#sk-container-id-39 div.sk-parallel-item:last-child::after {align-self: flex-start;width: 50%;}#sk-container-id-39 div.sk-parallel-item:only-child::after {width: 0;}#sk-container-id-39 div.sk-dashed-wrapped {border: 1px dashed gray;margin: 0 0.4em 0.5em 0.4em;box-sizing: border-box;padding-bottom: 0.4em;background-color: white;}#sk-container-id-39 div.sk-label label {font-family: monospace;font-weight: bold;display: inline-block;line-height: 1.2em;}#sk-container-id-39 div.sk-label-container {text-align: center;}#sk-container-id-39 div.sk-container {/* jupyter's `normalize.less` sets `[hidden] { display: none; }` but bootstrap.min.css set `[hidden] { display: none !important; }` so we also need the `!important` here to be able to override the default hidden behavior on the sphinx rendered scikit-learn.org. See: https://github.com/scikit-learn/scikit-learn/issues/21755 */display: inline-block !important;position: relative;}#sk-container-id-39 div.sk-text-repr-fallback {display: none;}</style><div id=\"sk-container-id-39\" class=\"sk-top-container\"><div class=\"sk-text-repr-fallback\"><pre>DecisionTreeClassifier(criterion=&#x27;entropy&#x27;, max_depth=3, random_state=0)</pre><b>In a Jupyter environment, please rerun this cell to show the HTML representation or trust the notebook. <br />On GitHub, the HTML representation is unable to render, please try loading this page with nbviewer.org.</b></div><div class=\"sk-container\" hidden><div class=\"sk-item\"><div class=\"sk-estimator sk-toggleable\"><input class=\"sk-toggleable__control sk-hidden--visually\" id=\"sk-estimator-id-39\" type=\"checkbox\" checked><label for=\"sk-estimator-id-39\" class=\"sk-toggleable__label sk-toggleable__label-arrow\">DecisionTreeClassifier</label><div class=\"sk-toggleable__content\"><pre>DecisionTreeClassifier(criterion=&#x27;entropy&#x27;, max_depth=3, random_state=0)</pre></div></div></div></div></div>"
      ],
      "text/plain": [
       "DecisionTreeClassifier(criterion='entropy', max_depth=3, random_state=0)"
      ]
     },
     "execution_count": 568,
     "metadata": {},
     "output_type": "execute_result"
    }
   ],
   "source": [
    "arvore = DecisionTreeClassifier(criterion='entropy', random_state = 0, max_depth=3)\n",
    "arvore.fit(x_treino, y_treino)"
   ]
  },
  {
   "cell_type": "code",
   "execution_count": 569,
   "metadata": {
    "id": "UnxRfJZXOVkk"
   },
   "outputs": [
    {
     "data": {
      "text/plain": [
       "array([1, 0, 0, 0, 0, 0, 0, 0, 0, 0, 0, 0, 0, 1, 0, 1, 0, 1, 1, 1, 1, 1,\n",
       "       0, 0, 1, 0, 0, 1, 0, 1, 0, 1, 0, 1, 0, 1, 0, 1, 0, 1, 1, 0, 1, 0,\n",
       "       1, 1, 0, 0, 0, 1, 1, 1, 1, 0, 0, 0, 0, 0, 0, 1, 1, 1, 0, 0, 1, 0,\n",
       "       1, 1, 1, 0, 1, 1, 0, 0, 1, 0, 0, 0, 0, 0, 1, 1, 1, 0, 1, 0, 0, 0,\n",
       "       1, 1, 0, 1, 1, 1, 0, 0, 1, 0, 0, 0, 0, 0, 0, 0, 1, 0, 1, 0, 1, 1,\n",
       "       0, 1, 1, 1, 0, 0, 0, 0, 0, 0, 0, 0, 0, 0, 1, 0, 0, 0, 0, 0, 1, 0,\n",
       "       0, 0, 0, 0, 0, 1, 1, 0, 0, 0, 1, 0, 0, 1, 0, 1, 0, 0, 0, 0, 0, 1,\n",
       "       0, 1, 0, 1, 0, 1, 1, 0, 0, 1, 0, 1, 1, 1, 0, 0, 0])"
      ]
     },
     "execution_count": 569,
     "metadata": {},
     "output_type": "execute_result"
    }
   ],
   "source": [
    "previsoes_arvore = arvore.predict(x_teste)\n",
    "previsoes_arvore"
   ]
  },
  {
   "cell_type": "code",
   "execution_count": 570,
   "metadata": {
    "id": "ozqiMkVAOke6"
   },
   "outputs": [
    {
     "data": {
      "text/plain": [
       "array([1, 0, 0, 0, 0, 0, 0, 0, 0, 0, 0, 0, 0, 0, 0, 1, 0, 1, 1, 1, 1, 1,\n",
       "       0, 0, 1, 0, 0, 1, 0, 1, 0, 1, 0, 1, 0, 1, 0, 1, 0, 1, 1, 0, 1, 0,\n",
       "       0, 1, 0, 0, 0, 1, 1, 1, 1, 0, 0, 0, 0, 0, 0, 1, 1, 1, 0, 0, 1, 0,\n",
       "       1, 1, 1, 0, 0, 1, 0, 1, 1, 0, 0, 0, 0, 0, 1, 1, 1, 0, 1, 0, 0, 0,\n",
       "       1, 1, 0, 1, 0, 1, 0, 0, 1, 0, 0, 0, 0, 0, 0, 0, 1, 0, 1, 0, 1, 1,\n",
       "       0, 1, 1, 0, 0, 0, 0, 0, 0, 0, 0, 0, 1, 0, 1, 0, 0, 0, 0, 0, 1, 0,\n",
       "       0, 0, 0, 0, 0, 1, 1, 0, 0, 0, 1, 0, 0, 1, 0, 1, 0, 0, 0, 0, 0, 0,\n",
       "       0, 1, 0, 1, 0, 1, 1, 0, 0, 1, 0, 1, 1, 1, 0, 0, 0])"
      ]
     },
     "execution_count": 570,
     "metadata": {},
     "output_type": "execute_result"
    }
   ],
   "source": [
    "y_teste"
   ]
  },
  {
   "cell_type": "code",
   "execution_count": 571,
   "metadata": {
    "id": "fS4QmmG9vrl4"
   },
   "outputs": [],
   "source": [
    "from sklearn.metrics import accuracy_score, confusion_matrix, classification_report"
   ]
  },
  {
   "cell_type": "code",
   "execution_count": 572,
   "metadata": {
    "id": "9vuYKW1_Onqq"
   },
   "outputs": [
    {
     "name": "stdout",
     "output_type": "stream",
     "text": [
      "Acurácia: 95.32%\n"
     ]
    }
   ],
   "source": [
    "print(\"Acurácia: %.2f%%\" % (accuracy_score(y_teste, previsoes_arvore) * 100.0))"
   ]
  },
  {
   "cell_type": "code",
   "execution_count": 573,
   "metadata": {
    "id": "IAJonpblPUGh"
   },
   "outputs": [
    {
     "data": {
      "text/plain": [
       "array([[102,   6],\n",
       "       [  2,  61]])"
      ]
     },
     "execution_count": 573,
     "metadata": {},
     "output_type": "execute_result"
    }
   ],
   "source": [
    "confusion_matrix(y_teste, previsoes_arvore)"
   ]
  },
  {
   "cell_type": "code",
   "execution_count": 574,
   "metadata": {
    "id": "wACzOEs-PcTo"
   },
   "outputs": [
    {
     "name": "stdout",
     "output_type": "stream",
     "text": [
      "              precision    recall  f1-score   support\n",
      "\n",
      "           0       0.98      0.94      0.96       108\n",
      "           1       0.91      0.97      0.94        63\n",
      "\n",
      "    accuracy                           0.95       171\n",
      "   macro avg       0.95      0.96      0.95       171\n",
      "weighted avg       0.95      0.95      0.95       171\n",
      "\n"
     ]
    }
   ],
   "source": [
    "print(classification_report(y_teste, previsoes_arvore))"
   ]
  },
  {
   "cell_type": "markdown",
   "metadata": {
    "id": "PXa_22cA1DcE"
   },
   "source": [
    "**Análise dados de treino**"
   ]
  },
  {
   "cell_type": "code",
   "execution_count": 575,
   "metadata": {
    "id": "UZFn-68G1DcF"
   },
   "outputs": [
    {
     "data": {
      "text/plain": [
       "array([0, 0, 0, 1, 0, 0, 0, 0, 1, 1, 0, 0, 1, 0, 0, 0, 0, 1, 0, 0, 1, 1,\n",
       "       0, 0, 1, 1, 0, 0, 0, 0, 0, 1, 1, 1, 0, 0, 0, 1, 0, 0, 0, 0, 0, 1,\n",
       "       0, 1, 0, 1, 0, 1, 0, 1, 0, 0, 0, 0, 1, 0, 1, 0, 0, 0, 1, 0, 0, 0,\n",
       "       1, 0, 0, 1, 1, 0, 1, 0, 1, 0, 1, 1, 1, 1, 0, 0, 0, 1, 0, 1, 0, 1,\n",
       "       0, 0, 1, 0, 0, 0, 0, 0, 0, 0, 0, 0, 0, 0, 0, 0, 1, 0, 0, 0, 1, 0,\n",
       "       0, 0, 0, 0, 0, 1, 0, 1, 0, 0, 1, 0, 1, 1, 0, 1, 1, 0, 0, 0, 0, 0,\n",
       "       0, 1, 0, 0, 0, 0, 0, 1, 1, 0, 0, 0, 0, 1, 1, 0, 0, 0, 0, 1, 0, 0,\n",
       "       1, 0, 0, 0, 0, 1, 0, 0, 0, 0, 1, 1, 0, 1, 0, 1, 0, 1, 1, 0, 0, 0,\n",
       "       1, 0, 1, 0, 0, 1, 0, 0, 1, 1, 0, 0, 0, 1, 0, 0, 0, 1, 0, 0, 0, 1,\n",
       "       0, 1, 0, 1, 1, 1, 1, 0, 0, 0, 0, 0, 1, 0, 0, 0, 0, 0, 1, 0, 0, 1,\n",
       "       0, 0, 1, 1, 1, 1, 0, 0, 1, 0, 0, 0, 1, 1, 0, 0, 0, 0, 0, 1, 1, 1,\n",
       "       0, 1, 1, 0, 0, 0, 0, 0, 0, 1, 0, 0, 0, 1, 0, 0, 1, 1, 0, 1, 0, 1,\n",
       "       1, 0, 0, 0, 0, 0, 1, 1, 1, 0, 0, 1, 1, 0, 1, 1, 0, 1, 1, 0, 1, 0,\n",
       "       0, 0, 0, 0, 0, 0, 1, 1, 0, 0, 0, 1, 0, 0, 0, 0, 1, 0, 1, 1, 1, 0,\n",
       "       1, 0, 1, 0, 1, 1, 0, 0, 0, 0, 0, 0, 0, 0, 1, 1, 1, 1, 1, 0, 0, 0,\n",
       "       0, 0, 0, 0, 1, 0, 1, 0, 0, 0, 0, 0, 1, 1, 1, 0, 1, 0, 0, 0, 1, 1,\n",
       "       1, 0, 1, 1, 1, 0, 1, 0, 1, 0, 0, 1, 0, 0, 1, 0, 0, 0, 0, 1, 0, 0,\n",
       "       1, 0, 0, 0, 1, 0, 1, 0, 0, 1, 0, 0, 1, 0, 0, 0, 0, 0, 1, 1, 1, 0,\n",
       "       0, 0])"
      ]
     },
     "execution_count": 575,
     "metadata": {},
     "output_type": "execute_result"
    }
   ],
   "source": [
    "previsoes_treino = arvore.predict(x_treino)\n",
    "previsoes_treino"
   ]
  },
  {
   "cell_type": "code",
   "execution_count": 576,
   "metadata": {
    "id": "mDqKNd3v1DcG"
   },
   "outputs": [
    {
     "data": {
      "text/plain": [
       "0.964824120603015"
      ]
     },
     "execution_count": 576,
     "metadata": {},
     "output_type": "execute_result"
    }
   ],
   "source": [
    "accuracy_score(y_treino, previsoes_treino)"
   ]
  },
  {
   "cell_type": "code",
   "execution_count": 558,
   "metadata": {
    "id": "dMQiq4o01DcG"
   },
   "outputs": [
    {
     "data": {
      "text/plain": [
       "array([[245,   4],\n",
       "       [ 10, 139]])"
      ]
     },
     "execution_count": 558,
     "metadata": {},
     "output_type": "execute_result"
    }
   ],
   "source": [
    "confusion_matrix(y_treino, previsoes_treino)"
   ]
  },
  {
   "cell_type": "markdown",
   "metadata": {
    "id": "dxwugdgiEhdw"
   },
   "source": [
    "### **Validação Cruzada**"
   ]
  },
  {
   "cell_type": "code",
   "execution_count": 559,
   "metadata": {
    "id": "ArJOjabUEZJf"
   },
   "outputs": [],
   "source": [
    "from sklearn.model_selection import KFold\n",
    "from sklearn.model_selection import cross_val_score"
   ]
  },
  {
   "cell_type": "code",
   "execution_count": 560,
   "metadata": {
    "id": "zfWK55DrEZJg"
   },
   "outputs": [],
   "source": [
    "# Separando os dados em folds\n",
    "kfold = KFold(n_splits = 30, shuffle=True, random_state = 5)"
   ]
  },
  {
   "cell_type": "code",
   "execution_count": 561,
   "metadata": {
    "id": "MwGsKOFZEZJh"
   },
   "outputs": [
    {
     "name": "stdout",
     "output_type": "stream",
     "text": [
      "Acurácia Média: 92.44%\n"
     ]
    }
   ],
   "source": [
    "# Criando o modelo\n",
    "modelo = DecisionTreeClassifier(criterion='entropy', random_state = 0, max_depth=7)\n",
    "resultado = cross_val_score(modelo, previsores_esc, alvo, cv = kfold)\n",
    "\n",
    "# Usamos a média e o desvio padrão\n",
    "print(\"Acurácia Média: %.2f%%\" % (resultado.mean() * 100.0))"
   ]
  },
  {
   "cell_type": "markdown",
   "metadata": {
    "id": "-Ti98jalQK23"
   },
   "source": [
    "Árvore de decisão = 95.32% (treino e teste) - e 92.44% (validação cruzada) - DecisionTreeClassifier(criterion='entropy', random_state = 0, max_depth=3) - previsores, alvo\n",
    "Árvore de decisão = 95.32% (treino e teste) - e 92.44% (validação cruzada) - DecisionTreeClassifier(criterion='entropy', random_state = 0, max_depth=3) - previsores_esc, alvo\n",
    "Árvore de decisão = 95.32% (treino e teste) - e 92.44% (validação cruzada) - DecisionTreeClassifier(criterion='entropy', random_state = 0, max_depth=3) - previsores_labelencoder, alvo\n",
    "Árvore de decisão = 95.32% (treino e teste) - e 92.44% (validação cruzada) - DecisionTreeClassifier(criterion='entropy', random_state = 0, max_depth=3) -previsores_labelencoder_esc, alvo\n",
    "\n",
    "Árvore de decisão = 95.32% (treino e teste) - e 92.44% (validação cruzada) - DecisionTreeClassifier(criterion='entropy', random_state = 0, max_depth=3) - previsores, alvo_labelencoder_ordinal\n",
    "Árvore de decisão = 95.32% (treino e teste) - e 92.44% (validação cruzada) - DecisionTreeClassifier(criterion='entropy', random_state = 0, max_depth=3) - previsores_esc, alvo_labelencoder_ordinal\n",
    "Árvore de decisão = 95.32% (treino e teste) - e 92.44% (validação cruzada) - DecisionTreeClassifier(criterion='entropy', random_state = 0, max_depth=3) - previsores_labelencoder, alvo_labelencoder_ordinal\n",
    "Árvore de decisão = 95.32% (treino e teste) - e 92.44% (validação cruzada) - DecisionTreeClassifier(criterion='entropy', random_state = 0, max_depth=3) - previsores_labelencoder_esc, alvo_labelencoder_ordinal\n",
    "\n",
    "**Melhores Árvore de decisão:\n",
    "Árvore de decisão = 95.32% (treino e teste) - e 92.44% (validação cruzada) - DecisionTreeClassifier(criterion='entropy', random_state = 0, max_depth=3) - previsores, alvo\n",
    "Árvore de decisão = 95.32% (treino e teste) - e 92.44% (validação cruzada) - DecisionTreeClassifier(criterion='entropy', random_state = 0, max_depth=3) - previsores_esc, alvo\n",
    "Árvore de decisão = 95.32% (treino e teste) - e 92.44% (validação cruzada) - DecisionTreeClassifier(criterion='entropy', random_state = 0, max_depth=3) - previsores_labelencoder, alvo\n",
    "Árvore de decisão = 95.32% (treino e teste) - e 92.44% (validação cruzada) - DecisionTreeClassifier(criterion='entropy', random_state = 0, max_depth=3) -previsores_labelencoder_esc, alvo\n",
    "Árvore de decisão = 95.32% (treino e teste) - e 92.44% (validação cruzada) - DecisionTreeClassifier(criterion='entropy', random_state = 0, max_depth=3) - previsores, alvo_labelencoder_ordinal\n",
    "Árvore de decisão = 95.32% (treino e teste) - e 92.44% (validação cruzada) - DecisionTreeClassifier(criterion='entropy', random_state = 0, max_depth=3) - previsores_esc, alvo_labelencoder_ordinal\n",
    "Árvore de decisão = 95.32% (treino e teste) - e 92.44% (validação cruzada) - DecisionTreeClassifier(criterion='entropy', random_state = 0, max_depth=3) - previsores_labelencoder, alvo_labelencoder_ordinal\n",
    "Árvore de decisão = 95.32% (treino e teste) - e 92.44% (validação cruzada) - DecisionTreeClassifier(criterion='entropy', random_state = 0, max_depth=3) - previsores_labelencoder_esc, alvo_labelencoder_ordinal**"
   ]
  },
  {
   "cell_type": "markdown",
   "metadata": {
    "id": "hw7px-UemoSc",
    "jp-MarkdownHeadingCollapsed": true
   },
   "source": [
    "# **RANDOM FOREST**"
   ]
  },
  {
   "cell_type": "markdown",
   "metadata": {
    "id": "HAUbw5xfcCYy"
   },
   "source": [
    "https://scikit-learn.org/stable/modules/generated/sklearn.ensemble.RandomForestClassifier.html"
   ]
  },
  {
   "cell_type": "code",
   "execution_count": 663,
   "metadata": {
    "id": "BqqXdinImokj"
   },
   "outputs": [],
   "source": [
    "from sklearn.ensemble import RandomForestClassifier"
   ]
  },
  {
   "cell_type": "code",
   "execution_count": 664,
   "metadata": {
    "id": "Klr3lymumztn"
   },
   "outputs": [
    {
     "data": {
      "text/html": [
       "<style>#sk-container-id-45 {color: black;background-color: white;}#sk-container-id-45 pre{padding: 0;}#sk-container-id-45 div.sk-toggleable {background-color: white;}#sk-container-id-45 label.sk-toggleable__label {cursor: pointer;display: block;width: 100%;margin-bottom: 0;padding: 0.3em;box-sizing: border-box;text-align: center;}#sk-container-id-45 label.sk-toggleable__label-arrow:before {content: \"▸\";float: left;margin-right: 0.25em;color: #696969;}#sk-container-id-45 label.sk-toggleable__label-arrow:hover:before {color: black;}#sk-container-id-45 div.sk-estimator:hover label.sk-toggleable__label-arrow:before {color: black;}#sk-container-id-45 div.sk-toggleable__content {max-height: 0;max-width: 0;overflow: hidden;text-align: left;background-color: #f0f8ff;}#sk-container-id-45 div.sk-toggleable__content pre {margin: 0.2em;color: black;border-radius: 0.25em;background-color: #f0f8ff;}#sk-container-id-45 input.sk-toggleable__control:checked~div.sk-toggleable__content {max-height: 200px;max-width: 100%;overflow: auto;}#sk-container-id-45 input.sk-toggleable__control:checked~label.sk-toggleable__label-arrow:before {content: \"▾\";}#sk-container-id-45 div.sk-estimator input.sk-toggleable__control:checked~label.sk-toggleable__label {background-color: #d4ebff;}#sk-container-id-45 div.sk-label input.sk-toggleable__control:checked~label.sk-toggleable__label {background-color: #d4ebff;}#sk-container-id-45 input.sk-hidden--visually {border: 0;clip: rect(1px 1px 1px 1px);clip: rect(1px, 1px, 1px, 1px);height: 1px;margin: -1px;overflow: hidden;padding: 0;position: absolute;width: 1px;}#sk-container-id-45 div.sk-estimator {font-family: monospace;background-color: #f0f8ff;border: 1px dotted black;border-radius: 0.25em;box-sizing: border-box;margin-bottom: 0.5em;}#sk-container-id-45 div.sk-estimator:hover {background-color: #d4ebff;}#sk-container-id-45 div.sk-parallel-item::after {content: \"\";width: 100%;border-bottom: 1px solid gray;flex-grow: 1;}#sk-container-id-45 div.sk-label:hover label.sk-toggleable__label {background-color: #d4ebff;}#sk-container-id-45 div.sk-serial::before {content: \"\";position: absolute;border-left: 1px solid gray;box-sizing: border-box;top: 0;bottom: 0;left: 50%;z-index: 0;}#sk-container-id-45 div.sk-serial {display: flex;flex-direction: column;align-items: center;background-color: white;padding-right: 0.2em;padding-left: 0.2em;position: relative;}#sk-container-id-45 div.sk-item {position: relative;z-index: 1;}#sk-container-id-45 div.sk-parallel {display: flex;align-items: stretch;justify-content: center;background-color: white;position: relative;}#sk-container-id-45 div.sk-item::before, #sk-container-id-45 div.sk-parallel-item::before {content: \"\";position: absolute;border-left: 1px solid gray;box-sizing: border-box;top: 0;bottom: 0;left: 50%;z-index: -1;}#sk-container-id-45 div.sk-parallel-item {display: flex;flex-direction: column;z-index: 1;position: relative;background-color: white;}#sk-container-id-45 div.sk-parallel-item:first-child::after {align-self: flex-end;width: 50%;}#sk-container-id-45 div.sk-parallel-item:last-child::after {align-self: flex-start;width: 50%;}#sk-container-id-45 div.sk-parallel-item:only-child::after {width: 0;}#sk-container-id-45 div.sk-dashed-wrapped {border: 1px dashed gray;margin: 0 0.4em 0.5em 0.4em;box-sizing: border-box;padding-bottom: 0.4em;background-color: white;}#sk-container-id-45 div.sk-label label {font-family: monospace;font-weight: bold;display: inline-block;line-height: 1.2em;}#sk-container-id-45 div.sk-label-container {text-align: center;}#sk-container-id-45 div.sk-container {/* jupyter's `normalize.less` sets `[hidden] { display: none; }` but bootstrap.min.css set `[hidden] { display: none !important; }` so we also need the `!important` here to be able to override the default hidden behavior on the sphinx rendered scikit-learn.org. See: https://github.com/scikit-learn/scikit-learn/issues/21755 */display: inline-block !important;position: relative;}#sk-container-id-45 div.sk-text-repr-fallback {display: none;}</style><div id=\"sk-container-id-45\" class=\"sk-top-container\"><div class=\"sk-text-repr-fallback\"><pre>RandomForestClassifier(criterion=&#x27;entropy&#x27;, max_depth=4, n_estimators=150,\n",
       "                       random_state=0)</pre><b>In a Jupyter environment, please rerun this cell to show the HTML representation or trust the notebook. <br />On GitHub, the HTML representation is unable to render, please try loading this page with nbviewer.org.</b></div><div class=\"sk-container\" hidden><div class=\"sk-item\"><div class=\"sk-estimator sk-toggleable\"><input class=\"sk-toggleable__control sk-hidden--visually\" id=\"sk-estimator-id-45\" type=\"checkbox\" checked><label for=\"sk-estimator-id-45\" class=\"sk-toggleable__label sk-toggleable__label-arrow\">RandomForestClassifier</label><div class=\"sk-toggleable__content\"><pre>RandomForestClassifier(criterion=&#x27;entropy&#x27;, max_depth=4, n_estimators=150,\n",
       "                       random_state=0)</pre></div></div></div></div></div>"
      ],
      "text/plain": [
       "RandomForestClassifier(criterion='entropy', max_depth=4, n_estimators=150,\n",
       "                       random_state=0)"
      ]
     },
     "execution_count": 664,
     "metadata": {},
     "output_type": "execute_result"
    }
   ],
   "source": [
    "random = RandomForestClassifier(n_estimators=150, criterion='entropy', random_state = 0, max_depth=4)\n",
    "random.fit(x_treino, y_treino)"
   ]
  },
  {
   "cell_type": "code",
   "execution_count": 665,
   "metadata": {
    "id": "0JOqI4bQnY17"
   },
   "outputs": [
    {
     "data": {
      "text/plain": [
       "array([1, 0, 0, 0, 0, 0, 0, 0, 0, 0, 0, 0, 0, 1, 0, 1, 0, 1, 1, 1, 1, 1,\n",
       "       0, 0, 1, 0, 0, 1, 0, 1, 0, 1, 0, 1, 0, 1, 0, 1, 0, 1, 0, 0, 1, 0,\n",
       "       0, 1, 0, 0, 0, 1, 1, 1, 1, 0, 0, 0, 0, 0, 0, 1, 1, 1, 0, 0, 1, 0,\n",
       "       1, 1, 1, 0, 0, 1, 0, 0, 1, 0, 0, 0, 0, 0, 1, 1, 1, 0, 1, 0, 0, 0,\n",
       "       1, 1, 0, 1, 0, 1, 0, 0, 1, 0, 0, 0, 0, 0, 0, 0, 1, 0, 1, 0, 0, 1,\n",
       "       0, 1, 1, 0, 0, 0, 0, 0, 0, 0, 0, 0, 1, 0, 1, 0, 0, 0, 0, 0, 1, 0,\n",
       "       0, 0, 0, 0, 0, 1, 1, 0, 0, 0, 1, 0, 0, 1, 0, 1, 0, 0, 0, 1, 0, 0,\n",
       "       0, 1, 0, 0, 0, 1, 1, 0, 0, 1, 0, 1, 1, 1, 0, 0, 0])"
      ]
     },
     "execution_count": 665,
     "metadata": {},
     "output_type": "execute_result"
    }
   ],
   "source": [
    "previsoes_random = random.predict(x_teste)\n",
    "previsoes_random"
   ]
  },
  {
   "cell_type": "code",
   "execution_count": 666,
   "metadata": {
    "id": "fRN6hPPXn5qp"
   },
   "outputs": [
    {
     "data": {
      "text/plain": [
       "array([1, 0, 0, 0, 0, 0, 0, 0, 0, 0, 0, 0, 0, 0, 0, 1, 0, 1, 1, 1, 1, 1,\n",
       "       0, 0, 1, 0, 0, 1, 0, 1, 0, 1, 0, 1, 0, 1, 0, 1, 0, 1, 1, 0, 1, 0,\n",
       "       0, 1, 0, 0, 0, 1, 1, 1, 1, 0, 0, 0, 0, 0, 0, 1, 1, 1, 0, 0, 1, 0,\n",
       "       1, 1, 1, 0, 0, 1, 0, 1, 1, 0, 0, 0, 0, 0, 1, 1, 1, 0, 1, 0, 0, 0,\n",
       "       1, 1, 0, 1, 0, 1, 0, 0, 1, 0, 0, 0, 0, 0, 0, 0, 1, 0, 1, 0, 1, 1,\n",
       "       0, 1, 1, 0, 0, 0, 0, 0, 0, 0, 0, 0, 1, 0, 1, 0, 0, 0, 0, 0, 1, 0,\n",
       "       0, 0, 0, 0, 0, 1, 1, 0, 0, 0, 1, 0, 0, 1, 0, 1, 0, 0, 0, 0, 0, 0,\n",
       "       0, 1, 0, 1, 0, 1, 1, 0, 0, 1, 0, 1, 1, 1, 0, 0, 0])"
      ]
     },
     "execution_count": 666,
     "metadata": {},
     "output_type": "execute_result"
    }
   ],
   "source": [
    "y_teste"
   ]
  },
  {
   "cell_type": "code",
   "execution_count": 667,
   "metadata": {
    "id": "cgB44VIOvpZf"
   },
   "outputs": [],
   "source": [
    "from sklearn.metrics import accuracy_score, confusion_matrix, classification_report"
   ]
  },
  {
   "cell_type": "code",
   "execution_count": 668,
   "metadata": {
    "id": "gnAuxYDDoDxM"
   },
   "outputs": [
    {
     "name": "stdout",
     "output_type": "stream",
     "text": [
      "Acurácia: 96.49%\n"
     ]
    }
   ],
   "source": [
    "print(\"Acurácia: %.2f%%\" % (accuracy_score(y_teste, previsoes_random) * 100.0))"
   ]
  },
  {
   "cell_type": "code",
   "execution_count": 669,
   "metadata": {
    "id": "zjAqh3e8oDxN"
   },
   "outputs": [
    {
     "data": {
      "text/plain": [
       "array([[106,   2],\n",
       "       [  4,  59]])"
      ]
     },
     "execution_count": 669,
     "metadata": {},
     "output_type": "execute_result"
    }
   ],
   "source": [
    "confusion_matrix(y_teste, previsoes_random)"
   ]
  },
  {
   "cell_type": "code",
   "execution_count": 670,
   "metadata": {
    "id": "IdpisYpjoDxO"
   },
   "outputs": [
    {
     "name": "stdout",
     "output_type": "stream",
     "text": [
      "              precision    recall  f1-score   support\n",
      "\n",
      "           0       0.96      0.98      0.97       108\n",
      "           1       0.97      0.94      0.95        63\n",
      "\n",
      "    accuracy                           0.96       171\n",
      "   macro avg       0.97      0.96      0.96       171\n",
      "weighted avg       0.96      0.96      0.96       171\n",
      "\n"
     ]
    }
   ],
   "source": [
    "print(classification_report(y_teste, previsoes_random))"
   ]
  },
  {
   "cell_type": "markdown",
   "metadata": {
    "id": "e9NiPecr1bdw"
   },
   "source": [
    "**Análise dados de treino**"
   ]
  },
  {
   "cell_type": "code",
   "execution_count": 671,
   "metadata": {
    "id": "DDs9J1hX1bdx"
   },
   "outputs": [
    {
     "data": {
      "text/plain": [
       "array([0, 0, 0, 1, 0, 0, 0, 0, 1, 1, 0, 0, 1, 0, 0, 0, 0, 1, 0, 0, 1, 1,\n",
       "       0, 0, 1, 1, 0, 0, 1, 0, 0, 1, 1, 1, 0, 0, 0, 1, 0, 0, 0, 0, 0, 1,\n",
       "       0, 1, 0, 1, 0, 1, 0, 1, 0, 0, 0, 0, 1, 0, 1, 0, 0, 0, 1, 0, 0, 0,\n",
       "       1, 0, 0, 1, 1, 0, 1, 0, 1, 0, 1, 1, 1, 1, 0, 0, 0, 1, 0, 1, 0, 1,\n",
       "       0, 0, 1, 0, 0, 0, 0, 0, 0, 0, 0, 0, 0, 0, 0, 0, 1, 0, 0, 0, 1, 0,\n",
       "       0, 0, 0, 0, 0, 1, 0, 1, 0, 0, 1, 0, 1, 1, 0, 1, 1, 0, 0, 1, 0, 0,\n",
       "       0, 1, 0, 0, 0, 0, 0, 1, 1, 0, 0, 0, 0, 1, 1, 0, 0, 0, 0, 1, 0, 0,\n",
       "       1, 0, 0, 1, 0, 1, 0, 0, 0, 0, 1, 1, 0, 0, 0, 1, 0, 1, 1, 0, 0, 0,\n",
       "       0, 0, 1, 0, 0, 1, 0, 0, 1, 1, 0, 0, 0, 1, 1, 0, 0, 1, 0, 0, 0, 1,\n",
       "       0, 1, 0, 1, 1, 1, 1, 0, 0, 0, 0, 0, 1, 0, 0, 0, 0, 0, 1, 0, 0, 1,\n",
       "       0, 0, 1, 1, 1, 1, 0, 0, 1, 0, 0, 0, 1, 1, 0, 0, 0, 0, 0, 1, 1, 1,\n",
       "       0, 1, 1, 0, 0, 0, 0, 0, 0, 1, 0, 0, 0, 0, 0, 0, 1, 1, 0, 1, 0, 1,\n",
       "       1, 0, 0, 0, 0, 0, 1, 1, 1, 0, 0, 1, 1, 0, 0, 1, 0, 1, 1, 0, 1, 0,\n",
       "       0, 0, 0, 0, 0, 0, 1, 1, 0, 0, 0, 1, 0, 0, 0, 0, 1, 0, 1, 1, 1, 0,\n",
       "       1, 0, 1, 0, 1, 1, 0, 0, 0, 0, 0, 0, 0, 0, 1, 1, 1, 1, 1, 0, 0, 0,\n",
       "       0, 0, 0, 0, 1, 0, 1, 0, 0, 0, 0, 0, 1, 1, 1, 0, 1, 0, 0, 1, 1, 1,\n",
       "       1, 0, 1, 1, 1, 0, 1, 0, 1, 0, 0, 1, 1, 0, 1, 0, 0, 0, 0, 1, 0, 0,\n",
       "       1, 0, 0, 0, 1, 1, 0, 0, 0, 1, 0, 0, 1, 0, 0, 0, 0, 0, 1, 1, 1, 0,\n",
       "       0, 0])"
      ]
     },
     "execution_count": 671,
     "metadata": {},
     "output_type": "execute_result"
    }
   ],
   "source": [
    "previsoes_treino = random.predict(x_treino)\n",
    "previsoes_treino"
   ]
  },
  {
   "cell_type": "code",
   "execution_count": 672,
   "metadata": {
    "id": "MkH9uYfz1bdy"
   },
   "outputs": [
    {
     "data": {
      "text/plain": [
       "0.9899497487437185"
      ]
     },
     "execution_count": 672,
     "metadata": {},
     "output_type": "execute_result"
    }
   ],
   "source": [
    "accuracy_score(y_treino, previsoes_treino)"
   ]
  },
  {
   "cell_type": "code",
   "execution_count": 673,
   "metadata": {
    "id": "pLge3xVL1bdy"
   },
   "outputs": [
    {
     "data": {
      "text/plain": [
       "array([[249,   0],\n",
       "       [  4, 145]])"
      ]
     },
     "execution_count": 673,
     "metadata": {},
     "output_type": "execute_result"
    }
   ],
   "source": [
    "confusion_matrix(y_treino, previsoes_treino)"
   ]
  },
  {
   "cell_type": "markdown",
   "metadata": {
    "id": "GH4nEvlaGOb7"
   },
   "source": [
    "### **Validação Cruzada**"
   ]
  },
  {
   "cell_type": "code",
   "execution_count": 674,
   "metadata": {
    "id": "hreEC55-GOb8"
   },
   "outputs": [],
   "source": [
    "from sklearn.model_selection import KFold\n",
    "from sklearn.model_selection import cross_val_score"
   ]
  },
  {
   "cell_type": "code",
   "execution_count": 675,
   "metadata": {
    "id": "ETYEB99OGOb9"
   },
   "outputs": [],
   "source": [
    "# Separando os dados em folds\n",
    "kfold = KFold(n_splits = 30, shuffle=True, random_state = 5)"
   ]
  },
  {
   "cell_type": "code",
   "execution_count": 676,
   "metadata": {
    "id": "7GHcsag3GOb9"
   },
   "outputs": [
    {
     "name": "stdout",
     "output_type": "stream",
     "text": [
      "Acurácia Média: 95.76%\n"
     ]
    }
   ],
   "source": [
    "# Criando o modelo\n",
    "modelo = RandomForestClassifier(n_estimators=150, criterion='entropy', random_state = 0, max_depth=4)\n",
    "resultado = cross_val_score(modelo, previsores_labelencoder_esc, alvo, cv = kfold)\n",
    "\n",
    "# Usamos a média e o desvio padrão\n",
    "print(\"Acurácia Média: %.2f%%\" % (resultado.mean() * 100.0))"
   ]
  },
  {
   "cell_type": "markdown",
   "metadata": {
    "id": "N3dUl9DDpNnz"
   },
   "source": [
    "Random Forest = 96.49% (treino e teste)- e 95.76% (validação cruzada) - RandomForestClassifier(n_estimators=150, criterion='entropy', random_state = 0, max_depth=4) - previsores, alvo\n",
    "Random Forest = 96.49% (treino e teste) - e 95.76% (validação cruzada) - RandomForestClassifier(n_estimators=150, criterion='entropy', random_state = 0, max_depth=4) - previsores_esc, alvo\n",
    "Random Forest = 96.49% (treino e teste) - e 95.76% (validação cruzada) - RandomForestClassifier(n_estimators=150, criterion='entropy', random_state = 0, max_depth=4) - previsores_labelencoder, alvo\n",
    "Random Forest = 96.49% (treino e teste) - e 95.76% (validação cruzada) - RandomForestClassifier(n_estimators=150, criterion='entropy', random_state = 0, max_depth=4) -previsores_labelencoder_esc, alvo\n",
    "\n",
    "Random Forest = 96.49% - e 95.76% (validação cruzada) - RandomForestClassifier(n_estimators=150, criterion='entropy', random_state = 0, max_depth=4) (treino e teste) - previsores, alvo_labelencoder_ordinal\n",
    "Random Forest = 96.49% - e 95.76% (validação cruzada) - RandomForestClassifier(n_estimators=150, criterion='entropy', random_state = 0, max_depth=4) (treino e teste) - previsores_esc, alvo_labelencoder_ordinal\n",
    "Random Forest = 96.49% - e 95.76% (validação cruzada) - RandomForestClassifier(n_estimators=150, criterion='entropy', random_state = 0, max_depth=4) (treino e teste) - previsores_labelencoder, alvo_labelencoder_ordinal\n",
    "Random Forest = 96.49% - e 95.76% (validação cruzada) - RandomForestClassifier(n_estimators=150, criterion='entropy', random_state = 0, max_depth=4) (treino e teste) - previsores_labelencoder_esc, alvo_labelencoder_ordinal\n",
    "\n",
    "**Melhores Random Forest:\n",
    "Random Forest = 96.49% (treino e teste)- e 95.76% (validação cruzada) - RandomForestClassifier(n_estimators=150, criterion='entropy', random_state = 0, max_depth=4) - previsores, alvo\n",
    "Random Forest = 96.49% (treino e teste) - e 95.76% (validação cruzada) - RandomForestClassifier(n_estimators=150, criterion='entropy', random_state = 0, max_depth=4) - previsores_esc, alvo\n",
    "Random Forest = 96.49% (treino e teste) - e 95.76% (validação cruzada) - RandomForestClassifier(n_estimators=150, criterion='entropy', random_state = 0, max_depth=4) - previsores_labelencoder, alvo\n",
    "Random Forest = 96.49% (treino e teste) - e 95.76% (validação cruzada) - RandomForestClassifier(n_estimators=150, criterion='entropy', random_state = 0, max_depth=4) -previsores_labelencoder_esc, alvo\n",
    "Random Forest = 96.49% - e 95.76% (validação cruzada) - RandomForestClassifier(n_estimators=150, criterion='entropy', random_state = 0, max_depth=4) (treino e teste) - previsores, alvo_labelencoder_ordinal\n",
    "Random Forest = 96.49% - e 95.76% (validação cruzada) - RandomForestClassifier(n_estimators=150, criterion='entropy', random_state = 0, max_depth=4) (treino e teste) - previsores_esc, alvo_labelencoder_ordinal\n",
    "Random Forest = 96.49% - e 95.76% (validação cruzada) - RandomForestClassifier(n_estimators=150, criterion='entropy', random_state = 0, max_depth=4) (treino e teste) - previsores_labelencoder, alvo_labelencoder_ordinal\n",
    "Random Forest = 96.49% - e 95.76% (validação cruzada) - RandomForestClassifier(n_estimators=150, criterion='entropy', random_state = 0, max_depth=4) (treino e teste) - previsores_labelencoder_esc, alvo_labelencoder_ordinal**"
   ]
  },
  {
   "cell_type": "markdown",
   "metadata": {
    "id": "jH3OocboSGXH",
    "jp-MarkdownHeadingCollapsed": true
   },
   "source": [
    "# **XGBOOST**"
   ]
  },
  {
   "cell_type": "markdown",
   "metadata": {
    "id": "OpLLJlcnbcsR"
   },
   "source": [
    "https://xgboost.readthedocs.io/en/stable/"
   ]
  },
  {
   "cell_type": "code",
   "execution_count": 801,
   "metadata": {
    "id": "PKdcu1J2Qk0h"
   },
   "outputs": [],
   "source": [
    "from xgboost import XGBClassifier"
   ]
  },
  {
   "cell_type": "code",
   "execution_count": 802,
   "metadata": {
    "id": "jyOMVARbQmLa"
   },
   "outputs": [
    {
     "data": {
      "text/html": [
       "<style>#sk-container-id-57 {color: black;background-color: white;}#sk-container-id-57 pre{padding: 0;}#sk-container-id-57 div.sk-toggleable {background-color: white;}#sk-container-id-57 label.sk-toggleable__label {cursor: pointer;display: block;width: 100%;margin-bottom: 0;padding: 0.3em;box-sizing: border-box;text-align: center;}#sk-container-id-57 label.sk-toggleable__label-arrow:before {content: \"▸\";float: left;margin-right: 0.25em;color: #696969;}#sk-container-id-57 label.sk-toggleable__label-arrow:hover:before {color: black;}#sk-container-id-57 div.sk-estimator:hover label.sk-toggleable__label-arrow:before {color: black;}#sk-container-id-57 div.sk-toggleable__content {max-height: 0;max-width: 0;overflow: hidden;text-align: left;background-color: #f0f8ff;}#sk-container-id-57 div.sk-toggleable__content pre {margin: 0.2em;color: black;border-radius: 0.25em;background-color: #f0f8ff;}#sk-container-id-57 input.sk-toggleable__control:checked~div.sk-toggleable__content {max-height: 200px;max-width: 100%;overflow: auto;}#sk-container-id-57 input.sk-toggleable__control:checked~label.sk-toggleable__label-arrow:before {content: \"▾\";}#sk-container-id-57 div.sk-estimator input.sk-toggleable__control:checked~label.sk-toggleable__label {background-color: #d4ebff;}#sk-container-id-57 div.sk-label input.sk-toggleable__control:checked~label.sk-toggleable__label {background-color: #d4ebff;}#sk-container-id-57 input.sk-hidden--visually {border: 0;clip: rect(1px 1px 1px 1px);clip: rect(1px, 1px, 1px, 1px);height: 1px;margin: -1px;overflow: hidden;padding: 0;position: absolute;width: 1px;}#sk-container-id-57 div.sk-estimator {font-family: monospace;background-color: #f0f8ff;border: 1px dotted black;border-radius: 0.25em;box-sizing: border-box;margin-bottom: 0.5em;}#sk-container-id-57 div.sk-estimator:hover {background-color: #d4ebff;}#sk-container-id-57 div.sk-parallel-item::after {content: \"\";width: 100%;border-bottom: 1px solid gray;flex-grow: 1;}#sk-container-id-57 div.sk-label:hover label.sk-toggleable__label {background-color: #d4ebff;}#sk-container-id-57 div.sk-serial::before {content: \"\";position: absolute;border-left: 1px solid gray;box-sizing: border-box;top: 0;bottom: 0;left: 50%;z-index: 0;}#sk-container-id-57 div.sk-serial {display: flex;flex-direction: column;align-items: center;background-color: white;padding-right: 0.2em;padding-left: 0.2em;position: relative;}#sk-container-id-57 div.sk-item {position: relative;z-index: 1;}#sk-container-id-57 div.sk-parallel {display: flex;align-items: stretch;justify-content: center;background-color: white;position: relative;}#sk-container-id-57 div.sk-item::before, #sk-container-id-57 div.sk-parallel-item::before {content: \"\";position: absolute;border-left: 1px solid gray;box-sizing: border-box;top: 0;bottom: 0;left: 50%;z-index: -1;}#sk-container-id-57 div.sk-parallel-item {display: flex;flex-direction: column;z-index: 1;position: relative;background-color: white;}#sk-container-id-57 div.sk-parallel-item:first-child::after {align-self: flex-end;width: 50%;}#sk-container-id-57 div.sk-parallel-item:last-child::after {align-self: flex-start;width: 50%;}#sk-container-id-57 div.sk-parallel-item:only-child::after {width: 0;}#sk-container-id-57 div.sk-dashed-wrapped {border: 1px dashed gray;margin: 0 0.4em 0.5em 0.4em;box-sizing: border-box;padding-bottom: 0.4em;background-color: white;}#sk-container-id-57 div.sk-label label {font-family: monospace;font-weight: bold;display: inline-block;line-height: 1.2em;}#sk-container-id-57 div.sk-label-container {text-align: center;}#sk-container-id-57 div.sk-container {/* jupyter's `normalize.less` sets `[hidden] { display: none; }` but bootstrap.min.css set `[hidden] { display: none !important; }` so we also need the `!important` here to be able to override the default hidden behavior on the sphinx rendered scikit-learn.org. See: https://github.com/scikit-learn/scikit-learn/issues/21755 */display: inline-block !important;position: relative;}#sk-container-id-57 div.sk-text-repr-fallback {display: none;}</style><div id=\"sk-container-id-57\" class=\"sk-top-container\"><div class=\"sk-text-repr-fallback\"><pre>XGBClassifier(base_score=None, booster=None, callbacks=None,\n",
       "              colsample_bylevel=None, colsample_bynode=None,\n",
       "              colsample_bytree=None, early_stopping_rounds=None,\n",
       "              enable_categorical=False, eval_metric=None, feature_types=None,\n",
       "              gamma=None, gpu_id=None, grow_policy=None, importance_type=None,\n",
       "              interaction_constraints=None, learning_rate=0.05, max_bin=None,\n",
       "              max_cat_threshold=None, max_cat_to_onehot=None,\n",
       "              max_delta_step=None, max_depth=2, max_leaves=None,\n",
       "              min_child_weight=None, missing=nan, monotone_constraints=None,\n",
       "              n_estimators=250, n_jobs=None, num_parallel_tree=None,\n",
       "              predictor=None, random_state=3, ...)</pre><b>In a Jupyter environment, please rerun this cell to show the HTML representation or trust the notebook. <br />On GitHub, the HTML representation is unable to render, please try loading this page with nbviewer.org.</b></div><div class=\"sk-container\" hidden><div class=\"sk-item\"><div class=\"sk-estimator sk-toggleable\"><input class=\"sk-toggleable__control sk-hidden--visually\" id=\"sk-estimator-id-57\" type=\"checkbox\" checked><label for=\"sk-estimator-id-57\" class=\"sk-toggleable__label sk-toggleable__label-arrow\">XGBClassifier</label><div class=\"sk-toggleable__content\"><pre>XGBClassifier(base_score=None, booster=None, callbacks=None,\n",
       "              colsample_bylevel=None, colsample_bynode=None,\n",
       "              colsample_bytree=None, early_stopping_rounds=None,\n",
       "              enable_categorical=False, eval_metric=None, feature_types=None,\n",
       "              gamma=None, gpu_id=None, grow_policy=None, importance_type=None,\n",
       "              interaction_constraints=None, learning_rate=0.05, max_bin=None,\n",
       "              max_cat_threshold=None, max_cat_to_onehot=None,\n",
       "              max_delta_step=None, max_depth=2, max_leaves=None,\n",
       "              min_child_weight=None, missing=nan, monotone_constraints=None,\n",
       "              n_estimators=250, n_jobs=None, num_parallel_tree=None,\n",
       "              predictor=None, random_state=3, ...)</pre></div></div></div></div></div>"
      ],
      "text/plain": [
       "XGBClassifier(base_score=None, booster=None, callbacks=None,\n",
       "              colsample_bylevel=None, colsample_bynode=None,\n",
       "              colsample_bytree=None, early_stopping_rounds=None,\n",
       "              enable_categorical=False, eval_metric=None, feature_types=None,\n",
       "              gamma=None, gpu_id=None, grow_policy=None, importance_type=None,\n",
       "              interaction_constraints=None, learning_rate=0.05, max_bin=None,\n",
       "              max_cat_threshold=None, max_cat_to_onehot=None,\n",
       "              max_delta_step=None, max_depth=2, max_leaves=None,\n",
       "              min_child_weight=None, missing=nan, monotone_constraints=None,\n",
       "              n_estimators=250, n_jobs=None, num_parallel_tree=None,\n",
       "              predictor=None, random_state=3, ...)"
      ]
     },
     "execution_count": 802,
     "metadata": {},
     "output_type": "execute_result"
    }
   ],
   "source": [
    "xg = XGBClassifier(max_depth=2, learning_rate=0.05, n_estimators=250, objective='binary:logistic', random_state=3)\n",
    "xg.fit(x_treino,y_treino)"
   ]
  },
  {
   "cell_type": "code",
   "execution_count": 803,
   "metadata": {
    "colab": {
     "base_uri": "https://localhost:8080/"
    },
    "executionInfo": {
     "elapsed": 423,
     "status": "ok",
     "timestamp": 1685828799536,
     "user": {
      "displayName": "Luciano Galdino",
      "userId": "10237697037323960148"
     },
     "user_tz": 180
    },
    "id": "QrR1ZLZVQ5K4",
    "outputId": "d2f031c1-2b36-4d0e-e8f0-b007aa75989c"
   },
   "outputs": [
    {
     "data": {
      "text/plain": [
       "array([1, 0, 0, 0, 0, 0, 0, 0, 0, 0, 0, 0, 0, 1, 0, 1, 0, 1, 1, 1, 1, 1,\n",
       "       0, 0, 1, 0, 0, 1, 0, 1, 0, 1, 0, 1, 0, 1, 0, 1, 0, 1, 1, 0, 0, 0,\n",
       "       0, 1, 0, 0, 0, 1, 1, 1, 1, 0, 0, 0, 0, 0, 0, 1, 1, 1, 0, 0, 1, 0,\n",
       "       1, 1, 1, 0, 0, 1, 0, 0, 1, 0, 0, 0, 0, 0, 1, 1, 1, 0, 1, 0, 0, 0,\n",
       "       1, 1, 0, 0, 0, 1, 0, 0, 1, 0, 0, 0, 0, 0, 0, 0, 1, 0, 1, 0, 1, 1,\n",
       "       0, 1, 1, 0, 0, 0, 0, 0, 0, 0, 0, 0, 1, 0, 1, 0, 0, 0, 0, 0, 1, 0,\n",
       "       0, 0, 0, 0, 0, 1, 1, 0, 0, 0, 1, 0, 0, 1, 0, 0, 0, 0, 0, 1, 0, 0,\n",
       "       0, 1, 0, 1, 0, 1, 1, 0, 0, 1, 0, 1, 1, 1, 0, 0, 0])"
      ]
     },
     "execution_count": 803,
     "metadata": {},
     "output_type": "execute_result"
    }
   ],
   "source": [
    "previsoes_xg = xg.predict(x_teste)\n",
    "previsoes_xg"
   ]
  },
  {
   "cell_type": "code",
   "execution_count": 804,
   "metadata": {
    "id": "HSR36D1mRZpz"
   },
   "outputs": [],
   "source": [
    "from sklearn.metrics import accuracy_score, confusion_matrix, classification_report"
   ]
  },
  {
   "cell_type": "code",
   "execution_count": 805,
   "metadata": {
    "colab": {
     "base_uri": "https://localhost:8080/"
    },
    "executionInfo": {
     "elapsed": 7,
     "status": "ok",
     "timestamp": 1685828799536,
     "user": {
      "displayName": "Luciano Galdino",
      "userId": "10237697037323960148"
     },
     "user_tz": 180
    },
    "id": "UxMj0PznRZp0",
    "outputId": "29589b95-e081-42dc-ec2a-f2edd2835aa3"
   },
   "outputs": [
    {
     "name": "stdout",
     "output_type": "stream",
     "text": [
      "Acurácia: 96.49%\n"
     ]
    }
   ],
   "source": [
    "print(\"Acurácia: %.2f%%\" % (accuracy_score(y_teste, previsoes_xg) * 100.0))"
   ]
  },
  {
   "cell_type": "code",
   "execution_count": 806,
   "metadata": {
    "colab": {
     "base_uri": "https://localhost:8080/"
    },
    "executionInfo": {
     "elapsed": 6,
     "status": "ok",
     "timestamp": 1685828799536,
     "user": {
      "displayName": "Luciano Galdino",
      "userId": "10237697037323960148"
     },
     "user_tz": 180
    },
    "id": "5PcyMmFqRZp1",
    "outputId": "52542755-f4f9-45e7-d093-ba5931c8f9dc"
   },
   "outputs": [
    {
     "data": {
      "text/plain": [
       "array([[106,   2],\n",
       "       [  4,  59]])"
      ]
     },
     "execution_count": 806,
     "metadata": {},
     "output_type": "execute_result"
    }
   ],
   "source": [
    "confusion_matrix(y_teste, previsoes_xg)"
   ]
  },
  {
   "cell_type": "code",
   "execution_count": 807,
   "metadata": {
    "colab": {
     "base_uri": "https://localhost:8080/"
    },
    "executionInfo": {
     "elapsed": 7,
     "status": "ok",
     "timestamp": 1685828799537,
     "user": {
      "displayName": "Luciano Galdino",
      "userId": "10237697037323960148"
     },
     "user_tz": 180
    },
    "id": "fBYjluOzRZp2",
    "outputId": "890bfdba-5e19-4fbf-d1c3-870de18c3891"
   },
   "outputs": [
    {
     "name": "stdout",
     "output_type": "stream",
     "text": [
      "              precision    recall  f1-score   support\n",
      "\n",
      "           0       0.96      0.98      0.97       108\n",
      "           1       0.97      0.94      0.95        63\n",
      "\n",
      "    accuracy                           0.96       171\n",
      "   macro avg       0.97      0.96      0.96       171\n",
      "weighted avg       0.96      0.96      0.96       171\n",
      "\n"
     ]
    }
   ],
   "source": [
    "print(classification_report(y_teste, previsoes_xg))"
   ]
  },
  {
   "cell_type": "markdown",
   "metadata": {
    "id": "VLAUCC_t2dkX"
   },
   "source": [
    "**Análise dados de treino**"
   ]
  },
  {
   "cell_type": "code",
   "execution_count": 808,
   "metadata": {
    "colab": {
     "base_uri": "https://localhost:8080/"
    },
    "executionInfo": {
     "elapsed": 6,
     "status": "ok",
     "timestamp": 1685828799537,
     "user": {
      "displayName": "Luciano Galdino",
      "userId": "10237697037323960148"
     },
     "user_tz": 180
    },
    "id": "K5oak1Jy2dkY",
    "outputId": "447747c1-1669-443e-e3be-1cb76e84ad71"
   },
   "outputs": [
    {
     "data": {
      "text/plain": [
       "array([0, 0, 0, 1, 0, 0, 0, 0, 1, 1, 0, 0, 1, 0, 0, 0, 0, 1, 0, 0, 1, 1,\n",
       "       0, 0, 1, 1, 0, 0, 1, 0, 0, 1, 1, 1, 0, 0, 0, 1, 0, 0, 0, 0, 0, 1,\n",
       "       0, 1, 0, 1, 0, 1, 0, 1, 0, 0, 0, 0, 1, 0, 1, 0, 0, 0, 1, 0, 0, 0,\n",
       "       1, 0, 0, 1, 1, 0, 1, 0, 1, 0, 1, 1, 1, 1, 0, 1, 0, 1, 0, 1, 0, 1,\n",
       "       0, 0, 1, 0, 0, 0, 0, 0, 0, 0, 0, 0, 0, 0, 0, 0, 1, 0, 0, 0, 1, 0,\n",
       "       0, 0, 0, 0, 0, 1, 0, 1, 0, 0, 1, 0, 1, 1, 0, 1, 1, 0, 0, 1, 0, 0,\n",
       "       0, 1, 0, 0, 0, 0, 0, 1, 1, 0, 0, 0, 0, 1, 1, 0, 0, 0, 0, 1, 0, 0,\n",
       "       1, 0, 0, 1, 0, 1, 0, 0, 0, 0, 1, 1, 1, 1, 0, 1, 0, 1, 1, 0, 0, 0,\n",
       "       0, 0, 1, 0, 0, 1, 0, 0, 1, 1, 0, 0, 0, 1, 1, 0, 0, 1, 0, 0, 0, 1,\n",
       "       0, 1, 0, 1, 1, 1, 1, 0, 0, 0, 0, 1, 1, 0, 0, 0, 0, 0, 1, 0, 0, 1,\n",
       "       0, 0, 1, 1, 1, 1, 0, 0, 1, 0, 0, 0, 1, 1, 0, 0, 0, 0, 0, 1, 1, 1,\n",
       "       0, 1, 1, 0, 0, 0, 0, 0, 0, 1, 0, 0, 0, 0, 0, 0, 1, 1, 0, 1, 0, 1,\n",
       "       1, 0, 0, 0, 0, 0, 1, 1, 1, 0, 0, 1, 1, 0, 0, 1, 0, 1, 1, 0, 1, 0,\n",
       "       0, 0, 0, 0, 0, 0, 1, 1, 0, 0, 0, 1, 0, 0, 0, 0, 1, 0, 1, 1, 1, 0,\n",
       "       1, 0, 1, 0, 1, 1, 0, 0, 0, 0, 0, 0, 0, 0, 1, 1, 1, 1, 1, 0, 0, 0,\n",
       "       0, 0, 0, 0, 1, 0, 1, 0, 0, 0, 0, 0, 1, 1, 1, 0, 1, 0, 0, 1, 1, 1,\n",
       "       1, 0, 1, 1, 1, 0, 1, 0, 1, 0, 0, 1, 1, 0, 1, 0, 0, 0, 0, 1, 0, 0,\n",
       "       1, 0, 0, 0, 1, 1, 0, 0, 0, 1, 0, 0, 1, 0, 0, 0, 0, 0, 1, 1, 1, 0,\n",
       "       0, 0])"
      ]
     },
     "execution_count": 808,
     "metadata": {},
     "output_type": "execute_result"
    }
   ],
   "source": [
    "previsoes_treino = xg.predict(x_treino)\n",
    "previsoes_treino"
   ]
  },
  {
   "cell_type": "code",
   "execution_count": 809,
   "metadata": {
    "colab": {
     "base_uri": "https://localhost:8080/"
    },
    "executionInfo": {
     "elapsed": 5,
     "status": "ok",
     "timestamp": 1685828799537,
     "user": {
      "displayName": "Luciano Galdino",
      "userId": "10237697037323960148"
     },
     "user_tz": 180
    },
    "id": "70k-raF62dkZ",
    "outputId": "c16f734b-4b7e-418f-a1bc-e90cb87e81f5"
   },
   "outputs": [
    {
     "data": {
      "text/plain": [
       "1.0"
      ]
     },
     "execution_count": 809,
     "metadata": {},
     "output_type": "execute_result"
    }
   ],
   "source": [
    "accuracy_score(y_treino, previsoes_treino)"
   ]
  },
  {
   "cell_type": "code",
   "execution_count": 810,
   "metadata": {
    "colab": {
     "base_uri": "https://localhost:8080/"
    },
    "executionInfo": {
     "elapsed": 5,
     "status": "ok",
     "timestamp": 1685828799537,
     "user": {
      "displayName": "Luciano Galdino",
      "userId": "10237697037323960148"
     },
     "user_tz": 180
    },
    "id": "Hy7uFw9E2dkZ",
    "outputId": "3cb4435f-8809-43c3-8af5-35ee4fc8623e"
   },
   "outputs": [
    {
     "data": {
      "text/plain": [
       "array([[249,   0],\n",
       "       [  0, 149]])"
      ]
     },
     "execution_count": 810,
     "metadata": {},
     "output_type": "execute_result"
    }
   ],
   "source": [
    "confusion_matrix(y_treino, previsoes_treino)"
   ]
  },
  {
   "cell_type": "markdown",
   "metadata": {
    "id": "gHvG_uWZLARo"
   },
   "source": [
    "### **Validação Cruzada**"
   ]
  },
  {
   "cell_type": "code",
   "execution_count": 811,
   "metadata": {
    "id": "l3RZmFL_LARp"
   },
   "outputs": [],
   "source": [
    "from sklearn.model_selection import KFold\n",
    "from sklearn.model_selection import cross_val_score"
   ]
  },
  {
   "cell_type": "code",
   "execution_count": 812,
   "metadata": {
    "id": "BKmF7defLARq"
   },
   "outputs": [],
   "source": [
    "# Separando os dados em folds\n",
    "kfold = KFold(n_splits = 30, shuffle=True, random_state = 5)"
   ]
  },
  {
   "cell_type": "code",
   "execution_count": 813,
   "metadata": {
    "colab": {
     "base_uri": "https://localhost:8080/"
    },
    "executionInfo": {
     "elapsed": 3594,
     "status": "ok",
     "timestamp": 1685830159736,
     "user": {
      "displayName": "Luciano Galdino",
      "userId": "10237697037323960148"
     },
     "user_tz": 180
    },
    "id": "1h7FUmsWLARr",
    "outputId": "c7f21814-3114-4724-f8e5-f7f4766440ae"
   },
   "outputs": [
    {
     "name": "stdout",
     "output_type": "stream",
     "text": [
      "Acurácia Média: 96.29%\n"
     ]
    }
   ],
   "source": [
    "# Criando o modelo\n",
    "modelo = XGBClassifier(max_depth=2, learning_rate=0.05, n_estimators=250, objective='binary:logistic', random_state=3)\n",
    "resultado = cross_val_score(modelo, previsores_esc, alvo, cv = kfold)\n",
    "\n",
    "# Usamos a média e o desvio padrão\n",
    "print(\"Acurácia Média: %.2f%%\" % (resultado.mean() * 100.0))"
   ]
  },
  {
   "cell_type": "markdown",
   "metadata": {
    "id": "gkZCAe-OR3rW"
   },
   "source": [
    "XGboost = 96.49% - e 96.29% (validação cruzada) - XGBClassifier(max_depth=2, learning_rate=0.05, n_estimators=250, objective='binary:logistic', random_state=3) - previsores, alvo\n",
    "XGboost = 96.49% - e 96.29% (validação cruzada) - XGBClassifier(max_depth=2, learning_rate=0.05, n_estimators=250, objective='binary:logistic', random_state=3) - previsores_esc, alvo\n",
    "XGboost = 96.49% - e 96.29% (validação cruzada) - XGBClassifier(max_depth=2, learning_rate=0.05, n_estimators=250, objective='binary:logistic', random_state=3) - previsores_labelencoder, alvo\n",
    "XGboost = 96.49% - e 96.29% (validação cruzada) - XGBClassifier(max_depth=2, learning_rate=0.05, n_estimators=250, objective='binary:logistic', random_state=3) - previsores_labelencoder_esc, alvo\n",
    "\n",
    "XGboost = 96.49% - e 96.29% (validação cruzada) - XGBClassifier(max_depth=2, learning_rate=0.05, n_estimators=250, objective='binary:logistic', random_state=3) - previsores, alvo_labelencoder_ordinal\n",
    "XGboost = 96.49% - e 96.29% (validação cruzada) - XGBClassifier(max_depth=2, learning_rate=0.05, n_estimators=250, objective='binary:logistic', random_state=3) - previsores_esc, alvo_labelencoder_ordinal\n",
    "XGboost = 96.49% - e 96.29% (validação cruzada) - XGBClassifier(max_depth=2, learning_rate=0.05, n_estimators=250, objective='binary:logistic', random_state=3) - previsores_labelencoder, alvo_labelencoder_ordinal\n",
    "XGboost = 96.49% - e 96.29% (validação cruzada) - XGBClassifier(max_depth=2, learning_rate=0.05, n_estimators=250, objective='binary:logistic', random_state=3) - previsores_labelencoder_esc, alvo_labelencoder_ordinal\n",
    "\n",
    "**Melhores XGboost:\n",
    "XGboost = 96.49% - e 96.29% (validação cruzada) - XGBClassifier(max_depth=2, learning_rate=0.05, n_estimators=250, objective='binary:logistic', random_state=3) - previsores, alvo\n",
    "XGboost = 96.49% - e 96.29% (validação cruzada) - XGBClassifier(max_depth=2, learning_rate=0.05, n_estimators=250, objective='binary:logistic', random_state=3) - previsores_esc, alvo\n",
    "XGboost = 96.49% - e 96.29% (validação cruzada) - XGBClassifier(max_depth=2, learning_rate=0.05, n_estimators=250, objective='binary:logistic', random_state=3) - previsores_labelencoder, alvo\n",
    "XGboost = 96.49% - e 96.29% (validação cruzada) - XGBClassifier(max_depth=2, learning_rate=0.05, n_estimators=250, objective='binary:logistic', random_state=3) - previsores_labelencoder_esc, alvo\n",
    "XGboost = 96.49% - e 96.29% (validação cruzada) - XGBClassifier(max_depth=2, learning_rate=0.05, n_estimators=250, objective='binary:logistic', random_state=3) - previsores, alvo_labelencoder_ordinal\n",
    "XGboost = 96.49% - e 96.29% (validação cruzada) - XGBClassifier(max_depth=2, learning_rate=0.05, n_estimators=250, objective='binary:logistic', random_state=3) - previsores_esc, alvo_labelencoder_ordinal\n",
    "XGboost = 96.49% - e 96.29% (validação cruzada) - XGBClassifier(max_depth=2, learning_rate=0.05, n_estimators=250, objective='binary:logistic', random_state=3) - previsores_labelencoder, alvo_labelencoder_ordinal\n",
    "XGboost = 96.49% - e 96.29% (validação cruzada) - XGBClassifier(max_depth=2, learning_rate=0.05, n_estimators=250, objective='binary:logistic', random_state=3) - previsores_labelencoder_esc, alvo_labelencoder_ordinal\n",
    "Porem todos acertaram 100% no conjunto de teste, podendo ter a ocrrencia de overfitting**"
   ]
  },
  {
   "cell_type": "markdown",
   "metadata": {
    "id": "LLop9X5OVOfc"
   },
   "source": [
    "https://lightgbm.readthedocs.io/en/latest/pythonapi/lightgbm.train.html"
   ]
  },
  {
   "cell_type": "code",
   "execution_count": 884,
   "metadata": {
    "colab": {
     "base_uri": "https://localhost:8080/"
    },
    "executionInfo": {
     "elapsed": 4064,
     "status": "ok",
     "timestamp": 1662477561484,
     "user": {
      "displayName": "Luciano Galdino",
      "userId": "10237697037323960148"
     },
     "user_tz": 180
    },
    "id": "r2fYJevzt58X",
    "outputId": "fa65acd1-d56f-4c5e-9502-0394090b56a3"
   },
   "outputs": [
    {
     "name": "stdout",
     "output_type": "stream",
     "text": [
      "Requirement already satisfied: lightgbm in /home/mrzebodexxsz/anaconda3/lib/python3.11/site-packages (4.3.0)\n",
      "Requirement already satisfied: numpy in /home/mrzebodexxsz/anaconda3/lib/python3.11/site-packages (from lightgbm) (1.26.4)\n",
      "Requirement already satisfied: scipy in /home/mrzebodexxsz/anaconda3/lib/python3.11/site-packages (from lightgbm) (1.11.4)\n"
     ]
    }
   ],
   "source": [
    "# Instalação do Algoritmo\n",
    "!pip install lightgbm"
   ]
  },
  {
   "cell_type": "code",
   "execution_count": 885,
   "metadata": {
    "id": "HyJzU46uq9mQ"
   },
   "outputs": [],
   "source": [
    "import lightgbm as lgb"
   ]
  },
  {
   "cell_type": "code",
   "execution_count": 886,
   "metadata": {
    "id": "D7GfTX-TxWh2"
   },
   "outputs": [],
   "source": [
    "# Dataset para treino\n",
    "dataset = lgb.Dataset(x_treino,label=y_treino)"
   ]
  },
  {
   "cell_type": "markdown",
   "metadata": {
    "id": "sPZLUYzCqTWL",
    "jp-MarkdownHeadingCollapsed": true
   },
   "source": [
    "# **LIGHTGBM**"
   ]
  },
  {
   "cell_type": "code",
   "execution_count": null,
   "metadata": {},
   "outputs": [],
   "source": [
    "https://lightgbm.readthedocs.io/en/latest/pythonapi/lightgbm.train.html"
   ]
  },
  {
   "cell_type": "code",
   "execution_count": null,
   "metadata": {},
   "outputs": [],
   "source": [
    "# Instalação do Algoritmo\n",
    "!pip install lightgbm"
   ]
  },
  {
   "cell_type": "code",
   "execution_count": null,
   "metadata": {},
   "outputs": [],
   "source": [
    "import lightgbm as lgb"
   ]
  },
  {
   "cell_type": "code",
   "execution_count": null,
   "metadata": {},
   "outputs": [],
   "source": [
    "# Dataset para treino\n",
    "dataset = lgb.Dataset(x_treino,label=y_treino)"
   ]
  },
  {
   "cell_type": "markdown",
   "metadata": {
    "id": "9sYH7x7pjczh"
   },
   "source": [
    "**Hiperparâmetros**\n",
    "\n",
    "**Controle de ajuste**\n",
    "\n",
    "num_leaves : define o número de folhas a serem formadas em uma árvore. Não tem uma relação direta entre num_leaves e max_depth e, portanto, os dois não devem estar vinculados um ao outro.\n",
    "\n",
    "max_depth : especifica a profundidade máxima ou nível até o qual a árvore pode crescer.\n",
    "\n",
    "**Controle de velocidade**\n",
    "\n",
    "learning_rate: taxa de aprendizagem, determina o impacto de cada árvore no resultado final.\n",
    "\n",
    "max_bin : O valor menor de max_bin reduz muito tempo de procesamento, pois agrupa os valores do recurso em caixas discretas, o que é computacionalmente mais barato.\n",
    "\n",
    "**Controle de precisão**\n",
    "\n",
    "num_leaves : valor alto produz árvores mais profundas com maior precisão, mas leva ao overfitting.\n",
    "\n",
    "max_bin : valores altos tem efeito semelhante ao causado pelo aumento do valor de num_leaves e também torna mais lento o procedimento de treinamento."
   ]
  },
  {
   "cell_type": "code",
   "execution_count": 887,
   "metadata": {
    "id": "eRYtywqRxnRM"
   },
   "outputs": [],
   "source": [
    "# Parâmetros\n",
    "parametros = {'num_leaves':250, # número de folhas\n",
    "              'objective':'binary', # classificação Binária\n",
    "              'max_depth':2,\n",
    "              'learning_rate':.05,\n",
    "              'max_bin':100}"
   ]
  },
  {
   "cell_type": "code",
   "execution_count": 888,
   "metadata": {
    "id": "s-75IteevPFt"
   },
   "outputs": [
    {
     "name": "stdout",
     "output_type": "stream",
     "text": [
      "[LightGBM] [Info] Number of positive: 149, number of negative: 249\n",
      "[LightGBM] [Info] Auto-choosing col-wise multi-threading, the overhead of testing was 0.004266 seconds.\n",
      "You can set `force_col_wise=true` to remove the overhead.\n",
      "[LightGBM] [Info] Total Bins 3000\n",
      "[LightGBM] [Info] Number of data points in the train set: 398, number of used features: 30\n",
      "[LightGBM] [Info] [binary:BoostFromScore]: pavg=0.374372 -> initscore=-0.513507\n",
      "[LightGBM] [Info] Start training from score -0.513507\n",
      "[LightGBM] [Warning] No further splits with positive gain, best gain: -inf\n",
      "[LightGBM] [Warning] No further splits with positive gain, best gain: -inf\n",
      "[LightGBM] [Warning] No further splits with positive gain, best gain: -inf\n",
      "[LightGBM] [Warning] No further splits with positive gain, best gain: -inf\n",
      "[LightGBM] [Warning] No further splits with positive gain, best gain: -inf\n",
      "[LightGBM] [Warning] No further splits with positive gain, best gain: -inf\n",
      "[LightGBM] [Warning] No further splits with positive gain, best gain: -inf\n",
      "[LightGBM] [Warning] No further splits with positive gain, best gain: -inf\n",
      "[LightGBM] [Warning] No further splits with positive gain, best gain: -inf\n",
      "[LightGBM] [Warning] No further splits with positive gain, best gain: -inf\n"
     ]
    }
   ],
   "source": [
    "lgbm=lgb.train(parametros,dataset,num_boost_round=200)"
   ]
  },
  {
   "cell_type": "code",
   "execution_count": 912,
   "metadata": {},
   "outputs": [
    {
     "name": "stdout",
     "output_type": "stream",
     "text": [
      "[LightGBM] [Info] Number of positive: 149, number of negative: 249\n",
      "[LightGBM] [Info] Auto-choosing col-wise multi-threading, the overhead of testing was 0.005734 seconds.\n",
      "You can set `force_col_wise=true` to remove the overhead.\n",
      "[LightGBM] [Info] Total Bins 3000\n",
      "[LightGBM] [Info] Number of data points in the train set: 398, number of used features: 30\n",
      "[LightGBM] [Info] [binary:BoostFromScore]: pavg=0.374372 -> initscore=-0.513507\n",
      "[LightGBM] [Info] Start training from score -0.513507\n"
     ]
    },
    {
     "data": {
      "text/plain": [
       "datetime.timedelta(microseconds=106295)"
      ]
     },
     "execution_count": 912,
     "metadata": {},
     "output_type": "execute_result"
    }
   ],
   "source": [
    "# Marcação do tempo de execução\n",
    "from datetime import datetime\n",
    "inicio=datetime.now()\n",
    "lgbm=lgb.train(parametros,dataset)\n",
    "fim=datetime.now()\n",
    "\n",
    "tempo = fim - inicio\n",
    "tempo"
   ]
  },
  {
   "cell_type": "code",
   "execution_count": 890,
   "metadata": {
    "colab": {
     "base_uri": "https://localhost:8080/"
    },
    "executionInfo": {
     "elapsed": 257,
     "status": "ok",
     "timestamp": 1662477814289,
     "user": {
      "displayName": "Luciano Galdino",
      "userId": "10237697037323960148"
     },
     "user_tz": 180
    },
    "id": "FbY1sQrzvPFv",
    "outputId": "e28c998b-6f00-49a1-b6fd-57310686c714"
   },
   "outputs": [
    {
     "data": {
      "text/plain": [
       "array([0.97614691, 0.03818063, 0.01016664, 0.02657164, 0.00751271,\n",
       "       0.00975954, 0.02974303, 0.00874901, 0.01762794, 0.00596233,\n",
       "       0.20603235, 0.0563609 , 0.01349088, 0.46001366, 0.30390385,\n",
       "       0.92909284, 0.12182897, 0.99134263, 0.99275262, 0.99218284,\n",
       "       0.9322574 , 0.9800872 , 0.03181537, 0.00780198, 0.98256166,\n",
       "       0.00887689, 0.00604247, 0.94910771, 0.0102017 , 0.99372689,\n",
       "       0.00887689, 0.99061897, 0.08322696, 0.98542273, 0.007809  ,\n",
       "       0.95929397, 0.01680769, 0.9603403 , 0.00689979, 0.98914629,\n",
       "       0.47091367, 0.00747961, 0.46703509, 0.00970488, 0.21810155,\n",
       "       0.99253303, 0.007809  , 0.01477855, 0.01129781, 0.96094977,\n",
       "       0.99223539, 0.96496678, 0.98693564, 0.00668155, 0.0066986 ,\n",
       "       0.01027927, 0.02012097, 0.04465835, 0.0130796 , 0.99356544,\n",
       "       0.94261209, 0.980124  , 0.00461161, 0.01007769, 0.99356544,\n",
       "       0.41906305, 0.99224767, 0.99385407, 0.99153486, 0.01136134,\n",
       "       0.23675513, 0.99311673, 0.00927197, 0.5660571 , 0.9857204 ,\n",
       "       0.02575609, 0.00785306, 0.11887762, 0.00604247, 0.00975954,\n",
       "       0.97724958, 0.99307746, 0.99385407, 0.00604247, 0.97603769,\n",
       "       0.01139773, 0.01016664, 0.00573571, 0.99345938, 0.99385407,\n",
       "       0.00596233, 0.38686597, 0.50784747, 0.98101126, 0.02283033,\n",
       "       0.01861639, 0.99385407, 0.05475382, 0.01224232, 0.01136134,\n",
       "       0.00596233, 0.01021257, 0.03203671, 0.04072255, 0.9901998 ,\n",
       "       0.02920094, 0.99385407, 0.04432345, 0.29650724, 0.94351649,\n",
       "       0.0113902 , 0.99163853, 0.98297304, 0.04203836, 0.01079462,\n",
       "       0.01349088, 0.25724401, 0.00970488, 0.02575609, 0.00846434,\n",
       "       0.00900842, 0.01415246, 0.97126625, 0.04096496, 0.99275262,\n",
       "       0.26081697, 0.11314383, 0.007809  , 0.00755512, 0.01589989,\n",
       "       0.97794928, 0.01276717, 0.00887689, 0.24132014, 0.06926681,\n",
       "       0.00461161, 0.06783437, 0.83838678, 0.99385407, 0.00741323,\n",
       "       0.00705649, 0.01571309, 0.99123938, 0.00668155, 0.0148552 ,\n",
       "       0.99201947, 0.01680769, 0.20068843, 0.01283663, 0.01680769,\n",
       "       0.01267899, 0.75616524, 0.50351559, 0.32201831, 0.00975954,\n",
       "       0.96127393, 0.0110498 , 0.54462055, 0.01102915, 0.99311673,\n",
       "       0.99275262, 0.00874901, 0.14358748, 0.99385407, 0.00741323,\n",
       "       0.98783263, 0.92619484, 0.99163853, 0.05050271, 0.01573508,\n",
       "       0.01739686])"
      ]
     },
     "execution_count": 890,
     "metadata": {},
     "output_type": "execute_result"
    }
   ],
   "source": [
    "previsoes_lgbm = lgbm.predict(x_teste)\n",
    "previsoes_lgbm"
   ]
  },
  {
   "cell_type": "code",
   "execution_count": 891,
   "metadata": {
    "colab": {
     "base_uri": "https://localhost:8080/"
    },
    "executionInfo": {
     "elapsed": 259,
     "status": "ok",
     "timestamp": 1662477817927,
     "user": {
      "displayName": "Luciano Galdino",
      "userId": "10237697037323960148"
     },
     "user_tz": 180
    },
    "id": "eQ-eOobHzgdY",
    "outputId": "a47a2781-9979-47b2-ca6f-228d907cb1ba"
   },
   "outputs": [
    {
     "data": {
      "text/plain": [
       "(171,)"
      ]
     },
     "execution_count": 891,
     "metadata": {},
     "output_type": "execute_result"
    }
   ],
   "source": [
    "previsoes_lgbm.shape"
   ]
  },
  {
   "cell_type": "code",
   "execution_count": 892,
   "metadata": {
    "id": "bCK5052RyreS"
   },
   "outputs": [],
   "source": [
    "# Quando for menor que 5 considera 0 e quando for maior ou igual a 5 considera 1\n",
    "for i in range(0, 171):\n",
    "    if previsoes_lgbm[i] >= .5:\n",
    "       previsoes_lgbm[i] = 1\n",
    "    else:\n",
    "       previsoes_lgbm[i] = 0"
   ]
  },
  {
   "cell_type": "code",
   "execution_count": 893,
   "metadata": {
    "colab": {
     "base_uri": "https://localhost:8080/"
    },
    "executionInfo": {
     "elapsed": 351,
     "status": "ok",
     "timestamp": 1662477822908,
     "user": {
      "displayName": "Luciano Galdino",
      "userId": "10237697037323960148"
     },
     "user_tz": 180
    },
    "id": "X3kyhhXJzmtG",
    "outputId": "ddc6ac3d-8b08-41e4-9eab-ca9ebdc2bc93"
   },
   "outputs": [
    {
     "data": {
      "text/plain": [
       "array([1., 0., 0., 0., 0., 0., 0., 0., 0., 0., 0., 0., 0., 0., 0., 1., 0.,\n",
       "       1., 1., 1., 1., 1., 0., 0., 1., 0., 0., 1., 0., 1., 0., 1., 0., 1.,\n",
       "       0., 1., 0., 1., 0., 1., 0., 0., 0., 0., 0., 1., 0., 0., 0., 1., 1.,\n",
       "       1., 1., 0., 0., 0., 0., 0., 0., 1., 1., 1., 0., 0., 1., 0., 1., 1.,\n",
       "       1., 0., 0., 1., 0., 1., 1., 0., 0., 0., 0., 0., 1., 1., 1., 0., 1.,\n",
       "       0., 0., 0., 1., 1., 0., 0., 1., 1., 0., 0., 1., 0., 0., 0., 0., 0.,\n",
       "       0., 0., 1., 0., 1., 0., 0., 1., 0., 1., 1., 0., 0., 0., 0., 0., 0.,\n",
       "       0., 0., 0., 1., 0., 1., 0., 0., 0., 0., 0., 1., 0., 0., 0., 0., 0.,\n",
       "       0., 1., 1., 0., 0., 0., 1., 0., 0., 1., 0., 0., 0., 0., 0., 1., 1.,\n",
       "       0., 0., 1., 0., 1., 0., 1., 1., 0., 0., 1., 0., 1., 1., 1., 0., 0.,\n",
       "       0.])"
      ]
     },
     "execution_count": 893,
     "metadata": {},
     "output_type": "execute_result"
    }
   ],
   "source": [
    "previsoes_lgbm"
   ]
  },
  {
   "cell_type": "code",
   "execution_count": 894,
   "metadata": {
    "colab": {
     "base_uri": "https://localhost:8080/"
    },
    "executionInfo": {
     "elapsed": 246,
     "status": "ok",
     "timestamp": 1662477825619,
     "user": {
      "displayName": "Luciano Galdino",
      "userId": "10237697037323960148"
     },
     "user_tz": 180
    },
    "id": "wvItoNPgvPFw",
    "outputId": "cb607575-1c1d-45c4-b0da-55b064d7f9fc"
   },
   "outputs": [
    {
     "data": {
      "text/plain": [
       "array([1, 0, 0, 0, 0, 0, 0, 0, 0, 0, 0, 0, 0, 0, 0, 1, 0, 1, 1, 1, 1, 1,\n",
       "       0, 0, 1, 0, 0, 1, 0, 1, 0, 1, 0, 1, 0, 1, 0, 1, 0, 1, 1, 0, 1, 0,\n",
       "       0, 1, 0, 0, 0, 1, 1, 1, 1, 0, 0, 0, 0, 0, 0, 1, 1, 1, 0, 0, 1, 0,\n",
       "       1, 1, 1, 0, 0, 1, 0, 1, 1, 0, 0, 0, 0, 0, 1, 1, 1, 0, 1, 0, 0, 0,\n",
       "       1, 1, 0, 1, 0, 1, 0, 0, 1, 0, 0, 0, 0, 0, 0, 0, 1, 0, 1, 0, 1, 1,\n",
       "       0, 1, 1, 0, 0, 0, 0, 0, 0, 0, 0, 0, 1, 0, 1, 0, 0, 0, 0, 0, 1, 0,\n",
       "       0, 0, 0, 0, 0, 1, 1, 0, 0, 0, 1, 0, 0, 1, 0, 1, 0, 0, 0, 0, 0, 0,\n",
       "       0, 1, 0, 1, 0, 1, 1, 0, 0, 1, 0, 1, 1, 1, 0, 0, 0])"
      ]
     },
     "execution_count": 894,
     "metadata": {},
     "output_type": "execute_result"
    }
   ],
   "source": [
    "y_teste"
   ]
  },
  {
   "cell_type": "code",
   "execution_count": 895,
   "metadata": {
    "id": "7zmmlXg00NgO"
   },
   "outputs": [],
   "source": [
    "from sklearn.metrics import accuracy_score, confusion_matrix, classification_report"
   ]
  },
  {
   "cell_type": "code",
   "execution_count": 896,
   "metadata": {
    "colab": {
     "base_uri": "https://localhost:8080/"
    },
    "executionInfo": {
     "elapsed": 3,
     "status": "ok",
     "timestamp": 1662477828140,
     "user": {
      "displayName": "Luciano Galdino",
      "userId": "10237697037323960148"
     },
     "user_tz": 180
    },
    "id": "7jtEMCEd0NgP",
    "outputId": "cae83075-c073-43c9-aa66-4b0879352168"
   },
   "outputs": [
    {
     "name": "stdout",
     "output_type": "stream",
     "text": [
      "Acurácia: 95.32%\n"
     ]
    }
   ],
   "source": [
    "print(\"Acurácia: %.2f%%\" % (accuracy_score(y_teste, previsoes_lgbm) * 100.0))"
   ]
  },
  {
   "cell_type": "code",
   "execution_count": 897,
   "metadata": {
    "colab": {
     "base_uri": "https://localhost:8080/"
    },
    "executionInfo": {
     "elapsed": 261,
     "status": "ok",
     "timestamp": 1662477830165,
     "user": {
      "displayName": "Luciano Galdino",
      "userId": "10237697037323960148"
     },
     "user_tz": 180
    },
    "id": "Vi92nyDd0NgQ",
    "outputId": "6fef1a2f-ff41-4ded-b096-9ad29cc70b5f"
   },
   "outputs": [
    {
     "data": {
      "text/plain": [
       "array([[105,   3],\n",
       "       [  5,  58]])"
      ]
     },
     "execution_count": 897,
     "metadata": {},
     "output_type": "execute_result"
    }
   ],
   "source": [
    "confusion_matrix(y_teste, previsoes_lgbm)"
   ]
  },
  {
   "cell_type": "markdown",
   "metadata": {
    "id": "u3pNMaVs0NgR"
   },
   "source": [
    "**Análise dados de treino**"
   ]
  },
  {
   "cell_type": "code",
   "execution_count": 898,
   "metadata": {
    "id": "fS-C8nIw0NgR"
   },
   "outputs": [
    {
     "data": {
      "text/plain": [
       "array([0.01217818, 0.0148552 , 0.00780198, 0.96370672, 0.01027927,\n",
       "       0.00863329, 0.00696301, 0.007809  , 0.95131085, 0.99385407,\n",
       "       0.02626927, 0.14177776, 0.82009864, 0.00696301, 0.01739686,\n",
       "       0.06136193, 0.0113902 , 0.99311673, 0.00461161, 0.01248515,\n",
       "       0.99273863, 0.97815053, 0.00936556, 0.00746002, 0.99163853,\n",
       "       0.99385407, 0.01864839, 0.00789434, 0.59725581, 0.01007769,\n",
       "       0.00596233, 0.81205   , 0.99385407, 0.99254565, 0.007809  ,\n",
       "       0.01652675, 0.02866246, 0.99385407, 0.01051764, 0.02124003,\n",
       "       0.00604247, 0.01027927, 0.00751271, 0.99124676, 0.01861639,\n",
       "       0.99385407, 0.01528155, 0.98780617, 0.01162788, 0.97157499,\n",
       "       0.00970488, 0.91154483, 0.01102915, 0.05711927, 0.007809  ,\n",
       "       0.01136134, 0.99123938, 0.02623712, 0.99364765, 0.04011997,\n",
       "       0.02686039, 0.01334377, 0.99195852, 0.01349088, 0.00751271,\n",
       "       0.00865529, 0.98282381, 0.00596233, 0.05593339, 0.97962408,\n",
       "       0.93151309, 0.00780198, 0.99385407, 0.01136134, 0.86546497,\n",
       "       0.00874901, 0.95959361, 0.94037516, 0.96118553, 0.94668342,\n",
       "       0.01325605, 0.18354311, 0.01102915, 0.99058461, 0.30707648,\n",
       "       0.9207851 , 0.00797692, 0.98810269, 0.01289705, 0.27144485,\n",
       "       0.99311673, 0.01286061, 0.05482955, 0.00874901, 0.0209625 ,\n",
       "       0.02623712, 0.12869209, 0.0102081 , 0.00604247, 0.00842746,\n",
       "       0.26127646, 0.00614574, 0.0110498 , 0.00604247, 0.99356544,\n",
       "       0.07514278, 0.00865529, 0.00461161, 0.94136026, 0.00538681,\n",
       "       0.03070282, 0.03203671, 0.01027927, 0.01320669, 0.0118752 ,\n",
       "       0.99385407, 0.00461161, 0.99185463, 0.00916813, 0.02424017,\n",
       "       0.94831675, 0.01014097, 0.9771098 , 0.99034596, 0.00835838,\n",
       "       0.94901985, 0.99253303, 0.01570069, 0.01091463, 0.82696286,\n",
       "       0.00668155, 0.00604247, 0.01289705, 0.99237693, 0.01289705,\n",
       "       0.02760134, 0.01007769, 0.01631257, 0.25269215, 0.99237693,\n",
       "       0.99175387, 0.03497258, 0.02062308, 0.01163492, 0.02270504,\n",
       "       0.97229132, 0.99163853, 0.01007769, 0.00846434, 0.0118752 ,\n",
       "       0.02012097, 0.63391969, 0.02623712, 0.10515954, 0.99385407,\n",
       "       0.08451845, 0.18163111, 0.89367297, 0.01136134, 0.97974724,\n",
       "       0.12162346, 0.02959387, 0.01007769, 0.10401376, 0.99385407,\n",
       "       0.99307746, 0.34668263, 0.49557848, 0.01033317, 0.99307746,\n",
       "       0.00604247, 0.90966297, 0.99173015, 0.01338288, 0.05023654,\n",
       "       0.01215057, 0.39753573, 0.00668155, 0.98038955, 0.02883091,\n",
       "       0.14478339, 0.98478034, 0.02936428, 0.01039946, 0.97270856,\n",
       "       0.91152648, 0.00741323, 0.02833271, 0.00573571, 0.99288571,\n",
       "       0.86840199, 0.0977443 , 0.00538681, 0.98015336, 0.00975954,\n",
       "       0.0368608 , 0.0079584 , 0.98554866, 0.00874901, 0.99385407,\n",
       "       0.0596353 , 0.99163853, 0.97776157, 0.99356544, 0.98392022,\n",
       "       0.04102148, 0.01027927, 0.02126695, 0.00785306, 0.40924287,\n",
       "       0.96163062, 0.04072255, 0.01007769, 0.00780198, 0.00604247,\n",
       "       0.00751271, 0.85334341, 0.00677942, 0.01312296, 0.98753687,\n",
       "       0.00970488, 0.08451845, 0.98143587, 0.94352859, 0.99312222,\n",
       "       0.98850396, 0.00610862, 0.04524948, 0.98500184, 0.00975954,\n",
       "       0.00878775, 0.1681508 , 0.98548395, 0.96072885, 0.01357463,\n",
       "       0.01751315, 0.00668155, 0.02555282, 0.00596233, 0.98903172,\n",
       "       0.99212128, 0.99123938, 0.07253126, 0.99146588, 0.99307746,\n",
       "       0.05497332, 0.04400691, 0.01718828, 0.01289705, 0.00780198,\n",
       "       0.04545228, 0.98764203, 0.00604247, 0.01594122, 0.01354031,\n",
       "       0.12154215, 0.007809  , 0.06760762, 0.86691846, 0.99385407,\n",
       "       0.01338288, 0.99385407, 0.03598333, 0.9589746 , 0.83431282,\n",
       "       0.00689979, 0.04461574, 0.00741323, 0.07911339, 0.00911676,\n",
       "       0.99218284, 0.9836826 , 0.99385407, 0.01136134, 0.00604247,\n",
       "       0.99394598, 0.99105856, 0.01102915, 0.18900261, 0.84168371,\n",
       "       0.00741323, 0.92945734, 0.83546435, 0.01102915, 0.666929  ,\n",
       "       0.01006162, 0.01129781, 0.01762794, 0.02333046, 0.01062796,\n",
       "       0.00596233, 0.00874901, 0.99253303, 0.98984861, 0.08011524,\n",
       "       0.00927197, 0.01932223, 0.99192842, 0.01762794, 0.0511931 ,\n",
       "       0.00916813, 0.00970488, 0.99351621, 0.01007769, 0.98444677,\n",
       "       0.90782511, 0.99318089, 0.01325605, 0.94514487, 0.01866334,\n",
       "       0.99146588, 0.00863329, 0.98945669, 0.99385407, 0.01199572,\n",
       "       0.00607662, 0.0077668 , 0.00596233, 0.00573571, 0.00677942,\n",
       "       0.01504398, 0.02575609, 0.99218284, 0.99356544, 0.98902636,\n",
       "       0.95911899, 0.99025178, 0.09387602, 0.02658628, 0.02348417,\n",
       "       0.01146251, 0.01349088, 0.01504398, 0.00967332, 0.98649092,\n",
       "       0.0066986 , 0.91733467, 0.010477  , 0.11261475, 0.0424742 ,\n",
       "       0.2320051 , 0.01051764, 0.99385407, 0.97771456, 0.94880863,\n",
       "       0.0066986 , 0.99394598, 0.02062308, 0.00724948, 0.89411653,\n",
       "       0.99385407, 0.97440244, 0.96087214, 0.20729105, 0.99192842,\n",
       "       0.96580297, 0.98286816, 0.00808391, 0.99275262, 0.00747218,\n",
       "       0.99385407, 0.01214731, 0.0113902 , 0.96064716, 0.75676681,\n",
       "       0.12999611, 0.99385407, 0.00596233, 0.02012097, 0.00724948,\n",
       "       0.0271381 , 0.99173015, 0.02344187, 0.01320669, 0.99224716,\n",
       "       0.01272467, 0.08020538, 0.13190315, 0.98952176, 0.85947861,\n",
       "       0.05779086, 0.01866334, 0.02400151, 0.99385407, 0.09622077,\n",
       "       0.00604247, 0.99356544, 0.01739686, 0.03980878, 0.00741323,\n",
       "       0.39509049, 0.06545271, 0.99175387, 0.95776258, 0.95146901,\n",
       "       0.01129781, 0.00604247, 0.04993035])"
      ]
     },
     "execution_count": 898,
     "metadata": {},
     "output_type": "execute_result"
    }
   ],
   "source": [
    "previsoes_treino = lgbm.predict(x_treino)\n",
    "previsoes_treino"
   ]
  },
  {
   "cell_type": "code",
   "execution_count": 899,
   "metadata": {
    "id": "5ZTvZKs51umQ"
   },
   "outputs": [
    {
     "data": {
      "text/plain": [
       "(398,)"
      ]
     },
     "execution_count": 899,
     "metadata": {},
     "output_type": "execute_result"
    }
   ],
   "source": [
    "previsoes_treino.shape"
   ]
  },
  {
   "cell_type": "code",
   "execution_count": 900,
   "metadata": {
    "id": "y_Xb-SEN1bNL"
   },
   "outputs": [],
   "source": [
    "# Quando for menor que 5 considera 0 e quando for maior ou igual a 5 considera 1\n",
    "for i in range(0, 398):\n",
    "    if previsoes_treino[i] >= .5:\n",
    "       previsoes_treino[i] = 1\n",
    "    else:\n",
    "       previsoes_treino[i] = 0"
   ]
  },
  {
   "cell_type": "code",
   "execution_count": 901,
   "metadata": {
    "id": "ENkdM8Jd1oCJ"
   },
   "outputs": [
    {
     "data": {
      "text/plain": [
       "array([0., 0., 0., 1., 0., 0., 0., 0., 1., 1., 0., 0., 1., 0., 0., 0., 0.,\n",
       "       1., 0., 0., 1., 1., 0., 0., 1., 1., 0., 0., 1., 0., 0., 1., 1., 1.,\n",
       "       0., 0., 0., 1., 0., 0., 0., 0., 0., 1., 0., 1., 0., 1., 0., 1., 0.,\n",
       "       1., 0., 0., 0., 0., 1., 0., 1., 0., 0., 0., 1., 0., 0., 0., 1., 0.,\n",
       "       0., 1., 1., 0., 1., 0., 1., 0., 1., 1., 1., 1., 0., 0., 0., 1., 0.,\n",
       "       1., 0., 1., 0., 0., 1., 0., 0., 0., 0., 0., 0., 0., 0., 0., 0., 0.,\n",
       "       0., 0., 1., 0., 0., 0., 1., 0., 0., 0., 0., 0., 0., 1., 0., 1., 0.,\n",
       "       0., 1., 0., 1., 1., 0., 1., 1., 0., 0., 1., 0., 0., 0., 1., 0., 0.,\n",
       "       0., 0., 0., 1., 1., 0., 0., 0., 0., 1., 1., 0., 0., 0., 0., 1., 0.,\n",
       "       0., 1., 0., 0., 1., 0., 1., 0., 0., 0., 0., 1., 1., 0., 0., 0., 1.,\n",
       "       0., 1., 1., 0., 0., 0., 0., 0., 1., 0., 0., 1., 0., 0., 1., 1., 0.,\n",
       "       0., 0., 1., 1., 0., 0., 1., 0., 0., 0., 1., 0., 1., 0., 1., 1., 1.,\n",
       "       1., 0., 0., 0., 0., 0., 1., 0., 0., 0., 0., 0., 1., 0., 0., 1., 0.,\n",
       "       0., 1., 1., 1., 1., 0., 0., 1., 0., 0., 0., 1., 1., 0., 0., 0., 0.,\n",
       "       0., 1., 1., 1., 0., 1., 1., 0., 0., 0., 0., 0., 0., 1., 0., 0., 0.,\n",
       "       0., 0., 0., 1., 1., 0., 1., 0., 1., 1., 0., 0., 0., 0., 0., 1., 1.,\n",
       "       1., 0., 0., 1., 1., 0., 0., 1., 0., 1., 1., 0., 1., 0., 0., 0., 0.,\n",
       "       0., 0., 0., 1., 1., 0., 0., 0., 1., 0., 0., 0., 0., 1., 0., 1., 1.,\n",
       "       1., 0., 1., 0., 1., 0., 1., 1., 0., 0., 0., 0., 0., 0., 0., 0., 1.,\n",
       "       1., 1., 1., 1., 0., 0., 0., 0., 0., 0., 0., 1., 0., 1., 0., 0., 0.,\n",
       "       0., 0., 1., 1., 1., 0., 1., 0., 0., 1., 1., 1., 1., 0., 1., 1., 1.,\n",
       "       0., 1., 0., 1., 0., 0., 1., 1., 0., 1., 0., 0., 0., 0., 1., 0., 0.,\n",
       "       1., 0., 0., 0., 1., 1., 0., 0., 0., 1., 0., 0., 1., 0., 0., 0., 0.,\n",
       "       0., 1., 1., 1., 0., 0., 0.])"
      ]
     },
     "execution_count": 901,
     "metadata": {},
     "output_type": "execute_result"
    }
   ],
   "source": [
    "previsoes_treino"
   ]
  },
  {
   "cell_type": "code",
   "execution_count": 902,
   "metadata": {
    "id": "NKAIaTGF0NgS"
   },
   "outputs": [
    {
     "data": {
      "text/plain": [
       "0.9899497487437185"
      ]
     },
     "execution_count": 902,
     "metadata": {},
     "output_type": "execute_result"
    }
   ],
   "source": [
    "accuracy_score(y_treino, previsoes_treino)"
   ]
  },
  {
   "cell_type": "code",
   "execution_count": 903,
   "metadata": {
    "id": "dDOEsI4W0NgT"
   },
   "outputs": [
    {
     "data": {
      "text/plain": [
       "array([[249,   0],\n",
       "       [  4, 145]])"
      ]
     },
     "execution_count": 903,
     "metadata": {},
     "output_type": "execute_result"
    }
   ],
   "source": [
    "confusion_matrix(y_treino, previsoes_treino)"
   ]
  },
  {
   "cell_type": "markdown",
   "metadata": {
    "id": "3hEGp61Q0NgT"
   },
   "source": [
    "### **Validação Cruzada**"
   ]
  },
  {
   "cell_type": "code",
   "execution_count": 904,
   "metadata": {
    "id": "RwR3Salk0NgT"
   },
   "outputs": [],
   "source": [
    "from sklearn.model_selection import KFold\n",
    "from sklearn.model_selection import cross_val_score"
   ]
  },
  {
   "cell_type": "code",
   "execution_count": 905,
   "metadata": {
    "id": "8Xnl-F4XSNTJ"
   },
   "outputs": [],
   "source": [
    "# Separando os dados em folds\n",
    "kfold = KFold(n_splits = 30, shuffle=True, random_state = 5)"
   ]
  },
  {
   "cell_type": "code",
   "execution_count": 906,
   "metadata": {
    "id": "Qq7iUdMxSNTL"
   },
   "outputs": [
    {
     "name": "stdout",
     "output_type": "stream",
     "text": [
      "[LightGBM] [Info] Number of positive: 209, number of negative: 341\n",
      "[LightGBM] [Info] Auto-choosing col-wise multi-threading, the overhead of testing was 0.000268 seconds.\n",
      "You can set `force_col_wise=true` to remove the overhead.\n",
      "[LightGBM] [Info] Total Bins 3000\n",
      "[LightGBM] [Info] Number of data points in the train set: 550, number of used features: 30\n",
      "[LightGBM] [Info] [binary:BoostFromScore]: pavg=0.380000 -> initscore=-0.489548\n",
      "[LightGBM] [Info] Start training from score -0.489548\n",
      "[LightGBM] [Info] Number of positive: 203, number of negative: 347\n",
      "[LightGBM] [Info] Auto-choosing col-wise multi-threading, the overhead of testing was 0.000199 seconds.\n",
      "You can set `force_col_wise=true` to remove the overhead.\n",
      "[LightGBM] [Info] Total Bins 3000\n",
      "[LightGBM] [Info] Number of data points in the train set: 550, number of used features: 30\n",
      "[LightGBM] [Info] [binary:BoostFromScore]: pavg=0.369091 -> initscore=-0.536119\n",
      "[LightGBM] [Info] Start training from score -0.536119\n",
      "[LightGBM] [Info] Number of positive: 205, number of negative: 345\n",
      "[LightGBM] [Info] Auto-choosing col-wise multi-threading, the overhead of testing was 0.000186 seconds.\n",
      "You can set `force_col_wise=true` to remove the overhead.\n",
      "[LightGBM] [Info] Total Bins 3000\n",
      "[LightGBM] [Info] Number of data points in the train set: 550, number of used features: 30\n",
      "[LightGBM] [Info] [binary:BoostFromScore]: pavg=0.372727 -> initscore=-0.520534\n",
      "[LightGBM] [Info] Start training from score -0.520534\n",
      "[LightGBM] [Info] Number of positive: 205, number of negative: 345\n",
      "[LightGBM] [Info] Auto-choosing col-wise multi-threading, the overhead of testing was 0.000191 seconds.\n",
      "You can set `force_col_wise=true` to remove the overhead.\n",
      "[LightGBM] [Info] Total Bins 3000\n",
      "[LightGBM] [Info] Number of data points in the train set: 550, number of used features: 30\n",
      "[LightGBM] [Info] [binary:BoostFromScore]: pavg=0.372727 -> initscore=-0.520534\n",
      "[LightGBM] [Info] Start training from score -0.520534\n",
      "[LightGBM] [Info] Number of positive: 199, number of negative: 351\n",
      "[LightGBM] [Info] Auto-choosing col-wise multi-threading, the overhead of testing was 0.000151 seconds.\n",
      "You can set `force_col_wise=true` to remove the overhead.\n",
      "[LightGBM] [Info] Total Bins 3000\n",
      "[LightGBM] [Info] Number of data points in the train set: 550, number of used features: 30\n",
      "[LightGBM] [Info] [binary:BoostFromScore]: pavg=0.361818 -> initscore=-0.567481\n",
      "[LightGBM] [Info] Start training from score -0.567481\n",
      "[LightGBM] [Info] Number of positive: 203, number of negative: 347\n",
      "[LightGBM] [Info] Auto-choosing col-wise multi-threading, the overhead of testing was 0.000207 seconds.\n",
      "You can set `force_col_wise=true` to remove the overhead.\n",
      "[LightGBM] [Info] Total Bins 3000\n",
      "[LightGBM] [Info] Number of data points in the train set: 550, number of used features: 30\n",
      "[LightGBM] [Info] [binary:BoostFromScore]: pavg=0.369091 -> initscore=-0.536119\n",
      "[LightGBM] [Info] Start training from score -0.536119\n",
      "[LightGBM] [Info] Number of positive: 206, number of negative: 344\n",
      "[LightGBM] [Info] Auto-choosing col-wise multi-threading, the overhead of testing was 0.000146 seconds.\n",
      "You can set `force_col_wise=true` to remove the overhead.\n",
      "[LightGBM] [Info] Total Bins 3000\n",
      "[LightGBM] [Info] Number of data points in the train set: 550, number of used features: 30\n",
      "[LightGBM] [Info] [binary:BoostFromScore]: pavg=0.374545 -> initscore=-0.512765\n",
      "[LightGBM] [Info] Start training from score -0.512765\n",
      "[LightGBM] [Info] Number of positive: 208, number of negative: 342\n",
      "[LightGBM] [Info] Auto-choosing col-wise multi-threading, the overhead of testing was 0.000141 seconds.\n",
      "You can set `force_col_wise=true` to remove the overhead.\n",
      "[LightGBM] [Info] Total Bins 3000\n",
      "[LightGBM] [Info] Number of data points in the train set: 550, number of used features: 30\n",
      "[LightGBM] [Info] [binary:BoostFromScore]: pavg=0.378182 -> initscore=-0.497273\n",
      "[LightGBM] [Info] Start training from score -0.497273\n",
      "[LightGBM] [Info] Number of positive: 209, number of negative: 341\n",
      "[LightGBM] [Info] Auto-choosing col-wise multi-threading, the overhead of testing was 0.000135 seconds.\n",
      "You can set `force_col_wise=true` to remove the overhead.\n",
      "[LightGBM] [Info] Total Bins 3000\n",
      "[LightGBM] [Info] Number of data points in the train set: 550, number of used features: 30\n",
      "[LightGBM] [Info] [binary:BoostFromScore]: pavg=0.380000 -> initscore=-0.489548\n",
      "[LightGBM] [Info] Start training from score -0.489548\n",
      "[LightGBM] [Info] Number of positive: 206, number of negative: 344\n",
      "[LightGBM] [Info] Auto-choosing col-wise multi-threading, the overhead of testing was 0.000133 seconds.\n",
      "You can set `force_col_wise=true` to remove the overhead.\n",
      "[LightGBM] [Info] Total Bins 3000\n",
      "[LightGBM] [Info] Number of data points in the train set: 550, number of used features: 30\n",
      "[LightGBM] [Info] [binary:BoostFromScore]: pavg=0.374545 -> initscore=-0.512765\n",
      "[LightGBM] [Info] Start training from score -0.512765\n",
      "[LightGBM] [Info] Number of positive: 204, number of negative: 346\n",
      "[LightGBM] [Info] Auto-choosing col-wise multi-threading, the overhead of testing was 0.000137 seconds.\n",
      "You can set `force_col_wise=true` to remove the overhead.\n",
      "[LightGBM] [Info] Total Bins 3000\n",
      "[LightGBM] [Info] Number of data points in the train set: 550, number of used features: 30\n",
      "[LightGBM] [Info] [binary:BoostFromScore]: pavg=0.370909 -> initscore=-0.528319\n",
      "[LightGBM] [Info] Start training from score -0.528319\n",
      "[LightGBM] [Info] Number of positive: 210, number of negative: 340\n",
      "[LightGBM] [Info] Auto-choosing col-wise multi-threading, the overhead of testing was 0.000152 seconds.\n",
      "You can set `force_col_wise=true` to remove the overhead.\n",
      "[LightGBM] [Info] Total Bins 3000\n",
      "[LightGBM] [Info] Number of data points in the train set: 550, number of used features: 30\n",
      "[LightGBM] [Info] [binary:BoostFromScore]: pavg=0.381818 -> initscore=-0.481838\n",
      "[LightGBM] [Info] Start training from score -0.481838\n",
      "[LightGBM] [Info] Number of positive: 204, number of negative: 346\n",
      "[LightGBM] [Info] Auto-choosing col-wise multi-threading, the overhead of testing was 0.000142 seconds.\n",
      "You can set `force_col_wise=true` to remove the overhead.\n",
      "[LightGBM] [Info] Total Bins 3000\n",
      "[LightGBM] [Info] Number of data points in the train set: 550, number of used features: 30\n",
      "[LightGBM] [Info] [binary:BoostFromScore]: pavg=0.370909 -> initscore=-0.528319\n",
      "[LightGBM] [Info] Start training from score -0.528319\n",
      "[LightGBM] [Info] Number of positive: 206, number of negative: 344\n",
      "[LightGBM] [Info] Auto-choosing col-wise multi-threading, the overhead of testing was 0.000142 seconds.\n",
      "You can set `force_col_wise=true` to remove the overhead.\n",
      "[LightGBM] [Info] Total Bins 3000\n",
      "[LightGBM] [Info] Number of data points in the train set: 550, number of used features: 30\n",
      "[LightGBM] [Info] [binary:BoostFromScore]: pavg=0.374545 -> initscore=-0.512765\n",
      "[LightGBM] [Info] Start training from score -0.512765\n",
      "[LightGBM] [Info] Number of positive: 204, number of negative: 346\n",
      "[LightGBM] [Info] Auto-choosing col-wise multi-threading, the overhead of testing was 0.000137 seconds.\n",
      "You can set `force_col_wise=true` to remove the overhead.\n",
      "[LightGBM] [Info] Total Bins 3000\n",
      "[LightGBM] [Info] Number of data points in the train set: 550, number of used features: 30\n",
      "[LightGBM] [Info] [binary:BoostFromScore]: pavg=0.370909 -> initscore=-0.528319\n",
      "[LightGBM] [Info] Start training from score -0.528319\n",
      "[LightGBM] [Info] Number of positive: 207, number of negative: 343\n",
      "[LightGBM] [Info] Auto-choosing col-wise multi-threading, the overhead of testing was 0.000138 seconds.\n",
      "You can set `force_col_wise=true` to remove the overhead.\n",
      "[LightGBM] [Info] Total Bins 3000\n",
      "[LightGBM] [Info] Number of data points in the train set: 550, number of used features: 30\n",
      "[LightGBM] [Info] [binary:BoostFromScore]: pavg=0.376364 -> initscore=-0.505012\n",
      "[LightGBM] [Info] Start training from score -0.505012\n",
      "[LightGBM] [Info] Number of positive: 204, number of negative: 346\n",
      "[LightGBM] [Info] Auto-choosing col-wise multi-threading, the overhead of testing was 0.000135 seconds.\n",
      "You can set `force_col_wise=true` to remove the overhead.\n",
      "[LightGBM] [Info] Total Bins 3000\n",
      "[LightGBM] [Info] Number of data points in the train set: 550, number of used features: 30\n",
      "[LightGBM] [Info] [binary:BoostFromScore]: pavg=0.370909 -> initscore=-0.528319\n",
      "[LightGBM] [Info] Start training from score -0.528319\n",
      "[LightGBM] [Info] Number of positive: 205, number of negative: 345\n",
      "[LightGBM] [Info] Auto-choosing col-wise multi-threading, the overhead of testing was 0.000134 seconds.\n",
      "You can set `force_col_wise=true` to remove the overhead.\n",
      "[LightGBM] [Info] Total Bins 3000\n",
      "[LightGBM] [Info] Number of data points in the train set: 550, number of used features: 30\n",
      "[LightGBM] [Info] [binary:BoostFromScore]: pavg=0.372727 -> initscore=-0.520534\n",
      "[LightGBM] [Info] Start training from score -0.520534\n",
      "[LightGBM] [Info] Number of positive: 206, number of negative: 344\n",
      "[LightGBM] [Info] Auto-choosing col-wise multi-threading, the overhead of testing was 0.000161 seconds.\n",
      "You can set `force_col_wise=true` to remove the overhead.\n",
      "[LightGBM] [Info] Total Bins 3000\n",
      "[LightGBM] [Info] Number of data points in the train set: 550, number of used features: 30\n",
      "[LightGBM] [Info] [binary:BoostFromScore]: pavg=0.374545 -> initscore=-0.512765\n",
      "[LightGBM] [Info] Start training from score -0.512765\n",
      "[LightGBM] [Info] Number of positive: 207, number of negative: 343\n",
      "[LightGBM] [Info] Auto-choosing col-wise multi-threading, the overhead of testing was 0.000211 seconds.\n",
      "You can set `force_col_wise=true` to remove the overhead.\n",
      "[LightGBM] [Info] Total Bins 3000\n",
      "[LightGBM] [Info] Number of data points in the train set: 550, number of used features: 30\n",
      "[LightGBM] [Info] [binary:BoostFromScore]: pavg=0.376364 -> initscore=-0.505012\n",
      "[LightGBM] [Info] Start training from score -0.505012\n",
      "[LightGBM] [Info] Number of positive: 205, number of negative: 345\n",
      "[LightGBM] [Info] Auto-choosing col-wise multi-threading, the overhead of testing was 0.000143 seconds.\n",
      "You can set `force_col_wise=true` to remove the overhead.\n",
      "[LightGBM] [Info] Total Bins 3000\n",
      "[LightGBM] [Info] Number of data points in the train set: 550, number of used features: 30\n",
      "[LightGBM] [Info] [binary:BoostFromScore]: pavg=0.372727 -> initscore=-0.520534\n",
      "[LightGBM] [Info] Start training from score -0.520534\n",
      "[LightGBM] [Info] Number of positive: 203, number of negative: 347\n",
      "[LightGBM] [Info] Auto-choosing col-wise multi-threading, the overhead of testing was 0.000210 seconds.\n",
      "You can set `force_col_wise=true` to remove the overhead.\n",
      "[LightGBM] [Info] Total Bins 3000\n",
      "[LightGBM] [Info] Number of data points in the train set: 550, number of used features: 30\n",
      "[LightGBM] [Info] [binary:BoostFromScore]: pavg=0.369091 -> initscore=-0.536119\n",
      "[LightGBM] [Info] Start training from score -0.536119\n",
      "[LightGBM] [Info] Number of positive: 204, number of negative: 346\n",
      "[LightGBM] [Info] Auto-choosing col-wise multi-threading, the overhead of testing was 0.000182 seconds.\n",
      "You can set `force_col_wise=true` to remove the overhead.\n",
      "[LightGBM] [Info] Total Bins 3000\n",
      "[LightGBM] [Info] Number of data points in the train set: 550, number of used features: 30\n",
      "[LightGBM] [Info] [binary:BoostFromScore]: pavg=0.370909 -> initscore=-0.528319\n",
      "[LightGBM] [Info] Start training from score -0.528319\n",
      "[LightGBM] [Info] Number of positive: 204, number of negative: 346\n",
      "[LightGBM] [Info] Auto-choosing col-wise multi-threading, the overhead of testing was 0.000147 seconds.\n",
      "You can set `force_col_wise=true` to remove the overhead.\n",
      "[LightGBM] [Info] Total Bins 3000\n",
      "[LightGBM] [Info] Number of data points in the train set: 550, number of used features: 30\n",
      "[LightGBM] [Info] [binary:BoostFromScore]: pavg=0.370909 -> initscore=-0.528319\n",
      "[LightGBM] [Info] Start training from score -0.528319\n",
      "[LightGBM] [Info] Number of positive: 202, number of negative: 348\n",
      "[LightGBM] [Info] Auto-choosing col-wise multi-threading, the overhead of testing was 0.000148 seconds.\n",
      "You can set `force_col_wise=true` to remove the overhead.\n",
      "[LightGBM] [Info] Total Bins 3000\n",
      "[LightGBM] [Info] Number of data points in the train set: 550, number of used features: 30\n",
      "[LightGBM] [Info] [binary:BoostFromScore]: pavg=0.367273 -> initscore=-0.543935\n",
      "[LightGBM] [Info] Start training from score -0.543935\n",
      "[LightGBM] [Info] Number of positive: 207, number of negative: 343\n",
      "[LightGBM] [Info] Auto-choosing col-wise multi-threading, the overhead of testing was 0.000214 seconds.\n",
      "You can set `force_col_wise=true` to remove the overhead.\n",
      "[LightGBM] [Info] Total Bins 3000\n",
      "[LightGBM] [Info] Number of data points in the train set: 550, number of used features: 30\n",
      "[LightGBM] [Info] [binary:BoostFromScore]: pavg=0.376364 -> initscore=-0.505012\n",
      "[LightGBM] [Info] Start training from score -0.505012\n",
      "[LightGBM] [Info] Number of positive: 203, number of negative: 347\n",
      "[LightGBM] [Info] Auto-choosing col-wise multi-threading, the overhead of testing was 0.000161 seconds.\n",
      "You can set `force_col_wise=true` to remove the overhead.\n",
      "[LightGBM] [Info] Total Bins 3000\n",
      "[LightGBM] [Info] Number of data points in the train set: 550, number of used features: 30\n",
      "[LightGBM] [Info] [binary:BoostFromScore]: pavg=0.369091 -> initscore=-0.536119\n",
      "[LightGBM] [Info] Start training from score -0.536119\n",
      "[LightGBM] [Info] Number of positive: 204, number of negative: 346\n",
      "[LightGBM] [Info] Auto-choosing col-wise multi-threading, the overhead of testing was 0.000143 seconds.\n",
      "You can set `force_col_wise=true` to remove the overhead.\n",
      "[LightGBM] [Info] Total Bins 3000\n",
      "[LightGBM] [Info] Number of data points in the train set: 550, number of used features: 30\n",
      "[LightGBM] [Info] [binary:BoostFromScore]: pavg=0.370909 -> initscore=-0.528319\n",
      "[LightGBM] [Info] Start training from score -0.528319\n",
      "[LightGBM] [Info] Number of positive: 203, number of negative: 347\n",
      "[LightGBM] [Info] Auto-choosing col-wise multi-threading, the overhead of testing was 0.000155 seconds.\n",
      "You can set `force_col_wise=true` to remove the overhead.\n",
      "[LightGBM] [Info] Total Bins 3000\n",
      "[LightGBM] [Info] Number of data points in the train set: 550, number of used features: 30\n",
      "[LightGBM] [Info] [binary:BoostFromScore]: pavg=0.369091 -> initscore=-0.536119\n",
      "[LightGBM] [Info] Start training from score -0.536119\n",
      "[LightGBM] [Info] Number of positive: 203, number of negative: 348\n",
      "[LightGBM] [Info] Auto-choosing col-wise multi-threading, the overhead of testing was 0.000179 seconds.\n",
      "You can set `force_col_wise=true` to remove the overhead.\n",
      "[LightGBM] [Info] Total Bins 3000\n",
      "[LightGBM] [Info] Number of data points in the train set: 551, number of used features: 30\n",
      "[LightGBM] [Info] [binary:BoostFromScore]: pavg=0.368421 -> initscore=-0.538997\n",
      "[LightGBM] [Info] Start training from score -0.538997\n",
      "Acurácia Média: 96.11%\n"
     ]
    }
   ],
   "source": [
    "# Criando o modelo\n",
    "modelo = lgb.LGBMClassifier(num_leaves = 250, objective = 'binary',\n",
    "                            max_depth = 2, learning_rate = .05, max_bin =100)\n",
    "resultado = cross_val_score(modelo, previsores_labelencoder, alvo, cv = kfold)\n",
    "\n",
    "# Usamos a média e o desvio padrão\n",
    "print(\"Acurácia Média: %.2f%%\" % (resultado.mean() * 100.0))"
   ]
  },
  {
   "cell_type": "markdown",
   "metadata": {
    "id": "W6ADUoMW0NgV"
   },
   "source": [
    "LightGBM = 95.32% (treino e teste)- e 96.11% (validação cruzada) - lgb.LGBMClassifier(num_leaves = 250, objective = 'binary',  max_depth = 2, learning_rate = .05, max_bin =100) - previsores, alvo\n",
    "LightGBM = 97.08% (treino e teste)- e 96.12% (validação cruzada) - lgb.LGBMClassifier(num_leaves = 250, objective = 'binary',  max_depth = 2, learning_rate = .05, max_bin =100) - previsores_esc, alvo\n",
    "LightGBM = 95.32% (treino e teste)- e 96.11% (validação cruzada) - lgb.LGBMClassifier(num_leaves = 250, objective = 'binary',  max_depth = 2, learning_rate = .05, max_bin =100) - previsores_labelencoder, alvo\n",
    "LightGBM = 97.08% (treino e teste)- e 85,93% (validação cruzada) - lgb.LGBMClassifier(num_leaves = 250, objective = 'binary',  max_depth = 2, learning_rate = .05, max_bin =100) - previsores_labelencoder_esc, alvo\n",
    "\n",
    "LightGBM = 95.32% (treino e teste)- e 96.11% (validação cruzada) - lgb.LGBMClassifier(num_leaves = 250, objective = 'binary',  max_depth = 2, learning_rate = .05, max_bin =100) - previsores, alvo_labelencoder_ordinal\n",
    "LightGBM = 97.08% (treino e teste)- e 96.12% (validação cruzada) - lgb.LGBMClassifier(num_leaves = 250, objective = 'binary',  max_depth = 2, learning_rate = .05, max_bin =100) - previsores_esc, alvo_labelencoder_ordinal\n",
    "LightGBM = 95.32% (treino e teste)- e 96.11% (validação cruzada) - lgb.LGBMClassifier(num_leaves = 250, objective = 'binary',  max_depth = 2, learning_rate = .05, max_bin =100) - previsores_labelencoder, alvo_labelencoder_ordinal\n",
    "LightGBM = 97.08% (treino e teste)- e 96.12% (validação cruzada) - lgb.LGBMClassifier(num_leaves = 250, objective = 'binary',  max_depth = 2, learning_rate = .05, max_bin =100) - previsores_labelencoder_esc, alvo_labelencoder_ordinal\n",
    "\n",
    "**Melhores LightGBM:\n",
    "LightGBM = 97.08% (treino e teste)- e 96.12% (validação cruzada) - lgb.LGBMClassifier(num_leaves = 250, objective = 'binary',  max_depth = 2, learning_rate = .05, max_bin =100) - previsores_esc, alvo\n",
    "LightGBM = 97.08% (treino e teste)- e 85,93% (validação cruzada) - lgb.LGBMClassifier(num_leaves = 250, objective = 'binary',  max_depth = 2, learning_rate = .05, max_bin =100) - previsores_labelencoder_esc, alvo\n",
    "LightGBM = 97.08% (treino e teste)- e 96.12% (validação cruzada) - lgb.LGBMClassifier(num_leaves = 250, objective = 'binary',  max_depth = 2, learning_rate = .05, max_bin =100) - previsores_esc, alvo_labelencoder_ordinal\n",
    "LightGBM = 97.08% (treino e teste)- e 96.12% (validação cruzada) - lgb.LGBMClassifier(num_leaves = 250, objective = 'binary',  max_depth = 2, learning_rate = .05, max_bin =100) - previsores_labelencoder_esc, alvo_labelencoder_ordinal**"
   ]
  },
  {
   "cell_type": "markdown",
   "metadata": {
    "id": "yKpYGEuWUChU"
   },
   "source": [
    "# **CATBOOST**"
   ]
  },
  {
   "cell_type": "markdown",
   "metadata": {
    "id": "LMqQ_NMTUChV"
   },
   "source": [
    "https://catboost.ai/en/docs/"
   ]
  },
  {
   "cell_type": "code",
   "execution_count": 917,
   "metadata": {
    "id": "Vkt7hfJVUChV"
   },
   "outputs": [
    {
     "name": "stdout",
     "output_type": "stream",
     "text": [
      "Requirement already satisfied: catboost in /home/mrzebodexxsz/anaconda3/lib/python3.11/site-packages (1.2.5)\n",
      "Requirement already satisfied: graphviz in /home/mrzebodexxsz/anaconda3/lib/python3.11/site-packages (from catboost) (0.20.3)\n",
      "Requirement already satisfied: matplotlib in /home/mrzebodexxsz/anaconda3/lib/python3.11/site-packages (from catboost) (3.8.0)\n",
      "Requirement already satisfied: numpy>=1.16.0 in /home/mrzebodexxsz/anaconda3/lib/python3.11/site-packages (from catboost) (1.26.4)\n",
      "Requirement already satisfied: pandas>=0.24 in /home/mrzebodexxsz/anaconda3/lib/python3.11/site-packages (from catboost) (2.1.4)\n",
      "Requirement already satisfied: scipy in /home/mrzebodexxsz/anaconda3/lib/python3.11/site-packages (from catboost) (1.11.4)\n",
      "Requirement already satisfied: plotly in /home/mrzebodexxsz/anaconda3/lib/python3.11/site-packages (from catboost) (5.9.0)\n",
      "Requirement already satisfied: six in /home/mrzebodexxsz/anaconda3/lib/python3.11/site-packages (from catboost) (1.16.0)\n",
      "Requirement already satisfied: python-dateutil>=2.8.2 in /home/mrzebodexxsz/anaconda3/lib/python3.11/site-packages (from pandas>=0.24->catboost) (2.8.2)\n",
      "Requirement already satisfied: pytz>=2020.1 in /home/mrzebodexxsz/anaconda3/lib/python3.11/site-packages (from pandas>=0.24->catboost) (2023.3.post1)\n",
      "Requirement already satisfied: tzdata>=2022.1 in /home/mrzebodexxsz/anaconda3/lib/python3.11/site-packages (from pandas>=0.24->catboost) (2023.3)\n",
      "Requirement already satisfied: contourpy>=1.0.1 in /home/mrzebodexxsz/anaconda3/lib/python3.11/site-packages (from matplotlib->catboost) (1.2.0)\n",
      "Requirement already satisfied: cycler>=0.10 in /home/mrzebodexxsz/anaconda3/lib/python3.11/site-packages (from matplotlib->catboost) (0.11.0)\n",
      "Requirement already satisfied: fonttools>=4.22.0 in /home/mrzebodexxsz/anaconda3/lib/python3.11/site-packages (from matplotlib->catboost) (4.25.0)\n",
      "Requirement already satisfied: kiwisolver>=1.0.1 in /home/mrzebodexxsz/anaconda3/lib/python3.11/site-packages (from matplotlib->catboost) (1.4.4)\n",
      "Requirement already satisfied: packaging>=20.0 in /home/mrzebodexxsz/anaconda3/lib/python3.11/site-packages (from matplotlib->catboost) (23.1)\n",
      "Requirement already satisfied: pillow>=6.2.0 in /home/mrzebodexxsz/anaconda3/lib/python3.11/site-packages (from matplotlib->catboost) (10.2.0)\n",
      "Requirement already satisfied: pyparsing>=2.3.1 in /home/mrzebodexxsz/anaconda3/lib/python3.11/site-packages (from matplotlib->catboost) (3.0.9)\n",
      "Requirement already satisfied: tenacity>=6.2.0 in /home/mrzebodexxsz/anaconda3/lib/python3.11/site-packages (from plotly->catboost) (8.2.2)\n"
     ]
    }
   ],
   "source": [
    "#Instalação\n",
    "!pip install catboost"
   ]
  },
  {
   "cell_type": "code",
   "execution_count": 918,
   "metadata": {
    "id": "kisDuh-RUChW"
   },
   "outputs": [],
   "source": [
    "from catboost import CatBoostClassifier"
   ]
  },
  {
   "cell_type": "code",
   "execution_count": 921,
   "metadata": {
    "id": "fochAJydUChX"
   },
   "outputs": [
    {
     "data": {
      "text/html": [
       "<div>\n",
       "<style scoped>\n",
       "    .dataframe tbody tr th:only-of-type {\n",
       "        vertical-align: middle;\n",
       "    }\n",
       "\n",
       "    .dataframe tbody tr th {\n",
       "        vertical-align: top;\n",
       "    }\n",
       "\n",
       "    .dataframe thead th {\n",
       "        text-align: right;\n",
       "    }\n",
       "</style>\n",
       "<table border=\"1\" class=\"dataframe\">\n",
       "  <thead>\n",
       "    <tr style=\"text-align: right;\">\n",
       "      <th></th>\n",
       "      <th>diagnosis</th>\n",
       "      <th>radius_mean</th>\n",
       "      <th>texture_mean</th>\n",
       "      <th>perimeter_mean</th>\n",
       "      <th>area_mean</th>\n",
       "      <th>smoothness_mean</th>\n",
       "      <th>compactness_mean</th>\n",
       "      <th>concavity_mean</th>\n",
       "      <th>concave points_mean</th>\n",
       "      <th>symmetry_mean</th>\n",
       "      <th>...</th>\n",
       "      <th>radius_worst</th>\n",
       "      <th>texture_worst</th>\n",
       "      <th>perimeter_worst</th>\n",
       "      <th>area_worst</th>\n",
       "      <th>smoothness_worst</th>\n",
       "      <th>compactness_worst</th>\n",
       "      <th>concavity_worst</th>\n",
       "      <th>concave points_worst</th>\n",
       "      <th>symmetry_worst</th>\n",
       "      <th>fractal_dimension_worst</th>\n",
       "    </tr>\n",
       "  </thead>\n",
       "  <tbody>\n",
       "    <tr>\n",
       "      <th>0</th>\n",
       "      <td>M</td>\n",
       "      <td>17.99</td>\n",
       "      <td>10.38</td>\n",
       "      <td>122.80</td>\n",
       "      <td>1001.0</td>\n",
       "      <td>0.11840</td>\n",
       "      <td>0.27760</td>\n",
       "      <td>0.30010</td>\n",
       "      <td>0.14710</td>\n",
       "      <td>0.2419</td>\n",
       "      <td>...</td>\n",
       "      <td>25.380</td>\n",
       "      <td>17.33</td>\n",
       "      <td>184.60</td>\n",
       "      <td>2019.0</td>\n",
       "      <td>0.16220</td>\n",
       "      <td>0.66560</td>\n",
       "      <td>0.7119</td>\n",
       "      <td>0.2654</td>\n",
       "      <td>0.4601</td>\n",
       "      <td>0.11890</td>\n",
       "    </tr>\n",
       "    <tr>\n",
       "      <th>1</th>\n",
       "      <td>M</td>\n",
       "      <td>20.57</td>\n",
       "      <td>17.77</td>\n",
       "      <td>132.90</td>\n",
       "      <td>1326.0</td>\n",
       "      <td>0.08474</td>\n",
       "      <td>0.07864</td>\n",
       "      <td>0.08690</td>\n",
       "      <td>0.07017</td>\n",
       "      <td>0.1812</td>\n",
       "      <td>...</td>\n",
       "      <td>24.990</td>\n",
       "      <td>23.41</td>\n",
       "      <td>158.80</td>\n",
       "      <td>1956.0</td>\n",
       "      <td>0.12380</td>\n",
       "      <td>0.18660</td>\n",
       "      <td>0.2416</td>\n",
       "      <td>0.1860</td>\n",
       "      <td>0.2750</td>\n",
       "      <td>0.08902</td>\n",
       "    </tr>\n",
       "    <tr>\n",
       "      <th>2</th>\n",
       "      <td>M</td>\n",
       "      <td>19.69</td>\n",
       "      <td>21.25</td>\n",
       "      <td>130.00</td>\n",
       "      <td>1203.0</td>\n",
       "      <td>0.10960</td>\n",
       "      <td>0.15990</td>\n",
       "      <td>0.19740</td>\n",
       "      <td>0.12790</td>\n",
       "      <td>0.2069</td>\n",
       "      <td>...</td>\n",
       "      <td>23.570</td>\n",
       "      <td>25.53</td>\n",
       "      <td>152.50</td>\n",
       "      <td>1709.0</td>\n",
       "      <td>0.14440</td>\n",
       "      <td>0.42450</td>\n",
       "      <td>0.4504</td>\n",
       "      <td>0.2430</td>\n",
       "      <td>0.3613</td>\n",
       "      <td>0.08758</td>\n",
       "    </tr>\n",
       "    <tr>\n",
       "      <th>3</th>\n",
       "      <td>M</td>\n",
       "      <td>11.42</td>\n",
       "      <td>20.38</td>\n",
       "      <td>77.58</td>\n",
       "      <td>386.1</td>\n",
       "      <td>0.14250</td>\n",
       "      <td>0.28390</td>\n",
       "      <td>0.24140</td>\n",
       "      <td>0.10520</td>\n",
       "      <td>0.2597</td>\n",
       "      <td>...</td>\n",
       "      <td>14.910</td>\n",
       "      <td>26.50</td>\n",
       "      <td>98.87</td>\n",
       "      <td>567.7</td>\n",
       "      <td>0.20980</td>\n",
       "      <td>0.86630</td>\n",
       "      <td>0.6869</td>\n",
       "      <td>0.2575</td>\n",
       "      <td>0.6638</td>\n",
       "      <td>0.17300</td>\n",
       "    </tr>\n",
       "    <tr>\n",
       "      <th>4</th>\n",
       "      <td>M</td>\n",
       "      <td>20.29</td>\n",
       "      <td>14.34</td>\n",
       "      <td>135.10</td>\n",
       "      <td>1297.0</td>\n",
       "      <td>0.10030</td>\n",
       "      <td>0.13280</td>\n",
       "      <td>0.19800</td>\n",
       "      <td>0.10430</td>\n",
       "      <td>0.1809</td>\n",
       "      <td>...</td>\n",
       "      <td>22.540</td>\n",
       "      <td>16.67</td>\n",
       "      <td>152.20</td>\n",
       "      <td>1575.0</td>\n",
       "      <td>0.13740</td>\n",
       "      <td>0.20500</td>\n",
       "      <td>0.4000</td>\n",
       "      <td>0.1625</td>\n",
       "      <td>0.2364</td>\n",
       "      <td>0.07678</td>\n",
       "    </tr>\n",
       "    <tr>\n",
       "      <th>...</th>\n",
       "      <td>...</td>\n",
       "      <td>...</td>\n",
       "      <td>...</td>\n",
       "      <td>...</td>\n",
       "      <td>...</td>\n",
       "      <td>...</td>\n",
       "      <td>...</td>\n",
       "      <td>...</td>\n",
       "      <td>...</td>\n",
       "      <td>...</td>\n",
       "      <td>...</td>\n",
       "      <td>...</td>\n",
       "      <td>...</td>\n",
       "      <td>...</td>\n",
       "      <td>...</td>\n",
       "      <td>...</td>\n",
       "      <td>...</td>\n",
       "      <td>...</td>\n",
       "      <td>...</td>\n",
       "      <td>...</td>\n",
       "      <td>...</td>\n",
       "    </tr>\n",
       "    <tr>\n",
       "      <th>564</th>\n",
       "      <td>M</td>\n",
       "      <td>21.56</td>\n",
       "      <td>22.39</td>\n",
       "      <td>142.00</td>\n",
       "      <td>1479.0</td>\n",
       "      <td>0.11100</td>\n",
       "      <td>0.11590</td>\n",
       "      <td>0.24390</td>\n",
       "      <td>0.13890</td>\n",
       "      <td>0.1726</td>\n",
       "      <td>...</td>\n",
       "      <td>25.450</td>\n",
       "      <td>26.40</td>\n",
       "      <td>166.10</td>\n",
       "      <td>2027.0</td>\n",
       "      <td>0.14100</td>\n",
       "      <td>0.21130</td>\n",
       "      <td>0.4107</td>\n",
       "      <td>0.2216</td>\n",
       "      <td>0.2060</td>\n",
       "      <td>0.07115</td>\n",
       "    </tr>\n",
       "    <tr>\n",
       "      <th>565</th>\n",
       "      <td>M</td>\n",
       "      <td>20.13</td>\n",
       "      <td>28.25</td>\n",
       "      <td>131.20</td>\n",
       "      <td>1261.0</td>\n",
       "      <td>0.09780</td>\n",
       "      <td>0.10340</td>\n",
       "      <td>0.14400</td>\n",
       "      <td>0.09791</td>\n",
       "      <td>0.1752</td>\n",
       "      <td>...</td>\n",
       "      <td>23.690</td>\n",
       "      <td>38.25</td>\n",
       "      <td>155.00</td>\n",
       "      <td>1731.0</td>\n",
       "      <td>0.11660</td>\n",
       "      <td>0.19220</td>\n",
       "      <td>0.3215</td>\n",
       "      <td>0.1628</td>\n",
       "      <td>0.2572</td>\n",
       "      <td>0.06637</td>\n",
       "    </tr>\n",
       "    <tr>\n",
       "      <th>566</th>\n",
       "      <td>M</td>\n",
       "      <td>16.60</td>\n",
       "      <td>28.08</td>\n",
       "      <td>108.30</td>\n",
       "      <td>858.1</td>\n",
       "      <td>0.08455</td>\n",
       "      <td>0.10230</td>\n",
       "      <td>0.09251</td>\n",
       "      <td>0.05302</td>\n",
       "      <td>0.1590</td>\n",
       "      <td>...</td>\n",
       "      <td>18.980</td>\n",
       "      <td>34.12</td>\n",
       "      <td>126.70</td>\n",
       "      <td>1124.0</td>\n",
       "      <td>0.11390</td>\n",
       "      <td>0.30940</td>\n",
       "      <td>0.3403</td>\n",
       "      <td>0.1418</td>\n",
       "      <td>0.2218</td>\n",
       "      <td>0.07820</td>\n",
       "    </tr>\n",
       "    <tr>\n",
       "      <th>567</th>\n",
       "      <td>M</td>\n",
       "      <td>20.60</td>\n",
       "      <td>29.33</td>\n",
       "      <td>140.10</td>\n",
       "      <td>1265.0</td>\n",
       "      <td>0.11780</td>\n",
       "      <td>0.27700</td>\n",
       "      <td>0.35140</td>\n",
       "      <td>0.15200</td>\n",
       "      <td>0.2397</td>\n",
       "      <td>...</td>\n",
       "      <td>25.740</td>\n",
       "      <td>39.42</td>\n",
       "      <td>184.60</td>\n",
       "      <td>1821.0</td>\n",
       "      <td>0.16500</td>\n",
       "      <td>0.86810</td>\n",
       "      <td>0.9387</td>\n",
       "      <td>0.2650</td>\n",
       "      <td>0.4087</td>\n",
       "      <td>0.12400</td>\n",
       "    </tr>\n",
       "    <tr>\n",
       "      <th>568</th>\n",
       "      <td>B</td>\n",
       "      <td>7.76</td>\n",
       "      <td>24.54</td>\n",
       "      <td>47.92</td>\n",
       "      <td>181.0</td>\n",
       "      <td>0.05263</td>\n",
       "      <td>0.04362</td>\n",
       "      <td>0.00000</td>\n",
       "      <td>0.00000</td>\n",
       "      <td>0.1587</td>\n",
       "      <td>...</td>\n",
       "      <td>9.456</td>\n",
       "      <td>30.37</td>\n",
       "      <td>59.16</td>\n",
       "      <td>268.6</td>\n",
       "      <td>0.08996</td>\n",
       "      <td>0.06444</td>\n",
       "      <td>0.0000</td>\n",
       "      <td>0.0000</td>\n",
       "      <td>0.2871</td>\n",
       "      <td>0.07039</td>\n",
       "    </tr>\n",
       "  </tbody>\n",
       "</table>\n",
       "<p>569 rows × 31 columns</p>\n",
       "</div>"
      ],
      "text/plain": [
       "    diagnosis  radius_mean  texture_mean  perimeter_mean  area_mean  \\\n",
       "0           M        17.99         10.38          122.80     1001.0   \n",
       "1           M        20.57         17.77          132.90     1326.0   \n",
       "2           M        19.69         21.25          130.00     1203.0   \n",
       "3           M        11.42         20.38           77.58      386.1   \n",
       "4           M        20.29         14.34          135.10     1297.0   \n",
       "..        ...          ...           ...             ...        ...   \n",
       "564         M        21.56         22.39          142.00     1479.0   \n",
       "565         M        20.13         28.25          131.20     1261.0   \n",
       "566         M        16.60         28.08          108.30      858.1   \n",
       "567         M        20.60         29.33          140.10     1265.0   \n",
       "568         B         7.76         24.54           47.92      181.0   \n",
       "\n",
       "     smoothness_mean  compactness_mean  concavity_mean  concave points_mean  \\\n",
       "0            0.11840           0.27760         0.30010              0.14710   \n",
       "1            0.08474           0.07864         0.08690              0.07017   \n",
       "2            0.10960           0.15990         0.19740              0.12790   \n",
       "3            0.14250           0.28390         0.24140              0.10520   \n",
       "4            0.10030           0.13280         0.19800              0.10430   \n",
       "..               ...               ...             ...                  ...   \n",
       "564          0.11100           0.11590         0.24390              0.13890   \n",
       "565          0.09780           0.10340         0.14400              0.09791   \n",
       "566          0.08455           0.10230         0.09251              0.05302   \n",
       "567          0.11780           0.27700         0.35140              0.15200   \n",
       "568          0.05263           0.04362         0.00000              0.00000   \n",
       "\n",
       "     symmetry_mean  ...  radius_worst  texture_worst  perimeter_worst  \\\n",
       "0           0.2419  ...        25.380          17.33           184.60   \n",
       "1           0.1812  ...        24.990          23.41           158.80   \n",
       "2           0.2069  ...        23.570          25.53           152.50   \n",
       "3           0.2597  ...        14.910          26.50            98.87   \n",
       "4           0.1809  ...        22.540          16.67           152.20   \n",
       "..             ...  ...           ...            ...              ...   \n",
       "564         0.1726  ...        25.450          26.40           166.10   \n",
       "565         0.1752  ...        23.690          38.25           155.00   \n",
       "566         0.1590  ...        18.980          34.12           126.70   \n",
       "567         0.2397  ...        25.740          39.42           184.60   \n",
       "568         0.1587  ...         9.456          30.37            59.16   \n",
       "\n",
       "     area_worst  smoothness_worst  compactness_worst  concavity_worst  \\\n",
       "0        2019.0           0.16220            0.66560           0.7119   \n",
       "1        1956.0           0.12380            0.18660           0.2416   \n",
       "2        1709.0           0.14440            0.42450           0.4504   \n",
       "3         567.7           0.20980            0.86630           0.6869   \n",
       "4        1575.0           0.13740            0.20500           0.4000   \n",
       "..          ...               ...                ...              ...   \n",
       "564      2027.0           0.14100            0.21130           0.4107   \n",
       "565      1731.0           0.11660            0.19220           0.3215   \n",
       "566      1124.0           0.11390            0.30940           0.3403   \n",
       "567      1821.0           0.16500            0.86810           0.9387   \n",
       "568       268.6           0.08996            0.06444           0.0000   \n",
       "\n",
       "     concave points_worst  symmetry_worst  fractal_dimension_worst  \n",
       "0                  0.2654          0.4601                  0.11890  \n",
       "1                  0.1860          0.2750                  0.08902  \n",
       "2                  0.2430          0.3613                  0.08758  \n",
       "3                  0.2575          0.6638                  0.17300  \n",
       "4                  0.1625          0.2364                  0.07678  \n",
       "..                    ...             ...                      ...  \n",
       "564                0.2216          0.2060                  0.07115  \n",
       "565                0.1628          0.2572                  0.06637  \n",
       "566                0.1418          0.2218                  0.07820  \n",
       "567                0.2650          0.4087                  0.12400  \n",
       "568                0.0000          0.2871                  0.07039  \n",
       "\n",
       "[569 rows x 31 columns]"
      ]
     },
     "execution_count": 921,
     "metadata": {},
     "output_type": "execute_result"
    }
   ],
   "source": [
    "df_original"
   ]
  },
  {
   "cell_type": "code",
   "execution_count": 922,
   "metadata": {
    "id": "mFw4wb_2CZWv"
   },
   "outputs": [],
   "source": [
    "previsores_catboost = df_original.iloc[:, 1:32]"
   ]
  },
  {
   "cell_type": "code",
   "execution_count": 923,
   "metadata": {
    "id": "6EGMtQa9Dwf7"
   },
   "outputs": [
    {
     "data": {
      "text/html": [
       "<div>\n",
       "<style scoped>\n",
       "    .dataframe tbody tr th:only-of-type {\n",
       "        vertical-align: middle;\n",
       "    }\n",
       "\n",
       "    .dataframe tbody tr th {\n",
       "        vertical-align: top;\n",
       "    }\n",
       "\n",
       "    .dataframe thead th {\n",
       "        text-align: right;\n",
       "    }\n",
       "</style>\n",
       "<table border=\"1\" class=\"dataframe\">\n",
       "  <thead>\n",
       "    <tr style=\"text-align: right;\">\n",
       "      <th></th>\n",
       "      <th>radius_mean</th>\n",
       "      <th>texture_mean</th>\n",
       "      <th>perimeter_mean</th>\n",
       "      <th>area_mean</th>\n",
       "      <th>smoothness_mean</th>\n",
       "      <th>compactness_mean</th>\n",
       "      <th>concavity_mean</th>\n",
       "      <th>concave points_mean</th>\n",
       "      <th>symmetry_mean</th>\n",
       "      <th>fractal_dimension_mean</th>\n",
       "      <th>...</th>\n",
       "      <th>radius_worst</th>\n",
       "      <th>texture_worst</th>\n",
       "      <th>perimeter_worst</th>\n",
       "      <th>area_worst</th>\n",
       "      <th>smoothness_worst</th>\n",
       "      <th>compactness_worst</th>\n",
       "      <th>concavity_worst</th>\n",
       "      <th>concave points_worst</th>\n",
       "      <th>symmetry_worst</th>\n",
       "      <th>fractal_dimension_worst</th>\n",
       "    </tr>\n",
       "  </thead>\n",
       "  <tbody>\n",
       "    <tr>\n",
       "      <th>0</th>\n",
       "      <td>17.99</td>\n",
       "      <td>10.38</td>\n",
       "      <td>122.80</td>\n",
       "      <td>1001.0</td>\n",
       "      <td>0.11840</td>\n",
       "      <td>0.27760</td>\n",
       "      <td>0.3001</td>\n",
       "      <td>0.14710</td>\n",
       "      <td>0.2419</td>\n",
       "      <td>0.07871</td>\n",
       "      <td>...</td>\n",
       "      <td>25.38</td>\n",
       "      <td>17.33</td>\n",
       "      <td>184.60</td>\n",
       "      <td>2019.0</td>\n",
       "      <td>0.1622</td>\n",
       "      <td>0.6656</td>\n",
       "      <td>0.7119</td>\n",
       "      <td>0.2654</td>\n",
       "      <td>0.4601</td>\n",
       "      <td>0.11890</td>\n",
       "    </tr>\n",
       "    <tr>\n",
       "      <th>1</th>\n",
       "      <td>20.57</td>\n",
       "      <td>17.77</td>\n",
       "      <td>132.90</td>\n",
       "      <td>1326.0</td>\n",
       "      <td>0.08474</td>\n",
       "      <td>0.07864</td>\n",
       "      <td>0.0869</td>\n",
       "      <td>0.07017</td>\n",
       "      <td>0.1812</td>\n",
       "      <td>0.05667</td>\n",
       "      <td>...</td>\n",
       "      <td>24.99</td>\n",
       "      <td>23.41</td>\n",
       "      <td>158.80</td>\n",
       "      <td>1956.0</td>\n",
       "      <td>0.1238</td>\n",
       "      <td>0.1866</td>\n",
       "      <td>0.2416</td>\n",
       "      <td>0.1860</td>\n",
       "      <td>0.2750</td>\n",
       "      <td>0.08902</td>\n",
       "    </tr>\n",
       "    <tr>\n",
       "      <th>2</th>\n",
       "      <td>19.69</td>\n",
       "      <td>21.25</td>\n",
       "      <td>130.00</td>\n",
       "      <td>1203.0</td>\n",
       "      <td>0.10960</td>\n",
       "      <td>0.15990</td>\n",
       "      <td>0.1974</td>\n",
       "      <td>0.12790</td>\n",
       "      <td>0.2069</td>\n",
       "      <td>0.05999</td>\n",
       "      <td>...</td>\n",
       "      <td>23.57</td>\n",
       "      <td>25.53</td>\n",
       "      <td>152.50</td>\n",
       "      <td>1709.0</td>\n",
       "      <td>0.1444</td>\n",
       "      <td>0.4245</td>\n",
       "      <td>0.4504</td>\n",
       "      <td>0.2430</td>\n",
       "      <td>0.3613</td>\n",
       "      <td>0.08758</td>\n",
       "    </tr>\n",
       "    <tr>\n",
       "      <th>3</th>\n",
       "      <td>11.42</td>\n",
       "      <td>20.38</td>\n",
       "      <td>77.58</td>\n",
       "      <td>386.1</td>\n",
       "      <td>0.14250</td>\n",
       "      <td>0.28390</td>\n",
       "      <td>0.2414</td>\n",
       "      <td>0.10520</td>\n",
       "      <td>0.2597</td>\n",
       "      <td>0.09744</td>\n",
       "      <td>...</td>\n",
       "      <td>14.91</td>\n",
       "      <td>26.50</td>\n",
       "      <td>98.87</td>\n",
       "      <td>567.7</td>\n",
       "      <td>0.2098</td>\n",
       "      <td>0.8663</td>\n",
       "      <td>0.6869</td>\n",
       "      <td>0.2575</td>\n",
       "      <td>0.6638</td>\n",
       "      <td>0.17300</td>\n",
       "    </tr>\n",
       "    <tr>\n",
       "      <th>4</th>\n",
       "      <td>20.29</td>\n",
       "      <td>14.34</td>\n",
       "      <td>135.10</td>\n",
       "      <td>1297.0</td>\n",
       "      <td>0.10030</td>\n",
       "      <td>0.13280</td>\n",
       "      <td>0.1980</td>\n",
       "      <td>0.10430</td>\n",
       "      <td>0.1809</td>\n",
       "      <td>0.05883</td>\n",
       "      <td>...</td>\n",
       "      <td>22.54</td>\n",
       "      <td>16.67</td>\n",
       "      <td>152.20</td>\n",
       "      <td>1575.0</td>\n",
       "      <td>0.1374</td>\n",
       "      <td>0.2050</td>\n",
       "      <td>0.4000</td>\n",
       "      <td>0.1625</td>\n",
       "      <td>0.2364</td>\n",
       "      <td>0.07678</td>\n",
       "    </tr>\n",
       "  </tbody>\n",
       "</table>\n",
       "<p>5 rows × 30 columns</p>\n",
       "</div>"
      ],
      "text/plain": [
       "   radius_mean  texture_mean  perimeter_mean  area_mean  smoothness_mean  \\\n",
       "0        17.99         10.38          122.80     1001.0          0.11840   \n",
       "1        20.57         17.77          132.90     1326.0          0.08474   \n",
       "2        19.69         21.25          130.00     1203.0          0.10960   \n",
       "3        11.42         20.38           77.58      386.1          0.14250   \n",
       "4        20.29         14.34          135.10     1297.0          0.10030   \n",
       "\n",
       "   compactness_mean  concavity_mean  concave points_mean  symmetry_mean  \\\n",
       "0           0.27760          0.3001              0.14710         0.2419   \n",
       "1           0.07864          0.0869              0.07017         0.1812   \n",
       "2           0.15990          0.1974              0.12790         0.2069   \n",
       "3           0.28390          0.2414              0.10520         0.2597   \n",
       "4           0.13280          0.1980              0.10430         0.1809   \n",
       "\n",
       "   fractal_dimension_mean  ...  radius_worst  texture_worst  perimeter_worst  \\\n",
       "0                 0.07871  ...         25.38          17.33           184.60   \n",
       "1                 0.05667  ...         24.99          23.41           158.80   \n",
       "2                 0.05999  ...         23.57          25.53           152.50   \n",
       "3                 0.09744  ...         14.91          26.50            98.87   \n",
       "4                 0.05883  ...         22.54          16.67           152.20   \n",
       "\n",
       "   area_worst  smoothness_worst  compactness_worst  concavity_worst  \\\n",
       "0      2019.0            0.1622             0.6656           0.7119   \n",
       "1      1956.0            0.1238             0.1866           0.2416   \n",
       "2      1709.0            0.1444             0.4245           0.4504   \n",
       "3       567.7            0.2098             0.8663           0.6869   \n",
       "4      1575.0            0.1374             0.2050           0.4000   \n",
       "\n",
       "   concave points_worst  symmetry_worst  fractal_dimension_worst  \n",
       "0                0.2654          0.4601                  0.11890  \n",
       "1                0.1860          0.2750                  0.08902  \n",
       "2                0.2430          0.3613                  0.08758  \n",
       "3                0.2575          0.6638                  0.17300  \n",
       "4                0.1625          0.2364                  0.07678  \n",
       "\n",
       "[5 rows x 30 columns]"
      ]
     },
     "execution_count": 923,
     "metadata": {},
     "output_type": "execute_result"
    }
   ],
   "source": [
    "previsores_catboost.head()"
   ]
  },
  {
   "cell_type": "code",
   "execution_count": 934,
   "metadata": {
    "id": "G0qli4gSEBbM"
   },
   "outputs": [
    {
     "data": {
      "text/plain": [
       "0      M\n",
       "1      M\n",
       "2      M\n",
       "3      M\n",
       "4      M\n",
       "      ..\n",
       "564    M\n",
       "565    M\n",
       "566    M\n",
       "567    M\n",
       "568    B\n",
       "Name: diagnosis, Length: 569, dtype: object"
      ]
     },
     "execution_count": 934,
     "metadata": {},
     "output_type": "execute_result"
    }
   ],
   "source": [
    "alvo_catboost = df_original.iloc[:, 0]\n",
    "alvo_catboost"
   ]
  },
  {
   "cell_type": "code",
   "execution_count": 935,
   "metadata": {
    "id": "hAcS1ULCC78V"
   },
   "outputs": [],
   "source": [
    "from sklearn.model_selection import train_test_split"
   ]
  },
  {
   "cell_type": "code",
   "execution_count": 951,
   "metadata": {
    "id": "OP69_qpGC78W"
   },
   "outputs": [],
   "source": [
    "x_treino, x_teste, y_treino, y_teste = train_test_split(previsores_catboost, alvo_catboost, test_size = 0.3, random_state = 0)"
   ]
  },
  {
   "cell_type": "code",
   "execution_count": 952,
   "metadata": {
    "id": "kM7Xaph4UChY"
   },
   "outputs": [],
   "source": [
    "catboost = CatBoostClassifier(task_type='CPU', iterations=100, learning_rate=0.1, depth = 8, random_state = 5,\n",
    "                              eval_metric=\"Accuracy\")"
   ]
  },
  {
   "cell_type": "code",
   "execution_count": 953,
   "metadata": {
    "id": "frZ9Fw1EUChY"
   },
   "outputs": [
    {
     "data": {
      "application/vnd.jupyter.widget-view+json": {
       "model_id": "e24a5713942745d1ac1a0177d8f0e8ca",
       "version_major": 2,
       "version_minor": 0
      },
      "text/plain": [
       "MetricVisualizer(layout=Layout(align_self='stretch', height='500px'))"
      ]
     },
     "metadata": {},
     "output_type": "display_data"
    },
    {
     "name": "stdout",
     "output_type": "stream",
     "text": [
      "0:\tlearn: 0.9597990\ttest: 0.9239766\tbest: 0.9239766 (0)\ttotal: 13.7ms\tremaining: 1.36s\n",
      "1:\tlearn: 0.9648241\ttest: 0.9239766\tbest: 0.9239766 (0)\ttotal: 22.9ms\tremaining: 1.12s\n",
      "2:\tlearn: 0.9748744\ttest: 0.9181287\tbest: 0.9239766 (0)\ttotal: 31.3ms\tremaining: 1.01s\n",
      "3:\tlearn: 0.9673367\ttest: 0.9239766\tbest: 0.9239766 (0)\ttotal: 39.6ms\tremaining: 950ms\n",
      "4:\tlearn: 0.9773869\ttest: 0.9298246\tbest: 0.9298246 (4)\ttotal: 47.6ms\tremaining: 905ms\n",
      "5:\tlearn: 0.9773869\ttest: 0.9473684\tbest: 0.9473684 (5)\ttotal: 58.1ms\tremaining: 910ms\n",
      "6:\tlearn: 0.9824121\ttest: 0.9473684\tbest: 0.9473684 (5)\ttotal: 66.4ms\tremaining: 883ms\n",
      "7:\tlearn: 0.9849246\ttest: 0.9473684\tbest: 0.9473684 (5)\ttotal: 74.4ms\tremaining: 855ms\n",
      "8:\tlearn: 0.9874372\ttest: 0.9532164\tbest: 0.9532164 (8)\ttotal: 82.6ms\tremaining: 835ms\n",
      "9:\tlearn: 0.9899497\ttest: 0.9590643\tbest: 0.9590643 (9)\ttotal: 91ms\tremaining: 819ms\n",
      "10:\tlearn: 0.9874372\ttest: 0.9590643\tbest: 0.9590643 (9)\ttotal: 99.9ms\tremaining: 808ms\n",
      "11:\tlearn: 0.9899497\ttest: 0.9590643\tbest: 0.9590643 (9)\ttotal: 109ms\tremaining: 798ms\n",
      "12:\tlearn: 0.9899497\ttest: 0.9532164\tbest: 0.9590643 (9)\ttotal: 118ms\tremaining: 793ms\n",
      "13:\tlearn: 0.9924623\ttest: 0.9590643\tbest: 0.9590643 (9)\ttotal: 128ms\tremaining: 786ms\n",
      "14:\tlearn: 0.9924623\ttest: 0.9590643\tbest: 0.9590643 (9)\ttotal: 137ms\tremaining: 774ms\n",
      "15:\tlearn: 0.9924623\ttest: 0.9649123\tbest: 0.9649123 (15)\ttotal: 146ms\tremaining: 764ms\n",
      "16:\tlearn: 0.9924623\ttest: 0.9649123\tbest: 0.9649123 (15)\ttotal: 155ms\tremaining: 755ms\n",
      "17:\tlearn: 0.9924623\ttest: 0.9649123\tbest: 0.9649123 (15)\ttotal: 163ms\tremaining: 744ms\n",
      "18:\tlearn: 0.9924623\ttest: 0.9707602\tbest: 0.9707602 (18)\ttotal: 172ms\tremaining: 732ms\n",
      "19:\tlearn: 0.9924623\ttest: 0.9649123\tbest: 0.9707602 (18)\ttotal: 180ms\tremaining: 719ms\n",
      "20:\tlearn: 0.9924623\ttest: 0.9649123\tbest: 0.9707602 (18)\ttotal: 189ms\tremaining: 709ms\n",
      "21:\tlearn: 0.9924623\ttest: 0.9649123\tbest: 0.9707602 (18)\ttotal: 197ms\tremaining: 698ms\n",
      "22:\tlearn: 0.9949749\ttest: 0.9590643\tbest: 0.9707602 (18)\ttotal: 205ms\tremaining: 685ms\n",
      "23:\tlearn: 0.9974874\ttest: 0.9590643\tbest: 0.9707602 (18)\ttotal: 212ms\tremaining: 672ms\n",
      "24:\tlearn: 0.9974874\ttest: 0.9707602\tbest: 0.9707602 (18)\ttotal: 221ms\tremaining: 663ms\n",
      "25:\tlearn: 0.9974874\ttest: 0.9707602\tbest: 0.9707602 (18)\ttotal: 229ms\tremaining: 652ms\n",
      "26:\tlearn: 0.9974874\ttest: 0.9707602\tbest: 0.9707602 (18)\ttotal: 237ms\tremaining: 640ms\n",
      "27:\tlearn: 0.9974874\ttest: 0.9649123\tbest: 0.9707602 (18)\ttotal: 244ms\tremaining: 629ms\n",
      "28:\tlearn: 0.9974874\ttest: 0.9649123\tbest: 0.9707602 (18)\ttotal: 252ms\tremaining: 618ms\n",
      "29:\tlearn: 0.9974874\ttest: 0.9649123\tbest: 0.9707602 (18)\ttotal: 261ms\tremaining: 608ms\n",
      "30:\tlearn: 1.0000000\ttest: 0.9707602\tbest: 0.9707602 (18)\ttotal: 270ms\tremaining: 600ms\n",
      "31:\tlearn: 1.0000000\ttest: 0.9707602\tbest: 0.9707602 (18)\ttotal: 278ms\tremaining: 592ms\n",
      "32:\tlearn: 1.0000000\ttest: 0.9707602\tbest: 0.9707602 (18)\ttotal: 286ms\tremaining: 581ms\n",
      "33:\tlearn: 1.0000000\ttest: 0.9707602\tbest: 0.9707602 (18)\ttotal: 294ms\tremaining: 571ms\n",
      "34:\tlearn: 1.0000000\ttest: 0.9707602\tbest: 0.9707602 (18)\ttotal: 302ms\tremaining: 561ms\n",
      "35:\tlearn: 1.0000000\ttest: 0.9707602\tbest: 0.9707602 (18)\ttotal: 310ms\tremaining: 552ms\n",
      "36:\tlearn: 1.0000000\ttest: 0.9707602\tbest: 0.9707602 (18)\ttotal: 318ms\tremaining: 542ms\n",
      "37:\tlearn: 1.0000000\ttest: 0.9707602\tbest: 0.9707602 (18)\ttotal: 327ms\tremaining: 533ms\n",
      "38:\tlearn: 1.0000000\ttest: 0.9707602\tbest: 0.9707602 (18)\ttotal: 335ms\tremaining: 524ms\n",
      "39:\tlearn: 1.0000000\ttest: 0.9707602\tbest: 0.9707602 (18)\ttotal: 343ms\tremaining: 515ms\n",
      "40:\tlearn: 1.0000000\ttest: 0.9707602\tbest: 0.9707602 (18)\ttotal: 351ms\tremaining: 505ms\n",
      "41:\tlearn: 1.0000000\ttest: 0.9707602\tbest: 0.9707602 (18)\ttotal: 358ms\tremaining: 495ms\n",
      "42:\tlearn: 1.0000000\ttest: 0.9707602\tbest: 0.9707602 (18)\ttotal: 366ms\tremaining: 485ms\n",
      "43:\tlearn: 1.0000000\ttest: 0.9707602\tbest: 0.9707602 (18)\ttotal: 374ms\tremaining: 475ms\n",
      "44:\tlearn: 1.0000000\ttest: 0.9707602\tbest: 0.9707602 (18)\ttotal: 382ms\tremaining: 467ms\n",
      "45:\tlearn: 1.0000000\ttest: 0.9707602\tbest: 0.9707602 (18)\ttotal: 389ms\tremaining: 457ms\n",
      "46:\tlearn: 1.0000000\ttest: 0.9707602\tbest: 0.9707602 (18)\ttotal: 397ms\tremaining: 448ms\n",
      "47:\tlearn: 1.0000000\ttest: 0.9707602\tbest: 0.9707602 (18)\ttotal: 405ms\tremaining: 438ms\n",
      "48:\tlearn: 1.0000000\ttest: 0.9707602\tbest: 0.9707602 (18)\ttotal: 413ms\tremaining: 430ms\n",
      "49:\tlearn: 1.0000000\ttest: 0.9707602\tbest: 0.9707602 (18)\ttotal: 421ms\tremaining: 421ms\n",
      "50:\tlearn: 1.0000000\ttest: 0.9707602\tbest: 0.9707602 (18)\ttotal: 429ms\tremaining: 412ms\n",
      "51:\tlearn: 1.0000000\ttest: 0.9707602\tbest: 0.9707602 (18)\ttotal: 436ms\tremaining: 403ms\n",
      "52:\tlearn: 1.0000000\ttest: 0.9707602\tbest: 0.9707602 (18)\ttotal: 445ms\tremaining: 394ms\n",
      "53:\tlearn: 1.0000000\ttest: 0.9707602\tbest: 0.9707602 (18)\ttotal: 454ms\tremaining: 387ms\n",
      "54:\tlearn: 1.0000000\ttest: 0.9707602\tbest: 0.9707602 (18)\ttotal: 462ms\tremaining: 378ms\n",
      "55:\tlearn: 1.0000000\ttest: 0.9707602\tbest: 0.9707602 (18)\ttotal: 470ms\tremaining: 369ms\n",
      "56:\tlearn: 1.0000000\ttest: 0.9707602\tbest: 0.9707602 (18)\ttotal: 478ms\tremaining: 360ms\n",
      "57:\tlearn: 1.0000000\ttest: 0.9649123\tbest: 0.9707602 (18)\ttotal: 485ms\tremaining: 351ms\n",
      "58:\tlearn: 1.0000000\ttest: 0.9649123\tbest: 0.9707602 (18)\ttotal: 493ms\tremaining: 342ms\n",
      "59:\tlearn: 1.0000000\ttest: 0.9649123\tbest: 0.9707602 (18)\ttotal: 500ms\tremaining: 333ms\n",
      "60:\tlearn: 1.0000000\ttest: 0.9649123\tbest: 0.9707602 (18)\ttotal: 507ms\tremaining: 324ms\n",
      "61:\tlearn: 1.0000000\ttest: 0.9649123\tbest: 0.9707602 (18)\ttotal: 513ms\tremaining: 314ms\n",
      "62:\tlearn: 1.0000000\ttest: 0.9649123\tbest: 0.9707602 (18)\ttotal: 520ms\tremaining: 305ms\n",
      "63:\tlearn: 1.0000000\ttest: 0.9649123\tbest: 0.9707602 (18)\ttotal: 527ms\tremaining: 296ms\n",
      "64:\tlearn: 1.0000000\ttest: 0.9649123\tbest: 0.9707602 (18)\ttotal: 533ms\tremaining: 287ms\n",
      "65:\tlearn: 1.0000000\ttest: 0.9649123\tbest: 0.9707602 (18)\ttotal: 540ms\tremaining: 278ms\n",
      "66:\tlearn: 1.0000000\ttest: 0.9649123\tbest: 0.9707602 (18)\ttotal: 547ms\tremaining: 269ms\n",
      "67:\tlearn: 1.0000000\ttest: 0.9649123\tbest: 0.9707602 (18)\ttotal: 554ms\tremaining: 260ms\n",
      "68:\tlearn: 1.0000000\ttest: 0.9649123\tbest: 0.9707602 (18)\ttotal: 560ms\tremaining: 252ms\n",
      "69:\tlearn: 1.0000000\ttest: 0.9649123\tbest: 0.9707602 (18)\ttotal: 567ms\tremaining: 243ms\n",
      "70:\tlearn: 1.0000000\ttest: 0.9649123\tbest: 0.9707602 (18)\ttotal: 574ms\tremaining: 234ms\n",
      "71:\tlearn: 1.0000000\ttest: 0.9649123\tbest: 0.9707602 (18)\ttotal: 581ms\tremaining: 226ms\n",
      "72:\tlearn: 1.0000000\ttest: 0.9649123\tbest: 0.9707602 (18)\ttotal: 588ms\tremaining: 217ms\n",
      "73:\tlearn: 1.0000000\ttest: 0.9649123\tbest: 0.9707602 (18)\ttotal: 594ms\tremaining: 209ms\n",
      "74:\tlearn: 1.0000000\ttest: 0.9649123\tbest: 0.9707602 (18)\ttotal: 601ms\tremaining: 200ms\n",
      "75:\tlearn: 1.0000000\ttest: 0.9649123\tbest: 0.9707602 (18)\ttotal: 608ms\tremaining: 192ms\n",
      "76:\tlearn: 1.0000000\ttest: 0.9649123\tbest: 0.9707602 (18)\ttotal: 616ms\tremaining: 184ms\n",
      "77:\tlearn: 1.0000000\ttest: 0.9649123\tbest: 0.9707602 (18)\ttotal: 623ms\tremaining: 176ms\n",
      "78:\tlearn: 1.0000000\ttest: 0.9649123\tbest: 0.9707602 (18)\ttotal: 630ms\tremaining: 167ms\n",
      "79:\tlearn: 1.0000000\ttest: 0.9649123\tbest: 0.9707602 (18)\ttotal: 637ms\tremaining: 159ms\n",
      "80:\tlearn: 1.0000000\ttest: 0.9649123\tbest: 0.9707602 (18)\ttotal: 645ms\tremaining: 151ms\n",
      "81:\tlearn: 1.0000000\ttest: 0.9649123\tbest: 0.9707602 (18)\ttotal: 653ms\tremaining: 143ms\n",
      "82:\tlearn: 1.0000000\ttest: 0.9649123\tbest: 0.9707602 (18)\ttotal: 660ms\tremaining: 135ms\n",
      "83:\tlearn: 1.0000000\ttest: 0.9649123\tbest: 0.9707602 (18)\ttotal: 667ms\tremaining: 127ms\n",
      "84:\tlearn: 1.0000000\ttest: 0.9649123\tbest: 0.9707602 (18)\ttotal: 674ms\tremaining: 119ms\n",
      "85:\tlearn: 1.0000000\ttest: 0.9649123\tbest: 0.9707602 (18)\ttotal: 681ms\tremaining: 111ms\n",
      "86:\tlearn: 1.0000000\ttest: 0.9649123\tbest: 0.9707602 (18)\ttotal: 688ms\tremaining: 103ms\n",
      "87:\tlearn: 1.0000000\ttest: 0.9707602\tbest: 0.9707602 (18)\ttotal: 695ms\tremaining: 94.7ms\n",
      "88:\tlearn: 1.0000000\ttest: 0.9707602\tbest: 0.9707602 (18)\ttotal: 701ms\tremaining: 86.7ms\n",
      "89:\tlearn: 1.0000000\ttest: 0.9707602\tbest: 0.9707602 (18)\ttotal: 708ms\tremaining: 78.7ms\n",
      "90:\tlearn: 1.0000000\ttest: 0.9707602\tbest: 0.9707602 (18)\ttotal: 715ms\tremaining: 70.7ms\n",
      "91:\tlearn: 1.0000000\ttest: 0.9707602\tbest: 0.9707602 (18)\ttotal: 722ms\tremaining: 62.8ms\n",
      "92:\tlearn: 1.0000000\ttest: 0.9707602\tbest: 0.9707602 (18)\ttotal: 729ms\tremaining: 54.9ms\n",
      "93:\tlearn: 1.0000000\ttest: 0.9707602\tbest: 0.9707602 (18)\ttotal: 736ms\tremaining: 47ms\n",
      "94:\tlearn: 1.0000000\ttest: 0.9707602\tbest: 0.9707602 (18)\ttotal: 743ms\tremaining: 39.1ms\n",
      "95:\tlearn: 1.0000000\ttest: 0.9707602\tbest: 0.9707602 (18)\ttotal: 750ms\tremaining: 31.3ms\n",
      "96:\tlearn: 1.0000000\ttest: 0.9707602\tbest: 0.9707602 (18)\ttotal: 757ms\tremaining: 23.4ms\n",
      "97:\tlearn: 1.0000000\ttest: 0.9707602\tbest: 0.9707602 (18)\ttotal: 764ms\tremaining: 15.6ms\n",
      "98:\tlearn: 1.0000000\ttest: 0.9707602\tbest: 0.9707602 (18)\ttotal: 771ms\tremaining: 7.79ms\n",
      "99:\tlearn: 1.0000000\ttest: 0.9707602\tbest: 0.9707602 (18)\ttotal: 778ms\tremaining: 0us\n",
      "\n",
      "bestTest = 0.9707602339\n",
      "bestIteration = 18\n",
      "\n",
      "Shrink model to first 19 iterations.\n"
     ]
    },
    {
     "data": {
      "text/plain": [
       "<catboost.core.CatBoostClassifier at 0x7dd801a86f50>"
      ]
     },
     "execution_count": 953,
     "metadata": {},
     "output_type": "execute_result"
    }
   ],
   "source": [
    "catboost.fit( x_treino, y_treino, plot=True, eval_set=(x_teste, y_teste))"
   ]
  },
  {
   "cell_type": "code",
   "execution_count": 954,
   "metadata": {
    "id": "MIJVraLTUChZ",
    "scrolled": true
   },
   "outputs": [
    {
     "data": {
      "text/plain": [
       "array(['M', 'B', 'B', 'B', 'B', 'B', 'B', 'B', 'B', 'B', 'B', 'B', 'B',\n",
       "       'M', 'B', 'M', 'B', 'M', 'M', 'M', 'M', 'M', 'B', 'B', 'M', 'B',\n",
       "       'B', 'M', 'B', 'M', 'B', 'M', 'B', 'M', 'B', 'M', 'B', 'M', 'B',\n",
       "       'M', 'B', 'B', 'M', 'B', 'B', 'M', 'B', 'B', 'B', 'M', 'M', 'M',\n",
       "       'M', 'B', 'B', 'B', 'B', 'B', 'B', 'M', 'M', 'M', 'B', 'B', 'M',\n",
       "       'B', 'M', 'M', 'M', 'B', 'B', 'M', 'B', 'M', 'M', 'B', 'B', 'B',\n",
       "       'B', 'B', 'M', 'M', 'M', 'B', 'M', 'B', 'B', 'B', 'M', 'M', 'B',\n",
       "       'B', 'B', 'M', 'B', 'B', 'M', 'B', 'B', 'B', 'B', 'B', 'B', 'B',\n",
       "       'M', 'B', 'M', 'B', 'M', 'M', 'B', 'M', 'M', 'B', 'B', 'B', 'B',\n",
       "       'B', 'B', 'B', 'B', 'B', 'M', 'B', 'M', 'B', 'B', 'B', 'B', 'B',\n",
       "       'M', 'B', 'B', 'B', 'B', 'B', 'B', 'M', 'M', 'B', 'B', 'B', 'M',\n",
       "       'B', 'B', 'M', 'B', 'B', 'B', 'B', 'B', 'M', 'B', 'B', 'B', 'M',\n",
       "       'B', 'M', 'B', 'M', 'M', 'B', 'B', 'M', 'B', 'M', 'M', 'M', 'B',\n",
       "       'B', 'B'], dtype=object)"
      ]
     },
     "execution_count": 954,
     "metadata": {},
     "output_type": "execute_result"
    }
   ],
   "source": [
    "previsoes_cat = catboost.predict(x_teste)\n",
    "previsoes_cat"
   ]
  },
  {
   "cell_type": "code",
   "execution_count": 955,
   "metadata": {
    "id": "dSrjeuL_UCha"
   },
   "outputs": [
    {
     "data": {
      "text/plain": [
       "512    M\n",
       "457    B\n",
       "439    B\n",
       "298    B\n",
       "37     B\n",
       "      ..\n",
       "7      M\n",
       "408    M\n",
       "523    B\n",
       "361    B\n",
       "553    B\n",
       "Name: diagnosis, Length: 171, dtype: object"
      ]
     },
     "execution_count": 955,
     "metadata": {},
     "output_type": "execute_result"
    }
   ],
   "source": [
    "y_teste"
   ]
  },
  {
   "cell_type": "code",
   "execution_count": 956,
   "metadata": {
    "id": "r6FeKp07UCha"
   },
   "outputs": [],
   "source": [
    "from sklearn.metrics import accuracy_score, confusion_matrix, classification_report"
   ]
  },
  {
   "cell_type": "code",
   "execution_count": 958,
   "metadata": {
    "id": "rknZXiSyUChb"
   },
   "outputs": [
    {
     "name": "stdout",
     "output_type": "stream",
     "text": [
      "Acurácia: 97.08%\n"
     ]
    }
   ],
   "source": [
    "print(\"Acurácia: %.2f%%\" % (accuracy_score(y_teste, previsoes_cat) * 100.0))"
   ]
  },
  {
   "cell_type": "code",
   "execution_count": 959,
   "metadata": {
    "id": "coB92zR9UChb"
   },
   "outputs": [
    {
     "data": {
      "text/plain": [
       "array([[106,   2],\n",
       "       [  3,  60]])"
      ]
     },
     "execution_count": 959,
     "metadata": {},
     "output_type": "execute_result"
    }
   ],
   "source": [
    "confusion_matrix(y_teste, previsoes_cat)"
   ]
  },
  {
   "cell_type": "markdown",
   "metadata": {
    "id": "IA02yBduUChc"
   },
   "source": [
    "**Análise dados de treino**"
   ]
  },
  {
   "cell_type": "code",
   "execution_count": 960,
   "metadata": {
    "id": "pu0f-5frUChc"
   },
   "outputs": [
    {
     "data": {
      "text/plain": [
       "array(['B', 'B', 'B', 'M', 'B', 'B', 'B', 'B', 'M', 'M', 'B', 'B', 'M',\n",
       "       'B', 'B', 'B', 'B', 'M', 'B', 'B', 'M', 'M', 'B', 'B', 'M', 'M',\n",
       "       'B', 'B', 'M', 'B', 'B', 'M', 'M', 'M', 'B', 'B', 'B', 'M', 'B',\n",
       "       'B', 'B', 'B', 'B', 'M', 'B', 'M', 'B', 'M', 'B', 'M', 'B', 'M',\n",
       "       'B', 'B', 'B', 'B', 'M', 'B', 'M', 'B', 'B', 'B', 'M', 'B', 'B',\n",
       "       'B', 'M', 'B', 'B', 'M', 'M', 'B', 'M', 'B', 'M', 'B', 'M', 'M',\n",
       "       'M', 'M', 'B', 'B', 'B', 'M', 'B', 'M', 'B', 'M', 'B', 'B', 'M',\n",
       "       'B', 'B', 'B', 'B', 'B', 'B', 'B', 'B', 'B', 'B', 'B', 'B', 'B',\n",
       "       'M', 'B', 'B', 'B', 'M', 'B', 'B', 'B', 'B', 'B', 'B', 'M', 'B',\n",
       "       'M', 'B', 'B', 'M', 'B', 'M', 'M', 'B', 'M', 'M', 'B', 'B', 'M',\n",
       "       'B', 'B', 'B', 'M', 'B', 'B', 'B', 'B', 'B', 'M', 'M', 'B', 'B',\n",
       "       'B', 'B', 'M', 'M', 'B', 'B', 'B', 'B', 'M', 'B', 'B', 'M', 'B',\n",
       "       'B', 'M', 'B', 'M', 'B', 'B', 'B', 'B', 'M', 'M', 'B', 'M', 'B',\n",
       "       'M', 'B', 'M', 'M', 'B', 'B', 'B', 'B', 'B', 'M', 'B', 'B', 'M',\n",
       "       'B', 'B', 'M', 'M', 'B', 'B', 'B', 'M', 'M', 'B', 'B', 'M', 'B',\n",
       "       'B', 'B', 'M', 'B', 'M', 'B', 'M', 'M', 'M', 'M', 'B', 'B', 'B',\n",
       "       'B', 'B', 'M', 'B', 'B', 'B', 'B', 'B', 'M', 'B', 'B', 'M', 'B',\n",
       "       'B', 'M', 'M', 'M', 'M', 'B', 'B', 'M', 'B', 'B', 'B', 'M', 'M',\n",
       "       'B', 'B', 'B', 'B', 'B', 'M', 'M', 'M', 'B', 'M', 'M', 'B', 'B',\n",
       "       'B', 'B', 'B', 'B', 'M', 'B', 'B', 'B', 'B', 'B', 'B', 'M', 'M',\n",
       "       'B', 'M', 'B', 'M', 'M', 'B', 'B', 'B', 'B', 'B', 'M', 'M', 'M',\n",
       "       'B', 'B', 'M', 'M', 'B', 'B', 'M', 'B', 'M', 'M', 'B', 'M', 'B',\n",
       "       'B', 'B', 'B', 'B', 'B', 'B', 'M', 'M', 'B', 'B', 'B', 'M', 'B',\n",
       "       'B', 'B', 'B', 'M', 'B', 'M', 'M', 'M', 'B', 'M', 'B', 'M', 'B',\n",
       "       'M', 'M', 'B', 'B', 'B', 'B', 'B', 'B', 'B', 'B', 'M', 'M', 'M',\n",
       "       'M', 'M', 'B', 'B', 'B', 'B', 'B', 'B', 'B', 'M', 'B', 'M', 'B',\n",
       "       'B', 'B', 'B', 'B', 'M', 'M', 'M', 'B', 'M', 'B', 'B', 'M', 'M',\n",
       "       'M', 'M', 'B', 'M', 'M', 'M', 'B', 'M', 'B', 'M', 'B', 'B', 'M',\n",
       "       'M', 'B', 'M', 'B', 'B', 'B', 'B', 'M', 'B', 'B', 'M', 'B', 'B',\n",
       "       'B', 'M', 'M', 'B', 'B', 'B', 'M', 'B', 'B', 'M', 'B', 'B', 'B',\n",
       "       'B', 'B', 'M', 'M', 'M', 'B', 'B', 'B'], dtype=object)"
      ]
     },
     "execution_count": 960,
     "metadata": {},
     "output_type": "execute_result"
    }
   ],
   "source": [
    "previsoes_treino = catboost.predict(x_treino)\n",
    "previsoes_treino"
   ]
  },
  {
   "cell_type": "code",
   "execution_count": 961,
   "metadata": {
    "id": "agSmZWOEUChc"
   },
   "outputs": [
    {
     "data": {
      "text/plain": [
       "0.992462311557789"
      ]
     },
     "execution_count": 961,
     "metadata": {},
     "output_type": "execute_result"
    }
   ],
   "source": [
    "accuracy_score(y_treino, previsoes_treino)"
   ]
  },
  {
   "cell_type": "code",
   "execution_count": 962,
   "metadata": {
    "id": "Oh06bx0IUChd"
   },
   "outputs": [
    {
     "data": {
      "text/plain": [
       "array([[249,   0],\n",
       "       [  3, 146]])"
      ]
     },
     "execution_count": 962,
     "metadata": {},
     "output_type": "execute_result"
    }
   ],
   "source": [
    "confusion_matrix(y_treino, previsoes_treino)"
   ]
  },
  {
   "cell_type": "markdown",
   "metadata": {
    "id": "2LgdzmpMUChd"
   },
   "source": [
    "### **Validação Cruzada**"
   ]
  },
  {
   "cell_type": "code",
   "execution_count": 963,
   "metadata": {
    "id": "N80OsHhNUChd"
   },
   "outputs": [],
   "source": [
    "from sklearn.model_selection import KFold\n",
    "from sklearn.model_selection import cross_val_score"
   ]
  },
  {
   "cell_type": "code",
   "execution_count": 964,
   "metadata": {
    "id": "vkhW9kFUUChd"
   },
   "outputs": [],
   "source": [
    "# Separando os dados em folds\n",
    "kfold = KFold(n_splits = 30, shuffle=True, random_state = 5)"
   ]
  },
  {
   "cell_type": "code",
   "execution_count": 965,
   "metadata": {
    "id": "lwgfw-cVUChd"
   },
   "outputs": [
    {
     "name": "stdout",
     "output_type": "stream",
     "text": [
      "0:\tlearn: 0.9581818\ttotal: 10.4ms\tremaining: 1.03s\n",
      "1:\tlearn: 0.9654545\ttotal: 18.7ms\tremaining: 916ms\n",
      "2:\tlearn: 0.9727273\ttotal: 26.9ms\tremaining: 871ms\n",
      "3:\tlearn: 0.9727273\ttotal: 35.5ms\tremaining: 851ms\n",
      "4:\tlearn: 0.9836364\ttotal: 45ms\tremaining: 856ms\n",
      "5:\tlearn: 0.9800000\ttotal: 53.5ms\tremaining: 839ms\n",
      "6:\tlearn: 0.9890909\ttotal: 61.7ms\tremaining: 819ms\n",
      "7:\tlearn: 0.9890909\ttotal: 69.3ms\tremaining: 797ms\n",
      "8:\tlearn: 0.9890909\ttotal: 77ms\tremaining: 779ms\n",
      "9:\tlearn: 0.9909091\ttotal: 84.6ms\tremaining: 761ms\n",
      "10:\tlearn: 0.9927273\ttotal: 92.3ms\tremaining: 747ms\n",
      "11:\tlearn: 0.9945455\ttotal: 100ms\tremaining: 735ms\n",
      "12:\tlearn: 0.9945455\ttotal: 109ms\tremaining: 729ms\n",
      "13:\tlearn: 0.9945455\ttotal: 117ms\tremaining: 720ms\n",
      "14:\tlearn: 0.9945455\ttotal: 125ms\tremaining: 710ms\n",
      "15:\tlearn: 0.9945455\ttotal: 133ms\tremaining: 701ms\n",
      "16:\tlearn: 0.9945455\ttotal: 143ms\tremaining: 696ms\n",
      "17:\tlearn: 0.9945455\ttotal: 151ms\tremaining: 688ms\n",
      "18:\tlearn: 0.9963636\ttotal: 159ms\tremaining: 676ms\n",
      "19:\tlearn: 0.9945455\ttotal: 166ms\tremaining: 665ms\n",
      "20:\tlearn: 0.9963636\ttotal: 174ms\tremaining: 655ms\n",
      "21:\tlearn: 0.9963636\ttotal: 182ms\tremaining: 646ms\n",
      "22:\tlearn: 0.9963636\ttotal: 190ms\tremaining: 636ms\n",
      "23:\tlearn: 0.9963636\ttotal: 198ms\tremaining: 627ms\n",
      "24:\tlearn: 0.9963636\ttotal: 206ms\tremaining: 617ms\n",
      "25:\tlearn: 0.9981818\ttotal: 214ms\tremaining: 610ms\n",
      "26:\tlearn: 0.9981818\ttotal: 223ms\tremaining: 603ms\n",
      "27:\tlearn: 0.9981818\ttotal: 232ms\tremaining: 596ms\n",
      "28:\tlearn: 0.9981818\ttotal: 240ms\tremaining: 588ms\n",
      "29:\tlearn: 0.9981818\ttotal: 249ms\tremaining: 580ms\n",
      "30:\tlearn: 0.9981818\ttotal: 258ms\tremaining: 574ms\n",
      "31:\tlearn: 1.0000000\ttotal: 266ms\tremaining: 565ms\n",
      "32:\tlearn: 1.0000000\ttotal: 275ms\tremaining: 559ms\n",
      "33:\tlearn: 1.0000000\ttotal: 285ms\tremaining: 553ms\n",
      "34:\tlearn: 1.0000000\ttotal: 294ms\tremaining: 546ms\n",
      "35:\tlearn: 1.0000000\ttotal: 304ms\tremaining: 540ms\n",
      "36:\tlearn: 1.0000000\ttotal: 313ms\tremaining: 533ms\n",
      "37:\tlearn: 1.0000000\ttotal: 323ms\tremaining: 527ms\n",
      "38:\tlearn: 1.0000000\ttotal: 333ms\tremaining: 522ms\n",
      "39:\tlearn: 1.0000000\ttotal: 342ms\tremaining: 513ms\n",
      "40:\tlearn: 1.0000000\ttotal: 351ms\tremaining: 506ms\n",
      "41:\tlearn: 1.0000000\ttotal: 360ms\tremaining: 498ms\n",
      "42:\tlearn: 1.0000000\ttotal: 369ms\tremaining: 489ms\n",
      "43:\tlearn: 1.0000000\ttotal: 377ms\tremaining: 480ms\n",
      "44:\tlearn: 1.0000000\ttotal: 390ms\tremaining: 476ms\n",
      "45:\tlearn: 1.0000000\ttotal: 400ms\tremaining: 469ms\n",
      "46:\tlearn: 1.0000000\ttotal: 408ms\tremaining: 460ms\n",
      "47:\tlearn: 1.0000000\ttotal: 417ms\tremaining: 451ms\n",
      "48:\tlearn: 1.0000000\ttotal: 425ms\tremaining: 442ms\n",
      "49:\tlearn: 1.0000000\ttotal: 433ms\tremaining: 433ms\n",
      "50:\tlearn: 1.0000000\ttotal: 442ms\tremaining: 425ms\n",
      "51:\tlearn: 1.0000000\ttotal: 450ms\tremaining: 415ms\n",
      "52:\tlearn: 1.0000000\ttotal: 458ms\tremaining: 407ms\n",
      "53:\tlearn: 1.0000000\ttotal: 467ms\tremaining: 398ms\n",
      "54:\tlearn: 1.0000000\ttotal: 478ms\tremaining: 391ms\n",
      "55:\tlearn: 1.0000000\ttotal: 487ms\tremaining: 383ms\n",
      "56:\tlearn: 1.0000000\ttotal: 496ms\tremaining: 374ms\n",
      "57:\tlearn: 1.0000000\ttotal: 505ms\tremaining: 366ms\n",
      "58:\tlearn: 1.0000000\ttotal: 514ms\tremaining: 357ms\n",
      "59:\tlearn: 1.0000000\ttotal: 522ms\tremaining: 348ms\n",
      "60:\tlearn: 1.0000000\ttotal: 530ms\tremaining: 339ms\n",
      "61:\tlearn: 1.0000000\ttotal: 539ms\tremaining: 330ms\n",
      "62:\tlearn: 1.0000000\ttotal: 547ms\tremaining: 321ms\n",
      "63:\tlearn: 1.0000000\ttotal: 555ms\tremaining: 312ms\n",
      "64:\tlearn: 1.0000000\ttotal: 563ms\tremaining: 303ms\n",
      "65:\tlearn: 1.0000000\ttotal: 571ms\tremaining: 294ms\n",
      "66:\tlearn: 1.0000000\ttotal: 579ms\tremaining: 285ms\n",
      "67:\tlearn: 1.0000000\ttotal: 587ms\tremaining: 276ms\n",
      "68:\tlearn: 1.0000000\ttotal: 596ms\tremaining: 268ms\n",
      "69:\tlearn: 1.0000000\ttotal: 605ms\tremaining: 259ms\n",
      "70:\tlearn: 1.0000000\ttotal: 613ms\tremaining: 250ms\n",
      "71:\tlearn: 1.0000000\ttotal: 621ms\tremaining: 242ms\n",
      "72:\tlearn: 1.0000000\ttotal: 630ms\tremaining: 233ms\n",
      "73:\tlearn: 1.0000000\ttotal: 638ms\tremaining: 224ms\n",
      "74:\tlearn: 1.0000000\ttotal: 647ms\tremaining: 216ms\n",
      "75:\tlearn: 1.0000000\ttotal: 656ms\tremaining: 207ms\n",
      "76:\tlearn: 1.0000000\ttotal: 665ms\tremaining: 199ms\n",
      "77:\tlearn: 1.0000000\ttotal: 672ms\tremaining: 190ms\n",
      "78:\tlearn: 1.0000000\ttotal: 680ms\tremaining: 181ms\n",
      "79:\tlearn: 1.0000000\ttotal: 688ms\tremaining: 172ms\n",
      "80:\tlearn: 1.0000000\ttotal: 695ms\tremaining: 163ms\n",
      "81:\tlearn: 1.0000000\ttotal: 703ms\tremaining: 154ms\n",
      "82:\tlearn: 1.0000000\ttotal: 710ms\tremaining: 146ms\n",
      "83:\tlearn: 1.0000000\ttotal: 717ms\tremaining: 137ms\n",
      "84:\tlearn: 1.0000000\ttotal: 724ms\tremaining: 128ms\n",
      "85:\tlearn: 1.0000000\ttotal: 731ms\tremaining: 119ms\n",
      "86:\tlearn: 1.0000000\ttotal: 738ms\tremaining: 110ms\n",
      "87:\tlearn: 1.0000000\ttotal: 745ms\tremaining: 102ms\n",
      "88:\tlearn: 1.0000000\ttotal: 753ms\tremaining: 93ms\n",
      "89:\tlearn: 1.0000000\ttotal: 760ms\tremaining: 84.4ms\n",
      "90:\tlearn: 1.0000000\ttotal: 767ms\tremaining: 75.9ms\n",
      "91:\tlearn: 1.0000000\ttotal: 774ms\tremaining: 67.3ms\n",
      "92:\tlearn: 1.0000000\ttotal: 782ms\tremaining: 58.9ms\n",
      "93:\tlearn: 1.0000000\ttotal: 791ms\tremaining: 50.5ms\n",
      "94:\tlearn: 1.0000000\ttotal: 801ms\tremaining: 42.2ms\n",
      "95:\tlearn: 1.0000000\ttotal: 810ms\tremaining: 33.7ms\n",
      "96:\tlearn: 1.0000000\ttotal: 819ms\tremaining: 25.3ms\n",
      "97:\tlearn: 1.0000000\ttotal: 826ms\tremaining: 16.9ms\n",
      "98:\tlearn: 1.0000000\ttotal: 834ms\tremaining: 8.42ms\n",
      "99:\tlearn: 1.0000000\ttotal: 846ms\tremaining: 0us\n",
      "0:\tlearn: 0.9600000\ttotal: 8.95ms\tremaining: 886ms\n",
      "1:\tlearn: 0.9690909\ttotal: 16.5ms\tremaining: 810ms\n",
      "2:\tlearn: 0.9727273\ttotal: 24.4ms\tremaining: 788ms\n",
      "3:\tlearn: 0.9836364\ttotal: 32.5ms\tremaining: 780ms\n",
      "4:\tlearn: 0.9836364\ttotal: 40.5ms\tremaining: 769ms\n",
      "5:\tlearn: 0.9800000\ttotal: 49.4ms\tremaining: 774ms\n",
      "6:\tlearn: 0.9854545\ttotal: 56.9ms\tremaining: 756ms\n",
      "7:\tlearn: 0.9854545\ttotal: 64.4ms\tremaining: 741ms\n",
      "8:\tlearn: 0.9909091\ttotal: 72.5ms\tremaining: 733ms\n",
      "9:\tlearn: 0.9909091\ttotal: 81ms\tremaining: 729ms\n",
      "10:\tlearn: 0.9927273\ttotal: 89ms\tremaining: 720ms\n",
      "11:\tlearn: 0.9945455\ttotal: 95.9ms\tremaining: 703ms\n",
      "12:\tlearn: 0.9945455\ttotal: 103ms\tremaining: 689ms\n",
      "13:\tlearn: 0.9963636\ttotal: 110ms\tremaining: 675ms\n",
      "14:\tlearn: 0.9963636\ttotal: 118ms\tremaining: 666ms\n",
      "15:\tlearn: 0.9963636\ttotal: 126ms\tremaining: 660ms\n",
      "16:\tlearn: 0.9963636\ttotal: 135ms\tremaining: 657ms\n",
      "17:\tlearn: 0.9963636\ttotal: 143ms\tremaining: 650ms\n",
      "18:\tlearn: 0.9963636\ttotal: 151ms\tremaining: 643ms\n",
      "19:\tlearn: 0.9963636\ttotal: 158ms\tremaining: 633ms\n",
      "20:\tlearn: 0.9963636\ttotal: 166ms\tremaining: 624ms\n",
      "21:\tlearn: 0.9963636\ttotal: 174ms\tremaining: 617ms\n",
      "22:\tlearn: 0.9963636\ttotal: 183ms\tremaining: 612ms\n",
      "23:\tlearn: 0.9981818\ttotal: 191ms\tremaining: 605ms\n",
      "24:\tlearn: 0.9981818\ttotal: 200ms\tremaining: 601ms\n",
      "25:\tlearn: 0.9981818\ttotal: 210ms\tremaining: 597ms\n",
      "26:\tlearn: 0.9981818\ttotal: 218ms\tremaining: 588ms\n",
      "27:\tlearn: 0.9981818\ttotal: 226ms\tremaining: 581ms\n",
      "28:\tlearn: 0.9981818\ttotal: 234ms\tremaining: 572ms\n",
      "29:\tlearn: 0.9981818\ttotal: 242ms\tremaining: 565ms\n",
      "30:\tlearn: 0.9981818\ttotal: 250ms\tremaining: 557ms\n",
      "31:\tlearn: 1.0000000\ttotal: 260ms\tremaining: 552ms\n",
      "32:\tlearn: 1.0000000\ttotal: 268ms\tremaining: 544ms\n",
      "33:\tlearn: 1.0000000\ttotal: 277ms\tremaining: 537ms\n",
      "34:\tlearn: 1.0000000\ttotal: 285ms\tremaining: 530ms\n",
      "35:\tlearn: 1.0000000\ttotal: 295ms\tremaining: 524ms\n",
      "36:\tlearn: 1.0000000\ttotal: 304ms\tremaining: 517ms\n",
      "37:\tlearn: 1.0000000\ttotal: 312ms\tremaining: 510ms\n",
      "38:\tlearn: 1.0000000\ttotal: 321ms\tremaining: 503ms\n",
      "39:\tlearn: 1.0000000\ttotal: 332ms\tremaining: 498ms\n",
      "40:\tlearn: 1.0000000\ttotal: 340ms\tremaining: 490ms\n",
      "41:\tlearn: 1.0000000\ttotal: 350ms\tremaining: 483ms\n",
      "42:\tlearn: 1.0000000\ttotal: 359ms\tremaining: 476ms\n",
      "43:\tlearn: 1.0000000\ttotal: 367ms\tremaining: 468ms\n",
      "44:\tlearn: 1.0000000\ttotal: 376ms\tremaining: 459ms\n",
      "45:\tlearn: 1.0000000\ttotal: 384ms\tremaining: 451ms\n",
      "46:\tlearn: 1.0000000\ttotal: 393ms\tremaining: 443ms\n",
      "47:\tlearn: 1.0000000\ttotal: 403ms\tremaining: 436ms\n",
      "48:\tlearn: 1.0000000\ttotal: 411ms\tremaining: 428ms\n",
      "49:\tlearn: 1.0000000\ttotal: 420ms\tremaining: 420ms\n",
      "50:\tlearn: 1.0000000\ttotal: 429ms\tremaining: 412ms\n",
      "51:\tlearn: 1.0000000\ttotal: 437ms\tremaining: 404ms\n",
      "52:\tlearn: 1.0000000\ttotal: 446ms\tremaining: 396ms\n",
      "53:\tlearn: 1.0000000\ttotal: 455ms\tremaining: 388ms\n",
      "54:\tlearn: 1.0000000\ttotal: 463ms\tremaining: 379ms\n",
      "55:\tlearn: 1.0000000\ttotal: 473ms\tremaining: 371ms\n",
      "56:\tlearn: 1.0000000\ttotal: 481ms\tremaining: 363ms\n",
      "57:\tlearn: 1.0000000\ttotal: 489ms\tremaining: 354ms\n",
      "58:\tlearn: 1.0000000\ttotal: 497ms\tremaining: 346ms\n",
      "59:\tlearn: 1.0000000\ttotal: 505ms\tremaining: 337ms\n",
      "60:\tlearn: 1.0000000\ttotal: 514ms\tremaining: 329ms\n",
      "61:\tlearn: 1.0000000\ttotal: 522ms\tremaining: 320ms\n",
      "62:\tlearn: 1.0000000\ttotal: 531ms\tremaining: 312ms\n",
      "63:\tlearn: 1.0000000\ttotal: 539ms\tremaining: 303ms\n",
      "64:\tlearn: 1.0000000\ttotal: 546ms\tremaining: 294ms\n",
      "65:\tlearn: 1.0000000\ttotal: 554ms\tremaining: 285ms\n",
      "66:\tlearn: 1.0000000\ttotal: 561ms\tremaining: 276ms\n",
      "67:\tlearn: 1.0000000\ttotal: 568ms\tremaining: 267ms\n",
      "68:\tlearn: 1.0000000\ttotal: 576ms\tremaining: 259ms\n",
      "69:\tlearn: 1.0000000\ttotal: 584ms\tremaining: 250ms\n",
      "70:\tlearn: 1.0000000\ttotal: 592ms\tremaining: 242ms\n",
      "71:\tlearn: 1.0000000\ttotal: 601ms\tremaining: 234ms\n",
      "72:\tlearn: 1.0000000\ttotal: 610ms\tremaining: 226ms\n",
      "73:\tlearn: 1.0000000\ttotal: 618ms\tremaining: 217ms\n",
      "74:\tlearn: 1.0000000\ttotal: 626ms\tremaining: 209ms\n",
      "75:\tlearn: 1.0000000\ttotal: 635ms\tremaining: 200ms\n",
      "76:\tlearn: 1.0000000\ttotal: 643ms\tremaining: 192ms\n",
      "77:\tlearn: 1.0000000\ttotal: 650ms\tremaining: 183ms\n",
      "78:\tlearn: 1.0000000\ttotal: 657ms\tremaining: 175ms\n",
      "79:\tlearn: 1.0000000\ttotal: 664ms\tremaining: 166ms\n",
      "80:\tlearn: 1.0000000\ttotal: 671ms\tremaining: 157ms\n",
      "81:\tlearn: 1.0000000\ttotal: 678ms\tremaining: 149ms\n",
      "82:\tlearn: 1.0000000\ttotal: 686ms\tremaining: 140ms\n",
      "83:\tlearn: 1.0000000\ttotal: 693ms\tremaining: 132ms\n",
      "84:\tlearn: 1.0000000\ttotal: 701ms\tremaining: 124ms\n",
      "85:\tlearn: 1.0000000\ttotal: 708ms\tremaining: 115ms\n",
      "86:\tlearn: 1.0000000\ttotal: 715ms\tremaining: 107ms\n",
      "87:\tlearn: 1.0000000\ttotal: 723ms\tremaining: 98.5ms\n",
      "88:\tlearn: 1.0000000\ttotal: 731ms\tremaining: 90.3ms\n",
      "89:\tlearn: 1.0000000\ttotal: 739ms\tremaining: 82.1ms\n",
      "90:\tlearn: 1.0000000\ttotal: 746ms\tremaining: 73.8ms\n",
      "91:\tlearn: 1.0000000\ttotal: 754ms\tremaining: 65.6ms\n",
      "92:\tlearn: 1.0000000\ttotal: 762ms\tremaining: 57.4ms\n",
      "93:\tlearn: 1.0000000\ttotal: 770ms\tremaining: 49.2ms\n",
      "94:\tlearn: 1.0000000\ttotal: 778ms\tremaining: 40.9ms\n",
      "95:\tlearn: 1.0000000\ttotal: 785ms\tremaining: 32.7ms\n",
      "96:\tlearn: 1.0000000\ttotal: 792ms\tremaining: 24.5ms\n",
      "97:\tlearn: 1.0000000\ttotal: 799ms\tremaining: 16.3ms\n",
      "98:\tlearn: 1.0000000\ttotal: 807ms\tremaining: 8.15ms\n",
      "99:\tlearn: 1.0000000\ttotal: 814ms\tremaining: 0us\n",
      "0:\tlearn: 0.9600000\ttotal: 9.66ms\tremaining: 956ms\n",
      "1:\tlearn: 0.9690909\ttotal: 17.1ms\tremaining: 839ms\n",
      "2:\tlearn: 0.9672727\ttotal: 24.2ms\tremaining: 781ms\n",
      "3:\tlearn: 0.9672727\ttotal: 31.5ms\tremaining: 756ms\n",
      "4:\tlearn: 0.9800000\ttotal: 38.8ms\tremaining: 737ms\n",
      "5:\tlearn: 0.9836364\ttotal: 45.8ms\tremaining: 717ms\n",
      "6:\tlearn: 0.9890909\ttotal: 53ms\tremaining: 704ms\n",
      "7:\tlearn: 0.9909091\ttotal: 62.5ms\tremaining: 719ms\n",
      "8:\tlearn: 0.9909091\ttotal: 69.8ms\tremaining: 706ms\n",
      "9:\tlearn: 0.9927273\ttotal: 77.4ms\tremaining: 697ms\n",
      "10:\tlearn: 0.9927273\ttotal: 84.8ms\tremaining: 686ms\n",
      "11:\tlearn: 0.9927273\ttotal: 92.5ms\tremaining: 678ms\n",
      "12:\tlearn: 0.9927273\ttotal: 99.5ms\tremaining: 666ms\n",
      "13:\tlearn: 0.9927273\ttotal: 106ms\tremaining: 653ms\n",
      "14:\tlearn: 0.9927273\ttotal: 114ms\tremaining: 645ms\n",
      "15:\tlearn: 0.9945455\ttotal: 121ms\tremaining: 636ms\n",
      "16:\tlearn: 0.9945455\ttotal: 129ms\tremaining: 628ms\n",
      "17:\tlearn: 0.9945455\ttotal: 136ms\tremaining: 619ms\n",
      "18:\tlearn: 0.9945455\ttotal: 145ms\tremaining: 618ms\n",
      "19:\tlearn: 0.9945455\ttotal: 154ms\tremaining: 617ms\n",
      "20:\tlearn: 0.9945455\ttotal: 162ms\tremaining: 608ms\n",
      "21:\tlearn: 0.9945455\ttotal: 169ms\tremaining: 599ms\n",
      "22:\tlearn: 0.9945455\ttotal: 176ms\tremaining: 589ms\n",
      "23:\tlearn: 0.9963636\ttotal: 183ms\tremaining: 579ms\n",
      "24:\tlearn: 0.9963636\ttotal: 190ms\tremaining: 571ms\n",
      "25:\tlearn: 0.9963636\ttotal: 199ms\tremaining: 566ms\n",
      "26:\tlearn: 0.9981818\ttotal: 207ms\tremaining: 560ms\n",
      "27:\tlearn: 0.9981818\ttotal: 215ms\tremaining: 553ms\n",
      "28:\tlearn: 0.9981818\ttotal: 224ms\tremaining: 547ms\n",
      "29:\tlearn: 1.0000000\ttotal: 234ms\tremaining: 546ms\n",
      "30:\tlearn: 1.0000000\ttotal: 246ms\tremaining: 548ms\n",
      "31:\tlearn: 1.0000000\ttotal: 257ms\tremaining: 545ms\n",
      "32:\tlearn: 1.0000000\ttotal: 268ms\tremaining: 544ms\n",
      "33:\tlearn: 1.0000000\ttotal: 279ms\tremaining: 541ms\n",
      "34:\tlearn: 1.0000000\ttotal: 290ms\tremaining: 538ms\n",
      "35:\tlearn: 1.0000000\ttotal: 299ms\tremaining: 531ms\n",
      "36:\tlearn: 1.0000000\ttotal: 308ms\tremaining: 524ms\n",
      "37:\tlearn: 1.0000000\ttotal: 317ms\tremaining: 516ms\n",
      "38:\tlearn: 1.0000000\ttotal: 327ms\tremaining: 511ms\n",
      "39:\tlearn: 1.0000000\ttotal: 337ms\tremaining: 506ms\n",
      "40:\tlearn: 1.0000000\ttotal: 347ms\tremaining: 500ms\n",
      "41:\tlearn: 1.0000000\ttotal: 357ms\tremaining: 493ms\n",
      "42:\tlearn: 1.0000000\ttotal: 367ms\tremaining: 487ms\n",
      "43:\tlearn: 1.0000000\ttotal: 376ms\tremaining: 479ms\n",
      "44:\tlearn: 1.0000000\ttotal: 384ms\tremaining: 470ms\n",
      "45:\tlearn: 1.0000000\ttotal: 392ms\tremaining: 460ms\n",
      "46:\tlearn: 1.0000000\ttotal: 399ms\tremaining: 450ms\n",
      "47:\tlearn: 1.0000000\ttotal: 407ms\tremaining: 441ms\n",
      "48:\tlearn: 1.0000000\ttotal: 414ms\tremaining: 431ms\n",
      "49:\tlearn: 1.0000000\ttotal: 421ms\tremaining: 421ms\n",
      "50:\tlearn: 1.0000000\ttotal: 429ms\tremaining: 412ms\n",
      "51:\tlearn: 1.0000000\ttotal: 436ms\tremaining: 403ms\n",
      "52:\tlearn: 1.0000000\ttotal: 444ms\tremaining: 393ms\n",
      "53:\tlearn: 1.0000000\ttotal: 451ms\tremaining: 384ms\n",
      "54:\tlearn: 1.0000000\ttotal: 458ms\tremaining: 375ms\n",
      "55:\tlearn: 1.0000000\ttotal: 466ms\tremaining: 366ms\n",
      "56:\tlearn: 1.0000000\ttotal: 473ms\tremaining: 357ms\n",
      "57:\tlearn: 1.0000000\ttotal: 480ms\tremaining: 348ms\n",
      "58:\tlearn: 1.0000000\ttotal: 488ms\tremaining: 339ms\n",
      "59:\tlearn: 1.0000000\ttotal: 496ms\tremaining: 331ms\n",
      "60:\tlearn: 1.0000000\ttotal: 503ms\tremaining: 322ms\n",
      "61:\tlearn: 1.0000000\ttotal: 511ms\tremaining: 313ms\n",
      "62:\tlearn: 1.0000000\ttotal: 519ms\tremaining: 305ms\n",
      "63:\tlearn: 1.0000000\ttotal: 527ms\tremaining: 296ms\n",
      "64:\tlearn: 1.0000000\ttotal: 534ms\tremaining: 288ms\n",
      "65:\tlearn: 1.0000000\ttotal: 542ms\tremaining: 279ms\n",
      "66:\tlearn: 1.0000000\ttotal: 549ms\tremaining: 270ms\n",
      "67:\tlearn: 1.0000000\ttotal: 556ms\tremaining: 262ms\n",
      "68:\tlearn: 1.0000000\ttotal: 564ms\tremaining: 253ms\n",
      "69:\tlearn: 1.0000000\ttotal: 572ms\tremaining: 245ms\n",
      "70:\tlearn: 1.0000000\ttotal: 579ms\tremaining: 236ms\n",
      "71:\tlearn: 1.0000000\ttotal: 586ms\tremaining: 228ms\n",
      "72:\tlearn: 1.0000000\ttotal: 593ms\tremaining: 219ms\n",
      "73:\tlearn: 1.0000000\ttotal: 601ms\tremaining: 211ms\n",
      "74:\tlearn: 1.0000000\ttotal: 608ms\tremaining: 203ms\n",
      "75:\tlearn: 1.0000000\ttotal: 615ms\tremaining: 194ms\n",
      "76:\tlearn: 1.0000000\ttotal: 623ms\tremaining: 186ms\n",
      "77:\tlearn: 1.0000000\ttotal: 630ms\tremaining: 178ms\n",
      "78:\tlearn: 1.0000000\ttotal: 638ms\tremaining: 170ms\n",
      "79:\tlearn: 1.0000000\ttotal: 645ms\tremaining: 161ms\n",
      "80:\tlearn: 1.0000000\ttotal: 652ms\tremaining: 153ms\n",
      "81:\tlearn: 1.0000000\ttotal: 661ms\tremaining: 145ms\n",
      "82:\tlearn: 1.0000000\ttotal: 668ms\tremaining: 137ms\n",
      "83:\tlearn: 1.0000000\ttotal: 675ms\tremaining: 129ms\n",
      "84:\tlearn: 1.0000000\ttotal: 683ms\tremaining: 120ms\n",
      "85:\tlearn: 1.0000000\ttotal: 691ms\tremaining: 112ms\n",
      "86:\tlearn: 1.0000000\ttotal: 698ms\tremaining: 104ms\n",
      "87:\tlearn: 1.0000000\ttotal: 706ms\tremaining: 96.3ms\n",
      "88:\tlearn: 1.0000000\ttotal: 714ms\tremaining: 88.2ms\n",
      "89:\tlearn: 1.0000000\ttotal: 722ms\tremaining: 80.2ms\n",
      "90:\tlearn: 1.0000000\ttotal: 730ms\tremaining: 72.2ms\n",
      "91:\tlearn: 1.0000000\ttotal: 738ms\tremaining: 64.2ms\n",
      "92:\tlearn: 1.0000000\ttotal: 746ms\tremaining: 56.1ms\n",
      "93:\tlearn: 1.0000000\ttotal: 753ms\tremaining: 48.1ms\n",
      "94:\tlearn: 1.0000000\ttotal: 761ms\tremaining: 40.1ms\n",
      "95:\tlearn: 1.0000000\ttotal: 769ms\tremaining: 32ms\n",
      "96:\tlearn: 1.0000000\ttotal: 777ms\tremaining: 24ms\n",
      "97:\tlearn: 1.0000000\ttotal: 784ms\tremaining: 16ms\n",
      "98:\tlearn: 1.0000000\ttotal: 792ms\tremaining: 8ms\n",
      "99:\tlearn: 1.0000000\ttotal: 799ms\tremaining: 0us\n",
      "0:\tlearn: 0.9618182\ttotal: 9.45ms\tremaining: 935ms\n",
      "1:\tlearn: 0.9727273\ttotal: 17.8ms\tremaining: 870ms\n",
      "2:\tlearn: 0.9781818\ttotal: 25.5ms\tremaining: 823ms\n",
      "3:\tlearn: 0.9781818\ttotal: 33.4ms\tremaining: 802ms\n",
      "4:\tlearn: 0.9836364\ttotal: 41.5ms\tremaining: 788ms\n",
      "5:\tlearn: 0.9872727\ttotal: 48.8ms\tremaining: 764ms\n",
      "6:\tlearn: 0.9872727\ttotal: 56.2ms\tremaining: 746ms\n",
      "7:\tlearn: 0.9927273\ttotal: 63.9ms\tremaining: 735ms\n",
      "8:\tlearn: 0.9927273\ttotal: 71.4ms\tremaining: 722ms\n",
      "9:\tlearn: 0.9927273\ttotal: 78.6ms\tremaining: 708ms\n",
      "10:\tlearn: 0.9927273\ttotal: 85.9ms\tremaining: 695ms\n",
      "11:\tlearn: 0.9945455\ttotal: 93ms\tremaining: 682ms\n",
      "12:\tlearn: 0.9945455\ttotal: 100ms\tremaining: 671ms\n",
      "13:\tlearn: 0.9945455\ttotal: 109ms\tremaining: 670ms\n",
      "14:\tlearn: 0.9945455\ttotal: 117ms\tremaining: 664ms\n",
      "15:\tlearn: 0.9945455\ttotal: 125ms\tremaining: 658ms\n",
      "16:\tlearn: 0.9945455\ttotal: 134ms\tremaining: 656ms\n",
      "17:\tlearn: 0.9945455\ttotal: 144ms\tremaining: 654ms\n",
      "18:\tlearn: 0.9945455\ttotal: 152ms\tremaining: 648ms\n",
      "19:\tlearn: 0.9963636\ttotal: 161ms\tremaining: 642ms\n",
      "20:\tlearn: 0.9963636\ttotal: 171ms\tremaining: 645ms\n",
      "21:\tlearn: 0.9963636\ttotal: 180ms\tremaining: 638ms\n",
      "22:\tlearn: 0.9963636\ttotal: 189ms\tremaining: 633ms\n",
      "23:\tlearn: 0.9981818\ttotal: 199ms\tremaining: 629ms\n",
      "24:\tlearn: 0.9981818\ttotal: 206ms\tremaining: 619ms\n",
      "25:\tlearn: 0.9981818\ttotal: 217ms\tremaining: 617ms\n",
      "26:\tlearn: 0.9981818\ttotal: 229ms\tremaining: 619ms\n",
      "27:\tlearn: 1.0000000\ttotal: 237ms\tremaining: 610ms\n",
      "28:\tlearn: 1.0000000\ttotal: 246ms\tremaining: 603ms\n",
      "29:\tlearn: 1.0000000\ttotal: 254ms\tremaining: 592ms\n",
      "30:\tlearn: 1.0000000\ttotal: 261ms\tremaining: 582ms\n",
      "31:\tlearn: 1.0000000\ttotal: 269ms\tremaining: 573ms\n",
      "32:\tlearn: 1.0000000\ttotal: 278ms\tremaining: 564ms\n",
      "33:\tlearn: 1.0000000\ttotal: 288ms\tremaining: 558ms\n",
      "34:\tlearn: 1.0000000\ttotal: 297ms\tremaining: 552ms\n",
      "35:\tlearn: 1.0000000\ttotal: 307ms\tremaining: 545ms\n",
      "36:\tlearn: 1.0000000\ttotal: 315ms\tremaining: 536ms\n",
      "37:\tlearn: 1.0000000\ttotal: 323ms\tremaining: 527ms\n",
      "38:\tlearn: 1.0000000\ttotal: 330ms\tremaining: 516ms\n",
      "39:\tlearn: 1.0000000\ttotal: 338ms\tremaining: 507ms\n",
      "40:\tlearn: 1.0000000\ttotal: 347ms\tremaining: 499ms\n",
      "41:\tlearn: 1.0000000\ttotal: 354ms\tremaining: 489ms\n",
      "42:\tlearn: 1.0000000\ttotal: 362ms\tremaining: 480ms\n",
      "43:\tlearn: 1.0000000\ttotal: 369ms\tremaining: 470ms\n",
      "44:\tlearn: 1.0000000\ttotal: 377ms\tremaining: 460ms\n",
      "45:\tlearn: 1.0000000\ttotal: 384ms\tremaining: 451ms\n",
      "46:\tlearn: 1.0000000\ttotal: 391ms\tremaining: 441ms\n",
      "47:\tlearn: 1.0000000\ttotal: 398ms\tremaining: 431ms\n",
      "48:\tlearn: 1.0000000\ttotal: 405ms\tremaining: 421ms\n",
      "49:\tlearn: 1.0000000\ttotal: 412ms\tremaining: 412ms\n",
      "50:\tlearn: 1.0000000\ttotal: 419ms\tremaining: 403ms\n",
      "51:\tlearn: 1.0000000\ttotal: 427ms\tremaining: 394ms\n",
      "52:\tlearn: 1.0000000\ttotal: 435ms\tremaining: 385ms\n",
      "53:\tlearn: 1.0000000\ttotal: 442ms\tremaining: 377ms\n",
      "54:\tlearn: 1.0000000\ttotal: 450ms\tremaining: 368ms\n",
      "55:\tlearn: 1.0000000\ttotal: 457ms\tremaining: 359ms\n",
      "56:\tlearn: 1.0000000\ttotal: 465ms\tremaining: 351ms\n",
      "57:\tlearn: 1.0000000\ttotal: 472ms\tremaining: 342ms\n",
      "58:\tlearn: 1.0000000\ttotal: 482ms\tremaining: 335ms\n",
      "59:\tlearn: 1.0000000\ttotal: 491ms\tremaining: 328ms\n",
      "60:\tlearn: 1.0000000\ttotal: 501ms\tremaining: 320ms\n",
      "61:\tlearn: 1.0000000\ttotal: 511ms\tremaining: 313ms\n",
      "62:\tlearn: 1.0000000\ttotal: 520ms\tremaining: 305ms\n",
      "63:\tlearn: 1.0000000\ttotal: 529ms\tremaining: 297ms\n",
      "64:\tlearn: 1.0000000\ttotal: 538ms\tremaining: 290ms\n",
      "65:\tlearn: 1.0000000\ttotal: 547ms\tremaining: 282ms\n",
      "66:\tlearn: 1.0000000\ttotal: 556ms\tremaining: 274ms\n",
      "67:\tlearn: 1.0000000\ttotal: 566ms\tremaining: 266ms\n",
      "68:\tlearn: 1.0000000\ttotal: 576ms\tremaining: 259ms\n",
      "69:\tlearn: 1.0000000\ttotal: 585ms\tremaining: 251ms\n",
      "70:\tlearn: 1.0000000\ttotal: 594ms\tremaining: 243ms\n",
      "71:\tlearn: 1.0000000\ttotal: 603ms\tremaining: 234ms\n",
      "72:\tlearn: 1.0000000\ttotal: 610ms\tremaining: 226ms\n",
      "73:\tlearn: 1.0000000\ttotal: 618ms\tremaining: 217ms\n",
      "74:\tlearn: 1.0000000\ttotal: 625ms\tremaining: 208ms\n",
      "75:\tlearn: 1.0000000\ttotal: 632ms\tremaining: 199ms\n",
      "76:\tlearn: 1.0000000\ttotal: 639ms\tremaining: 191ms\n",
      "77:\tlearn: 1.0000000\ttotal: 646ms\tremaining: 182ms\n",
      "78:\tlearn: 1.0000000\ttotal: 653ms\tremaining: 174ms\n",
      "79:\tlearn: 1.0000000\ttotal: 660ms\tremaining: 165ms\n",
      "80:\tlearn: 1.0000000\ttotal: 667ms\tremaining: 156ms\n",
      "81:\tlearn: 1.0000000\ttotal: 674ms\tremaining: 148ms\n",
      "82:\tlearn: 1.0000000\ttotal: 682ms\tremaining: 140ms\n",
      "83:\tlearn: 1.0000000\ttotal: 685ms\tremaining: 130ms\n",
      "84:\tlearn: 1.0000000\ttotal: 692ms\tremaining: 122ms\n",
      "85:\tlearn: 1.0000000\ttotal: 700ms\tremaining: 114ms\n",
      "86:\tlearn: 1.0000000\ttotal: 707ms\tremaining: 106ms\n",
      "87:\tlearn: 1.0000000\ttotal: 715ms\tremaining: 97.4ms\n",
      "88:\tlearn: 1.0000000\ttotal: 722ms\tremaining: 89.2ms\n",
      "89:\tlearn: 1.0000000\ttotal: 729ms\tremaining: 81ms\n",
      "90:\tlearn: 1.0000000\ttotal: 737ms\tremaining: 72.9ms\n",
      "91:\tlearn: 1.0000000\ttotal: 745ms\tremaining: 64.8ms\n",
      "92:\tlearn: 1.0000000\ttotal: 753ms\tremaining: 56.7ms\n",
      "93:\tlearn: 1.0000000\ttotal: 762ms\tremaining: 48.6ms\n",
      "94:\tlearn: 1.0000000\ttotal: 772ms\tremaining: 40.6ms\n",
      "95:\tlearn: 1.0000000\ttotal: 782ms\tremaining: 32.6ms\n",
      "96:\tlearn: 1.0000000\ttotal: 792ms\tremaining: 24.5ms\n",
      "97:\tlearn: 1.0000000\ttotal: 801ms\tremaining: 16.4ms\n",
      "98:\tlearn: 1.0000000\ttotal: 810ms\tremaining: 8.18ms\n",
      "99:\tlearn: 1.0000000\ttotal: 821ms\tremaining: 0us\n",
      "0:\tlearn: 0.9509091\ttotal: 10.3ms\tremaining: 1.02s\n",
      "1:\tlearn: 0.9709091\ttotal: 18ms\tremaining: 883ms\n",
      "2:\tlearn: 0.9690909\ttotal: 25.2ms\tremaining: 816ms\n",
      "3:\tlearn: 0.9727273\ttotal: 33.2ms\tremaining: 797ms\n",
      "4:\tlearn: 0.9836364\ttotal: 41.2ms\tremaining: 782ms\n",
      "5:\tlearn: 0.9854545\ttotal: 48.5ms\tremaining: 760ms\n",
      "6:\tlearn: 0.9818182\ttotal: 56.4ms\tremaining: 749ms\n",
      "7:\tlearn: 0.9854545\ttotal: 64.7ms\tremaining: 744ms\n",
      "8:\tlearn: 0.9909091\ttotal: 73ms\tremaining: 738ms\n",
      "9:\tlearn: 0.9927273\ttotal: 80.1ms\tremaining: 721ms\n",
      "10:\tlearn: 0.9927273\ttotal: 87.4ms\tremaining: 707ms\n",
      "11:\tlearn: 0.9927273\ttotal: 95ms\tremaining: 697ms\n",
      "12:\tlearn: 0.9927273\ttotal: 102ms\tremaining: 683ms\n",
      "13:\tlearn: 0.9927273\ttotal: 109ms\tremaining: 669ms\n",
      "14:\tlearn: 0.9927273\ttotal: 116ms\tremaining: 657ms\n",
      "15:\tlearn: 0.9927273\ttotal: 123ms\tremaining: 645ms\n",
      "16:\tlearn: 0.9927273\ttotal: 130ms\tremaining: 634ms\n",
      "17:\tlearn: 0.9927273\ttotal: 137ms\tremaining: 625ms\n",
      "18:\tlearn: 0.9945455\ttotal: 144ms\tremaining: 614ms\n",
      "19:\tlearn: 0.9963636\ttotal: 152ms\tremaining: 608ms\n",
      "20:\tlearn: 0.9963636\ttotal: 161ms\tremaining: 605ms\n",
      "21:\tlearn: 0.9963636\ttotal: 170ms\tremaining: 603ms\n",
      "22:\tlearn: 0.9963636\ttotal: 179ms\tremaining: 600ms\n",
      "23:\tlearn: 0.9963636\ttotal: 189ms\tremaining: 600ms\n",
      "24:\tlearn: 0.9963636\ttotal: 200ms\tremaining: 599ms\n",
      "25:\tlearn: 0.9963636\ttotal: 209ms\tremaining: 594ms\n",
      "26:\tlearn: 0.9963636\ttotal: 218ms\tremaining: 588ms\n",
      "27:\tlearn: 0.9981818\ttotal: 228ms\tremaining: 586ms\n",
      "28:\tlearn: 0.9981818\ttotal: 238ms\tremaining: 582ms\n",
      "29:\tlearn: 1.0000000\ttotal: 248ms\tremaining: 579ms\n",
      "30:\tlearn: 1.0000000\ttotal: 257ms\tremaining: 573ms\n",
      "31:\tlearn: 1.0000000\ttotal: 266ms\tremaining: 565ms\n",
      "32:\tlearn: 1.0000000\ttotal: 273ms\tremaining: 555ms\n",
      "33:\tlearn: 1.0000000\ttotal: 281ms\tremaining: 545ms\n",
      "34:\tlearn: 1.0000000\ttotal: 288ms\tremaining: 536ms\n",
      "35:\tlearn: 1.0000000\ttotal: 296ms\tremaining: 526ms\n",
      "36:\tlearn: 1.0000000\ttotal: 303ms\tremaining: 516ms\n",
      "37:\tlearn: 1.0000000\ttotal: 310ms\tremaining: 505ms\n",
      "38:\tlearn: 1.0000000\ttotal: 316ms\tremaining: 495ms\n",
      "39:\tlearn: 1.0000000\ttotal: 323ms\tremaining: 484ms\n",
      "40:\tlearn: 1.0000000\ttotal: 330ms\tremaining: 474ms\n",
      "41:\tlearn: 1.0000000\ttotal: 337ms\tremaining: 465ms\n",
      "42:\tlearn: 1.0000000\ttotal: 344ms\tremaining: 456ms\n",
      "43:\tlearn: 1.0000000\ttotal: 351ms\tremaining: 446ms\n",
      "44:\tlearn: 1.0000000\ttotal: 358ms\tremaining: 437ms\n",
      "45:\tlearn: 1.0000000\ttotal: 364ms\tremaining: 428ms\n",
      "46:\tlearn: 1.0000000\ttotal: 371ms\tremaining: 418ms\n",
      "47:\tlearn: 1.0000000\ttotal: 378ms\tremaining: 410ms\n",
      "48:\tlearn: 1.0000000\ttotal: 385ms\tremaining: 401ms\n",
      "49:\tlearn: 1.0000000\ttotal: 393ms\tremaining: 393ms\n",
      "50:\tlearn: 1.0000000\ttotal: 405ms\tremaining: 389ms\n",
      "51:\tlearn: 1.0000000\ttotal: 412ms\tremaining: 381ms\n",
      "52:\tlearn: 1.0000000\ttotal: 420ms\tremaining: 373ms\n",
      "53:\tlearn: 1.0000000\ttotal: 428ms\tremaining: 364ms\n",
      "54:\tlearn: 1.0000000\ttotal: 435ms\tremaining: 356ms\n",
      "55:\tlearn: 1.0000000\ttotal: 444ms\tremaining: 349ms\n",
      "56:\tlearn: 1.0000000\ttotal: 452ms\tremaining: 341ms\n",
      "57:\tlearn: 1.0000000\ttotal: 461ms\tremaining: 334ms\n",
      "58:\tlearn: 1.0000000\ttotal: 470ms\tremaining: 327ms\n",
      "59:\tlearn: 1.0000000\ttotal: 479ms\tremaining: 319ms\n",
      "60:\tlearn: 1.0000000\ttotal: 488ms\tremaining: 312ms\n",
      "61:\tlearn: 1.0000000\ttotal: 496ms\tremaining: 304ms\n",
      "62:\tlearn: 1.0000000\ttotal: 505ms\tremaining: 297ms\n",
      "63:\tlearn: 1.0000000\ttotal: 515ms\tremaining: 289ms\n",
      "64:\tlearn: 1.0000000\ttotal: 523ms\tremaining: 281ms\n",
      "65:\tlearn: 1.0000000\ttotal: 530ms\tremaining: 273ms\n",
      "66:\tlearn: 1.0000000\ttotal: 537ms\tremaining: 265ms\n",
      "67:\tlearn: 1.0000000\ttotal: 545ms\tremaining: 256ms\n",
      "68:\tlearn: 1.0000000\ttotal: 552ms\tremaining: 248ms\n",
      "69:\tlearn: 1.0000000\ttotal: 559ms\tremaining: 240ms\n",
      "70:\tlearn: 1.0000000\ttotal: 567ms\tremaining: 231ms\n",
      "71:\tlearn: 1.0000000\ttotal: 575ms\tremaining: 223ms\n",
      "72:\tlearn: 1.0000000\ttotal: 581ms\tremaining: 215ms\n",
      "73:\tlearn: 1.0000000\ttotal: 589ms\tremaining: 207ms\n",
      "74:\tlearn: 1.0000000\ttotal: 595ms\tremaining: 198ms\n",
      "75:\tlearn: 1.0000000\ttotal: 602ms\tremaining: 190ms\n",
      "76:\tlearn: 1.0000000\ttotal: 609ms\tremaining: 182ms\n",
      "77:\tlearn: 1.0000000\ttotal: 616ms\tremaining: 174ms\n",
      "78:\tlearn: 1.0000000\ttotal: 623ms\tremaining: 166ms\n",
      "79:\tlearn: 1.0000000\ttotal: 630ms\tremaining: 157ms\n",
      "80:\tlearn: 1.0000000\ttotal: 637ms\tremaining: 149ms\n",
      "81:\tlearn: 1.0000000\ttotal: 645ms\tremaining: 142ms\n",
      "82:\tlearn: 1.0000000\ttotal: 652ms\tremaining: 134ms\n",
      "83:\tlearn: 1.0000000\ttotal: 660ms\tremaining: 126ms\n",
      "84:\tlearn: 1.0000000\ttotal: 668ms\tremaining: 118ms\n",
      "85:\tlearn: 1.0000000\ttotal: 677ms\tremaining: 110ms\n",
      "86:\tlearn: 1.0000000\ttotal: 686ms\tremaining: 102ms\n",
      "87:\tlearn: 1.0000000\ttotal: 695ms\tremaining: 94.7ms\n",
      "88:\tlearn: 1.0000000\ttotal: 705ms\tremaining: 87.1ms\n",
      "89:\tlearn: 1.0000000\ttotal: 716ms\tremaining: 79.5ms\n",
      "90:\tlearn: 1.0000000\ttotal: 725ms\tremaining: 71.7ms\n",
      "91:\tlearn: 1.0000000\ttotal: 735ms\tremaining: 63.9ms\n",
      "92:\tlearn: 1.0000000\ttotal: 744ms\tremaining: 56ms\n",
      "93:\tlearn: 1.0000000\ttotal: 754ms\tremaining: 48.1ms\n",
      "94:\tlearn: 1.0000000\ttotal: 762ms\tremaining: 40.1ms\n",
      "95:\tlearn: 1.0000000\ttotal: 772ms\tremaining: 32.1ms\n",
      "96:\tlearn: 1.0000000\ttotal: 781ms\tremaining: 24.2ms\n",
      "97:\tlearn: 1.0000000\ttotal: 788ms\tremaining: 16.1ms\n",
      "98:\tlearn: 1.0000000\ttotal: 796ms\tremaining: 8.04ms\n",
      "99:\tlearn: 1.0000000\ttotal: 804ms\tremaining: 0us\n",
      "0:\tlearn: 0.9581818\ttotal: 9.85ms\tremaining: 975ms\n",
      "1:\tlearn: 0.9690909\ttotal: 17.6ms\tremaining: 861ms\n",
      "2:\tlearn: 0.9727273\ttotal: 25.4ms\tremaining: 820ms\n",
      "3:\tlearn: 0.9763636\ttotal: 33.5ms\tremaining: 805ms\n",
      "4:\tlearn: 0.9763636\ttotal: 41.4ms\tremaining: 787ms\n",
      "5:\tlearn: 0.9781818\ttotal: 49.6ms\tremaining: 777ms\n",
      "6:\tlearn: 0.9800000\ttotal: 57.8ms\tremaining: 768ms\n",
      "7:\tlearn: 0.9836364\ttotal: 65.7ms\tremaining: 755ms\n",
      "8:\tlearn: 0.9872727\ttotal: 73.3ms\tremaining: 741ms\n",
      "9:\tlearn: 0.9890909\ttotal: 81ms\tremaining: 729ms\n",
      "10:\tlearn: 0.9909091\ttotal: 89.1ms\tremaining: 721ms\n",
      "11:\tlearn: 0.9909091\ttotal: 96.3ms\tremaining: 706ms\n",
      "12:\tlearn: 0.9927273\ttotal: 103ms\tremaining: 692ms\n",
      "13:\tlearn: 0.9927273\ttotal: 110ms\tremaining: 678ms\n",
      "14:\tlearn: 0.9927273\ttotal: 117ms\tremaining: 665ms\n",
      "15:\tlearn: 0.9945455\ttotal: 125ms\tremaining: 654ms\n",
      "16:\tlearn: 0.9945455\ttotal: 132ms\tremaining: 642ms\n",
      "17:\tlearn: 0.9945455\ttotal: 139ms\tremaining: 631ms\n",
      "18:\tlearn: 0.9945455\ttotal: 146ms\tremaining: 621ms\n",
      "19:\tlearn: 0.9945455\ttotal: 153ms\tremaining: 612ms\n",
      "20:\tlearn: 0.9963636\ttotal: 160ms\tremaining: 603ms\n",
      "21:\tlearn: 0.9963636\ttotal: 168ms\tremaining: 595ms\n",
      "22:\tlearn: 0.9963636\ttotal: 175ms\tremaining: 587ms\n",
      "23:\tlearn: 0.9963636\ttotal: 183ms\tremaining: 579ms\n",
      "24:\tlearn: 0.9963636\ttotal: 190ms\tremaining: 570ms\n",
      "25:\tlearn: 0.9963636\ttotal: 198ms\tremaining: 562ms\n",
      "26:\tlearn: 0.9981818\ttotal: 206ms\tremaining: 556ms\n",
      "27:\tlearn: 0.9981818\ttotal: 214ms\tremaining: 549ms\n",
      "28:\tlearn: 0.9981818\ttotal: 221ms\tremaining: 541ms\n",
      "29:\tlearn: 1.0000000\ttotal: 229ms\tremaining: 534ms\n",
      "30:\tlearn: 1.0000000\ttotal: 236ms\tremaining: 526ms\n",
      "31:\tlearn: 1.0000000\ttotal: 244ms\tremaining: 519ms\n",
      "32:\tlearn: 1.0000000\ttotal: 252ms\tremaining: 511ms\n",
      "33:\tlearn: 1.0000000\ttotal: 259ms\tremaining: 504ms\n",
      "34:\tlearn: 1.0000000\ttotal: 267ms\tremaining: 495ms\n",
      "35:\tlearn: 1.0000000\ttotal: 275ms\tremaining: 488ms\n",
      "36:\tlearn: 1.0000000\ttotal: 282ms\tremaining: 480ms\n",
      "37:\tlearn: 1.0000000\ttotal: 290ms\tremaining: 473ms\n",
      "38:\tlearn: 1.0000000\ttotal: 298ms\tremaining: 466ms\n",
      "39:\tlearn: 1.0000000\ttotal: 306ms\tremaining: 458ms\n",
      "40:\tlearn: 1.0000000\ttotal: 313ms\tremaining: 451ms\n",
      "41:\tlearn: 1.0000000\ttotal: 321ms\tremaining: 443ms\n",
      "42:\tlearn: 1.0000000\ttotal: 328ms\tremaining: 435ms\n",
      "43:\tlearn: 1.0000000\ttotal: 335ms\tremaining: 426ms\n",
      "44:\tlearn: 1.0000000\ttotal: 343ms\tremaining: 419ms\n",
      "45:\tlearn: 1.0000000\ttotal: 350ms\tremaining: 411ms\n",
      "46:\tlearn: 1.0000000\ttotal: 357ms\tremaining: 402ms\n",
      "47:\tlearn: 1.0000000\ttotal: 364ms\tremaining: 395ms\n",
      "48:\tlearn: 1.0000000\ttotal: 372ms\tremaining: 387ms\n",
      "49:\tlearn: 1.0000000\ttotal: 379ms\tremaining: 379ms\n",
      "50:\tlearn: 1.0000000\ttotal: 385ms\tremaining: 370ms\n",
      "51:\tlearn: 1.0000000\ttotal: 394ms\tremaining: 363ms\n",
      "52:\tlearn: 1.0000000\ttotal: 402ms\tremaining: 357ms\n",
      "53:\tlearn: 1.0000000\ttotal: 410ms\tremaining: 349ms\n",
      "54:\tlearn: 1.0000000\ttotal: 418ms\tremaining: 342ms\n",
      "55:\tlearn: 1.0000000\ttotal: 425ms\tremaining: 334ms\n",
      "56:\tlearn: 1.0000000\ttotal: 433ms\tremaining: 326ms\n",
      "57:\tlearn: 1.0000000\ttotal: 440ms\tremaining: 319ms\n",
      "58:\tlearn: 1.0000000\ttotal: 449ms\tremaining: 312ms\n",
      "59:\tlearn: 1.0000000\ttotal: 457ms\tremaining: 305ms\n",
      "60:\tlearn: 1.0000000\ttotal: 465ms\tremaining: 297ms\n",
      "61:\tlearn: 1.0000000\ttotal: 472ms\tremaining: 290ms\n",
      "62:\tlearn: 1.0000000\ttotal: 480ms\tremaining: 282ms\n",
      "63:\tlearn: 1.0000000\ttotal: 488ms\tremaining: 274ms\n",
      "64:\tlearn: 1.0000000\ttotal: 495ms\tremaining: 267ms\n",
      "65:\tlearn: 1.0000000\ttotal: 502ms\tremaining: 259ms\n",
      "66:\tlearn: 1.0000000\ttotal: 510ms\tremaining: 251ms\n",
      "67:\tlearn: 1.0000000\ttotal: 518ms\tremaining: 244ms\n",
      "68:\tlearn: 1.0000000\ttotal: 525ms\tremaining: 236ms\n",
      "69:\tlearn: 1.0000000\ttotal: 533ms\tremaining: 228ms\n",
      "70:\tlearn: 1.0000000\ttotal: 539ms\tremaining: 220ms\n",
      "71:\tlearn: 1.0000000\ttotal: 550ms\tremaining: 214ms\n",
      "72:\tlearn: 1.0000000\ttotal: 557ms\tremaining: 206ms\n",
      "73:\tlearn: 1.0000000\ttotal: 565ms\tremaining: 198ms\n",
      "74:\tlearn: 1.0000000\ttotal: 572ms\tremaining: 191ms\n",
      "75:\tlearn: 1.0000000\ttotal: 579ms\tremaining: 183ms\n",
      "76:\tlearn: 1.0000000\ttotal: 586ms\tremaining: 175ms\n",
      "77:\tlearn: 1.0000000\ttotal: 593ms\tremaining: 167ms\n",
      "78:\tlearn: 1.0000000\ttotal: 601ms\tremaining: 160ms\n",
      "79:\tlearn: 1.0000000\ttotal: 608ms\tremaining: 152ms\n",
      "80:\tlearn: 1.0000000\ttotal: 616ms\tremaining: 145ms\n",
      "81:\tlearn: 1.0000000\ttotal: 626ms\tremaining: 137ms\n",
      "82:\tlearn: 1.0000000\ttotal: 634ms\tremaining: 130ms\n",
      "83:\tlearn: 1.0000000\ttotal: 642ms\tremaining: 122ms\n",
      "84:\tlearn: 1.0000000\ttotal: 649ms\tremaining: 115ms\n",
      "85:\tlearn: 1.0000000\ttotal: 656ms\tremaining: 107ms\n",
      "86:\tlearn: 1.0000000\ttotal: 664ms\tremaining: 99.2ms\n",
      "87:\tlearn: 1.0000000\ttotal: 672ms\tremaining: 91.6ms\n",
      "88:\tlearn: 1.0000000\ttotal: 680ms\tremaining: 84.1ms\n",
      "89:\tlearn: 1.0000000\ttotal: 687ms\tremaining: 76.4ms\n",
      "90:\tlearn: 1.0000000\ttotal: 695ms\tremaining: 68.8ms\n",
      "91:\tlearn: 1.0000000\ttotal: 703ms\tremaining: 61.1ms\n",
      "92:\tlearn: 1.0000000\ttotal: 711ms\tremaining: 53.5ms\n",
      "93:\tlearn: 1.0000000\ttotal: 718ms\tremaining: 45.9ms\n",
      "94:\tlearn: 1.0000000\ttotal: 726ms\tremaining: 38.2ms\n",
      "95:\tlearn: 1.0000000\ttotal: 733ms\tremaining: 30.5ms\n",
      "96:\tlearn: 1.0000000\ttotal: 740ms\tremaining: 22.9ms\n",
      "97:\tlearn: 1.0000000\ttotal: 747ms\tremaining: 15.2ms\n",
      "98:\tlearn: 1.0000000\ttotal: 754ms\tremaining: 7.62ms\n",
      "99:\tlearn: 1.0000000\ttotal: 761ms\tremaining: 0us\n",
      "0:\tlearn: 0.9581818\ttotal: 9.29ms\tremaining: 919ms\n",
      "1:\tlearn: 0.9709091\ttotal: 16.3ms\tremaining: 800ms\n",
      "2:\tlearn: 0.9654545\ttotal: 23.2ms\tremaining: 751ms\n",
      "3:\tlearn: 0.9800000\ttotal: 30.4ms\tremaining: 730ms\n",
      "4:\tlearn: 0.9800000\ttotal: 37.6ms\tremaining: 715ms\n",
      "5:\tlearn: 0.9781818\ttotal: 44.4ms\tremaining: 695ms\n",
      "6:\tlearn: 0.9818182\ttotal: 51.6ms\tremaining: 686ms\n",
      "7:\tlearn: 0.9818182\ttotal: 59.6ms\tremaining: 686ms\n",
      "8:\tlearn: 0.9854545\ttotal: 67.7ms\tremaining: 684ms\n",
      "9:\tlearn: 0.9890909\ttotal: 74.8ms\tremaining: 673ms\n",
      "10:\tlearn: 0.9909091\ttotal: 82.8ms\tremaining: 670ms\n",
      "11:\tlearn: 0.9909091\ttotal: 90.2ms\tremaining: 661ms\n",
      "12:\tlearn: 0.9927273\ttotal: 97.2ms\tremaining: 650ms\n",
      "13:\tlearn: 0.9909091\ttotal: 104ms\tremaining: 638ms\n",
      "14:\tlearn: 0.9909091\ttotal: 111ms\tremaining: 631ms\n",
      "15:\tlearn: 0.9927273\ttotal: 118ms\tremaining: 622ms\n",
      "16:\tlearn: 0.9945455\ttotal: 126ms\tremaining: 615ms\n",
      "17:\tlearn: 0.9945455\ttotal: 133ms\tremaining: 606ms\n",
      "18:\tlearn: 0.9945455\ttotal: 140ms\tremaining: 596ms\n",
      "19:\tlearn: 0.9945455\ttotal: 147ms\tremaining: 587ms\n",
      "20:\tlearn: 0.9963636\ttotal: 154ms\tremaining: 580ms\n",
      "21:\tlearn: 0.9963636\ttotal: 161ms\tremaining: 572ms\n",
      "22:\tlearn: 0.9963636\ttotal: 168ms\tremaining: 564ms\n",
      "23:\tlearn: 0.9963636\ttotal: 176ms\tremaining: 556ms\n",
      "24:\tlearn: 0.9981818\ttotal: 183ms\tremaining: 548ms\n",
      "25:\tlearn: 0.9981818\ttotal: 190ms\tremaining: 541ms\n",
      "26:\tlearn: 0.9981818\ttotal: 197ms\tremaining: 532ms\n",
      "27:\tlearn: 1.0000000\ttotal: 204ms\tremaining: 524ms\n",
      "28:\tlearn: 1.0000000\ttotal: 211ms\tremaining: 516ms\n",
      "29:\tlearn: 1.0000000\ttotal: 218ms\tremaining: 508ms\n",
      "30:\tlearn: 1.0000000\ttotal: 225ms\tremaining: 501ms\n",
      "31:\tlearn: 1.0000000\ttotal: 233ms\tremaining: 494ms\n",
      "32:\tlearn: 1.0000000\ttotal: 240ms\tremaining: 488ms\n",
      "33:\tlearn: 1.0000000\ttotal: 247ms\tremaining: 480ms\n",
      "34:\tlearn: 1.0000000\ttotal: 254ms\tremaining: 472ms\n",
      "35:\tlearn: 1.0000000\ttotal: 262ms\tremaining: 465ms\n",
      "36:\tlearn: 1.0000000\ttotal: 269ms\tremaining: 458ms\n",
      "37:\tlearn: 1.0000000\ttotal: 277ms\tremaining: 451ms\n",
      "38:\tlearn: 1.0000000\ttotal: 284ms\tremaining: 444ms\n",
      "39:\tlearn: 1.0000000\ttotal: 291ms\tremaining: 436ms\n",
      "40:\tlearn: 1.0000000\ttotal: 298ms\tremaining: 429ms\n",
      "41:\tlearn: 1.0000000\ttotal: 305ms\tremaining: 421ms\n",
      "42:\tlearn: 1.0000000\ttotal: 312ms\tremaining: 414ms\n",
      "43:\tlearn: 1.0000000\ttotal: 319ms\tremaining: 407ms\n",
      "44:\tlearn: 1.0000000\ttotal: 327ms\tremaining: 399ms\n",
      "45:\tlearn: 1.0000000\ttotal: 334ms\tremaining: 392ms\n",
      "46:\tlearn: 1.0000000\ttotal: 341ms\tremaining: 385ms\n",
      "47:\tlearn: 1.0000000\ttotal: 349ms\tremaining: 378ms\n",
      "48:\tlearn: 1.0000000\ttotal: 356ms\tremaining: 370ms\n",
      "49:\tlearn: 1.0000000\ttotal: 363ms\tremaining: 363ms\n",
      "50:\tlearn: 1.0000000\ttotal: 369ms\tremaining: 355ms\n",
      "51:\tlearn: 1.0000000\ttotal: 376ms\tremaining: 347ms\n",
      "52:\tlearn: 1.0000000\ttotal: 383ms\tremaining: 340ms\n",
      "53:\tlearn: 1.0000000\ttotal: 390ms\tremaining: 332ms\n",
      "54:\tlearn: 1.0000000\ttotal: 397ms\tremaining: 325ms\n",
      "55:\tlearn: 1.0000000\ttotal: 404ms\tremaining: 317ms\n",
      "56:\tlearn: 1.0000000\ttotal: 411ms\tremaining: 310ms\n",
      "57:\tlearn: 1.0000000\ttotal: 418ms\tremaining: 303ms\n",
      "58:\tlearn: 1.0000000\ttotal: 425ms\tremaining: 295ms\n",
      "59:\tlearn: 1.0000000\ttotal: 432ms\tremaining: 288ms\n",
      "60:\tlearn: 1.0000000\ttotal: 439ms\tremaining: 281ms\n",
      "61:\tlearn: 1.0000000\ttotal: 443ms\tremaining: 271ms\n",
      "62:\tlearn: 1.0000000\ttotal: 450ms\tremaining: 264ms\n",
      "63:\tlearn: 1.0000000\ttotal: 457ms\tremaining: 257ms\n",
      "64:\tlearn: 1.0000000\ttotal: 465ms\tremaining: 250ms\n",
      "65:\tlearn: 1.0000000\ttotal: 472ms\tremaining: 243ms\n",
      "66:\tlearn: 1.0000000\ttotal: 480ms\tremaining: 236ms\n",
      "67:\tlearn: 1.0000000\ttotal: 487ms\tremaining: 229ms\n",
      "68:\tlearn: 1.0000000\ttotal: 495ms\tremaining: 222ms\n",
      "69:\tlearn: 1.0000000\ttotal: 502ms\tremaining: 215ms\n",
      "70:\tlearn: 1.0000000\ttotal: 509ms\tremaining: 208ms\n",
      "71:\tlearn: 1.0000000\ttotal: 517ms\tremaining: 201ms\n",
      "72:\tlearn: 1.0000000\ttotal: 524ms\tremaining: 194ms\n",
      "73:\tlearn: 1.0000000\ttotal: 531ms\tremaining: 187ms\n",
      "74:\tlearn: 1.0000000\ttotal: 541ms\tremaining: 180ms\n",
      "75:\tlearn: 1.0000000\ttotal: 551ms\tremaining: 174ms\n",
      "76:\tlearn: 1.0000000\ttotal: 559ms\tremaining: 167ms\n",
      "77:\tlearn: 1.0000000\ttotal: 567ms\tremaining: 160ms\n",
      "78:\tlearn: 1.0000000\ttotal: 575ms\tremaining: 153ms\n",
      "79:\tlearn: 1.0000000\ttotal: 582ms\tremaining: 145ms\n",
      "80:\tlearn: 1.0000000\ttotal: 589ms\tremaining: 138ms\n",
      "81:\tlearn: 1.0000000\ttotal: 595ms\tremaining: 131ms\n",
      "82:\tlearn: 1.0000000\ttotal: 602ms\tremaining: 123ms\n",
      "83:\tlearn: 1.0000000\ttotal: 609ms\tremaining: 116ms\n",
      "84:\tlearn: 1.0000000\ttotal: 616ms\tremaining: 109ms\n",
      "85:\tlearn: 1.0000000\ttotal: 623ms\tremaining: 101ms\n",
      "86:\tlearn: 1.0000000\ttotal: 630ms\tremaining: 94.2ms\n",
      "87:\tlearn: 1.0000000\ttotal: 637ms\tremaining: 86.9ms\n",
      "88:\tlearn: 1.0000000\ttotal: 645ms\tremaining: 79.7ms\n",
      "89:\tlearn: 1.0000000\ttotal: 652ms\tremaining: 72.4ms\n",
      "90:\tlearn: 1.0000000\ttotal: 659ms\tremaining: 65.2ms\n",
      "91:\tlearn: 1.0000000\ttotal: 667ms\tremaining: 58ms\n",
      "92:\tlearn: 1.0000000\ttotal: 674ms\tremaining: 50.7ms\n",
      "93:\tlearn: 1.0000000\ttotal: 681ms\tremaining: 43.5ms\n",
      "94:\tlearn: 1.0000000\ttotal: 688ms\tremaining: 36.2ms\n",
      "95:\tlearn: 1.0000000\ttotal: 695ms\tremaining: 29ms\n",
      "96:\tlearn: 1.0000000\ttotal: 703ms\tremaining: 21.7ms\n",
      "97:\tlearn: 1.0000000\ttotal: 710ms\tremaining: 14.5ms\n",
      "98:\tlearn: 1.0000000\ttotal: 717ms\tremaining: 7.24ms\n",
      "99:\tlearn: 1.0000000\ttotal: 725ms\tremaining: 0us\n",
      "0:\tlearn: 0.9618182\ttotal: 10.6ms\tremaining: 1.05s\n",
      "1:\tlearn: 0.9690909\ttotal: 18ms\tremaining: 880ms\n",
      "2:\tlearn: 0.9727273\ttotal: 25ms\tremaining: 810ms\n",
      "3:\tlearn: 0.9800000\ttotal: 32.1ms\tremaining: 770ms\n",
      "4:\tlearn: 0.9800000\ttotal: 39.1ms\tremaining: 742ms\n",
      "5:\tlearn: 0.9818182\ttotal: 45.9ms\tremaining: 719ms\n",
      "6:\tlearn: 0.9836364\ttotal: 52.7ms\tremaining: 701ms\n",
      "7:\tlearn: 0.9872727\ttotal: 59.8ms\tremaining: 687ms\n",
      "8:\tlearn: 0.9909091\ttotal: 67.5ms\tremaining: 683ms\n",
      "9:\tlearn: 0.9909091\ttotal: 75.5ms\tremaining: 680ms\n",
      "10:\tlearn: 0.9909091\ttotal: 90.7ms\tremaining: 733ms\n",
      "11:\tlearn: 0.9909091\ttotal: 99.7ms\tremaining: 731ms\n",
      "12:\tlearn: 0.9927273\ttotal: 107ms\tremaining: 715ms\n",
      "13:\tlearn: 0.9927273\ttotal: 115ms\tremaining: 704ms\n",
      "14:\tlearn: 0.9945455\ttotal: 123ms\tremaining: 695ms\n",
      "15:\tlearn: 0.9927273\ttotal: 131ms\tremaining: 685ms\n",
      "16:\tlearn: 0.9945455\ttotal: 140ms\tremaining: 682ms\n",
      "17:\tlearn: 0.9945455\ttotal: 149ms\tremaining: 679ms\n",
      "18:\tlearn: 0.9945455\ttotal: 159ms\tremaining: 678ms\n",
      "19:\tlearn: 0.9945455\ttotal: 170ms\tremaining: 678ms\n",
      "20:\tlearn: 0.9945455\ttotal: 178ms\tremaining: 670ms\n",
      "21:\tlearn: 0.9945455\ttotal: 189ms\tremaining: 671ms\n",
      "22:\tlearn: 0.9945455\ttotal: 199ms\tremaining: 666ms\n",
      "23:\tlearn: 0.9945455\ttotal: 207ms\tremaining: 656ms\n",
      "24:\tlearn: 0.9963636\ttotal: 218ms\tremaining: 653ms\n",
      "25:\tlearn: 0.9963636\ttotal: 227ms\tremaining: 646ms\n",
      "26:\tlearn: 0.9981818\ttotal: 236ms\tremaining: 639ms\n",
      "27:\tlearn: 0.9981818\ttotal: 248ms\tremaining: 638ms\n",
      "28:\tlearn: 0.9981818\ttotal: 257ms\tremaining: 628ms\n",
      "29:\tlearn: 1.0000000\ttotal: 267ms\tremaining: 623ms\n",
      "30:\tlearn: 1.0000000\ttotal: 276ms\tremaining: 615ms\n",
      "31:\tlearn: 1.0000000\ttotal: 286ms\tremaining: 607ms\n",
      "32:\tlearn: 1.0000000\ttotal: 295ms\tremaining: 600ms\n",
      "33:\tlearn: 1.0000000\ttotal: 306ms\tremaining: 593ms\n",
      "34:\tlearn: 1.0000000\ttotal: 315ms\tremaining: 584ms\n",
      "35:\tlearn: 1.0000000\ttotal: 324ms\tremaining: 576ms\n",
      "36:\tlearn: 1.0000000\ttotal: 334ms\tremaining: 569ms\n",
      "37:\tlearn: 1.0000000\ttotal: 343ms\tremaining: 560ms\n",
      "38:\tlearn: 1.0000000\ttotal: 353ms\tremaining: 552ms\n",
      "39:\tlearn: 1.0000000\ttotal: 362ms\tremaining: 543ms\n",
      "40:\tlearn: 1.0000000\ttotal: 371ms\tremaining: 534ms\n",
      "41:\tlearn: 1.0000000\ttotal: 380ms\tremaining: 524ms\n",
      "42:\tlearn: 1.0000000\ttotal: 389ms\tremaining: 516ms\n",
      "43:\tlearn: 1.0000000\ttotal: 398ms\tremaining: 507ms\n",
      "44:\tlearn: 1.0000000\ttotal: 407ms\tremaining: 497ms\n",
      "45:\tlearn: 1.0000000\ttotal: 416ms\tremaining: 488ms\n",
      "46:\tlearn: 1.0000000\ttotal: 425ms\tremaining: 480ms\n",
      "47:\tlearn: 1.0000000\ttotal: 435ms\tremaining: 471ms\n",
      "48:\tlearn: 1.0000000\ttotal: 443ms\tremaining: 461ms\n",
      "49:\tlearn: 1.0000000\ttotal: 452ms\tremaining: 452ms\n",
      "50:\tlearn: 1.0000000\ttotal: 460ms\tremaining: 442ms\n",
      "51:\tlearn: 1.0000000\ttotal: 467ms\tremaining: 431ms\n",
      "52:\tlearn: 1.0000000\ttotal: 475ms\tremaining: 421ms\n",
      "53:\tlearn: 1.0000000\ttotal: 482ms\tremaining: 410ms\n",
      "54:\tlearn: 1.0000000\ttotal: 488ms\tremaining: 400ms\n",
      "55:\tlearn: 1.0000000\ttotal: 496ms\tremaining: 390ms\n",
      "56:\tlearn: 1.0000000\ttotal: 504ms\tremaining: 380ms\n",
      "57:\tlearn: 1.0000000\ttotal: 511ms\tremaining: 370ms\n",
      "58:\tlearn: 1.0000000\ttotal: 519ms\tremaining: 361ms\n",
      "59:\tlearn: 1.0000000\ttotal: 526ms\tremaining: 351ms\n",
      "60:\tlearn: 1.0000000\ttotal: 534ms\tremaining: 341ms\n",
      "61:\tlearn: 1.0000000\ttotal: 542ms\tremaining: 332ms\n",
      "62:\tlearn: 1.0000000\ttotal: 549ms\tremaining: 323ms\n",
      "63:\tlearn: 1.0000000\ttotal: 557ms\tremaining: 313ms\n",
      "64:\tlearn: 1.0000000\ttotal: 565ms\tremaining: 304ms\n",
      "65:\tlearn: 1.0000000\ttotal: 573ms\tremaining: 295ms\n",
      "66:\tlearn: 1.0000000\ttotal: 581ms\tremaining: 286ms\n",
      "67:\tlearn: 1.0000000\ttotal: 588ms\tremaining: 277ms\n",
      "68:\tlearn: 1.0000000\ttotal: 596ms\tremaining: 268ms\n",
      "69:\tlearn: 1.0000000\ttotal: 603ms\tremaining: 258ms\n",
      "70:\tlearn: 1.0000000\ttotal: 610ms\tremaining: 249ms\n",
      "71:\tlearn: 1.0000000\ttotal: 617ms\tremaining: 240ms\n",
      "72:\tlearn: 1.0000000\ttotal: 624ms\tremaining: 231ms\n",
      "73:\tlearn: 1.0000000\ttotal: 631ms\tremaining: 222ms\n",
      "74:\tlearn: 1.0000000\ttotal: 638ms\tremaining: 213ms\n",
      "75:\tlearn: 1.0000000\ttotal: 645ms\tremaining: 204ms\n",
      "76:\tlearn: 1.0000000\ttotal: 653ms\tremaining: 195ms\n",
      "77:\tlearn: 1.0000000\ttotal: 659ms\tremaining: 186ms\n",
      "78:\tlearn: 1.0000000\ttotal: 667ms\tremaining: 177ms\n",
      "79:\tlearn: 1.0000000\ttotal: 674ms\tremaining: 169ms\n",
      "80:\tlearn: 1.0000000\ttotal: 682ms\tremaining: 160ms\n",
      "81:\tlearn: 1.0000000\ttotal: 689ms\tremaining: 151ms\n",
      "82:\tlearn: 1.0000000\ttotal: 696ms\tremaining: 143ms\n",
      "83:\tlearn: 1.0000000\ttotal: 704ms\tremaining: 134ms\n",
      "84:\tlearn: 1.0000000\ttotal: 711ms\tremaining: 125ms\n",
      "85:\tlearn: 1.0000000\ttotal: 718ms\tremaining: 117ms\n",
      "86:\tlearn: 1.0000000\ttotal: 726ms\tremaining: 108ms\n",
      "87:\tlearn: 1.0000000\ttotal: 734ms\tremaining: 100ms\n",
      "88:\tlearn: 1.0000000\ttotal: 741ms\tremaining: 91.5ms\n",
      "89:\tlearn: 1.0000000\ttotal: 747ms\tremaining: 83.1ms\n",
      "90:\tlearn: 1.0000000\ttotal: 755ms\tremaining: 74.6ms\n",
      "91:\tlearn: 1.0000000\ttotal: 761ms\tremaining: 66.2ms\n",
      "92:\tlearn: 1.0000000\ttotal: 768ms\tremaining: 57.8ms\n",
      "93:\tlearn: 1.0000000\ttotal: 775ms\tremaining: 49.5ms\n",
      "94:\tlearn: 1.0000000\ttotal: 783ms\tremaining: 41.2ms\n",
      "95:\tlearn: 1.0000000\ttotal: 793ms\tremaining: 33ms\n",
      "96:\tlearn: 1.0000000\ttotal: 801ms\tremaining: 24.8ms\n",
      "97:\tlearn: 1.0000000\ttotal: 809ms\tremaining: 16.5ms\n",
      "98:\tlearn: 1.0000000\ttotal: 817ms\tremaining: 8.26ms\n",
      "99:\tlearn: 1.0000000\ttotal: 826ms\tremaining: 0us\n",
      "0:\tlearn: 0.9563636\ttotal: 9.89ms\tremaining: 979ms\n",
      "1:\tlearn: 0.9690909\ttotal: 19ms\tremaining: 932ms\n",
      "2:\tlearn: 0.9781818\ttotal: 27.2ms\tremaining: 881ms\n",
      "3:\tlearn: 0.9818182\ttotal: 36.1ms\tremaining: 867ms\n",
      "4:\tlearn: 0.9800000\ttotal: 44.6ms\tremaining: 848ms\n",
      "5:\tlearn: 0.9818182\ttotal: 53ms\tremaining: 831ms\n",
      "6:\tlearn: 0.9836364\ttotal: 60.5ms\tremaining: 803ms\n",
      "7:\tlearn: 0.9909091\ttotal: 67.5ms\tremaining: 777ms\n",
      "8:\tlearn: 0.9909091\ttotal: 75.7ms\tremaining: 765ms\n",
      "9:\tlearn: 0.9909091\ttotal: 84.4ms\tremaining: 760ms\n",
      "10:\tlearn: 0.9909091\ttotal: 93.2ms\tremaining: 754ms\n",
      "11:\tlearn: 0.9927273\ttotal: 101ms\tremaining: 741ms\n",
      "12:\tlearn: 0.9909091\ttotal: 109ms\tremaining: 730ms\n",
      "13:\tlearn: 0.9909091\ttotal: 118ms\tremaining: 728ms\n",
      "14:\tlearn: 0.9927273\ttotal: 127ms\tremaining: 721ms\n",
      "15:\tlearn: 0.9927273\ttotal: 136ms\tremaining: 716ms\n",
      "16:\tlearn: 0.9927273\ttotal: 144ms\tremaining: 702ms\n",
      "17:\tlearn: 0.9927273\ttotal: 152ms\tremaining: 692ms\n",
      "18:\tlearn: 0.9945455\ttotal: 160ms\tremaining: 682ms\n",
      "19:\tlearn: 0.9945455\ttotal: 167ms\tremaining: 670ms\n",
      "20:\tlearn: 0.9945455\ttotal: 175ms\tremaining: 659ms\n",
      "21:\tlearn: 0.9945455\ttotal: 183ms\tremaining: 648ms\n",
      "22:\tlearn: 0.9945455\ttotal: 190ms\tremaining: 638ms\n",
      "23:\tlearn: 0.9963636\ttotal: 199ms\tremaining: 630ms\n",
      "24:\tlearn: 0.9963636\ttotal: 209ms\tremaining: 626ms\n",
      "25:\tlearn: 0.9981818\ttotal: 218ms\tremaining: 621ms\n",
      "26:\tlearn: 0.9981818\ttotal: 226ms\tremaining: 610ms\n",
      "27:\tlearn: 0.9981818\ttotal: 233ms\tremaining: 600ms\n",
      "28:\tlearn: 0.9981818\ttotal: 241ms\tremaining: 589ms\n",
      "29:\tlearn: 0.9981818\ttotal: 249ms\tremaining: 582ms\n",
      "30:\tlearn: 0.9981818\ttotal: 258ms\tremaining: 573ms\n",
      "31:\tlearn: 0.9981818\ttotal: 265ms\tremaining: 564ms\n",
      "32:\tlearn: 1.0000000\ttotal: 274ms\tremaining: 556ms\n",
      "33:\tlearn: 1.0000000\ttotal: 283ms\tremaining: 549ms\n",
      "34:\tlearn: 1.0000000\ttotal: 291ms\tremaining: 540ms\n",
      "35:\tlearn: 1.0000000\ttotal: 298ms\tremaining: 530ms\n",
      "36:\tlearn: 1.0000000\ttotal: 306ms\tremaining: 522ms\n",
      "37:\tlearn: 1.0000000\ttotal: 316ms\tremaining: 515ms\n",
      "38:\tlearn: 1.0000000\ttotal: 325ms\tremaining: 508ms\n",
      "39:\tlearn: 1.0000000\ttotal: 333ms\tremaining: 499ms\n",
      "40:\tlearn: 1.0000000\ttotal: 340ms\tremaining: 490ms\n",
      "41:\tlearn: 1.0000000\ttotal: 348ms\tremaining: 481ms\n",
      "42:\tlearn: 1.0000000\ttotal: 355ms\tremaining: 470ms\n",
      "43:\tlearn: 1.0000000\ttotal: 362ms\tremaining: 460ms\n",
      "44:\tlearn: 1.0000000\ttotal: 369ms\tremaining: 450ms\n",
      "45:\tlearn: 1.0000000\ttotal: 375ms\tremaining: 441ms\n",
      "46:\tlearn: 1.0000000\ttotal: 382ms\tremaining: 431ms\n",
      "47:\tlearn: 1.0000000\ttotal: 389ms\tremaining: 422ms\n",
      "48:\tlearn: 1.0000000\ttotal: 396ms\tremaining: 413ms\n",
      "49:\tlearn: 1.0000000\ttotal: 403ms\tremaining: 403ms\n",
      "50:\tlearn: 1.0000000\ttotal: 410ms\tremaining: 394ms\n",
      "51:\tlearn: 1.0000000\ttotal: 417ms\tremaining: 385ms\n",
      "52:\tlearn: 1.0000000\ttotal: 424ms\tremaining: 376ms\n",
      "53:\tlearn: 1.0000000\ttotal: 431ms\tremaining: 367ms\n",
      "54:\tlearn: 1.0000000\ttotal: 438ms\tremaining: 358ms\n",
      "55:\tlearn: 1.0000000\ttotal: 445ms\tremaining: 349ms\n",
      "56:\tlearn: 1.0000000\ttotal: 452ms\tremaining: 341ms\n",
      "57:\tlearn: 1.0000000\ttotal: 460ms\tremaining: 333ms\n",
      "58:\tlearn: 1.0000000\ttotal: 467ms\tremaining: 325ms\n",
      "59:\tlearn: 1.0000000\ttotal: 474ms\tremaining: 316ms\n",
      "60:\tlearn: 1.0000000\ttotal: 482ms\tremaining: 308ms\n",
      "61:\tlearn: 1.0000000\ttotal: 490ms\tremaining: 300ms\n",
      "62:\tlearn: 1.0000000\ttotal: 497ms\tremaining: 292ms\n",
      "63:\tlearn: 1.0000000\ttotal: 505ms\tremaining: 284ms\n",
      "64:\tlearn: 1.0000000\ttotal: 512ms\tremaining: 276ms\n",
      "65:\tlearn: 1.0000000\ttotal: 518ms\tremaining: 267ms\n",
      "66:\tlearn: 1.0000000\ttotal: 526ms\tremaining: 259ms\n",
      "67:\tlearn: 1.0000000\ttotal: 532ms\tremaining: 251ms\n",
      "68:\tlearn: 1.0000000\ttotal: 539ms\tremaining: 242ms\n",
      "69:\tlearn: 1.0000000\ttotal: 546ms\tremaining: 234ms\n",
      "70:\tlearn: 1.0000000\ttotal: 553ms\tremaining: 226ms\n",
      "71:\tlearn: 1.0000000\ttotal: 560ms\tremaining: 218ms\n",
      "72:\tlearn: 1.0000000\ttotal: 567ms\tremaining: 210ms\n",
      "73:\tlearn: 1.0000000\ttotal: 574ms\tremaining: 202ms\n",
      "74:\tlearn: 1.0000000\ttotal: 581ms\tremaining: 194ms\n",
      "75:\tlearn: 1.0000000\ttotal: 588ms\tremaining: 186ms\n",
      "76:\tlearn: 1.0000000\ttotal: 595ms\tremaining: 178ms\n",
      "77:\tlearn: 1.0000000\ttotal: 602ms\tremaining: 170ms\n",
      "78:\tlearn: 1.0000000\ttotal: 609ms\tremaining: 162ms\n",
      "79:\tlearn: 1.0000000\ttotal: 616ms\tremaining: 154ms\n",
      "80:\tlearn: 1.0000000\ttotal: 623ms\tremaining: 146ms\n",
      "81:\tlearn: 1.0000000\ttotal: 630ms\tremaining: 138ms\n",
      "82:\tlearn: 1.0000000\ttotal: 637ms\tremaining: 130ms\n",
      "83:\tlearn: 1.0000000\ttotal: 643ms\tremaining: 123ms\n",
      "84:\tlearn: 1.0000000\ttotal: 651ms\tremaining: 115ms\n",
      "85:\tlearn: 1.0000000\ttotal: 658ms\tremaining: 107ms\n",
      "86:\tlearn: 1.0000000\ttotal: 665ms\tremaining: 99.4ms\n",
      "87:\tlearn: 1.0000000\ttotal: 673ms\tremaining: 91.7ms\n",
      "88:\tlearn: 1.0000000\ttotal: 680ms\tremaining: 84ms\n",
      "89:\tlearn: 1.0000000\ttotal: 688ms\tremaining: 76.4ms\n",
      "90:\tlearn: 1.0000000\ttotal: 696ms\tremaining: 68.8ms\n",
      "91:\tlearn: 1.0000000\ttotal: 704ms\tremaining: 61.2ms\n",
      "92:\tlearn: 1.0000000\ttotal: 712ms\tremaining: 53.6ms\n",
      "93:\tlearn: 1.0000000\ttotal: 720ms\tremaining: 45.9ms\n",
      "94:\tlearn: 1.0000000\ttotal: 727ms\tremaining: 38.3ms\n",
      "95:\tlearn: 1.0000000\ttotal: 734ms\tremaining: 30.6ms\n",
      "96:\tlearn: 1.0000000\ttotal: 741ms\tremaining: 22.9ms\n",
      "97:\tlearn: 1.0000000\ttotal: 748ms\tremaining: 15.3ms\n",
      "98:\tlearn: 1.0000000\ttotal: 756ms\tremaining: 7.64ms\n",
      "99:\tlearn: 1.0000000\ttotal: 764ms\tremaining: 0us\n",
      "0:\tlearn: 0.9581818\ttotal: 10.2ms\tremaining: 1s\n",
      "1:\tlearn: 0.9527273\ttotal: 17.6ms\tremaining: 864ms\n",
      "2:\tlearn: 0.9636364\ttotal: 25.1ms\tremaining: 813ms\n",
      "3:\tlearn: 0.9781818\ttotal: 32.4ms\tremaining: 778ms\n",
      "4:\tlearn: 0.9836364\ttotal: 39.4ms\tremaining: 749ms\n",
      "5:\tlearn: 0.9836364\ttotal: 46.3ms\tremaining: 726ms\n",
      "6:\tlearn: 0.9854545\ttotal: 53.4ms\tremaining: 709ms\n",
      "7:\tlearn: 0.9890909\ttotal: 61.4ms\tremaining: 706ms\n",
      "8:\tlearn: 0.9890909\ttotal: 69.3ms\tremaining: 700ms\n",
      "9:\tlearn: 0.9909091\ttotal: 76.9ms\tremaining: 692ms\n",
      "10:\tlearn: 0.9909091\ttotal: 85.1ms\tremaining: 688ms\n",
      "11:\tlearn: 0.9909091\ttotal: 93ms\tremaining: 682ms\n",
      "12:\tlearn: 0.9909091\ttotal: 100ms\tremaining: 672ms\n",
      "13:\tlearn: 0.9927273\ttotal: 109ms\tremaining: 667ms\n",
      "14:\tlearn: 0.9927273\ttotal: 117ms\tremaining: 661ms\n",
      "15:\tlearn: 0.9945455\ttotal: 124ms\tremaining: 654ms\n",
      "16:\tlearn: 0.9945455\ttotal: 133ms\tremaining: 647ms\n",
      "17:\tlearn: 0.9945455\ttotal: 141ms\tremaining: 641ms\n",
      "18:\tlearn: 0.9945455\ttotal: 148ms\tremaining: 632ms\n",
      "19:\tlearn: 0.9945455\ttotal: 156ms\tremaining: 624ms\n",
      "20:\tlearn: 0.9945455\ttotal: 163ms\tremaining: 614ms\n",
      "21:\tlearn: 0.9945455\ttotal: 170ms\tremaining: 604ms\n",
      "22:\tlearn: 0.9945455\ttotal: 178ms\tremaining: 595ms\n",
      "23:\tlearn: 0.9945455\ttotal: 185ms\tremaining: 587ms\n",
      "24:\tlearn: 0.9945455\ttotal: 193ms\tremaining: 578ms\n",
      "25:\tlearn: 0.9963636\ttotal: 201ms\tremaining: 572ms\n",
      "26:\tlearn: 0.9963636\ttotal: 210ms\tremaining: 567ms\n",
      "27:\tlearn: 1.0000000\ttotal: 218ms\tremaining: 562ms\n",
      "28:\tlearn: 1.0000000\ttotal: 227ms\tremaining: 557ms\n",
      "29:\tlearn: 1.0000000\ttotal: 236ms\tremaining: 551ms\n",
      "30:\tlearn: 1.0000000\ttotal: 245ms\tremaining: 546ms\n",
      "31:\tlearn: 1.0000000\ttotal: 254ms\tremaining: 540ms\n",
      "32:\tlearn: 1.0000000\ttotal: 263ms\tremaining: 534ms\n",
      "33:\tlearn: 1.0000000\ttotal: 272ms\tremaining: 528ms\n",
      "34:\tlearn: 1.0000000\ttotal: 281ms\tremaining: 521ms\n",
      "35:\tlearn: 1.0000000\ttotal: 290ms\tremaining: 515ms\n",
      "36:\tlearn: 1.0000000\ttotal: 298ms\tremaining: 508ms\n",
      "37:\tlearn: 1.0000000\ttotal: 306ms\tremaining: 500ms\n",
      "38:\tlearn: 1.0000000\ttotal: 315ms\tremaining: 492ms\n",
      "39:\tlearn: 1.0000000\ttotal: 323ms\tremaining: 484ms\n",
      "40:\tlearn: 1.0000000\ttotal: 331ms\tremaining: 477ms\n",
      "41:\tlearn: 1.0000000\ttotal: 340ms\tremaining: 469ms\n",
      "42:\tlearn: 1.0000000\ttotal: 349ms\tremaining: 463ms\n",
      "43:\tlearn: 1.0000000\ttotal: 358ms\tremaining: 456ms\n",
      "44:\tlearn: 1.0000000\ttotal: 366ms\tremaining: 447ms\n",
      "45:\tlearn: 1.0000000\ttotal: 374ms\tremaining: 439ms\n",
      "46:\tlearn: 1.0000000\ttotal: 383ms\tremaining: 431ms\n",
      "47:\tlearn: 1.0000000\ttotal: 391ms\tremaining: 423ms\n",
      "48:\tlearn: 1.0000000\ttotal: 400ms\tremaining: 416ms\n",
      "49:\tlearn: 1.0000000\ttotal: 411ms\tremaining: 411ms\n",
      "50:\tlearn: 1.0000000\ttotal: 418ms\tremaining: 402ms\n",
      "51:\tlearn: 1.0000000\ttotal: 426ms\tremaining: 393ms\n",
      "52:\tlearn: 1.0000000\ttotal: 433ms\tremaining: 384ms\n",
      "53:\tlearn: 1.0000000\ttotal: 441ms\tremaining: 375ms\n",
      "54:\tlearn: 1.0000000\ttotal: 449ms\tremaining: 367ms\n",
      "55:\tlearn: 1.0000000\ttotal: 457ms\tremaining: 359ms\n",
      "56:\tlearn: 1.0000000\ttotal: 466ms\tremaining: 351ms\n",
      "57:\tlearn: 1.0000000\ttotal: 474ms\tremaining: 343ms\n",
      "58:\tlearn: 1.0000000\ttotal: 482ms\tremaining: 335ms\n",
      "59:\tlearn: 1.0000000\ttotal: 490ms\tremaining: 327ms\n",
      "60:\tlearn: 1.0000000\ttotal: 498ms\tremaining: 319ms\n",
      "61:\tlearn: 1.0000000\ttotal: 506ms\tremaining: 310ms\n",
      "62:\tlearn: 1.0000000\ttotal: 513ms\tremaining: 301ms\n",
      "63:\tlearn: 1.0000000\ttotal: 521ms\tremaining: 293ms\n",
      "64:\tlearn: 1.0000000\ttotal: 528ms\tremaining: 284ms\n",
      "65:\tlearn: 1.0000000\ttotal: 536ms\tremaining: 276ms\n",
      "66:\tlearn: 1.0000000\ttotal: 545ms\tremaining: 268ms\n",
      "67:\tlearn: 1.0000000\ttotal: 553ms\tremaining: 260ms\n",
      "68:\tlearn: 1.0000000\ttotal: 562ms\tremaining: 252ms\n",
      "69:\tlearn: 1.0000000\ttotal: 570ms\tremaining: 244ms\n",
      "70:\tlearn: 1.0000000\ttotal: 577ms\tremaining: 236ms\n",
      "71:\tlearn: 1.0000000\ttotal: 585ms\tremaining: 227ms\n",
      "72:\tlearn: 1.0000000\ttotal: 594ms\tremaining: 220ms\n",
      "73:\tlearn: 1.0000000\ttotal: 601ms\tremaining: 211ms\n",
      "74:\tlearn: 1.0000000\ttotal: 609ms\tremaining: 203ms\n",
      "75:\tlearn: 1.0000000\ttotal: 616ms\tremaining: 195ms\n",
      "76:\tlearn: 1.0000000\ttotal: 624ms\tremaining: 186ms\n",
      "77:\tlearn: 1.0000000\ttotal: 631ms\tremaining: 178ms\n",
      "78:\tlearn: 1.0000000\ttotal: 639ms\tremaining: 170ms\n",
      "79:\tlearn: 1.0000000\ttotal: 646ms\tremaining: 162ms\n",
      "80:\tlearn: 1.0000000\ttotal: 653ms\tremaining: 153ms\n",
      "81:\tlearn: 1.0000000\ttotal: 661ms\tremaining: 145ms\n",
      "82:\tlearn: 1.0000000\ttotal: 669ms\tremaining: 137ms\n",
      "83:\tlearn: 1.0000000\ttotal: 677ms\tremaining: 129ms\n",
      "84:\tlearn: 1.0000000\ttotal: 684ms\tremaining: 121ms\n",
      "85:\tlearn: 1.0000000\ttotal: 691ms\tremaining: 113ms\n",
      "86:\tlearn: 1.0000000\ttotal: 699ms\tremaining: 104ms\n",
      "87:\tlearn: 1.0000000\ttotal: 706ms\tremaining: 96.3ms\n",
      "88:\tlearn: 1.0000000\ttotal: 713ms\tremaining: 88.2ms\n",
      "89:\tlearn: 1.0000000\ttotal: 720ms\tremaining: 80.1ms\n",
      "90:\tlearn: 1.0000000\ttotal: 728ms\tremaining: 72ms\n",
      "91:\tlearn: 1.0000000\ttotal: 735ms\tremaining: 63.9ms\n",
      "92:\tlearn: 1.0000000\ttotal: 742ms\tremaining: 55.8ms\n",
      "93:\tlearn: 1.0000000\ttotal: 749ms\tremaining: 47.8ms\n",
      "94:\tlearn: 1.0000000\ttotal: 756ms\tremaining: 39.8ms\n",
      "95:\tlearn: 1.0000000\ttotal: 762ms\tremaining: 31.8ms\n",
      "96:\tlearn: 1.0000000\ttotal: 769ms\tremaining: 23.8ms\n",
      "97:\tlearn: 1.0000000\ttotal: 776ms\tremaining: 15.8ms\n",
      "98:\tlearn: 1.0000000\ttotal: 783ms\tremaining: 7.91ms\n",
      "99:\tlearn: 1.0000000\ttotal: 790ms\tremaining: 0us\n",
      "0:\tlearn: 0.9600000\ttotal: 8.89ms\tremaining: 880ms\n",
      "1:\tlearn: 0.9709091\ttotal: 16.4ms\tremaining: 806ms\n",
      "2:\tlearn: 0.9636364\ttotal: 23.8ms\tremaining: 771ms\n",
      "3:\tlearn: 0.9690909\ttotal: 31.4ms\tremaining: 753ms\n",
      "4:\tlearn: 0.9781818\ttotal: 39.7ms\tremaining: 754ms\n",
      "5:\tlearn: 0.9854545\ttotal: 47.7ms\tremaining: 747ms\n",
      "6:\tlearn: 0.9890909\ttotal: 55.4ms\tremaining: 736ms\n",
      "7:\tlearn: 0.9909091\ttotal: 62.6ms\tremaining: 719ms\n",
      "8:\tlearn: 0.9909091\ttotal: 69.6ms\tremaining: 703ms\n",
      "9:\tlearn: 0.9909091\ttotal: 76.5ms\tremaining: 689ms\n",
      "10:\tlearn: 0.9945455\ttotal: 83.9ms\tremaining: 679ms\n",
      "11:\tlearn: 0.9945455\ttotal: 91.3ms\tremaining: 670ms\n",
      "12:\tlearn: 0.9945455\ttotal: 98.7ms\tremaining: 661ms\n",
      "13:\tlearn: 0.9945455\ttotal: 106ms\tremaining: 652ms\n",
      "14:\tlearn: 0.9945455\ttotal: 113ms\tremaining: 642ms\n",
      "15:\tlearn: 0.9945455\ttotal: 120ms\tremaining: 630ms\n",
      "16:\tlearn: 0.9945455\ttotal: 127ms\tremaining: 619ms\n",
      "17:\tlearn: 0.9945455\ttotal: 134ms\tremaining: 611ms\n",
      "18:\tlearn: 0.9945455\ttotal: 141ms\tremaining: 600ms\n",
      "19:\tlearn: 0.9945455\ttotal: 148ms\tremaining: 593ms\n",
      "20:\tlearn: 0.9945455\ttotal: 156ms\tremaining: 587ms\n",
      "21:\tlearn: 0.9945455\ttotal: 166ms\tremaining: 588ms\n",
      "22:\tlearn: 0.9945455\ttotal: 175ms\tremaining: 585ms\n",
      "23:\tlearn: 0.9945455\ttotal: 186ms\tremaining: 589ms\n",
      "24:\tlearn: 0.9963636\ttotal: 195ms\tremaining: 584ms\n",
      "25:\tlearn: 0.9963636\ttotal: 205ms\tremaining: 583ms\n",
      "26:\tlearn: 0.9981818\ttotal: 214ms\tremaining: 579ms\n",
      "27:\tlearn: 0.9981818\ttotal: 224ms\tremaining: 576ms\n",
      "28:\tlearn: 0.9981818\ttotal: 233ms\tremaining: 571ms\n",
      "29:\tlearn: 1.0000000\ttotal: 242ms\tremaining: 565ms\n",
      "30:\tlearn: 1.0000000\ttotal: 252ms\tremaining: 560ms\n",
      "31:\tlearn: 1.0000000\ttotal: 261ms\tremaining: 554ms\n",
      "32:\tlearn: 1.0000000\ttotal: 270ms\tremaining: 548ms\n",
      "33:\tlearn: 1.0000000\ttotal: 280ms\tremaining: 543ms\n",
      "34:\tlearn: 1.0000000\ttotal: 288ms\tremaining: 536ms\n",
      "35:\tlearn: 1.0000000\ttotal: 298ms\tremaining: 530ms\n",
      "36:\tlearn: 1.0000000\ttotal: 306ms\tremaining: 522ms\n",
      "37:\tlearn: 1.0000000\ttotal: 316ms\tremaining: 515ms\n",
      "38:\tlearn: 1.0000000\ttotal: 325ms\tremaining: 508ms\n",
      "39:\tlearn: 1.0000000\ttotal: 334ms\tremaining: 501ms\n",
      "40:\tlearn: 1.0000000\ttotal: 342ms\tremaining: 492ms\n",
      "41:\tlearn: 1.0000000\ttotal: 350ms\tremaining: 483ms\n",
      "42:\tlearn: 1.0000000\ttotal: 359ms\tremaining: 476ms\n",
      "43:\tlearn: 1.0000000\ttotal: 368ms\tremaining: 468ms\n",
      "44:\tlearn: 1.0000000\ttotal: 377ms\tremaining: 460ms\n",
      "45:\tlearn: 1.0000000\ttotal: 385ms\tremaining: 452ms\n",
      "46:\tlearn: 1.0000000\ttotal: 394ms\tremaining: 445ms\n",
      "47:\tlearn: 1.0000000\ttotal: 404ms\tremaining: 437ms\n",
      "48:\tlearn: 1.0000000\ttotal: 413ms\tremaining: 430ms\n",
      "49:\tlearn: 1.0000000\ttotal: 422ms\tremaining: 422ms\n",
      "50:\tlearn: 1.0000000\ttotal: 431ms\tremaining: 415ms\n",
      "51:\tlearn: 1.0000000\ttotal: 441ms\tremaining: 407ms\n",
      "52:\tlearn: 1.0000000\ttotal: 450ms\tremaining: 399ms\n",
      "53:\tlearn: 1.0000000\ttotal: 460ms\tremaining: 392ms\n",
      "54:\tlearn: 1.0000000\ttotal: 468ms\tremaining: 383ms\n",
      "55:\tlearn: 1.0000000\ttotal: 476ms\tremaining: 374ms\n",
      "56:\tlearn: 1.0000000\ttotal: 484ms\tremaining: 365ms\n",
      "57:\tlearn: 1.0000000\ttotal: 491ms\tremaining: 356ms\n",
      "58:\tlearn: 1.0000000\ttotal: 498ms\tremaining: 346ms\n",
      "59:\tlearn: 1.0000000\ttotal: 506ms\tremaining: 337ms\n",
      "60:\tlearn: 1.0000000\ttotal: 514ms\tremaining: 328ms\n",
      "61:\tlearn: 1.0000000\ttotal: 521ms\tremaining: 319ms\n",
      "62:\tlearn: 1.0000000\ttotal: 528ms\tremaining: 310ms\n",
      "63:\tlearn: 1.0000000\ttotal: 535ms\tremaining: 301ms\n",
      "64:\tlearn: 1.0000000\ttotal: 542ms\tremaining: 292ms\n",
      "65:\tlearn: 1.0000000\ttotal: 550ms\tremaining: 283ms\n",
      "66:\tlearn: 1.0000000\ttotal: 557ms\tremaining: 274ms\n",
      "67:\tlearn: 1.0000000\ttotal: 565ms\tremaining: 266ms\n",
      "68:\tlearn: 1.0000000\ttotal: 574ms\tremaining: 258ms\n",
      "69:\tlearn: 1.0000000\ttotal: 581ms\tremaining: 249ms\n",
      "70:\tlearn: 1.0000000\ttotal: 588ms\tremaining: 240ms\n",
      "71:\tlearn: 1.0000000\ttotal: 596ms\tremaining: 232ms\n",
      "72:\tlearn: 1.0000000\ttotal: 603ms\tremaining: 223ms\n",
      "73:\tlearn: 1.0000000\ttotal: 610ms\tremaining: 214ms\n",
      "74:\tlearn: 1.0000000\ttotal: 620ms\tremaining: 207ms\n",
      "75:\tlearn: 1.0000000\ttotal: 627ms\tremaining: 198ms\n",
      "76:\tlearn: 1.0000000\ttotal: 635ms\tremaining: 190ms\n",
      "77:\tlearn: 1.0000000\ttotal: 642ms\tremaining: 181ms\n",
      "78:\tlearn: 1.0000000\ttotal: 650ms\tremaining: 173ms\n",
      "79:\tlearn: 1.0000000\ttotal: 658ms\tremaining: 165ms\n",
      "80:\tlearn: 1.0000000\ttotal: 666ms\tremaining: 156ms\n",
      "81:\tlearn: 1.0000000\ttotal: 674ms\tremaining: 148ms\n",
      "82:\tlearn: 1.0000000\ttotal: 682ms\tremaining: 140ms\n",
      "83:\tlearn: 1.0000000\ttotal: 689ms\tremaining: 131ms\n",
      "84:\tlearn: 1.0000000\ttotal: 697ms\tremaining: 123ms\n",
      "85:\tlearn: 1.0000000\ttotal: 704ms\tremaining: 115ms\n",
      "86:\tlearn: 1.0000000\ttotal: 711ms\tremaining: 106ms\n",
      "87:\tlearn: 1.0000000\ttotal: 720ms\tremaining: 98.1ms\n",
      "88:\tlearn: 1.0000000\ttotal: 727ms\tremaining: 89.9ms\n",
      "89:\tlearn: 1.0000000\ttotal: 735ms\tremaining: 81.6ms\n",
      "90:\tlearn: 1.0000000\ttotal: 742ms\tremaining: 73.3ms\n",
      "91:\tlearn: 1.0000000\ttotal: 749ms\tremaining: 65.1ms\n",
      "92:\tlearn: 1.0000000\ttotal: 756ms\tremaining: 56.9ms\n",
      "93:\tlearn: 1.0000000\ttotal: 762ms\tremaining: 48.7ms\n",
      "94:\tlearn: 1.0000000\ttotal: 769ms\tremaining: 40.5ms\n",
      "95:\tlearn: 1.0000000\ttotal: 776ms\tremaining: 32.3ms\n",
      "96:\tlearn: 1.0000000\ttotal: 783ms\tremaining: 24.2ms\n",
      "97:\tlearn: 1.0000000\ttotal: 790ms\tremaining: 16.1ms\n",
      "98:\tlearn: 1.0000000\ttotal: 796ms\tremaining: 8.04ms\n",
      "99:\tlearn: 1.0000000\ttotal: 803ms\tremaining: 0us\n",
      "0:\tlearn: 0.9563636\ttotal: 9.43ms\tremaining: 934ms\n",
      "1:\tlearn: 0.9727273\ttotal: 17.3ms\tremaining: 849ms\n",
      "2:\tlearn: 0.9727273\ttotal: 25.1ms\tremaining: 810ms\n",
      "3:\tlearn: 0.9781818\ttotal: 32.3ms\tremaining: 776ms\n",
      "4:\tlearn: 0.9836364\ttotal: 40.2ms\tremaining: 764ms\n",
      "5:\tlearn: 0.9836364\ttotal: 47.6ms\tremaining: 746ms\n",
      "6:\tlearn: 0.9872727\ttotal: 55.3ms\tremaining: 735ms\n",
      "7:\tlearn: 0.9890909\ttotal: 62.6ms\tremaining: 720ms\n",
      "8:\tlearn: 0.9890909\ttotal: 69.7ms\tremaining: 704ms\n",
      "9:\tlearn: 0.9890909\ttotal: 76.7ms\tremaining: 691ms\n",
      "10:\tlearn: 0.9890909\ttotal: 84.3ms\tremaining: 682ms\n",
      "11:\tlearn: 0.9909091\ttotal: 91.3ms\tremaining: 669ms\n",
      "12:\tlearn: 0.9909091\ttotal: 99ms\tremaining: 662ms\n",
      "13:\tlearn: 0.9945455\ttotal: 106ms\tremaining: 650ms\n",
      "14:\tlearn: 0.9945455\ttotal: 113ms\tremaining: 639ms\n",
      "15:\tlearn: 0.9945455\ttotal: 120ms\tremaining: 629ms\n",
      "16:\tlearn: 0.9945455\ttotal: 127ms\tremaining: 618ms\n",
      "17:\tlearn: 0.9945455\ttotal: 134ms\tremaining: 610ms\n",
      "18:\tlearn: 0.9945455\ttotal: 141ms\tremaining: 602ms\n",
      "19:\tlearn: 0.9945455\ttotal: 149ms\tremaining: 595ms\n",
      "20:\tlearn: 0.9945455\ttotal: 156ms\tremaining: 586ms\n",
      "21:\tlearn: 0.9945455\ttotal: 163ms\tremaining: 578ms\n",
      "22:\tlearn: 0.9945455\ttotal: 171ms\tremaining: 572ms\n",
      "23:\tlearn: 0.9945455\ttotal: 178ms\tremaining: 564ms\n",
      "24:\tlearn: 0.9945455\ttotal: 186ms\tremaining: 558ms\n",
      "25:\tlearn: 0.9963636\ttotal: 194ms\tremaining: 553ms\n",
      "26:\tlearn: 0.9981818\ttotal: 202ms\tremaining: 546ms\n",
      "27:\tlearn: 0.9981818\ttotal: 211ms\tremaining: 542ms\n",
      "28:\tlearn: 0.9981818\ttotal: 220ms\tremaining: 538ms\n",
      "29:\tlearn: 0.9981818\ttotal: 229ms\tremaining: 534ms\n",
      "30:\tlearn: 0.9981818\ttotal: 237ms\tremaining: 527ms\n",
      "31:\tlearn: 0.9981818\ttotal: 244ms\tremaining: 519ms\n",
      "32:\tlearn: 1.0000000\ttotal: 252ms\tremaining: 511ms\n",
      "33:\tlearn: 1.0000000\ttotal: 260ms\tremaining: 504ms\n",
      "34:\tlearn: 1.0000000\ttotal: 267ms\tremaining: 496ms\n",
      "35:\tlearn: 1.0000000\ttotal: 275ms\tremaining: 490ms\n",
      "36:\tlearn: 1.0000000\ttotal: 284ms\tremaining: 484ms\n",
      "37:\tlearn: 1.0000000\ttotal: 292ms\tremaining: 477ms\n",
      "38:\tlearn: 1.0000000\ttotal: 301ms\tremaining: 470ms\n",
      "39:\tlearn: 1.0000000\ttotal: 309ms\tremaining: 463ms\n",
      "40:\tlearn: 1.0000000\ttotal: 317ms\tremaining: 457ms\n",
      "41:\tlearn: 1.0000000\ttotal: 325ms\tremaining: 449ms\n",
      "42:\tlearn: 1.0000000\ttotal: 333ms\tremaining: 442ms\n",
      "43:\tlearn: 1.0000000\ttotal: 341ms\tremaining: 435ms\n",
      "44:\tlearn: 1.0000000\ttotal: 349ms\tremaining: 427ms\n",
      "45:\tlearn: 1.0000000\ttotal: 357ms\tremaining: 419ms\n",
      "46:\tlearn: 1.0000000\ttotal: 365ms\tremaining: 412ms\n",
      "47:\tlearn: 1.0000000\ttotal: 374ms\tremaining: 405ms\n",
      "48:\tlearn: 1.0000000\ttotal: 382ms\tremaining: 398ms\n",
      "49:\tlearn: 1.0000000\ttotal: 390ms\tremaining: 390ms\n",
      "50:\tlearn: 1.0000000\ttotal: 398ms\tremaining: 382ms\n",
      "51:\tlearn: 1.0000000\ttotal: 406ms\tremaining: 375ms\n",
      "52:\tlearn: 1.0000000\ttotal: 414ms\tremaining: 367ms\n",
      "53:\tlearn: 1.0000000\ttotal: 422ms\tremaining: 360ms\n",
      "54:\tlearn: 1.0000000\ttotal: 431ms\tremaining: 352ms\n",
      "55:\tlearn: 1.0000000\ttotal: 439ms\tremaining: 345ms\n",
      "56:\tlearn: 1.0000000\ttotal: 448ms\tremaining: 338ms\n",
      "57:\tlearn: 1.0000000\ttotal: 456ms\tremaining: 330ms\n",
      "58:\tlearn: 1.0000000\ttotal: 464ms\tremaining: 322ms\n",
      "59:\tlearn: 1.0000000\ttotal: 472ms\tremaining: 314ms\n",
      "60:\tlearn: 1.0000000\ttotal: 480ms\tremaining: 307ms\n",
      "61:\tlearn: 1.0000000\ttotal: 488ms\tremaining: 299ms\n",
      "62:\tlearn: 1.0000000\ttotal: 497ms\tremaining: 292ms\n",
      "63:\tlearn: 1.0000000\ttotal: 505ms\tremaining: 284ms\n",
      "64:\tlearn: 1.0000000\ttotal: 513ms\tremaining: 276ms\n",
      "65:\tlearn: 1.0000000\ttotal: 522ms\tremaining: 269ms\n",
      "66:\tlearn: 1.0000000\ttotal: 531ms\tremaining: 261ms\n",
      "67:\tlearn: 1.0000000\ttotal: 539ms\tremaining: 254ms\n",
      "68:\tlearn: 1.0000000\ttotal: 547ms\tremaining: 246ms\n",
      "69:\tlearn: 1.0000000\ttotal: 556ms\tremaining: 238ms\n",
      "70:\tlearn: 1.0000000\ttotal: 564ms\tremaining: 231ms\n",
      "71:\tlearn: 1.0000000\ttotal: 573ms\tremaining: 223ms\n",
      "72:\tlearn: 1.0000000\ttotal: 581ms\tremaining: 215ms\n",
      "73:\tlearn: 1.0000000\ttotal: 590ms\tremaining: 207ms\n",
      "74:\tlearn: 1.0000000\ttotal: 598ms\tremaining: 199ms\n",
      "75:\tlearn: 1.0000000\ttotal: 607ms\tremaining: 192ms\n",
      "76:\tlearn: 1.0000000\ttotal: 615ms\tremaining: 184ms\n",
      "77:\tlearn: 1.0000000\ttotal: 625ms\tremaining: 176ms\n",
      "78:\tlearn: 1.0000000\ttotal: 634ms\tremaining: 169ms\n",
      "79:\tlearn: 1.0000000\ttotal: 642ms\tremaining: 161ms\n",
      "80:\tlearn: 1.0000000\ttotal: 650ms\tremaining: 152ms\n",
      "81:\tlearn: 1.0000000\ttotal: 658ms\tremaining: 145ms\n",
      "82:\tlearn: 1.0000000\ttotal: 666ms\tremaining: 136ms\n",
      "83:\tlearn: 1.0000000\ttotal: 674ms\tremaining: 128ms\n",
      "84:\tlearn: 1.0000000\ttotal: 682ms\tremaining: 120ms\n",
      "85:\tlearn: 1.0000000\ttotal: 690ms\tremaining: 112ms\n",
      "86:\tlearn: 1.0000000\ttotal: 698ms\tremaining: 104ms\n",
      "87:\tlearn: 1.0000000\ttotal: 706ms\tremaining: 96.3ms\n",
      "88:\tlearn: 1.0000000\ttotal: 715ms\tremaining: 88.3ms\n",
      "89:\tlearn: 1.0000000\ttotal: 724ms\tremaining: 80.4ms\n",
      "90:\tlearn: 1.0000000\ttotal: 732ms\tremaining: 72.4ms\n",
      "91:\tlearn: 1.0000000\ttotal: 740ms\tremaining: 64.4ms\n",
      "92:\tlearn: 1.0000000\ttotal: 749ms\tremaining: 56.3ms\n",
      "93:\tlearn: 1.0000000\ttotal: 756ms\tremaining: 48.3ms\n",
      "94:\tlearn: 1.0000000\ttotal: 764ms\tremaining: 40.2ms\n",
      "95:\tlearn: 1.0000000\ttotal: 773ms\tremaining: 32.2ms\n",
      "96:\tlearn: 1.0000000\ttotal: 781ms\tremaining: 24.1ms\n",
      "97:\tlearn: 1.0000000\ttotal: 789ms\tremaining: 16.1ms\n",
      "98:\tlearn: 1.0000000\ttotal: 799ms\tremaining: 8.07ms\n",
      "99:\tlearn: 1.0000000\ttotal: 808ms\tremaining: 0us\n",
      "0:\tlearn: 0.9600000\ttotal: 11.3ms\tremaining: 1.12s\n",
      "1:\tlearn: 0.9672727\ttotal: 20.9ms\tremaining: 1.02s\n",
      "2:\tlearn: 0.9800000\ttotal: 29.1ms\tremaining: 942ms\n",
      "3:\tlearn: 0.9800000\ttotal: 38.1ms\tremaining: 915ms\n",
      "4:\tlearn: 0.9836364\ttotal: 46.1ms\tremaining: 876ms\n",
      "5:\tlearn: 0.9836364\ttotal: 54.2ms\tremaining: 849ms\n",
      "6:\tlearn: 0.9836364\ttotal: 62.3ms\tremaining: 828ms\n",
      "7:\tlearn: 0.9872727\ttotal: 70.5ms\tremaining: 811ms\n",
      "8:\tlearn: 0.9890909\ttotal: 79.5ms\tremaining: 803ms\n",
      "9:\tlearn: 0.9927273\ttotal: 88.2ms\tremaining: 794ms\n",
      "10:\tlearn: 0.9927273\ttotal: 98.4ms\tremaining: 796ms\n",
      "11:\tlearn: 0.9927273\ttotal: 106ms\tremaining: 780ms\n",
      "12:\tlearn: 0.9927273\ttotal: 114ms\tremaining: 766ms\n",
      "13:\tlearn: 0.9945455\ttotal: 123ms\tremaining: 757ms\n",
      "14:\tlearn: 0.9945455\ttotal: 132ms\tremaining: 748ms\n",
      "15:\tlearn: 0.9945455\ttotal: 140ms\tremaining: 736ms\n",
      "16:\tlearn: 0.9945455\ttotal: 149ms\tremaining: 726ms\n",
      "17:\tlearn: 0.9945455\ttotal: 158ms\tremaining: 719ms\n",
      "18:\tlearn: 0.9945455\ttotal: 166ms\tremaining: 710ms\n",
      "19:\tlearn: 0.9945455\ttotal: 175ms\tremaining: 700ms\n",
      "20:\tlearn: 0.9945455\ttotal: 184ms\tremaining: 691ms\n",
      "21:\tlearn: 0.9945455\ttotal: 192ms\tremaining: 681ms\n",
      "22:\tlearn: 0.9945455\ttotal: 200ms\tremaining: 671ms\n",
      "23:\tlearn: 0.9963636\ttotal: 210ms\tremaining: 664ms\n",
      "24:\tlearn: 0.9963636\ttotal: 218ms\tremaining: 655ms\n",
      "25:\tlearn: 0.9963636\ttotal: 227ms\tremaining: 645ms\n",
      "26:\tlearn: 0.9981818\ttotal: 234ms\tremaining: 633ms\n",
      "27:\tlearn: 0.9981818\ttotal: 242ms\tremaining: 622ms\n",
      "28:\tlearn: 0.9981818\ttotal: 250ms\tremaining: 611ms\n",
      "29:\tlearn: 0.9981818\ttotal: 257ms\tremaining: 601ms\n",
      "30:\tlearn: 0.9981818\ttotal: 266ms\tremaining: 592ms\n",
      "31:\tlearn: 0.9981818\ttotal: 275ms\tremaining: 584ms\n",
      "32:\tlearn: 0.9981818\ttotal: 282ms\tremaining: 573ms\n",
      "33:\tlearn: 0.9981818\ttotal: 290ms\tremaining: 562ms\n",
      "34:\tlearn: 0.9981818\ttotal: 297ms\tremaining: 552ms\n",
      "35:\tlearn: 0.9981818\ttotal: 305ms\tremaining: 542ms\n",
      "36:\tlearn: 1.0000000\ttotal: 314ms\tremaining: 534ms\n",
      "37:\tlearn: 1.0000000\ttotal: 321ms\tremaining: 524ms\n",
      "38:\tlearn: 1.0000000\ttotal: 328ms\tremaining: 514ms\n",
      "39:\tlearn: 1.0000000\ttotal: 336ms\tremaining: 504ms\n",
      "40:\tlearn: 1.0000000\ttotal: 344ms\tremaining: 495ms\n",
      "41:\tlearn: 1.0000000\ttotal: 352ms\tremaining: 486ms\n",
      "42:\tlearn: 1.0000000\ttotal: 359ms\tremaining: 476ms\n",
      "43:\tlearn: 1.0000000\ttotal: 366ms\tremaining: 466ms\n",
      "44:\tlearn: 1.0000000\ttotal: 374ms\tremaining: 457ms\n",
      "45:\tlearn: 1.0000000\ttotal: 383ms\tremaining: 449ms\n",
      "46:\tlearn: 1.0000000\ttotal: 391ms\tremaining: 441ms\n",
      "47:\tlearn: 1.0000000\ttotal: 399ms\tremaining: 432ms\n",
      "48:\tlearn: 1.0000000\ttotal: 407ms\tremaining: 423ms\n",
      "49:\tlearn: 1.0000000\ttotal: 414ms\tremaining: 414ms\n",
      "50:\tlearn: 1.0000000\ttotal: 423ms\tremaining: 406ms\n",
      "51:\tlearn: 1.0000000\ttotal: 430ms\tremaining: 397ms\n",
      "52:\tlearn: 1.0000000\ttotal: 438ms\tremaining: 389ms\n",
      "53:\tlearn: 1.0000000\ttotal: 446ms\tremaining: 380ms\n",
      "54:\tlearn: 1.0000000\ttotal: 454ms\tremaining: 371ms\n",
      "55:\tlearn: 1.0000000\ttotal: 463ms\tremaining: 364ms\n",
      "56:\tlearn: 1.0000000\ttotal: 471ms\tremaining: 355ms\n",
      "57:\tlearn: 1.0000000\ttotal: 479ms\tremaining: 347ms\n",
      "58:\tlearn: 1.0000000\ttotal: 487ms\tremaining: 338ms\n",
      "59:\tlearn: 1.0000000\ttotal: 494ms\tremaining: 330ms\n",
      "60:\tlearn: 1.0000000\ttotal: 502ms\tremaining: 321ms\n",
      "61:\tlearn: 1.0000000\ttotal: 509ms\tremaining: 312ms\n",
      "62:\tlearn: 1.0000000\ttotal: 516ms\tremaining: 303ms\n",
      "63:\tlearn: 1.0000000\ttotal: 523ms\tremaining: 294ms\n",
      "64:\tlearn: 1.0000000\ttotal: 531ms\tremaining: 286ms\n",
      "65:\tlearn: 1.0000000\ttotal: 538ms\tremaining: 277ms\n",
      "66:\tlearn: 1.0000000\ttotal: 546ms\tremaining: 269ms\n",
      "67:\tlearn: 1.0000000\ttotal: 553ms\tremaining: 260ms\n",
      "68:\tlearn: 1.0000000\ttotal: 561ms\tremaining: 252ms\n",
      "69:\tlearn: 1.0000000\ttotal: 569ms\tremaining: 244ms\n",
      "70:\tlearn: 1.0000000\ttotal: 576ms\tremaining: 235ms\n",
      "71:\tlearn: 1.0000000\ttotal: 584ms\tremaining: 227ms\n",
      "72:\tlearn: 1.0000000\ttotal: 593ms\tremaining: 219ms\n",
      "73:\tlearn: 1.0000000\ttotal: 601ms\tremaining: 211ms\n",
      "74:\tlearn: 1.0000000\ttotal: 609ms\tremaining: 203ms\n",
      "75:\tlearn: 1.0000000\ttotal: 617ms\tremaining: 195ms\n",
      "76:\tlearn: 1.0000000\ttotal: 625ms\tremaining: 187ms\n",
      "77:\tlearn: 1.0000000\ttotal: 632ms\tremaining: 178ms\n",
      "78:\tlearn: 1.0000000\ttotal: 640ms\tremaining: 170ms\n",
      "79:\tlearn: 1.0000000\ttotal: 648ms\tremaining: 162ms\n",
      "80:\tlearn: 1.0000000\ttotal: 656ms\tremaining: 154ms\n",
      "81:\tlearn: 1.0000000\ttotal: 665ms\tremaining: 146ms\n",
      "82:\tlearn: 1.0000000\ttotal: 673ms\tremaining: 138ms\n",
      "83:\tlearn: 1.0000000\ttotal: 680ms\tremaining: 130ms\n",
      "84:\tlearn: 1.0000000\ttotal: 688ms\tremaining: 121ms\n",
      "85:\tlearn: 1.0000000\ttotal: 695ms\tremaining: 113ms\n",
      "86:\tlearn: 1.0000000\ttotal: 703ms\tremaining: 105ms\n",
      "87:\tlearn: 1.0000000\ttotal: 710ms\tremaining: 96.8ms\n",
      "88:\tlearn: 1.0000000\ttotal: 717ms\tremaining: 88.7ms\n",
      "89:\tlearn: 1.0000000\ttotal: 725ms\tremaining: 80.5ms\n",
      "90:\tlearn: 1.0000000\ttotal: 732ms\tremaining: 72.4ms\n",
      "91:\tlearn: 1.0000000\ttotal: 739ms\tremaining: 64.3ms\n",
      "92:\tlearn: 1.0000000\ttotal: 746ms\tremaining: 56.2ms\n",
      "93:\tlearn: 1.0000000\ttotal: 754ms\tremaining: 48.1ms\n",
      "94:\tlearn: 1.0000000\ttotal: 761ms\tremaining: 40.1ms\n",
      "95:\tlearn: 1.0000000\ttotal: 769ms\tremaining: 32ms\n",
      "96:\tlearn: 1.0000000\ttotal: 776ms\tremaining: 24ms\n",
      "97:\tlearn: 1.0000000\ttotal: 783ms\tremaining: 16ms\n",
      "98:\tlearn: 1.0000000\ttotal: 791ms\tremaining: 7.99ms\n",
      "99:\tlearn: 1.0000000\ttotal: 798ms\tremaining: 0us\n",
      "0:\tlearn: 0.9581818\ttotal: 10.7ms\tremaining: 1.06s\n",
      "1:\tlearn: 0.9672727\ttotal: 19.1ms\tremaining: 938ms\n",
      "2:\tlearn: 0.9636364\ttotal: 26.6ms\tremaining: 859ms\n",
      "3:\tlearn: 0.9818182\ttotal: 34.1ms\tremaining: 818ms\n",
      "4:\tlearn: 0.9800000\ttotal: 41.6ms\tremaining: 791ms\n",
      "5:\tlearn: 0.9836364\ttotal: 49.1ms\tremaining: 770ms\n",
      "6:\tlearn: 0.9854545\ttotal: 56.4ms\tremaining: 749ms\n",
      "7:\tlearn: 0.9854545\ttotal: 63.7ms\tremaining: 733ms\n",
      "8:\tlearn: 0.9890909\ttotal: 70.9ms\tremaining: 716ms\n",
      "9:\tlearn: 0.9890909\ttotal: 78.5ms\tremaining: 707ms\n",
      "10:\tlearn: 0.9890909\ttotal: 85.6ms\tremaining: 693ms\n",
      "11:\tlearn: 0.9909091\ttotal: 92.8ms\tremaining: 681ms\n",
      "12:\tlearn: 0.9927273\ttotal: 100ms\tremaining: 670ms\n",
      "13:\tlearn: 0.9945455\ttotal: 108ms\tremaining: 663ms\n",
      "14:\tlearn: 0.9945455\ttotal: 117ms\tremaining: 662ms\n",
      "15:\tlearn: 0.9945455\ttotal: 125ms\tremaining: 655ms\n",
      "16:\tlearn: 0.9945455\ttotal: 132ms\tremaining: 646ms\n",
      "17:\tlearn: 0.9945455\ttotal: 140ms\tremaining: 637ms\n",
      "18:\tlearn: 0.9945455\ttotal: 148ms\tremaining: 629ms\n",
      "19:\tlearn: 0.9945455\ttotal: 156ms\tremaining: 622ms\n",
      "20:\tlearn: 0.9945455\ttotal: 163ms\tremaining: 615ms\n",
      "21:\tlearn: 0.9945455\ttotal: 171ms\tremaining: 607ms\n",
      "22:\tlearn: 0.9963636\ttotal: 179ms\tremaining: 600ms\n",
      "23:\tlearn: 0.9963636\ttotal: 187ms\tremaining: 592ms\n",
      "24:\tlearn: 0.9963636\ttotal: 195ms\tremaining: 584ms\n",
      "25:\tlearn: 0.9981818\ttotal: 204ms\tremaining: 582ms\n",
      "26:\tlearn: 0.9981818\ttotal: 214ms\tremaining: 578ms\n",
      "27:\tlearn: 0.9981818\ttotal: 221ms\tremaining: 569ms\n",
      "28:\tlearn: 0.9981818\ttotal: 228ms\tremaining: 559ms\n",
      "29:\tlearn: 0.9981818\ttotal: 236ms\tremaining: 550ms\n",
      "30:\tlearn: 1.0000000\ttotal: 244ms\tremaining: 542ms\n",
      "31:\tlearn: 1.0000000\ttotal: 252ms\tremaining: 535ms\n",
      "32:\tlearn: 1.0000000\ttotal: 260ms\tremaining: 527ms\n",
      "33:\tlearn: 1.0000000\ttotal: 268ms\tremaining: 520ms\n",
      "34:\tlearn: 1.0000000\ttotal: 277ms\tremaining: 514ms\n",
      "35:\tlearn: 1.0000000\ttotal: 284ms\tremaining: 505ms\n",
      "36:\tlearn: 1.0000000\ttotal: 292ms\tremaining: 497ms\n",
      "37:\tlearn: 1.0000000\ttotal: 300ms\tremaining: 489ms\n",
      "38:\tlearn: 1.0000000\ttotal: 308ms\tremaining: 481ms\n",
      "39:\tlearn: 1.0000000\ttotal: 316ms\tremaining: 474ms\n",
      "40:\tlearn: 1.0000000\ttotal: 324ms\tremaining: 466ms\n",
      "41:\tlearn: 1.0000000\ttotal: 332ms\tremaining: 458ms\n",
      "42:\tlearn: 1.0000000\ttotal: 340ms\tremaining: 450ms\n",
      "43:\tlearn: 1.0000000\ttotal: 348ms\tremaining: 442ms\n",
      "44:\tlearn: 1.0000000\ttotal: 355ms\tremaining: 434ms\n",
      "45:\tlearn: 1.0000000\ttotal: 363ms\tremaining: 426ms\n",
      "46:\tlearn: 1.0000000\ttotal: 371ms\tremaining: 419ms\n",
      "47:\tlearn: 1.0000000\ttotal: 379ms\tremaining: 411ms\n",
      "48:\tlearn: 1.0000000\ttotal: 387ms\tremaining: 403ms\n",
      "49:\tlearn: 1.0000000\ttotal: 395ms\tremaining: 395ms\n",
      "50:\tlearn: 1.0000000\ttotal: 403ms\tremaining: 387ms\n",
      "51:\tlearn: 1.0000000\ttotal: 411ms\tremaining: 379ms\n",
      "52:\tlearn: 1.0000000\ttotal: 418ms\tremaining: 371ms\n",
      "53:\tlearn: 1.0000000\ttotal: 426ms\tremaining: 363ms\n",
      "54:\tlearn: 1.0000000\ttotal: 434ms\tremaining: 355ms\n",
      "55:\tlearn: 1.0000000\ttotal: 441ms\tremaining: 347ms\n",
      "56:\tlearn: 1.0000000\ttotal: 449ms\tremaining: 339ms\n",
      "57:\tlearn: 1.0000000\ttotal: 457ms\tremaining: 331ms\n",
      "58:\tlearn: 1.0000000\ttotal: 464ms\tremaining: 322ms\n",
      "59:\tlearn: 1.0000000\ttotal: 472ms\tremaining: 315ms\n",
      "60:\tlearn: 1.0000000\ttotal: 480ms\tremaining: 307ms\n",
      "61:\tlearn: 1.0000000\ttotal: 488ms\tremaining: 299ms\n",
      "62:\tlearn: 1.0000000\ttotal: 496ms\tremaining: 291ms\n",
      "63:\tlearn: 1.0000000\ttotal: 503ms\tremaining: 283ms\n",
      "64:\tlearn: 1.0000000\ttotal: 511ms\tremaining: 275ms\n",
      "65:\tlearn: 1.0000000\ttotal: 518ms\tremaining: 267ms\n",
      "66:\tlearn: 1.0000000\ttotal: 526ms\tremaining: 259ms\n",
      "67:\tlearn: 1.0000000\ttotal: 534ms\tremaining: 251ms\n",
      "68:\tlearn: 1.0000000\ttotal: 542ms\tremaining: 244ms\n",
      "69:\tlearn: 1.0000000\ttotal: 550ms\tremaining: 236ms\n",
      "70:\tlearn: 1.0000000\ttotal: 559ms\tremaining: 228ms\n",
      "71:\tlearn: 1.0000000\ttotal: 568ms\tremaining: 221ms\n",
      "72:\tlearn: 1.0000000\ttotal: 576ms\tremaining: 213ms\n",
      "73:\tlearn: 1.0000000\ttotal: 584ms\tremaining: 205ms\n",
      "74:\tlearn: 1.0000000\ttotal: 592ms\tremaining: 197ms\n",
      "75:\tlearn: 1.0000000\ttotal: 600ms\tremaining: 190ms\n",
      "76:\tlearn: 1.0000000\ttotal: 609ms\tremaining: 182ms\n",
      "77:\tlearn: 1.0000000\ttotal: 617ms\tremaining: 174ms\n",
      "78:\tlearn: 1.0000000\ttotal: 625ms\tremaining: 166ms\n",
      "79:\tlearn: 1.0000000\ttotal: 633ms\tremaining: 158ms\n",
      "80:\tlearn: 1.0000000\ttotal: 640ms\tremaining: 150ms\n",
      "81:\tlearn: 1.0000000\ttotal: 648ms\tremaining: 142ms\n",
      "82:\tlearn: 1.0000000\ttotal: 656ms\tremaining: 134ms\n",
      "83:\tlearn: 1.0000000\ttotal: 664ms\tremaining: 126ms\n",
      "84:\tlearn: 1.0000000\ttotal: 672ms\tremaining: 119ms\n",
      "85:\tlearn: 1.0000000\ttotal: 680ms\tremaining: 111ms\n",
      "86:\tlearn: 1.0000000\ttotal: 687ms\tremaining: 103ms\n",
      "87:\tlearn: 1.0000000\ttotal: 694ms\tremaining: 94.7ms\n",
      "88:\tlearn: 1.0000000\ttotal: 702ms\tremaining: 86.8ms\n",
      "89:\tlearn: 1.0000000\ttotal: 710ms\tremaining: 78.8ms\n",
      "90:\tlearn: 1.0000000\ttotal: 717ms\tremaining: 70.9ms\n",
      "91:\tlearn: 1.0000000\ttotal: 724ms\tremaining: 63ms\n",
      "92:\tlearn: 1.0000000\ttotal: 731ms\tremaining: 55ms\n",
      "93:\tlearn: 1.0000000\ttotal: 739ms\tremaining: 47.1ms\n",
      "94:\tlearn: 1.0000000\ttotal: 746ms\tremaining: 39.2ms\n",
      "95:\tlearn: 1.0000000\ttotal: 753ms\tremaining: 31.4ms\n",
      "96:\tlearn: 1.0000000\ttotal: 760ms\tremaining: 23.5ms\n",
      "97:\tlearn: 1.0000000\ttotal: 767ms\tremaining: 15.7ms\n",
      "98:\tlearn: 1.0000000\ttotal: 775ms\tremaining: 7.83ms\n",
      "99:\tlearn: 1.0000000\ttotal: 783ms\tremaining: 0us\n",
      "0:\tlearn: 0.9618182\ttotal: 11ms\tremaining: 1.09s\n",
      "1:\tlearn: 0.9709091\ttotal: 19.6ms\tremaining: 960ms\n",
      "2:\tlearn: 0.9672727\ttotal: 27.6ms\tremaining: 894ms\n",
      "3:\tlearn: 0.9818182\ttotal: 35.4ms\tremaining: 850ms\n",
      "4:\tlearn: 0.9763636\ttotal: 43ms\tremaining: 816ms\n",
      "5:\tlearn: 0.9854545\ttotal: 50.4ms\tremaining: 790ms\n",
      "6:\tlearn: 0.9836364\ttotal: 57.8ms\tremaining: 768ms\n",
      "7:\tlearn: 0.9890909\ttotal: 65.3ms\tremaining: 751ms\n",
      "8:\tlearn: 0.9890909\ttotal: 73.1ms\tremaining: 739ms\n",
      "9:\tlearn: 0.9909091\ttotal: 80.5ms\tremaining: 725ms\n",
      "10:\tlearn: 0.9927273\ttotal: 88.4ms\tremaining: 716ms\n",
      "11:\tlearn: 0.9927273\ttotal: 95.5ms\tremaining: 700ms\n",
      "12:\tlearn: 0.9927273\ttotal: 103ms\tremaining: 689ms\n",
      "13:\tlearn: 0.9927273\ttotal: 111ms\tremaining: 679ms\n",
      "14:\tlearn: 0.9927273\ttotal: 118ms\tremaining: 668ms\n",
      "15:\tlearn: 0.9945455\ttotal: 126ms\tremaining: 660ms\n",
      "16:\tlearn: 0.9945455\ttotal: 134ms\tremaining: 653ms\n",
      "17:\tlearn: 0.9945455\ttotal: 142ms\tremaining: 646ms\n",
      "18:\tlearn: 0.9945455\ttotal: 149ms\tremaining: 637ms\n",
      "19:\tlearn: 0.9945455\ttotal: 157ms\tremaining: 627ms\n",
      "20:\tlearn: 0.9945455\ttotal: 164ms\tremaining: 617ms\n",
      "21:\tlearn: 0.9945455\ttotal: 171ms\tremaining: 607ms\n",
      "22:\tlearn: 0.9945455\ttotal: 179ms\tremaining: 600ms\n",
      "23:\tlearn: 0.9945455\ttotal: 188ms\tremaining: 594ms\n",
      "24:\tlearn: 0.9963636\ttotal: 195ms\tremaining: 584ms\n",
      "25:\tlearn: 0.9963636\ttotal: 202ms\tremaining: 575ms\n",
      "26:\tlearn: 0.9963636\ttotal: 209ms\tremaining: 566ms\n",
      "27:\tlearn: 0.9963636\ttotal: 217ms\tremaining: 557ms\n",
      "28:\tlearn: 0.9963636\ttotal: 224ms\tremaining: 549ms\n",
      "29:\tlearn: 0.9963636\ttotal: 231ms\tremaining: 540ms\n",
      "30:\tlearn: 0.9981818\ttotal: 239ms\tremaining: 532ms\n",
      "31:\tlearn: 0.9981818\ttotal: 247ms\tremaining: 524ms\n",
      "32:\tlearn: 0.9981818\ttotal: 254ms\tremaining: 516ms\n",
      "33:\tlearn: 0.9981818\ttotal: 262ms\tremaining: 508ms\n",
      "34:\tlearn: 1.0000000\ttotal: 272ms\tremaining: 506ms\n",
      "35:\tlearn: 1.0000000\ttotal: 280ms\tremaining: 498ms\n",
      "36:\tlearn: 1.0000000\ttotal: 287ms\tremaining: 489ms\n",
      "37:\tlearn: 1.0000000\ttotal: 294ms\tremaining: 480ms\n",
      "38:\tlearn: 1.0000000\ttotal: 301ms\tremaining: 471ms\n",
      "39:\tlearn: 1.0000000\ttotal: 309ms\tremaining: 463ms\n",
      "40:\tlearn: 1.0000000\ttotal: 316ms\tremaining: 454ms\n",
      "41:\tlearn: 1.0000000\ttotal: 323ms\tremaining: 446ms\n",
      "42:\tlearn: 1.0000000\ttotal: 331ms\tremaining: 438ms\n",
      "43:\tlearn: 1.0000000\ttotal: 339ms\tremaining: 432ms\n",
      "44:\tlearn: 1.0000000\ttotal: 347ms\tremaining: 424ms\n",
      "45:\tlearn: 1.0000000\ttotal: 355ms\tremaining: 416ms\n",
      "46:\tlearn: 1.0000000\ttotal: 363ms\tremaining: 409ms\n",
      "47:\tlearn: 1.0000000\ttotal: 371ms\tremaining: 402ms\n",
      "48:\tlearn: 1.0000000\ttotal: 379ms\tremaining: 394ms\n",
      "49:\tlearn: 1.0000000\ttotal: 388ms\tremaining: 388ms\n",
      "50:\tlearn: 1.0000000\ttotal: 397ms\tremaining: 381ms\n",
      "51:\tlearn: 1.0000000\ttotal: 405ms\tremaining: 374ms\n",
      "52:\tlearn: 1.0000000\ttotal: 413ms\tremaining: 366ms\n",
      "53:\tlearn: 1.0000000\ttotal: 422ms\tremaining: 359ms\n",
      "54:\tlearn: 1.0000000\ttotal: 430ms\tremaining: 352ms\n",
      "55:\tlearn: 1.0000000\ttotal: 438ms\tremaining: 344ms\n",
      "56:\tlearn: 1.0000000\ttotal: 446ms\tremaining: 336ms\n",
      "57:\tlearn: 1.0000000\ttotal: 454ms\tremaining: 329ms\n",
      "58:\tlearn: 1.0000000\ttotal: 462ms\tremaining: 321ms\n",
      "59:\tlearn: 1.0000000\ttotal: 471ms\tremaining: 314ms\n",
      "60:\tlearn: 1.0000000\ttotal: 479ms\tremaining: 306ms\n",
      "61:\tlearn: 1.0000000\ttotal: 487ms\tremaining: 299ms\n",
      "62:\tlearn: 1.0000000\ttotal: 497ms\tremaining: 292ms\n",
      "63:\tlearn: 1.0000000\ttotal: 507ms\tremaining: 285ms\n",
      "64:\tlearn: 1.0000000\ttotal: 517ms\tremaining: 278ms\n",
      "65:\tlearn: 1.0000000\ttotal: 527ms\tremaining: 271ms\n",
      "66:\tlearn: 1.0000000\ttotal: 536ms\tremaining: 264ms\n",
      "67:\tlearn: 1.0000000\ttotal: 545ms\tremaining: 256ms\n",
      "68:\tlearn: 1.0000000\ttotal: 553ms\tremaining: 248ms\n",
      "69:\tlearn: 1.0000000\ttotal: 561ms\tremaining: 240ms\n",
      "70:\tlearn: 1.0000000\ttotal: 570ms\tremaining: 233ms\n",
      "71:\tlearn: 1.0000000\ttotal: 579ms\tremaining: 225ms\n",
      "72:\tlearn: 1.0000000\ttotal: 587ms\tremaining: 217ms\n",
      "73:\tlearn: 1.0000000\ttotal: 601ms\tremaining: 211ms\n",
      "74:\tlearn: 1.0000000\ttotal: 613ms\tremaining: 204ms\n",
      "75:\tlearn: 1.0000000\ttotal: 627ms\tremaining: 198ms\n",
      "76:\tlearn: 1.0000000\ttotal: 638ms\tremaining: 190ms\n",
      "77:\tlearn: 1.0000000\ttotal: 647ms\tremaining: 183ms\n",
      "78:\tlearn: 1.0000000\ttotal: 657ms\tremaining: 175ms\n",
      "79:\tlearn: 1.0000000\ttotal: 668ms\tremaining: 167ms\n",
      "80:\tlearn: 1.0000000\ttotal: 678ms\tremaining: 159ms\n",
      "81:\tlearn: 1.0000000\ttotal: 689ms\tremaining: 151ms\n",
      "82:\tlearn: 1.0000000\ttotal: 699ms\tremaining: 143ms\n",
      "83:\tlearn: 1.0000000\ttotal: 708ms\tremaining: 135ms\n",
      "84:\tlearn: 1.0000000\ttotal: 718ms\tremaining: 127ms\n",
      "85:\tlearn: 1.0000000\ttotal: 728ms\tremaining: 119ms\n",
      "86:\tlearn: 1.0000000\ttotal: 738ms\tremaining: 110ms\n",
      "87:\tlearn: 1.0000000\ttotal: 746ms\tremaining: 102ms\n",
      "88:\tlearn: 1.0000000\ttotal: 756ms\tremaining: 93.4ms\n",
      "89:\tlearn: 1.0000000\ttotal: 769ms\tremaining: 85.4ms\n",
      "90:\tlearn: 1.0000000\ttotal: 778ms\tremaining: 77ms\n",
      "91:\tlearn: 1.0000000\ttotal: 789ms\tremaining: 68.6ms\n",
      "92:\tlearn: 1.0000000\ttotal: 800ms\tremaining: 60.2ms\n",
      "93:\tlearn: 1.0000000\ttotal: 813ms\tremaining: 51.9ms\n",
      "94:\tlearn: 1.0000000\ttotal: 829ms\tremaining: 43.6ms\n",
      "95:\tlearn: 1.0000000\ttotal: 837ms\tremaining: 34.9ms\n",
      "96:\tlearn: 1.0000000\ttotal: 846ms\tremaining: 26.2ms\n",
      "97:\tlearn: 1.0000000\ttotal: 855ms\tremaining: 17.4ms\n",
      "98:\tlearn: 1.0000000\ttotal: 865ms\tremaining: 8.73ms\n",
      "99:\tlearn: 1.0000000\ttotal: 874ms\tremaining: 0us\n",
      "0:\tlearn: 0.9600000\ttotal: 13.2ms\tremaining: 1.31s\n",
      "1:\tlearn: 0.9690909\ttotal: 26.1ms\tremaining: 1.28s\n",
      "2:\tlearn: 0.9672727\ttotal: 35ms\tremaining: 1.13s\n",
      "3:\tlearn: 0.9690909\ttotal: 45.4ms\tremaining: 1.09s\n",
      "4:\tlearn: 0.9763636\ttotal: 57ms\tremaining: 1.08s\n",
      "5:\tlearn: 0.9781818\ttotal: 67.2ms\tremaining: 1.05s\n",
      "6:\tlearn: 0.9818182\ttotal: 76ms\tremaining: 1.01s\n",
      "7:\tlearn: 0.9872727\ttotal: 86.4ms\tremaining: 993ms\n",
      "8:\tlearn: 0.9872727\ttotal: 97.3ms\tremaining: 983ms\n",
      "9:\tlearn: 0.9890909\ttotal: 109ms\tremaining: 979ms\n",
      "10:\tlearn: 0.9909091\ttotal: 120ms\tremaining: 971ms\n",
      "11:\tlearn: 0.9927273\ttotal: 132ms\tremaining: 971ms\n",
      "12:\tlearn: 0.9927273\ttotal: 143ms\tremaining: 959ms\n",
      "13:\tlearn: 0.9927273\ttotal: 157ms\tremaining: 961ms\n",
      "14:\tlearn: 0.9927273\ttotal: 182ms\tremaining: 1.03s\n",
      "15:\tlearn: 0.9945455\ttotal: 198ms\tremaining: 1.04s\n",
      "16:\tlearn: 0.9945455\ttotal: 210ms\tremaining: 1.02s\n",
      "17:\tlearn: 0.9945455\ttotal: 223ms\tremaining: 1.02s\n",
      "18:\tlearn: 0.9945455\ttotal: 239ms\tremaining: 1.02s\n",
      "19:\tlearn: 0.9945455\ttotal: 250ms\tremaining: 1s\n",
      "20:\tlearn: 0.9945455\ttotal: 259ms\tremaining: 974ms\n",
      "21:\tlearn: 0.9945455\ttotal: 268ms\tremaining: 950ms\n",
      "22:\tlearn: 0.9945455\ttotal: 277ms\tremaining: 927ms\n",
      "23:\tlearn: 0.9945455\ttotal: 287ms\tremaining: 908ms\n",
      "24:\tlearn: 0.9981818\ttotal: 296ms\tremaining: 889ms\n",
      "25:\tlearn: 0.9981818\ttotal: 306ms\tremaining: 870ms\n",
      "26:\tlearn: 0.9981818\ttotal: 314ms\tremaining: 850ms\n",
      "27:\tlearn: 0.9981818\ttotal: 324ms\tremaining: 832ms\n",
      "28:\tlearn: 0.9981818\ttotal: 333ms\tremaining: 815ms\n",
      "29:\tlearn: 0.9981818\ttotal: 344ms\tremaining: 803ms\n",
      "30:\tlearn: 0.9981818\ttotal: 354ms\tremaining: 787ms\n",
      "31:\tlearn: 0.9981818\ttotal: 364ms\tremaining: 773ms\n",
      "32:\tlearn: 0.9981818\ttotal: 375ms\tremaining: 762ms\n",
      "33:\tlearn: 0.9981818\ttotal: 385ms\tremaining: 746ms\n",
      "34:\tlearn: 1.0000000\ttotal: 396ms\tremaining: 736ms\n",
      "35:\tlearn: 1.0000000\ttotal: 407ms\tremaining: 723ms\n",
      "36:\tlearn: 1.0000000\ttotal: 417ms\tremaining: 710ms\n",
      "37:\tlearn: 1.0000000\ttotal: 427ms\tremaining: 697ms\n",
      "38:\tlearn: 1.0000000\ttotal: 439ms\tremaining: 687ms\n",
      "39:\tlearn: 1.0000000\ttotal: 462ms\tremaining: 692ms\n",
      "40:\tlearn: 1.0000000\ttotal: 471ms\tremaining: 678ms\n",
      "41:\tlearn: 1.0000000\ttotal: 487ms\tremaining: 673ms\n",
      "42:\tlearn: 1.0000000\ttotal: 498ms\tremaining: 660ms\n",
      "43:\tlearn: 1.0000000\ttotal: 508ms\tremaining: 647ms\n",
      "44:\tlearn: 1.0000000\ttotal: 518ms\tremaining: 633ms\n",
      "45:\tlearn: 1.0000000\ttotal: 527ms\tremaining: 619ms\n",
      "46:\tlearn: 1.0000000\ttotal: 537ms\tremaining: 606ms\n",
      "47:\tlearn: 1.0000000\ttotal: 553ms\tremaining: 600ms\n",
      "48:\tlearn: 1.0000000\ttotal: 564ms\tremaining: 587ms\n",
      "49:\tlearn: 1.0000000\ttotal: 574ms\tremaining: 574ms\n",
      "50:\tlearn: 1.0000000\ttotal: 585ms\tremaining: 562ms\n",
      "51:\tlearn: 1.0000000\ttotal: 596ms\tremaining: 550ms\n",
      "52:\tlearn: 1.0000000\ttotal: 607ms\tremaining: 538ms\n",
      "53:\tlearn: 1.0000000\ttotal: 621ms\tremaining: 529ms\n",
      "54:\tlearn: 1.0000000\ttotal: 631ms\tremaining: 516ms\n",
      "55:\tlearn: 1.0000000\ttotal: 642ms\tremaining: 505ms\n",
      "56:\tlearn: 1.0000000\ttotal: 652ms\tremaining: 492ms\n",
      "57:\tlearn: 1.0000000\ttotal: 661ms\tremaining: 478ms\n",
      "58:\tlearn: 1.0000000\ttotal: 670ms\tremaining: 466ms\n",
      "59:\tlearn: 1.0000000\ttotal: 680ms\tremaining: 454ms\n",
      "60:\tlearn: 1.0000000\ttotal: 689ms\tremaining: 441ms\n",
      "61:\tlearn: 1.0000000\ttotal: 698ms\tremaining: 428ms\n",
      "62:\tlearn: 1.0000000\ttotal: 708ms\tremaining: 416ms\n",
      "63:\tlearn: 1.0000000\ttotal: 716ms\tremaining: 403ms\n",
      "64:\tlearn: 1.0000000\ttotal: 725ms\tremaining: 391ms\n",
      "65:\tlearn: 1.0000000\ttotal: 736ms\tremaining: 379ms\n",
      "66:\tlearn: 1.0000000\ttotal: 744ms\tremaining: 367ms\n",
      "67:\tlearn: 1.0000000\ttotal: 753ms\tremaining: 354ms\n",
      "68:\tlearn: 1.0000000\ttotal: 761ms\tremaining: 342ms\n",
      "69:\tlearn: 1.0000000\ttotal: 769ms\tremaining: 330ms\n",
      "70:\tlearn: 1.0000000\ttotal: 778ms\tremaining: 318ms\n",
      "71:\tlearn: 1.0000000\ttotal: 786ms\tremaining: 306ms\n",
      "72:\tlearn: 1.0000000\ttotal: 795ms\tremaining: 294ms\n",
      "73:\tlearn: 1.0000000\ttotal: 804ms\tremaining: 282ms\n",
      "74:\tlearn: 1.0000000\ttotal: 812ms\tremaining: 271ms\n",
      "75:\tlearn: 1.0000000\ttotal: 821ms\tremaining: 259ms\n",
      "76:\tlearn: 1.0000000\ttotal: 829ms\tremaining: 248ms\n",
      "77:\tlearn: 1.0000000\ttotal: 839ms\tremaining: 237ms\n",
      "78:\tlearn: 1.0000000\ttotal: 849ms\tremaining: 226ms\n",
      "79:\tlearn: 1.0000000\ttotal: 858ms\tremaining: 215ms\n",
      "80:\tlearn: 1.0000000\ttotal: 868ms\tremaining: 204ms\n",
      "81:\tlearn: 1.0000000\ttotal: 878ms\tremaining: 193ms\n",
      "82:\tlearn: 1.0000000\ttotal: 887ms\tremaining: 182ms\n",
      "83:\tlearn: 1.0000000\ttotal: 896ms\tremaining: 171ms\n",
      "84:\tlearn: 1.0000000\ttotal: 905ms\tremaining: 160ms\n",
      "85:\tlearn: 1.0000000\ttotal: 914ms\tremaining: 149ms\n",
      "86:\tlearn: 1.0000000\ttotal: 925ms\tremaining: 138ms\n",
      "87:\tlearn: 1.0000000\ttotal: 935ms\tremaining: 127ms\n",
      "88:\tlearn: 1.0000000\ttotal: 944ms\tremaining: 117ms\n",
      "89:\tlearn: 1.0000000\ttotal: 955ms\tremaining: 106ms\n",
      "90:\tlearn: 1.0000000\ttotal: 964ms\tremaining: 95.3ms\n",
      "91:\tlearn: 1.0000000\ttotal: 973ms\tremaining: 84.6ms\n",
      "92:\tlearn: 1.0000000\ttotal: 982ms\tremaining: 73.9ms\n",
      "93:\tlearn: 1.0000000\ttotal: 992ms\tremaining: 63.3ms\n",
      "94:\tlearn: 1.0000000\ttotal: 1s\tremaining: 52.7ms\n",
      "95:\tlearn: 1.0000000\ttotal: 1.01s\tremaining: 42.2ms\n",
      "96:\tlearn: 1.0000000\ttotal: 1.02s\tremaining: 31.6ms\n",
      "97:\tlearn: 1.0000000\ttotal: 1.03s\tremaining: 21.1ms\n",
      "98:\tlearn: 1.0000000\ttotal: 1.04s\tremaining: 10.5ms\n",
      "99:\tlearn: 1.0000000\ttotal: 1.05s\tremaining: 0us\n",
      "0:\tlearn: 0.9600000\ttotal: 11.2ms\tremaining: 1.1s\n",
      "1:\tlearn: 0.9654545\ttotal: 22.2ms\tremaining: 1.09s\n",
      "2:\tlearn: 0.9690909\ttotal: 32.1ms\tremaining: 1.04s\n",
      "3:\tlearn: 0.9709091\ttotal: 41.6ms\tremaining: 998ms\n",
      "4:\tlearn: 0.9836364\ttotal: 51.2ms\tremaining: 972ms\n",
      "5:\tlearn: 0.9836364\ttotal: 60.8ms\tremaining: 953ms\n",
      "6:\tlearn: 0.9872727\ttotal: 69.2ms\tremaining: 919ms\n",
      "7:\tlearn: 0.9890909\ttotal: 79.5ms\tremaining: 914ms\n",
      "8:\tlearn: 0.9872727\ttotal: 88.9ms\tremaining: 898ms\n",
      "9:\tlearn: 0.9909091\ttotal: 98.5ms\tremaining: 887ms\n",
      "10:\tlearn: 0.9909091\ttotal: 108ms\tremaining: 877ms\n",
      "11:\tlearn: 0.9927273\ttotal: 118ms\tremaining: 865ms\n",
      "12:\tlearn: 0.9927273\ttotal: 129ms\tremaining: 864ms\n",
      "13:\tlearn: 0.9927273\ttotal: 140ms\tremaining: 861ms\n",
      "14:\tlearn: 0.9927273\ttotal: 154ms\tremaining: 871ms\n",
      "15:\tlearn: 0.9945455\ttotal: 164ms\tremaining: 863ms\n",
      "16:\tlearn: 0.9945455\ttotal: 173ms\tremaining: 846ms\n",
      "17:\tlearn: 0.9945455\ttotal: 183ms\tremaining: 835ms\n",
      "18:\tlearn: 0.9945455\ttotal: 195ms\tremaining: 833ms\n",
      "19:\tlearn: 0.9945455\ttotal: 205ms\tremaining: 820ms\n",
      "20:\tlearn: 0.9945455\ttotal: 214ms\tremaining: 805ms\n",
      "21:\tlearn: 0.9945455\ttotal: 222ms\tremaining: 787ms\n",
      "22:\tlearn: 0.9963636\ttotal: 230ms\tremaining: 769ms\n",
      "23:\tlearn: 0.9981818\ttotal: 238ms\tremaining: 753ms\n",
      "24:\tlearn: 0.9981818\ttotal: 246ms\tremaining: 737ms\n",
      "25:\tlearn: 0.9981818\ttotal: 254ms\tremaining: 722ms\n",
      "26:\tlearn: 0.9981818\ttotal: 262ms\tremaining: 708ms\n",
      "27:\tlearn: 0.9981818\ttotal: 271ms\tremaining: 696ms\n",
      "28:\tlearn: 0.9981818\ttotal: 280ms\tremaining: 684ms\n",
      "29:\tlearn: 0.9981818\ttotal: 288ms\tremaining: 672ms\n",
      "30:\tlearn: 1.0000000\ttotal: 297ms\tremaining: 661ms\n",
      "31:\tlearn: 1.0000000\ttotal: 306ms\tremaining: 651ms\n",
      "32:\tlearn: 1.0000000\ttotal: 315ms\tremaining: 640ms\n",
      "33:\tlearn: 1.0000000\ttotal: 324ms\tremaining: 629ms\n",
      "34:\tlearn: 1.0000000\ttotal: 332ms\tremaining: 617ms\n",
      "35:\tlearn: 1.0000000\ttotal: 341ms\tremaining: 606ms\n",
      "36:\tlearn: 1.0000000\ttotal: 349ms\tremaining: 595ms\n",
      "37:\tlearn: 1.0000000\ttotal: 357ms\tremaining: 583ms\n",
      "38:\tlearn: 1.0000000\ttotal: 367ms\tremaining: 574ms\n",
      "39:\tlearn: 1.0000000\ttotal: 375ms\tremaining: 563ms\n",
      "40:\tlearn: 1.0000000\ttotal: 384ms\tremaining: 553ms\n",
      "41:\tlearn: 1.0000000\ttotal: 393ms\tremaining: 543ms\n",
      "42:\tlearn: 1.0000000\ttotal: 402ms\tremaining: 533ms\n",
      "43:\tlearn: 1.0000000\ttotal: 411ms\tremaining: 523ms\n",
      "44:\tlearn: 1.0000000\ttotal: 420ms\tremaining: 513ms\n",
      "45:\tlearn: 1.0000000\ttotal: 431ms\tremaining: 506ms\n",
      "46:\tlearn: 1.0000000\ttotal: 438ms\tremaining: 494ms\n",
      "47:\tlearn: 1.0000000\ttotal: 448ms\tremaining: 485ms\n",
      "48:\tlearn: 1.0000000\ttotal: 457ms\tremaining: 476ms\n",
      "49:\tlearn: 1.0000000\ttotal: 470ms\tremaining: 470ms\n",
      "50:\tlearn: 1.0000000\ttotal: 481ms\tremaining: 462ms\n",
      "51:\tlearn: 1.0000000\ttotal: 490ms\tremaining: 453ms\n",
      "52:\tlearn: 1.0000000\ttotal: 500ms\tremaining: 443ms\n",
      "53:\tlearn: 1.0000000\ttotal: 509ms\tremaining: 433ms\n",
      "54:\tlearn: 1.0000000\ttotal: 517ms\tremaining: 423ms\n",
      "55:\tlearn: 1.0000000\ttotal: 527ms\tremaining: 414ms\n",
      "56:\tlearn: 1.0000000\ttotal: 537ms\tremaining: 405ms\n",
      "57:\tlearn: 1.0000000\ttotal: 547ms\tremaining: 396ms\n",
      "58:\tlearn: 1.0000000\ttotal: 556ms\tremaining: 386ms\n",
      "59:\tlearn: 1.0000000\ttotal: 565ms\tremaining: 377ms\n",
      "60:\tlearn: 1.0000000\ttotal: 574ms\tremaining: 367ms\n",
      "61:\tlearn: 1.0000000\ttotal: 583ms\tremaining: 357ms\n",
      "62:\tlearn: 1.0000000\ttotal: 593ms\tremaining: 348ms\n",
      "63:\tlearn: 1.0000000\ttotal: 601ms\tremaining: 338ms\n",
      "64:\tlearn: 1.0000000\ttotal: 611ms\tremaining: 329ms\n",
      "65:\tlearn: 1.0000000\ttotal: 620ms\tremaining: 320ms\n",
      "66:\tlearn: 1.0000000\ttotal: 629ms\tremaining: 310ms\n",
      "67:\tlearn: 1.0000000\ttotal: 640ms\tremaining: 301ms\n",
      "68:\tlearn: 1.0000000\ttotal: 650ms\tremaining: 292ms\n",
      "69:\tlearn: 1.0000000\ttotal: 658ms\tremaining: 282ms\n",
      "70:\tlearn: 1.0000000\ttotal: 667ms\tremaining: 273ms\n",
      "71:\tlearn: 1.0000000\ttotal: 676ms\tremaining: 263ms\n",
      "72:\tlearn: 1.0000000\ttotal: 688ms\tremaining: 255ms\n",
      "73:\tlearn: 1.0000000\ttotal: 699ms\tremaining: 246ms\n",
      "74:\tlearn: 1.0000000\ttotal: 710ms\tremaining: 237ms\n",
      "75:\tlearn: 1.0000000\ttotal: 714ms\tremaining: 225ms\n",
      "76:\tlearn: 1.0000000\ttotal: 731ms\tremaining: 218ms\n",
      "77:\tlearn: 1.0000000\ttotal: 740ms\tremaining: 209ms\n",
      "78:\tlearn: 1.0000000\ttotal: 751ms\tremaining: 200ms\n",
      "79:\tlearn: 1.0000000\ttotal: 760ms\tremaining: 190ms\n",
      "80:\tlearn: 1.0000000\ttotal: 768ms\tremaining: 180ms\n",
      "81:\tlearn: 1.0000000\ttotal: 778ms\tremaining: 171ms\n",
      "82:\tlearn: 1.0000000\ttotal: 789ms\tremaining: 162ms\n",
      "83:\tlearn: 1.0000000\ttotal: 800ms\tremaining: 152ms\n",
      "84:\tlearn: 1.0000000\ttotal: 809ms\tremaining: 143ms\n",
      "85:\tlearn: 1.0000000\ttotal: 820ms\tremaining: 133ms\n",
      "86:\tlearn: 1.0000000\ttotal: 828ms\tremaining: 124ms\n",
      "87:\tlearn: 1.0000000\ttotal: 837ms\tremaining: 114ms\n",
      "88:\tlearn: 1.0000000\ttotal: 846ms\tremaining: 105ms\n",
      "89:\tlearn: 1.0000000\ttotal: 855ms\tremaining: 95ms\n",
      "90:\tlearn: 1.0000000\ttotal: 863ms\tremaining: 85.4ms\n",
      "91:\tlearn: 1.0000000\ttotal: 874ms\tremaining: 76ms\n",
      "92:\tlearn: 1.0000000\ttotal: 883ms\tremaining: 66.5ms\n",
      "93:\tlearn: 1.0000000\ttotal: 892ms\tremaining: 56.9ms\n",
      "94:\tlearn: 1.0000000\ttotal: 901ms\tremaining: 47.4ms\n",
      "95:\tlearn: 1.0000000\ttotal: 909ms\tremaining: 37.9ms\n",
      "96:\tlearn: 1.0000000\ttotal: 918ms\tremaining: 28.4ms\n",
      "97:\tlearn: 1.0000000\ttotal: 927ms\tremaining: 18.9ms\n",
      "98:\tlearn: 1.0000000\ttotal: 935ms\tremaining: 9.45ms\n",
      "99:\tlearn: 1.0000000\ttotal: 943ms\tremaining: 0us\n",
      "0:\tlearn: 0.9600000\ttotal: 10.4ms\tremaining: 1.03s\n",
      "1:\tlearn: 0.9781818\ttotal: 19.1ms\tremaining: 937ms\n",
      "2:\tlearn: 0.9709091\ttotal: 28.2ms\tremaining: 911ms\n",
      "3:\tlearn: 0.9745455\ttotal: 37.2ms\tremaining: 892ms\n",
      "4:\tlearn: 0.9800000\ttotal: 46.4ms\tremaining: 882ms\n",
      "5:\tlearn: 0.9854545\ttotal: 55.4ms\tremaining: 869ms\n",
      "6:\tlearn: 0.9854545\ttotal: 63.9ms\tremaining: 849ms\n",
      "7:\tlearn: 0.9909091\ttotal: 72.1ms\tremaining: 829ms\n",
      "8:\tlearn: 0.9909091\ttotal: 81ms\tremaining: 819ms\n",
      "9:\tlearn: 0.9909091\ttotal: 90.1ms\tremaining: 811ms\n",
      "10:\tlearn: 0.9945455\ttotal: 99.1ms\tremaining: 802ms\n",
      "11:\tlearn: 0.9945455\ttotal: 107ms\tremaining: 788ms\n",
      "12:\tlearn: 0.9945455\ttotal: 115ms\tremaining: 772ms\n",
      "13:\tlearn: 0.9945455\ttotal: 124ms\tremaining: 763ms\n",
      "14:\tlearn: 0.9945455\ttotal: 134ms\tremaining: 761ms\n",
      "15:\tlearn: 0.9945455\ttotal: 144ms\tremaining: 755ms\n",
      "16:\tlearn: 0.9945455\ttotal: 153ms\tremaining: 747ms\n",
      "17:\tlearn: 0.9945455\ttotal: 162ms\tremaining: 740ms\n",
      "18:\tlearn: 0.9945455\ttotal: 171ms\tremaining: 730ms\n",
      "19:\tlearn: 0.9945455\ttotal: 189ms\tremaining: 756ms\n",
      "20:\tlearn: 0.9945455\ttotal: 199ms\tremaining: 747ms\n",
      "21:\tlearn: 0.9945455\ttotal: 209ms\tremaining: 740ms\n",
      "22:\tlearn: 0.9945455\ttotal: 219ms\tremaining: 733ms\n",
      "23:\tlearn: 0.9945455\ttotal: 228ms\tremaining: 723ms\n",
      "24:\tlearn: 0.9945455\ttotal: 238ms\tremaining: 713ms\n",
      "25:\tlearn: 0.9981818\ttotal: 246ms\tremaining: 700ms\n",
      "26:\tlearn: 0.9981818\ttotal: 256ms\tremaining: 692ms\n",
      "27:\tlearn: 0.9981818\ttotal: 265ms\tremaining: 681ms\n",
      "28:\tlearn: 0.9981818\ttotal: 274ms\tremaining: 671ms\n",
      "29:\tlearn: 0.9981818\ttotal: 282ms\tremaining: 658ms\n",
      "30:\tlearn: 0.9981818\ttotal: 291ms\tremaining: 648ms\n",
      "31:\tlearn: 0.9981818\ttotal: 300ms\tremaining: 638ms\n",
      "32:\tlearn: 1.0000000\ttotal: 309ms\tremaining: 627ms\n",
      "33:\tlearn: 1.0000000\ttotal: 318ms\tremaining: 617ms\n",
      "34:\tlearn: 1.0000000\ttotal: 328ms\tremaining: 609ms\n",
      "35:\tlearn: 1.0000000\ttotal: 338ms\tremaining: 600ms\n",
      "36:\tlearn: 1.0000000\ttotal: 347ms\tremaining: 590ms\n",
      "37:\tlearn: 1.0000000\ttotal: 355ms\tremaining: 580ms\n",
      "38:\tlearn: 1.0000000\ttotal: 365ms\tremaining: 570ms\n",
      "39:\tlearn: 1.0000000\ttotal: 376ms\tremaining: 564ms\n",
      "40:\tlearn: 1.0000000\ttotal: 386ms\tremaining: 556ms\n",
      "41:\tlearn: 1.0000000\ttotal: 397ms\tremaining: 549ms\n",
      "42:\tlearn: 1.0000000\ttotal: 407ms\tremaining: 539ms\n",
      "43:\tlearn: 1.0000000\ttotal: 416ms\tremaining: 529ms\n",
      "44:\tlearn: 1.0000000\ttotal: 425ms\tremaining: 519ms\n",
      "45:\tlearn: 1.0000000\ttotal: 433ms\tremaining: 508ms\n",
      "46:\tlearn: 1.0000000\ttotal: 440ms\tremaining: 496ms\n",
      "47:\tlearn: 1.0000000\ttotal: 449ms\tremaining: 487ms\n",
      "48:\tlearn: 1.0000000\ttotal: 458ms\tremaining: 477ms\n",
      "49:\tlearn: 1.0000000\ttotal: 467ms\tremaining: 467ms\n",
      "50:\tlearn: 1.0000000\ttotal: 475ms\tremaining: 457ms\n",
      "51:\tlearn: 1.0000000\ttotal: 484ms\tremaining: 447ms\n",
      "52:\tlearn: 1.0000000\ttotal: 495ms\tremaining: 439ms\n",
      "53:\tlearn: 1.0000000\ttotal: 506ms\tremaining: 431ms\n",
      "54:\tlearn: 1.0000000\ttotal: 519ms\tremaining: 424ms\n",
      "55:\tlearn: 1.0000000\ttotal: 528ms\tremaining: 415ms\n",
      "56:\tlearn: 1.0000000\ttotal: 537ms\tremaining: 405ms\n",
      "57:\tlearn: 1.0000000\ttotal: 546ms\tremaining: 395ms\n",
      "58:\tlearn: 1.0000000\ttotal: 554ms\tremaining: 385ms\n",
      "59:\tlearn: 1.0000000\ttotal: 566ms\tremaining: 377ms\n",
      "60:\tlearn: 1.0000000\ttotal: 578ms\tremaining: 370ms\n",
      "61:\tlearn: 1.0000000\ttotal: 589ms\tremaining: 361ms\n",
      "62:\tlearn: 1.0000000\ttotal: 598ms\tremaining: 351ms\n",
      "63:\tlearn: 1.0000000\ttotal: 606ms\tremaining: 341ms\n",
      "64:\tlearn: 1.0000000\ttotal: 616ms\tremaining: 332ms\n",
      "65:\tlearn: 1.0000000\ttotal: 626ms\tremaining: 323ms\n",
      "66:\tlearn: 1.0000000\ttotal: 636ms\tremaining: 313ms\n",
      "67:\tlearn: 1.0000000\ttotal: 644ms\tremaining: 303ms\n",
      "68:\tlearn: 1.0000000\ttotal: 653ms\tremaining: 293ms\n",
      "69:\tlearn: 1.0000000\ttotal: 660ms\tremaining: 283ms\n",
      "70:\tlearn: 1.0000000\ttotal: 668ms\tremaining: 273ms\n",
      "71:\tlearn: 1.0000000\ttotal: 676ms\tremaining: 263ms\n",
      "72:\tlearn: 1.0000000\ttotal: 685ms\tremaining: 253ms\n",
      "73:\tlearn: 1.0000000\ttotal: 694ms\tremaining: 244ms\n",
      "74:\tlearn: 1.0000000\ttotal: 704ms\tremaining: 235ms\n",
      "75:\tlearn: 1.0000000\ttotal: 714ms\tremaining: 225ms\n",
      "76:\tlearn: 1.0000000\ttotal: 721ms\tremaining: 215ms\n",
      "77:\tlearn: 1.0000000\ttotal: 729ms\tremaining: 206ms\n",
      "78:\tlearn: 1.0000000\ttotal: 738ms\tremaining: 196ms\n",
      "79:\tlearn: 1.0000000\ttotal: 746ms\tremaining: 186ms\n",
      "80:\tlearn: 1.0000000\ttotal: 754ms\tremaining: 177ms\n",
      "81:\tlearn: 1.0000000\ttotal: 762ms\tremaining: 167ms\n",
      "82:\tlearn: 1.0000000\ttotal: 770ms\tremaining: 158ms\n",
      "83:\tlearn: 1.0000000\ttotal: 777ms\tremaining: 148ms\n",
      "84:\tlearn: 1.0000000\ttotal: 784ms\tremaining: 138ms\n",
      "85:\tlearn: 1.0000000\ttotal: 792ms\tremaining: 129ms\n",
      "86:\tlearn: 1.0000000\ttotal: 800ms\tremaining: 120ms\n",
      "87:\tlearn: 1.0000000\ttotal: 808ms\tremaining: 110ms\n",
      "88:\tlearn: 1.0000000\ttotal: 816ms\tremaining: 101ms\n",
      "89:\tlearn: 1.0000000\ttotal: 825ms\tremaining: 91.7ms\n",
      "90:\tlearn: 1.0000000\ttotal: 832ms\tremaining: 82.3ms\n",
      "91:\tlearn: 1.0000000\ttotal: 840ms\tremaining: 73.1ms\n",
      "92:\tlearn: 1.0000000\ttotal: 849ms\tremaining: 63.9ms\n",
      "93:\tlearn: 1.0000000\ttotal: 858ms\tremaining: 54.7ms\n",
      "94:\tlearn: 1.0000000\ttotal: 865ms\tremaining: 45.5ms\n",
      "95:\tlearn: 1.0000000\ttotal: 873ms\tremaining: 36.4ms\n",
      "96:\tlearn: 1.0000000\ttotal: 882ms\tremaining: 27.3ms\n",
      "97:\tlearn: 1.0000000\ttotal: 889ms\tremaining: 18.2ms\n",
      "98:\tlearn: 1.0000000\ttotal: 898ms\tremaining: 9.07ms\n",
      "99:\tlearn: 1.0000000\ttotal: 907ms\tremaining: 0us\n",
      "0:\tlearn: 0.9581818\ttotal: 10.9ms\tremaining: 1.07s\n",
      "1:\tlearn: 0.9690909\ttotal: 19.2ms\tremaining: 940ms\n",
      "2:\tlearn: 0.9818182\ttotal: 28.1ms\tremaining: 908ms\n",
      "3:\tlearn: 0.9745455\ttotal: 36.9ms\tremaining: 886ms\n",
      "4:\tlearn: 0.9818182\ttotal: 45.9ms\tremaining: 873ms\n",
      "5:\tlearn: 0.9872727\ttotal: 55.5ms\tremaining: 869ms\n",
      "6:\tlearn: 0.9890909\ttotal: 63.9ms\tremaining: 849ms\n",
      "7:\tlearn: 0.9890909\ttotal: 71.7ms\tremaining: 825ms\n",
      "8:\tlearn: 0.9890909\ttotal: 80.2ms\tremaining: 811ms\n",
      "9:\tlearn: 0.9909091\ttotal: 92.3ms\tremaining: 831ms\n",
      "10:\tlearn: 0.9927273\ttotal: 100ms\tremaining: 812ms\n",
      "11:\tlearn: 0.9945455\ttotal: 109ms\tremaining: 797ms\n",
      "12:\tlearn: 0.9927273\ttotal: 117ms\tremaining: 781ms\n",
      "13:\tlearn: 0.9945455\ttotal: 124ms\tremaining: 760ms\n",
      "14:\tlearn: 0.9945455\ttotal: 131ms\tremaining: 744ms\n",
      "15:\tlearn: 0.9945455\ttotal: 139ms\tremaining: 730ms\n",
      "16:\tlearn: 0.9945455\ttotal: 148ms\tremaining: 722ms\n",
      "17:\tlearn: 0.9945455\ttotal: 156ms\tremaining: 711ms\n",
      "18:\tlearn: 0.9945455\ttotal: 164ms\tremaining: 697ms\n",
      "19:\tlearn: 0.9945455\ttotal: 172ms\tremaining: 686ms\n",
      "20:\tlearn: 0.9945455\ttotal: 180ms\tremaining: 675ms\n",
      "21:\tlearn: 0.9945455\ttotal: 188ms\tremaining: 665ms\n",
      "22:\tlearn: 0.9945455\ttotal: 195ms\tremaining: 653ms\n",
      "23:\tlearn: 0.9945455\ttotal: 204ms\tremaining: 645ms\n",
      "24:\tlearn: 0.9945455\ttotal: 212ms\tremaining: 635ms\n",
      "25:\tlearn: 0.9963636\ttotal: 220ms\tremaining: 626ms\n",
      "26:\tlearn: 0.9981818\ttotal: 228ms\tremaining: 616ms\n",
      "27:\tlearn: 0.9981818\ttotal: 236ms\tremaining: 607ms\n",
      "28:\tlearn: 0.9981818\ttotal: 244ms\tremaining: 598ms\n",
      "29:\tlearn: 1.0000000\ttotal: 254ms\tremaining: 592ms\n",
      "30:\tlearn: 1.0000000\ttotal: 262ms\tremaining: 584ms\n",
      "31:\tlearn: 1.0000000\ttotal: 270ms\tremaining: 574ms\n",
      "32:\tlearn: 1.0000000\ttotal: 278ms\tremaining: 564ms\n",
      "33:\tlearn: 1.0000000\ttotal: 286ms\tremaining: 555ms\n",
      "34:\tlearn: 1.0000000\ttotal: 294ms\tremaining: 546ms\n",
      "35:\tlearn: 1.0000000\ttotal: 303ms\tremaining: 538ms\n",
      "36:\tlearn: 1.0000000\ttotal: 311ms\tremaining: 530ms\n",
      "37:\tlearn: 1.0000000\ttotal: 319ms\tremaining: 520ms\n",
      "38:\tlearn: 1.0000000\ttotal: 328ms\tremaining: 512ms\n",
      "39:\tlearn: 1.0000000\ttotal: 335ms\tremaining: 503ms\n",
      "40:\tlearn: 1.0000000\ttotal: 344ms\tremaining: 494ms\n",
      "41:\tlearn: 1.0000000\ttotal: 352ms\tremaining: 486ms\n",
      "42:\tlearn: 1.0000000\ttotal: 360ms\tremaining: 478ms\n",
      "43:\tlearn: 1.0000000\ttotal: 368ms\tremaining: 469ms\n",
      "44:\tlearn: 1.0000000\ttotal: 376ms\tremaining: 459ms\n",
      "45:\tlearn: 1.0000000\ttotal: 384ms\tremaining: 451ms\n",
      "46:\tlearn: 1.0000000\ttotal: 392ms\tremaining: 442ms\n",
      "47:\tlearn: 1.0000000\ttotal: 400ms\tremaining: 433ms\n",
      "48:\tlearn: 1.0000000\ttotal: 408ms\tremaining: 425ms\n",
      "49:\tlearn: 1.0000000\ttotal: 416ms\tremaining: 416ms\n",
      "50:\tlearn: 1.0000000\ttotal: 424ms\tremaining: 408ms\n",
      "51:\tlearn: 1.0000000\ttotal: 432ms\tremaining: 399ms\n",
      "52:\tlearn: 1.0000000\ttotal: 440ms\tremaining: 390ms\n",
      "53:\tlearn: 1.0000000\ttotal: 448ms\tremaining: 382ms\n",
      "54:\tlearn: 1.0000000\ttotal: 457ms\tremaining: 374ms\n",
      "55:\tlearn: 1.0000000\ttotal: 465ms\tremaining: 365ms\n",
      "56:\tlearn: 1.0000000\ttotal: 474ms\tremaining: 358ms\n",
      "57:\tlearn: 1.0000000\ttotal: 484ms\tremaining: 351ms\n",
      "58:\tlearn: 1.0000000\ttotal: 495ms\tremaining: 344ms\n",
      "59:\tlearn: 1.0000000\ttotal: 503ms\tremaining: 335ms\n",
      "60:\tlearn: 1.0000000\ttotal: 511ms\tremaining: 327ms\n",
      "61:\tlearn: 1.0000000\ttotal: 519ms\tremaining: 318ms\n",
      "62:\tlearn: 1.0000000\ttotal: 527ms\tremaining: 309ms\n",
      "63:\tlearn: 1.0000000\ttotal: 534ms\tremaining: 300ms\n",
      "64:\tlearn: 1.0000000\ttotal: 541ms\tremaining: 292ms\n",
      "65:\tlearn: 1.0000000\ttotal: 549ms\tremaining: 283ms\n",
      "66:\tlearn: 1.0000000\ttotal: 556ms\tremaining: 274ms\n",
      "67:\tlearn: 1.0000000\ttotal: 566ms\tremaining: 266ms\n",
      "68:\tlearn: 1.0000000\ttotal: 575ms\tremaining: 258ms\n",
      "69:\tlearn: 1.0000000\ttotal: 583ms\tremaining: 250ms\n",
      "70:\tlearn: 1.0000000\ttotal: 592ms\tremaining: 242ms\n",
      "71:\tlearn: 1.0000000\ttotal: 600ms\tremaining: 233ms\n",
      "72:\tlearn: 1.0000000\ttotal: 607ms\tremaining: 225ms\n",
      "73:\tlearn: 1.0000000\ttotal: 619ms\tremaining: 217ms\n",
      "74:\tlearn: 1.0000000\ttotal: 630ms\tremaining: 210ms\n",
      "75:\tlearn: 1.0000000\ttotal: 640ms\tremaining: 202ms\n",
      "76:\tlearn: 1.0000000\ttotal: 649ms\tremaining: 194ms\n",
      "77:\tlearn: 1.0000000\ttotal: 657ms\tremaining: 185ms\n",
      "78:\tlearn: 1.0000000\ttotal: 665ms\tremaining: 177ms\n",
      "79:\tlearn: 1.0000000\ttotal: 673ms\tremaining: 168ms\n",
      "80:\tlearn: 1.0000000\ttotal: 680ms\tremaining: 160ms\n",
      "81:\tlearn: 1.0000000\ttotal: 687ms\tremaining: 151ms\n",
      "82:\tlearn: 1.0000000\ttotal: 695ms\tremaining: 142ms\n",
      "83:\tlearn: 1.0000000\ttotal: 703ms\tremaining: 134ms\n",
      "84:\tlearn: 1.0000000\ttotal: 711ms\tremaining: 125ms\n",
      "85:\tlearn: 1.0000000\ttotal: 720ms\tremaining: 117ms\n",
      "86:\tlearn: 1.0000000\ttotal: 728ms\tremaining: 109ms\n",
      "87:\tlearn: 1.0000000\ttotal: 736ms\tremaining: 100ms\n",
      "88:\tlearn: 1.0000000\ttotal: 744ms\tremaining: 92ms\n",
      "89:\tlearn: 1.0000000\ttotal: 752ms\tremaining: 83.6ms\n",
      "90:\tlearn: 1.0000000\ttotal: 761ms\tremaining: 75.3ms\n",
      "91:\tlearn: 1.0000000\ttotal: 770ms\tremaining: 66.9ms\n",
      "92:\tlearn: 1.0000000\ttotal: 779ms\tremaining: 58.6ms\n",
      "93:\tlearn: 1.0000000\ttotal: 787ms\tremaining: 50.2ms\n",
      "94:\tlearn: 1.0000000\ttotal: 795ms\tremaining: 41.9ms\n",
      "95:\tlearn: 1.0000000\ttotal: 803ms\tremaining: 33.5ms\n",
      "96:\tlearn: 1.0000000\ttotal: 810ms\tremaining: 25.1ms\n",
      "97:\tlearn: 1.0000000\ttotal: 819ms\tremaining: 16.7ms\n",
      "98:\tlearn: 1.0000000\ttotal: 828ms\tremaining: 8.36ms\n",
      "99:\tlearn: 1.0000000\ttotal: 836ms\tremaining: 0us\n",
      "0:\tlearn: 0.9618182\ttotal: 9.2ms\tremaining: 911ms\n",
      "1:\tlearn: 0.9690909\ttotal: 17.4ms\tremaining: 854ms\n",
      "2:\tlearn: 0.9745455\ttotal: 25.8ms\tremaining: 835ms\n",
      "3:\tlearn: 0.9727273\ttotal: 34ms\tremaining: 816ms\n",
      "4:\tlearn: 0.9781818\ttotal: 41.8ms\tremaining: 795ms\n",
      "5:\tlearn: 0.9836364\ttotal: 49.9ms\tremaining: 782ms\n",
      "6:\tlearn: 0.9854545\ttotal: 58.3ms\tremaining: 775ms\n",
      "7:\tlearn: 0.9854545\ttotal: 66.9ms\tremaining: 769ms\n",
      "8:\tlearn: 0.9890909\ttotal: 75.5ms\tremaining: 764ms\n",
      "9:\tlearn: 0.9909091\ttotal: 83.9ms\tremaining: 755ms\n",
      "10:\tlearn: 0.9909091\ttotal: 92.7ms\tremaining: 750ms\n",
      "11:\tlearn: 0.9927273\ttotal: 101ms\tremaining: 740ms\n",
      "12:\tlearn: 0.9927273\ttotal: 109ms\tremaining: 729ms\n",
      "13:\tlearn: 0.9927273\ttotal: 117ms\tremaining: 721ms\n",
      "14:\tlearn: 0.9927273\ttotal: 125ms\tremaining: 707ms\n",
      "15:\tlearn: 0.9945455\ttotal: 133ms\tremaining: 697ms\n",
      "16:\tlearn: 0.9945455\ttotal: 141ms\tremaining: 688ms\n",
      "17:\tlearn: 0.9945455\ttotal: 148ms\tremaining: 676ms\n",
      "18:\tlearn: 0.9945455\ttotal: 156ms\tremaining: 665ms\n",
      "19:\tlearn: 0.9963636\ttotal: 165ms\tremaining: 659ms\n",
      "20:\tlearn: 0.9963636\ttotal: 173ms\tremaining: 652ms\n",
      "21:\tlearn: 0.9963636\ttotal: 182ms\tremaining: 646ms\n",
      "22:\tlearn: 0.9963636\ttotal: 192ms\tremaining: 643ms\n",
      "23:\tlearn: 0.9963636\ttotal: 201ms\tremaining: 638ms\n",
      "24:\tlearn: 0.9981818\ttotal: 212ms\tremaining: 636ms\n",
      "25:\tlearn: 0.9981818\ttotal: 221ms\tremaining: 629ms\n",
      "26:\tlearn: 0.9981818\ttotal: 231ms\tremaining: 624ms\n",
      "27:\tlearn: 0.9981818\ttotal: 240ms\tremaining: 617ms\n",
      "28:\tlearn: 0.9981818\ttotal: 249ms\tremaining: 610ms\n",
      "29:\tlearn: 0.9981818\ttotal: 257ms\tremaining: 599ms\n",
      "30:\tlearn: 1.0000000\ttotal: 266ms\tremaining: 591ms\n",
      "31:\tlearn: 1.0000000\ttotal: 274ms\tremaining: 582ms\n",
      "32:\tlearn: 1.0000000\ttotal: 282ms\tremaining: 573ms\n",
      "33:\tlearn: 1.0000000\ttotal: 290ms\tremaining: 564ms\n",
      "34:\tlearn: 1.0000000\ttotal: 298ms\tremaining: 554ms\n",
      "35:\tlearn: 1.0000000\ttotal: 306ms\tremaining: 545ms\n",
      "36:\tlearn: 1.0000000\ttotal: 314ms\tremaining: 535ms\n",
      "37:\tlearn: 1.0000000\ttotal: 322ms\tremaining: 526ms\n",
      "38:\tlearn: 1.0000000\ttotal: 332ms\tremaining: 519ms\n",
      "39:\tlearn: 1.0000000\ttotal: 342ms\tremaining: 514ms\n",
      "40:\tlearn: 1.0000000\ttotal: 352ms\tremaining: 506ms\n",
      "41:\tlearn: 1.0000000\ttotal: 361ms\tremaining: 498ms\n",
      "42:\tlearn: 1.0000000\ttotal: 368ms\tremaining: 488ms\n",
      "43:\tlearn: 1.0000000\ttotal: 376ms\tremaining: 479ms\n",
      "44:\tlearn: 1.0000000\ttotal: 384ms\tremaining: 470ms\n",
      "45:\tlearn: 1.0000000\ttotal: 393ms\tremaining: 461ms\n",
      "46:\tlearn: 1.0000000\ttotal: 401ms\tremaining: 452ms\n",
      "47:\tlearn: 1.0000000\ttotal: 410ms\tremaining: 444ms\n",
      "48:\tlearn: 1.0000000\ttotal: 418ms\tremaining: 435ms\n",
      "49:\tlearn: 1.0000000\ttotal: 426ms\tremaining: 426ms\n",
      "50:\tlearn: 1.0000000\ttotal: 434ms\tremaining: 417ms\n",
      "51:\tlearn: 1.0000000\ttotal: 442ms\tremaining: 408ms\n",
      "52:\tlearn: 1.0000000\ttotal: 451ms\tremaining: 400ms\n",
      "53:\tlearn: 1.0000000\ttotal: 459ms\tremaining: 391ms\n",
      "54:\tlearn: 1.0000000\ttotal: 469ms\tremaining: 384ms\n",
      "55:\tlearn: 1.0000000\ttotal: 478ms\tremaining: 376ms\n",
      "56:\tlearn: 1.0000000\ttotal: 487ms\tremaining: 367ms\n",
      "57:\tlearn: 1.0000000\ttotal: 495ms\tremaining: 358ms\n",
      "58:\tlearn: 1.0000000\ttotal: 503ms\tremaining: 349ms\n",
      "59:\tlearn: 1.0000000\ttotal: 511ms\tremaining: 341ms\n",
      "60:\tlearn: 1.0000000\ttotal: 520ms\tremaining: 332ms\n",
      "61:\tlearn: 1.0000000\ttotal: 528ms\tremaining: 323ms\n",
      "62:\tlearn: 1.0000000\ttotal: 535ms\tremaining: 314ms\n",
      "63:\tlearn: 1.0000000\ttotal: 543ms\tremaining: 305ms\n",
      "64:\tlearn: 1.0000000\ttotal: 551ms\tremaining: 297ms\n",
      "65:\tlearn: 1.0000000\ttotal: 559ms\tremaining: 288ms\n",
      "66:\tlearn: 1.0000000\ttotal: 566ms\tremaining: 279ms\n",
      "67:\tlearn: 1.0000000\ttotal: 573ms\tremaining: 270ms\n",
      "68:\tlearn: 1.0000000\ttotal: 581ms\tremaining: 261ms\n",
      "69:\tlearn: 1.0000000\ttotal: 588ms\tremaining: 252ms\n",
      "70:\tlearn: 1.0000000\ttotal: 596ms\tremaining: 244ms\n",
      "71:\tlearn: 1.0000000\ttotal: 605ms\tremaining: 235ms\n",
      "72:\tlearn: 1.0000000\ttotal: 613ms\tremaining: 227ms\n",
      "73:\tlearn: 1.0000000\ttotal: 622ms\tremaining: 218ms\n",
      "74:\tlearn: 1.0000000\ttotal: 630ms\tremaining: 210ms\n",
      "75:\tlearn: 1.0000000\ttotal: 637ms\tremaining: 201ms\n",
      "76:\tlearn: 1.0000000\ttotal: 645ms\tremaining: 193ms\n",
      "77:\tlearn: 1.0000000\ttotal: 654ms\tremaining: 184ms\n",
      "78:\tlearn: 1.0000000\ttotal: 663ms\tremaining: 176ms\n",
      "79:\tlearn: 1.0000000\ttotal: 671ms\tremaining: 168ms\n",
      "80:\tlearn: 1.0000000\ttotal: 679ms\tremaining: 159ms\n",
      "81:\tlearn: 1.0000000\ttotal: 688ms\tremaining: 151ms\n",
      "82:\tlearn: 1.0000000\ttotal: 696ms\tremaining: 143ms\n",
      "83:\tlearn: 1.0000000\ttotal: 704ms\tremaining: 134ms\n",
      "84:\tlearn: 1.0000000\ttotal: 713ms\tremaining: 126ms\n",
      "85:\tlearn: 1.0000000\ttotal: 720ms\tremaining: 117ms\n",
      "86:\tlearn: 1.0000000\ttotal: 729ms\tremaining: 109ms\n",
      "87:\tlearn: 1.0000000\ttotal: 738ms\tremaining: 101ms\n",
      "88:\tlearn: 1.0000000\ttotal: 746ms\tremaining: 92.2ms\n",
      "89:\tlearn: 1.0000000\ttotal: 755ms\tremaining: 83.9ms\n",
      "90:\tlearn: 1.0000000\ttotal: 765ms\tremaining: 75.6ms\n",
      "91:\tlearn: 1.0000000\ttotal: 773ms\tremaining: 67.2ms\n",
      "92:\tlearn: 1.0000000\ttotal: 781ms\tremaining: 58.8ms\n",
      "93:\tlearn: 1.0000000\ttotal: 789ms\tremaining: 50.4ms\n",
      "94:\tlearn: 1.0000000\ttotal: 797ms\tremaining: 42ms\n",
      "95:\tlearn: 1.0000000\ttotal: 805ms\tremaining: 33.5ms\n",
      "96:\tlearn: 1.0000000\ttotal: 814ms\tremaining: 25.2ms\n",
      "97:\tlearn: 1.0000000\ttotal: 822ms\tremaining: 16.8ms\n",
      "98:\tlearn: 1.0000000\ttotal: 830ms\tremaining: 8.38ms\n",
      "99:\tlearn: 1.0000000\ttotal: 838ms\tremaining: 0us\n",
      "0:\tlearn: 0.9581818\ttotal: 11ms\tremaining: 1.09s\n",
      "1:\tlearn: 0.9672727\ttotal: 19.4ms\tremaining: 952ms\n",
      "2:\tlearn: 0.9690909\ttotal: 27.5ms\tremaining: 889ms\n",
      "3:\tlearn: 0.9763636\ttotal: 35.2ms\tremaining: 845ms\n",
      "4:\tlearn: 0.9818182\ttotal: 42.8ms\tremaining: 813ms\n",
      "5:\tlearn: 0.9800000\ttotal: 49.8ms\tremaining: 780ms\n",
      "6:\tlearn: 0.9872727\ttotal: 57.7ms\tremaining: 766ms\n",
      "7:\tlearn: 0.9890909\ttotal: 65.5ms\tremaining: 753ms\n",
      "8:\tlearn: 0.9927273\ttotal: 73.7ms\tremaining: 745ms\n",
      "9:\tlearn: 0.9927273\ttotal: 81.9ms\tremaining: 737ms\n",
      "10:\tlearn: 0.9927273\ttotal: 89.7ms\tremaining: 726ms\n",
      "11:\tlearn: 0.9927273\ttotal: 97.7ms\tremaining: 716ms\n",
      "12:\tlearn: 0.9927273\ttotal: 106ms\tremaining: 707ms\n",
      "13:\tlearn: 0.9927273\ttotal: 115ms\tremaining: 705ms\n",
      "14:\tlearn: 0.9927273\ttotal: 123ms\tremaining: 699ms\n",
      "15:\tlearn: 0.9945455\ttotal: 131ms\tremaining: 690ms\n",
      "16:\tlearn: 0.9945455\ttotal: 140ms\tremaining: 683ms\n",
      "17:\tlearn: 0.9945455\ttotal: 150ms\tremaining: 683ms\n",
      "18:\tlearn: 0.9945455\ttotal: 160ms\tremaining: 682ms\n",
      "19:\tlearn: 0.9963636\ttotal: 169ms\tremaining: 677ms\n",
      "20:\tlearn: 0.9963636\ttotal: 177ms\tremaining: 665ms\n",
      "21:\tlearn: 0.9963636\ttotal: 186ms\tremaining: 659ms\n",
      "22:\tlearn: 0.9963636\ttotal: 193ms\tremaining: 648ms\n",
      "23:\tlearn: 0.9963636\ttotal: 203ms\tremaining: 641ms\n",
      "24:\tlearn: 0.9963636\ttotal: 210ms\tremaining: 629ms\n",
      "25:\tlearn: 0.9981818\ttotal: 217ms\tremaining: 619ms\n",
      "26:\tlearn: 0.9981818\ttotal: 225ms\tremaining: 609ms\n",
      "27:\tlearn: 0.9981818\ttotal: 233ms\tremaining: 599ms\n",
      "28:\tlearn: 0.9981818\ttotal: 241ms\tremaining: 590ms\n",
      "29:\tlearn: 0.9981818\ttotal: 249ms\tremaining: 580ms\n",
      "30:\tlearn: 0.9981818\ttotal: 256ms\tremaining: 570ms\n",
      "31:\tlearn: 1.0000000\ttotal: 266ms\tremaining: 565ms\n",
      "32:\tlearn: 1.0000000\ttotal: 274ms\tremaining: 557ms\n",
      "33:\tlearn: 1.0000000\ttotal: 282ms\tremaining: 548ms\n",
      "34:\tlearn: 1.0000000\ttotal: 290ms\tremaining: 539ms\n",
      "35:\tlearn: 1.0000000\ttotal: 299ms\tremaining: 532ms\n",
      "36:\tlearn: 1.0000000\ttotal: 309ms\tremaining: 525ms\n",
      "37:\tlearn: 1.0000000\ttotal: 317ms\tremaining: 518ms\n",
      "38:\tlearn: 1.0000000\ttotal: 325ms\tremaining: 508ms\n",
      "39:\tlearn: 1.0000000\ttotal: 333ms\tremaining: 499ms\n",
      "40:\tlearn: 1.0000000\ttotal: 341ms\tremaining: 491ms\n",
      "41:\tlearn: 1.0000000\ttotal: 350ms\tremaining: 483ms\n",
      "42:\tlearn: 1.0000000\ttotal: 358ms\tremaining: 474ms\n",
      "43:\tlearn: 1.0000000\ttotal: 367ms\tremaining: 467ms\n",
      "44:\tlearn: 1.0000000\ttotal: 374ms\tremaining: 458ms\n",
      "45:\tlearn: 1.0000000\ttotal: 382ms\tremaining: 449ms\n",
      "46:\tlearn: 1.0000000\ttotal: 391ms\tremaining: 441ms\n",
      "47:\tlearn: 1.0000000\ttotal: 399ms\tremaining: 433ms\n",
      "48:\tlearn: 1.0000000\ttotal: 407ms\tremaining: 424ms\n",
      "49:\tlearn: 1.0000000\ttotal: 416ms\tremaining: 416ms\n",
      "50:\tlearn: 1.0000000\ttotal: 424ms\tremaining: 407ms\n",
      "51:\tlearn: 1.0000000\ttotal: 432ms\tremaining: 399ms\n",
      "52:\tlearn: 1.0000000\ttotal: 440ms\tremaining: 390ms\n",
      "53:\tlearn: 1.0000000\ttotal: 448ms\tremaining: 382ms\n",
      "54:\tlearn: 1.0000000\ttotal: 456ms\tremaining: 373ms\n",
      "55:\tlearn: 1.0000000\ttotal: 464ms\tremaining: 365ms\n",
      "56:\tlearn: 1.0000000\ttotal: 472ms\tremaining: 356ms\n",
      "57:\tlearn: 1.0000000\ttotal: 480ms\tremaining: 347ms\n",
      "58:\tlearn: 1.0000000\ttotal: 488ms\tremaining: 339ms\n",
      "59:\tlearn: 1.0000000\ttotal: 497ms\tremaining: 331ms\n",
      "60:\tlearn: 1.0000000\ttotal: 508ms\tremaining: 325ms\n",
      "61:\tlearn: 1.0000000\ttotal: 517ms\tremaining: 317ms\n",
      "62:\tlearn: 1.0000000\ttotal: 526ms\tremaining: 309ms\n",
      "63:\tlearn: 1.0000000\ttotal: 535ms\tremaining: 301ms\n",
      "64:\tlearn: 1.0000000\ttotal: 545ms\tremaining: 293ms\n",
      "65:\tlearn: 1.0000000\ttotal: 554ms\tremaining: 285ms\n",
      "66:\tlearn: 1.0000000\ttotal: 563ms\tremaining: 277ms\n",
      "67:\tlearn: 1.0000000\ttotal: 572ms\tremaining: 269ms\n",
      "68:\tlearn: 1.0000000\ttotal: 580ms\tremaining: 261ms\n",
      "69:\tlearn: 1.0000000\ttotal: 589ms\tremaining: 252ms\n",
      "70:\tlearn: 1.0000000\ttotal: 598ms\tremaining: 244ms\n",
      "71:\tlearn: 1.0000000\ttotal: 610ms\tremaining: 237ms\n",
      "72:\tlearn: 1.0000000\ttotal: 621ms\tremaining: 230ms\n",
      "73:\tlearn: 1.0000000\ttotal: 630ms\tremaining: 221ms\n",
      "74:\tlearn: 1.0000000\ttotal: 639ms\tremaining: 213ms\n",
      "75:\tlearn: 1.0000000\ttotal: 648ms\tremaining: 205ms\n",
      "76:\tlearn: 1.0000000\ttotal: 658ms\tremaining: 197ms\n",
      "77:\tlearn: 1.0000000\ttotal: 667ms\tremaining: 188ms\n",
      "78:\tlearn: 1.0000000\ttotal: 677ms\tremaining: 180ms\n",
      "79:\tlearn: 1.0000000\ttotal: 686ms\tremaining: 171ms\n",
      "80:\tlearn: 1.0000000\ttotal: 695ms\tremaining: 163ms\n",
      "81:\tlearn: 1.0000000\ttotal: 705ms\tremaining: 155ms\n",
      "82:\tlearn: 1.0000000\ttotal: 714ms\tremaining: 146ms\n",
      "83:\tlearn: 1.0000000\ttotal: 723ms\tremaining: 138ms\n",
      "84:\tlearn: 1.0000000\ttotal: 733ms\tremaining: 129ms\n",
      "85:\tlearn: 1.0000000\ttotal: 742ms\tremaining: 121ms\n",
      "86:\tlearn: 1.0000000\ttotal: 752ms\tremaining: 112ms\n",
      "87:\tlearn: 1.0000000\ttotal: 760ms\tremaining: 104ms\n",
      "88:\tlearn: 1.0000000\ttotal: 768ms\tremaining: 95ms\n",
      "89:\tlearn: 1.0000000\ttotal: 776ms\tremaining: 86.2ms\n",
      "90:\tlearn: 1.0000000\ttotal: 783ms\tremaining: 77.4ms\n",
      "91:\tlearn: 1.0000000\ttotal: 790ms\tremaining: 68.7ms\n",
      "92:\tlearn: 1.0000000\ttotal: 798ms\tremaining: 60.1ms\n",
      "93:\tlearn: 1.0000000\ttotal: 806ms\tremaining: 51.4ms\n",
      "94:\tlearn: 1.0000000\ttotal: 814ms\tremaining: 42.8ms\n",
      "95:\tlearn: 1.0000000\ttotal: 822ms\tremaining: 34.2ms\n",
      "96:\tlearn: 1.0000000\ttotal: 830ms\tremaining: 25.7ms\n",
      "97:\tlearn: 1.0000000\ttotal: 837ms\tremaining: 17.1ms\n",
      "98:\tlearn: 1.0000000\ttotal: 844ms\tremaining: 8.53ms\n",
      "99:\tlearn: 1.0000000\ttotal: 851ms\tremaining: 0us\n",
      "0:\tlearn: 0.9618182\ttotal: 10.6ms\tremaining: 1.05s\n",
      "1:\tlearn: 0.9727273\ttotal: 18.6ms\tremaining: 909ms\n",
      "2:\tlearn: 0.9709091\ttotal: 26.2ms\tremaining: 848ms\n",
      "3:\tlearn: 0.9709091\ttotal: 35.1ms\tremaining: 844ms\n",
      "4:\tlearn: 0.9800000\ttotal: 43.1ms\tremaining: 819ms\n",
      "5:\tlearn: 0.9800000\ttotal: 52.1ms\tremaining: 816ms\n",
      "6:\tlearn: 0.9854545\ttotal: 59.7ms\tremaining: 794ms\n",
      "7:\tlearn: 0.9854545\ttotal: 67.2ms\tremaining: 772ms\n",
      "8:\tlearn: 0.9890909\ttotal: 75.7ms\tremaining: 765ms\n",
      "9:\tlearn: 0.9909091\ttotal: 85.3ms\tremaining: 767ms\n",
      "10:\tlearn: 0.9909091\ttotal: 94.2ms\tremaining: 762ms\n",
      "11:\tlearn: 0.9909091\ttotal: 102ms\tremaining: 749ms\n",
      "12:\tlearn: 0.9909091\ttotal: 110ms\tremaining: 736ms\n",
      "13:\tlearn: 0.9909091\ttotal: 118ms\tremaining: 722ms\n",
      "14:\tlearn: 0.9909091\ttotal: 126ms\tremaining: 714ms\n",
      "15:\tlearn: 0.9927273\ttotal: 134ms\tremaining: 702ms\n",
      "16:\tlearn: 0.9927273\ttotal: 143ms\tremaining: 696ms\n",
      "17:\tlearn: 0.9927273\ttotal: 151ms\tremaining: 690ms\n",
      "18:\tlearn: 0.9927273\ttotal: 159ms\tremaining: 678ms\n",
      "19:\tlearn: 0.9945455\ttotal: 167ms\tremaining: 668ms\n",
      "20:\tlearn: 0.9945455\ttotal: 174ms\tremaining: 655ms\n",
      "21:\tlearn: 0.9945455\ttotal: 182ms\tremaining: 645ms\n",
      "22:\tlearn: 0.9945455\ttotal: 189ms\tremaining: 634ms\n",
      "23:\tlearn: 0.9945455\ttotal: 197ms\tremaining: 622ms\n",
      "24:\tlearn: 0.9963636\ttotal: 203ms\tremaining: 610ms\n",
      "25:\tlearn: 0.9963636\ttotal: 211ms\tremaining: 602ms\n",
      "26:\tlearn: 0.9963636\ttotal: 219ms\tremaining: 592ms\n",
      "27:\tlearn: 0.9981818\ttotal: 226ms\tremaining: 582ms\n",
      "28:\tlearn: 0.9981818\ttotal: 233ms\tremaining: 572ms\n",
      "29:\tlearn: 0.9981818\ttotal: 241ms\tremaining: 562ms\n",
      "30:\tlearn: 0.9981818\ttotal: 249ms\tremaining: 554ms\n",
      "31:\tlearn: 1.0000000\ttotal: 257ms\tremaining: 546ms\n",
      "32:\tlearn: 1.0000000\ttotal: 264ms\tremaining: 536ms\n",
      "33:\tlearn: 1.0000000\ttotal: 273ms\tremaining: 530ms\n",
      "34:\tlearn: 1.0000000\ttotal: 281ms\tremaining: 522ms\n",
      "35:\tlearn: 1.0000000\ttotal: 289ms\tremaining: 513ms\n",
      "36:\tlearn: 1.0000000\ttotal: 296ms\tremaining: 504ms\n",
      "37:\tlearn: 1.0000000\ttotal: 303ms\tremaining: 495ms\n",
      "38:\tlearn: 1.0000000\ttotal: 311ms\tremaining: 487ms\n",
      "39:\tlearn: 1.0000000\ttotal: 319ms\tremaining: 478ms\n",
      "40:\tlearn: 1.0000000\ttotal: 327ms\tremaining: 471ms\n",
      "41:\tlearn: 1.0000000\ttotal: 335ms\tremaining: 463ms\n",
      "42:\tlearn: 1.0000000\ttotal: 343ms\tremaining: 454ms\n",
      "43:\tlearn: 1.0000000\ttotal: 350ms\tremaining: 446ms\n",
      "44:\tlearn: 1.0000000\ttotal: 358ms\tremaining: 437ms\n",
      "45:\tlearn: 1.0000000\ttotal: 365ms\tremaining: 429ms\n",
      "46:\tlearn: 1.0000000\ttotal: 373ms\tremaining: 421ms\n",
      "47:\tlearn: 1.0000000\ttotal: 381ms\tremaining: 413ms\n",
      "48:\tlearn: 1.0000000\ttotal: 390ms\tremaining: 406ms\n",
      "49:\tlearn: 1.0000000\ttotal: 398ms\tremaining: 398ms\n",
      "50:\tlearn: 1.0000000\ttotal: 406ms\tremaining: 390ms\n",
      "51:\tlearn: 1.0000000\ttotal: 415ms\tremaining: 383ms\n",
      "52:\tlearn: 1.0000000\ttotal: 422ms\tremaining: 375ms\n",
      "53:\tlearn: 1.0000000\ttotal: 431ms\tremaining: 367ms\n",
      "54:\tlearn: 1.0000000\ttotal: 439ms\tremaining: 359ms\n",
      "55:\tlearn: 1.0000000\ttotal: 446ms\tremaining: 350ms\n",
      "56:\tlearn: 1.0000000\ttotal: 453ms\tremaining: 342ms\n",
      "57:\tlearn: 1.0000000\ttotal: 460ms\tremaining: 333ms\n",
      "58:\tlearn: 1.0000000\ttotal: 468ms\tremaining: 325ms\n",
      "59:\tlearn: 1.0000000\ttotal: 476ms\tremaining: 317ms\n",
      "60:\tlearn: 1.0000000\ttotal: 484ms\tremaining: 310ms\n",
      "61:\tlearn: 1.0000000\ttotal: 492ms\tremaining: 302ms\n",
      "62:\tlearn: 1.0000000\ttotal: 500ms\tremaining: 293ms\n",
      "63:\tlearn: 1.0000000\ttotal: 507ms\tremaining: 285ms\n",
      "64:\tlearn: 1.0000000\ttotal: 515ms\tremaining: 278ms\n",
      "65:\tlearn: 1.0000000\ttotal: 523ms\tremaining: 270ms\n",
      "66:\tlearn: 1.0000000\ttotal: 532ms\tremaining: 262ms\n",
      "67:\tlearn: 1.0000000\ttotal: 540ms\tremaining: 254ms\n",
      "68:\tlearn: 1.0000000\ttotal: 547ms\tremaining: 246ms\n",
      "69:\tlearn: 1.0000000\ttotal: 554ms\tremaining: 237ms\n",
      "70:\tlearn: 1.0000000\ttotal: 561ms\tremaining: 229ms\n",
      "71:\tlearn: 1.0000000\ttotal: 569ms\tremaining: 221ms\n",
      "72:\tlearn: 1.0000000\ttotal: 576ms\tremaining: 213ms\n",
      "73:\tlearn: 1.0000000\ttotal: 584ms\tremaining: 205ms\n",
      "74:\tlearn: 1.0000000\ttotal: 591ms\tremaining: 197ms\n",
      "75:\tlearn: 1.0000000\ttotal: 599ms\tremaining: 189ms\n",
      "76:\tlearn: 1.0000000\ttotal: 606ms\tremaining: 181ms\n",
      "77:\tlearn: 1.0000000\ttotal: 613ms\tremaining: 173ms\n",
      "78:\tlearn: 1.0000000\ttotal: 620ms\tremaining: 165ms\n",
      "79:\tlearn: 1.0000000\ttotal: 628ms\tremaining: 157ms\n",
      "80:\tlearn: 1.0000000\ttotal: 636ms\tremaining: 149ms\n",
      "81:\tlearn: 1.0000000\ttotal: 643ms\tremaining: 141ms\n",
      "82:\tlearn: 1.0000000\ttotal: 650ms\tremaining: 133ms\n",
      "83:\tlearn: 1.0000000\ttotal: 657ms\tremaining: 125ms\n",
      "84:\tlearn: 1.0000000\ttotal: 665ms\tremaining: 117ms\n",
      "85:\tlearn: 1.0000000\ttotal: 672ms\tremaining: 109ms\n",
      "86:\tlearn: 1.0000000\ttotal: 681ms\tremaining: 102ms\n",
      "87:\tlearn: 1.0000000\ttotal: 689ms\tremaining: 94ms\n",
      "88:\tlearn: 1.0000000\ttotal: 697ms\tremaining: 86.2ms\n",
      "89:\tlearn: 1.0000000\ttotal: 705ms\tremaining: 78.4ms\n",
      "90:\tlearn: 1.0000000\ttotal: 714ms\tremaining: 70.6ms\n",
      "91:\tlearn: 1.0000000\ttotal: 726ms\tremaining: 63.1ms\n",
      "92:\tlearn: 1.0000000\ttotal: 734ms\tremaining: 55.2ms\n",
      "93:\tlearn: 1.0000000\ttotal: 742ms\tremaining: 47.3ms\n",
      "94:\tlearn: 1.0000000\ttotal: 749ms\tremaining: 39.4ms\n",
      "95:\tlearn: 1.0000000\ttotal: 757ms\tremaining: 31.5ms\n",
      "96:\tlearn: 1.0000000\ttotal: 764ms\tremaining: 23.6ms\n",
      "97:\tlearn: 1.0000000\ttotal: 771ms\tremaining: 15.7ms\n",
      "98:\tlearn: 1.0000000\ttotal: 781ms\tremaining: 7.89ms\n",
      "99:\tlearn: 1.0000000\ttotal: 789ms\tremaining: 0us\n",
      "0:\tlearn: 0.9618182\ttotal: 8.88ms\tremaining: 879ms\n",
      "1:\tlearn: 0.9672727\ttotal: 17.4ms\tremaining: 852ms\n",
      "2:\tlearn: 0.9654545\ttotal: 24.7ms\tremaining: 798ms\n",
      "3:\tlearn: 0.9672727\ttotal: 32.8ms\tremaining: 787ms\n",
      "4:\tlearn: 0.9745455\ttotal: 44.6ms\tremaining: 847ms\n",
      "5:\tlearn: 0.9727273\ttotal: 52.2ms\tremaining: 817ms\n",
      "6:\tlearn: 0.9727273\ttotal: 60.4ms\tremaining: 803ms\n",
      "7:\tlearn: 0.9818182\ttotal: 68ms\tremaining: 782ms\n",
      "8:\tlearn: 0.9854545\ttotal: 76.1ms\tremaining: 770ms\n",
      "9:\tlearn: 0.9927273\ttotal: 85.9ms\tremaining: 773ms\n",
      "10:\tlearn: 0.9927273\ttotal: 94ms\tremaining: 761ms\n",
      "11:\tlearn: 0.9909091\ttotal: 102ms\tremaining: 745ms\n",
      "12:\tlearn: 0.9927273\ttotal: 109ms\tremaining: 729ms\n",
      "13:\tlearn: 0.9927273\ttotal: 117ms\tremaining: 718ms\n",
      "14:\tlearn: 0.9927273\ttotal: 126ms\tremaining: 714ms\n",
      "15:\tlearn: 0.9927273\ttotal: 136ms\tremaining: 712ms\n",
      "16:\tlearn: 0.9945455\ttotal: 145ms\tremaining: 706ms\n",
      "17:\tlearn: 0.9945455\ttotal: 154ms\tremaining: 700ms\n",
      "18:\tlearn: 0.9945455\ttotal: 162ms\tremaining: 689ms\n",
      "19:\tlearn: 0.9945455\ttotal: 170ms\tremaining: 679ms\n",
      "20:\tlearn: 0.9945455\ttotal: 178ms\tremaining: 668ms\n",
      "21:\tlearn: 0.9945455\ttotal: 186ms\tremaining: 661ms\n",
      "22:\tlearn: 0.9945455\ttotal: 195ms\tremaining: 653ms\n",
      "23:\tlearn: 0.9945455\ttotal: 204ms\tremaining: 646ms\n",
      "24:\tlearn: 0.9963636\ttotal: 212ms\tremaining: 635ms\n",
      "25:\tlearn: 0.9981818\ttotal: 219ms\tremaining: 625ms\n",
      "26:\tlearn: 0.9981818\ttotal: 228ms\tremaining: 615ms\n",
      "27:\tlearn: 0.9981818\ttotal: 236ms\tremaining: 608ms\n",
      "28:\tlearn: 1.0000000\ttotal: 244ms\tremaining: 598ms\n",
      "29:\tlearn: 1.0000000\ttotal: 252ms\tremaining: 587ms\n",
      "30:\tlearn: 1.0000000\ttotal: 259ms\tremaining: 576ms\n",
      "31:\tlearn: 1.0000000\ttotal: 267ms\tremaining: 567ms\n",
      "32:\tlearn: 1.0000000\ttotal: 274ms\tremaining: 556ms\n",
      "33:\tlearn: 1.0000000\ttotal: 282ms\tremaining: 548ms\n",
      "34:\tlearn: 1.0000000\ttotal: 289ms\tremaining: 537ms\n",
      "35:\tlearn: 1.0000000\ttotal: 297ms\tremaining: 527ms\n",
      "36:\tlearn: 1.0000000\ttotal: 304ms\tremaining: 518ms\n",
      "37:\tlearn: 1.0000000\ttotal: 312ms\tremaining: 509ms\n",
      "38:\tlearn: 1.0000000\ttotal: 320ms\tremaining: 500ms\n",
      "39:\tlearn: 1.0000000\ttotal: 328ms\tremaining: 492ms\n",
      "40:\tlearn: 1.0000000\ttotal: 337ms\tremaining: 484ms\n",
      "41:\tlearn: 1.0000000\ttotal: 346ms\tremaining: 477ms\n",
      "42:\tlearn: 1.0000000\ttotal: 354ms\tremaining: 469ms\n",
      "43:\tlearn: 1.0000000\ttotal: 362ms\tremaining: 460ms\n",
      "44:\tlearn: 1.0000000\ttotal: 371ms\tremaining: 453ms\n",
      "45:\tlearn: 1.0000000\ttotal: 378ms\tremaining: 444ms\n",
      "46:\tlearn: 1.0000000\ttotal: 386ms\tremaining: 435ms\n",
      "47:\tlearn: 1.0000000\ttotal: 394ms\tremaining: 427ms\n",
      "48:\tlearn: 1.0000000\ttotal: 401ms\tremaining: 418ms\n",
      "49:\tlearn: 1.0000000\ttotal: 409ms\tremaining: 409ms\n",
      "50:\tlearn: 1.0000000\ttotal: 417ms\tremaining: 400ms\n",
      "51:\tlearn: 1.0000000\ttotal: 424ms\tremaining: 392ms\n",
      "52:\tlearn: 1.0000000\ttotal: 432ms\tremaining: 383ms\n",
      "53:\tlearn: 1.0000000\ttotal: 440ms\tremaining: 375ms\n",
      "54:\tlearn: 1.0000000\ttotal: 448ms\tremaining: 367ms\n",
      "55:\tlearn: 1.0000000\ttotal: 457ms\tremaining: 359ms\n",
      "56:\tlearn: 1.0000000\ttotal: 465ms\tremaining: 351ms\n",
      "57:\tlearn: 1.0000000\ttotal: 474ms\tremaining: 344ms\n",
      "58:\tlearn: 1.0000000\ttotal: 483ms\tremaining: 335ms\n",
      "59:\tlearn: 1.0000000\ttotal: 490ms\tremaining: 327ms\n",
      "60:\tlearn: 1.0000000\ttotal: 498ms\tremaining: 319ms\n",
      "61:\tlearn: 1.0000000\ttotal: 506ms\tremaining: 310ms\n",
      "62:\tlearn: 1.0000000\ttotal: 514ms\tremaining: 302ms\n",
      "63:\tlearn: 1.0000000\ttotal: 523ms\tremaining: 294ms\n",
      "64:\tlearn: 1.0000000\ttotal: 531ms\tremaining: 286ms\n",
      "65:\tlearn: 1.0000000\ttotal: 540ms\tremaining: 278ms\n",
      "66:\tlearn: 1.0000000\ttotal: 547ms\tremaining: 270ms\n",
      "67:\tlearn: 1.0000000\ttotal: 555ms\tremaining: 261ms\n",
      "68:\tlearn: 1.0000000\ttotal: 564ms\tremaining: 253ms\n",
      "69:\tlearn: 1.0000000\ttotal: 571ms\tremaining: 245ms\n",
      "70:\tlearn: 1.0000000\ttotal: 578ms\tremaining: 236ms\n",
      "71:\tlearn: 1.0000000\ttotal: 586ms\tremaining: 228ms\n",
      "72:\tlearn: 1.0000000\ttotal: 594ms\tremaining: 220ms\n",
      "73:\tlearn: 1.0000000\ttotal: 602ms\tremaining: 212ms\n",
      "74:\tlearn: 1.0000000\ttotal: 610ms\tremaining: 203ms\n",
      "75:\tlearn: 1.0000000\ttotal: 617ms\tremaining: 195ms\n",
      "76:\tlearn: 1.0000000\ttotal: 625ms\tremaining: 187ms\n",
      "77:\tlearn: 1.0000000\ttotal: 632ms\tremaining: 178ms\n",
      "78:\tlearn: 1.0000000\ttotal: 640ms\tremaining: 170ms\n",
      "79:\tlearn: 1.0000000\ttotal: 647ms\tremaining: 162ms\n",
      "80:\tlearn: 1.0000000\ttotal: 654ms\tremaining: 153ms\n",
      "81:\tlearn: 1.0000000\ttotal: 662ms\tremaining: 145ms\n",
      "82:\tlearn: 1.0000000\ttotal: 670ms\tremaining: 137ms\n",
      "83:\tlearn: 1.0000000\ttotal: 678ms\tremaining: 129ms\n",
      "84:\tlearn: 1.0000000\ttotal: 685ms\tremaining: 121ms\n",
      "85:\tlearn: 1.0000000\ttotal: 693ms\tremaining: 113ms\n",
      "86:\tlearn: 1.0000000\ttotal: 701ms\tremaining: 105ms\n",
      "87:\tlearn: 1.0000000\ttotal: 709ms\tremaining: 96.6ms\n",
      "88:\tlearn: 1.0000000\ttotal: 717ms\tremaining: 88.6ms\n",
      "89:\tlearn: 1.0000000\ttotal: 725ms\tremaining: 80.5ms\n",
      "90:\tlearn: 1.0000000\ttotal: 733ms\tremaining: 72.5ms\n",
      "91:\tlearn: 1.0000000\ttotal: 741ms\tremaining: 64.4ms\n",
      "92:\tlearn: 1.0000000\ttotal: 749ms\tremaining: 56.4ms\n",
      "93:\tlearn: 1.0000000\ttotal: 757ms\tremaining: 48.3ms\n",
      "94:\tlearn: 1.0000000\ttotal: 765ms\tremaining: 40.3ms\n",
      "95:\tlearn: 1.0000000\ttotal: 773ms\tremaining: 32.2ms\n",
      "96:\tlearn: 1.0000000\ttotal: 781ms\tremaining: 24.2ms\n",
      "97:\tlearn: 1.0000000\ttotal: 789ms\tremaining: 16.1ms\n",
      "98:\tlearn: 1.0000000\ttotal: 797ms\tremaining: 8.05ms\n",
      "99:\tlearn: 1.0000000\ttotal: 805ms\tremaining: 0us\n",
      "0:\tlearn: 0.9672727\ttotal: 8.97ms\tremaining: 889ms\n",
      "1:\tlearn: 0.9672727\ttotal: 16.8ms\tremaining: 821ms\n",
      "2:\tlearn: 0.9800000\ttotal: 25.1ms\tremaining: 812ms\n",
      "3:\tlearn: 0.9836364\ttotal: 33.2ms\tremaining: 797ms\n",
      "4:\tlearn: 0.9890909\ttotal: 42.4ms\tremaining: 805ms\n",
      "5:\tlearn: 0.9872727\ttotal: 50.3ms\tremaining: 788ms\n",
      "6:\tlearn: 0.9909091\ttotal: 59.1ms\tremaining: 786ms\n",
      "7:\tlearn: 0.9909091\ttotal: 67.2ms\tremaining: 773ms\n",
      "8:\tlearn: 0.9927273\ttotal: 75.6ms\tremaining: 764ms\n",
      "9:\tlearn: 0.9927273\ttotal: 84.3ms\tremaining: 758ms\n",
      "10:\tlearn: 0.9927273\ttotal: 94.1ms\tremaining: 761ms\n",
      "11:\tlearn: 0.9927273\ttotal: 102ms\tremaining: 746ms\n",
      "12:\tlearn: 0.9927273\ttotal: 112ms\tremaining: 750ms\n",
      "13:\tlearn: 0.9927273\ttotal: 121ms\tremaining: 745ms\n",
      "14:\tlearn: 0.9927273\ttotal: 129ms\tremaining: 733ms\n",
      "15:\tlearn: 0.9927273\ttotal: 138ms\tremaining: 722ms\n",
      "16:\tlearn: 0.9945455\ttotal: 145ms\tremaining: 707ms\n",
      "17:\tlearn: 0.9945455\ttotal: 152ms\tremaining: 695ms\n",
      "18:\tlearn: 0.9945455\ttotal: 160ms\tremaining: 680ms\n",
      "19:\tlearn: 0.9945455\ttotal: 167ms\tremaining: 670ms\n",
      "20:\tlearn: 0.9945455\ttotal: 176ms\tremaining: 661ms\n",
      "21:\tlearn: 0.9963636\ttotal: 183ms\tremaining: 651ms\n",
      "22:\tlearn: 0.9963636\ttotal: 191ms\tremaining: 638ms\n",
      "23:\tlearn: 0.9963636\ttotal: 199ms\tremaining: 629ms\n",
      "24:\tlearn: 0.9963636\ttotal: 207ms\tremaining: 622ms\n",
      "25:\tlearn: 0.9981818\ttotal: 217ms\tremaining: 618ms\n",
      "26:\tlearn: 0.9981818\ttotal: 225ms\tremaining: 609ms\n",
      "27:\tlearn: 0.9981818\ttotal: 234ms\tremaining: 601ms\n",
      "28:\tlearn: 0.9981818\ttotal: 243ms\tremaining: 594ms\n",
      "29:\tlearn: 0.9981818\ttotal: 252ms\tremaining: 588ms\n",
      "30:\tlearn: 0.9981818\ttotal: 261ms\tremaining: 582ms\n",
      "31:\tlearn: 0.9981818\ttotal: 270ms\tremaining: 574ms\n",
      "32:\tlearn: 1.0000000\ttotal: 278ms\tremaining: 564ms\n",
      "33:\tlearn: 1.0000000\ttotal: 285ms\tremaining: 554ms\n",
      "34:\tlearn: 1.0000000\ttotal: 292ms\tremaining: 543ms\n",
      "35:\tlearn: 1.0000000\ttotal: 301ms\tremaining: 534ms\n",
      "36:\tlearn: 1.0000000\ttotal: 309ms\tremaining: 526ms\n",
      "37:\tlearn: 1.0000000\ttotal: 316ms\tremaining: 516ms\n",
      "38:\tlearn: 1.0000000\ttotal: 325ms\tremaining: 508ms\n",
      "39:\tlearn: 1.0000000\ttotal: 332ms\tremaining: 499ms\n",
      "40:\tlearn: 1.0000000\ttotal: 341ms\tremaining: 491ms\n",
      "41:\tlearn: 1.0000000\ttotal: 350ms\tremaining: 484ms\n",
      "42:\tlearn: 1.0000000\ttotal: 360ms\tremaining: 477ms\n",
      "43:\tlearn: 1.0000000\ttotal: 369ms\tremaining: 469ms\n",
      "44:\tlearn: 1.0000000\ttotal: 377ms\tremaining: 461ms\n",
      "45:\tlearn: 1.0000000\ttotal: 386ms\tremaining: 453ms\n",
      "46:\tlearn: 1.0000000\ttotal: 395ms\tremaining: 445ms\n",
      "47:\tlearn: 1.0000000\ttotal: 403ms\tremaining: 437ms\n",
      "48:\tlearn: 1.0000000\ttotal: 413ms\tremaining: 430ms\n",
      "49:\tlearn: 1.0000000\ttotal: 424ms\tremaining: 424ms\n",
      "50:\tlearn: 1.0000000\ttotal: 435ms\tremaining: 418ms\n",
      "51:\tlearn: 1.0000000\ttotal: 444ms\tremaining: 410ms\n",
      "52:\tlearn: 1.0000000\ttotal: 453ms\tremaining: 402ms\n",
      "53:\tlearn: 1.0000000\ttotal: 462ms\tremaining: 393ms\n",
      "54:\tlearn: 1.0000000\ttotal: 470ms\tremaining: 384ms\n",
      "55:\tlearn: 1.0000000\ttotal: 479ms\tremaining: 376ms\n",
      "56:\tlearn: 1.0000000\ttotal: 486ms\tremaining: 367ms\n",
      "57:\tlearn: 1.0000000\ttotal: 494ms\tremaining: 358ms\n",
      "58:\tlearn: 1.0000000\ttotal: 503ms\tremaining: 349ms\n",
      "59:\tlearn: 1.0000000\ttotal: 511ms\tremaining: 341ms\n",
      "60:\tlearn: 1.0000000\ttotal: 522ms\tremaining: 333ms\n",
      "61:\tlearn: 1.0000000\ttotal: 530ms\tremaining: 325ms\n",
      "62:\tlearn: 1.0000000\ttotal: 539ms\tremaining: 316ms\n",
      "63:\tlearn: 1.0000000\ttotal: 547ms\tremaining: 308ms\n",
      "64:\tlearn: 1.0000000\ttotal: 558ms\tremaining: 300ms\n",
      "65:\tlearn: 1.0000000\ttotal: 566ms\tremaining: 292ms\n",
      "66:\tlearn: 1.0000000\ttotal: 576ms\tremaining: 283ms\n",
      "67:\tlearn: 1.0000000\ttotal: 586ms\tremaining: 276ms\n",
      "68:\tlearn: 1.0000000\ttotal: 597ms\tremaining: 268ms\n",
      "69:\tlearn: 1.0000000\ttotal: 607ms\tremaining: 260ms\n",
      "70:\tlearn: 1.0000000\ttotal: 618ms\tremaining: 252ms\n",
      "71:\tlearn: 1.0000000\ttotal: 626ms\tremaining: 244ms\n",
      "72:\tlearn: 1.0000000\ttotal: 634ms\tremaining: 235ms\n",
      "73:\tlearn: 1.0000000\ttotal: 642ms\tremaining: 226ms\n",
      "74:\tlearn: 1.0000000\ttotal: 650ms\tremaining: 217ms\n",
      "75:\tlearn: 1.0000000\ttotal: 659ms\tremaining: 208ms\n",
      "76:\tlearn: 1.0000000\ttotal: 667ms\tremaining: 199ms\n",
      "77:\tlearn: 1.0000000\ttotal: 675ms\tremaining: 190ms\n",
      "78:\tlearn: 1.0000000\ttotal: 684ms\tremaining: 182ms\n",
      "79:\tlearn: 1.0000000\ttotal: 692ms\tremaining: 173ms\n",
      "80:\tlearn: 1.0000000\ttotal: 700ms\tremaining: 164ms\n",
      "81:\tlearn: 1.0000000\ttotal: 707ms\tremaining: 155ms\n",
      "82:\tlearn: 1.0000000\ttotal: 716ms\tremaining: 147ms\n",
      "83:\tlearn: 1.0000000\ttotal: 724ms\tremaining: 138ms\n",
      "84:\tlearn: 1.0000000\ttotal: 732ms\tremaining: 129ms\n",
      "85:\tlearn: 1.0000000\ttotal: 739ms\tremaining: 120ms\n",
      "86:\tlearn: 1.0000000\ttotal: 748ms\tremaining: 112ms\n",
      "87:\tlearn: 1.0000000\ttotal: 755ms\tremaining: 103ms\n",
      "88:\tlearn: 1.0000000\ttotal: 764ms\tremaining: 94.4ms\n",
      "89:\tlearn: 1.0000000\ttotal: 772ms\tremaining: 85.8ms\n",
      "90:\tlearn: 1.0000000\ttotal: 779ms\tremaining: 77.1ms\n",
      "91:\tlearn: 1.0000000\ttotal: 787ms\tremaining: 68.4ms\n",
      "92:\tlearn: 1.0000000\ttotal: 795ms\tremaining: 59.8ms\n",
      "93:\tlearn: 1.0000000\ttotal: 802ms\tremaining: 51.2ms\n",
      "94:\tlearn: 1.0000000\ttotal: 810ms\tremaining: 42.6ms\n",
      "95:\tlearn: 1.0000000\ttotal: 817ms\tremaining: 34.1ms\n",
      "96:\tlearn: 1.0000000\ttotal: 826ms\tremaining: 25.5ms\n",
      "97:\tlearn: 1.0000000\ttotal: 834ms\tremaining: 17ms\n",
      "98:\tlearn: 1.0000000\ttotal: 842ms\tremaining: 8.51ms\n",
      "99:\tlearn: 1.0000000\ttotal: 850ms\tremaining: 0us\n",
      "0:\tlearn: 0.9545455\ttotal: 9.03ms\tremaining: 894ms\n",
      "1:\tlearn: 0.9672727\ttotal: 16.4ms\tremaining: 806ms\n",
      "2:\tlearn: 0.9763636\ttotal: 24.7ms\tremaining: 800ms\n",
      "3:\tlearn: 0.9854545\ttotal: 32.7ms\tremaining: 785ms\n",
      "4:\tlearn: 0.9836364\ttotal: 40ms\tremaining: 761ms\n",
      "5:\tlearn: 0.9854545\ttotal: 48.2ms\tremaining: 755ms\n",
      "6:\tlearn: 0.9890909\ttotal: 55.6ms\tremaining: 739ms\n",
      "7:\tlearn: 0.9909091\ttotal: 63.4ms\tremaining: 729ms\n",
      "8:\tlearn: 0.9909091\ttotal: 71.1ms\tremaining: 719ms\n",
      "9:\tlearn: 0.9909091\ttotal: 78.7ms\tremaining: 708ms\n",
      "10:\tlearn: 0.9927273\ttotal: 86.8ms\tremaining: 702ms\n",
      "11:\tlearn: 0.9927273\ttotal: 94ms\tremaining: 690ms\n",
      "12:\tlearn: 0.9927273\ttotal: 101ms\tremaining: 678ms\n",
      "13:\tlearn: 0.9927273\ttotal: 109ms\tremaining: 671ms\n",
      "14:\tlearn: 0.9927273\ttotal: 117ms\tremaining: 664ms\n",
      "15:\tlearn: 0.9927273\ttotal: 125ms\tremaining: 654ms\n",
      "16:\tlearn: 0.9927273\ttotal: 134ms\tremaining: 653ms\n",
      "17:\tlearn: 0.9945455\ttotal: 143ms\tremaining: 650ms\n",
      "18:\tlearn: 0.9945455\ttotal: 151ms\tremaining: 645ms\n",
      "19:\tlearn: 0.9945455\ttotal: 161ms\tremaining: 644ms\n",
      "20:\tlearn: 0.9945455\ttotal: 169ms\tremaining: 637ms\n",
      "21:\tlearn: 0.9945455\ttotal: 179ms\tremaining: 634ms\n",
      "22:\tlearn: 0.9945455\ttotal: 187ms\tremaining: 626ms\n",
      "23:\tlearn: 0.9945455\ttotal: 198ms\tremaining: 627ms\n",
      "24:\tlearn: 0.9945455\ttotal: 209ms\tremaining: 626ms\n",
      "25:\tlearn: 0.9945455\ttotal: 218ms\tremaining: 620ms\n",
      "26:\tlearn: 0.9963636\ttotal: 227ms\tremaining: 615ms\n",
      "27:\tlearn: 0.9963636\ttotal: 236ms\tremaining: 607ms\n",
      "28:\tlearn: 0.9981818\ttotal: 245ms\tremaining: 600ms\n",
      "29:\tlearn: 0.9981818\ttotal: 254ms\tremaining: 593ms\n",
      "30:\tlearn: 0.9981818\ttotal: 263ms\tremaining: 584ms\n",
      "31:\tlearn: 0.9981818\ttotal: 271ms\tremaining: 575ms\n",
      "32:\tlearn: 1.0000000\ttotal: 279ms\tremaining: 566ms\n",
      "33:\tlearn: 1.0000000\ttotal: 287ms\tremaining: 558ms\n",
      "34:\tlearn: 1.0000000\ttotal: 295ms\tremaining: 548ms\n",
      "35:\tlearn: 1.0000000\ttotal: 303ms\tremaining: 539ms\n",
      "36:\tlearn: 1.0000000\ttotal: 311ms\tremaining: 529ms\n",
      "37:\tlearn: 1.0000000\ttotal: 318ms\tremaining: 519ms\n",
      "38:\tlearn: 1.0000000\ttotal: 326ms\tremaining: 509ms\n",
      "39:\tlearn: 1.0000000\ttotal: 333ms\tremaining: 500ms\n",
      "40:\tlearn: 1.0000000\ttotal: 342ms\tremaining: 492ms\n",
      "41:\tlearn: 1.0000000\ttotal: 351ms\tremaining: 485ms\n",
      "42:\tlearn: 1.0000000\ttotal: 360ms\tremaining: 477ms\n",
      "43:\tlearn: 1.0000000\ttotal: 368ms\tremaining: 469ms\n",
      "44:\tlearn: 1.0000000\ttotal: 379ms\tremaining: 463ms\n",
      "45:\tlearn: 1.0000000\ttotal: 389ms\tremaining: 457ms\n",
      "46:\tlearn: 1.0000000\ttotal: 400ms\tremaining: 451ms\n",
      "47:\tlearn: 1.0000000\ttotal: 407ms\tremaining: 441ms\n",
      "48:\tlearn: 1.0000000\ttotal: 415ms\tremaining: 432ms\n",
      "49:\tlearn: 1.0000000\ttotal: 424ms\tremaining: 424ms\n",
      "50:\tlearn: 1.0000000\ttotal: 432ms\tremaining: 415ms\n",
      "51:\tlearn: 1.0000000\ttotal: 440ms\tremaining: 406ms\n",
      "52:\tlearn: 1.0000000\ttotal: 448ms\tremaining: 397ms\n",
      "53:\tlearn: 1.0000000\ttotal: 456ms\tremaining: 388ms\n",
      "54:\tlearn: 1.0000000\ttotal: 464ms\tremaining: 380ms\n",
      "55:\tlearn: 1.0000000\ttotal: 472ms\tremaining: 371ms\n",
      "56:\tlearn: 1.0000000\ttotal: 480ms\tremaining: 362ms\n",
      "57:\tlearn: 1.0000000\ttotal: 490ms\tremaining: 355ms\n",
      "58:\tlearn: 1.0000000\ttotal: 499ms\tremaining: 346ms\n",
      "59:\tlearn: 1.0000000\ttotal: 509ms\tremaining: 339ms\n",
      "60:\tlearn: 1.0000000\ttotal: 517ms\tremaining: 330ms\n",
      "61:\tlearn: 1.0000000\ttotal: 526ms\tremaining: 322ms\n",
      "62:\tlearn: 1.0000000\ttotal: 534ms\tremaining: 314ms\n",
      "63:\tlearn: 1.0000000\ttotal: 543ms\tremaining: 306ms\n",
      "64:\tlearn: 1.0000000\ttotal: 551ms\tremaining: 297ms\n",
      "65:\tlearn: 1.0000000\ttotal: 559ms\tremaining: 288ms\n",
      "66:\tlearn: 1.0000000\ttotal: 568ms\tremaining: 280ms\n",
      "67:\tlearn: 1.0000000\ttotal: 575ms\tremaining: 271ms\n",
      "68:\tlearn: 1.0000000\ttotal: 584ms\tremaining: 262ms\n",
      "69:\tlearn: 1.0000000\ttotal: 592ms\tremaining: 254ms\n",
      "70:\tlearn: 1.0000000\ttotal: 601ms\tremaining: 245ms\n",
      "71:\tlearn: 1.0000000\ttotal: 609ms\tremaining: 237ms\n",
      "72:\tlearn: 1.0000000\ttotal: 617ms\tremaining: 228ms\n",
      "73:\tlearn: 1.0000000\ttotal: 625ms\tremaining: 220ms\n",
      "74:\tlearn: 1.0000000\ttotal: 633ms\tremaining: 211ms\n",
      "75:\tlearn: 1.0000000\ttotal: 641ms\tremaining: 202ms\n",
      "76:\tlearn: 1.0000000\ttotal: 649ms\tremaining: 194ms\n",
      "77:\tlearn: 1.0000000\ttotal: 658ms\tremaining: 185ms\n",
      "78:\tlearn: 1.0000000\ttotal: 666ms\tremaining: 177ms\n",
      "79:\tlearn: 1.0000000\ttotal: 674ms\tremaining: 169ms\n",
      "80:\tlearn: 1.0000000\ttotal: 684ms\tremaining: 160ms\n",
      "81:\tlearn: 1.0000000\ttotal: 693ms\tremaining: 152ms\n",
      "82:\tlearn: 1.0000000\ttotal: 702ms\tremaining: 144ms\n",
      "83:\tlearn: 1.0000000\ttotal: 711ms\tremaining: 135ms\n",
      "84:\tlearn: 1.0000000\ttotal: 719ms\tremaining: 127ms\n",
      "85:\tlearn: 1.0000000\ttotal: 728ms\tremaining: 119ms\n",
      "86:\tlearn: 1.0000000\ttotal: 737ms\tremaining: 110ms\n",
      "87:\tlearn: 1.0000000\ttotal: 746ms\tremaining: 102ms\n",
      "88:\tlearn: 1.0000000\ttotal: 755ms\tremaining: 93.3ms\n",
      "89:\tlearn: 1.0000000\ttotal: 763ms\tremaining: 84.8ms\n",
      "90:\tlearn: 1.0000000\ttotal: 772ms\tremaining: 76.3ms\n",
      "91:\tlearn: 1.0000000\ttotal: 781ms\tremaining: 67.9ms\n",
      "92:\tlearn: 1.0000000\ttotal: 789ms\tremaining: 59.4ms\n",
      "93:\tlearn: 1.0000000\ttotal: 797ms\tremaining: 50.8ms\n",
      "94:\tlearn: 1.0000000\ttotal: 807ms\tremaining: 42.5ms\n",
      "95:\tlearn: 1.0000000\ttotal: 816ms\tremaining: 34ms\n",
      "96:\tlearn: 1.0000000\ttotal: 824ms\tremaining: 25.5ms\n",
      "97:\tlearn: 1.0000000\ttotal: 833ms\tremaining: 17ms\n",
      "98:\tlearn: 1.0000000\ttotal: 841ms\tremaining: 8.49ms\n",
      "99:\tlearn: 1.0000000\ttotal: 850ms\tremaining: 0us\n",
      "0:\tlearn: 0.9581818\ttotal: 9.6ms\tremaining: 950ms\n",
      "1:\tlearn: 0.9672727\ttotal: 18.2ms\tremaining: 891ms\n",
      "2:\tlearn: 0.9763636\ttotal: 26.5ms\tremaining: 858ms\n",
      "3:\tlearn: 0.9763636\ttotal: 34.5ms\tremaining: 828ms\n",
      "4:\tlearn: 0.9836364\ttotal: 42.3ms\tremaining: 804ms\n",
      "5:\tlearn: 0.9800000\ttotal: 50.2ms\tremaining: 787ms\n",
      "6:\tlearn: 0.9872727\ttotal: 58.4ms\tremaining: 776ms\n",
      "7:\tlearn: 0.9872727\ttotal: 66.7ms\tremaining: 767ms\n",
      "8:\tlearn: 0.9872727\ttotal: 75.1ms\tremaining: 759ms\n",
      "9:\tlearn: 0.9909091\ttotal: 85.2ms\tremaining: 767ms\n",
      "10:\tlearn: 0.9909091\ttotal: 95ms\tremaining: 768ms\n",
      "11:\tlearn: 0.9909091\ttotal: 103ms\tremaining: 757ms\n",
      "12:\tlearn: 0.9927273\ttotal: 112ms\tremaining: 750ms\n",
      "13:\tlearn: 0.9927273\ttotal: 122ms\tremaining: 748ms\n",
      "14:\tlearn: 0.9927273\ttotal: 130ms\tremaining: 738ms\n",
      "15:\tlearn: 0.9945455\ttotal: 139ms\tremaining: 729ms\n",
      "16:\tlearn: 0.9945455\ttotal: 147ms\tremaining: 720ms\n",
      "17:\tlearn: 0.9945455\ttotal: 156ms\tremaining: 710ms\n",
      "18:\tlearn: 0.9945455\ttotal: 164ms\tremaining: 698ms\n",
      "19:\tlearn: 0.9945455\ttotal: 172ms\tremaining: 689ms\n",
      "20:\tlearn: 0.9945455\ttotal: 181ms\tremaining: 682ms\n",
      "21:\tlearn: 0.9945455\ttotal: 191ms\tremaining: 677ms\n",
      "22:\tlearn: 0.9963636\ttotal: 201ms\tremaining: 673ms\n",
      "23:\tlearn: 0.9963636\ttotal: 210ms\tremaining: 665ms\n",
      "24:\tlearn: 0.9963636\ttotal: 221ms\tremaining: 662ms\n",
      "25:\tlearn: 0.9963636\ttotal: 229ms\tremaining: 653ms\n",
      "26:\tlearn: 0.9963636\ttotal: 239ms\tremaining: 646ms\n",
      "27:\tlearn: 0.9963636\ttotal: 248ms\tremaining: 638ms\n",
      "28:\tlearn: 0.9981818\ttotal: 257ms\tremaining: 630ms\n",
      "29:\tlearn: 0.9981818\ttotal: 267ms\tremaining: 622ms\n",
      "30:\tlearn: 0.9981818\ttotal: 276ms\tremaining: 615ms\n",
      "31:\tlearn: 0.9981818\ttotal: 286ms\tremaining: 607ms\n",
      "32:\tlearn: 1.0000000\ttotal: 295ms\tremaining: 599ms\n",
      "33:\tlearn: 1.0000000\ttotal: 304ms\tremaining: 590ms\n",
      "34:\tlearn: 1.0000000\ttotal: 313ms\tremaining: 581ms\n",
      "35:\tlearn: 1.0000000\ttotal: 321ms\tremaining: 571ms\n",
      "36:\tlearn: 1.0000000\ttotal: 330ms\tremaining: 562ms\n",
      "37:\tlearn: 1.0000000\ttotal: 339ms\tremaining: 553ms\n",
      "38:\tlearn: 1.0000000\ttotal: 347ms\tremaining: 543ms\n",
      "39:\tlearn: 1.0000000\ttotal: 357ms\tremaining: 535ms\n",
      "40:\tlearn: 1.0000000\ttotal: 366ms\tremaining: 527ms\n",
      "41:\tlearn: 1.0000000\ttotal: 376ms\tremaining: 519ms\n",
      "42:\tlearn: 1.0000000\ttotal: 384ms\tremaining: 509ms\n",
      "43:\tlearn: 1.0000000\ttotal: 392ms\tremaining: 499ms\n",
      "44:\tlearn: 1.0000000\ttotal: 402ms\tremaining: 491ms\n",
      "45:\tlearn: 1.0000000\ttotal: 410ms\tremaining: 481ms\n",
      "46:\tlearn: 1.0000000\ttotal: 418ms\tremaining: 471ms\n",
      "47:\tlearn: 1.0000000\ttotal: 427ms\tremaining: 462ms\n",
      "48:\tlearn: 1.0000000\ttotal: 436ms\tremaining: 453ms\n",
      "49:\tlearn: 1.0000000\ttotal: 449ms\tremaining: 449ms\n",
      "50:\tlearn: 1.0000000\ttotal: 457ms\tremaining: 439ms\n",
      "51:\tlearn: 1.0000000\ttotal: 468ms\tremaining: 432ms\n",
      "52:\tlearn: 1.0000000\ttotal: 479ms\tremaining: 424ms\n",
      "53:\tlearn: 1.0000000\ttotal: 488ms\tremaining: 415ms\n",
      "54:\tlearn: 1.0000000\ttotal: 497ms\tremaining: 407ms\n",
      "55:\tlearn: 1.0000000\ttotal: 506ms\tremaining: 397ms\n",
      "56:\tlearn: 1.0000000\ttotal: 514ms\tremaining: 388ms\n",
      "57:\tlearn: 1.0000000\ttotal: 523ms\tremaining: 379ms\n",
      "58:\tlearn: 1.0000000\ttotal: 531ms\tremaining: 369ms\n",
      "59:\tlearn: 1.0000000\ttotal: 540ms\tremaining: 360ms\n",
      "60:\tlearn: 1.0000000\ttotal: 549ms\tremaining: 351ms\n",
      "61:\tlearn: 1.0000000\ttotal: 557ms\tremaining: 341ms\n",
      "62:\tlearn: 1.0000000\ttotal: 565ms\tremaining: 332ms\n",
      "63:\tlearn: 1.0000000\ttotal: 574ms\tremaining: 323ms\n",
      "64:\tlearn: 1.0000000\ttotal: 583ms\tremaining: 314ms\n",
      "65:\tlearn: 1.0000000\ttotal: 592ms\tremaining: 305ms\n",
      "66:\tlearn: 1.0000000\ttotal: 600ms\tremaining: 296ms\n",
      "67:\tlearn: 1.0000000\ttotal: 611ms\tremaining: 287ms\n",
      "68:\tlearn: 1.0000000\ttotal: 620ms\tremaining: 279ms\n",
      "69:\tlearn: 1.0000000\ttotal: 628ms\tremaining: 269ms\n",
      "70:\tlearn: 1.0000000\ttotal: 637ms\tremaining: 260ms\n",
      "71:\tlearn: 1.0000000\ttotal: 646ms\tremaining: 251ms\n",
      "72:\tlearn: 1.0000000\ttotal: 655ms\tremaining: 242ms\n",
      "73:\tlearn: 1.0000000\ttotal: 664ms\tremaining: 233ms\n",
      "74:\tlearn: 1.0000000\ttotal: 673ms\tremaining: 224ms\n",
      "75:\tlearn: 1.0000000\ttotal: 682ms\tremaining: 215ms\n",
      "76:\tlearn: 1.0000000\ttotal: 690ms\tremaining: 206ms\n",
      "77:\tlearn: 1.0000000\ttotal: 698ms\tremaining: 197ms\n",
      "78:\tlearn: 1.0000000\ttotal: 706ms\tremaining: 188ms\n",
      "79:\tlearn: 1.0000000\ttotal: 714ms\tremaining: 178ms\n",
      "80:\tlearn: 1.0000000\ttotal: 722ms\tremaining: 169ms\n",
      "81:\tlearn: 1.0000000\ttotal: 734ms\tremaining: 161ms\n",
      "82:\tlearn: 1.0000000\ttotal: 745ms\tremaining: 153ms\n",
      "83:\tlearn: 1.0000000\ttotal: 753ms\tremaining: 143ms\n",
      "84:\tlearn: 1.0000000\ttotal: 762ms\tremaining: 135ms\n",
      "85:\tlearn: 1.0000000\ttotal: 771ms\tremaining: 125ms\n",
      "86:\tlearn: 1.0000000\ttotal: 779ms\tremaining: 116ms\n",
      "87:\tlearn: 1.0000000\ttotal: 788ms\tremaining: 107ms\n",
      "88:\tlearn: 1.0000000\ttotal: 796ms\tremaining: 98.3ms\n",
      "89:\tlearn: 1.0000000\ttotal: 805ms\tremaining: 89.4ms\n",
      "90:\tlearn: 1.0000000\ttotal: 814ms\tremaining: 80.5ms\n",
      "91:\tlearn: 1.0000000\ttotal: 821ms\tremaining: 71.4ms\n",
      "92:\tlearn: 1.0000000\ttotal: 830ms\tremaining: 62.4ms\n",
      "93:\tlearn: 1.0000000\ttotal: 838ms\tremaining: 53.5ms\n",
      "94:\tlearn: 1.0000000\ttotal: 846ms\tremaining: 44.5ms\n",
      "95:\tlearn: 1.0000000\ttotal: 855ms\tremaining: 35.6ms\n",
      "96:\tlearn: 1.0000000\ttotal: 864ms\tremaining: 26.7ms\n",
      "97:\tlearn: 1.0000000\ttotal: 873ms\tremaining: 17.8ms\n",
      "98:\tlearn: 1.0000000\ttotal: 881ms\tremaining: 8.9ms\n",
      "99:\tlearn: 1.0000000\ttotal: 889ms\tremaining: 0us\n",
      "0:\tlearn: 0.9600000\ttotal: 13.1ms\tremaining: 1.3s\n",
      "1:\tlearn: 0.9690909\ttotal: 21ms\tremaining: 1.03s\n",
      "2:\tlearn: 0.9727273\ttotal: 29.8ms\tremaining: 962ms\n",
      "3:\tlearn: 0.9781818\ttotal: 37.5ms\tremaining: 901ms\n",
      "4:\tlearn: 0.9745455\ttotal: 45.2ms\tremaining: 858ms\n",
      "5:\tlearn: 0.9781818\ttotal: 53.4ms\tremaining: 836ms\n",
      "6:\tlearn: 0.9836364\ttotal: 61.6ms\tremaining: 819ms\n",
      "7:\tlearn: 0.9854545\ttotal: 70.1ms\tremaining: 806ms\n",
      "8:\tlearn: 0.9872727\ttotal: 79ms\tremaining: 799ms\n",
      "9:\tlearn: 0.9927273\ttotal: 87.4ms\tremaining: 787ms\n",
      "10:\tlearn: 0.9927273\ttotal: 95.6ms\tremaining: 774ms\n",
      "11:\tlearn: 0.9927273\ttotal: 103ms\tremaining: 758ms\n",
      "12:\tlearn: 0.9927273\ttotal: 111ms\tremaining: 743ms\n",
      "13:\tlearn: 0.9945455\ttotal: 119ms\tremaining: 733ms\n",
      "14:\tlearn: 0.9945455\ttotal: 128ms\tremaining: 726ms\n",
      "15:\tlearn: 0.9945455\ttotal: 136ms\tremaining: 716ms\n",
      "16:\tlearn: 0.9945455\ttotal: 144ms\tremaining: 705ms\n",
      "17:\tlearn: 0.9945455\ttotal: 152ms\tremaining: 694ms\n",
      "18:\tlearn: 0.9945455\ttotal: 160ms\tremaining: 682ms\n",
      "19:\tlearn: 0.9945455\ttotal: 168ms\tremaining: 671ms\n",
      "20:\tlearn: 0.9945455\ttotal: 178ms\tremaining: 670ms\n",
      "21:\tlearn: 0.9945455\ttotal: 186ms\tremaining: 660ms\n",
      "22:\tlearn: 0.9945455\ttotal: 194ms\tremaining: 651ms\n",
      "23:\tlearn: 0.9945455\ttotal: 202ms\tremaining: 640ms\n",
      "24:\tlearn: 0.9945455\ttotal: 210ms\tremaining: 630ms\n",
      "25:\tlearn: 0.9963636\ttotal: 218ms\tremaining: 620ms\n",
      "26:\tlearn: 0.9963636\ttotal: 227ms\tremaining: 615ms\n",
      "27:\tlearn: 0.9981818\ttotal: 238ms\tremaining: 613ms\n",
      "28:\tlearn: 0.9981818\ttotal: 248ms\tremaining: 608ms\n",
      "29:\tlearn: 0.9981818\ttotal: 257ms\tremaining: 599ms\n",
      "30:\tlearn: 0.9981818\ttotal: 265ms\tremaining: 591ms\n",
      "31:\tlearn: 0.9981818\ttotal: 274ms\tremaining: 581ms\n",
      "32:\tlearn: 0.9981818\ttotal: 285ms\tremaining: 579ms\n",
      "33:\tlearn: 0.9981818\ttotal: 294ms\tremaining: 572ms\n",
      "34:\tlearn: 1.0000000\ttotal: 304ms\tremaining: 565ms\n",
      "35:\tlearn: 1.0000000\ttotal: 313ms\tremaining: 557ms\n",
      "36:\tlearn: 1.0000000\ttotal: 322ms\tremaining: 548ms\n",
      "37:\tlearn: 1.0000000\ttotal: 331ms\tremaining: 540ms\n",
      "38:\tlearn: 1.0000000\ttotal: 340ms\tremaining: 531ms\n",
      "39:\tlearn: 1.0000000\ttotal: 349ms\tremaining: 524ms\n",
      "40:\tlearn: 1.0000000\ttotal: 360ms\tremaining: 518ms\n",
      "41:\tlearn: 1.0000000\ttotal: 369ms\tremaining: 510ms\n",
      "42:\tlearn: 1.0000000\ttotal: 380ms\tremaining: 503ms\n",
      "43:\tlearn: 1.0000000\ttotal: 390ms\tremaining: 497ms\n",
      "44:\tlearn: 1.0000000\ttotal: 400ms\tremaining: 489ms\n",
      "45:\tlearn: 1.0000000\ttotal: 409ms\tremaining: 480ms\n",
      "46:\tlearn: 1.0000000\ttotal: 418ms\tremaining: 472ms\n",
      "47:\tlearn: 1.0000000\ttotal: 427ms\tremaining: 463ms\n",
      "48:\tlearn: 1.0000000\ttotal: 437ms\tremaining: 455ms\n",
      "49:\tlearn: 1.0000000\ttotal: 445ms\tremaining: 445ms\n",
      "50:\tlearn: 1.0000000\ttotal: 454ms\tremaining: 436ms\n",
      "51:\tlearn: 1.0000000\ttotal: 464ms\tremaining: 428ms\n",
      "52:\tlearn: 1.0000000\ttotal: 473ms\tremaining: 419ms\n",
      "53:\tlearn: 1.0000000\ttotal: 482ms\tremaining: 410ms\n",
      "54:\tlearn: 1.0000000\ttotal: 490ms\tremaining: 401ms\n",
      "55:\tlearn: 1.0000000\ttotal: 499ms\tremaining: 392ms\n",
      "56:\tlearn: 1.0000000\ttotal: 509ms\tremaining: 384ms\n",
      "57:\tlearn: 1.0000000\ttotal: 517ms\tremaining: 374ms\n",
      "58:\tlearn: 1.0000000\ttotal: 526ms\tremaining: 365ms\n",
      "59:\tlearn: 1.0000000\ttotal: 534ms\tremaining: 356ms\n",
      "60:\tlearn: 1.0000000\ttotal: 542ms\tremaining: 347ms\n",
      "61:\tlearn: 1.0000000\ttotal: 550ms\tremaining: 337ms\n",
      "62:\tlearn: 1.0000000\ttotal: 558ms\tremaining: 328ms\n",
      "63:\tlearn: 1.0000000\ttotal: 566ms\tremaining: 318ms\n",
      "64:\tlearn: 1.0000000\ttotal: 574ms\tremaining: 309ms\n",
      "65:\tlearn: 1.0000000\ttotal: 583ms\tremaining: 300ms\n",
      "66:\tlearn: 1.0000000\ttotal: 592ms\tremaining: 291ms\n",
      "67:\tlearn: 1.0000000\ttotal: 600ms\tremaining: 282ms\n",
      "68:\tlearn: 1.0000000\ttotal: 610ms\tremaining: 274ms\n",
      "69:\tlearn: 1.0000000\ttotal: 620ms\tremaining: 266ms\n",
      "70:\tlearn: 1.0000000\ttotal: 630ms\tremaining: 257ms\n",
      "71:\tlearn: 1.0000000\ttotal: 644ms\tremaining: 251ms\n",
      "72:\tlearn: 1.0000000\ttotal: 653ms\tremaining: 242ms\n",
      "73:\tlearn: 1.0000000\ttotal: 662ms\tremaining: 233ms\n",
      "74:\tlearn: 1.0000000\ttotal: 670ms\tremaining: 223ms\n",
      "75:\tlearn: 1.0000000\ttotal: 679ms\tremaining: 214ms\n",
      "76:\tlearn: 1.0000000\ttotal: 687ms\tremaining: 205ms\n",
      "77:\tlearn: 1.0000000\ttotal: 697ms\tremaining: 197ms\n",
      "78:\tlearn: 1.0000000\ttotal: 705ms\tremaining: 188ms\n",
      "79:\tlearn: 1.0000000\ttotal: 715ms\tremaining: 179ms\n",
      "80:\tlearn: 1.0000000\ttotal: 723ms\tremaining: 170ms\n",
      "81:\tlearn: 1.0000000\ttotal: 731ms\tremaining: 160ms\n",
      "82:\tlearn: 1.0000000\ttotal: 739ms\tremaining: 151ms\n",
      "83:\tlearn: 1.0000000\ttotal: 748ms\tremaining: 142ms\n",
      "84:\tlearn: 1.0000000\ttotal: 756ms\tremaining: 133ms\n",
      "85:\tlearn: 1.0000000\ttotal: 764ms\tremaining: 124ms\n",
      "86:\tlearn: 1.0000000\ttotal: 773ms\tremaining: 115ms\n",
      "87:\tlearn: 1.0000000\ttotal: 782ms\tremaining: 107ms\n",
      "88:\tlearn: 1.0000000\ttotal: 790ms\tremaining: 97.6ms\n",
      "89:\tlearn: 1.0000000\ttotal: 797ms\tremaining: 88.6ms\n",
      "90:\tlearn: 1.0000000\ttotal: 806ms\tremaining: 79.7ms\n",
      "91:\tlearn: 1.0000000\ttotal: 814ms\tremaining: 70.7ms\n",
      "92:\tlearn: 1.0000000\ttotal: 822ms\tremaining: 61.9ms\n",
      "93:\tlearn: 1.0000000\ttotal: 830ms\tremaining: 53ms\n",
      "94:\tlearn: 1.0000000\ttotal: 840ms\tremaining: 44.2ms\n",
      "95:\tlearn: 1.0000000\ttotal: 849ms\tremaining: 35.4ms\n",
      "96:\tlearn: 1.0000000\ttotal: 857ms\tremaining: 26.5ms\n",
      "97:\tlearn: 1.0000000\ttotal: 866ms\tremaining: 17.7ms\n",
      "98:\tlearn: 1.0000000\ttotal: 875ms\tremaining: 8.84ms\n",
      "99:\tlearn: 1.0000000\ttotal: 883ms\tremaining: 0us\n",
      "0:\tlearn: 0.9600000\ttotal: 11ms\tremaining: 1.09s\n",
      "1:\tlearn: 0.9709091\ttotal: 23.8ms\tremaining: 1.17s\n",
      "2:\tlearn: 0.9763636\ttotal: 33.2ms\tremaining: 1.07s\n",
      "3:\tlearn: 0.9781818\ttotal: 44ms\tremaining: 1.05s\n",
      "4:\tlearn: 0.9800000\ttotal: 54.1ms\tremaining: 1.03s\n",
      "5:\tlearn: 0.9836364\ttotal: 64.5ms\tremaining: 1.01s\n",
      "6:\tlearn: 0.9890909\ttotal: 74.3ms\tremaining: 987ms\n",
      "7:\tlearn: 0.9872727\ttotal: 82.9ms\tremaining: 953ms\n",
      "8:\tlearn: 0.9890909\ttotal: 92.6ms\tremaining: 936ms\n",
      "9:\tlearn: 0.9890909\ttotal: 101ms\tremaining: 913ms\n",
      "10:\tlearn: 0.9909091\ttotal: 112ms\tremaining: 902ms\n",
      "11:\tlearn: 0.9890909\ttotal: 121ms\tremaining: 889ms\n",
      "12:\tlearn: 0.9945455\ttotal: 131ms\tremaining: 875ms\n",
      "13:\tlearn: 0.9927273\ttotal: 141ms\tremaining: 865ms\n",
      "14:\tlearn: 0.9927273\ttotal: 150ms\tremaining: 851ms\n",
      "15:\tlearn: 0.9927273\ttotal: 160ms\tremaining: 841ms\n",
      "16:\tlearn: 0.9927273\ttotal: 170ms\tremaining: 829ms\n",
      "17:\tlearn: 0.9927273\ttotal: 179ms\tremaining: 817ms\n",
      "18:\tlearn: 0.9945455\ttotal: 189ms\tremaining: 805ms\n",
      "19:\tlearn: 0.9945455\ttotal: 199ms\tremaining: 795ms\n",
      "20:\tlearn: 0.9945455\ttotal: 215ms\tremaining: 809ms\n",
      "21:\tlearn: 0.9945455\ttotal: 225ms\tremaining: 797ms\n",
      "22:\tlearn: 0.9945455\ttotal: 234ms\tremaining: 785ms\n",
      "23:\tlearn: 0.9963636\ttotal: 244ms\tremaining: 773ms\n",
      "24:\tlearn: 0.9963636\ttotal: 253ms\tremaining: 759ms\n",
      "25:\tlearn: 0.9981818\ttotal: 262ms\tremaining: 745ms\n",
      "26:\tlearn: 0.9981818\ttotal: 270ms\tremaining: 730ms\n",
      "27:\tlearn: 0.9981818\ttotal: 279ms\tremaining: 717ms\n",
      "28:\tlearn: 0.9981818\ttotal: 287ms\tremaining: 702ms\n",
      "29:\tlearn: 0.9981818\ttotal: 296ms\tremaining: 691ms\n",
      "30:\tlearn: 0.9981818\ttotal: 305ms\tremaining: 680ms\n",
      "31:\tlearn: 0.9981818\ttotal: 314ms\tremaining: 668ms\n",
      "32:\tlearn: 0.9981818\ttotal: 325ms\tremaining: 659ms\n",
      "33:\tlearn: 1.0000000\ttotal: 333ms\tremaining: 646ms\n",
      "34:\tlearn: 1.0000000\ttotal: 341ms\tremaining: 634ms\n",
      "35:\tlearn: 1.0000000\ttotal: 349ms\tremaining: 621ms\n",
      "36:\tlearn: 1.0000000\ttotal: 358ms\tremaining: 610ms\n",
      "37:\tlearn: 1.0000000\ttotal: 367ms\tremaining: 599ms\n",
      "38:\tlearn: 1.0000000\ttotal: 375ms\tremaining: 586ms\n",
      "39:\tlearn: 1.0000000\ttotal: 383ms\tremaining: 575ms\n",
      "40:\tlearn: 1.0000000\ttotal: 392ms\tremaining: 564ms\n",
      "41:\tlearn: 1.0000000\ttotal: 400ms\tremaining: 553ms\n",
      "42:\tlearn: 1.0000000\ttotal: 408ms\tremaining: 541ms\n",
      "43:\tlearn: 1.0000000\ttotal: 417ms\tremaining: 531ms\n",
      "44:\tlearn: 1.0000000\ttotal: 428ms\tremaining: 523ms\n",
      "45:\tlearn: 1.0000000\ttotal: 436ms\tremaining: 512ms\n",
      "46:\tlearn: 1.0000000\ttotal: 445ms\tremaining: 502ms\n",
      "47:\tlearn: 1.0000000\ttotal: 454ms\tremaining: 492ms\n",
      "48:\tlearn: 1.0000000\ttotal: 462ms\tremaining: 481ms\n",
      "49:\tlearn: 1.0000000\ttotal: 471ms\tremaining: 471ms\n",
      "50:\tlearn: 1.0000000\ttotal: 479ms\tremaining: 460ms\n",
      "51:\tlearn: 1.0000000\ttotal: 488ms\tremaining: 450ms\n",
      "52:\tlearn: 1.0000000\ttotal: 497ms\tremaining: 441ms\n",
      "53:\tlearn: 1.0000000\ttotal: 508ms\tremaining: 432ms\n",
      "54:\tlearn: 1.0000000\ttotal: 517ms\tremaining: 423ms\n",
      "55:\tlearn: 1.0000000\ttotal: 526ms\tremaining: 414ms\n",
      "56:\tlearn: 1.0000000\ttotal: 535ms\tremaining: 403ms\n",
      "57:\tlearn: 1.0000000\ttotal: 543ms\tremaining: 393ms\n",
      "58:\tlearn: 1.0000000\ttotal: 552ms\tremaining: 383ms\n",
      "59:\tlearn: 1.0000000\ttotal: 562ms\tremaining: 375ms\n",
      "60:\tlearn: 1.0000000\ttotal: 571ms\tremaining: 365ms\n",
      "61:\tlearn: 1.0000000\ttotal: 581ms\tremaining: 356ms\n",
      "62:\tlearn: 1.0000000\ttotal: 591ms\tremaining: 347ms\n",
      "63:\tlearn: 1.0000000\ttotal: 600ms\tremaining: 337ms\n",
      "64:\tlearn: 1.0000000\ttotal: 609ms\tremaining: 328ms\n",
      "65:\tlearn: 1.0000000\ttotal: 624ms\tremaining: 322ms\n",
      "66:\tlearn: 1.0000000\ttotal: 634ms\tremaining: 312ms\n",
      "67:\tlearn: 1.0000000\ttotal: 645ms\tremaining: 303ms\n",
      "68:\tlearn: 1.0000000\ttotal: 654ms\tremaining: 294ms\n",
      "69:\tlearn: 1.0000000\ttotal: 663ms\tremaining: 284ms\n",
      "70:\tlearn: 1.0000000\ttotal: 670ms\tremaining: 274ms\n",
      "71:\tlearn: 1.0000000\ttotal: 678ms\tremaining: 264ms\n",
      "72:\tlearn: 1.0000000\ttotal: 687ms\tremaining: 254ms\n",
      "73:\tlearn: 1.0000000\ttotal: 696ms\tremaining: 244ms\n",
      "74:\tlearn: 1.0000000\ttotal: 706ms\tremaining: 235ms\n",
      "75:\tlearn: 1.0000000\ttotal: 714ms\tremaining: 226ms\n",
      "76:\tlearn: 1.0000000\ttotal: 722ms\tremaining: 216ms\n",
      "77:\tlearn: 1.0000000\ttotal: 731ms\tremaining: 206ms\n",
      "78:\tlearn: 1.0000000\ttotal: 742ms\tremaining: 197ms\n",
      "79:\tlearn: 1.0000000\ttotal: 750ms\tremaining: 188ms\n",
      "80:\tlearn: 1.0000000\ttotal: 759ms\tremaining: 178ms\n",
      "81:\tlearn: 1.0000000\ttotal: 768ms\tremaining: 169ms\n",
      "82:\tlearn: 1.0000000\ttotal: 776ms\tremaining: 159ms\n",
      "83:\tlearn: 1.0000000\ttotal: 784ms\tremaining: 149ms\n",
      "84:\tlearn: 1.0000000\ttotal: 794ms\tremaining: 140ms\n",
      "85:\tlearn: 1.0000000\ttotal: 802ms\tremaining: 131ms\n",
      "86:\tlearn: 1.0000000\ttotal: 812ms\tremaining: 121ms\n",
      "87:\tlearn: 1.0000000\ttotal: 820ms\tremaining: 112ms\n",
      "88:\tlearn: 1.0000000\ttotal: 830ms\tremaining: 103ms\n",
      "89:\tlearn: 1.0000000\ttotal: 839ms\tremaining: 93.2ms\n",
      "90:\tlearn: 1.0000000\ttotal: 848ms\tremaining: 83.8ms\n",
      "91:\tlearn: 1.0000000\ttotal: 857ms\tremaining: 74.5ms\n",
      "92:\tlearn: 1.0000000\ttotal: 865ms\tremaining: 65.1ms\n",
      "93:\tlearn: 1.0000000\ttotal: 873ms\tremaining: 55.7ms\n",
      "94:\tlearn: 1.0000000\ttotal: 881ms\tremaining: 46.4ms\n",
      "95:\tlearn: 1.0000000\ttotal: 889ms\tremaining: 37ms\n",
      "96:\tlearn: 1.0000000\ttotal: 897ms\tremaining: 27.7ms\n",
      "97:\tlearn: 1.0000000\ttotal: 905ms\tremaining: 18.5ms\n",
      "98:\tlearn: 1.0000000\ttotal: 914ms\tremaining: 9.23ms\n",
      "99:\tlearn: 1.0000000\ttotal: 923ms\tremaining: 0us\n",
      "0:\tlearn: 0.9600000\ttotal: 9.72ms\tremaining: 963ms\n",
      "1:\tlearn: 0.9690909\ttotal: 17.5ms\tremaining: 857ms\n",
      "2:\tlearn: 0.9745455\ttotal: 25.8ms\tremaining: 833ms\n",
      "3:\tlearn: 0.9854545\ttotal: 33.8ms\tremaining: 812ms\n",
      "4:\tlearn: 0.9872727\ttotal: 43.7ms\tremaining: 830ms\n",
      "5:\tlearn: 0.9909091\ttotal: 53ms\tremaining: 830ms\n",
      "6:\tlearn: 0.9909091\ttotal: 62.9ms\tremaining: 835ms\n",
      "7:\tlearn: 0.9927273\ttotal: 70.9ms\tremaining: 815ms\n",
      "8:\tlearn: 0.9927273\ttotal: 79.8ms\tremaining: 806ms\n",
      "9:\tlearn: 0.9927273\ttotal: 88.2ms\tremaining: 794ms\n",
      "10:\tlearn: 0.9927273\ttotal: 97ms\tremaining: 785ms\n",
      "11:\tlearn: 0.9945455\ttotal: 106ms\tremaining: 776ms\n",
      "12:\tlearn: 0.9945455\ttotal: 115ms\tremaining: 769ms\n",
      "13:\tlearn: 0.9963636\ttotal: 124ms\tremaining: 762ms\n",
      "14:\tlearn: 0.9963636\ttotal: 132ms\tremaining: 750ms\n",
      "15:\tlearn: 0.9963636\ttotal: 142ms\tremaining: 745ms\n",
      "16:\tlearn: 0.9981818\ttotal: 151ms\tremaining: 735ms\n",
      "17:\tlearn: 0.9981818\ttotal: 159ms\tremaining: 726ms\n",
      "18:\tlearn: 0.9981818\ttotal: 168ms\tremaining: 715ms\n",
      "19:\tlearn: 0.9963636\ttotal: 177ms\tremaining: 707ms\n",
      "20:\tlearn: 0.9963636\ttotal: 184ms\tremaining: 692ms\n",
      "21:\tlearn: 0.9963636\ttotal: 192ms\tremaining: 682ms\n",
      "22:\tlearn: 0.9981818\ttotal: 200ms\tremaining: 671ms\n",
      "23:\tlearn: 0.9981818\ttotal: 209ms\tremaining: 661ms\n",
      "24:\tlearn: 0.9981818\ttotal: 218ms\tremaining: 654ms\n",
      "25:\tlearn: 1.0000000\ttotal: 227ms\tremaining: 646ms\n",
      "26:\tlearn: 1.0000000\ttotal: 236ms\tremaining: 639ms\n",
      "27:\tlearn: 1.0000000\ttotal: 247ms\tremaining: 634ms\n",
      "28:\tlearn: 1.0000000\ttotal: 265ms\tremaining: 649ms\n",
      "29:\tlearn: 1.0000000\ttotal: 280ms\tremaining: 654ms\n",
      "30:\tlearn: 1.0000000\ttotal: 293ms\tremaining: 651ms\n",
      "31:\tlearn: 1.0000000\ttotal: 303ms\tremaining: 643ms\n",
      "32:\tlearn: 1.0000000\ttotal: 313ms\tremaining: 635ms\n",
      "33:\tlearn: 1.0000000\ttotal: 322ms\tremaining: 625ms\n",
      "34:\tlearn: 1.0000000\ttotal: 331ms\tremaining: 615ms\n",
      "35:\tlearn: 1.0000000\ttotal: 339ms\tremaining: 603ms\n",
      "36:\tlearn: 1.0000000\ttotal: 350ms\tremaining: 595ms\n",
      "37:\tlearn: 1.0000000\ttotal: 358ms\tremaining: 585ms\n",
      "38:\tlearn: 1.0000000\ttotal: 367ms\tremaining: 574ms\n",
      "39:\tlearn: 1.0000000\ttotal: 376ms\tremaining: 564ms\n",
      "40:\tlearn: 1.0000000\ttotal: 386ms\tremaining: 555ms\n",
      "41:\tlearn: 1.0000000\ttotal: 394ms\tremaining: 544ms\n",
      "42:\tlearn: 1.0000000\ttotal: 402ms\tremaining: 532ms\n",
      "43:\tlearn: 1.0000000\ttotal: 411ms\tremaining: 523ms\n",
      "44:\tlearn: 1.0000000\ttotal: 420ms\tremaining: 513ms\n",
      "45:\tlearn: 1.0000000\ttotal: 428ms\tremaining: 502ms\n",
      "46:\tlearn: 1.0000000\ttotal: 436ms\tremaining: 492ms\n",
      "47:\tlearn: 1.0000000\ttotal: 445ms\tremaining: 483ms\n",
      "48:\tlearn: 1.0000000\ttotal: 456ms\tremaining: 474ms\n",
      "49:\tlearn: 1.0000000\ttotal: 467ms\tremaining: 467ms\n",
      "50:\tlearn: 1.0000000\ttotal: 478ms\tremaining: 459ms\n",
      "51:\tlearn: 1.0000000\ttotal: 487ms\tremaining: 449ms\n",
      "52:\tlearn: 1.0000000\ttotal: 495ms\tremaining: 439ms\n",
      "53:\tlearn: 1.0000000\ttotal: 503ms\tremaining: 428ms\n",
      "54:\tlearn: 1.0000000\ttotal: 512ms\tremaining: 419ms\n",
      "55:\tlearn: 1.0000000\ttotal: 521ms\tremaining: 410ms\n",
      "56:\tlearn: 1.0000000\ttotal: 530ms\tremaining: 400ms\n",
      "57:\tlearn: 1.0000000\ttotal: 538ms\tremaining: 390ms\n",
      "58:\tlearn: 1.0000000\ttotal: 547ms\tremaining: 380ms\n",
      "59:\tlearn: 1.0000000\ttotal: 555ms\tremaining: 370ms\n",
      "60:\tlearn: 1.0000000\ttotal: 563ms\tremaining: 360ms\n",
      "61:\tlearn: 1.0000000\ttotal: 571ms\tremaining: 350ms\n",
      "62:\tlearn: 1.0000000\ttotal: 580ms\tremaining: 340ms\n",
      "63:\tlearn: 1.0000000\ttotal: 588ms\tremaining: 331ms\n",
      "64:\tlearn: 1.0000000\ttotal: 596ms\tremaining: 321ms\n",
      "65:\tlearn: 1.0000000\ttotal: 605ms\tremaining: 311ms\n",
      "66:\tlearn: 1.0000000\ttotal: 613ms\tremaining: 302ms\n",
      "67:\tlearn: 1.0000000\ttotal: 621ms\tremaining: 292ms\n",
      "68:\tlearn: 1.0000000\ttotal: 629ms\tremaining: 283ms\n",
      "69:\tlearn: 1.0000000\ttotal: 637ms\tremaining: 273ms\n",
      "70:\tlearn: 1.0000000\ttotal: 645ms\tremaining: 263ms\n",
      "71:\tlearn: 1.0000000\ttotal: 653ms\tremaining: 254ms\n",
      "72:\tlearn: 1.0000000\ttotal: 662ms\tremaining: 245ms\n",
      "73:\tlearn: 1.0000000\ttotal: 673ms\tremaining: 236ms\n",
      "74:\tlearn: 1.0000000\ttotal: 682ms\tremaining: 227ms\n",
      "75:\tlearn: 1.0000000\ttotal: 691ms\tremaining: 218ms\n",
      "76:\tlearn: 1.0000000\ttotal: 699ms\tremaining: 209ms\n",
      "77:\tlearn: 1.0000000\ttotal: 708ms\tremaining: 200ms\n",
      "78:\tlearn: 1.0000000\ttotal: 716ms\tremaining: 190ms\n",
      "79:\tlearn: 1.0000000\ttotal: 725ms\tremaining: 181ms\n",
      "80:\tlearn: 1.0000000\ttotal: 734ms\tremaining: 172ms\n",
      "81:\tlearn: 1.0000000\ttotal: 742ms\tremaining: 163ms\n",
      "82:\tlearn: 1.0000000\ttotal: 751ms\tremaining: 154ms\n",
      "83:\tlearn: 1.0000000\ttotal: 759ms\tremaining: 145ms\n",
      "84:\tlearn: 1.0000000\ttotal: 768ms\tremaining: 136ms\n",
      "85:\tlearn: 1.0000000\ttotal: 777ms\tremaining: 127ms\n",
      "86:\tlearn: 1.0000000\ttotal: 785ms\tremaining: 117ms\n",
      "87:\tlearn: 1.0000000\ttotal: 795ms\tremaining: 108ms\n",
      "88:\tlearn: 1.0000000\ttotal: 804ms\tremaining: 99.4ms\n",
      "89:\tlearn: 1.0000000\ttotal: 812ms\tremaining: 90.2ms\n",
      "90:\tlearn: 1.0000000\ttotal: 820ms\tremaining: 81.1ms\n",
      "91:\tlearn: 1.0000000\ttotal: 828ms\tremaining: 72ms\n",
      "92:\tlearn: 1.0000000\ttotal: 837ms\tremaining: 63ms\n",
      "93:\tlearn: 1.0000000\ttotal: 846ms\tremaining: 54ms\n",
      "94:\tlearn: 1.0000000\ttotal: 854ms\tremaining: 45ms\n",
      "95:\tlearn: 1.0000000\ttotal: 863ms\tremaining: 36ms\n",
      "96:\tlearn: 1.0000000\ttotal: 872ms\tremaining: 27ms\n",
      "97:\tlearn: 1.0000000\ttotal: 881ms\tremaining: 18ms\n",
      "98:\tlearn: 1.0000000\ttotal: 888ms\tremaining: 8.97ms\n",
      "99:\tlearn: 1.0000000\ttotal: 896ms\tremaining: 0us\n",
      "0:\tlearn: 0.9637024\ttotal: 9.72ms\tremaining: 962ms\n",
      "1:\tlearn: 0.9727768\ttotal: 17.9ms\tremaining: 877ms\n",
      "2:\tlearn: 0.9745917\ttotal: 25.8ms\tremaining: 835ms\n",
      "3:\tlearn: 0.9727768\ttotal: 33.6ms\tremaining: 806ms\n",
      "4:\tlearn: 0.9800363\ttotal: 41.4ms\tremaining: 787ms\n",
      "5:\tlearn: 0.9854809\ttotal: 49.2ms\tremaining: 771ms\n",
      "6:\tlearn: 0.9891107\ttotal: 57.4ms\tremaining: 762ms\n",
      "7:\tlearn: 0.9872958\ttotal: 66.4ms\tremaining: 763ms\n",
      "8:\tlearn: 0.9891107\ttotal: 74.4ms\tremaining: 752ms\n",
      "9:\tlearn: 0.9891107\ttotal: 82.4ms\tremaining: 741ms\n",
      "10:\tlearn: 0.9909256\ttotal: 91.1ms\tremaining: 737ms\n",
      "11:\tlearn: 0.9891107\ttotal: 99.1ms\tremaining: 727ms\n",
      "12:\tlearn: 0.9945554\ttotal: 108ms\tremaining: 720ms\n",
      "13:\tlearn: 0.9945554\ttotal: 116ms\tremaining: 710ms\n",
      "14:\tlearn: 0.9945554\ttotal: 125ms\tremaining: 709ms\n",
      "15:\tlearn: 0.9945554\ttotal: 134ms\tremaining: 706ms\n",
      "16:\tlearn: 0.9945554\ttotal: 144ms\tremaining: 701ms\n",
      "17:\tlearn: 0.9945554\ttotal: 152ms\tremaining: 692ms\n",
      "18:\tlearn: 0.9945554\ttotal: 161ms\tremaining: 684ms\n",
      "19:\tlearn: 0.9963702\ttotal: 170ms\tremaining: 678ms\n",
      "20:\tlearn: 0.9963702\ttotal: 178ms\tremaining: 670ms\n",
      "21:\tlearn: 0.9963702\ttotal: 187ms\tremaining: 661ms\n",
      "22:\tlearn: 0.9981851\ttotal: 195ms\tremaining: 653ms\n",
      "23:\tlearn: 0.9981851\ttotal: 203ms\tremaining: 644ms\n",
      "24:\tlearn: 0.9981851\ttotal: 211ms\tremaining: 633ms\n",
      "25:\tlearn: 0.9981851\ttotal: 221ms\tremaining: 628ms\n",
      "26:\tlearn: 0.9981851\ttotal: 229ms\tremaining: 618ms\n",
      "27:\tlearn: 0.9981851\ttotal: 237ms\tremaining: 610ms\n",
      "28:\tlearn: 0.9981851\ttotal: 246ms\tremaining: 602ms\n",
      "29:\tlearn: 0.9981851\ttotal: 253ms\tremaining: 591ms\n",
      "30:\tlearn: 1.0000000\ttotal: 262ms\tremaining: 583ms\n",
      "31:\tlearn: 1.0000000\ttotal: 270ms\tremaining: 574ms\n",
      "32:\tlearn: 1.0000000\ttotal: 279ms\tremaining: 566ms\n",
      "33:\tlearn: 1.0000000\ttotal: 287ms\tremaining: 556ms\n",
      "34:\tlearn: 1.0000000\ttotal: 295ms\tremaining: 548ms\n",
      "35:\tlearn: 1.0000000\ttotal: 303ms\tremaining: 540ms\n",
      "36:\tlearn: 1.0000000\ttotal: 311ms\tremaining: 530ms\n",
      "37:\tlearn: 1.0000000\ttotal: 319ms\tremaining: 521ms\n",
      "38:\tlearn: 1.0000000\ttotal: 328ms\tremaining: 513ms\n",
      "39:\tlearn: 1.0000000\ttotal: 336ms\tremaining: 505ms\n",
      "40:\tlearn: 1.0000000\ttotal: 344ms\tremaining: 495ms\n",
      "41:\tlearn: 1.0000000\ttotal: 352ms\tremaining: 486ms\n",
      "42:\tlearn: 1.0000000\ttotal: 360ms\tremaining: 477ms\n",
      "43:\tlearn: 1.0000000\ttotal: 368ms\tremaining: 469ms\n",
      "44:\tlearn: 1.0000000\ttotal: 377ms\tremaining: 460ms\n",
      "45:\tlearn: 1.0000000\ttotal: 385ms\tremaining: 452ms\n",
      "46:\tlearn: 1.0000000\ttotal: 393ms\tremaining: 443ms\n",
      "47:\tlearn: 1.0000000\ttotal: 402ms\tremaining: 436ms\n",
      "48:\tlearn: 1.0000000\ttotal: 412ms\tremaining: 428ms\n",
      "49:\tlearn: 1.0000000\ttotal: 421ms\tremaining: 421ms\n",
      "50:\tlearn: 1.0000000\ttotal: 433ms\tremaining: 416ms\n",
      "51:\tlearn: 1.0000000\ttotal: 443ms\tremaining: 409ms\n",
      "52:\tlearn: 1.0000000\ttotal: 452ms\tremaining: 401ms\n",
      "53:\tlearn: 1.0000000\ttotal: 462ms\tremaining: 393ms\n",
      "54:\tlearn: 1.0000000\ttotal: 470ms\tremaining: 384ms\n",
      "55:\tlearn: 1.0000000\ttotal: 479ms\tremaining: 376ms\n",
      "56:\tlearn: 1.0000000\ttotal: 487ms\tremaining: 367ms\n",
      "57:\tlearn: 1.0000000\ttotal: 495ms\tremaining: 358ms\n",
      "58:\tlearn: 1.0000000\ttotal: 503ms\tremaining: 350ms\n",
      "59:\tlearn: 1.0000000\ttotal: 512ms\tremaining: 341ms\n",
      "60:\tlearn: 1.0000000\ttotal: 520ms\tremaining: 332ms\n",
      "61:\tlearn: 1.0000000\ttotal: 531ms\tremaining: 326ms\n",
      "62:\tlearn: 1.0000000\ttotal: 541ms\tremaining: 318ms\n",
      "63:\tlearn: 1.0000000\ttotal: 548ms\tremaining: 308ms\n",
      "64:\tlearn: 1.0000000\ttotal: 556ms\tremaining: 300ms\n",
      "65:\tlearn: 1.0000000\ttotal: 564ms\tremaining: 291ms\n",
      "66:\tlearn: 1.0000000\ttotal: 573ms\tremaining: 282ms\n",
      "67:\tlearn: 1.0000000\ttotal: 581ms\tremaining: 273ms\n",
      "68:\tlearn: 1.0000000\ttotal: 590ms\tremaining: 265ms\n",
      "69:\tlearn: 1.0000000\ttotal: 598ms\tremaining: 256ms\n",
      "70:\tlearn: 1.0000000\ttotal: 607ms\tremaining: 248ms\n",
      "71:\tlearn: 1.0000000\ttotal: 616ms\tremaining: 240ms\n",
      "72:\tlearn: 1.0000000\ttotal: 624ms\tremaining: 231ms\n",
      "73:\tlearn: 1.0000000\ttotal: 633ms\tremaining: 222ms\n",
      "74:\tlearn: 1.0000000\ttotal: 641ms\tremaining: 214ms\n",
      "75:\tlearn: 1.0000000\ttotal: 650ms\tremaining: 205ms\n",
      "76:\tlearn: 1.0000000\ttotal: 658ms\tremaining: 197ms\n",
      "77:\tlearn: 1.0000000\ttotal: 666ms\tremaining: 188ms\n",
      "78:\tlearn: 1.0000000\ttotal: 675ms\tremaining: 179ms\n",
      "79:\tlearn: 1.0000000\ttotal: 683ms\tremaining: 171ms\n",
      "80:\tlearn: 1.0000000\ttotal: 691ms\tremaining: 162ms\n",
      "81:\tlearn: 1.0000000\ttotal: 699ms\tremaining: 153ms\n",
      "82:\tlearn: 1.0000000\ttotal: 707ms\tremaining: 145ms\n",
      "83:\tlearn: 1.0000000\ttotal: 715ms\tremaining: 136ms\n",
      "84:\tlearn: 1.0000000\ttotal: 724ms\tremaining: 128ms\n",
      "85:\tlearn: 1.0000000\ttotal: 733ms\tremaining: 119ms\n",
      "86:\tlearn: 1.0000000\ttotal: 743ms\tremaining: 111ms\n",
      "87:\tlearn: 1.0000000\ttotal: 752ms\tremaining: 103ms\n",
      "88:\tlearn: 1.0000000\ttotal: 762ms\tremaining: 94.2ms\n",
      "89:\tlearn: 1.0000000\ttotal: 771ms\tremaining: 85.7ms\n",
      "90:\tlearn: 1.0000000\ttotal: 779ms\tremaining: 77ms\n",
      "91:\tlearn: 1.0000000\ttotal: 789ms\tremaining: 68.6ms\n",
      "92:\tlearn: 1.0000000\ttotal: 797ms\tremaining: 60ms\n",
      "93:\tlearn: 1.0000000\ttotal: 804ms\tremaining: 51.3ms\n",
      "94:\tlearn: 1.0000000\ttotal: 812ms\tremaining: 42.7ms\n",
      "95:\tlearn: 1.0000000\ttotal: 820ms\tremaining: 34.2ms\n",
      "96:\tlearn: 1.0000000\ttotal: 829ms\tremaining: 25.6ms\n",
      "97:\tlearn: 1.0000000\ttotal: 838ms\tremaining: 17.1ms\n",
      "98:\tlearn: 1.0000000\ttotal: 846ms\tremaining: 8.54ms\n",
      "99:\tlearn: 1.0000000\ttotal: 854ms\tremaining: 0us\n",
      "Acurácia Média: 97.16%\n"
     ]
    }
   ],
   "source": [
    "# Criando o modelo\n",
    "modelo = CatBoostClassifier(task_type='CPU', iterations=100, learning_rate=0.1, depth = 8, random_state = 5,\n",
    "                              eval_metric=\"Accuracy\")\n",
    "resultado = cross_val_score(modelo, previsores, alvo, cv = kfold)\n",
    "\n",
    "# Usamos a média e o desvio padrão\n",
    "print(\"Acurácia Média: %.2f%%\" % (resultado.mean() * 100.0))"
   ]
  },
  {
   "cell_type": "markdown",
   "metadata": {
    "id": "gco4qH1qUChe"
   },
   "source": [
    "CatBoost = 97.08% (treino e teste) - e 97.16% (validação cruzada) - CatBoostClassifier(task_type='CPU', iterations=100, learning_rate=0.1, depth = 8, random_state = 5, eval_metric=\"Accuracy\") - previsores_catboost, alvo_catboost\n",
    "\n",
    "**Melhores CatBoost:\n",
    "CatBoost = 97.08% (treino e teste) - e 97.16% (validação cruzada) - CatBoostClassifier(task_type='CPU', iterations=100, learning_rate=0.1, depth = 8, random_state = 5, eval_metric=\"Accuracy\") - previsores_catboost, alvo_catboost**"
   ]
  },
  {
   "cell_type": "markdown",
   "metadata": {
    "id": "-SI78UagmLD7"
   },
   "source": [
    "# **Salvando dados para Deploy**"
   ]
  },
  {
   "cell_type": "code",
   "execution_count": null,
   "metadata": {
    "colab": {
     "base_uri": "https://localhost:8080/"
    },
    "executionInfo": {
     "elapsed": 216,
     "status": "ok",
     "timestamp": 1665100404870,
     "user": {
      "displayName": "Luciano Galdino",
      "userId": "10237697037323960148"
     },
     "user_tz": 180
    },
    "id": "LNMNKr4TmLD8",
    "outputId": "368c8f12-37c6-4ba4-e997-b3a82799470d"
   },
   "outputs": [],
   "source": [
    "previsores"
   ]
  },
  {
   "cell_type": "code",
   "execution_count": null,
   "metadata": {
    "colab": {
     "base_uri": "https://localhost:8080/"
    },
    "executionInfo": {
     "elapsed": 223,
     "status": "ok",
     "timestamp": 1665100406554,
     "user": {
      "displayName": "Luciano Galdino",
      "userId": "10237697037323960148"
     },
     "user_tz": 180
    },
    "id": "isSCWsMPDdw6",
    "outputId": "b9ac256b-4261-44f0-f745-c1639629c375"
   },
   "outputs": [],
   "source": [
    "alvo"
   ]
  },
  {
   "cell_type": "code",
   "execution_count": null,
   "metadata": {
    "id": "XUYRtI5VDBXF"
   },
   "outputs": [],
   "source": [
    "np.savetxt('../output/previsores.csv', previsores, delimiter=',')"
   ]
  },
  {
   "cell_type": "code",
   "execution_count": null,
   "metadata": {
    "id": "dd7lbPU3DQFO"
   },
   "outputs": [],
   "source": [
    "np.savetxt('../output/alvo.csv', alvo, delimiter=',')"
   ]
  },
  {
   "cell_type": "markdown",
   "metadata": {
    "id": "Q6LoOxMow4Ci"
   },
   "source": [
    "# **CONCLUSÃO DO DESAFIO 1**"
   ]
  },
  {
   "cell_type": "markdown",
   "metadata": {
    "id": "bjLFumRQxayX"
   },
   "source": [
    "DESENVOLVER E SELECIONAR O MELHOR ALGORITMO DE MACHINE LEARNING DE CLASSIFICAÇÃO PARA O DATASET DO LINK A SEGUIR:"
   ]
  },
  {
   "cell_type": "markdown",
   "metadata": {
    "id": "VG8xV9wYxKk2"
   },
   "source": [
    "https://www.kaggle.com/uciml/breast-cancer-wisconsin-data"
   ]
  },
  {
   "cell_type": "markdown",
   "metadata": {},
   "source": [
    "**Melhor Metodo:**\n",
    "**-1º-** Regressão logística = 97.66% (treino e teste) - e 98.06%% (validação cruzada com previsores escalonados) com previsores escalonados\n",
    "**-2ª-** SVM com 97.66% (treino e teste) - e 97.88% (validação cruzada) com previsores escalonados\n",
    "**-3º-** LightGBM = 97.08% (treino e teste)- e 96.12% (validação cruzada) - lgb.LGBMClassifier(num_leaves = 250, objective = 'binary',  max_depth = 2, learning_rate = .05, max_bin =100) - com previsores escalonados\n",
    "**-4ª-** CatBoost = 97.08% (treino e teste) - e 97.16% (validação cruzada) - CatBoostClassifier(task_type='CPU', iterations=100, learning_rate=0.1, depth = 8, random_state = 5, eval_metric=\"Accuracy\") - com previsores gerados pelo catboos\n",
    "\n",
    "**Melhores Naive Bayes:**\n",
    "Naive Bayes = 92.40% (treino e teste) - e 93.82% (validação cruzada) - previsores, alvo\n",
    "Naive Bayes = 92.40% (treino e teste) - e 93.82% (validação cruzada) - previsores_labelencoder, alvo\n",
    "Naive Bayes = 92.40% (treino e teste) - e 93.82% (validação cruzada) - previsores, alvo_labelencoder_ordinal\n",
    "Naive Bayes = 92.40% (treino e teste) - e 93.82% (validação cruzada) - previsores_labelencoder, alvo_labelencoder_ordinal\n",
    "\n",
    "**Melhores SVM:**\n",
    "SVM = 97.66% (treino e teste) - e 97.88% (validação cruzada)- SVC(kernel='rbf', random_state=1, C = 2) - previsores_esc, alvo\n",
    "SVM = 97.66% (treino e teste) - e 97.88% (validação cruzada)- SVC(kernel='rbf', random_state=1, C = 2) - previsores_labelencoder_esc, alvo\n",
    "SVM = 97.66% (treino e teste) - e 97.88% (validação cruzada)- SVC(kernel='rbf', random_state=1, C = 2) - previsores_esc, alvo_labelencoder_ordinal\n",
    "SVM = 97.66% (treino e teste) - e 97.88% (validação cruzada)- SVC(kernel='rbf', random_state=1, C = 2) - previsores_labelencoder_esc, alvo_labelencoder_ordinal\n",
    "\n",
    "**Melhores Regressão Logística:**\n",
    "Regressão logística = 97.66% (treino e teste) - e 98.06%% (validação cruzada com previsores_esc) - LogisticRegression(random_state=1, max_iter=2000, penalty=\"l2\", tol=0.0001, C=1,solver=\"lbfgs\") - previsores_esc, alvo\n",
    "Regressão logística = 97.66% (treino e teste) - e 98.06% (validação cruzada com previsores_esc) - LogisticRegression(random_state=1, max_iter=2000, penalty=\"l2\", tol=0.0001, C=1,solver=\"lbfgs\") - previsores_labelencoder_esc, alvo\n",
    "Regressão logística = 97.66% (treino e teste) - e 98.06% (validação cruzada com previsores_labelencoder_esc) - LogisticRegression(random_state=1, max_iter=2000, penalty=\"l2\", tol=0.0001, C=1,solver=\"lbfgs\") - previsores_esc, alvo_labelencoder_ordinal\n",
    "Regressão logística = 97.66% (treino e teste) - e 98.06% (validação cruzada cruzada com previsores_labelencoder_esc) - LogisticRegression(random_state=1, max_iter=600, penalty=\"l2\", tol=0.0001, C=1,solver=\"lbfgs\") - previsores_labelencoder_esc, alvo_labelencoder_ordinal\n",
    "\n",
    "**Melhores KNN:**\n",
    "KNN = 96.49% (treino e teste) - e 93.13% (validação cruzada)- KNeighborsClassifier(n_neighbors=7, metric='minkowski', p = 1) - previsores, alvo\n",
    "KNN = 96.49% (treino e teste) - e 93.13% (validação cruzada)- KNeighborsClassifier(n_neighbors=7, metric='minkowski', p = 1) - previsores_labelencoder, alvo\n",
    "KNN = 96.49% (treino e teste) - e 93.13% (validação cruzada)- KNeighborsClassifier(n_neighbors=7, metric='minkowski', p = 1) - previsores, alvo_labelencoder_ordinal\n",
    "KNN = 96.49% (treino e teste) - e 93.13% (validação cruzada)- KNeighborsClassifier(n_neighbors=7, metric='minkowski', p = 1) - previsores_labelencoder, alvo_labelencoder_ordinal**\n",
    "\n",
    "**Melhores Árvore de decisão:**\n",
    "Árvore de decisão = 95.32% (treino e teste) - e 92.44% (validação cruzada) - DecisionTreeClassifier(criterion='entropy', random_state = 0, max_depth=3) - previsores, alvo\n",
    "Árvore de decisão = 95.32% (treino e teste) - e 92.44% (validação cruzada) - DecisionTreeClassifier(criterion='entropy', random_state = 0, max_depth=3) - previsores_esc, alvo\n",
    "Árvore de decisão = 95.32% (treino e teste) - e 92.44% (validação cruzada) - DecisionTreeClassifier(criterion='entropy', random_state = 0, max_depth=3) - previsores_labelencoder, alvo\n",
    "Árvore de decisão = 95.32% (treino e teste) - e 92.44% (validação cruzada) - DecisionTreeClassifier(criterion='entropy', random_state = 0, max_depth=3) -previsores_labelencoder_esc, alvo\n",
    "Árvore de decisão = 95.32% (treino e teste) - e 92.44% (validação cruzada) - DecisionTreeClassifier(criterion='entropy', random_state = 0, max_depth=3) - previsores, alvo_labelencoder_ordinal\n",
    "Árvore de decisão = 95.32% (treino e teste) - e 92.44% (validação cruzada) - DecisionTreeClassifier(criterion='entropy', random_state = 0, max_depth=3) - previsores_esc, alvo_labelencoder_ordinal\n",
    "Árvore de decisão = 95.32% (treino e teste) - e 92.44% (validação cruzada) - DecisionTreeClassifier(criterion='entropy', random_state = 0, max_depth=3) - previsores_labelencoder, alvo_labelencoder_ordinal\n",
    "Árvore de decisão = 95.32% (treino e teste) - e 92.44% (validação cruzada) - DecisionTreeClassifier(criterion='entropy', random_state = 0, max_depth=3) - previsores_labelencoder_esc, alvo_labelencoder_ordinal\n",
    "\n",
    "**Melhores Random Forest:**\n",
    "Random Forest = 96.49% (treino e teste)- e 95.76% (validação cruzada) - RandomForestClassifier(n_estimators=150, criterion='entropy', random_state = 0, max_depth=4) - previsores, alvo\n",
    "Random Forest = 96.49% (treino e teste) - e 95.76% (validação cruzada) - RandomForestClassifier(n_estimators=150, criterion='entropy', random_state = 0, max_depth=4) - previsores_esc, alvo\n",
    "Random Forest = 96.49% (treino e teste) - e 95.76% (validação cruzada) - RandomForestClassifier(n_estimators=150, criterion='entropy', random_state = 0, max_depth=4) - previsores_labelencoder, alvo\n",
    "Random Forest = 96.49% (treino e teste) - e 95.76% (validação cruzada) - RandomForestClassifier(n_estimators=150, criterion='entropy', random_state = 0, max_depth=4) -previsores_labelencoder_esc, alvo\n",
    "Random Forest = 96.49% - e 95.76% (validação cruzada) - RandomForestClassifier(n_estimators=150, criterion='entropy', random_state = 0, max_depth=4) (treino e teste) - previsores, alvo_labelencoder_ordinal\n",
    "Random Forest = 96.49% - e 95.76% (validação cruzada) - RandomForestClassifier(n_estimators=150, criterion='entropy', random_state = 0, max_depth=4) (treino e teste) - previsores_esc, alvo_labelencoder_ordinal\n",
    "Random Forest = 96.49% - e 95.76% (validação cruzada) - RandomForestClassifier(n_estimators=150, criterion='entropy', random_state = 0, max_depth=4) (treino e teste) - previsores_labelencoder, alvo_labelencoder_ordinal\n",
    "Random Forest = 96.49% - e 95.76% (validação cruzada) - RandomForestClassifier(n_estimators=150, criterion='entropy', random_state = 0, max_depth=4) (treino e teste) - previsores_labelencoder_esc, alvo_labelencoder_ordinal\n",
    "\n",
    "**Melhores XGboost: Porem todos acertaram 100% no conjunto de teste, podendo ter a ocrrencia de overfitting**\n",
    "XGboost = 96.49% - e 96.29% (validação cruzada) - XGBClassifier(max_depth=2, learning_rate=0.05, n_estimators=250, objective='binary:logistic', random_state=3) - previsores, alvo\n",
    "XGboost = 96.49% - e 96.29% (validação cruzada) - XGBClassifier(max_depth=2, learning_rate=0.05, n_estimators=250, objective='binary:logistic', random_state=3) - previsores_esc, alvo\n",
    "XGboost = 96.49% - e 96.29% (validação cruzada) - XGBClassifier(max_depth=2, learning_rate=0.05, n_estimators=250, objective='binary:logistic', random_state=3) - previsores_labelencoder, alvo\n",
    "XGboost = 96.49% - e 96.29% (validação cruzada) - XGBClassifier(max_depth=2, learning_rate=0.05, n_estimators=250, objective='binary:logistic', random_state=3) - previsores_labelencoder_esc, alvo\n",
    "XGboost = 96.49% - e 96.29% (validação cruzada) - XGBClassifier(max_depth=2, learning_rate=0.05, n_estimators=250, objective='binary:logistic', random_state=3) - previsores, alvo_labelencoder_ordinal\n",
    "XGboost = 96.49% - e 96.29% (validação cruzada) - XGBClassifier(max_depth=2, learning_rate=0.05, n_estimators=250, objective='binary:logistic', random_state=3) - previsores_esc, alvo_labelencoder_ordinal\n",
    "XGboost = 96.49% - e 96.29% (validação cruzada) - XGBClassifier(max_depth=2, learning_rate=0.05, n_estimators=250, objective='binary:logistic', random_state=3) - previsores_labelencoder, alvo_labelencoder_ordinal\n",
    "XGboost = 96.49% - e 96.29% (validação cruzada) - XGBClassifier(max_depth=2, learning_rate=0.05, n_estimators=250, objective='binary:logistic', random_state=3) - previsores_labelencoder_esc, alvo_labelencoder_ordinal\n",
    "\n",
    "**Melhores LightGBM:**\n",
    "LightGBM = 97.08% (treino e teste)- e 96.12% (validação cruzada) - lgb.LGBMClassifier(num_leaves = 250, objective = 'binary',  max_depth = 2, learning_rate = .05, max_bin =100) - previsores_esc, alvo\n",
    "LightGBM = 97.08% (treino e teste)- e 85,93% (validação cruzada) - lgb.LGBMClassifier(num_leaves = 250, objective = 'binary',  max_depth = 2, learning_rate = .05, max_bin =100) - previsores_labelencoder_esc, alvo\n",
    "LightGBM = 97.08% (treino e teste)- e 96.12% (validação cruzada) - lgb.LGBMClassifier(num_leaves = 250, objective = 'binary',  max_depth = 2, learning_rate = .05, max_bin =100) - previsores_esc, alvo_labelencoder_ordinal\n",
    "LightGBM = 97.08% (treino e teste)- e 96.12% (validação cruzada) - lgb.LGBMClassifier(num_leaves = 250, objective = 'binary',  max_depth = 2, learning_rate = .05, max_bin =100) - previsores_labelencoder_esc, alvo_labelencoder_ordinal\n",
    "\n",
    "**Melhores CatBoost:**\n",
    "CatBoost = 97.08% (treino e teste) - e 97.16% (validação cruzada) - CatBoostClassifier(task_type='CPU', iterations=100, learning_rate=0.1, depth = 8, random_state = 5, eval_metric=\"Accuracy\") - previsores_catboost, alvo_catboost"
   ]
  }
 ],
 "metadata": {
  "colab": {
   "authorship_tag": "ABX9TyMe0YJwv9m9c/gj/ziSMDB1",
   "mount_file_id": "1r7SQZXDD61Fh4sxth3Z6C6Ny3LgNte-i",
   "provenance": []
  },
  "kernelspec": {
   "display_name": "Python 3 (ipykernel)",
   "language": "python",
   "name": "python3"
  },
  "language_info": {
   "codemirror_mode": {
    "name": "ipython",
    "version": 3
   },
   "file_extension": ".py",
   "mimetype": "text/x-python",
   "name": "python",
   "nbconvert_exporter": "python",
   "pygments_lexer": "ipython3",
   "version": "3.11.7"
  }
 },
 "nbformat": 4,
 "nbformat_minor": 4
}
