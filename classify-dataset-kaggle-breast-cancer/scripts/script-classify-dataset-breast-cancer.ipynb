{
 "cells": [
  {
   "cell_type": "markdown",
   "metadata": {
    "id": "fQJ5CYV9Te0X"
   },
   "source": [
    "# **DESAFIO 01 - APRENDIZAGEM SUPERVISIONADA: CLASSIFICAÇÃO DO DATASET CÂNCER DE MAMA DO REPOSITORIO KAGGLE**"
   ]
  },
  {
   "cell_type": "markdown",
   "metadata": {
    "id": "kXFCCsVHTtTP"
   },
   "source": [
    "Este projeto tem como objetivo desenvolver um modelo de Machine Learning para prever a probabilidade de um tumor mamário ser benigno ou maligno. A análise será conduzida com base em características extraídas de imagens digitalizadas de biópsias por aspiração com agulha fina (FNA) de massas mamárias. Utilizando o conjunto de dados do Breast Cancer Wisconsin (Diagnostic), empregaremos diversas técnicas de classificação para examinar variáveis clínicas e laboratoriais — incluindo raio, textura, perímetro, área, suavidade, compactação, concavidade e pontos concavos das células nucleares — com o intuito de construir um modelo preditivo robusto.\n",
    "\n",
    "Para determinar a técnica mais eficaz, realizaremos uma comparação sistemática dos seguintes métodos, utilizando suas configurações padrão, para identificar aquele que oferece a melhor performance:\n",
    "\n",
    "    Naive Bayes\n",
    "    Máquinas de Vetores de Suporte (SVM)\n",
    "    Regressão Logística\n",
    "    Aprendizagem Baseada em Instâncias (KNN)\n",
    "    Árvore de Decisão\n",
    "    Random Forest\n",
    "    XGBoost\n",
    "    LightGBM\n",
    "    CatBoost\n",
    "\n",
    "Cada método será avaliado com base na sua precisão, recall, F1-score, e outras métricas relevantes, permitindo-nos selecionar o algoritmo mais adequado para nosso modelo preditivo."
   ]
  },
  {
   "cell_type": "markdown",
   "metadata": {
    "id": "5ZQ2nYhQUc3G"
   },
   "source": [
    "Os dados foram extraídos do site do Kaggle:\n",
    "\n",
    "https://www.kaggle.com/datasets/uciml/breast-cancer-wisconsin-data"
   ]
  },
  {
   "cell_type": "markdown",
   "metadata": {},
   "source": [
    "# **EXPLORAÇÃO, ANÁLISE E TRATAMENTO DOS DADOS: PROJETO PREVISÃO DE CÂNCER DE MAMA**"
   ]
  },
  {
   "cell_type": "markdown",
   "metadata": {},
   "source": [
    "## **Exploração dos Dados**"
   ]
  },
  {
   "cell_type": "code",
   "execution_count": null,
   "metadata": {},
   "outputs": [],
   "source": [
    "import numpy as np\n",
    "import pandas as pd"
   ]
  },
  {
   "cell_type": "code",
   "execution_count": null,
   "metadata": {},
   "outputs": [],
   "source": [
    "dados = pd.read_csv('../database/data_cancer2.csv',\n",
    "                    sep=',', encoding='utf-8')"
   ]
  },
  {
   "cell_type": "code",
   "execution_count": null,
   "metadata": {},
   "outputs": [],
   "source": [
    "dados.head()"
   ]
  },
  {
   "cell_type": "code",
   "execution_count": null,
   "metadata": {},
   "outputs": [],
   "source": [
    "dados.tail()"
   ]
  },
  {
   "cell_type": "code",
   "execution_count": null,
   "metadata": {},
   "outputs": [],
   "source": [
    "dados.shape"
   ]
  },
  {
   "cell_type": "markdown",
   "metadata": {},
   "source": [
    "## **Análise das Variáveis (Atributos)**"
   ]
  },
  {
   "cell_type": "markdown",
   "metadata": {},
   "source": [
    "## **Análise dos tipos de atributos.**"
   ]
  },
  {
   "cell_type": "code",
   "execution_count": null,
   "metadata": {},
   "outputs": [],
   "source": [
    "dados.dtypes"
   ]
  },
  {
   "cell_type": "markdown",
   "metadata": {},
   "source": [
    "Após a análise inicial do DataFrame, identificamos duas colunas dispensáveis: a coluna ‘id’, que é redundante para nossa análise, e a coluna ‘Unnamed: 32’, que parece ser um artefato sem relevância gerado durante a importação dos dados. Ambas serão removidas para otimizar nosso conjunto de dados."
   ]
  },
  {
   "cell_type": "code",
   "execution_count": null,
   "metadata": {},
   "outputs": [],
   "source": [
    "dados_relevante = pd.DataFrame.copy(dados)"
   ]
  },
  {
   "cell_type": "code",
   "execution_count": null,
   "metadata": {},
   "outputs": [],
   "source": [
    "dados_relevante.drop(dados.columns[0], axis=1, inplace=True)"
   ]
  },
  {
   "cell_type": "code",
   "execution_count": null,
   "metadata": {},
   "outputs": [],
   "source": [
    "dados_relevante.drop(dados.columns[-1], axis=1, inplace=True)"
   ]
  },
  {
   "cell_type": "markdown",
   "metadata": {},
   "source": [
    "## **Valores Missing (NAN)**"
   ]
  },
  {
   "cell_type": "code",
   "execution_count": null,
   "metadata": {},
   "outputs": [],
   "source": [
    "dados_relevante.isnull().sum()"
   ]
  },
  {
   "cell_type": "markdown",
   "metadata": {},
   "source": [
    "## **Análises Estatísticas Descritivas**"
   ]
  },
  {
   "cell_type": "code",
   "execution_count": null,
   "metadata": {},
   "outputs": [],
   "source": [
    "dados_relevante.describe()"
   ]
  },
  {
   "cell_type": "code",
   "execution_count": null,
   "metadata": {},
   "outputs": [],
   "source": [
    "dados_relevante.mode()"
   ]
  },
  {
   "cell_type": "markdown",
   "metadata": {},
   "source": [
    "## **Salvando (Exportando) o Dataframe Tratado**"
   ]
  },
  {
   "cell_type": "code",
   "execution_count": null,
   "metadata": {},
   "outputs": [],
   "source": [
    "dados_relevante.to_csv('../database/data_cancer2_tratado.csv', sep=',', encoding='utf-8', index = False)"
   ]
  },
  {
   "cell_type": "markdown",
   "metadata": {
    "id": "gczjMn0YIb6s"
   },
   "source": [
    "# **PRÉ-PROCESSAMENTO**"
   ]
  },
  {
   "cell_type": "code",
   "execution_count": null,
   "metadata": {
    "executionInfo": {
     "elapsed": 3,
     "status": "ok",
     "timestamp": 1689263486766,
     "user": {
      "displayName": "Luciano Galdino",
      "userId": "10237697037323960148"
     },
     "user_tz": 180
    },
    "id": "nWvIcticlCs2"
   },
   "outputs": [],
   "source": [
    "import numpy as np\n",
    "import pandas as pd"
   ]
  },
  {
   "cell_type": "code",
   "execution_count": null,
   "metadata": {
    "executionInfo": {
     "elapsed": 78,
     "status": "ok",
     "timestamp": 1689263487785,
     "user": {
      "displayName": "Luciano Galdino",
      "userId": "10237697037323960148"
     },
     "user_tz": 180
    },
    "id": "LRIrwcC8kUhT"
   },
   "outputs": [],
   "source": [
    "df_original = pd.read_csv('../database/data_cancer2_tratado.csv',\n",
    "                    sep=',', encoding='utf-8')"
   ]
  },
  {
   "cell_type": "code",
   "execution_count": null,
   "metadata": {
    "colab": {
     "base_uri": "https://localhost:8080/",
     "height": 0
    },
    "executionInfo": {
     "elapsed": 77,
     "status": "ok",
     "timestamp": 1689263487786,
     "user": {
      "displayName": "Luciano Galdino",
      "userId": "10237697037323960148"
     },
     "user_tz": 180
    },
    "id": "QtugliripIyp",
    "outputId": "bc5ce496-7bce-45a9-c16d-4b917236b3ec"
   },
   "outputs": [],
   "source": [
    "df_original.head()"
   ]
  },
  {
   "cell_type": "code",
   "execution_count": null,
   "metadata": {
    "colab": {
     "base_uri": "https://localhost:8080/"
    },
    "executionInfo": {
     "elapsed": 74,
     "status": "ok",
     "timestamp": 1689263487787,
     "user": {
      "displayName": "Luciano Galdino",
      "userId": "10237697037323960148"
     },
     "user_tz": 180
    },
    "id": "NSH5-od1gRAU",
    "outputId": "bb1e364d-266c-45dd-f173-02c0f3ea8e2b"
   },
   "outputs": [],
   "source": [
    "df_original.shape"
   ]
  },
  {
   "cell_type": "code",
   "execution_count": null,
   "metadata": {
    "colab": {
     "base_uri": "https://localhost:8080/"
    },
    "executionInfo": {
     "elapsed": 72,
     "status": "ok",
     "timestamp": 1689263487788,
     "user": {
      "displayName": "Luciano Galdino",
      "userId": "10237697037323960148"
     },
     "user_tz": 180
    },
    "id": "4B4dlBwKvN_A",
    "outputId": "ccd91da7-ae14-4e0c-aaae-f706e0988508"
   },
   "outputs": [],
   "source": [
    "df_original.dtypes"
   ]
  },
  {
   "cell_type": "markdown",
   "metadata": {
    "id": "a-DfpMtio-sq"
   },
   "source": [
    "## **Transformando as variáveis categóricas nominais em variáveis categóricas ordinais**"
   ]
  },
  {
   "cell_type": "code",
   "execution_count": null,
   "metadata": {
    "executionInfo": {
     "elapsed": 71,
     "status": "ok",
     "timestamp": 1689263487789,
     "user": {
      "displayName": "Luciano Galdino",
      "userId": "10237697037323960148"
     },
     "user_tz": 180
    },
    "id": "JntPfMmptEhg"
   },
   "outputs": [],
   "source": [
    "df_ordinal = pd.DataFrame.copy(df_original)"
   ]
  },
  {
   "cell_type": "code",
   "execution_count": null,
   "metadata": {
    "executionInfo": {
     "elapsed": 71,
     "status": "ok",
     "timestamp": 1689263487790,
     "user": {
      "displayName": "Luciano Galdino",
      "userId": "10237697037323960148"
     },
     "user_tz": 180
    },
    "id": "KUxPnNEhrsjL"
   },
   "outputs": [],
   "source": [
    "df_ordinal['diagnosis'].replace({'M':1, 'B': 0}, inplace=True)"
   ]
  },
  {
   "cell_type": "code",
   "execution_count": null,
   "metadata": {
    "colab": {
     "base_uri": "https://localhost:8080/",
     "height": 0
    },
    "executionInfo": {
     "elapsed": 71,
     "status": "ok",
     "timestamp": 1689263487791,
     "user": {
      "displayName": "Luciano Galdino",
      "userId": "10237697037323960148"
     },
     "user_tz": 180
    },
    "id": "1aTDlfUZpfJi",
    "outputId": "2a0ec0ae-3a61-404d-d938-fa98c7ac0200"
   },
   "outputs": [],
   "source": [
    "df_ordinal.head()"
   ]
  },
  {
   "cell_type": "code",
   "execution_count": null,
   "metadata": {
    "colab": {
     "base_uri": "https://localhost:8080/"
    },
    "executionInfo": {
     "elapsed": 69,
     "status": "ok",
     "timestamp": 1689263487792,
     "user": {
      "displayName": "Luciano Galdino",
      "userId": "10237697037323960148"
     },
     "user_tz": 180
    },
    "id": "6kC-deH0giws",
    "outputId": "f633efe8-5844-4a7b-9609-15b1af6cca9b"
   },
   "outputs": [],
   "source": [
    "df_ordinal.dtypes"
   ]
  },
  {
   "cell_type": "code",
   "execution_count": null,
   "metadata": {
    "colab": {
     "base_uri": "https://localhost:8080/"
    },
    "executionInfo": {
     "elapsed": 67,
     "status": "ok",
     "timestamp": 1689263487793,
     "user": {
      "displayName": "Luciano Galdino",
      "userId": "10237697037323960148"
     },
     "user_tz": 180
    },
    "id": "e3oELnDctqsq",
    "outputId": "ec89dc09-5cbe-4de4-b7f6-3dea18dff475"
   },
   "outputs": [],
   "source": [
    "df_ordinal.shape"
   ]
  },
  {
   "cell_type": "markdown",
   "metadata": {
    "id": "khuvnjo8ta5k"
   },
   "source": [
    "## **LEGENDA**"
   ]
  },
  {
   "cell_type": "markdown",
   "metadata": {
    "id": "9Kz8O68wpsY3"
   },
   "source": [
    "Atributos:\n",
    "\n",
    "- **id**: Um número inteiro que serve como identificador único para cada amostra.\n",
    "- **diagnosis**: Uma string que representa o diagnóstico, onde 1 (‘M’) indica maligno e 0 (‘B’) indica benigno.\n",
    "- **radius_mean**: Um número real que representa a média dos raios dos núcleos celulares.\n",
    "- **texture_mean**: Um número real que representa a média do desvio padrão dos valores de escala de cinza.\n",
    "- **perimeter_mean**: Um número real que representa a média dos perímetros dos núcleos celulares.\n",
    "- **area_mean**: Um número real que representa a média das áreas dos núcleos celulares.\n",
    "- **smoothness_mean**: Um número real que representa a média da variação local nos comprimentos dos raios dos núcleos celulares.\n",
    "- **compactness_mean**: Um número real que representa a média da compacidade dos núcleos celulares, calculada como $$\\text{perímetro}^2/\\text{área} - 1.0$$.\n",
    "- **concavity_mean**: Um número real que representa a média da gravidade das porções côncavas do contorno dos núcleos celulares.\n",
    "- **concave points_mean**: Um número real que representa a média do número de porções côncavas do contorno dos núcleos celulares.\n",
    "- **symmetry_mean**: Um número real que representa a média da simetria dos núcleos celulares.\n",
    "- **fractal_dimension_mean**: Um número real que representa a média da “aproximação da linha costeira - 1” dos núcleos celulares.\n",
    "- **radius_se**: Um número real que representa o erro padrão dos raios dos núcleos celulares.\n",
    "- **texture_se**: Um número real que representa o erro padrão do desvio padrão dos valores de escala de cinza.\n",
    "- **perimeter_se**: Um número real que representa o erro padrão dos perímetros dos núcleos celulares.\n",
    "- **area_se**: Um número real que representa o erro padrão das áreas dos núcleos celulares.\n",
    "- **smoothness_se**: Um número real que representa o erro padrão da variação local nos comprimentos dos raios dos núcleos celulares.\n",
    "- **compactness_se**: Um número real que representa o erro padrão da compacidade dos núcleos celulares.\n",
    "- **concavity_se**: Um número real que representa o erro padrão da gravidade das porções côncavas do contorno dos núcleos celulares.\n",
    "- **concave points_se**: Um número real que representa o erro padrão do número de porções côncavas do contorno dos núcleos celulares.\n",
    "- **symmetry_se**: Um número real que representa o erro padrão da simetria dos núcleos celulares.\n",
    "- **fractal_dimension_se**: Um número real que representa o erro padrão da “aproximação da linha costeira - 1” dos núcleos celulares.\n",
    "- **radius_worst**: Um número real que representa o maior valor médio dos raios dos núcleos celulares.\n",
    "- **texture_worst**: Um número real que representa o maior valor médio do desvio padrão dos valores de escala de cinza.\n",
    "- **perimeter_worst**: Um número real que representa o maior valor médio dos perímetros dos núcleos celulares.\n",
    "- **area_worst**: Um número real que representa o maior valor médio das áreas dos núcleos celulares.\n",
    "- **smoothness_worst**: Um número real que representa o maior valor médio da variação local nos comprimentos dos raios dos núcleos celulares.\n",
    "- **compactness_worst**: Um número real que representa o maior valor médio da compacidade dos núcleos celulares.\n",
    "- **concavity_worst**: Um número real que representa o maior valor médio da gravidade das porções côncavas do contorno dos núcleos celulares.\n",
    "- **concave points_worst**: Um número real que representa o maior valor médio do número de porções côncavas do contorno dos núcleos celulares.\n",
    "- **symmetry_worst**: Um número real que representa o maior valor médio da simetria dos núcleos celulares.\n",
    "- **fractal_dimension_worst**: Um número real que representa o maior valor médio da “aproximação da linha costeira - 1” dos núcleos celulares."
   ]
  },
  {
   "cell_type": "markdown",
   "metadata": {
    "id": "_NBxZCLzC8Bl"
   },
   "source": [
    "## **ATRIBUTOS PREVISORES E ALVO**"
   ]
  },
  {
   "cell_type": "code",
   "execution_count": null,
   "metadata": {
    "colab": {
     "base_uri": "https://localhost:8080/",
     "height": 0
    },
    "executionInfo": {
     "elapsed": 66,
     "status": "ok",
     "timestamp": 1689263487794,
     "user": {
      "displayName": "Luciano Galdino",
      "userId": "10237697037323960148"
     },
     "user_tz": 180
    },
    "id": "eLzWunR78ozP",
    "outputId": "d7dd5d94-abe4-439a-a7ba-c5bebd28b143"
   },
   "outputs": [],
   "source": [
    "df_ordinal.head()"
   ]
  },
  {
   "cell_type": "code",
   "execution_count": null,
   "metadata": {
    "executionInfo": {
     "elapsed": 65,
     "status": "ok",
     "timestamp": 1689263487795,
     "user": {
      "displayName": "Luciano Galdino",
      "userId": "10237697037323960148"
     },
     "user_tz": 180
    },
    "id": "alp9Gsx8z6f3"
   },
   "outputs": [],
   "source": [
    "previsores = df_ordinal.iloc[:, 1:32].values\n"
   ]
  },
  {
   "cell_type": "code",
   "execution_count": null,
   "metadata": {
    "colab": {
     "base_uri": "https://localhost:8080/"
    },
    "executionInfo": {
     "elapsed": 66,
     "status": "ok",
     "timestamp": 1689263487797,
     "user": {
      "displayName": "Luciano Galdino",
      "userId": "10237697037323960148"
     },
     "user_tz": 180
    },
    "id": "ZJjs6cWq-9Bn",
    "outputId": "cb79db7d-fbe8-4b29-efe8-f50820576a62"
   },
   "outputs": [],
   "source": [
    "previsores"
   ]
  },
  {
   "cell_type": "code",
   "execution_count": null,
   "metadata": {
    "colab": {
     "base_uri": "https://localhost:8080/"
    },
    "executionInfo": {
     "elapsed": 64,
     "status": "ok",
     "timestamp": 1689263487797,
     "user": {
      "displayName": "Luciano Galdino",
      "userId": "10237697037323960148"
     },
     "user_tz": 180
    },
    "id": "KrtsyKXXAxTL",
    "outputId": "409d0a66-7d23-4462-f88c-f351ae71557b"
   },
   "outputs": [],
   "source": [
    "previsores.shape"
   ]
  },
  {
   "cell_type": "code",
   "execution_count": null,
   "metadata": {
    "executionInfo": {
     "elapsed": 64,
     "status": "ok",
     "timestamp": 1689263487799,
     "user": {
      "displayName": "Luciano Galdino",
      "userId": "10237697037323960148"
     },
     "user_tz": 180
    },
    "id": "wdXWRjHMBAFo"
   },
   "outputs": [],
   "source": [
    "alvo = df_ordinal.iloc[:, 0].values"
   ]
  },
  {
   "cell_type": "code",
   "execution_count": null,
   "metadata": {
    "colab": {
     "base_uri": "https://localhost:8080/"
    },
    "executionInfo": {
     "elapsed": 64,
     "status": "ok",
     "timestamp": 1689263487800,
     "user": {
      "displayName": "Luciano Galdino",
      "userId": "10237697037323960148"
     },
     "user_tz": 180
    },
    "id": "wK163BWgBJg2",
    "outputId": "273ed284-7c25-4967-c3f4-f8db261dc236"
   },
   "outputs": [],
   "source": [
    "alvo"
   ]
  },
  {
   "cell_type": "code",
   "execution_count": null,
   "metadata": {
    "colab": {
     "base_uri": "https://localhost:8080/"
    },
    "executionInfo": {
     "elapsed": 61,
     "status": "ok",
     "timestamp": 1689263487800,
     "user": {
      "displayName": "Luciano Galdino",
      "userId": "10237697037323960148"
     },
     "user_tz": 180
    },
    "id": "RoSOdYF3BaOf",
    "outputId": "da128653-d73b-44f7-94c7-1b9431450a7e"
   },
   "outputs": [],
   "source": [
    "alvo.shape"
   ]
  },
  {
   "cell_type": "markdown",
   "metadata": {
    "id": "Xw6d4rM0C9ZD"
   },
   "source": [
    "## **Análise das escalas dos atributos (Escalonamento)**"
   ]
  },
  {
   "cell_type": "code",
   "execution_count": null,
   "metadata": {
    "colab": {
     "base_uri": "https://localhost:8080/",
     "height": 0
    },
    "executionInfo": {
     "elapsed": 60,
     "status": "ok",
     "timestamp": 1689263487801,
     "user": {
      "displayName": "Luciano Galdino",
      "userId": "10237697037323960148"
     },
     "user_tz": 180
    },
    "id": "JzYfrEIxDHIL",
    "outputId": "7a93609b-df0c-4ce2-851f-e3f866dedaad"
   },
   "outputs": [],
   "source": [
    "df_ordinal.describe()"
   ]
  },
  {
   "cell_type": "markdown",
   "metadata": {
    "id": "XcSAxyqTD4dw"
   },
   "source": [
    "Padronização (utiliza a média e o desvio padrão como referência).\n",
    "\n",
    "Normalização (utiliza os valores máximo e mínimo como referência)."
   ]
  },
  {
   "cell_type": "code",
   "execution_count": null,
   "metadata": {
    "executionInfo": {
     "elapsed": 942,
     "status": "ok",
     "timestamp": 1689263488692,
     "user": {
      "displayName": "Luciano Galdino",
      "userId": "10237697037323960148"
     },
     "user_tz": 180
    },
    "id": "eMoVJG5kEJSG"
   },
   "outputs": [],
   "source": [
    "from sklearn.preprocessing import StandardScaler"
   ]
  },
  {
   "cell_type": "code",
   "execution_count": null,
   "metadata": {
    "executionInfo": {
     "elapsed": 21,
     "status": "ok",
     "timestamp": 1689263488693,
     "user": {
      "displayName": "Luciano Galdino",
      "userId": "10237697037323960148"
     },
     "user_tz": 180
    },
    "id": "0DpkgD9REQ7m"
   },
   "outputs": [],
   "source": [
    "previsores_esc = StandardScaler().fit_transform(previsores)"
   ]
  },
  {
   "cell_type": "code",
   "execution_count": null,
   "metadata": {
    "colab": {
     "base_uri": "https://localhost:8080/"
    },
    "executionInfo": {
     "elapsed": 22,
     "status": "ok",
     "timestamp": 1689263488695,
     "user": {
      "displayName": "Luciano Galdino",
      "userId": "10237697037323960148"
     },
     "user_tz": 180
    },
    "id": "qmoQSiWMEr0k",
    "outputId": "5310f0c1-1aa5-4ae6-fb5f-0a2b0575558f"
   },
   "outputs": [],
   "source": [
    "previsores_esc"
   ]
  },
  {
   "cell_type": "code",
   "execution_count": null,
   "metadata": {
    "colab": {
     "base_uri": "https://localhost:8080/",
     "height": 0
    },
    "executionInfo": {
     "elapsed": 22,
     "status": "ok",
     "timestamp": 1689263488696,
     "user": {
      "displayName": "Luciano Galdino",
      "userId": "10237697037323960148"
     },
     "user_tz": 180
    },
    "id": "aFabOc6kFLMu",
    "outputId": "3b7c40d2-cd59-4936-be6e-befee9e1ce7a"
   },
   "outputs": [],
   "source": [
    "previsores_esc_df = pd.DataFrame(previsores_esc)\n",
    "previsores_esc_df"
   ]
  },
  {
   "cell_type": "code",
   "execution_count": null,
   "metadata": {
    "colab": {
     "base_uri": "https://localhost:8080/",
     "height": 0
    },
    "executionInfo": {
     "elapsed": 20,
     "status": "ok",
     "timestamp": 1689263488696,
     "user": {
      "displayName": "Luciano Galdino",
      "userId": "10237697037323960148"
     },
     "user_tz": 180
    },
    "id": "cXVXsyAtFWSo",
    "outputId": "3ed3c1f4-b31d-482f-ac32-80558f9325a7"
   },
   "outputs": [],
   "source": [
    "previsores_esc_df.describe()"
   ]
  },
  {
   "cell_type": "markdown",
   "metadata": {
    "id": "HU3ZNfuI0BaL"
   },
   "source": [
    "## **Codificação de variáveis categóricas**"
   ]
  },
  {
   "cell_type": "markdown",
   "metadata": {
    "id": "lPObOxwx0Qy5"
   },
   "source": [
    "### **LabelEncoder: transformação de variáveis categóricas em numéricas**\n"
   ]
  },
  {
   "cell_type": "code",
   "execution_count": null,
   "metadata": {},
   "outputs": [],
   "source": [
    "from sklearn.preprocessing import LabelEncoder"
   ]
  },
  {
   "cell_type": "code",
   "execution_count": null,
   "metadata": {
    "colab": {
     "base_uri": "https://localhost:8080/",
     "height": 0
    },
    "executionInfo": {
     "elapsed": 19,
     "status": "ok",
     "timestamp": 1689263488697,
     "user": {
      "displayName": "Luciano Galdino",
      "userId": "10237697037323960148"
     },
     "user_tz": 180
    },
    "id": "oJc1Q36h1Ls_",
    "outputId": "8511d5f9-8f5f-4c71-9eee-de3d5982d49f"
   },
   "outputs": [],
   "source": [
    "df_original.head()"
   ]
  },
  {
   "cell_type": "code",
   "execution_count": null,
   "metadata": {
    "colab": {
     "base_uri": "https://localhost:8080/"
    },
    "executionInfo": {
     "elapsed": 19,
     "status": "ok",
     "timestamp": 1689263488698,
     "user": {
      "displayName": "Luciano Galdino",
      "userId": "10237697037323960148"
     },
     "user_tz": 180
    },
    "id": "0VFq4NJ_181-",
    "outputId": "4a111be4-0ebd-452e-a04e-3856b10102b5"
   },
   "outputs": [],
   "source": [
    "previsores_labelencoder = df_original.iloc[:, 1:32].values\n",
    "previsores_labelencoder"
   ]
  },
  {
   "cell_type": "code",
   "execution_count": null,
   "metadata": {},
   "outputs": [],
   "source": [
    "previsores_labelencoder.shape"
   ]
  },
  {
   "cell_type": "code",
   "execution_count": null,
   "metadata": {},
   "outputs": [],
   "source": [
    "alvo_labelencoder = df_original.iloc[:, 0].values\n",
    "alvo_labelencoder"
   ]
  },
  {
   "cell_type": "code",
   "execution_count": null,
   "metadata": {
    "executionInfo": {
     "elapsed": 19,
     "status": "ok",
     "timestamp": 1689263488699,
     "user": {
      "displayName": "Luciano Galdino",
      "userId": "10237697037323960148"
     },
     "user_tz": 180
    },
    "id": "36oIQ8I10nin"
   },
   "outputs": [],
   "source": [
    "alvo_labelencoder_ordinal = LabelEncoder().fit_transform(alvo_labelencoder)\n",
    "alvo_labelencoder_ordinal"
   ]
  },
  {
   "cell_type": "code",
   "execution_count": null,
   "metadata": {},
   "outputs": [],
   "source": [
    "alvo_labelencoder_ordinal.shape"
   ]
  },
  {
   "cell_type": "markdown",
   "metadata": {
    "id": "YWlyb9T-Fk1I"
   },
   "source": [
    "## **Escalonamento**"
   ]
  },
  {
   "cell_type": "code",
   "execution_count": null,
   "metadata": {
    "executionInfo": {
     "elapsed": 41,
     "status": "ok",
     "timestamp": 1689263489177,
     "user": {
      "displayName": "Luciano Galdino",
      "userId": "10237697037323960148"
     },
     "user_tz": 180
    },
    "id": "x4jzommSFk1L"
   },
   "outputs": [],
   "source": [
    "from sklearn.preprocessing import StandardScaler"
   ]
  },
  {
   "cell_type": "code",
   "execution_count": null,
   "metadata": {
    "executionInfo": {
     "elapsed": 42,
     "status": "ok",
     "timestamp": 1689263489178,
     "user": {
      "displayName": "Luciano Galdino",
      "userId": "10237697037323960148"
     },
     "user_tz": 180
    },
    "id": "nvLu4mtDFk1L"
   },
   "outputs": [],
   "source": [
    "previsores_labelencoder_esc = StandardScaler().fit_transform(previsores_labelencoder)"
   ]
  },
  {
   "cell_type": "code",
   "execution_count": null,
   "metadata": {
    "colab": {
     "base_uri": "https://localhost:8080/"
    },
    "executionInfo": {
     "elapsed": 465,
     "status": "ok",
     "timestamp": 1689263489601,
     "user": {
      "displayName": "Luciano Galdino",
      "userId": "10237697037323960148"
     },
     "user_tz": 180
    },
    "id": "eFTA8spkFk1M",
    "outputId": "a8605f8d-1da6-4555-a906-a1e048890094"
   },
   "outputs": [],
   "source": [
    "previsores_labelencoder_esc"
   ]
  },
  {
   "cell_type": "code",
   "execution_count": null,
   "metadata": {
    "colab": {
     "base_uri": "https://localhost:8080/",
     "height": 0
    },
    "executionInfo": {
     "elapsed": 10,
     "status": "ok",
     "timestamp": 1689263489601,
     "user": {
      "displayName": "Luciano Galdino",
      "userId": "10237697037323960148"
     },
     "user_tz": 180
    },
    "id": "w6JQStnqFk1M",
    "outputId": "649331d8-8f89-4c76-d4c5-f7d2bc6103d0"
   },
   "outputs": [],
   "source": [
    "previsores_labelencoder_esc_df = pd.DataFrame(previsores_labelencoder_esc)\n",
    "previsores_labelencoder_esc_df"
   ]
  },
  {
   "cell_type": "code",
   "execution_count": null,
   "metadata": {
    "colab": {
     "base_uri": "https://localhost:8080/",
     "height": 0
    },
    "executionInfo": {
     "elapsed": 10,
     "status": "ok",
     "timestamp": 1689263489602,
     "user": {
      "displayName": "Luciano Galdino",
      "userId": "10237697037323960148"
     },
     "user_tz": 180
    },
    "id": "e-dcMRS-Fk1N",
    "outputId": "91056deb-e93c-4305-bd9d-d67f2b030981"
   },
   "outputs": [],
   "source": [
    "previsores_labelencoder_esc_df.describe()"
   ]
  },
  {
   "cell_type": "markdown",
   "metadata": {
    "id": "kW700Sj9Fk1O"
   },
   "source": [
    "## **RESUMO PRÉ-PROCESSAMENTO**"
   ]
  },
  {
   "cell_type": "markdown",
   "metadata": {
    "id": "k-L1kFumG1pO"
   },
   "source": [
    "- **Variáveis do Conjunto de Dados:**\n",
    "\n",
    "    - **Alvo (Target):** Variável dependente que indica a presença ou ausência de doença cardíaca, com 'M' para maligno e 'B' para benigno.\n",
    "    - **Alvos com LabelEncoder:** Utiliza LabelEncoder para converter variáveis categóricas em numéricas sem alterar a escala.\n",
    "    - **Alvos com OneHotEncoder:** Aplica LabelEncoder e OneHotEncoder para criar representações binárias das categorias sem introduzir hierarquia.\n",
    "    - **Previsores:** Variáveis preditoras transformadas de categóricas para numéricas manualmente, sem normalização ou escalonamento.\n",
    "    - **Previsores com LabelEncoder:** Converte variáveis categóricas em numéricas usando LabelEncoder sem alterar a escala.\n",
    "    - **Previsores Escalonados:** Variáveis preditoras categóricas são convertidas para numéricas e escalonadas para um intervalo uniforme.\n",
    "    - **Previsores com LabelEncoder (Scaled Predictors LabelEncoder):** Usa LabelEncoder para converter variáveis categóricas em numéricas e escalonar os dados.\n",
    "\n",
    "- **Características dos Núcleos Celulares:**\n",
    "    - **Raio:** Média das distâncias do centro aos pontos do perímetro.\n",
    "    - **Textura:** Desvio padrão dos valores da escala de cinza.\n",
    "    - **Perímetro, Área, Suavidade:** Medem a forma e a textura da célula.\n",
    "    - **Compacidade:** Calculada como ...\n"
   ]
  },
  {
   "cell_type": "markdown",
   "metadata": {
    "id": "w-W634n0I_Db"
   },
   "source": [
    "## **BASE DE TREINO E TESTE**"
   ]
  },
  {
   "cell_type": "code",
   "execution_count": null,
   "metadata": {
    "executionInfo": {
     "elapsed": 22,
     "status": "ok",
     "timestamp": 1689263490853,
     "user": {
      "displayName": "Luciano Galdino",
      "userId": "10237697037323960148"
     },
     "user_tz": 180
    },
    "id": "UmjBvEubFG72"
   },
   "outputs": [],
   "source": [
    "from sklearn.model_selection import train_test_split"
   ]
  },
  {
   "cell_type": "markdown",
   "metadata": {
    "id": "cB1szLDSyfzA"
   },
   "source": [
    "Parâmetros train_test_split:   \n",
    "- arrays: nomes dos atributos previsores e alvo.   \n",
    "- test_size: tamanho em porcentagem dos dados de teste. default é none.   \n",
    "- train_size: tamanho em porcentagem dos dados de treinamento.default é none.  \n",
    "- random_state: nomeação de um estado aleatório.   \n",
    "- shuffle: embaralhamento dos dados aleatórios. Associado com o random_state ocorre o mesmo embaralhamento sempre. Default é True.  \n",
    "- stratify: Possibilidade de dividir os dados de forma estratificada. Default é None (nesse caso é mantido a proporção, isto é, se tem 30% de zeros e 70% de 1 no dataframe, na separação em treinamento e teste se manterá essa proporção)."
   ]
  },
  {
   "cell_type": "code",
   "execution_count": null,
   "metadata": {
    "executionInfo": {
     "elapsed": 22,
     "status": "ok",
     "timestamp": 1689263490854,
     "user": {
      "displayName": "Luciano Galdino",
      "userId": "10237697037323960148"
     },
     "user_tz": 180
    },
    "id": "JFn1OrYtF0m9"
   },
   "outputs": [],
   "source": [
    "x_treino, x_teste, y_treino, y_teste = train_test_split(previsores, alvo, test_size = 0.3, random_state = 0)"
   ]
  },
  {
   "cell_type": "code",
   "execution_count": null,
   "metadata": {
    "colab": {
     "base_uri": "https://localhost:8080/"
    },
    "executionInfo": {
     "elapsed": 22,
     "status": "ok",
     "timestamp": 1689263490854,
     "user": {
      "displayName": "Luciano Galdino",
      "userId": "10237697037323960148"
     },
     "user_tz": 180
    },
    "id": "Xza9uNMgJFD8",
    "outputId": "d834aa82-25cf-46df-b785-190204a4ccb4"
   },
   "outputs": [],
   "source": [
    "x_treino.shape"
   ]
  },
  {
   "cell_type": "code",
   "execution_count": null,
   "metadata": {
    "colab": {
     "base_uri": "https://localhost:8080/"
    },
    "executionInfo": {
     "elapsed": 21,
     "status": "ok",
     "timestamp": 1689263490854,
     "user": {
      "displayName": "Luciano Galdino",
      "userId": "10237697037323960148"
     },
     "user_tz": 180
    },
    "id": "gM74hUlEJNOZ",
    "outputId": "af39def4-474b-45b9-af79-294ab9af123e"
   },
   "outputs": [],
   "source": [
    "x_teste.shape"
   ]
  },
  {
   "cell_type": "code",
   "execution_count": null,
   "metadata": {
    "colab": {
     "base_uri": "https://localhost:8080/"
    },
    "executionInfo": {
     "elapsed": 21,
     "status": "ok",
     "timestamp": 1689263490855,
     "user": {
      "displayName": "Luciano Galdino",
      "userId": "10237697037323960148"
     },
     "user_tz": 180
    },
    "id": "lGzLxpISJeWG",
    "outputId": "7975d218-6130-4d38-df1b-3c1f5724fb33"
   },
   "outputs": [],
   "source": [
    "y_treino.shape"
   ]
  },
  {
   "cell_type": "code",
   "execution_count": null,
   "metadata": {
    "colab": {
     "base_uri": "https://localhost:8080/"
    },
    "executionInfo": {
     "elapsed": 21,
     "status": "ok",
     "timestamp": 1689263490855,
     "user": {
      "displayName": "Luciano Galdino",
      "userId": "10237697037323960148"
     },
     "user_tz": 180
    },
    "id": "ZUojufPlJnhy",
    "outputId": "210f7d9b-9627-48d2-a21d-dbdb6b330222"
   },
   "outputs": [],
   "source": [
    "y_teste.shape"
   ]
  },
  {
   "cell_type": "markdown",
   "metadata": {},
   "source": [
    "- **Alvos:**\n",
    "- **1-:** alvo\n",
    "- **2-:** alvo_labelencoder_ordinal\n",
    "- \n",
    "- **Testes:**\n",
    "- **1-** previsores\n",
    "- **2-** previsores_esc\n",
    "- **3-** previsores_labelencoder\n",
    "- **4-** previsores_labelencoder_esc"
   ]
  },
  {
   "cell_type": "markdown",
   "metadata": {
    "id": "f6u542_aEj6B"
   },
   "source": [
    "# **NAIVE BAYES**"
   ]
  },
  {
   "cell_type": "markdown",
   "metadata": {
    "id": "2tnCKM7kcfQl"
   },
   "source": [
    "https://scikit-learn.org/stable/modules/naive_bayes.html"
   ]
  },
  {
   "cell_type": "markdown",
   "metadata": {
    "id": "-GK8qvcgzWGQ"
   },
   "source": [
    "Treinamento do algoritmo"
   ]
  },
  {
   "cell_type": "code",
   "execution_count": null,
   "metadata": {
    "id": "YhAnMs4TJRoa"
   },
   "outputs": [],
   "source": [
    "from sklearn.naive_bayes import GaussianNB"
   ]
  },
  {
   "cell_type": "code",
   "execution_count": null,
   "metadata": {
    "id": "ak0_M56CJheq"
   },
   "outputs": [],
   "source": [
    "naive = GaussianNB()\n",
    "naive.fit(x_treino, y_treino)"
   ]
  },
  {
   "cell_type": "markdown",
   "metadata": {
    "id": "neBugc1HzbL_"
   },
   "source": [
    "Avaliação do algoritmo"
   ]
  },
  {
   "cell_type": "code",
   "execution_count": null,
   "metadata": {
    "id": "ac4kuVBsJ85p"
   },
   "outputs": [],
   "source": [
    "previsoes_naive = naive.predict(x_teste)\n",
    "previsoes_naive"
   ]
  },
  {
   "cell_type": "code",
   "execution_count": null,
   "metadata": {
    "id": "aBPvzhRUKLoZ"
   },
   "outputs": [],
   "source": [
    "y_teste"
   ]
  },
  {
   "cell_type": "code",
   "execution_count": null,
   "metadata": {
    "id": "OEXPFIiVKUl_"
   },
   "outputs": [],
   "source": [
    "from sklearn.metrics import accuracy_score, confusion_matrix, classification_report"
   ]
  },
  {
   "cell_type": "code",
   "execution_count": null,
   "metadata": {
    "id": "hojdvgEgKYjg"
   },
   "outputs": [],
   "source": [
    "accuracy_score(y_teste, previsoes_naive)"
   ]
  },
  {
   "cell_type": "code",
   "execution_count": null,
   "metadata": {
    "id": "R8rjCRA7CwLV"
   },
   "outputs": [],
   "source": [
    "print(\"Acurácia: %.2f%%\" % (accuracy_score(y_teste, previsoes_naive) * 100.0))"
   ]
  },
  {
   "cell_type": "code",
   "execution_count": null,
   "metadata": {
    "id": "N_xxZiTXKeG3"
   },
   "outputs": [],
   "source": [
    "confusion_matrix(y_teste, previsoes_naive)"
   ]
  },
  {
   "cell_type": "code",
   "execution_count": null,
   "metadata": {
    "id": "CZMZ_zPNKzqW"
   },
   "outputs": [],
   "source": [
    "print(classification_report(y_teste, previsoes_naive))"
   ]
  },
  {
   "cell_type": "markdown",
   "metadata": {
    "id": "Gnte-P_e0536"
   },
   "source": [
    "**Análise dados de treino**"
   ]
  },
  {
   "cell_type": "code",
   "execution_count": null,
   "metadata": {
    "id": "_t9CZH8qz9w-"
   },
   "outputs": [],
   "source": [
    "previsoes_treino = naive.predict(x_treino)\n",
    "previsoes_treino"
   ]
  },
  {
   "cell_type": "code",
   "execution_count": null,
   "metadata": {
    "id": "ixfPbrJB0iEE"
   },
   "outputs": [],
   "source": [
    "accuracy_score(y_treino, previsoes_treino)"
   ]
  },
  {
   "cell_type": "code",
   "execution_count": null,
   "metadata": {
    "id": "nyTX_2Te0suq"
   },
   "outputs": [],
   "source": [
    "confusion_matrix(y_treino, previsoes_treino)"
   ]
  },
  {
   "cell_type": "markdown",
   "metadata": {
    "id": "rNsT6wAn_e1l"
   },
   "source": [
    "### **Validação Cruzada**"
   ]
  },
  {
   "cell_type": "code",
   "execution_count": null,
   "metadata": {
    "id": "lvBuy5bm_qok"
   },
   "outputs": [],
   "source": [
    "from sklearn.model_selection import KFold\n",
    "from sklearn.model_selection import cross_val_score"
   ]
  },
  {
   "cell_type": "code",
   "execution_count": null,
   "metadata": {
    "id": "SS_dyx4x_260"
   },
   "outputs": [],
   "source": [
    "# Separando os dados em folds\n",
    "kfold = KFold(n_splits = 30, shuffle=True, random_state = 5)"
   ]
  },
  {
   "cell_type": "code",
   "execution_count": null,
   "metadata": {
    "id": "K0aqT7kPAf1L"
   },
   "outputs": [],
   "source": [
    "# Criando o modelo\n",
    "modelo = GaussianNB()\n",
    "resultado = cross_val_score(modelo, previsores, alvo, cv = kfold)\n",
    "resultado"
   ]
  },
  {
   "cell_type": "code",
   "execution_count": null,
   "metadata": {
    "id": "VmmFUeXird9B"
   },
   "outputs": [],
   "source": [
    "# Usamos a média e o desvio padrão\n",
    "print(\"Acurácia Média: %.2f%%\" % (resultado.mean() * 100.0))"
   ]
  },
  {
   "cell_type": "markdown",
   "metadata": {
    "id": "tZ03xoOQNkQP"
   },
   "source": [
    "Naive Bayes = 92.40% (treino e teste) - e 93.82% (validação cruzada) - previsores, alvo\n",
    "Naive Bayes = 91.23% (treino e teste) - e 93.47% (validação cruzada) - previsores_esc, alvo\n",
    "Naive Bayes = 92.40% (treino e teste) - e 93.82% (validação cruzada) - previsores_labelencoder, alvo\n",
    "Naive Bayes = 91.23% (treino e teste) - e 93.47% (validação cruzada) - previsores_labelencoder_esc, alvo\n",
    "\n",
    "Naive Bayes = 92.40% (treino e teste) - e 93.82% (validação cruzada) - previsores, alvo_labelencoder_ordinal\n",
    "Naive Bayes = 91.23% (treino e teste) - e 93.47% (validação cruzada) - previsores_esc, alvo_labelencoder_ordinal\n",
    "Naive Bayes = 92.40% (treino e teste) - e 93.82% (validação cruzada) - previsores_labelencoder, alvo_labelencoder_ordinal\n",
    "Naive Bayes = 91.23% (treino e teste) - e 93.47% (validação cruzada) - previsores_labelencoder_esc, alvo_labelencoder_ordinal\n",
    "\n",
    "**Melhores Naive Bayes: \n",
    "Naive Bayes = 92.40% (treino e teste) - e 93.82% (validação cruzada) - previsores, alvo\n",
    "Naive Bayes = 92.40% (treino e teste) - e 93.82% (validação cruzada) - previsores_labelencoder, alvo\n",
    "Naive Bayes = 92.40% (treino e teste) - e 93.82% (validação cruzada) - previsores, alvo_labelencoder_ordinal\n",
    "Naive Bayes = 92.40% (treino e teste) - e 93.82% (validação cruzada) - previsores_labelencoder, alvo_labelencoder_ordinal**"
   ]
  },
  {
   "cell_type": "markdown",
   "metadata": {
    "id": "n1ky9LQipNn0"
   },
   "source": [
    "# **MÁQUINAS DE VETORES DE SUPORTE (SVM)**"
   ]
  },
  {
   "cell_type": "markdown",
   "metadata": {
    "id": "5p55FhL3b52u"
   },
   "source": [
    "https://scikit-learn.org/stable/modules/generated/sklearn.svm.SVC.html"
   ]
  },
  {
   "cell_type": "code",
   "execution_count": null,
   "metadata": {
    "id": "oVy0EpUfpquK"
   },
   "outputs": [],
   "source": [
    "from sklearn.svm import SVC"
   ]
  },
  {
   "cell_type": "code",
   "execution_count": null,
   "metadata": {
    "id": "P7xKKTCabAab"
   },
   "outputs": [],
   "source": [
    "svm = SVC(kernel='rbf', random_state=1, C = 2)\n",
    "svm.fit(x_treino, y_treino)"
   ]
  },
  {
   "cell_type": "code",
   "execution_count": null,
   "metadata": {
    "id": "VjKeaHKrbicN"
   },
   "outputs": [],
   "source": [
    "previsoes_svm = svm.predict(x_teste)\n",
    "previsoes_svm"
   ]
  },
  {
   "cell_type": "code",
   "execution_count": null,
   "metadata": {
    "id": "ulL7w207qcwQ"
   },
   "outputs": [],
   "source": [
    "y_teste"
   ]
  },
  {
   "cell_type": "code",
   "execution_count": null,
   "metadata": {
    "id": "iWdYWQQBvnVQ"
   },
   "outputs": [],
   "source": [
    "from sklearn.metrics import accuracy_score, confusion_matrix, classification_report"
   ]
  },
  {
   "cell_type": "code",
   "execution_count": null,
   "metadata": {
    "id": "kRZ4VwD-qjW4"
   },
   "outputs": [],
   "source": [
    "print(\"Acurácia: %.2f%%\" % (accuracy_score(y_teste, previsoes_svm) * 100.0))"
   ]
  },
  {
   "cell_type": "code",
   "execution_count": null,
   "metadata": {
    "id": "VYeZMXUtqjW5"
   },
   "outputs": [],
   "source": [
    "confusion_matrix(y_teste, previsoes_svm)"
   ]
  },
  {
   "cell_type": "code",
   "execution_count": null,
   "metadata": {
    "id": "YPKWlAGAqjW6"
   },
   "outputs": [],
   "source": [
    "print(classification_report(y_teste, previsoes_svm))"
   ]
  },
  {
   "cell_type": "markdown",
   "metadata": {
    "id": "GeeUpamU1u6d"
   },
   "source": [
    "**Análise dados de treino**"
   ]
  },
  {
   "cell_type": "code",
   "execution_count": null,
   "metadata": {
    "id": "VVGJEYpC1u6d"
   },
   "outputs": [],
   "source": [
    "previsoes_treino = svm.predict(x_treino)\n",
    "previsoes_treino"
   ]
  },
  {
   "cell_type": "code",
   "execution_count": null,
   "metadata": {
    "id": "Xo-iYrMn1u6d"
   },
   "outputs": [],
   "source": [
    "accuracy_score(y_treino, previsoes_treino)"
   ]
  },
  {
   "cell_type": "code",
   "execution_count": null,
   "metadata": {
    "id": "Z42CYXuC1u6e"
   },
   "outputs": [],
   "source": [
    "confusion_matrix(y_treino, previsoes_treino)"
   ]
  },
  {
   "cell_type": "markdown",
   "metadata": {
    "id": "xXM2zqKVH1Vi"
   },
   "source": [
    "### **Validação Cruzada**"
   ]
  },
  {
   "cell_type": "code",
   "execution_count": null,
   "metadata": {
    "id": "tukeEaG8H1Vj"
   },
   "outputs": [],
   "source": [
    "from sklearn.model_selection import KFold\n",
    "from sklearn.model_selection import cross_val_score"
   ]
  },
  {
   "cell_type": "code",
   "execution_count": null,
   "metadata": {
    "id": "4tYyKK_RH1Vj"
   },
   "outputs": [],
   "source": [
    "# Separando os dados em folds\n",
    "kfold = KFold(n_splits = 30, shuffle=True, random_state = 5)"
   ]
  },
  {
   "cell_type": "code",
   "execution_count": null,
   "metadata": {
    "id": "mhD3BcOWH1Vk"
   },
   "outputs": [],
   "source": [
    "# Criando o modelo\n",
    "modelo = SVC(kernel='rbf', random_state=1, C = 2)\n",
    "resultado = cross_val_score(modelo, previsores_labelencoder_esc, alvo_labelencoder_ordinal, cv = kfold)\n",
    "\n",
    "# Usamos a média e o desvio padrão\n",
    "print(\"Acurácia Média: %.2f%%\" % (resultado.mean() * 100.0))"
   ]
  },
  {
   "cell_type": "markdown",
   "metadata": {
    "id": "fT_1y1Hoqycp"
   },
   "source": [
    "SVM = 94.74% (treino e teste) - e 91.72% (validação cruzada)- SVC(kernel='rbf', random_state=1, C = 2) - previsores, alvo\n",
    "SVM = 97.66% (treino e teste) - e 97.88% (validação cruzada)- SVC(kernel='rbf', random_state=1, C = 2) - previsores_esc, alvo\n",
    "SVM = 94.74% (treino e teste) - e 91.72% (validação cruzada)- SVC(kernel='rbf', random_state=1, C = 2) - previsores_labelencoder, alvo\n",
    "SVM = 97.66% (treino e teste) - e 97.88% (validação cruzada)- SVC(kernel='rbf', random_state=1, C = 2) - previsores_labelencoder_esc, alvo\n",
    "\n",
    "SVM = 94.74% (treino e teste) - e 91.72% (validação cruzada)- SVC(kernel='rbf', random_state=1, C = 2) - previsores, alvo_labelencoder_ordinal\n",
    "SVM = 97.66% (treino e teste) - e 97.88% (validação cruzada)- SVC(kernel='rbf', random_state=1, C = 2) - previsores_esc, alvo_labelencoder_ordinal\n",
    "SVM = 94.74% (treino e teste) - e 91.72% (validação cruzada)- SVC(kernel='rbf', random_state=1, C = 2) - previsores_labelencoder, alvo_labelencoder_ordinal\n",
    "SVM = 97.66% (treino e teste) - e 97.88% (validação cruzada)- SVC(kernel='rbf', random_state=1, C = 2) - previsores_labelencoder_esc, alvo_labelencoder_ordinal\n",
    "\n",
    "**Melhores SVM:\n",
    "SVM = 97.66% (treino e teste) - e 97.88% (validação cruzada)- SVC(kernel='rbf', random_state=1, C = 2) - previsores_esc, alvo\n",
    "SVM = 97.66% (treino e teste) - e 97.88% (validação cruzada)- SVC(kernel='rbf', random_state=1, C = 2) - previsores_labelencoder_esc, alvo\n",
    "SVM = 97.66% (treino e teste) - e 97.88% (validação cruzada)- SVC(kernel='rbf', random_state=1, C = 2) - previsores_esc, alvo_labelencoder_ordinal\n",
    "SVM = 97.66% (treino e teste) - e 97.88% (validação cruzada)- SVC(kernel='rbf', random_state=1, C = 2) - previsores_labelencoder_esc, alvo_labelencoder_ordinal**"
   ]
  },
  {
   "cell_type": "markdown",
   "metadata": {
    "id": "jebC8M2jqyc9"
   },
   "source": [
    "# **REGRESSÃO LOGÍSTICA**"
   ]
  },
  {
   "cell_type": "markdown",
   "metadata": {
    "id": "mprvbtyNbzP3"
   },
   "source": [
    "https://scikit-learn.org/stable/modules/generated/sklearn.linear_model.LogisticRegression.html"
   ]
  },
  {
   "cell_type": "code",
   "execution_count": null,
   "metadata": {
    "id": "NVGe2Q7ur-Nv"
   },
   "outputs": [],
   "source": [
    "from sklearn.linear_model import LogisticRegression"
   ]
  },
  {
   "cell_type": "code",
   "execution_count": null,
   "metadata": {
    "colab": {
     "base_uri": "https://localhost:8080/"
    },
    "executionInfo": {
     "elapsed": 628,
     "status": "ok",
     "timestamp": 1662236062154,
     "user": {
      "displayName": "Luciano Galdino",
      "userId": "10237697037323960148"
     },
     "user_tz": 180
    },
    "id": "f_RnL43VV9Yc",
    "outputId": "fa9c3dd0-287f-4215-e243-4edd631f26be"
   },
   "outputs": [],
   "source": [
    "logistica = LogisticRegression(random_state=1, max_iter=2000, penalty=\"l2\",\n",
    "                               tol=0.0001, C=1,solver=\"lbfgs\")\n",
    "logistica.fit(x_treino, y_treino)"
   ]
  },
  {
   "cell_type": "code",
   "execution_count": null,
   "metadata": {
    "colab": {
     "base_uri": "https://localhost:8080/"
    },
    "executionInfo": {
     "elapsed": 282,
     "status": "ok",
     "timestamp": 1662236065181,
     "user": {
      "displayName": "Luciano Galdino",
      "userId": "10237697037323960148"
     },
     "user_tz": 180
    },
    "id": "I7EqQihmWIQG",
    "outputId": "0c1c9d48-f56f-4f9a-e99e-3c3dcf2e6601"
   },
   "outputs": [],
   "source": [
    "logistica.intercept_"
   ]
  },
  {
   "cell_type": "code",
   "execution_count": null,
   "metadata": {
    "colab": {
     "base_uri": "https://localhost:8080/"
    },
    "executionInfo": {
     "elapsed": 309,
     "status": "ok",
     "timestamp": 1662236068979,
     "user": {
      "displayName": "Luciano Galdino",
      "userId": "10237697037323960148"
     },
     "user_tz": 180
    },
    "id": "6BS-aVjsWK_0",
    "outputId": "f042aa40-fffb-4bca-9062-68bb65885075"
   },
   "outputs": [],
   "source": [
    "logistica.coef_"
   ]
  },
  {
   "cell_type": "code",
   "execution_count": null,
   "metadata": {
    "colab": {
     "base_uri": "https://localhost:8080/"
    },
    "executionInfo": {
     "elapsed": 307,
     "status": "ok",
     "timestamp": 1662236071968,
     "user": {
      "displayName": "Luciano Galdino",
      "userId": "10237697037323960148"
     },
     "user_tz": 180
    },
    "id": "zKlba1wBWX1O",
    "outputId": "49cf910a-1502-48ed-9eed-8a9c6351ff73"
   },
   "outputs": [],
   "source": [
    "previsoes_logistica = logistica.predict(x_teste)\n",
    "previsoes_logistica"
   ]
  },
  {
   "cell_type": "code",
   "execution_count": null,
   "metadata": {
    "id": "PbF05awQvhzK"
   },
   "outputs": [],
   "source": [
    "from sklearn.metrics import accuracy_score, confusion_matrix, classification_report"
   ]
  },
  {
   "cell_type": "code",
   "execution_count": null,
   "metadata": {
    "colab": {
     "base_uri": "https://localhost:8080/"
    },
    "executionInfo": {
     "elapsed": 232,
     "status": "ok",
     "timestamp": 1656717163654,
     "user": {
      "displayName": "Luciano Galdino",
      "userId": "10237697037323960148"
     },
     "user_tz": 180
    },
    "id": "72UCRQBdt2Iy",
    "outputId": "e955d976-1e4a-435d-ba53-44326b5f3bb9"
   },
   "outputs": [],
   "source": [
    "print(\"Acurácia: %.2f%%\" % (accuracy_score(y_teste, previsoes_logistica) * 100.0))"
   ]
  },
  {
   "cell_type": "code",
   "execution_count": null,
   "metadata": {
    "colab": {
     "base_uri": "https://localhost:8080/"
    },
    "executionInfo": {
     "elapsed": 241,
     "status": "ok",
     "timestamp": 1656717166777,
     "user": {
      "displayName": "Luciano Galdino",
      "userId": "10237697037323960148"
     },
     "user_tz": 180
    },
    "id": "g2FaBeYDt2Iz",
    "outputId": "26ab729b-750f-438a-abaa-af0989542dd3"
   },
   "outputs": [],
   "source": [
    "confusion_matrix(y_teste, previsoes_logistica)"
   ]
  },
  {
   "cell_type": "code",
   "execution_count": null,
   "metadata": {
    "colab": {
     "base_uri": "https://localhost:8080/"
    },
    "executionInfo": {
     "elapsed": 281,
     "status": "ok",
     "timestamp": 1656717169268,
     "user": {
      "displayName": "Luciano Galdino",
      "userId": "10237697037323960148"
     },
     "user_tz": 180
    },
    "id": "MAgJo5b5t2I0",
    "outputId": "9dc145c3-278a-4809-d694-cb3761225c9b"
   },
   "outputs": [],
   "source": [
    "print(classification_report(y_teste, previsoes_logistica))"
   ]
  },
  {
   "cell_type": "markdown",
   "metadata": {
    "id": "6LpYZvhb17ms"
   },
   "source": [
    "**Análise dados de treino**"
   ]
  },
  {
   "cell_type": "code",
   "execution_count": null,
   "metadata": {
    "colab": {
     "base_uri": "https://localhost:8080/"
    },
    "executionInfo": {
     "elapsed": 289,
     "status": "ok",
     "timestamp": 1656717184635,
     "user": {
      "displayName": "Luciano Galdino",
      "userId": "10237697037323960148"
     },
     "user_tz": 180
    },
    "id": "9Mup9Cn817mt",
    "outputId": "12e3cba9-9e60-46dd-a0f9-1db06b958b6b"
   },
   "outputs": [],
   "source": [
    "previsoes_treino = logistica.predict(x_treino)\n",
    "previsoes_treino"
   ]
  },
  {
   "cell_type": "code",
   "execution_count": null,
   "metadata": {
    "colab": {
     "base_uri": "https://localhost:8080/"
    },
    "executionInfo": {
     "elapsed": 6,
     "status": "ok",
     "timestamp": 1656717189834,
     "user": {
      "displayName": "Luciano Galdino",
      "userId": "10237697037323960148"
     },
     "user_tz": 180
    },
    "id": "T4imJ5_w17mt",
    "outputId": "747b9401-f58f-4d55-a62d-23b7c1a0e30d"
   },
   "outputs": [],
   "source": [
    "accuracy_score(y_treino, previsoes_treino)"
   ]
  },
  {
   "cell_type": "code",
   "execution_count": null,
   "metadata": {
    "colab": {
     "base_uri": "https://localhost:8080/"
    },
    "executionInfo": {
     "elapsed": 249,
     "status": "ok",
     "timestamp": 1656717191756,
     "user": {
      "displayName": "Luciano Galdino",
      "userId": "10237697037323960148"
     },
     "user_tz": 180
    },
    "id": "2Ms9dnHk17mu",
    "outputId": "372457f9-74dd-4ab4-f8aa-3bce4f8a7e33"
   },
   "outputs": [],
   "source": [
    "confusion_matrix(y_treino, previsoes_treino)"
   ]
  },
  {
   "cell_type": "markdown",
   "metadata": {
    "id": "rGdamAVpJfJ5"
   },
   "source": [
    "### **Validação Cruzada**"
   ]
  },
  {
   "cell_type": "code",
   "execution_count": null,
   "metadata": {
    "id": "IcNfFmq9JfJ6"
   },
   "outputs": [],
   "source": [
    "from sklearn.model_selection import KFold\n",
    "from sklearn.model_selection import cross_val_score"
   ]
  },
  {
   "cell_type": "code",
   "execution_count": null,
   "metadata": {
    "id": "srKfNrUoJfJ6"
   },
   "outputs": [],
   "source": [
    "# Separando os dados em folds\n",
    "kfold = KFold(n_splits = 30, shuffle=True, random_state = 5)"
   ]
  },
  {
   "cell_type": "code",
   "execution_count": null,
   "metadata": {
    "colab": {
     "base_uri": "https://localhost:8080/"
    },
    "executionInfo": {
     "elapsed": 1730,
     "status": "ok",
     "timestamp": 1656717612565,
     "user": {
      "displayName": "Luciano Galdino",
      "userId": "10237697037323960148"
     },
     "user_tz": 180
    },
    "id": "eHZjsD-RJfJ7",
    "outputId": "0781aa6d-9de4-44ea-b396-cababc31be7a"
   },
   "outputs": [],
   "source": [
    "# Criando o modelo\n",
    "modelo = LogisticRegression(random_state=1, max_iter=2000, penalty=\"l2\",\n",
    "                               tol=0.0001, C=1,solver=\"lbfgs\")\n",
    "resultado = cross_val_score(modelo, previsores_labelencoder_esc, alvo_labelencoder_ordinal, cv = kfold)\n",
    "\n",
    "# Usamos a média e o desvio padrão\n",
    "print(\"Acurácia Média: %.2f%%\" % (resultado.mean() * 100.0))"
   ]
  },
  {
   "cell_type": "markdown",
   "metadata": {
    "id": "KmKIO-uUv31v"
   },
   "source": [
    "Regressão logística = 95.91% (treino e teste) - e 98.06% (validação cruzada com previsores_esc) - LogisticRegression(random_state=1, max_iter=2000, penalty=\"l2\", tol=0.0001, C=1,solver=\"lbfgs\") - previsores, alvo\n",
    "Regressão logística = 97.66% (treino e teste) - e 98.06%% (validação cruzada com previsores_esc) - LogisticRegression(random_state=1, max_iter=2000, penalty=\"l2\", tol=0.0001, C=1,solver=\"lbfgs\") - previsores_esc, alvo\n",
    "SRegressão logística = 95.91% (treino e teste) - e 98.06% (validação cruzada com previsores_esc) - LogisticRegression(random_state=1, max_iter=2000, penalty=\"l2\", tol=0.0001, C=1,solver=\"lbfgs\") - previsores_labelencoder, alvo\n",
    "Regressão logística = 97.66% (treino e teste) - e 98.06% (validação cruzada com previsores_esc) - LogisticRegression(random_state=1, max_iter=2000, penalty=\"l2\", tol=0.0001, C=1,solver=\"lbfgs\") - previsores_labelencoder_esc, alvo\n",
    "\n",
    "Regressão logística = 95.91% (treino e teste) - e 98.06% (validação cruzada com previsores_labelencoder_esc) - LogisticRegression(random_state=1, max_iter=2000, penalty=\"l2\", tol=0.0001, C=1,solver=\"lbfgs\") - previsores, alvo_labelencoder_ordinal\n",
    "Regressão logística = 97.66% (treino e teste) - e 98.06% (validação cruzada com previsores_labelencoder_esc) - LogisticRegression(random_state=1, max_iter=2000, penalty=\"l2\", tol=0.0001, C=1,solver=\"lbfgs\") - previsores_esc, alvo_labelencoder_ordinal\n",
    "Regressão logística = 97.66% (treino e teste) - e 98.06% (validação cruzada cruzada com previsores_labelencoder_esc) - LogisticRegression(random_state=1, max_iter=2000, penalty=\"l2\", tol=0.0001, C=1,solver=\"lbfgs\") - previsores_labelencoder, alvo_labelencoder_ordinal\n",
    "Regressão logística = 97.66% (treino e teste) - e 98.06% (validação cruzada cruzada com previsores_labelencoder_esc) - LogisticRegression(random_state=1, max_iter=600, penalty=\"l2\", tol=0.0001, C=1,solver=\"lbfgs\") - previsores_labelencoder_esc, alvo_labelencoder_ordinal\n",
    "\n",
    "**Melhores Regressão Logística:\n",
    "Regressão logística = 97.66% (treino e teste) - e 98.06%% (validação cruzada com previsores_esc) - LogisticRegression(random_state=1, max_iter=2000, penalty=\"l2\", tol=0.0001, C=1,solver=\"lbfgs\") - previsores_esc, alvo\n",
    "Regressão logística = 97.66% (treino e teste) - e 98.06% (validação cruzada com previsores_esc) - LogisticRegression(random_state=1, max_iter=2000, penalty=\"l2\", tol=0.0001, C=1,solver=\"lbfgs\") - previsores_labelencoder_esc, alvo\n",
    "Regressão logística = 97.66% (treino e teste) - e 98.06% (validação cruzada com previsores_labelencoder_esc) - LogisticRegression(random_state=1, max_iter=2000, penalty=\"l2\", tol=0.0001, C=1,solver=\"lbfgs\") - previsores_esc, alvo_labelencoder_ordinal\n",
    "Regressão logística = 97.66% (treino e teste) - e 98.06% (validação cruzada cruzada com previsores_labelencoder_esc) - LogisticRegression(random_state=1, max_iter=600, penalty=\"l2\", tol=0.0001, C=1,solver=\"lbfgs\") - previsores_labelencoder_esc, alvo_labelencoder_ordinal**"
   ]
  },
  {
   "cell_type": "markdown",
   "metadata": {
    "id": "GETCbQj7v32B"
   },
   "source": [
    "# **APRENDIZAGEM BASEADA EM INSTÂNCIAS (KNN)**"
   ]
  },
  {
   "cell_type": "markdown",
   "metadata": {
    "id": "AXOVpUsGbnlK"
   },
   "source": [
    "https://scikit-learn.org/stable/modules/generated/sklearn.neighbors.KNeighborsClassifier.html"
   ]
  },
  {
   "cell_type": "code",
   "execution_count": null,
   "metadata": {
    "id": "u3_VSVAFwo8H"
   },
   "outputs": [],
   "source": [
    "from sklearn.neighbors import KNeighborsClassifier"
   ]
  },
  {
   "cell_type": "code",
   "execution_count": null,
   "metadata": {
    "id": "xkC1VdFmXvcz"
   },
   "outputs": [],
   "source": [
    "knn = KNeighborsClassifier(n_neighbors=7, metric='minkowski', p=1)\n",
    "knn.fit(x_treino, y_treino)"
   ]
  },
  {
   "cell_type": "markdown",
   "metadata": {
    "id": "CJB-tW-g2P4_"
   },
   "source": [
    "https://scikit-learn.org/stable/modules/generated/sklearn.metrics.DistanceMetric.html"
   ]
  },
  {
   "cell_type": "code",
   "execution_count": null,
   "metadata": {
    "id": "sSCtq6WKYlFx"
   },
   "outputs": [],
   "source": [
    "previsoes_knn = knn.predict(x_teste)\n",
    "previsoes_knn"
   ]
  },
  {
   "cell_type": "code",
   "execution_count": null,
   "metadata": {
    "id": "oG0I-trLxQ50"
   },
   "outputs": [],
   "source": [
    "y_teste"
   ]
  },
  {
   "cell_type": "code",
   "execution_count": null,
   "metadata": {
    "id": "aQYth6LjxOSG"
   },
   "outputs": [],
   "source": [
    "from sklearn.metrics import accuracy_score, confusion_matrix, classification_report"
   ]
  },
  {
   "cell_type": "code",
   "execution_count": null,
   "metadata": {
    "id": "OWDZlThoxOSI"
   },
   "outputs": [],
   "source": [
    "print(\"Acurácia: %.2f%%\" % (accuracy_score(y_teste, previsoes_knn) * 100.0))"
   ]
  },
  {
   "cell_type": "code",
   "execution_count": null,
   "metadata": {
    "id": "-IGoTCdmxOSJ"
   },
   "outputs": [],
   "source": [
    "confusion_matrix(y_teste, previsoes_knn)"
   ]
  },
  {
   "cell_type": "code",
   "execution_count": null,
   "metadata": {
    "id": "5V-bhRMvxOSJ"
   },
   "outputs": [],
   "source": [
    "print(classification_report(y_teste, previsoes_knn))"
   ]
  },
  {
   "cell_type": "markdown",
   "metadata": {
    "id": "qEF7YW-Y2KT9"
   },
   "source": [
    "**Análise dados de treino**"
   ]
  },
  {
   "cell_type": "code",
   "execution_count": null,
   "metadata": {
    "id": "gmZgnjMe2KT-"
   },
   "outputs": [],
   "source": [
    "previsoes_treino = knn.predict(x_treino)\n",
    "previsoes_treino"
   ]
  },
  {
   "cell_type": "code",
   "execution_count": null,
   "metadata": {
    "id": "q5pLRV6J2KT_"
   },
   "outputs": [],
   "source": [
    "accuracy_score(y_treino, previsoes_treino)"
   ]
  },
  {
   "cell_type": "code",
   "execution_count": null,
   "metadata": {
    "id": "w4ce2FGJ2KT_"
   },
   "outputs": [],
   "source": [
    "confusion_matrix(y_treino, previsoes_treino)"
   ]
  },
  {
   "cell_type": "markdown",
   "metadata": {
    "id": "pUNWBzC8KJ5v"
   },
   "source": [
    "### **Validação Cruzada**"
   ]
  },
  {
   "cell_type": "code",
   "execution_count": null,
   "metadata": {
    "id": "b88vNYd8KJ5w"
   },
   "outputs": [],
   "source": [
    "from sklearn.model_selection import KFold\n",
    "from sklearn.model_selection import cross_val_score"
   ]
  },
  {
   "cell_type": "code",
   "execution_count": null,
   "metadata": {
    "id": "nG58w5CNKJ5w"
   },
   "outputs": [],
   "source": [
    "# Separando os dados em folds\n",
    "kfold = KFold(n_splits = 30, shuffle=True, random_state = 5)"
   ]
  },
  {
   "cell_type": "code",
   "execution_count": null,
   "metadata": {
    "id": "V9BM96VTKJ5w"
   },
   "outputs": [],
   "source": [
    "# Criando o modelo\n",
    "modelo = KNeighborsClassifier(n_neighbors=7, metric='minkowski', p = 1)\n",
    "resultado = cross_val_score(modelo, previsores_labelencoder, alvo_labelencoder_ordinal, cv = kfold)\n",
    "\n",
    "# Usamos a média e o desvio padrão\n",
    "print(\"Acurácia Média: %.2f%%\" % (resultado.mean() * 100.0))"
   ]
  },
  {
   "cell_type": "markdown",
   "metadata": {
    "id": "ovmlWcN6xOSK"
   },
   "source": [
    "KNN = 96.49% (treino e teste) - e 93.13% (validação cruzada)- KNeighborsClassifier(n_neighbors=7, metric='minkowski', p = 1) - previsores, alvo\n",
    "KNN = 95.91% (treino e teste) - e 96.65% (validação cruzada)- KNeighborsClassifier(n_neighbors=7, metric='minkowski', p = 1) - previsores_esc, alvo\n",
    "KNN = 96.49% (treino e teste) - e 93.13% (validação cruzada)- KNeighborsClassifier(n_neighbors=7, metric='minkowski', p = 1) - previsores_labelencoder, alvo\n",
    "KNN = 95.91% (treino e teste) - e 96.65% (validação cruzada)- KNeighborsClassifier(n_neighbors=7, metric='minkowski', p = 1) -previsores_labelencoder_esc, alvo\n",
    "\n",
    "KNN = 96.49% (treino e teste) - e 93.13% (validação cruzada)- KNeighborsClassifier(n_neighbors=7, metric='minkowski', p = 1) - previsores, alvo_labelencoder_ordinal\n",
    "KNN = 95.91% (treino e teste) - e 96.65% (validação cruzada)- KNeighborsClassifier(n_neighbors=7, metric='minkowski', p = 1) - previsores_esc, alvo_labelencoder_ordinal\n",
    "KNN = 96.49% (treino e teste) - e 93.13% (validação cruzada)- KNeighborsClassifier(n_neighbors=7, metric='minkowski', p = 1) - previsores_labelencoder, alvo_labelencoder_ordinal\n",
    "KNN = 95.91% (treino e teste) - e 96.65% (validação cruzada)- KNeighborsClassifier(n_neighbors=7, metric='minkowski', p = 1) - previsores_labelencoder_esc, alvo_labelencoder_ordinal\n",
    "\n",
    "**Melhores KNN:\n",
    "KNN = 96.49% (treino e teste) - e 93.13% (validação cruzada)- KNeighborsClassifier(n_neighbors=7, metric='minkowski', p = 1) - previsores, alvo\n",
    "KNN = 96.49% (treino e teste) - e 93.13% (validação cruzada)- KNeighborsClassifier(n_neighbors=7, metric='minkowski', p = 1) - previsores_labelencoder, alvo\n",
    "KNN = 96.49% (treino e teste) - e 93.13% (validação cruzada)- KNeighborsClassifier(n_neighbors=7, metric='minkowski', p = 1) - previsores, alvo_labelencoder_ordinal\n",
    "KNN = 96.49% (treino e teste) - e 93.13% (validação cruzada)- KNeighborsClassifier(n_neighbors=7, metric='minkowski', p = 1) - previsores_labelencoder, alvo_labelencoder_ordinal**"
   ]
  },
  {
   "cell_type": "markdown",
   "metadata": {
    "id": "VdGvKcYjODGt"
   },
   "source": [
    "# **ÁRVORE DE DECISÃO**"
   ]
  },
  {
   "cell_type": "markdown",
   "metadata": {
    "id": "i65VtZ4pcQGP"
   },
   "source": [
    "https://scikit-learn.org/stable/modules/tree.html"
   ]
  },
  {
   "cell_type": "code",
   "execution_count": null,
   "metadata": {
    "id": "-2oaMph5OFa2"
   },
   "outputs": [],
   "source": [
    "from sklearn.tree import DecisionTreeClassifier"
   ]
  },
  {
   "cell_type": "code",
   "execution_count": null,
   "metadata": {
    "id": "Zxu4_zhCOMVj"
   },
   "outputs": [],
   "source": [
    "arvore = DecisionTreeClassifier(criterion='entropy', random_state = 0, max_depth=3)\n",
    "arvore.fit(x_treino, y_treino)"
   ]
  },
  {
   "cell_type": "code",
   "execution_count": null,
   "metadata": {
    "id": "UnxRfJZXOVkk"
   },
   "outputs": [],
   "source": [
    "previsoes_arvore = arvore.predict(x_teste)\n",
    "previsoes_arvore"
   ]
  },
  {
   "cell_type": "code",
   "execution_count": null,
   "metadata": {
    "id": "ozqiMkVAOke6"
   },
   "outputs": [],
   "source": [
    "y_teste"
   ]
  },
  {
   "cell_type": "code",
   "execution_count": null,
   "metadata": {
    "id": "fS4QmmG9vrl4"
   },
   "outputs": [],
   "source": [
    "from sklearn.metrics import accuracy_score, confusion_matrix, classification_report"
   ]
  },
  {
   "cell_type": "code",
   "execution_count": null,
   "metadata": {
    "id": "9vuYKW1_Onqq"
   },
   "outputs": [],
   "source": [
    "print(\"Acurácia: %.2f%%\" % (accuracy_score(y_teste, previsoes_arvore) * 100.0))"
   ]
  },
  {
   "cell_type": "code",
   "execution_count": null,
   "metadata": {
    "id": "IAJonpblPUGh"
   },
   "outputs": [],
   "source": [
    "confusion_matrix(y_teste, previsoes_arvore)"
   ]
  },
  {
   "cell_type": "code",
   "execution_count": null,
   "metadata": {
    "id": "wACzOEs-PcTo"
   },
   "outputs": [],
   "source": [
    "print(classification_report(y_teste, previsoes_arvore))"
   ]
  },
  {
   "cell_type": "markdown",
   "metadata": {
    "id": "PXa_22cA1DcE"
   },
   "source": [
    "**Análise dados de treino**"
   ]
  },
  {
   "cell_type": "code",
   "execution_count": null,
   "metadata": {
    "id": "UZFn-68G1DcF"
   },
   "outputs": [],
   "source": [
    "previsoes_treino = arvore.predict(x_treino)\n",
    "previsoes_treino"
   ]
  },
  {
   "cell_type": "code",
   "execution_count": null,
   "metadata": {
    "id": "mDqKNd3v1DcG"
   },
   "outputs": [],
   "source": [
    "accuracy_score(y_treino, previsoes_treino)"
   ]
  },
  {
   "cell_type": "code",
   "execution_count": null,
   "metadata": {
    "id": "dMQiq4o01DcG"
   },
   "outputs": [],
   "source": [
    "confusion_matrix(y_treino, previsoes_treino)"
   ]
  },
  {
   "cell_type": "markdown",
   "metadata": {
    "id": "dxwugdgiEhdw"
   },
   "source": [
    "### **Validação Cruzada**"
   ]
  },
  {
   "cell_type": "code",
   "execution_count": null,
   "metadata": {
    "id": "ArJOjabUEZJf"
   },
   "outputs": [],
   "source": [
    "from sklearn.model_selection import KFold\n",
    "from sklearn.model_selection import cross_val_score"
   ]
  },
  {
   "cell_type": "code",
   "execution_count": null,
   "metadata": {
    "id": "zfWK55DrEZJg"
   },
   "outputs": [],
   "source": [
    "# Separando os dados em folds\n",
    "kfold = KFold(n_splits = 30, shuffle=True, random_state = 5)"
   ]
  },
  {
   "cell_type": "code",
   "execution_count": null,
   "metadata": {
    "id": "MwGsKOFZEZJh"
   },
   "outputs": [],
   "source": [
    "# Criando o modelo\n",
    "modelo = DecisionTreeClassifier(criterion='entropy', random_state = 0, max_depth=7)\n",
    "resultado = cross_val_score(modelo, previsores_esc, alvo, cv = kfold)\n",
    "\n",
    "# Usamos a média e o desvio padrão\n",
    "print(\"Acurácia Média: %.2f%%\" % (resultado.mean() * 100.0))"
   ]
  },
  {
   "cell_type": "markdown",
   "metadata": {
    "id": "-Ti98jalQK23"
   },
   "source": [
    "Árvore de decisão = 95.32% (treino e teste) - e 92.44% (validação cruzada) - DecisionTreeClassifier(criterion='entropy', random_state = 0, max_depth=3) - previsores, alvo\n",
    "Árvore de decisão = 95.32% (treino e teste) - e 92.44% (validação cruzada) - DecisionTreeClassifier(criterion='entropy', random_state = 0, max_depth=3) - previsores_esc, alvo\n",
    "Árvore de decisão = 95.32% (treino e teste) - e 92.44% (validação cruzada) - DecisionTreeClassifier(criterion='entropy', random_state = 0, max_depth=3) - previsores_labelencoder, alvo\n",
    "Árvore de decisão = 95.32% (treino e teste) - e 92.44% (validação cruzada) - DecisionTreeClassifier(criterion='entropy', random_state = 0, max_depth=3) -previsores_labelencoder_esc, alvo\n",
    "\n",
    "Árvore de decisão = 95.32% (treino e teste) - e 92.44% (validação cruzada) - DecisionTreeClassifier(criterion='entropy', random_state = 0, max_depth=3) - previsores, alvo_labelencoder_ordinal\n",
    "Árvore de decisão = 95.32% (treino e teste) - e 92.44% (validação cruzada) - DecisionTreeClassifier(criterion='entropy', random_state = 0, max_depth=3) - previsores_esc, alvo_labelencoder_ordinal\n",
    "Árvore de decisão = 95.32% (treino e teste) - e 92.44% (validação cruzada) - DecisionTreeClassifier(criterion='entropy', random_state = 0, max_depth=3) - previsores_labelencoder, alvo_labelencoder_ordinal\n",
    "Árvore de decisão = 95.32% (treino e teste) - e 92.44% (validação cruzada) - DecisionTreeClassifier(criterion='entropy', random_state = 0, max_depth=3) - previsores_labelencoder_esc, alvo_labelencoder_ordinal\n",
    "\n",
    "**Melhores Árvore de decisão:\n",
    "Árvore de decisão = 95.32% (treino e teste) - e 92.44% (validação cruzada) - DecisionTreeClassifier(criterion='entropy', random_state = 0, max_depth=3) - previsores, alvo\n",
    "Árvore de decisão = 95.32% (treino e teste) - e 92.44% (validação cruzada) - DecisionTreeClassifier(criterion='entropy', random_state = 0, max_depth=3) - previsores_esc, alvo\n",
    "Árvore de decisão = 95.32% (treino e teste) - e 92.44% (validação cruzada) - DecisionTreeClassifier(criterion='entropy', random_state = 0, max_depth=3) - previsores_labelencoder, alvo\n",
    "Árvore de decisão = 95.32% (treino e teste) - e 92.44% (validação cruzada) - DecisionTreeClassifier(criterion='entropy', random_state = 0, max_depth=3) -previsores_labelencoder_esc, alvo\n",
    "Árvore de decisão = 95.32% (treino e teste) - e 92.44% (validação cruzada) - DecisionTreeClassifier(criterion='entropy', random_state = 0, max_depth=3) - previsores, alvo_labelencoder_ordinal\n",
    "Árvore de decisão = 95.32% (treino e teste) - e 92.44% (validação cruzada) - DecisionTreeClassifier(criterion='entropy', random_state = 0, max_depth=3) - previsores_esc, alvo_labelencoder_ordinal\n",
    "Árvore de decisão = 95.32% (treino e teste) - e 92.44% (validação cruzada) - DecisionTreeClassifier(criterion='entropy', random_state = 0, max_depth=3) - previsores_labelencoder, alvo_labelencoder_ordinal\n",
    "Árvore de decisão = 95.32% (treino e teste) - e 92.44% (validação cruzada) - DecisionTreeClassifier(criterion='entropy', random_state = 0, max_depth=3) - previsores_labelencoder_esc, alvo_labelencoder_ordinal**"
   ]
  },
  {
   "cell_type": "markdown",
   "metadata": {
    "id": "hw7px-UemoSc"
   },
   "source": [
    "# **RANDOM FOREST**"
   ]
  },
  {
   "cell_type": "markdown",
   "metadata": {
    "id": "HAUbw5xfcCYy"
   },
   "source": [
    "https://scikit-learn.org/stable/modules/generated/sklearn.ensemble.RandomForestClassifier.html"
   ]
  },
  {
   "cell_type": "code",
   "execution_count": null,
   "metadata": {
    "id": "BqqXdinImokj"
   },
   "outputs": [],
   "source": [
    "from sklearn.ensemble import RandomForestClassifier"
   ]
  },
  {
   "cell_type": "code",
   "execution_count": null,
   "metadata": {
    "id": "Klr3lymumztn"
   },
   "outputs": [],
   "source": [
    "random = RandomForestClassifier(n_estimators=150, criterion='entropy', random_state = 0, max_depth=4)\n",
    "random.fit(x_treino, y_treino)"
   ]
  },
  {
   "cell_type": "code",
   "execution_count": null,
   "metadata": {
    "id": "0JOqI4bQnY17"
   },
   "outputs": [],
   "source": [
    "previsoes_random = random.predict(x_teste)\n",
    "previsoes_random"
   ]
  },
  {
   "cell_type": "code",
   "execution_count": null,
   "metadata": {
    "id": "fRN6hPPXn5qp"
   },
   "outputs": [],
   "source": [
    "y_teste"
   ]
  },
  {
   "cell_type": "code",
   "execution_count": null,
   "metadata": {
    "id": "cgB44VIOvpZf"
   },
   "outputs": [],
   "source": [
    "from sklearn.metrics import accuracy_score, confusion_matrix, classification_report"
   ]
  },
  {
   "cell_type": "code",
   "execution_count": null,
   "metadata": {
    "id": "gnAuxYDDoDxM"
   },
   "outputs": [],
   "source": [
    "print(\"Acurácia: %.2f%%\" % (accuracy_score(y_teste, previsoes_random) * 100.0))"
   ]
  },
  {
   "cell_type": "code",
   "execution_count": null,
   "metadata": {
    "id": "zjAqh3e8oDxN"
   },
   "outputs": [],
   "source": [
    "confusion_matrix(y_teste, previsoes_random)"
   ]
  },
  {
   "cell_type": "code",
   "execution_count": null,
   "metadata": {
    "id": "IdpisYpjoDxO"
   },
   "outputs": [],
   "source": [
    "print(classification_report(y_teste, previsoes_random))"
   ]
  },
  {
   "cell_type": "markdown",
   "metadata": {
    "id": "e9NiPecr1bdw"
   },
   "source": [
    "**Análise dados de treino**"
   ]
  },
  {
   "cell_type": "code",
   "execution_count": null,
   "metadata": {
    "id": "DDs9J1hX1bdx"
   },
   "outputs": [],
   "source": [
    "previsoes_treino = random.predict(x_treino)\n",
    "previsoes_treino"
   ]
  },
  {
   "cell_type": "code",
   "execution_count": null,
   "metadata": {
    "id": "MkH9uYfz1bdy"
   },
   "outputs": [],
   "source": [
    "accuracy_score(y_treino, previsoes_treino)"
   ]
  },
  {
   "cell_type": "code",
   "execution_count": null,
   "metadata": {
    "id": "pLge3xVL1bdy"
   },
   "outputs": [],
   "source": [
    "confusion_matrix(y_treino, previsoes_treino)"
   ]
  },
  {
   "cell_type": "markdown",
   "metadata": {
    "id": "GH4nEvlaGOb7"
   },
   "source": [
    "### **Validação Cruzada**"
   ]
  },
  {
   "cell_type": "code",
   "execution_count": null,
   "metadata": {
    "id": "hreEC55-GOb8"
   },
   "outputs": [],
   "source": [
    "from sklearn.model_selection import KFold\n",
    "from sklearn.model_selection import cross_val_score"
   ]
  },
  {
   "cell_type": "code",
   "execution_count": null,
   "metadata": {
    "id": "ETYEB99OGOb9"
   },
   "outputs": [],
   "source": [
    "# Separando os dados em folds\n",
    "kfold = KFold(n_splits = 30, shuffle=True, random_state = 5)"
   ]
  },
  {
   "cell_type": "code",
   "execution_count": null,
   "metadata": {
    "id": "7GHcsag3GOb9"
   },
   "outputs": [],
   "source": [
    "# Criando o modelo\n",
    "modelo = RandomForestClassifier(n_estimators=150, criterion='entropy', random_state = 0, max_depth=4)\n",
    "resultado = cross_val_score(modelo, previsores_labelencoder_esc, alvo, cv = kfold)\n",
    "\n",
    "# Usamos a média e o desvio padrão\n",
    "print(\"Acurácia Média: %.2f%%\" % (resultado.mean() * 100.0))"
   ]
  },
  {
   "cell_type": "markdown",
   "metadata": {
    "id": "N3dUl9DDpNnz"
   },
   "source": [
    "Random Forest = 96.49% (treino e teste)- e 95.76% (validação cruzada) - RandomForestClassifier(n_estimators=150, criterion='entropy', random_state = 0, max_depth=4) - previsores, alvo\n",
    "Random Forest = 96.49% (treino e teste) - e 95.76% (validação cruzada) - RandomForestClassifier(n_estimators=150, criterion='entropy', random_state = 0, max_depth=4) - previsores_esc, alvo\n",
    "Random Forest = 96.49% (treino e teste) - e 95.76% (validação cruzada) - RandomForestClassifier(n_estimators=150, criterion='entropy', random_state = 0, max_depth=4) - previsores_labelencoder, alvo\n",
    "Random Forest = 96.49% (treino e teste) - e 95.76% (validação cruzada) - RandomForestClassifier(n_estimators=150, criterion='entropy', random_state = 0, max_depth=4) -previsores_labelencoder_esc, alvo\n",
    "\n",
    "Random Forest = 96.49% - e 95.76% (validação cruzada) - RandomForestClassifier(n_estimators=150, criterion='entropy', random_state = 0, max_depth=4) (treino e teste) - previsores, alvo_labelencoder_ordinal\n",
    "Random Forest = 96.49% - e 95.76% (validação cruzada) - RandomForestClassifier(n_estimators=150, criterion='entropy', random_state = 0, max_depth=4) (treino e teste) - previsores_esc, alvo_labelencoder_ordinal\n",
    "Random Forest = 96.49% - e 95.76% (validação cruzada) - RandomForestClassifier(n_estimators=150, criterion='entropy', random_state = 0, max_depth=4) (treino e teste) - previsores_labelencoder, alvo_labelencoder_ordinal\n",
    "Random Forest = 96.49% - e 95.76% (validação cruzada) - RandomForestClassifier(n_estimators=150, criterion='entropy', random_state = 0, max_depth=4) (treino e teste) - previsores_labelencoder_esc, alvo_labelencoder_ordinal\n",
    "\n",
    "**Melhores Random Forest:\n",
    "Random Forest = 96.49% (treino e teste)- e 95.76% (validação cruzada) - RandomForestClassifier(n_estimators=150, criterion='entropy', random_state = 0, max_depth=4) - previsores, alvo\n",
    "Random Forest = 96.49% (treino e teste) - e 95.76% (validação cruzada) - RandomForestClassifier(n_estimators=150, criterion='entropy', random_state = 0, max_depth=4) - previsores_esc, alvo\n",
    "Random Forest = 96.49% (treino e teste) - e 95.76% (validação cruzada) - RandomForestClassifier(n_estimators=150, criterion='entropy', random_state = 0, max_depth=4) - previsores_labelencoder, alvo\n",
    "Random Forest = 96.49% (treino e teste) - e 95.76% (validação cruzada) - RandomForestClassifier(n_estimators=150, criterion='entropy', random_state = 0, max_depth=4) -previsores_labelencoder_esc, alvo\n",
    "Random Forest = 96.49% - e 95.76% (validação cruzada) - RandomForestClassifier(n_estimators=150, criterion='entropy', random_state = 0, max_depth=4) (treino e teste) - previsores, alvo_labelencoder_ordinal\n",
    "Random Forest = 96.49% - e 95.76% (validação cruzada) - RandomForestClassifier(n_estimators=150, criterion='entropy', random_state = 0, max_depth=4) (treino e teste) - previsores_esc, alvo_labelencoder_ordinal\n",
    "Random Forest = 96.49% - e 95.76% (validação cruzada) - RandomForestClassifier(n_estimators=150, criterion='entropy', random_state = 0, max_depth=4) (treino e teste) - previsores_labelencoder, alvo_labelencoder_ordinal\n",
    "Random Forest = 96.49% - e 95.76% (validação cruzada) - RandomForestClassifier(n_estimators=150, criterion='entropy', random_state = 0, max_depth=4) (treino e teste) - previsores_labelencoder_esc, alvo_labelencoder_ordinal**"
   ]
  },
  {
   "cell_type": "markdown",
   "metadata": {
    "id": "jH3OocboSGXH"
   },
   "source": [
    "# **XGBOOST**"
   ]
  },
  {
   "cell_type": "markdown",
   "metadata": {
    "id": "OpLLJlcnbcsR"
   },
   "source": [
    "https://xgboost.readthedocs.io/en/stable/"
   ]
  },
  {
   "cell_type": "code",
   "execution_count": null,
   "metadata": {
    "id": "PKdcu1J2Qk0h"
   },
   "outputs": [],
   "source": [
    "from xgboost import XGBClassifier"
   ]
  },
  {
   "cell_type": "code",
   "execution_count": null,
   "metadata": {
    "id": "jyOMVARbQmLa"
   },
   "outputs": [],
   "source": [
    "xg = XGBClassifier(max_depth=2, learning_rate=0.05, n_estimators=250, objective='binary:logistic', random_state=3)\n",
    "xg.fit(x_treino,y_treino)"
   ]
  },
  {
   "cell_type": "code",
   "execution_count": null,
   "metadata": {
    "colab": {
     "base_uri": "https://localhost:8080/"
    },
    "executionInfo": {
     "elapsed": 423,
     "status": "ok",
     "timestamp": 1685828799536,
     "user": {
      "displayName": "Luciano Galdino",
      "userId": "10237697037323960148"
     },
     "user_tz": 180
    },
    "id": "QrR1ZLZVQ5K4",
    "outputId": "d2f031c1-2b36-4d0e-e8f0-b007aa75989c"
   },
   "outputs": [],
   "source": [
    "previsoes_xg = xg.predict(x_teste)\n",
    "previsoes_xg"
   ]
  },
  {
   "cell_type": "code",
   "execution_count": null,
   "metadata": {
    "id": "HSR36D1mRZpz"
   },
   "outputs": [],
   "source": [
    "from sklearn.metrics import accuracy_score, confusion_matrix, classification_report"
   ]
  },
  {
   "cell_type": "code",
   "execution_count": null,
   "metadata": {
    "colab": {
     "base_uri": "https://localhost:8080/"
    },
    "executionInfo": {
     "elapsed": 7,
     "status": "ok",
     "timestamp": 1685828799536,
     "user": {
      "displayName": "Luciano Galdino",
      "userId": "10237697037323960148"
     },
     "user_tz": 180
    },
    "id": "UxMj0PznRZp0",
    "outputId": "29589b95-e081-42dc-ec2a-f2edd2835aa3"
   },
   "outputs": [],
   "source": [
    "print(\"Acurácia: %.2f%%\" % (accuracy_score(y_teste, previsoes_xg) * 100.0))"
   ]
  },
  {
   "cell_type": "code",
   "execution_count": null,
   "metadata": {
    "colab": {
     "base_uri": "https://localhost:8080/"
    },
    "executionInfo": {
     "elapsed": 6,
     "status": "ok",
     "timestamp": 1685828799536,
     "user": {
      "displayName": "Luciano Galdino",
      "userId": "10237697037323960148"
     },
     "user_tz": 180
    },
    "id": "5PcyMmFqRZp1",
    "outputId": "52542755-f4f9-45e7-d093-ba5931c8f9dc"
   },
   "outputs": [],
   "source": [
    "confusion_matrix(y_teste, previsoes_xg)"
   ]
  },
  {
   "cell_type": "code",
   "execution_count": null,
   "metadata": {
    "colab": {
     "base_uri": "https://localhost:8080/"
    },
    "executionInfo": {
     "elapsed": 7,
     "status": "ok",
     "timestamp": 1685828799537,
     "user": {
      "displayName": "Luciano Galdino",
      "userId": "10237697037323960148"
     },
     "user_tz": 180
    },
    "id": "fBYjluOzRZp2",
    "outputId": "890bfdba-5e19-4fbf-d1c3-870de18c3891"
   },
   "outputs": [],
   "source": [
    "print(classification_report(y_teste, previsoes_xg))"
   ]
  },
  {
   "cell_type": "markdown",
   "metadata": {
    "id": "VLAUCC_t2dkX"
   },
   "source": [
    "**Análise dados de treino**"
   ]
  },
  {
   "cell_type": "code",
   "execution_count": null,
   "metadata": {
    "colab": {
     "base_uri": "https://localhost:8080/"
    },
    "executionInfo": {
     "elapsed": 6,
     "status": "ok",
     "timestamp": 1685828799537,
     "user": {
      "displayName": "Luciano Galdino",
      "userId": "10237697037323960148"
     },
     "user_tz": 180
    },
    "id": "K5oak1Jy2dkY",
    "outputId": "447747c1-1669-443e-e3be-1cb76e84ad71"
   },
   "outputs": [],
   "source": [
    "previsoes_treino = xg.predict(x_treino)\n",
    "previsoes_treino"
   ]
  },
  {
   "cell_type": "code",
   "execution_count": null,
   "metadata": {
    "colab": {
     "base_uri": "https://localhost:8080/"
    },
    "executionInfo": {
     "elapsed": 5,
     "status": "ok",
     "timestamp": 1685828799537,
     "user": {
      "displayName": "Luciano Galdino",
      "userId": "10237697037323960148"
     },
     "user_tz": 180
    },
    "id": "70k-raF62dkZ",
    "outputId": "c16f734b-4b7e-418f-a1bc-e90cb87e81f5"
   },
   "outputs": [],
   "source": [
    "accuracy_score(y_treino, previsoes_treino)"
   ]
  },
  {
   "cell_type": "code",
   "execution_count": null,
   "metadata": {
    "colab": {
     "base_uri": "https://localhost:8080/"
    },
    "executionInfo": {
     "elapsed": 5,
     "status": "ok",
     "timestamp": 1685828799537,
     "user": {
      "displayName": "Luciano Galdino",
      "userId": "10237697037323960148"
     },
     "user_tz": 180
    },
    "id": "Hy7uFw9E2dkZ",
    "outputId": "3cb4435f-8809-43c3-8af5-35ee4fc8623e"
   },
   "outputs": [],
   "source": [
    "confusion_matrix(y_treino, previsoes_treino)"
   ]
  },
  {
   "cell_type": "markdown",
   "metadata": {
    "id": "gHvG_uWZLARo"
   },
   "source": [
    "### **Validação Cruzada**"
   ]
  },
  {
   "cell_type": "code",
   "execution_count": null,
   "metadata": {
    "id": "l3RZmFL_LARp"
   },
   "outputs": [],
   "source": [
    "from sklearn.model_selection import KFold\n",
    "from sklearn.model_selection import cross_val_score"
   ]
  },
  {
   "cell_type": "code",
   "execution_count": null,
   "metadata": {
    "id": "BKmF7defLARq"
   },
   "outputs": [],
   "source": [
    "# Separando os dados em folds\n",
    "kfold = KFold(n_splits = 30, shuffle=True, random_state = 5)"
   ]
  },
  {
   "cell_type": "code",
   "execution_count": null,
   "metadata": {
    "colab": {
     "base_uri": "https://localhost:8080/"
    },
    "executionInfo": {
     "elapsed": 3594,
     "status": "ok",
     "timestamp": 1685830159736,
     "user": {
      "displayName": "Luciano Galdino",
      "userId": "10237697037323960148"
     },
     "user_tz": 180
    },
    "id": "1h7FUmsWLARr",
    "outputId": "c7f21814-3114-4724-f8e5-f7f4766440ae"
   },
   "outputs": [],
   "source": [
    "# Criando o modelo\n",
    "modelo = XGBClassifier(max_depth=2, learning_rate=0.05, n_estimators=250, objective='binary:logistic', random_state=3)\n",
    "resultado = cross_val_score(modelo, previsores_esc, alvo, cv = kfold)\n",
    "\n",
    "# Usamos a média e o desvio padrão\n",
    "print(\"Acurácia Média: %.2f%%\" % (resultado.mean() * 100.0))"
   ]
  },
  {
   "cell_type": "markdown",
   "metadata": {
    "id": "gkZCAe-OR3rW"
   },
   "source": [
    "XGboost = 96.49% - e 96.29% (validação cruzada) - XGBClassifier(max_depth=2, learning_rate=0.05, n_estimators=250, objective='binary:logistic', random_state=3) - previsores, alvo\n",
    "XGboost = 96.49% - e 96.29% (validação cruzada) - XGBClassifier(max_depth=2, learning_rate=0.05, n_estimators=250, objective='binary:logistic', random_state=3) - previsores_esc, alvo\n",
    "XGboost = 96.49% - e 96.29% (validação cruzada) - XGBClassifier(max_depth=2, learning_rate=0.05, n_estimators=250, objective='binary:logistic', random_state=3) - previsores_labelencoder, alvo\n",
    "XGboost = 96.49% - e 96.29% (validação cruzada) - XGBClassifier(max_depth=2, learning_rate=0.05, n_estimators=250, objective='binary:logistic', random_state=3) - previsores_labelencoder_esc, alvo\n",
    "\n",
    "XGboost = 96.49% - e 96.29% (validação cruzada) - XGBClassifier(max_depth=2, learning_rate=0.05, n_estimators=250, objective='binary:logistic', random_state=3) - previsores, alvo_labelencoder_ordinal\n",
    "XGboost = 96.49% - e 96.29% (validação cruzada) - XGBClassifier(max_depth=2, learning_rate=0.05, n_estimators=250, objective='binary:logistic', random_state=3) - previsores_esc, alvo_labelencoder_ordinal\n",
    "XGboost = 96.49% - e 96.29% (validação cruzada) - XGBClassifier(max_depth=2, learning_rate=0.05, n_estimators=250, objective='binary:logistic', random_state=3) - previsores_labelencoder, alvo_labelencoder_ordinal\n",
    "XGboost = 96.49% - e 96.29% (validação cruzada) - XGBClassifier(max_depth=2, learning_rate=0.05, n_estimators=250, objective='binary:logistic', random_state=3) - previsores_labelencoder_esc, alvo_labelencoder_ordinal\n",
    "\n",
    "**Melhores XGboost:\n",
    "XGboost = 96.49% - e 96.29% (validação cruzada) - XGBClassifier(max_depth=2, learning_rate=0.05, n_estimators=250, objective='binary:logistic', random_state=3) - previsores, alvo\n",
    "XGboost = 96.49% - e 96.29% (validação cruzada) - XGBClassifier(max_depth=2, learning_rate=0.05, n_estimators=250, objective='binary:logistic', random_state=3) - previsores_esc, alvo\n",
    "XGboost = 96.49% - e 96.29% (validação cruzada) - XGBClassifier(max_depth=2, learning_rate=0.05, n_estimators=250, objective='binary:logistic', random_state=3) - previsores_labelencoder, alvo\n",
    "XGboost = 96.49% - e 96.29% (validação cruzada) - XGBClassifier(max_depth=2, learning_rate=0.05, n_estimators=250, objective='binary:logistic', random_state=3) - previsores_labelencoder_esc, alvo\n",
    "XGboost = 96.49% - e 96.29% (validação cruzada) - XGBClassifier(max_depth=2, learning_rate=0.05, n_estimators=250, objective='binary:logistic', random_state=3) - previsores, alvo_labelencoder_ordinal\n",
    "XGboost = 96.49% - e 96.29% (validação cruzada) - XGBClassifier(max_depth=2, learning_rate=0.05, n_estimators=250, objective='binary:logistic', random_state=3) - previsores_esc, alvo_labelencoder_ordinal\n",
    "XGboost = 96.49% - e 96.29% (validação cruzada) - XGBClassifier(max_depth=2, learning_rate=0.05, n_estimators=250, objective='binary:logistic', random_state=3) - previsores_labelencoder, alvo_labelencoder_ordinal\n",
    "XGboost = 96.49% - e 96.29% (validação cruzada) - XGBClassifier(max_depth=2, learning_rate=0.05, n_estimators=250, objective='binary:logistic', random_state=3) - previsores_labelencoder_esc, alvo_labelencoder_ordinal\n",
    "Porem todos acertaram 100% no conjunto de teste, podendo ter a ocrrencia de overfitting**"
   ]
  },
  {
   "cell_type": "markdown",
   "metadata": {
    "id": "LLop9X5OVOfc"
   },
   "source": [
    "https://lightgbm.readthedocs.io/en/latest/pythonapi/lightgbm.train.html"
   ]
  },
  {
   "cell_type": "code",
   "execution_count": null,
   "metadata": {
    "colab": {
     "base_uri": "https://localhost:8080/"
    },
    "executionInfo": {
     "elapsed": 4064,
     "status": "ok",
     "timestamp": 1662477561484,
     "user": {
      "displayName": "Luciano Galdino",
      "userId": "10237697037323960148"
     },
     "user_tz": 180
    },
    "id": "r2fYJevzt58X",
    "outputId": "fa65acd1-d56f-4c5e-9502-0394090b56a3"
   },
   "outputs": [],
   "source": [
    "# Instalação do Algoritmo\n",
    "!pip install lightgbm"
   ]
  },
  {
   "cell_type": "code",
   "execution_count": null,
   "metadata": {
    "id": "HyJzU46uq9mQ"
   },
   "outputs": [],
   "source": [
    "import lightgbm as lgb"
   ]
  },
  {
   "cell_type": "code",
   "execution_count": null,
   "metadata": {
    "id": "D7GfTX-TxWh2"
   },
   "outputs": [],
   "source": [
    "# Dataset para treino\n",
    "dataset = lgb.Dataset(x_treino,label=y_treino)"
   ]
  },
  {
   "cell_type": "markdown",
   "metadata": {
    "id": "sPZLUYzCqTWL"
   },
   "source": [
    "# **LIGHTGBM**"
   ]
  },
  {
   "cell_type": "code",
   "execution_count": null,
   "metadata": {},
   "outputs": [],
   "source": [
    "https://lightgbm.readthedocs.io/en/latest/pythonapi/lightgbm.train.html"
   ]
  },
  {
   "cell_type": "code",
   "execution_count": null,
   "metadata": {},
   "outputs": [],
   "source": [
    "# Instalação do Algoritmo\n",
    "!pip install lightgbm"
   ]
  },
  {
   "cell_type": "code",
   "execution_count": null,
   "metadata": {},
   "outputs": [],
   "source": [
    "import lightgbm as lgb"
   ]
  },
  {
   "cell_type": "code",
   "execution_count": null,
   "metadata": {},
   "outputs": [],
   "source": [
    "# Dataset para treino\n",
    "dataset = lgb.Dataset(x_treino,label=y_treino)"
   ]
  },
  {
   "cell_type": "markdown",
   "metadata": {
    "id": "9sYH7x7pjczh"
   },
   "source": [
    "**Hiperparâmetros**\n",
    "\n",
    "**Controle de ajuste**\n",
    "\n",
    "num_leaves : define o número de folhas a serem formadas em uma árvore. Não tem uma relação direta entre num_leaves e max_depth e, portanto, os dois não devem estar vinculados um ao outro.\n",
    "\n",
    "max_depth : especifica a profundidade máxima ou nível até o qual a árvore pode crescer.\n",
    "\n",
    "**Controle de velocidade**\n",
    "\n",
    "learning_rate: taxa de aprendizagem, determina o impacto de cada árvore no resultado final.\n",
    "\n",
    "max_bin : O valor menor de max_bin reduz muito tempo de procesamento, pois agrupa os valores do recurso em caixas discretas, o que é computacionalmente mais barato.\n",
    "\n",
    "**Controle de precisão**\n",
    "\n",
    "num_leaves : valor alto produz árvores mais profundas com maior precisão, mas leva ao overfitting.\n",
    "\n",
    "max_bin : valores altos tem efeito semelhante ao causado pelo aumento do valor de num_leaves e também torna mais lento o procedimento de treinamento."
   ]
  },
  {
   "cell_type": "code",
   "execution_count": null,
   "metadata": {
    "id": "eRYtywqRxnRM"
   },
   "outputs": [],
   "source": [
    "# Parâmetros\n",
    "parametros = {'num_leaves':250, # número de folhas\n",
    "              'objective':'binary', # classificação Binária\n",
    "              'max_depth':2,\n",
    "              'learning_rate':.05,\n",
    "              'max_bin':100}"
   ]
  },
  {
   "cell_type": "code",
   "execution_count": null,
   "metadata": {
    "id": "s-75IteevPFt"
   },
   "outputs": [],
   "source": [
    "lgbm=lgb.train(parametros,dataset,num_boost_round=200)"
   ]
  },
  {
   "cell_type": "code",
   "execution_count": null,
   "metadata": {},
   "outputs": [],
   "source": [
    "# Marcação do tempo de execução\n",
    "from datetime import datetime\n",
    "inicio=datetime.now()\n",
    "lgbm=lgb.train(parametros,dataset)\n",
    "fim=datetime.now()\n",
    "\n",
    "tempo = fim - inicio\n",
    "tempo"
   ]
  },
  {
   "cell_type": "code",
   "execution_count": null,
   "metadata": {
    "colab": {
     "base_uri": "https://localhost:8080/"
    },
    "executionInfo": {
     "elapsed": 257,
     "status": "ok",
     "timestamp": 1662477814289,
     "user": {
      "displayName": "Luciano Galdino",
      "userId": "10237697037323960148"
     },
     "user_tz": 180
    },
    "id": "FbY1sQrzvPFv",
    "outputId": "e28c998b-6f00-49a1-b6fd-57310686c714"
   },
   "outputs": [],
   "source": [
    "previsoes_lgbm = lgbm.predict(x_teste)\n",
    "previsoes_lgbm"
   ]
  },
  {
   "cell_type": "code",
   "execution_count": null,
   "metadata": {
    "colab": {
     "base_uri": "https://localhost:8080/"
    },
    "executionInfo": {
     "elapsed": 259,
     "status": "ok",
     "timestamp": 1662477817927,
     "user": {
      "displayName": "Luciano Galdino",
      "userId": "10237697037323960148"
     },
     "user_tz": 180
    },
    "id": "eQ-eOobHzgdY",
    "outputId": "a47a2781-9979-47b2-ca6f-228d907cb1ba"
   },
   "outputs": [],
   "source": [
    "previsoes_lgbm.shape"
   ]
  },
  {
   "cell_type": "code",
   "execution_count": null,
   "metadata": {
    "id": "bCK5052RyreS"
   },
   "outputs": [],
   "source": [
    "# Quando for menor que 5 considera 0 e quando for maior ou igual a 5 considera 1\n",
    "for i in range(0, 171):\n",
    "    if previsoes_lgbm[i] >= .5:\n",
    "       previsoes_lgbm[i] = 1\n",
    "    else:\n",
    "       previsoes_lgbm[i] = 0"
   ]
  },
  {
   "cell_type": "code",
   "execution_count": null,
   "metadata": {
    "colab": {
     "base_uri": "https://localhost:8080/"
    },
    "executionInfo": {
     "elapsed": 351,
     "status": "ok",
     "timestamp": 1662477822908,
     "user": {
      "displayName": "Luciano Galdino",
      "userId": "10237697037323960148"
     },
     "user_tz": 180
    },
    "id": "X3kyhhXJzmtG",
    "outputId": "ddc6ac3d-8b08-41e4-9eab-ca9ebdc2bc93"
   },
   "outputs": [],
   "source": [
    "previsoes_lgbm"
   ]
  },
  {
   "cell_type": "code",
   "execution_count": null,
   "metadata": {
    "colab": {
     "base_uri": "https://localhost:8080/"
    },
    "executionInfo": {
     "elapsed": 246,
     "status": "ok",
     "timestamp": 1662477825619,
     "user": {
      "displayName": "Luciano Galdino",
      "userId": "10237697037323960148"
     },
     "user_tz": 180
    },
    "id": "wvItoNPgvPFw",
    "outputId": "cb607575-1c1d-45c4-b0da-55b064d7f9fc"
   },
   "outputs": [],
   "source": [
    "y_teste"
   ]
  },
  {
   "cell_type": "code",
   "execution_count": null,
   "metadata": {
    "id": "7zmmlXg00NgO"
   },
   "outputs": [],
   "source": [
    "from sklearn.metrics import accuracy_score, confusion_matrix, classification_report"
   ]
  },
  {
   "cell_type": "code",
   "execution_count": null,
   "metadata": {
    "colab": {
     "base_uri": "https://localhost:8080/"
    },
    "executionInfo": {
     "elapsed": 3,
     "status": "ok",
     "timestamp": 1662477828140,
     "user": {
      "displayName": "Luciano Galdino",
      "userId": "10237697037323960148"
     },
     "user_tz": 180
    },
    "id": "7jtEMCEd0NgP",
    "outputId": "cae83075-c073-43c9-aa66-4b0879352168"
   },
   "outputs": [],
   "source": [
    "print(\"Acurácia: %.2f%%\" % (accuracy_score(y_teste, previsoes_lgbm) * 100.0))"
   ]
  },
  {
   "cell_type": "code",
   "execution_count": null,
   "metadata": {
    "colab": {
     "base_uri": "https://localhost:8080/"
    },
    "executionInfo": {
     "elapsed": 261,
     "status": "ok",
     "timestamp": 1662477830165,
     "user": {
      "displayName": "Luciano Galdino",
      "userId": "10237697037323960148"
     },
     "user_tz": 180
    },
    "id": "Vi92nyDd0NgQ",
    "outputId": "6fef1a2f-ff41-4ded-b096-9ad29cc70b5f"
   },
   "outputs": [],
   "source": [
    "confusion_matrix(y_teste, previsoes_lgbm)"
   ]
  },
  {
   "cell_type": "markdown",
   "metadata": {
    "id": "u3pNMaVs0NgR"
   },
   "source": [
    "**Análise dados de treino**"
   ]
  },
  {
   "cell_type": "code",
   "execution_count": null,
   "metadata": {
    "id": "fS-C8nIw0NgR"
   },
   "outputs": [],
   "source": [
    "previsoes_treino = lgbm.predict(x_treino)\n",
    "previsoes_treino"
   ]
  },
  {
   "cell_type": "code",
   "execution_count": null,
   "metadata": {
    "id": "5ZTvZKs51umQ"
   },
   "outputs": [],
   "source": [
    "previsoes_treino.shape"
   ]
  },
  {
   "cell_type": "code",
   "execution_count": null,
   "metadata": {
    "id": "y_Xb-SEN1bNL"
   },
   "outputs": [],
   "source": [
    "# Quando for menor que 5 considera 0 e quando for maior ou igual a 5 considera 1\n",
    "for i in range(0, 398):\n",
    "    if previsoes_treino[i] >= .5:\n",
    "       previsoes_treino[i] = 1\n",
    "    else:\n",
    "       previsoes_treino[i] = 0"
   ]
  },
  {
   "cell_type": "code",
   "execution_count": null,
   "metadata": {
    "id": "ENkdM8Jd1oCJ"
   },
   "outputs": [],
   "source": [
    "previsoes_treino"
   ]
  },
  {
   "cell_type": "code",
   "execution_count": null,
   "metadata": {
    "id": "NKAIaTGF0NgS"
   },
   "outputs": [],
   "source": [
    "accuracy_score(y_treino, previsoes_treino)"
   ]
  },
  {
   "cell_type": "code",
   "execution_count": null,
   "metadata": {
    "id": "dDOEsI4W0NgT"
   },
   "outputs": [],
   "source": [
    "confusion_matrix(y_treino, previsoes_treino)"
   ]
  },
  {
   "cell_type": "markdown",
   "metadata": {
    "id": "3hEGp61Q0NgT"
   },
   "source": [
    "### **Validação Cruzada**"
   ]
  },
  {
   "cell_type": "code",
   "execution_count": null,
   "metadata": {
    "id": "RwR3Salk0NgT"
   },
   "outputs": [],
   "source": [
    "from sklearn.model_selection import KFold\n",
    "from sklearn.model_selection import cross_val_score"
   ]
  },
  {
   "cell_type": "code",
   "execution_count": null,
   "metadata": {
    "id": "8Xnl-F4XSNTJ"
   },
   "outputs": [],
   "source": [
    "# Separando os dados em folds\n",
    "kfold = KFold(n_splits = 30, shuffle=True, random_state = 5)"
   ]
  },
  {
   "cell_type": "code",
   "execution_count": null,
   "metadata": {
    "id": "Qq7iUdMxSNTL"
   },
   "outputs": [],
   "source": [
    "# Criando o modelo\n",
    "modelo = lgb.LGBMClassifier(num_leaves = 250, objective = 'binary',\n",
    "                            max_depth = 2, learning_rate = .05, max_bin =100)\n",
    "resultado = cross_val_score(modelo, previsores_labelencoder, alvo, cv = kfold)\n",
    "\n",
    "# Usamos a média e o desvio padrão\n",
    "print(\"Acurácia Média: %.2f%%\" % (resultado.mean() * 100.0))"
   ]
  },
  {
   "cell_type": "markdown",
   "metadata": {
    "id": "W6ADUoMW0NgV"
   },
   "source": [
    "LightGBM = 95.32% (treino e teste)- e 96.11% (validação cruzada) - lgb.LGBMClassifier(num_leaves = 250, objective = 'binary',  max_depth = 2, learning_rate = .05, max_bin =100) - previsores, alvo\n",
    "LightGBM = 97.08% (treino e teste)- e 96.12% (validação cruzada) - lgb.LGBMClassifier(num_leaves = 250, objective = 'binary',  max_depth = 2, learning_rate = .05, max_bin =100) - previsores_esc, alvo\n",
    "LightGBM = 95.32% (treino e teste)- e 96.11% (validação cruzada) - lgb.LGBMClassifier(num_leaves = 250, objective = 'binary',  max_depth = 2, learning_rate = .05, max_bin =100) - previsores_labelencoder, alvo\n",
    "LightGBM = 97.08% (treino e teste)- e 85,93% (validação cruzada) - lgb.LGBMClassifier(num_leaves = 250, objective = 'binary',  max_depth = 2, learning_rate = .05, max_bin =100) - previsores_labelencoder_esc, alvo\n",
    "\n",
    "LightGBM = 95.32% (treino e teste)- e 96.11% (validação cruzada) - lgb.LGBMClassifier(num_leaves = 250, objective = 'binary',  max_depth = 2, learning_rate = .05, max_bin =100) - previsores, alvo_labelencoder_ordinal\n",
    "LightGBM = 97.08% (treino e teste)- e 96.12% (validação cruzada) - lgb.LGBMClassifier(num_leaves = 250, objective = 'binary',  max_depth = 2, learning_rate = .05, max_bin =100) - previsores_esc, alvo_labelencoder_ordinal\n",
    "LightGBM = 95.32% (treino e teste)- e 96.11% (validação cruzada) - lgb.LGBMClassifier(num_leaves = 250, objective = 'binary',  max_depth = 2, learning_rate = .05, max_bin =100) - previsores_labelencoder, alvo_labelencoder_ordinal\n",
    "LightGBM = 97.08% (treino e teste)- e 96.12% (validação cruzada) - lgb.LGBMClassifier(num_leaves = 250, objective = 'binary',  max_depth = 2, learning_rate = .05, max_bin =100) - previsores_labelencoder_esc, alvo_labelencoder_ordinal\n",
    "\n",
    "**Melhores LightGBM:\n",
    "LightGBM = 97.08% (treino e teste)- e 96.12% (validação cruzada) - lgb.LGBMClassifier(num_leaves = 250, objective = 'binary',  max_depth = 2, learning_rate = .05, max_bin =100) - previsores_esc, alvo\n",
    "LightGBM = 97.08% (treino e teste)- e 85,93% (validação cruzada) - lgb.LGBMClassifier(num_leaves = 250, objective = 'binary',  max_depth = 2, learning_rate = .05, max_bin =100) - previsores_labelencoder_esc, alvo\n",
    "LightGBM = 97.08% (treino e teste)- e 96.12% (validação cruzada) - lgb.LGBMClassifier(num_leaves = 250, objective = 'binary',  max_depth = 2, learning_rate = .05, max_bin =100) - previsores_esc, alvo_labelencoder_ordinal\n",
    "LightGBM = 97.08% (treino e teste)- e 96.12% (validação cruzada) - lgb.LGBMClassifier(num_leaves = 250, objective = 'binary',  max_depth = 2, learning_rate = .05, max_bin =100) - previsores_labelencoder_esc, alvo_labelencoder_ordinal**"
   ]
  },
  {
   "cell_type": "markdown",
   "metadata": {
    "id": "yKpYGEuWUChU"
   },
   "source": [
    "# **CATBOOST**"
   ]
  },
  {
   "cell_type": "markdown",
   "metadata": {
    "id": "LMqQ_NMTUChV"
   },
   "source": [
    "https://catboost.ai/en/docs/"
   ]
  },
  {
   "cell_type": "code",
   "execution_count": null,
   "metadata": {
    "id": "Vkt7hfJVUChV"
   },
   "outputs": [],
   "source": [
    "#Instalação\n",
    "!pip install catboost"
   ]
  },
  {
   "cell_type": "code",
   "execution_count": null,
   "metadata": {
    "id": "kisDuh-RUChW"
   },
   "outputs": [],
   "source": [
    "from catboost import CatBoostClassifier"
   ]
  },
  {
   "cell_type": "code",
   "execution_count": null,
   "metadata": {
    "id": "fochAJydUChX"
   },
   "outputs": [],
   "source": [
    "df_original"
   ]
  },
  {
   "cell_type": "code",
   "execution_count": null,
   "metadata": {
    "id": "mFw4wb_2CZWv"
   },
   "outputs": [],
   "source": [
    "previsores_catboost = df_original.iloc[:, 1:32]"
   ]
  },
  {
   "cell_type": "code",
   "execution_count": null,
   "metadata": {
    "id": "6EGMtQa9Dwf7"
   },
   "outputs": [],
   "source": [
    "previsores_catboost.head()"
   ]
  },
  {
   "cell_type": "code",
   "execution_count": null,
   "metadata": {
    "id": "G0qli4gSEBbM"
   },
   "outputs": [],
   "source": [
    "alvo_catboost = df_original.iloc[:, 0]\n",
    "alvo_catboost"
   ]
  },
  {
   "cell_type": "code",
   "execution_count": null,
   "metadata": {
    "id": "hAcS1ULCC78V"
   },
   "outputs": [],
   "source": [
    "from sklearn.model_selection import train_test_split"
   ]
  },
  {
   "cell_type": "code",
   "execution_count": null,
   "metadata": {
    "id": "OP69_qpGC78W"
   },
   "outputs": [],
   "source": [
    "x_treino, x_teste, y_treino, y_teste = train_test_split(previsores_catboost, alvo_catboost, test_size = 0.3, random_state = 0)"
   ]
  },
  {
   "cell_type": "code",
   "execution_count": null,
   "metadata": {
    "id": "kM7Xaph4UChY"
   },
   "outputs": [],
   "source": [
    "catboost = CatBoostClassifier(task_type='CPU', iterations=100, learning_rate=0.1, depth = 8, random_state = 5,\n",
    "                              eval_metric=\"Accuracy\")"
   ]
  },
  {
   "cell_type": "code",
   "execution_count": null,
   "metadata": {
    "id": "frZ9Fw1EUChY"
   },
   "outputs": [],
   "source": [
    "catboost.fit( x_treino, y_treino, plot=True, eval_set=(x_teste, y_teste))"
   ]
  },
  {
   "cell_type": "code",
   "execution_count": null,
   "metadata": {
    "id": "MIJVraLTUChZ",
    "scrolled": true
   },
   "outputs": [],
   "source": [
    "previsoes_cat = catboost.predict(x_teste)\n",
    "previsoes_cat"
   ]
  },
  {
   "cell_type": "code",
   "execution_count": null,
   "metadata": {
    "id": "dSrjeuL_UCha"
   },
   "outputs": [],
   "source": [
    "y_teste"
   ]
  },
  {
   "cell_type": "code",
   "execution_count": null,
   "metadata": {
    "id": "r6FeKp07UCha"
   },
   "outputs": [],
   "source": [
    "from sklearn.metrics import accuracy_score, confusion_matrix, classification_report"
   ]
  },
  {
   "cell_type": "code",
   "execution_count": null,
   "metadata": {
    "id": "rknZXiSyUChb"
   },
   "outputs": [],
   "source": [
    "print(\"Acurácia: %.2f%%\" % (accuracy_score(y_teste, previsoes_cat) * 100.0))"
   ]
  },
  {
   "cell_type": "code",
   "execution_count": null,
   "metadata": {
    "id": "coB92zR9UChb"
   },
   "outputs": [],
   "source": [
    "confusion_matrix(y_teste, previsoes_cat)"
   ]
  },
  {
   "cell_type": "markdown",
   "metadata": {
    "id": "IA02yBduUChc"
   },
   "source": [
    "**Análise dados de treino**"
   ]
  },
  {
   "cell_type": "code",
   "execution_count": null,
   "metadata": {
    "id": "pu0f-5frUChc"
   },
   "outputs": [],
   "source": [
    "previsoes_treino = catboost.predict(x_treino)\n",
    "previsoes_treino"
   ]
  },
  {
   "cell_type": "code",
   "execution_count": null,
   "metadata": {
    "id": "agSmZWOEUChc"
   },
   "outputs": [],
   "source": [
    "accuracy_score(y_treino, previsoes_treino)"
   ]
  },
  {
   "cell_type": "code",
   "execution_count": null,
   "metadata": {
    "id": "Oh06bx0IUChd"
   },
   "outputs": [],
   "source": [
    "confusion_matrix(y_treino, previsoes_treino)"
   ]
  },
  {
   "cell_type": "markdown",
   "metadata": {
    "id": "2LgdzmpMUChd"
   },
   "source": [
    "### **Validação Cruzada**"
   ]
  },
  {
   "cell_type": "code",
   "execution_count": null,
   "metadata": {
    "id": "N80OsHhNUChd"
   },
   "outputs": [],
   "source": [
    "from sklearn.model_selection import KFold\n",
    "from sklearn.model_selection import cross_val_score"
   ]
  },
  {
   "cell_type": "code",
   "execution_count": null,
   "metadata": {
    "id": "vkhW9kFUUChd"
   },
   "outputs": [],
   "source": [
    "# Separando os dados em folds\n",
    "kfold = KFold(n_splits = 30, shuffle=True, random_state = 5)"
   ]
  },
  {
   "cell_type": "code",
   "execution_count": null,
   "metadata": {
    "id": "lwgfw-cVUChd"
   },
   "outputs": [],
   "source": [
    "# Criando o modelo\n",
    "modelo = CatBoostClassifier(task_type='CPU', iterations=100, learning_rate=0.1, depth = 8, random_state = 5,\n",
    "                              eval_metric=\"Accuracy\")\n",
    "resultado = cross_val_score(modelo, previsores, alvo, cv = kfold)\n",
    "\n",
    "# Usamos a média e o desvio padrão\n",
    "print(\"Acurácia Média: %.2f%%\" % (resultado.mean() * 100.0))"
   ]
  },
  {
   "cell_type": "markdown",
   "metadata": {
    "id": "gco4qH1qUChe"
   },
   "source": [
    "CatBoost = 97.08% (treino e teste) - e 97.16% (validação cruzada) - CatBoostClassifier(task_type='CPU', iterations=100, learning_rate=0.1, depth = 8, random_state = 5, eval_metric=\"Accuracy\") - previsores_catboost, alvo_catboost\n",
    "\n",
    "**Melhores CatBoost:\n",
    "CatBoost = 97.08% (treino e teste) - e 97.16% (validação cruzada) - CatBoostClassifier(task_type='CPU', iterations=100, learning_rate=0.1, depth = 8, random_state = 5, eval_metric=\"Accuracy\") - previsores_catboost, alvo_catboost**"
   ]
  },
  {
   "cell_type": "markdown",
   "metadata": {
    "id": "-SI78UagmLD7"
   },
   "source": [
    "# **Salvando dados para Deploy**"
   ]
  },
  {
   "cell_type": "code",
   "execution_count": null,
   "metadata": {
    "colab": {
     "base_uri": "https://localhost:8080/"
    },
    "executionInfo": {
     "elapsed": 216,
     "status": "ok",
     "timestamp": 1665100404870,
     "user": {
      "displayName": "Luciano Galdino",
      "userId": "10237697037323960148"
     },
     "user_tz": 180
    },
    "id": "LNMNKr4TmLD8",
    "outputId": "368c8f12-37c6-4ba4-e997-b3a82799470d"
   },
   "outputs": [],
   "source": [
    "previsores"
   ]
  },
  {
   "cell_type": "code",
   "execution_count": null,
   "metadata": {
    "colab": {
     "base_uri": "https://localhost:8080/"
    },
    "executionInfo": {
     "elapsed": 223,
     "status": "ok",
     "timestamp": 1665100406554,
     "user": {
      "displayName": "Luciano Galdino",
      "userId": "10237697037323960148"
     },
     "user_tz": 180
    },
    "id": "isSCWsMPDdw6",
    "outputId": "b9ac256b-4261-44f0-f745-c1639629c375"
   },
   "outputs": [],
   "source": [
    "alvo"
   ]
  },
  {
   "cell_type": "code",
   "execution_count": null,
   "metadata": {
    "id": "XUYRtI5VDBXF"
   },
   "outputs": [],
   "source": [
    "np.savetxt('../output/previsores.csv', previsores, delimiter=',')"
   ]
  },
  {
   "cell_type": "code",
   "execution_count": null,
   "metadata": {
    "id": "dd7lbPU3DQFO"
   },
   "outputs": [],
   "source": [
    "np.savetxt('../output/alvo.csv', alvo, delimiter=',')"
   ]
  },
  {
   "cell_type": "markdown",
   "metadata": {
    "id": "Q6LoOxMow4Ci"
   },
   "source": [
    "# **CONCLUSÃO DO DESAFIO 1**"
   ]
  },
  {
   "cell_type": "markdown",
   "metadata": {
    "id": "bjLFumRQxayX"
   },
   "source": [
    "DESENVOLVER E SELECIONAR O MELHOR ALGORITMO DE MACHINE LEARNING DE CLASSIFICAÇÃO PARA O DATASET DO LINK A SEGUIR:"
   ]
  },
  {
   "cell_type": "markdown",
   "metadata": {
    "id": "VG8xV9wYxKk2"
   },
   "source": [
    "https://www.kaggle.com/uciml/breast-cancer-wisconsin-data"
   ]
  },
  {
   "cell_type": "markdown",
   "metadata": {},
   "source": [
    "**Melhor Metodo:**\n",
    "**-1º-** Regressão logística = 97.66% (treino e teste) - e 98.06%% (validação cruzada com previsores escalonados) com previsores escalonados\n",
    "**-2ª-** SVM com 97.66% (treino e teste) - e 97.88% (validação cruzada) com previsores escalonados\n",
    "**-3º-** LightGBM = 97.08% (treino e teste)- e 96.12% (validação cruzada) - lgb.LGBMClassifier(num_leaves = 250, objective = 'binary',  max_depth = 2, learning_rate = .05, max_bin =100) - com previsores escalonados\n",
    "**-4ª-** CatBoost = 97.08% (treino e teste) - e 97.16% (validação cruzada) - CatBoostClassifier(task_type='CPU', iterations=100, learning_rate=0.1, depth = 8, random_state = 5, eval_metric=\"Accuracy\") - com previsores gerados pelo catboos\n",
    "\n",
    "**Melhores Naive Bayes:**\n",
    "Naive Bayes = 92.40% (treino e teste) - e 93.82% (validação cruzada) - previsores, alvo\n",
    "Naive Bayes = 92.40% (treino e teste) - e 93.82% (validação cruzada) - previsores_labelencoder, alvo\n",
    "Naive Bayes = 92.40% (treino e teste) - e 93.82% (validação cruzada) - previsores, alvo_labelencoder_ordinal\n",
    "Naive Bayes = 92.40% (treino e teste) - e 93.82% (validação cruzada) - previsores_labelencoder, alvo_labelencoder_ordinal\n",
    "\n",
    "**Melhores SVM:**\n",
    "SVM = 97.66% (treino e teste) - e 97.88% (validação cruzada)- SVC(kernel='rbf', random_state=1, C = 2) - previsores_esc, alvo\n",
    "SVM = 97.66% (treino e teste) - e 97.88% (validação cruzada)- SVC(kernel='rbf', random_state=1, C = 2) - previsores_labelencoder_esc, alvo\n",
    "SVM = 97.66% (treino e teste) - e 97.88% (validação cruzada)- SVC(kernel='rbf', random_state=1, C = 2) - previsores_esc, alvo_labelencoder_ordinal\n",
    "SVM = 97.66% (treino e teste) - e 97.88% (validação cruzada)- SVC(kernel='rbf', random_state=1, C = 2) - previsores_labelencoder_esc, alvo_labelencoder_ordinal\n",
    "\n",
    "**Melhores Regressão Logística:**\n",
    "Regressão logística = 97.66% (treino e teste) - e 98.06%% (validação cruzada com previsores_esc) - LogisticRegression(random_state=1, max_iter=2000, penalty=\"l2\", tol=0.0001, C=1,solver=\"lbfgs\") - previsores_esc, alvo\n",
    "Regressão logística = 97.66% (treino e teste) - e 98.06% (validação cruzada com previsores_esc) - LogisticRegression(random_state=1, max_iter=2000, penalty=\"l2\", tol=0.0001, C=1,solver=\"lbfgs\") - previsores_labelencoder_esc, alvo\n",
    "Regressão logística = 97.66% (treino e teste) - e 98.06% (validação cruzada com previsores_labelencoder_esc) - LogisticRegression(random_state=1, max_iter=2000, penalty=\"l2\", tol=0.0001, C=1,solver=\"lbfgs\") - previsores_esc, alvo_labelencoder_ordinal\n",
    "Regressão logística = 97.66% (treino e teste) - e 98.06% (validação cruzada cruzada com previsores_labelencoder_esc) - LogisticRegression(random_state=1, max_iter=600, penalty=\"l2\", tol=0.0001, C=1,solver=\"lbfgs\") - previsores_labelencoder_esc, alvo_labelencoder_ordinal\n",
    "\n",
    "**Melhores KNN:**\n",
    "KNN = 96.49% (treino e teste) - e 93.13% (validação cruzada)- KNeighborsClassifier(n_neighbors=7, metric='minkowski', p = 1) - previsores, alvo\n",
    "KNN = 96.49% (treino e teste) - e 93.13% (validação cruzada)- KNeighborsClassifier(n_neighbors=7, metric='minkowski', p = 1) - previsores_labelencoder, alvo\n",
    "KNN = 96.49% (treino e teste) - e 93.13% (validação cruzada)- KNeighborsClassifier(n_neighbors=7, metric='minkowski', p = 1) - previsores, alvo_labelencoder_ordinal\n",
    "KNN = 96.49% (treino e teste) - e 93.13% (validação cruzada)- KNeighborsClassifier(n_neighbors=7, metric='minkowski', p = 1) - previsores_labelencoder, alvo_labelencoder_ordinal**\n",
    "\n",
    "**Melhores Árvore de decisão:**\n",
    "Árvore de decisão = 95.32% (treino e teste) - e 92.44% (validação cruzada) - DecisionTreeClassifier(criterion='entropy', random_state = 0, max_depth=3) - previsores, alvo\n",
    "Árvore de decisão = 95.32% (treino e teste) - e 92.44% (validação cruzada) - DecisionTreeClassifier(criterion='entropy', random_state = 0, max_depth=3) - previsores_esc, alvo\n",
    "Árvore de decisão = 95.32% (treino e teste) - e 92.44% (validação cruzada) - DecisionTreeClassifier(criterion='entropy', random_state = 0, max_depth=3) - previsores_labelencoder, alvo\n",
    "Árvore de decisão = 95.32% (treino e teste) - e 92.44% (validação cruzada) - DecisionTreeClassifier(criterion='entropy', random_state = 0, max_depth=3) -previsores_labelencoder_esc, alvo\n",
    "Árvore de decisão = 95.32% (treino e teste) - e 92.44% (validação cruzada) - DecisionTreeClassifier(criterion='entropy', random_state = 0, max_depth=3) - previsores, alvo_labelencoder_ordinal\n",
    "Árvore de decisão = 95.32% (treino e teste) - e 92.44% (validação cruzada) - DecisionTreeClassifier(criterion='entropy', random_state = 0, max_depth=3) - previsores_esc, alvo_labelencoder_ordinal\n",
    "Árvore de decisão = 95.32% (treino e teste) - e 92.44% (validação cruzada) - DecisionTreeClassifier(criterion='entropy', random_state = 0, max_depth=3) - previsores_labelencoder, alvo_labelencoder_ordinal\n",
    "Árvore de decisão = 95.32% (treino e teste) - e 92.44% (validação cruzada) - DecisionTreeClassifier(criterion='entropy', random_state = 0, max_depth=3) - previsores_labelencoder_esc, alvo_labelencoder_ordinal\n",
    "\n",
    "**Melhores Random Forest:**\n",
    "Random Forest = 96.49% (treino e teste)- e 95.76% (validação cruzada) - RandomForestClassifier(n_estimators=150, criterion='entropy', random_state = 0, max_depth=4) - previsores, alvo\n",
    "Random Forest = 96.49% (treino e teste) - e 95.76% (validação cruzada) - RandomForestClassifier(n_estimators=150, criterion='entropy', random_state = 0, max_depth=4) - previsores_esc, alvo\n",
    "Random Forest = 96.49% (treino e teste) - e 95.76% (validação cruzada) - RandomForestClassifier(n_estimators=150, criterion='entropy', random_state = 0, max_depth=4) - previsores_labelencoder, alvo\n",
    "Random Forest = 96.49% (treino e teste) - e 95.76% (validação cruzada) - RandomForestClassifier(n_estimators=150, criterion='entropy', random_state = 0, max_depth=4) -previsores_labelencoder_esc, alvo\n",
    "Random Forest = 96.49% - e 95.76% (validação cruzada) - RandomForestClassifier(n_estimators=150, criterion='entropy', random_state = 0, max_depth=4) (treino e teste) - previsores, alvo_labelencoder_ordinal\n",
    "Random Forest = 96.49% - e 95.76% (validação cruzada) - RandomForestClassifier(n_estimators=150, criterion='entropy', random_state = 0, max_depth=4) (treino e teste) - previsores_esc, alvo_labelencoder_ordinal\n",
    "Random Forest = 96.49% - e 95.76% (validação cruzada) - RandomForestClassifier(n_estimators=150, criterion='entropy', random_state = 0, max_depth=4) (treino e teste) - previsores_labelencoder, alvo_labelencoder_ordinal\n",
    "Random Forest = 96.49% - e 95.76% (validação cruzada) - RandomForestClassifier(n_estimators=150, criterion='entropy', random_state = 0, max_depth=4) (treino e teste) - previsores_labelencoder_esc, alvo_labelencoder_ordinal\n",
    "\n",
    "**Melhores XGboost: Porem todos acertaram 100% no conjunto de teste, podendo ter a ocrrencia de overfitting**\n",
    "XGboost = 96.49% - e 96.29% (validação cruzada) - XGBClassifier(max_depth=2, learning_rate=0.05, n_estimators=250, objective='binary:logistic', random_state=3) - previsores, alvo\n",
    "XGboost = 96.49% - e 96.29% (validação cruzada) - XGBClassifier(max_depth=2, learning_rate=0.05, n_estimators=250, objective='binary:logistic', random_state=3) - previsores_esc, alvo\n",
    "XGboost = 96.49% - e 96.29% (validação cruzada) - XGBClassifier(max_depth=2, learning_rate=0.05, n_estimators=250, objective='binary:logistic', random_state=3) - previsores_labelencoder, alvo\n",
    "XGboost = 96.49% - e 96.29% (validação cruzada) - XGBClassifier(max_depth=2, learning_rate=0.05, n_estimators=250, objective='binary:logistic', random_state=3) - previsores_labelencoder_esc, alvo\n",
    "XGboost = 96.49% - e 96.29% (validação cruzada) - XGBClassifier(max_depth=2, learning_rate=0.05, n_estimators=250, objective='binary:logistic', random_state=3) - previsores, alvo_labelencoder_ordinal\n",
    "XGboost = 96.49% - e 96.29% (validação cruzada) - XGBClassifier(max_depth=2, learning_rate=0.05, n_estimators=250, objective='binary:logistic', random_state=3) - previsores_esc, alvo_labelencoder_ordinal\n",
    "XGboost = 96.49% - e 96.29% (validação cruzada) - XGBClassifier(max_depth=2, learning_rate=0.05, n_estimators=250, objective='binary:logistic', random_state=3) - previsores_labelencoder, alvo_labelencoder_ordinal\n",
    "XGboost = 96.49% - e 96.29% (validação cruzada) - XGBClassifier(max_depth=2, learning_rate=0.05, n_estimators=250, objective='binary:logistic', random_state=3) - previsores_labelencoder_esc, alvo_labelencoder_ordinal\n",
    "\n",
    "**Melhores LightGBM:**\n",
    "LightGBM = 97.08% (treino e teste)- e 96.12% (validação cruzada) - lgb.LGBMClassifier(num_leaves = 250, objective = 'binary',  max_depth = 2, learning_rate = .05, max_bin =100) - previsores_esc, alvo\n",
    "LightGBM = 97.08% (treino e teste)- e 85,93% (validação cruzada) - lgb.LGBMClassifier(num_leaves = 250, objective = 'binary',  max_depth = 2, learning_rate = .05, max_bin =100) - previsores_labelencoder_esc, alvo\n",
    "LightGBM = 97.08% (treino e teste)- e 96.12% (validação cruzada) - lgb.LGBMClassifier(num_leaves = 250, objective = 'binary',  max_depth = 2, learning_rate = .05, max_bin =100) - previsores_esc, alvo_labelencoder_ordinal\n",
    "LightGBM = 97.08% (treino e teste)- e 96.12% (validação cruzada) - lgb.LGBMClassifier(num_leaves = 250, objective = 'binary',  max_depth = 2, learning_rate = .05, max_bin =100) - previsores_labelencoder_esc, alvo_labelencoder_ordinal\n",
    "\n",
    "**Melhores CatBoost:**\n",
    "CatBoost = 97.08% (treino e teste) - e 97.16% (validação cruzada) - CatBoostClassifier(task_type='CPU', iterations=100, learning_rate=0.1, depth = 8, random_state = 5, eval_metric=\"Accuracy\") - previsores_catboost, alvo_catboost"
   ]
  }
 ],
 "metadata": {
  "colab": {
   "authorship_tag": "ABX9TyMe0YJwv9m9c/gj/ziSMDB1",
   "mount_file_id": "1r7SQZXDD61Fh4sxth3Z6C6Ny3LgNte-i",
   "provenance": []
  },
  "kernelspec": {
   "display_name": "Python 3 (ipykernel)",
   "language": "python",
   "name": "python3"
  },
  "language_info": {
   "codemirror_mode": {
    "name": "ipython",
    "version": 3
   },
   "file_extension": ".py",
   "mimetype": "text/x-python",
   "name": "python",
   "nbconvert_exporter": "python",
   "pygments_lexer": "ipython3",
   "version": "3.11.7"
  }
 },
 "nbformat": 4,
 "nbformat_minor": 4
}
